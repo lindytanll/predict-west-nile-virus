{
 "cells": [
  {
   "cell_type": "markdown",
   "id": "17eb5c7b",
   "metadata": {},
   "source": [
    "# Project 4: Predict West Nile Virus\n",
    "### Section 6. Model Tuning & Evaluation"
   ]
  },
  {
   "cell_type": "markdown",
   "id": "b70e632a",
   "metadata": {},
   "source": [
    "## Problem Statement\n",
    "\n",
    "1. As an employee of Disease And Treatment Agency, division of Societal Cures In Epidemiology and New Creative Engineering (DATA-SCIENCE), we are tasked to better understand the mosquito population and advise on appropriate interventions which are beneficial and cost-effective for the city.\n",
    "\n",
    "\n",
    "2. Through this project, we hope to:\n",
    "- Identify features which are most important to predict presence of West Nile Virus (which can be done by ranking the coefficients of each feature in a logistic regression model)\n",
    "- Predict the probability of West Nile Virus by location to provide decision makers an effective plan to deploy pesticides throughout the city, which consequently can help to reduce cost."
   ]
  },
  {
   "cell_type": "markdown",
   "id": "ae082b06",
   "metadata": {},
   "source": [
    "## Import Libraries"
   ]
  },
  {
   "cell_type": "code",
   "execution_count": 1,
   "id": "7909f27f",
   "metadata": {},
   "outputs": [],
   "source": [
    "#!pip install shapely\n",
    "import pandas as pd\n",
    "import matplotlib.pyplot as plt\n",
    "import seaborn as sns\n",
    "import numpy as np\n",
    "# from shapely import geometry\n",
    "# from shapely.geometry import Point, Polygon\n",
    "# import geopandas as gpd\n",
    "# from datetime import timedelta\n",
    "# import math\n",
    "\n",
    "from sklearn.preprocessing import StandardScaler, PolynomialFeatures\n",
    "from sklearn.model_selection import train_test_split, GridSearchCV, RandomizedSearchCV, StratifiedKFold\n",
    "from sklearn.pipeline import Pipeline\n",
    "from sklearn.linear_model import LogisticRegression\n",
    "from sklearn.naive_bayes import MultinomialNB\n",
    "from sklearn.ensemble import RandomForestClassifier, ExtraTreesClassifier\n",
    "from sklearn.svm import SVC\n",
    "from sklearn.ensemble import GradientBoostingClassifier, AdaBoostClassifier, VotingClassifier\n",
    "from sklearn.tree import DecisionTreeClassifier\n",
    "from sklearn import metrics\n",
    "from sklearn.metrics import (confusion_matrix, plot_confusion_matrix, classification_report, \n",
    "                             plot_roc_curve, roc_auc_score, accuracy_score, precision_score, \n",
    "                             recall_score, f1_score) #precision_recall_curve\n",
    "from imblearn.over_sampling import SMOTE"
   ]
  },
  {
   "cell_type": "markdown",
   "id": "d9c25ebe",
   "metadata": {},
   "source": [
    "## Load Data"
   ]
  },
  {
   "cell_type": "code",
   "execution_count": null,
   "id": "4ab149da",
   "metadata": {},
   "outputs": [],
   "source": [
    "# Load datasets\n",
    "df = pd.read_csv('../data/final_df.csv', index_col='Unnamed: 0')http://localhost:8888/notebooks/project-4-group/code/6.%20Model%20Tuning%20and%20Evaluation.ipynb#Metrics-to-Evaluate-Models"
   ]
  },
  {
   "cell_type": "markdown",
   "id": "bdc1a875",
   "metadata": {},
   "source": [
    "### Metrics to Evaluate Models"
   ]
  },
  {
   "cell_type": "code",
   "execution_count": 3,
   "id": "74cd3281",
   "metadata": {},
   "outputs": [],
   "source": [
    "# Creating a summary dataframe.\n",
    "summary_df = pd.DataFrame(columns=[\n",
    "    'model', \n",
    "    'best_score', \n",
    "    'train_score',\n",
    "    'holdout_score',\n",
    "    'sensitivity',\n",
    "    'specificity',\n",
    "    'precision',\n",
    "    'f1_score',\n",
    "    'best_params', \n",
    "])"
   ]
  },
  {
   "cell_type": "code",
   "execution_count": 4,
   "id": "39977633",
   "metadata": {},
   "outputs": [],
   "source": [
    "def model_metrics(gs, X_train, y_train, X_test, y_test, modelname):\n",
    "    '''Generates confusion matrix and adds scores to summary_df'''\n",
    "    \n",
    "    #Generate confusion matrix\n",
    "    y_pred = gs.predict(X_test)\n",
    "    confusion_matrix(y_test, # True values.\n",
    "                     y_pred)  # Predicted values.\n",
    "    tn, fp, fn, tp = confusion_matrix(y_test, y_pred).ravel();\n",
    "    y_train_pred_prob = gs.predict_proba(X_train)[:,1]\n",
    "    y_test_pred_prob = gs.predict_proba(X_test)[:,1]\n",
    "    \n",
    "    summary_df_rows = summary_df.shape[0]\n",
    "    # Adding the scores into summary_df\n",
    "    summary_df.loc[summary_df_rows] = [\n",
    "        modelname,\n",
    "        #'CountVec/LogisticRegression',\n",
    "        round(gs.best_score_, 3),\n",
    "        round(metrics.roc_auc_score(y_train, y_train_pred_prob),3),\n",
    "        round(metrics.roc_auc_score(y_test, y_test_pred_prob),3),\n",
    "        round(metrics.recall_score(y_test, y_pred),3),\n",
    "        round(tn/(tn+fp),3),\n",
    "        round(tp / (tp + fp), 3),\n",
    "        round(metrics.f1_score(y_test, y_pred),3),\n",
    "        str(gs.best_params_),\n",
    "    ]\n",
    "    \n",
    "    \n",
    "    \n",
    "    # Plot Confusion Matrix\n",
    "    plot_confusion_matrix(gs, X_test, y_test, cmap='Blues', \n",
    "                          display_labels=['WNV Present', 'WNV Not Present'],\n",
    "                          normalize='true');  \n",
    "    plt.title(label=modelname, fontsize=14)\n",
    "    plt.grid(False)"
   ]
  },
  {
   "cell_type": "code",
   "execution_count": 5,
   "id": "d59de29d",
   "metadata": {},
   "outputs": [],
   "source": [
    "def model_metrics_logreg(gs, X_train, y_train, X_test, y_test, modelname):\n",
    "    '''Generates scores and add to summary_df'''\n",
    "    y_pred = gs.predict(X_test)\n",
    "    \n",
    "    summary_df_rows = summary_df.shape[0]\n",
    "    summary_df.loc[summary_df_rows] = [\n",
    "    modelname,\n",
    "    '',\n",
    "    round(gs.score(X_train, y_train), 3),\n",
    "    round(gs.score(X_test, y_test), 3),\n",
    "    # round(metrics.roc_auc_score(y_train, y_train_pred_prob),3),\n",
    "    # round(metrics.roc_auc_score(y_test, y_test_pred_prob),3),\n",
    "    round(metrics.recall_score(y_test, y_pred),3),\n",
    "    round(tn/(tn+fp),3),\n",
    "    round(tp / (tp + fp), 3),\n",
    "    round(metrics.f1_score(y_test, y_pred),3),\n",
    "    '',\n",
    "]"
   ]
  },
  {
   "cell_type": "markdown",
   "id": "d72ba4ba",
   "metadata": {},
   "source": [
    "### Drop Day of week, resultdir"
   ]
  },
  {
   "cell_type": "code",
   "execution_count": 72,
   "id": "df0b6335",
   "metadata": {},
   "outputs": [],
   "source": [
    "df2 = df.copy()"
   ]
  },
  {
   "cell_type": "code",
   "execution_count": 93,
   "id": "81a7b434",
   "metadata": {},
   "outputs": [],
   "source": [
    "drop_col = ['week_23', 'week_24', 'week_25', 'week_26', 'week_27', 'week_28', 'week_29', \n",
    "                    'week_30', 'week_31', 'week_32', 'week_33', 'week_34', 'week_35', 'week_36', \n",
    "                    'week_37', 'week_38', 'week_39', 'week_40', 'week_41', 'year_2008', 'year_2009', \n",
    "                    'year_2010', 'year_2011', 'year_2012', 'year_2013', 'year_2014', \n",
    "                    'resultdir',\n",
    "                    'dayofweek_1', 'dayofweek_2', 'dayofweek_3', 'dayofweek_4'\n",
    "                   \n",
    "                   ]"
   ]
  },
  {
   "cell_type": "code",
   "execution_count": 73,
   "id": "047b8b4d",
   "metadata": {},
   "outputs": [],
   "source": [
    "df2.drop(columns = drop_col, inplace = True)"
   ]
  },
  {
   "cell_type": "code",
   "execution_count": 74,
   "id": "0f3ad843",
   "metadata": {},
   "outputs": [
    {
     "data": {
      "text/plain": [
       "Index(['latitude', 'longitude', 'tavg', 'preciptotal', 'stnpressure',\n",
       "       'avgspeed', 'is_spray', 'stnpressure_7', 'stnpressure_10',\n",
       "       'preciptotal_7',\n",
       "       ...\n",
       "       'codesum_TSRA FG+ BR HZ', 'codesum_TSRA RA', 'codesum_TSRA RA BR',\n",
       "       'codesum_TSRA RA BR HZ', 'codesum_TSRA RA BR HZ VCTS',\n",
       "       'codesum_TSRA RA BR VCTS', 'codesum_TSRA RA VCTS', 'codesum_VCTS',\n",
       "       'wnvpresent', 'dataset'],\n",
       "      dtype='object', length=209)"
      ]
     },
     "execution_count": 74,
     "metadata": {},
     "output_type": "execute_result"
    }
   ],
   "source": [
    "df2.columns"
   ]
  },
  {
   "cell_type": "code",
   "execution_count": 75,
   "id": "782e9df8",
   "metadata": {},
   "outputs": [
    {
     "name": "stdout",
     "output_type": "stream",
     "text": [
      "(8304, 209)\n",
      "(43035, 209)\n"
     ]
    }
   ],
   "source": [
    "train2 = df2[df2['dataset']=='train'].copy()\n",
    "test2 = df2[df2['dataset']=='test'].copy()\n",
    "print(train2.shape)\n",
    "print(test2.shape)"
   ]
  },
  {
   "cell_type": "code",
   "execution_count": 76,
   "id": "14402f67",
   "metadata": {},
   "outputs": [],
   "source": [
    "# Split train data into X (all features except wnvpresent) and y (wnvpresent)\n",
    "features = [col for col in train2.columns if col != 'wnvpresent']\n",
    "X2 = train2[features]\n",
    "y2 = train2['wnvpresent']"
   ]
  },
  {
   "cell_type": "code",
   "execution_count": 77,
   "id": "13b9548b",
   "metadata": {},
   "outputs": [
    {
     "name": "stderr",
     "output_type": "stream",
     "text": [
      "C:\\Users\\deang\\anaconda3\\envs\\dsi27tf\\lib\\site-packages\\pandas\\core\\frame.py:4913: SettingWithCopyWarning: \n",
      "A value is trying to be set on a copy of a slice from a DataFrame\n",
      "\n",
      "See the caveats in the documentation: https://pandas.pydata.org/pandas-docs/stable/user_guide/indexing.html#returning-a-view-versus-a-copy\n",
      "  errors=errors,\n"
     ]
    }
   ],
   "source": [
    "X2.drop(columns = [\"dataset\"],inplace = True)"
   ]
  },
  {
   "cell_type": "code",
   "execution_count": 78,
   "id": "bfa57092",
   "metadata": {},
   "outputs": [],
   "source": [
    "# Further split train data into train and holdout data\n",
    "X_train2, X_holdout2, y_train2, y_holdout2 = train_test_split(\n",
    "    X2, \n",
    "    y2,\n",
    "    stratify = y2,\n",
    "    random_state=42\n",
    ")"
   ]
  },
  {
   "cell_type": "code",
   "execution_count": 79,
   "id": "d0c88499",
   "metadata": {},
   "outputs": [],
   "source": [
    "# Scale our data\n",
    "ss = StandardScaler()\n",
    "Xs_train2 = ss.fit_transform(X_train2)\n",
    "Xs_holdout2 = ss.transform(X_holdout2)"
   ]
  },
  {
   "cell_type": "code",
   "execution_count": 80,
   "id": "d80d39aa",
   "metadata": {},
   "outputs": [],
   "source": [
    "# create synthetic data for train set\n",
    "sm = SMOTE()\n",
    "Xsm_train2, ysm_train2 = sm.fit_resample(Xs_train2, y_train2)"
   ]
  },
  {
   "cell_type": "code",
   "execution_count": 81,
   "id": "fd770746",
   "metadata": {},
   "outputs": [
    {
     "name": "stdout",
     "output_type": "stream",
     "text": [
      "Logistic Regression Intercept: [-2.36354027]\n"
     ]
    }
   ],
   "source": [
    "logreg2 = LogisticRegression(max_iter=10_000)\n",
    "\n",
    "# Fit model\n",
    "logreg2.fit(Xsm_train2, ysm_train2)\n",
    "\n",
    "print(f'Logistic Regression Intercept: {logreg2.intercept_}')"
   ]
  },
  {
   "cell_type": "code",
   "execution_count": 82,
   "id": "a3fad5c8",
   "metadata": {},
   "outputs": [
    {
     "data": {
      "text/plain": [
       "(0.8152081563296517, 0.7422928709055877)"
      ]
     },
     "execution_count": 82,
     "metadata": {},
     "output_type": "execute_result"
    }
   ],
   "source": [
    "#logreg of no-week data, with SMOTE\n",
    "logreg2.score(Xsm_train2, ysm_train2), logreg2.score(Xs_holdout2, y_holdout2)"
   ]
  },
  {
   "cell_type": "code",
   "execution_count": 83,
   "id": "f82329db",
   "metadata": {},
   "outputs": [],
   "source": [
    "# Get predictions, confusion matrix\n",
    "preds_logreg_noweek = logreg2.predict(Xs_holdout2)\n",
    "# Save confusion matrix values\n",
    "tn, fp, fn, tp = confusion_matrix(y_holdout2, preds_logreg_noweek).ravel()\n",
    "# Calculate the specificity, sensitivity, precision, f1 score\n",
    "acc = (tn + tp) / (tn + fp + fn + tp)\n",
    "sens = tp / (tp + fn)\n",
    "spec = tn / (tn + fp)\n",
    "prec = tp / (tp + fp)\n",
    "f1 = 2 * (prec*sens) / (prec + sens)\n",
    "\n"
   ]
  },
  {
   "cell_type": "code",
   "execution_count": 84,
   "id": "0d82738d",
   "metadata": {},
   "outputs": [
    {
     "data": {
      "image/png": "[encoded data removed]",
      "text/plain": [
       "<Figure size 432x288 with 2 Axes>"
      ]
     },
     "metadata": {
      "needs_background": "light"
     },
     "output_type": "display_data"
    }
   ],
   "source": [
    "con3 = confusion_matrix(y_holdout2, preds_logreg_noweek)\n",
    "\n",
    "ax = sns.heatmap(con3, annot=True, cmap='Blues')\n",
    "\n",
    "ax.set_title('Log Reg SMOTE no weeks');\n",
    "ax.set_xlabel('\\nPredicted Values')\n",
    "ax.set_ylabel('Actual Values ');\n",
    "\n",
    "## Ticket labels - List must be in alphabetical order\n",
    "ax.xaxis.set_ticklabels(['False','True'])\n",
    "ax.yaxis.set_ticklabels(['False','True'])\n",
    "\n",
    "## Display the visualization of the Confusion Matrix.\n",
    "plt.show()"
   ]
  },
  {
   "cell_type": "code",
   "execution_count": 85,
   "id": "9aaf735a",
   "metadata": {},
   "outputs": [],
   "source": [
    "# no weeks or years, with smote"
   ]
  },
  {
   "cell_type": "code",
   "execution_count": 86,
   "id": "ae29f526",
   "metadata": {},
   "outputs": [
    {
     "data": {
      "text/plain": [
       "0.7422928709055877"
      ]
     },
     "execution_count": 86,
     "metadata": {},
     "output_type": "execute_result"
    }
   ],
   "source": [
    "acc"
   ]
  },
  {
   "cell_type": "code",
   "execution_count": 87,
   "id": "434fca35",
   "metadata": {},
   "outputs": [
    {
     "data": {
      "text/plain": [
       "0.5877192982456141"
      ]
     },
     "execution_count": 87,
     "metadata": {},
     "output_type": "execute_result"
    }
   ],
   "source": [
    "sens"
   ]
  },
  {
   "cell_type": "code",
   "execution_count": 88,
   "id": "1ea0b5e5",
   "metadata": {},
   "outputs": [
    {
     "data": {
      "text/plain": [
       "0.7512742099898063"
      ]
     },
     "execution_count": 88,
     "metadata": {},
     "output_type": "execute_result"
    }
   ],
   "source": [
    "spec"
   ]
  },
  {
   "cell_type": "code",
   "execution_count": 89,
   "id": "8a29e2a9",
   "metadata": {},
   "outputs": [
    {
     "data": {
      "text/plain": [
       "0.12072072072072072"
      ]
     },
     "execution_count": 89,
     "metadata": {},
     "output_type": "execute_result"
    }
   ],
   "source": [
    "prec"
   ]
  },
  {
   "cell_type": "code",
   "execution_count": 90,
   "id": "5f3d64e2",
   "metadata": {},
   "outputs": [
    {
     "data": {
      "text/plain": [
       "0.20029895366218237"
      ]
     },
     "execution_count": 90,
     "metadata": {},
     "output_type": "execute_result"
    }
   ],
   "source": [
    "f1"
   ]
  },
  {
   "cell_type": "code",
   "execution_count": 91,
   "id": "64ccb93f",
   "metadata": {},
   "outputs": [],
   "source": [
    "model_metrics_logreg(logreg2, Xsm_train2, ysm_train2, Xs_holdout2, y_holdout2, \n",
    "                     'drop resultdir')"
   ]
  },
  {
   "cell_type": "code",
   "execution_count": 92,
   "id": "6afd64d8",
   "metadata": {},
   "outputs": [
    {
     "data": {
      "text/html": [
       "<div>\n",
       "<style scoped>\n",
       "    .dataframe tbody tr th:only-of-type {\n",
       "        vertical-align: middle;\n",
       "    }\n",
       "\n",
       "    .dataframe tbody tr th {\n",
       "        vertical-align: top;\n",
       "    }\n",
       "\n",
       "    .dataframe thead th {\n",
       "        text-align: right;\n",
       "    }\n",
       "</style>\n",
       "<table border=\"1\" class=\"dataframe\">\n",
       "  <thead>\n",
       "    <tr style=\"text-align: right;\">\n",
       "      <th></th>\n",
       "      <th>model</th>\n",
       "      <th>best_score</th>\n",
       "      <th>train_score</th>\n",
       "      <th>holdout_score</th>\n",
       "      <th>sensitivity</th>\n",
       "      <th>specificity</th>\n",
       "      <th>precision</th>\n",
       "      <th>f1_score</th>\n",
       "      <th>best_params</th>\n",
       "    </tr>\n",
       "  </thead>\n",
       "  <tbody>\n",
       "    <tr>\n",
       "      <th>0</th>\n",
       "      <td>SMOTE Logistic Regression</td>\n",
       "      <td></td>\n",
       "      <td>0.861</td>\n",
       "      <td>0.793</td>\n",
       "      <td>0.640</td>\n",
       "      <td>0.802</td>\n",
       "      <td>0.158</td>\n",
       "      <td>0.253</td>\n",
       "      <td></td>\n",
       "    </tr>\n",
       "    <tr>\n",
       "      <th>1</th>\n",
       "      <td>drop week and year</td>\n",
       "      <td></td>\n",
       "      <td>0.826</td>\n",
       "      <td>0.758</td>\n",
       "      <td>0.632</td>\n",
       "      <td>0.765</td>\n",
       "      <td>0.135</td>\n",
       "      <td>0.223</td>\n",
       "      <td></td>\n",
       "    </tr>\n",
       "    <tr>\n",
       "      <th>2</th>\n",
       "      <td>drop dayofweek</td>\n",
       "      <td></td>\n",
       "      <td>0.820</td>\n",
       "      <td>0.748</td>\n",
       "      <td>0.579</td>\n",
       "      <td>0.757</td>\n",
       "      <td>0.122</td>\n",
       "      <td>0.201</td>\n",
       "      <td></td>\n",
       "    </tr>\n",
       "    <tr>\n",
       "      <th>3</th>\n",
       "      <td>drop resultdir</td>\n",
       "      <td></td>\n",
       "      <td>0.815</td>\n",
       "      <td>0.742</td>\n",
       "      <td>0.588</td>\n",
       "      <td>0.751</td>\n",
       "      <td>0.121</td>\n",
       "      <td>0.200</td>\n",
       "      <td></td>\n",
       "    </tr>\n",
       "  </tbody>\n",
       "</table>\n",
       "</div>"
      ],
      "text/plain": [
       "                       model best_score  train_score  holdout_score  \\\n",
       "0  SMOTE Logistic Regression                   0.861          0.793   \n",
       "1         drop week and year                   0.826          0.758   \n",
       "2             drop dayofweek                   0.820          0.748   \n",
       "3             drop resultdir                   0.815          0.742   \n",
       "\n",
       "   sensitivity  specificity  precision  f1_score best_params  \n",
       "0        0.640        0.802      0.158     0.253              \n",
       "1        0.632        0.765      0.135     0.223              \n",
       "2        0.579        0.757      0.122     0.201              \n",
       "3        0.588        0.751      0.121     0.200              "
      ]
     },
     "execution_count": 92,
     "metadata": {},
     "output_type": "execute_result"
    }
   ],
   "source": [
    "summary_df"
   ]
  },
  {
   "cell_type": "markdown",
   "id": "bcb96b0c",
   "metadata": {},
   "source": [
    "#### Interaction Terms for Weather"
   ]
  },
  {
   "cell_type": "markdown",
   "id": "81053efb",
   "metadata": {},
   "source": [
    "We see that preciptotal_10 is positively correlated but weaker than expected. From our EDA we see that there is a combination of rain, wind and temperature factors is a predictor of WNV. \n",
    "\n",
    "Hence we do a interation terms to see if we can capture the confluence of these factors to improve prediction."
   ]
  },
  {
   "cell_type": "code",
   "execution_count": 124,
   "id": "7f9e390e",
   "metadata": {},
   "outputs": [],
   "source": [
    "# Define features to generate interaction terms\n",
    "features = ['tavg','preciptotal_10','stnpressure','avgspeed']\n",
    "X_features = df2[features]"
   ]
  },
  {
   "cell_type": "code",
   "execution_count": 125,
   "id": "c73eecf6",
   "metadata": {},
   "outputs": [],
   "source": [
    "# Instantiate PolynomialFeatures and transform\n",
    "poly = PolynomialFeatures(degree=2, include_bias=False)\n",
    "X_poly = poly.fit_transform(X_features)"
   ]
  },
  {
   "cell_type": "code",
   "execution_count": 126,
   "id": "81b214ac",
   "metadata": {},
   "outputs": [],
   "source": [
    "# Create df\n",
    "X_poly_df = pd.DataFrame(X_poly, columns=poly.get_feature_names_out(features))"
   ]
  },
  {
   "cell_type": "code",
   "execution_count": 128,
   "id": "c4a92b97",
   "metadata": {},
   "outputs": [],
   "source": [
    "# Drop original feature columns before concatenating\n",
    "X_poly_df.drop(columns=features,inplace=True)"
   ]
  },
  {
   "cell_type": "code",
   "execution_count": 129,
   "id": "ef3b6ac8",
   "metadata": {},
   "outputs": [],
   "source": [
    "# Concatnate interaction terms to data\n",
    "df2 = pd.concat([df2,X_poly_df], axis=1)"
   ]
  },
  {
   "cell_type": "code",
   "execution_count": 151,
   "id": "89fe0d9b",
   "metadata": {},
   "outputs": [
    {
     "data": {
      "text/html": [
       "<div>\n",
       "<style scoped>\n",
       "    .dataframe tbody tr th:only-of-type {\n",
       "        vertical-align: middle;\n",
       "    }\n",
       "\n",
       "    .dataframe tbody tr th {\n",
       "        vertical-align: top;\n",
       "    }\n",
       "\n",
       "    .dataframe thead th {\n",
       "        text-align: right;\n",
       "    }\n",
       "</style>\n",
       "<table border=\"1\" class=\"dataframe\">\n",
       "  <thead>\n",
       "    <tr style=\"text-align: right;\">\n",
       "      <th></th>\n",
       "      <th>latitude</th>\n",
       "      <th>longitude</th>\n",
       "      <th>tavg</th>\n",
       "      <th>preciptotal</th>\n",
       "      <th>stnpressure</th>\n",
       "      <th>avgspeed</th>\n",
       "      <th>is_spray</th>\n",
       "      <th>stnpressure_7</th>\n",
       "      <th>stnpressure_10</th>\n",
       "      <th>preciptotal_7</th>\n",
       "      <th>...</th>\n",
       "      <th>tavg^2</th>\n",
       "      <th>tavg preciptotal_10</th>\n",
       "      <th>tavg stnpressure</th>\n",
       "      <th>tavg avgspeed</th>\n",
       "      <th>preciptotal_10^2</th>\n",
       "      <th>preciptotal_10 stnpressure</th>\n",
       "      <th>preciptotal_10 avgspeed</th>\n",
       "      <th>stnpressure^2</th>\n",
       "      <th>stnpressure avgspeed</th>\n",
       "      <th>avgspeed^2</th>\n",
       "    </tr>\n",
       "  </thead>\n",
       "  <tbody>\n",
       "    <tr>\n",
       "      <th>0</th>\n",
       "      <td>41.867108</td>\n",
       "      <td>-87.654224</td>\n",
       "      <td>74</td>\n",
       "      <td>0.00</td>\n",
       "      <td>29.39</td>\n",
       "      <td>6.5</td>\n",
       "      <td>0.0</td>\n",
       "      <td>29.34</td>\n",
       "      <td>29.34</td>\n",
       "      <td>0.0</td>\n",
       "      <td>...</td>\n",
       "      <td>5476.0</td>\n",
       "      <td>0.0</td>\n",
       "      <td>2174.86</td>\n",
       "      <td>481.0</td>\n",
       "      <td>0.0</td>\n",
       "      <td>0.0</td>\n",
       "      <td>0.0</td>\n",
       "      <td>863.7721</td>\n",
       "      <td>191.035</td>\n",
       "      <td>42.25</td>\n",
       "    </tr>\n",
       "    <tr>\n",
       "      <th>1</th>\n",
       "      <td>41.867108</td>\n",
       "      <td>-87.654224</td>\n",
       "      <td>74</td>\n",
       "      <td>0.00</td>\n",
       "      <td>29.39</td>\n",
       "      <td>6.5</td>\n",
       "      <td>0.0</td>\n",
       "      <td>29.34</td>\n",
       "      <td>29.34</td>\n",
       "      <td>0.0</td>\n",
       "      <td>...</td>\n",
       "      <td>5476.0</td>\n",
       "      <td>0.0</td>\n",
       "      <td>2174.86</td>\n",
       "      <td>481.0</td>\n",
       "      <td>0.0</td>\n",
       "      <td>0.0</td>\n",
       "      <td>0.0</td>\n",
       "      <td>863.7721</td>\n",
       "      <td>191.035</td>\n",
       "      <td>42.25</td>\n",
       "    </tr>\n",
       "    <tr>\n",
       "      <th>2</th>\n",
       "      <td>41.862292</td>\n",
       "      <td>-87.648860</td>\n",
       "      <td>74</td>\n",
       "      <td>0.00</td>\n",
       "      <td>29.39</td>\n",
       "      <td>6.5</td>\n",
       "      <td>0.0</td>\n",
       "      <td>29.34</td>\n",
       "      <td>29.34</td>\n",
       "      <td>0.0</td>\n",
       "      <td>...</td>\n",
       "      <td>5476.0</td>\n",
       "      <td>0.0</td>\n",
       "      <td>2174.86</td>\n",
       "      <td>481.0</td>\n",
       "      <td>0.0</td>\n",
       "      <td>0.0</td>\n",
       "      <td>0.0</td>\n",
       "      <td>863.7721</td>\n",
       "      <td>191.035</td>\n",
       "      <td>42.25</td>\n",
       "    </tr>\n",
       "    <tr>\n",
       "      <th>3</th>\n",
       "      <td>41.896282</td>\n",
       "      <td>-87.655232</td>\n",
       "      <td>74</td>\n",
       "      <td>0.00</td>\n",
       "      <td>29.39</td>\n",
       "      <td>6.5</td>\n",
       "      <td>0.0</td>\n",
       "      <td>29.34</td>\n",
       "      <td>29.34</td>\n",
       "      <td>0.0</td>\n",
       "      <td>...</td>\n",
       "      <td>5476.0</td>\n",
       "      <td>0.0</td>\n",
       "      <td>2174.86</td>\n",
       "      <td>481.0</td>\n",
       "      <td>0.0</td>\n",
       "      <td>0.0</td>\n",
       "      <td>0.0</td>\n",
       "      <td>863.7721</td>\n",
       "      <td>191.035</td>\n",
       "      <td>42.25</td>\n",
       "    </tr>\n",
       "    <tr>\n",
       "      <th>4</th>\n",
       "      <td>41.907645</td>\n",
       "      <td>-87.760886</td>\n",
       "      <td>74</td>\n",
       "      <td>0.00</td>\n",
       "      <td>29.39</td>\n",
       "      <td>6.5</td>\n",
       "      <td>0.0</td>\n",
       "      <td>29.34</td>\n",
       "      <td>29.34</td>\n",
       "      <td>0.0</td>\n",
       "      <td>...</td>\n",
       "      <td>5476.0</td>\n",
       "      <td>0.0</td>\n",
       "      <td>2174.86</td>\n",
       "      <td>481.0</td>\n",
       "      <td>0.0</td>\n",
       "      <td>0.0</td>\n",
       "      <td>0.0</td>\n",
       "      <td>863.7721</td>\n",
       "      <td>191.035</td>\n",
       "      <td>42.25</td>\n",
       "    </tr>\n",
       "    <tr>\n",
       "      <th>...</th>\n",
       "      <td>...</td>\n",
       "      <td>...</td>\n",
       "      <td>...</td>\n",
       "      <td>...</td>\n",
       "      <td>...</td>\n",
       "      <td>...</td>\n",
       "      <td>...</td>\n",
       "      <td>...</td>\n",
       "      <td>...</td>\n",
       "      <td>...</td>\n",
       "      <td>...</td>\n",
       "      <td>...</td>\n",
       "      <td>...</td>\n",
       "      <td>...</td>\n",
       "      <td>...</td>\n",
       "      <td>...</td>\n",
       "      <td>...</td>\n",
       "      <td>...</td>\n",
       "      <td>...</td>\n",
       "      <td>...</td>\n",
       "      <td>...</td>\n",
       "    </tr>\n",
       "    <tr>\n",
       "      <th>51334</th>\n",
       "      <td>41.719140</td>\n",
       "      <td>-87.669539</td>\n",
       "      <td>68</td>\n",
       "      <td>0.32</td>\n",
       "      <td>29.03</td>\n",
       "      <td>7.9</td>\n",
       "      <td>0.0</td>\n",
       "      <td>29.52</td>\n",
       "      <td>29.52</td>\n",
       "      <td>0.0</td>\n",
       "      <td>...</td>\n",
       "      <td>4624.0</td>\n",
       "      <td>0.0</td>\n",
       "      <td>1974.04</td>\n",
       "      <td>537.2</td>\n",
       "      <td>0.0</td>\n",
       "      <td>0.0</td>\n",
       "      <td>0.0</td>\n",
       "      <td>842.7409</td>\n",
       "      <td>229.337</td>\n",
       "      <td>62.41</td>\n",
       "    </tr>\n",
       "    <tr>\n",
       "      <th>51335</th>\n",
       "      <td>41.719140</td>\n",
       "      <td>-87.669539</td>\n",
       "      <td>68</td>\n",
       "      <td>0.32</td>\n",
       "      <td>29.03</td>\n",
       "      <td>7.9</td>\n",
       "      <td>0.0</td>\n",
       "      <td>29.52</td>\n",
       "      <td>29.52</td>\n",
       "      <td>0.0</td>\n",
       "      <td>...</td>\n",
       "      <td>4624.0</td>\n",
       "      <td>0.0</td>\n",
       "      <td>1974.04</td>\n",
       "      <td>537.2</td>\n",
       "      <td>0.0</td>\n",
       "      <td>0.0</td>\n",
       "      <td>0.0</td>\n",
       "      <td>842.7409</td>\n",
       "      <td>229.337</td>\n",
       "      <td>62.41</td>\n",
       "    </tr>\n",
       "    <tr>\n",
       "      <th>51336</th>\n",
       "      <td>41.925652</td>\n",
       "      <td>-87.633590</td>\n",
       "      <td>68</td>\n",
       "      <td>0.32</td>\n",
       "      <td>29.03</td>\n",
       "      <td>7.9</td>\n",
       "      <td>0.0</td>\n",
       "      <td>29.52</td>\n",
       "      <td>29.52</td>\n",
       "      <td>0.0</td>\n",
       "      <td>...</td>\n",
       "      <td>4624.0</td>\n",
       "      <td>0.0</td>\n",
       "      <td>1974.04</td>\n",
       "      <td>537.2</td>\n",
       "      <td>0.0</td>\n",
       "      <td>0.0</td>\n",
       "      <td>0.0</td>\n",
       "      <td>842.7409</td>\n",
       "      <td>229.337</td>\n",
       "      <td>62.41</td>\n",
       "    </tr>\n",
       "    <tr>\n",
       "      <th>51337</th>\n",
       "      <td>41.925652</td>\n",
       "      <td>-87.633590</td>\n",
       "      <td>68</td>\n",
       "      <td>0.32</td>\n",
       "      <td>29.03</td>\n",
       "      <td>7.9</td>\n",
       "      <td>0.0</td>\n",
       "      <td>29.52</td>\n",
       "      <td>29.52</td>\n",
       "      <td>0.0</td>\n",
       "      <td>...</td>\n",
       "      <td>4624.0</td>\n",
       "      <td>0.0</td>\n",
       "      <td>1974.04</td>\n",
       "      <td>537.2</td>\n",
       "      <td>0.0</td>\n",
       "      <td>0.0</td>\n",
       "      <td>0.0</td>\n",
       "      <td>842.7409</td>\n",
       "      <td>229.337</td>\n",
       "      <td>62.41</td>\n",
       "    </tr>\n",
       "    <tr>\n",
       "      <th>51338</th>\n",
       "      <td>41.925652</td>\n",
       "      <td>-87.633590</td>\n",
       "      <td>68</td>\n",
       "      <td>0.32</td>\n",
       "      <td>29.03</td>\n",
       "      <td>7.9</td>\n",
       "      <td>0.0</td>\n",
       "      <td>29.52</td>\n",
       "      <td>29.52</td>\n",
       "      <td>0.0</td>\n",
       "      <td>...</td>\n",
       "      <td>4624.0</td>\n",
       "      <td>0.0</td>\n",
       "      <td>1974.04</td>\n",
       "      <td>537.2</td>\n",
       "      <td>0.0</td>\n",
       "      <td>0.0</td>\n",
       "      <td>0.0</td>\n",
       "      <td>842.7409</td>\n",
       "      <td>229.337</td>\n",
       "      <td>62.41</td>\n",
       "    </tr>\n",
       "  </tbody>\n",
       "</table>\n",
       "<p>51339 rows × 219 columns</p>\n",
       "</div>"
      ],
      "text/plain": [
       "        latitude  longitude  tavg  preciptotal  stnpressure  avgspeed  \\\n",
       "0      41.867108 -87.654224    74         0.00        29.39       6.5   \n",
       "1      41.867108 -87.654224    74         0.00        29.39       6.5   \n",
       "2      41.862292 -87.648860    74         0.00        29.39       6.5   \n",
       "3      41.896282 -87.655232    74         0.00        29.39       6.5   \n",
       "4      41.907645 -87.760886    74         0.00        29.39       6.5   \n",
       "...          ...        ...   ...          ...          ...       ...   \n",
       "51334  41.719140 -87.669539    68         0.32        29.03       7.9   \n",
       "51335  41.719140 -87.669539    68         0.32        29.03       7.9   \n",
       "51336  41.925652 -87.633590    68         0.32        29.03       7.9   \n",
       "51337  41.925652 -87.633590    68         0.32        29.03       7.9   \n",
       "51338  41.925652 -87.633590    68         0.32        29.03       7.9   \n",
       "\n",
       "       is_spray  stnpressure_7  stnpressure_10  preciptotal_7  ...  tavg^2  \\\n",
       "0           0.0          29.34           29.34            0.0  ...  5476.0   \n",
       "1           0.0          29.34           29.34            0.0  ...  5476.0   \n",
       "2           0.0          29.34           29.34            0.0  ...  5476.0   \n",
       "3           0.0          29.34           29.34            0.0  ...  5476.0   \n",
       "4           0.0          29.34           29.34            0.0  ...  5476.0   \n",
       "...         ...            ...             ...            ...  ...     ...   \n",
       "51334       0.0          29.52           29.52            0.0  ...  4624.0   \n",
       "51335       0.0          29.52           29.52            0.0  ...  4624.0   \n",
       "51336       0.0          29.52           29.52            0.0  ...  4624.0   \n",
       "51337       0.0          29.52           29.52            0.0  ...  4624.0   \n",
       "51338       0.0          29.52           29.52            0.0  ...  4624.0   \n",
       "\n",
       "       tavg preciptotal_10  tavg stnpressure  tavg avgspeed  preciptotal_10^2  \\\n",
       "0                      0.0           2174.86          481.0               0.0   \n",
       "1                      0.0           2174.86          481.0               0.0   \n",
       "2                      0.0           2174.86          481.0               0.0   \n",
       "3                      0.0           2174.86          481.0               0.0   \n",
       "4                      0.0           2174.86          481.0               0.0   \n",
       "...                    ...               ...            ...               ...   \n",
       "51334                  0.0           1974.04          537.2               0.0   \n",
       "51335                  0.0           1974.04          537.2               0.0   \n",
       "51336                  0.0           1974.04          537.2               0.0   \n",
       "51337                  0.0           1974.04          537.2               0.0   \n",
       "51338                  0.0           1974.04          537.2               0.0   \n",
       "\n",
       "       preciptotal_10 stnpressure  preciptotal_10 avgspeed  stnpressure^2  \\\n",
       "0                             0.0                      0.0       863.7721   \n",
       "1                             0.0                      0.0       863.7721   \n",
       "2                             0.0                      0.0       863.7721   \n",
       "3                             0.0                      0.0       863.7721   \n",
       "4                             0.0                      0.0       863.7721   \n",
       "...                           ...                      ...            ...   \n",
       "51334                         0.0                      0.0       842.7409   \n",
       "51335                         0.0                      0.0       842.7409   \n",
       "51336                         0.0                      0.0       842.7409   \n",
       "51337                         0.0                      0.0       842.7409   \n",
       "51338                         0.0                      0.0       842.7409   \n",
       "\n",
       "       stnpressure avgspeed  avgspeed^2  \n",
       "0                   191.035       42.25  \n",
       "1                   191.035       42.25  \n",
       "2                   191.035       42.25  \n",
       "3                   191.035       42.25  \n",
       "4                   191.035       42.25  \n",
       "...                     ...         ...  \n",
       "51334               229.337       62.41  \n",
       "51335               229.337       62.41  \n",
       "51336               229.337       62.41  \n",
       "51337               229.337       62.41  \n",
       "51338               229.337       62.41  \n",
       "\n",
       "[51339 rows x 219 columns]"
      ]
     },
     "execution_count": 151,
     "metadata": {},
     "output_type": "execute_result"
    }
   ],
   "source": [
    "df2"
   ]
  },
  {
   "cell_type": "code",
   "execution_count": 159,
   "id": "f77382d2",
   "metadata": {},
   "outputs": [
    {
     "name": "stdout",
     "output_type": "stream",
     "text": [
      "(8304, 239)\n",
      "(43035, 239)\n"
     ]
    }
   ],
   "source": [
    "# Split into train and test (kaggle) data \n",
    "train3 = df2[df2['dataset']=='train'].copy()\n",
    "test3 = df2[df2['dataset']=='test'].copy()\n",
    "print(train.shape)\n",
    "print(test.shape)"
   ]
  },
  {
   "cell_type": "code",
   "execution_count": 160,
   "id": "fcb846c8",
   "metadata": {},
   "outputs": [],
   "source": [
    "train3.drop(columns='dataset', inplace=True)\n",
    "test3.drop(columns='dataset', inplace=True)"
   ]
  },
  {
   "cell_type": "code",
   "execution_count": 163,
   "id": "73ad71b5",
   "metadata": {},
   "outputs": [],
   "source": [
    "# Split train data into X (all features except wnvpresent) and y (wnvpresent)\n",
    "features = [col for col in train3.columns if col != 'wnvpresent']\n",
    "X = train3[features]\n",
    "y = train3['wnvpresent']"
   ]
  },
  {
   "cell_type": "code",
   "execution_count": 169,
   "id": "c1244b9e",
   "metadata": {},
   "outputs": [],
   "source": [
    "# Further split train data into train and holdout data\n",
    "X_train, X_holdout, y_train, y_holdout = train_test_split(\n",
    "    X, \n",
    "    y,\n",
    "    stratify = y,\n",
    "    random_state=42\n",
    ")"
   ]
  },
  {
   "cell_type": "code",
   "execution_count": 170,
   "id": "46cd80e3",
   "metadata": {},
   "outputs": [],
   "source": [
    "# Scale our data\n",
    "ss = StandardScaler()\n",
    "Xs_train = ss.fit_transform(X_train)\n",
    "Xs_holdout = ss.transform(X_holdout)"
   ]
  },
  {
   "cell_type": "code",
   "execution_count": 171,
   "id": "7065def2",
   "metadata": {},
   "outputs": [],
   "source": [
    "# create synthetic data for train set\n",
    "sm = SMOTE()\n",
    "Xsm_train, ysm_train = sm.fit_resample(Xs_train, y_train)"
   ]
  },
  {
   "cell_type": "markdown",
   "id": "bd4aadf6",
   "metadata": {},
   "source": [
    "### Logistics Regression "
   ]
  },
  {
   "cell_type": "code",
   "execution_count": 172,
   "id": "4aaadfef",
   "metadata": {},
   "outputs": [
    {
     "name": "stdout",
     "output_type": "stream",
     "text": [
      "Logistic Regression Intercept: [-2.42268434]\n"
     ]
    }
   ],
   "source": [
    "logreg = LogisticRegression(max_iter=10_000)\n",
    "\n",
    "# Fit model\n",
    "logreg.fit(Xsm_train, ysm_train)\n",
    "\n",
    "print(f'Logistic Regression Intercept: {logreg.intercept_}')"
   ]
  },
  {
   "cell_type": "code",
   "execution_count": 173,
   "id": "081ca294",
   "metadata": {
    "scrolled": false
   },
   "outputs": [
    {
     "data": {
      "text/plain": [
       "(0.8231945624468989, 0.7528901734104047)"
      ]
     },
     "execution_count": 173,
     "metadata": {},
     "output_type": "execute_result"
    }
   ],
   "source": [
    "#logreg of no-week and year data, with SMOTE\n",
    "logreg.score(Xsm_train, ysm_train), logreg.score(Xs_holdout, y_holdout)"
   ]
  },
  {
   "cell_type": "code",
   "execution_count": 180,
   "id": "69317002",
   "metadata": {},
   "outputs": [],
   "source": [
    "# Display Coefficients\n",
    "coefs = pd.DataFrame({'variable':X.columns,\n",
    "                            'coef':logreg.coef_[0],\n",
    "                            'abs_coef':np.abs(logreg.coef_[0])\n",
    "                     })\n",
    "\n",
    "coefs.sort_values('abs_coef', inplace=True, ascending=False)\n",
    "coefs_top20 = coefs.head(20).sort_values('coef', inplace=False, ascending=False)"
   ]
  },
  {
   "cell_type": "code",
   "execution_count": 181,
   "id": "d481d467",
   "metadata": {},
   "outputs": [
    {
     "data": {
      "text/html": [
       "<div>\n",
       "<style scoped>\n",
       "    .dataframe tbody tr th:only-of-type {\n",
       "        vertical-align: middle;\n",
       "    }\n",
       "\n",
       "    .dataframe tbody tr th {\n",
       "        vertical-align: top;\n",
       "    }\n",
       "\n",
       "    .dataframe thead th {\n",
       "        text-align: right;\n",
       "    }\n",
       "</style>\n",
       "<table border=\"1\" class=\"dataframe\">\n",
       "  <thead>\n",
       "    <tr style=\"text-align: right;\">\n",
       "      <th></th>\n",
       "      <th>variable</th>\n",
       "      <th>coef</th>\n",
       "      <th>abs_coef</th>\n",
       "    </tr>\n",
       "  </thead>\n",
       "  <tbody>\n",
       "    <tr>\n",
       "      <th>208</th>\n",
       "      <td>tavg preciptotal_10</td>\n",
       "      <td>1.602162</td>\n",
       "      <td>1.602162</td>\n",
       "    </tr>\n",
       "    <tr>\n",
       "      <th>2</th>\n",
       "      <td>tavg</td>\n",
       "      <td>1.202291</td>\n",
       "      <td>1.202291</td>\n",
       "    </tr>\n",
       "    <tr>\n",
       "      <th>209</th>\n",
       "      <td>tavg stnpressure</td>\n",
       "      <td>1.133484</td>\n",
       "      <td>1.133484</td>\n",
       "    </tr>\n",
       "    <tr>\n",
       "      <th>5</th>\n",
       "      <td>avgspeed</td>\n",
       "      <td>1.096126</td>\n",
       "      <td>1.096126</td>\n",
       "    </tr>\n",
       "    <tr>\n",
       "      <th>171</th>\n",
       "      <td>trap_T900</td>\n",
       "      <td>0.773055</td>\n",
       "      <td>0.773055</td>\n",
       "    </tr>\n",
       "    <tr>\n",
       "      <th>215</th>\n",
       "      <td>stnpressure avgspeed</td>\n",
       "      <td>0.642882</td>\n",
       "      <td>0.642882</td>\n",
       "    </tr>\n",
       "    <tr>\n",
       "      <th>26</th>\n",
       "      <td>trap_T003</td>\n",
       "      <td>0.495133</td>\n",
       "      <td>0.495133</td>\n",
       "    </tr>\n",
       "    <tr>\n",
       "      <th>95</th>\n",
       "      <td>trap_T090</td>\n",
       "      <td>0.454334</td>\n",
       "      <td>0.454334</td>\n",
       "    </tr>\n",
       "    <tr>\n",
       "      <th>45</th>\n",
       "      <td>trap_T028</td>\n",
       "      <td>0.445341</td>\n",
       "      <td>0.445341</td>\n",
       "    </tr>\n",
       "    <tr>\n",
       "      <th>65</th>\n",
       "      <td>trap_T054</td>\n",
       "      <td>0.433719</td>\n",
       "      <td>0.433719</td>\n",
       "    </tr>\n",
       "    <tr>\n",
       "      <th>196</th>\n",
       "      <td>codesum_TSRA</td>\n",
       "      <td>-0.441173</td>\n",
       "      <td>0.441173</td>\n",
       "    </tr>\n",
       "    <tr>\n",
       "      <th>198</th>\n",
       "      <td>codesum_TSRA BR HZ VCTS</td>\n",
       "      <td>-0.469299</td>\n",
       "      <td>0.469299</td>\n",
       "    </tr>\n",
       "    <tr>\n",
       "      <th>3</th>\n",
       "      <td>preciptotal</td>\n",
       "      <td>-0.481363</td>\n",
       "      <td>0.481363</td>\n",
       "    </tr>\n",
       "    <tr>\n",
       "      <th>40</th>\n",
       "      <td>trap_T017</td>\n",
       "      <td>-0.489802</td>\n",
       "      <td>0.489802</td>\n",
       "    </tr>\n",
       "    <tr>\n",
       "      <th>59</th>\n",
       "      <td>trap_T046</td>\n",
       "      <td>-0.492219</td>\n",
       "      <td>0.492219</td>\n",
       "    </tr>\n",
       "    <tr>\n",
       "      <th>0</th>\n",
       "      <td>latitude</td>\n",
       "      <td>-0.694406</td>\n",
       "      <td>0.694406</td>\n",
       "    </tr>\n",
       "    <tr>\n",
       "      <th>22</th>\n",
       "      <td>species_CULEX RESTUANS</td>\n",
       "      <td>-0.847516</td>\n",
       "      <td>0.847516</td>\n",
       "    </tr>\n",
       "    <tr>\n",
       "      <th>213</th>\n",
       "      <td>preciptotal_10 avgspeed</td>\n",
       "      <td>-1.495073</td>\n",
       "      <td>1.495073</td>\n",
       "    </tr>\n",
       "    <tr>\n",
       "      <th>207</th>\n",
       "      <td>tavg^2</td>\n",
       "      <td>-1.660049</td>\n",
       "      <td>1.660049</td>\n",
       "    </tr>\n",
       "    <tr>\n",
       "      <th>216</th>\n",
       "      <td>avgspeed^2</td>\n",
       "      <td>-2.428390</td>\n",
       "      <td>2.428390</td>\n",
       "    </tr>\n",
       "  </tbody>\n",
       "</table>\n",
       "</div>"
      ],
      "text/plain": [
       "                    variable      coef  abs_coef\n",
       "208      tavg preciptotal_10  1.602162  1.602162\n",
       "2                       tavg  1.202291  1.202291\n",
       "209         tavg stnpressure  1.133484  1.133484\n",
       "5                   avgspeed  1.096126  1.096126\n",
       "171                trap_T900  0.773055  0.773055\n",
       "215     stnpressure avgspeed  0.642882  0.642882\n",
       "26                 trap_T003  0.495133  0.495133\n",
       "95                 trap_T090  0.454334  0.454334\n",
       "45                 trap_T028  0.445341  0.445341\n",
       "65                 trap_T054  0.433719  0.433719\n",
       "196             codesum_TSRA -0.441173  0.441173\n",
       "198  codesum_TSRA BR HZ VCTS -0.469299  0.469299\n",
       "3                preciptotal -0.481363  0.481363\n",
       "40                 trap_T017 -0.489802  0.489802\n",
       "59                 trap_T046 -0.492219  0.492219\n",
       "0                   latitude -0.694406  0.694406\n",
       "22    species_CULEX RESTUANS -0.847516  0.847516\n",
       "213  preciptotal_10 avgspeed -1.495073  1.495073\n",
       "207                   tavg^2 -1.660049  1.660049\n",
       "216               avgspeed^2 -2.428390  2.428390"
      ]
     },
     "execution_count": 181,
     "metadata": {},
     "output_type": "execute_result"
    }
   ],
   "source": [
    "coefs_top20"
   ]
  },
  {
   "cell_type": "code",
   "execution_count": 182,
   "id": "4d0d2d34",
   "metadata": {},
   "outputs": [
    {
     "data": {
      "image/png": "[encoded data removed]",
      "text/plain": [
       "<Figure size 720x864 with 1 Axes>"
      ]
     },
     "metadata": {
      "needs_background": "light"
     },
     "output_type": "display_data"
    }
   ],
   "source": [
    "plt.figure(figsize=(10, 12))\n",
    "sns.barplot(data=coefs_top20, y=\"variable\", x='coef', palette='coolwarm')\n",
    "plt.tight_layout()\n",
    "#plt.savefig(fname='./assets/final_model', dpi=300)"
   ]
  },
  {
   "cell_type": "code",
   "execution_count": 178,
   "id": "c468525b",
   "metadata": {},
   "outputs": [],
   "source": [
    "#Generate confusion matrix\n",
    "tn, fp, fn, tp = confusion_matrix(y_holdout, preds_logreg_noweek).ravel();\n",
    "acc_train = (tn + tp) / (tn + fp + fn + tp)\n",
    "\n",
    "y_pred = logreg.predict(Xs_holdout)\n",
    "confusion_matrix(y_holdout, # True values.\n",
    "                 y_pred)  # Predicted values.\n",
    "tn, fp, fn, tp = confusion_matrix(y_holdout, y_pred).ravel();\n",
    "acc = (tn + tp) / (tn + fp + fn + tp)\n",
    "sens = tp / (tp + fn)\n",
    "spec = tn / (tn + fp)\n",
    "prec = tp / (tp + fp)\n",
    "f1_score = 2 * (prec*sens) / (prec + sens)\n",
    "\n",
    "\n",
    "summary_df_rows = summary_df.shape[0]\n",
    "# Adding the scores into summary_df\n",
    "summary_df.loc[summary_df_rows] = [\n",
    "    \"interaction terms\",\n",
    "    '',\n",
    "    round(acc_train,3), # accuracy of train\n",
    "    round(acc,3), # accuracy of holdout\n",
    "    round(sens,3), # sensitivity of holdout\n",
    "    round(spec,3), # specificity of holdout\n",
    "    round(prec,3), # specificity of holdout\n",
    "    round(f1_score,3), # f1 score of holdout\n",
    "    '',\n",
    "]"
   ]
  },
  {
   "cell_type": "code",
   "execution_count": 184,
   "id": "4586163c",
   "metadata": {},
   "outputs": [],
   "source": [
    "model_metrics_logreg(logreg, Xsm_train, ysm_train, Xs_holdout, y_holdout, \n",
    "                     'interaction terms')"
   ]
  },
  {
   "cell_type": "code",
   "execution_count": 185,
   "id": "b3fbdd27",
   "metadata": {},
   "outputs": [
    {
     "data": {
      "text/html": [
       "<div>\n",
       "<style scoped>\n",
       "    .dataframe tbody tr th:only-of-type {\n",
       "        vertical-align: middle;\n",
       "    }\n",
       "\n",
       "    .dataframe tbody tr th {\n",
       "        vertical-align: top;\n",
       "    }\n",
       "\n",
       "    .dataframe thead th {\n",
       "        text-align: right;\n",
       "    }\n",
       "</style>\n",
       "<table border=\"1\" class=\"dataframe\">\n",
       "  <thead>\n",
       "    <tr style=\"text-align: right;\">\n",
       "      <th></th>\n",
       "      <th>model</th>\n",
       "      <th>best_score</th>\n",
       "      <th>train_score</th>\n",
       "      <th>holdout_score</th>\n",
       "      <th>sensitivity</th>\n",
       "      <th>specificity</th>\n",
       "      <th>precision</th>\n",
       "      <th>f1_score</th>\n",
       "      <th>best_params</th>\n",
       "    </tr>\n",
       "  </thead>\n",
       "  <tbody>\n",
       "    <tr>\n",
       "      <th>0</th>\n",
       "      <td>SMOTE Logistic Regression</td>\n",
       "      <td></td>\n",
       "      <td>0.861</td>\n",
       "      <td>0.793</td>\n",
       "      <td>0.640</td>\n",
       "      <td>0.802</td>\n",
       "      <td>0.158</td>\n",
       "      <td>0.253</td>\n",
       "      <td></td>\n",
       "    </tr>\n",
       "    <tr>\n",
       "      <th>1</th>\n",
       "      <td>drop week and year</td>\n",
       "      <td></td>\n",
       "      <td>0.826</td>\n",
       "      <td>0.758</td>\n",
       "      <td>0.632</td>\n",
       "      <td>0.765</td>\n",
       "      <td>0.135</td>\n",
       "      <td>0.223</td>\n",
       "      <td></td>\n",
       "    </tr>\n",
       "    <tr>\n",
       "      <th>2</th>\n",
       "      <td>drop dayofweek</td>\n",
       "      <td></td>\n",
       "      <td>0.820</td>\n",
       "      <td>0.748</td>\n",
       "      <td>0.579</td>\n",
       "      <td>0.757</td>\n",
       "      <td>0.122</td>\n",
       "      <td>0.201</td>\n",
       "      <td></td>\n",
       "    </tr>\n",
       "    <tr>\n",
       "      <th>3</th>\n",
       "      <td>drop resultdir</td>\n",
       "      <td></td>\n",
       "      <td>0.815</td>\n",
       "      <td>0.742</td>\n",
       "      <td>0.588</td>\n",
       "      <td>0.751</td>\n",
       "      <td>0.121</td>\n",
       "      <td>0.200</td>\n",
       "      <td></td>\n",
       "    </tr>\n",
       "    <tr>\n",
       "      <th>4</th>\n",
       "      <td>interaction terms</td>\n",
       "      <td></td>\n",
       "      <td>0.823</td>\n",
       "      <td>0.753</td>\n",
       "      <td>0.632</td>\n",
       "      <td>0.760</td>\n",
       "      <td>0.133</td>\n",
       "      <td>0.219</td>\n",
       "      <td></td>\n",
       "    </tr>\n",
       "  </tbody>\n",
       "</table>\n",
       "</div>"
      ],
      "text/plain": [
       "                       model best_score  train_score  holdout_score  \\\n",
       "0  SMOTE Logistic Regression                   0.861          0.793   \n",
       "1         drop week and year                   0.826          0.758   \n",
       "2             drop dayofweek                   0.820          0.748   \n",
       "3             drop resultdir                   0.815          0.742   \n",
       "4          interaction terms                   0.823          0.753   \n",
       "\n",
       "   sensitivity  specificity  precision  f1_score best_params  \n",
       "0        0.640        0.802      0.158     0.253              \n",
       "1        0.632        0.765      0.135     0.223              \n",
       "2        0.579        0.757      0.122     0.201              \n",
       "3        0.588        0.751      0.121     0.200              \n",
       "4        0.632        0.760      0.133     0.219              "
      ]
     },
     "execution_count": 185,
     "metadata": {},
     "output_type": "execute_result"
    }
   ],
   "source": [
    "summary_df"
   ]
  },
  {
   "cell_type": "markdown",
   "id": "59246c74",
   "metadata": {},
   "source": [
    "### With GridSearchCV"
   ]
  },
  {
   "cell_type": "code",
   "execution_count": 186,
   "id": "e4e091cb",
   "metadata": {},
   "outputs": [],
   "source": [
    "parameters = {'C': [0.001, 0.01, 0.1, 1, 10],\n",
    "              'class_weight': [None, 'balanced'],\n",
    "              'penalty': ['l1', 'l2']}"
   ]
  },
  {
   "cell_type": "code",
   "execution_count": 187,
   "id": "3a4cbb3e",
   "metadata": {},
   "outputs": [
    {
     "ename": "KeyboardInterrupt",
     "evalue": "",
     "output_type": "error",
     "traceback": [
      "\u001b[1;31m---------------------------------------------------------------------------\u001b[0m",
      "\u001b[1;31mKeyboardInterrupt\u001b[0m                         Traceback (most recent call last)",
      "\u001b[1;32m~\\AppData\\Local\\Temp\\ipykernel_14056\\3102771820.py\u001b[0m in \u001b[0;36m<module>\u001b[1;34m\u001b[0m\n\u001b[0;32m      7\u001b[0m                           \u001b[0mparam_grid\u001b[0m \u001b[1;33m=\u001b[0m \u001b[0mparameters\u001b[0m\u001b[1;33m,\u001b[0m\u001b[1;33m\u001b[0m\u001b[1;33m\u001b[0m\u001b[0m\n\u001b[0;32m      8\u001b[0m                           \u001b[0mscoring\u001b[0m \u001b[1;33m=\u001b[0m \u001b[1;34m'recall'\u001b[0m\u001b[1;33m,\u001b[0m\u001b[1;33m\u001b[0m\u001b[1;33m\u001b[0m\u001b[0m\n\u001b[1;32m----> 9\u001b[1;33m                           cv = 5).fit(Xsm_train, ysm_train)                      \n\u001b[0m",
      "\u001b[1;32m~\\anaconda3\\envs\\dsi27tf\\lib\\site-packages\\sklearn\\model_selection\\_search.py\u001b[0m in \u001b[0;36mfit\u001b[1;34m(self, X, y, groups, **fit_params)\u001b[0m\n\u001b[0;32m    889\u001b[0m                 \u001b[1;32mreturn\u001b[0m \u001b[0mresults\u001b[0m\u001b[1;33m\u001b[0m\u001b[1;33m\u001b[0m\u001b[0m\n\u001b[0;32m    890\u001b[0m \u001b[1;33m\u001b[0m\u001b[0m\n\u001b[1;32m--> 891\u001b[1;33m             \u001b[0mself\u001b[0m\u001b[1;33m.\u001b[0m\u001b[0m_run_search\u001b[0m\u001b[1;33m(\u001b[0m\u001b[0mevaluate_candidates\u001b[0m\u001b[1;33m)\u001b[0m\u001b[1;33m\u001b[0m\u001b[1;33m\u001b[0m\u001b[0m\n\u001b[0m\u001b[0;32m    892\u001b[0m \u001b[1;33m\u001b[0m\u001b[0m\n\u001b[0;32m    893\u001b[0m             \u001b[1;31m# multimetric is determined here because in the case of a callable\u001b[0m\u001b[1;33m\u001b[0m\u001b[1;33m\u001b[0m\u001b[1;33m\u001b[0m\u001b[0m\n",
      "\u001b[1;32m~\\anaconda3\\envs\\dsi27tf\\lib\\site-packages\\sklearn\\model_selection\\_search.py\u001b[0m in \u001b[0;36m_run_search\u001b[1;34m(self, evaluate_candidates)\u001b[0m\n\u001b[0;32m   1390\u001b[0m     \u001b[1;32mdef\u001b[0m \u001b[0m_run_search\u001b[0m\u001b[1;33m(\u001b[0m\u001b[0mself\u001b[0m\u001b[1;33m,\u001b[0m \u001b[0mevaluate_candidates\u001b[0m\u001b[1;33m)\u001b[0m\u001b[1;33m:\u001b[0m\u001b[1;33m\u001b[0m\u001b[1;33m\u001b[0m\u001b[0m\n\u001b[0;32m   1391\u001b[0m         \u001b[1;34m\"\"\"Search all candidates in param_grid\"\"\"\u001b[0m\u001b[1;33m\u001b[0m\u001b[1;33m\u001b[0m\u001b[0m\n\u001b[1;32m-> 1392\u001b[1;33m         \u001b[0mevaluate_candidates\u001b[0m\u001b[1;33m(\u001b[0m\u001b[0mParameterGrid\u001b[0m\u001b[1;33m(\u001b[0m\u001b[0mself\u001b[0m\u001b[1;33m.\u001b[0m\u001b[0mparam_grid\u001b[0m\u001b[1;33m)\u001b[0m\u001b[1;33m)\u001b[0m\u001b[1;33m\u001b[0m\u001b[1;33m\u001b[0m\u001b[0m\n\u001b[0m\u001b[0;32m   1393\u001b[0m \u001b[1;33m\u001b[0m\u001b[0m\n\u001b[0;32m   1394\u001b[0m \u001b[1;33m\u001b[0m\u001b[0m\n",
      "\u001b[1;32m~\\anaconda3\\envs\\dsi27tf\\lib\\site-packages\\sklearn\\model_selection\\_search.py\u001b[0m in \u001b[0;36mevaluate_candidates\u001b[1;34m(candidate_params, cv, more_results)\u001b[0m\n\u001b[0;32m    849\u001b[0m                     )\n\u001b[0;32m    850\u001b[0m                     for (cand_idx, parameters), (split_idx, (train, test)) in product(\n\u001b[1;32m--> 851\u001b[1;33m                         \u001b[0menumerate\u001b[0m\u001b[1;33m(\u001b[0m\u001b[0mcandidate_params\u001b[0m\u001b[1;33m)\u001b[0m\u001b[1;33m,\u001b[0m \u001b[0menumerate\u001b[0m\u001b[1;33m(\u001b[0m\u001b[0mcv\u001b[0m\u001b[1;33m.\u001b[0m\u001b[0msplit\u001b[0m\u001b[1;33m(\u001b[0m\u001b[0mX\u001b[0m\u001b[1;33m,\u001b[0m \u001b[0my\u001b[0m\u001b[1;33m,\u001b[0m \u001b[0mgroups\u001b[0m\u001b[1;33m)\u001b[0m\u001b[1;33m)\u001b[0m\u001b[1;33m\u001b[0m\u001b[1;33m\u001b[0m\u001b[0m\n\u001b[0m\u001b[0;32m    852\u001b[0m                     )\n\u001b[0;32m    853\u001b[0m                 )\n",
      "\u001b[1;32m~\\anaconda3\\envs\\dsi27tf\\lib\\site-packages\\joblib\\parallel.py\u001b[0m in \u001b[0;36m__call__\u001b[1;34m(self, iterable)\u001b[0m\n\u001b[0;32m   1044\u001b[0m                 \u001b[0mself\u001b[0m\u001b[1;33m.\u001b[0m\u001b[0m_iterating\u001b[0m \u001b[1;33m=\u001b[0m \u001b[0mself\u001b[0m\u001b[1;33m.\u001b[0m\u001b[0m_original_iterator\u001b[0m \u001b[1;32mis\u001b[0m \u001b[1;32mnot\u001b[0m \u001b[1;32mNone\u001b[0m\u001b[1;33m\u001b[0m\u001b[1;33m\u001b[0m\u001b[0m\n\u001b[0;32m   1045\u001b[0m \u001b[1;33m\u001b[0m\u001b[0m\n\u001b[1;32m-> 1046\u001b[1;33m             \u001b[1;32mwhile\u001b[0m \u001b[0mself\u001b[0m\u001b[1;33m.\u001b[0m\u001b[0mdispatch_one_batch\u001b[0m\u001b[1;33m(\u001b[0m\u001b[0miterator\u001b[0m\u001b[1;33m)\u001b[0m\u001b[1;33m:\u001b[0m\u001b[1;33m\u001b[0m\u001b[1;33m\u001b[0m\u001b[0m\n\u001b[0m\u001b[0;32m   1047\u001b[0m                 \u001b[1;32mpass\u001b[0m\u001b[1;33m\u001b[0m\u001b[1;33m\u001b[0m\u001b[0m\n\u001b[0;32m   1048\u001b[0m \u001b[1;33m\u001b[0m\u001b[0m\n",
      "\u001b[1;32m~\\anaconda3\\envs\\dsi27tf\\lib\\site-packages\\joblib\\parallel.py\u001b[0m in \u001b[0;36mdispatch_one_batch\u001b[1;34m(self, iterator)\u001b[0m\n\u001b[0;32m    859\u001b[0m                 \u001b[1;32mreturn\u001b[0m \u001b[1;32mFalse\u001b[0m\u001b[1;33m\u001b[0m\u001b[1;33m\u001b[0m\u001b[0m\n\u001b[0;32m    860\u001b[0m             \u001b[1;32melse\u001b[0m\u001b[1;33m:\u001b[0m\u001b[1;33m\u001b[0m\u001b[1;33m\u001b[0m\u001b[0m\n\u001b[1;32m--> 861\u001b[1;33m                 \u001b[0mself\u001b[0m\u001b[1;33m.\u001b[0m\u001b[0m_dispatch\u001b[0m\u001b[1;33m(\u001b[0m\u001b[0mtasks\u001b[0m\u001b[1;33m)\u001b[0m\u001b[1;33m\u001b[0m\u001b[1;33m\u001b[0m\u001b[0m\n\u001b[0m\u001b[0;32m    862\u001b[0m                 \u001b[1;32mreturn\u001b[0m \u001b[1;32mTrue\u001b[0m\u001b[1;33m\u001b[0m\u001b[1;33m\u001b[0m\u001b[0m\n\u001b[0;32m    863\u001b[0m \u001b[1;33m\u001b[0m\u001b[0m\n",
      "\u001b[1;32m~\\anaconda3\\envs\\dsi27tf\\lib\\site-packages\\joblib\\parallel.py\u001b[0m in \u001b[0;36m_dispatch\u001b[1;34m(self, batch)\u001b[0m\n\u001b[0;32m    777\u001b[0m         \u001b[1;32mwith\u001b[0m \u001b[0mself\u001b[0m\u001b[1;33m.\u001b[0m\u001b[0m_lock\u001b[0m\u001b[1;33m:\u001b[0m\u001b[1;33m\u001b[0m\u001b[1;33m\u001b[0m\u001b[0m\n\u001b[0;32m    778\u001b[0m             \u001b[0mjob_idx\u001b[0m \u001b[1;33m=\u001b[0m \u001b[0mlen\u001b[0m\u001b[1;33m(\u001b[0m\u001b[0mself\u001b[0m\u001b[1;33m.\u001b[0m\u001b[0m_jobs\u001b[0m\u001b[1;33m)\u001b[0m\u001b[1;33m\u001b[0m\u001b[1;33m\u001b[0m\u001b[0m\n\u001b[1;32m--> 779\u001b[1;33m             \u001b[0mjob\u001b[0m \u001b[1;33m=\u001b[0m \u001b[0mself\u001b[0m\u001b[1;33m.\u001b[0m\u001b[0m_backend\u001b[0m\u001b[1;33m.\u001b[0m\u001b[0mapply_async\u001b[0m\u001b[1;33m(\u001b[0m\u001b[0mbatch\u001b[0m\u001b[1;33m,\u001b[0m \u001b[0mcallback\u001b[0m\u001b[1;33m=\u001b[0m\u001b[0mcb\u001b[0m\u001b[1;33m)\u001b[0m\u001b[1;33m\u001b[0m\u001b[1;33m\u001b[0m\u001b[0m\n\u001b[0m\u001b[0;32m    780\u001b[0m             \u001b[1;31m# A job can complete so quickly than its callback is\u001b[0m\u001b[1;33m\u001b[0m\u001b[1;33m\u001b[0m\u001b[1;33m\u001b[0m\u001b[0m\n\u001b[0;32m    781\u001b[0m             \u001b[1;31m# called before we get here, causing self._jobs to\u001b[0m\u001b[1;33m\u001b[0m\u001b[1;33m\u001b[0m\u001b[1;33m\u001b[0m\u001b[0m\n",
      "\u001b[1;32m~\\anaconda3\\envs\\dsi27tf\\lib\\site-packages\\joblib\\_parallel_backends.py\u001b[0m in \u001b[0;36mapply_async\u001b[1;34m(self, func, callback)\u001b[0m\n\u001b[0;32m    206\u001b[0m     \u001b[1;32mdef\u001b[0m \u001b[0mapply_async\u001b[0m\u001b[1;33m(\u001b[0m\u001b[0mself\u001b[0m\u001b[1;33m,\u001b[0m \u001b[0mfunc\u001b[0m\u001b[1;33m,\u001b[0m \u001b[0mcallback\u001b[0m\u001b[1;33m=\u001b[0m\u001b[1;32mNone\u001b[0m\u001b[1;33m)\u001b[0m\u001b[1;33m:\u001b[0m\u001b[1;33m\u001b[0m\u001b[1;33m\u001b[0m\u001b[0m\n\u001b[0;32m    207\u001b[0m         \u001b[1;34m\"\"\"Schedule a func to be run\"\"\"\u001b[0m\u001b[1;33m\u001b[0m\u001b[1;33m\u001b[0m\u001b[0m\n\u001b[1;32m--> 208\u001b[1;33m         \u001b[0mresult\u001b[0m \u001b[1;33m=\u001b[0m \u001b[0mImmediateResult\u001b[0m\u001b[1;33m(\u001b[0m\u001b[0mfunc\u001b[0m\u001b[1;33m)\u001b[0m\u001b[1;33m\u001b[0m\u001b[1;33m\u001b[0m\u001b[0m\n\u001b[0m\u001b[0;32m    209\u001b[0m         \u001b[1;32mif\u001b[0m \u001b[0mcallback\u001b[0m\u001b[1;33m:\u001b[0m\u001b[1;33m\u001b[0m\u001b[1;33m\u001b[0m\u001b[0m\n\u001b[0;32m    210\u001b[0m             \u001b[0mcallback\u001b[0m\u001b[1;33m(\u001b[0m\u001b[0mresult\u001b[0m\u001b[1;33m)\u001b[0m\u001b[1;33m\u001b[0m\u001b[1;33m\u001b[0m\u001b[0m\n",
      "\u001b[1;32m~\\anaconda3\\envs\\dsi27tf\\lib\\site-packages\\joblib\\_parallel_backends.py\u001b[0m in \u001b[0;36m__init__\u001b[1;34m(self, batch)\u001b[0m\n\u001b[0;32m    570\u001b[0m         \u001b[1;31m# Don't delay the application, to avoid keeping the input\u001b[0m\u001b[1;33m\u001b[0m\u001b[1;33m\u001b[0m\u001b[1;33m\u001b[0m\u001b[0m\n\u001b[0;32m    571\u001b[0m         \u001b[1;31m# arguments in memory\u001b[0m\u001b[1;33m\u001b[0m\u001b[1;33m\u001b[0m\u001b[1;33m\u001b[0m\u001b[0m\n\u001b[1;32m--> 572\u001b[1;33m         \u001b[0mself\u001b[0m\u001b[1;33m.\u001b[0m\u001b[0mresults\u001b[0m \u001b[1;33m=\u001b[0m \u001b[0mbatch\u001b[0m\u001b[1;33m(\u001b[0m\u001b[1;33m)\u001b[0m\u001b[1;33m\u001b[0m\u001b[1;33m\u001b[0m\u001b[0m\n\u001b[0m\u001b[0;32m    573\u001b[0m \u001b[1;33m\u001b[0m\u001b[0m\n\u001b[0;32m    574\u001b[0m     \u001b[1;32mdef\u001b[0m \u001b[0mget\u001b[0m\u001b[1;33m(\u001b[0m\u001b[0mself\u001b[0m\u001b[1;33m)\u001b[0m\u001b[1;33m:\u001b[0m\u001b[1;33m\u001b[0m\u001b[1;33m\u001b[0m\u001b[0m\n",
      "\u001b[1;32m~\\anaconda3\\envs\\dsi27tf\\lib\\site-packages\\joblib\\parallel.py\u001b[0m in \u001b[0;36m__call__\u001b[1;34m(self)\u001b[0m\n\u001b[0;32m    261\u001b[0m         \u001b[1;32mwith\u001b[0m \u001b[0mparallel_backend\u001b[0m\u001b[1;33m(\u001b[0m\u001b[0mself\u001b[0m\u001b[1;33m.\u001b[0m\u001b[0m_backend\u001b[0m\u001b[1;33m,\u001b[0m \u001b[0mn_jobs\u001b[0m\u001b[1;33m=\u001b[0m\u001b[0mself\u001b[0m\u001b[1;33m.\u001b[0m\u001b[0m_n_jobs\u001b[0m\u001b[1;33m)\u001b[0m\u001b[1;33m:\u001b[0m\u001b[1;33m\u001b[0m\u001b[1;33m\u001b[0m\u001b[0m\n\u001b[0;32m    262\u001b[0m             return [func(*args, **kwargs)\n\u001b[1;32m--> 263\u001b[1;33m                     for func, args, kwargs in self.items]\n\u001b[0m\u001b[0;32m    264\u001b[0m \u001b[1;33m\u001b[0m\u001b[0m\n\u001b[0;32m    265\u001b[0m     \u001b[1;32mdef\u001b[0m \u001b[0m__reduce__\u001b[0m\u001b[1;33m(\u001b[0m\u001b[0mself\u001b[0m\u001b[1;33m)\u001b[0m\u001b[1;33m:\u001b[0m\u001b[1;33m\u001b[0m\u001b[1;33m\u001b[0m\u001b[0m\n",
      "\u001b[1;32m~\\anaconda3\\envs\\dsi27tf\\lib\\site-packages\\joblib\\parallel.py\u001b[0m in \u001b[0;36m<listcomp>\u001b[1;34m(.0)\u001b[0m\n\u001b[0;32m    261\u001b[0m         \u001b[1;32mwith\u001b[0m \u001b[0mparallel_backend\u001b[0m\u001b[1;33m(\u001b[0m\u001b[0mself\u001b[0m\u001b[1;33m.\u001b[0m\u001b[0m_backend\u001b[0m\u001b[1;33m,\u001b[0m \u001b[0mn_jobs\u001b[0m\u001b[1;33m=\u001b[0m\u001b[0mself\u001b[0m\u001b[1;33m.\u001b[0m\u001b[0m_n_jobs\u001b[0m\u001b[1;33m)\u001b[0m\u001b[1;33m:\u001b[0m\u001b[1;33m\u001b[0m\u001b[1;33m\u001b[0m\u001b[0m\n\u001b[0;32m    262\u001b[0m             return [func(*args, **kwargs)\n\u001b[1;32m--> 263\u001b[1;33m                     for func, args, kwargs in self.items]\n\u001b[0m\u001b[0;32m    264\u001b[0m \u001b[1;33m\u001b[0m\u001b[0m\n\u001b[0;32m    265\u001b[0m     \u001b[1;32mdef\u001b[0m \u001b[0m__reduce__\u001b[0m\u001b[1;33m(\u001b[0m\u001b[0mself\u001b[0m\u001b[1;33m)\u001b[0m\u001b[1;33m:\u001b[0m\u001b[1;33m\u001b[0m\u001b[1;33m\u001b[0m\u001b[0m\n",
      "\u001b[1;32m~\\anaconda3\\envs\\dsi27tf\\lib\\site-packages\\sklearn\\utils\\fixes.py\u001b[0m in \u001b[0;36m__call__\u001b[1;34m(self, *args, **kwargs)\u001b[0m\n\u001b[0;32m    214\u001b[0m     \u001b[1;32mdef\u001b[0m \u001b[0m__call__\u001b[0m\u001b[1;33m(\u001b[0m\u001b[0mself\u001b[0m\u001b[1;33m,\u001b[0m \u001b[1;33m*\u001b[0m\u001b[0margs\u001b[0m\u001b[1;33m,\u001b[0m \u001b[1;33m**\u001b[0m\u001b[0mkwargs\u001b[0m\u001b[1;33m)\u001b[0m\u001b[1;33m:\u001b[0m\u001b[1;33m\u001b[0m\u001b[1;33m\u001b[0m\u001b[0m\n\u001b[0;32m    215\u001b[0m         \u001b[1;32mwith\u001b[0m \u001b[0mconfig_context\u001b[0m\u001b[1;33m(\u001b[0m\u001b[1;33m**\u001b[0m\u001b[0mself\u001b[0m\u001b[1;33m.\u001b[0m\u001b[0mconfig\u001b[0m\u001b[1;33m)\u001b[0m\u001b[1;33m:\u001b[0m\u001b[1;33m\u001b[0m\u001b[1;33m\u001b[0m\u001b[0m\n\u001b[1;32m--> 216\u001b[1;33m             \u001b[1;32mreturn\u001b[0m \u001b[0mself\u001b[0m\u001b[1;33m.\u001b[0m\u001b[0mfunction\u001b[0m\u001b[1;33m(\u001b[0m\u001b[1;33m*\u001b[0m\u001b[0margs\u001b[0m\u001b[1;33m,\u001b[0m \u001b[1;33m**\u001b[0m\u001b[0mkwargs\u001b[0m\u001b[1;33m)\u001b[0m\u001b[1;33m\u001b[0m\u001b[1;33m\u001b[0m\u001b[0m\n\u001b[0m\u001b[0;32m    217\u001b[0m \u001b[1;33m\u001b[0m\u001b[0m\n\u001b[0;32m    218\u001b[0m \u001b[1;33m\u001b[0m\u001b[0m\n",
      "\u001b[1;32m~\\anaconda3\\envs\\dsi27tf\\lib\\site-packages\\sklearn\\model_selection\\_validation.py\u001b[0m in \u001b[0;36m_fit_and_score\u001b[1;34m(estimator, X, y, scorer, train, test, verbose, parameters, fit_params, return_train_score, return_parameters, return_n_test_samples, return_times, return_estimator, split_progress, candidate_progress, error_score)\u001b[0m\n\u001b[0;32m    678\u001b[0m             \u001b[0mestimator\u001b[0m\u001b[1;33m.\u001b[0m\u001b[0mfit\u001b[0m\u001b[1;33m(\u001b[0m\u001b[0mX_train\u001b[0m\u001b[1;33m,\u001b[0m \u001b[1;33m**\u001b[0m\u001b[0mfit_params\u001b[0m\u001b[1;33m)\u001b[0m\u001b[1;33m\u001b[0m\u001b[1;33m\u001b[0m\u001b[0m\n\u001b[0;32m    679\u001b[0m         \u001b[1;32melse\u001b[0m\u001b[1;33m:\u001b[0m\u001b[1;33m\u001b[0m\u001b[1;33m\u001b[0m\u001b[0m\n\u001b[1;32m--> 680\u001b[1;33m             \u001b[0mestimator\u001b[0m\u001b[1;33m.\u001b[0m\u001b[0mfit\u001b[0m\u001b[1;33m(\u001b[0m\u001b[0mX_train\u001b[0m\u001b[1;33m,\u001b[0m \u001b[0my_train\u001b[0m\u001b[1;33m,\u001b[0m \u001b[1;33m**\u001b[0m\u001b[0mfit_params\u001b[0m\u001b[1;33m)\u001b[0m\u001b[1;33m\u001b[0m\u001b[1;33m\u001b[0m\u001b[0m\n\u001b[0m\u001b[0;32m    681\u001b[0m \u001b[1;33m\u001b[0m\u001b[0m\n\u001b[0;32m    682\u001b[0m     \u001b[1;32mexcept\u001b[0m \u001b[0mException\u001b[0m\u001b[1;33m:\u001b[0m\u001b[1;33m\u001b[0m\u001b[1;33m\u001b[0m\u001b[0m\n",
      "\u001b[1;32m~\\anaconda3\\envs\\dsi27tf\\lib\\site-packages\\sklearn\\linear_model\\_logistic.py\u001b[0m in \u001b[0;36mfit\u001b[1;34m(self, X, y, sample_weight)\u001b[0m\n\u001b[0;32m   1539\u001b[0m                 \u001b[0mself\u001b[0m\u001b[1;33m.\u001b[0m\u001b[0mtol\u001b[0m\u001b[1;33m,\u001b[0m\u001b[1;33m\u001b[0m\u001b[1;33m\u001b[0m\u001b[0m\n\u001b[0;32m   1540\u001b[0m                 \u001b[0mself\u001b[0m\u001b[1;33m.\u001b[0m\u001b[0mrandom_state\u001b[0m\u001b[1;33m,\u001b[0m\u001b[1;33m\u001b[0m\u001b[1;33m\u001b[0m\u001b[0m\n\u001b[1;32m-> 1541\u001b[1;33m                 \u001b[0msample_weight\u001b[0m\u001b[1;33m=\u001b[0m\u001b[0msample_weight\u001b[0m\u001b[1;33m,\u001b[0m\u001b[1;33m\u001b[0m\u001b[1;33m\u001b[0m\u001b[0m\n\u001b[0m\u001b[0;32m   1542\u001b[0m             )\n\u001b[0;32m   1543\u001b[0m             \u001b[0mself\u001b[0m\u001b[1;33m.\u001b[0m\u001b[0mn_iter_\u001b[0m \u001b[1;33m=\u001b[0m \u001b[0mnp\u001b[0m\u001b[1;33m.\u001b[0m\u001b[0marray\u001b[0m\u001b[1;33m(\u001b[0m\u001b[1;33m[\u001b[0m\u001b[0mn_iter_\u001b[0m\u001b[1;33m]\u001b[0m\u001b[1;33m)\u001b[0m\u001b[1;33m\u001b[0m\u001b[1;33m\u001b[0m\u001b[0m\n",
      "\u001b[1;32m~\\anaconda3\\envs\\dsi27tf\\lib\\site-packages\\sklearn\\svm\\_base.py\u001b[0m in \u001b[0;36m_fit_liblinear\u001b[1;34m(X, y, C, fit_intercept, intercept_scaling, class_weight, penalty, dual, verbose, max_iter, tol, random_state, multi_class, loss, epsilon, sample_weight)\u001b[0m\n\u001b[0;32m   1196\u001b[0m         \u001b[0mrnd\u001b[0m\u001b[1;33m.\u001b[0m\u001b[0mrandint\u001b[0m\u001b[1;33m(\u001b[0m\u001b[0mnp\u001b[0m\u001b[1;33m.\u001b[0m\u001b[0miinfo\u001b[0m\u001b[1;33m(\u001b[0m\u001b[1;34m\"i\"\u001b[0m\u001b[1;33m)\u001b[0m\u001b[1;33m.\u001b[0m\u001b[0mmax\u001b[0m\u001b[1;33m)\u001b[0m\u001b[1;33m,\u001b[0m\u001b[1;33m\u001b[0m\u001b[1;33m\u001b[0m\u001b[0m\n\u001b[0;32m   1197\u001b[0m         \u001b[0mepsilon\u001b[0m\u001b[1;33m,\u001b[0m\u001b[1;33m\u001b[0m\u001b[1;33m\u001b[0m\u001b[0m\n\u001b[1;32m-> 1198\u001b[1;33m         \u001b[0msample_weight\u001b[0m\u001b[1;33m,\u001b[0m\u001b[1;33m\u001b[0m\u001b[1;33m\u001b[0m\u001b[0m\n\u001b[0m\u001b[0;32m   1199\u001b[0m     )\n\u001b[0;32m   1200\u001b[0m     \u001b[1;31m# Regarding rnd.randint(..) in the above signature:\u001b[0m\u001b[1;33m\u001b[0m\u001b[1;33m\u001b[0m\u001b[1;33m\u001b[0m\u001b[0m\n",
      "\u001b[1;31mKeyboardInterrupt\u001b[0m: "
     ]
    }
   ],
   "source": [
    "# We are testing l1 and l2 penalties in GridSearch.\n",
    "lr = LogisticRegression(solver = 'liblinear', \n",
    "                        max_iter = 1000,\n",
    "                        random_state = 42)\n",
    "\n",
    "gs = GridSearchCV(estimator = lr,                                    \n",
    "                          param_grid = parameters,                           \n",
    "                          scoring = 'recall',                               \n",
    "                          cv = 5).fit(Xsm_train, ysm_train)                      "
   ]
  },
  {
   "cell_type": "code",
   "execution_count": null,
   "id": "ff78fbf4",
   "metadata": {},
   "outputs": [],
   "source": [
    "gs.best_estimator_.get_params()"
   ]
  },
  {
   "cell_type": "code",
   "execution_count": null,
   "id": "c9b058ce",
   "metadata": {},
   "outputs": [],
   "source": [
    "ridge = LogisticRegression(solver = 'liblinear', \n",
    "                           max_iter = 1000,\n",
    "                           C = 0.001,\n",
    "                           class_weight = None,\n",
    "                           penalty = 'l2',\n",
    "                           random_state = 42)"
   ]
  },
  {
   "cell_type": "code",
   "execution_count": null,
   "id": "8ceb4335",
   "metadata": {},
   "outputs": [],
   "source": [
    "ridge.fit(X = Xsm_train,\n",
    "          y = ysm_train)"
   ]
  },
  {
   "cell_type": "code",
   "execution_count": null,
   "id": "dfd63a37",
   "metadata": {},
   "outputs": [],
   "source": [
    "print(ridge.score(Xsm_train, ysm_train))\n",
    "print(ridge.score(Xs_holdout, y_holdout))"
   ]
  },
  {
   "cell_type": "code",
   "execution_count": null,
   "id": "4c4dea47",
   "metadata": {},
   "outputs": [],
   "source": [
    "df_col = df.drop(columns = ['wnvpresent', 'dataset'])"
   ]
  },
  {
   "cell_type": "code",
   "execution_count": null,
   "id": "60032154",
   "metadata": {},
   "outputs": [],
   "source": [
    "ridge_coef = pd.DataFrame(data=ridge.coef_[0],\n",
    "                          index=df_col.columns,\n",
    "                          columns=['coef'])\n"
   ]
  },
  {
   "cell_type": "code",
   "execution_count": null,
   "id": "82b09cee",
   "metadata": {},
   "outputs": [],
   "source": [
    "pd.set_option('display.max_rows', 219)"
   ]
  },
  {
   "cell_type": "code",
   "execution_count": null,
   "id": "a9e5d355",
   "metadata": {
    "scrolled": true
   },
   "outputs": [],
   "source": [
    "ridge_coef.sort_values(by = 'coef', ascending = False)"
   ]
  },
  {
   "cell_type": "code",
   "execution_count": null,
   "id": "b3d6fa4f",
   "metadata": {},
   "outputs": [],
   "source": [
    "# Display Coefficients\n",
    "coefs = pd.DataFrame({'variable':X.columns,\n",
    "                            'coef':ridge.coef_[0],\n",
    "                            'abs_coef':np.abs(ridge.coef_[0])\n",
    "                     })\n"
   ]
  },
  {
   "cell_type": "code",
   "execution_count": null,
   "id": "191e3d8b",
   "metadata": {},
   "outputs": [],
   "source": [
    "coefs.sort_values('abs_coef', inplace=True, ascending=False)\n",
    "coefs_top40 = coefs.head(40).sort_values('coef', inplace=False, ascending=False)\n",
    "coefs_top40"
   ]
  },
  {
   "cell_type": "code",
   "execution_count": null,
   "id": "d687b59e",
   "metadata": {},
   "outputs": [],
   "source": [
    "plt.figure(figsize=(10, 12))\n",
    "sns.barplot(data=coefs_top40, y=\"variable\", x='coef', orient='h', palette='coolwarm')\n",
    "plt.tight_layout()\n",
    "\n",
    "#plt.savefig(fname='./assets/final_model', dpi=300)"
   ]
  },
  {
   "cell_type": "code",
   "execution_count": null,
   "id": "ada614af",
   "metadata": {},
   "outputs": [],
   "source": [
    "ridge_coef_0 = ridge_coef.loc[ridge_coef['coef'] == 0, :]\n",
    "ridge_coef_0 "
   ]
  },
  {
   "cell_type": "code",
   "execution_count": null,
   "id": "f0cc620c",
   "metadata": {},
   "outputs": [],
   "source": [
    "Xsm_train.shape"
   ]
  },
  {
   "cell_type": "code",
   "execution_count": null,
   "id": "190baf2d",
   "metadata": {},
   "outputs": [],
   "source": [
    "Xs_holdout.shape"
   ]
  },
  {
   "cell_type": "code",
   "execution_count": null,
   "id": "8b2cd00b",
   "metadata": {
    "scrolled": true
   },
   "outputs": [],
   "source": [
    "model_metrics_logreg(gs, Xsm_train, ysm_train, Xs_holdout, y_holdout, \"logreglasso\")"
   ]
  },
  {
   "cell_type": "code",
   "execution_count": null,
   "id": "3e0e0bc6",
   "metadata": {},
   "outputs": [],
   "source": [
    "summary_df"
   ]
  },
  {
   "cell_type": "code",
   "execution_count": null,
   "id": "61da56e3",
   "metadata": {},
   "outputs": [],
   "source": [
    "fig, ax = plt.subplots(1, 1, figsize=(12,10))\n",
    "plot_roc_curve(logreg, Xs_holdout, y_holdout, ax=ax, name='LogisticRegression')\n",
    "plt.plot([0, 1], [0, 1], color='black', lw=2, linestyle='--', label='Random Guess')\n",
    "plt.legend()"
   ]
  },
  {
   "cell_type": "markdown",
   "id": "bb68f689",
   "metadata": {},
   "source": [
    "### AUC-ROC Curve"
   ]
  },
  {
   "cell_type": "code",
   "execution_count": null,
   "id": "3a5563ae",
   "metadata": {},
   "outputs": [],
   "source": [
    "fig, ax = plt.subplots(1, 1, figsize=(12,10))\n",
    "plot_roc_curve(logreg, Xs_holdout, y_holdout, ax=ax, name='LogisticRegression')\n",
    "plot_roc_curve(scv_gs, Xs_holdout, y_holdout, ax=ax, name='SVM')\n",
    "plot_roc_curve(et_gs, Xs_holdout, y_holdout, ax=ax, name='ExraTrees')\n",
    "plot_roc_curve(ada_gs, Xs_holdout, y_holdout, ax=ax, name='ADABoost', color='blue')\n",
    "plot_roc_curve(gb_gs, Xs_holdout, y_holdout, ax=ax, name='GradientBoost', color='blue')\n",
    "plt.plot([0, 1], [0, 1], color='black', lw=2, linestyle='--', label='Random Guess')\n",
    "plt.legend()"
   ]
  },
  {
   "cell_type": "code",
   "execution_count": null,
   "id": "561af039",
   "metadata": {},
   "outputs": [],
   "source": []
  }
 ],
 "metadata": {
  "kernelspec": {
   "display_name": "Python 3 (ipykernel)",
   "language": "python",
   "name": "python3"
  },
  "language_info": {
   "codemirror_mode": {
    "name": "ipython",
    "version": 3
   },
   "file_extension": ".py",
   "mimetype": "text/x-python",
   "name": "python",
   "nbconvert_exporter": "python",
   "pygments_lexer": "ipython3",
   "version": "3.7.13"
  }
 },
 "nbformat": 4,
 "nbformat_minor": 5
}
