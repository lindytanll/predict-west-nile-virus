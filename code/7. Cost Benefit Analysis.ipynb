{
 "cells": [
  {
   "cell_type": "markdown",
   "id": "58b50624",
   "metadata": {},
   "source": [
    "# Project 4: Predict West Nile Virus\n",
    "### Section 7: Cost-Benefit Analysis"
   ]
  },
  {
   "cell_type": "markdown",
   "id": "74bd8c77",
   "metadata": {},
   "source": [
    "## Problem Statement\n",
    "\n",
    "1. As an employee of Disease And Treatment Agency, division of Societal Cures In Epidemiology and New Creative Engineering (DATA-SCIENCE), we are tasked to better understand the mosquito population and advise on appropriate interventions which are beneficial and cost-effective for the city.\n",
    "\n",
    "\n",
    "2. Through this project, we hope to:\n",
    "- Identify features which are most important to predict presence of West Nile Virus (which can be done by ranking the coefficients of each feature in a logistic regression model)\n",
    "- Predict the probability of West Nile Virus by location to provide decision makers an effective plan to deploy pesticides throughout the city, which consequently can help to reduce cost."
   ]
  },
  {
   "cell_type": "markdown",
   "id": "b5161723",
   "metadata": {},
   "source": [
    "## Import Libraries"
   ]
  },
  {
   "cell_type": "code",
   "execution_count": 60,
   "id": "e86204e3",
   "metadata": {},
   "outputs": [],
   "source": [
    "#!pip install shapely\n",
    "import numpy as np\n",
    "import pandas as pd\n",
    "import matplotlib.pyplot as plt\n",
    "import seaborn as sns\n",
    "from shapely import geometry\n",
    "from shapely.geometry import Point, Polygon\n",
    "import geopandas as gpd\n",
    "from datetime import timedelta\n",
    "import math\n",
    "import datetime as dt"
   ]
  },
  {
   "cell_type": "code",
   "execution_count": 61,
   "id": "2cafc996",
   "metadata": {},
   "outputs": [],
   "source": [
    "# Set chart style\n",
    "plt.style.use('fivethirtyeight')"
   ]
  },
  {
   "cell_type": "markdown",
   "id": "b868534c",
   "metadata": {},
   "source": [
    "## Using the geo_traintest dataframe\n",
    "\n",
    "Using the geo_traintest dataframe in notebook 2 apply our analysis of infection rates and sensitivity to a target year of choice - 2014. Therefore, the top half of this notebook is extracted from notebook 2 to acheive the same dataframe.  "
   ]
  },
  {
   "cell_type": "code",
   "execution_count": 62,
   "id": "83ed7df6",
   "metadata": {},
   "outputs": [],
   "source": [
    "geo_traintest = pd.read_csv('../data/geo_traintest.csv', index_col='Unnamed: 0')"
   ]
  },
  {
   "cell_type": "markdown",
   "id": "e8876c8e",
   "metadata": {},
   "source": [
    "## Calculation of infection rate"
   ]
  },
  {
   "cell_type": "markdown",
   "id": "e25343a9",
   "metadata": {},
   "source": [
    "#### Trap prevalence of WNV"
   ]
  },
  {
   "cell_type": "markdown",
   "id": "872c043e",
   "metadata": {},
   "source": [
    "This shows out of all the traps surveyed in that year, how many of them have WNV presence."
   ]
  },
  {
   "cell_type": "code",
   "execution_count": 63,
   "id": "c9c1a946",
   "metadata": {
    "scrolled": true
   },
   "outputs": [
    {
     "data": {
      "text/plain": [
       "year\n",
       "2007    0.070182\n",
       "2008         NaN\n",
       "2009    0.010096\n",
       "2010         NaN\n",
       "2011    0.029709\n",
       "2012         NaN\n",
       "2013    0.097263\n",
       "2014         NaN\n",
       "Name: wnvpresent, dtype: float64"
      ]
     },
     "execution_count": 63,
     "metadata": {},
     "output_type": "execute_result"
    }
   ],
   "source": [
    "geo_traintest.groupby('year')['wnvpresent'].mean()"
   ]
  },
  {
   "cell_type": "code",
   "execution_count": 64,
   "id": "6061b8c1",
   "metadata": {},
   "outputs": [],
   "source": [
    "prev_07 = 0.070182\n",
    "prev_09 = 0.010096\n",
    "prev_11 = 0.029709\n",
    "prev_13 = 0.097263"
   ]
  },
  {
   "cell_type": "markdown",
   "id": "1fdb2fa6",
   "metadata": {},
   "source": [
    "#### Population Size\n",
    "https://www.biggestuscities.com/il/2007\n",
    "Gov data on population count\n",
    "https://www.opendatanetwork.com/entity/1600000US1714000/Chicago_IL/demographics.population.count?year=2011"
   ]
  },
  {
   "cell_type": "code",
   "execution_count": 65,
   "id": "23906054",
   "metadata": {},
   "outputs": [],
   "source": [
    "pop_2007 = 2_811_035\n",
    "pop_2009 = 2_824_064\n",
    "pop_2011 = 2_700_741\n",
    "pop_2013 = 2_706_101"
   ]
  },
  {
   "cell_type": "markdown",
   "id": "3b92e58b",
   "metadata": {},
   "source": [
    "#### Number of people with WNV by years \n",
    "\n",
    "https://www.chicago.gov/content/dam/city/depts/cdph/food_env/general/West_Nile_Virus/WNV_2018databrief_FINALJan102019.pdf\n",
    "Previous infected number of people\n",
    "https://www.chicago.gov/content/dam/city/depts/cdph/statistics_and_reports/CDInfo_2013_JULY_WNV.pdf"
   ]
  },
  {
   "cell_type": "code",
   "execution_count": 66,
   "id": "70bd6ef2",
   "metadata": {},
   "outputs": [],
   "source": [
    "inf_2007 = 10\n",
    "inf_2009 = 1\n",
    "inf_2011 = 8\n",
    "inf_2013 = 37"
   ]
  },
  {
   "cell_type": "markdown",
   "id": "16397935",
   "metadata": {},
   "source": [
    "#### Drawing relations: Rate of infection by proportion of traps that had WNV\n",
    "\n",
    "The prevalence of traps with WNV multiplied by the number of people population in Chicago is not sufficient to tell us how many people will get infected with WNV. When multiplied by an infection rate, we will be able to get the number of infected people. Therefore, infection rate is the number of infected people, divided by prevalence rate of that year, and the population of that year."
   ]
  },
  {
   "cell_type": "code",
   "execution_count": 67,
   "id": "ded14e92",
   "metadata": {},
   "outputs": [
    {
     "data": {
      "text/plain": [
       "5.068833276556648e-05"
      ]
     },
     "execution_count": 67,
     "metadata": {},
     "output_type": "execute_result"
    }
   ],
   "source": [
    "a = inf_2007 / (prev_07 * pop_2007)\n",
    "a"
   ]
  },
  {
   "cell_type": "code",
   "execution_count": 68,
   "id": "2a2c27b3",
   "metadata": {},
   "outputs": [
    {
     "data": {
      "text/plain": [
       "3.507325909316161e-05"
      ]
     },
     "execution_count": 68,
     "metadata": {},
     "output_type": "execute_result"
    }
   ],
   "source": [
    "b = inf_2009 / (prev_09 * pop_2009)\n",
    "b"
   ]
  },
  {
   "cell_type": "code",
   "execution_count": 69,
   "id": "0a214cfb",
   "metadata": {},
   "outputs": [
    {
     "data": {
      "text/plain": [
       "9.970547703884652e-05"
      ]
     },
     "execution_count": 69,
     "metadata": {},
     "output_type": "execute_result"
    }
   ],
   "source": [
    "c = inf_2011 / (prev_11 * pop_2011)\n",
    "c"
   ]
  },
  {
   "cell_type": "code",
   "execution_count": 70,
   "id": "68b353bd",
   "metadata": {},
   "outputs": [
    {
     "data": {
      "text/plain": [
       "0.0001405756374071024"
      ]
     },
     "execution_count": 70,
     "metadata": {},
     "output_type": "execute_result"
    }
   ],
   "source": [
    "d  = inf_2013 / (prev_13 * pop_2013)\n",
    "d"
   ]
  },
  {
   "cell_type": "markdown",
   "id": "ff367640",
   "metadata": {},
   "source": [
    "We will take the average of these 4 years to get an estimated infection rate in Chicago."
   ]
  },
  {
   "cell_type": "code",
   "execution_count": 71,
   "id": "ba08a8fa",
   "metadata": {},
   "outputs": [
    {
     "data": {
      "text/plain": [
       "8.151067657616925e-05"
      ]
     },
     "execution_count": 71,
     "metadata": {},
     "output_type": "execute_result"
    }
   ],
   "source": [
    "infection_rate = (a+b+c+d)/4\n",
    "infection_rate"
   ]
  },
  {
   "cell_type": "markdown",
   "id": "76a060e1",
   "metadata": {},
   "source": [
    "## Cost of spraying"
   ]
  },
  {
   "cell_type": "markdown",
   "id": "928b1601",
   "metadata": {},
   "source": [
    "Type of spray: Zenivex\n",
    "https://www.chicago.gov/city/en/depts/cdph/provdrs/healthy_living/news/2021/august/city-to-spray-insecticide-wednesday-to-kill-mosquitoes.html"
   ]
  },
  {
   "cell_type": "code",
   "execution_count": 72,
   "id": "3273dfd5",
   "metadata": {},
   "outputs": [
    {
     "data": {
      "text/plain": [
       "year\n",
       "2007    0.070182\n",
       "2008         NaN\n",
       "2009    0.010096\n",
       "2010         NaN\n",
       "2011    0.029709\n",
       "2012         NaN\n",
       "2013    0.097263\n",
       "2014         NaN\n",
       "Name: wnvpresent, dtype: float64"
      ]
     },
     "execution_count": 72,
     "metadata": {},
     "output_type": "execute_result"
    }
   ],
   "source": [
    "geo_traintest.groupby('year')['wnvpresent'].mean()"
   ]
  },
  {
   "cell_type": "code",
   "execution_count": 73,
   "id": "e732e34e",
   "metadata": {},
   "outputs": [],
   "source": [
    "#converting acres to m^2\n",
    "acre_to_m2 = 4046.86"
   ]
  },
  {
   "cell_type": "markdown",
   "id": "1c7cec39",
   "metadata": {},
   "source": [
    "It costs 0.67c to spray one acre of land according to  information by Zenivex, the government chosen pesticide for mosquito control due to its non-toxicity to humans"
   ]
  },
  {
   "cell_type": "code",
   "execution_count": 74,
   "id": "b528d11d",
   "metadata": {},
   "outputs": [],
   "source": [
    "cost_to_spray = 0.67 #for each acre"
   ]
  },
  {
   "cell_type": "code",
   "execution_count": 75,
   "id": "8fe10264",
   "metadata": {},
   "outputs": [],
   "source": [
    "#cost to spray per 1000m2\n",
    "cost_to_spray_m2 = 0.67 / acre_to_m2 "
   ]
  },
  {
   "cell_type": "code",
   "execution_count": 76,
   "id": "a7f598f3",
   "metadata": {},
   "outputs": [
    {
     "data": {
      "text/plain": [
       "0.00016556045922023495"
      ]
     },
     "execution_count": 76,
     "metadata": {},
     "output_type": "execute_result"
    }
   ],
   "source": [
    "cost_to_spray_m2"
   ]
  },
  {
   "cell_type": "markdown",
   "id": "a35493d0",
   "metadata": {},
   "source": [
    "### Medical Cost per individual"
   ]
  },
  {
   "cell_type": "markdown",
   "id": "3fea0790",
   "metadata": {},
   "source": [
    "Using data from this website that details cost to America over 1999-2012 data that confluence of factors such as the physician's cost, diagnostic test cost, and productivity costs, and long term costs such as caregiving.\n",
    "\n",
    "https://www.sciencedaily.com/releases/2014/02/140210184713.htm#:~:text=In%20a%20study%20of%20the,care%20expenditures%20and%20lost%20productivity"
   ]
  },
  {
   "cell_type": "code",
   "execution_count": 77,
   "id": "e4699cf0",
   "metadata": {},
   "outputs": [
    {
     "data": {
      "text/plain": [
       "20977.13546160483"
      ]
     },
     "execution_count": 77,
     "metadata": {},
     "output_type": "execute_result"
    }
   ],
   "source": [
    "cost_indiv = 778_000_000 / 37_088\n",
    "cost_indiv"
   ]
  },
  {
   "cell_type": "markdown",
   "id": "fcf111b5",
   "metadata": {},
   "source": [
    "## 2014 test data (with 50% threshold to be counted as positive)"
   ]
  },
  {
   "cell_type": "code",
   "execution_count": 78,
   "id": "547d2a46",
   "metadata": {},
   "outputs": [],
   "source": [
    "pop_2014 = 2712608"
   ]
  },
  {
   "cell_type": "code",
   "execution_count": 79,
   "id": "b7840a5f",
   "metadata": {},
   "outputs": [],
   "source": [
    "prev_14_50 = 0.201006 #from our test data, after being fitted with our model of 50%, the prevalence of traps with wnv\n",
    "                        # is about 0.2"
   ]
  },
  {
   "cell_type": "code",
   "execution_count": 80,
   "id": "09f6499a",
   "metadata": {},
   "outputs": [
    {
     "data": {
      "text/plain": [
       "44.44373582563198"
      ]
     },
     "execution_count": 80,
     "metadata": {},
     "output_type": "execute_result"
    }
   ],
   "source": [
    "inf_2014_50 = infection_rate * prev_14_50 * pop_2014\n",
    "inf_2014_50\n",
    "#This will give the number of people infected in 2014"
   ]
  },
  {
   "cell_type": "markdown",
   "id": "7e0196e8",
   "metadata": {},
   "source": [
    "#### Number of lives impacted "
   ]
  },
  {
   "cell_type": "code",
   "execution_count": 81,
   "id": "af1cc482",
   "metadata": {},
   "outputs": [
    {
     "data": {
      "text/plain": [
       "34.31056405738789"
      ]
     },
     "execution_count": 81,
     "metadata": {},
     "output_type": "execute_result"
    }
   ],
   "source": [
    "num_impact_50 = inf_2014_50 * 0.772 #our sensitivity value is 0.772 for our final model with default threshold\n",
    "num_impact_50"
   ]
  },
  {
   "cell_type": "markdown",
   "id": "9dddd790",
   "metadata": {},
   "source": [
    "#### Cost saved of lives impacted"
   ]
  },
  {
   "cell_type": "code",
   "execution_count": 82,
   "id": "431f2956",
   "metadata": {
    "scrolled": true
   },
   "outputs": [
    {
     "data": {
      "text/plain": [
       "719737.3499958956"
      ]
     },
     "execution_count": 82,
     "metadata": {},
     "output_type": "execute_result"
    }
   ],
   "source": [
    "num_impact_50 * cost_indiv"
   ]
  },
  {
   "cell_type": "markdown",
   "id": "bf129f04",
   "metadata": {},
   "source": [
    "If only sprayed around 1km radius, when the traps are tested as positive for WNV"
   ]
  },
  {
   "cell_type": "code",
   "execution_count": 83,
   "id": "59e64477",
   "metadata": {},
   "outputs": [
    {
     "data": {
      "text/plain": [
       "316225.7750453438"
      ]
     },
     "execution_count": 83,
     "metadata": {},
     "output_type": "execute_result"
    }
   ],
   "source": [
    "cost_radius = 608 * 1000 * 1000 * 3.1415 * cost_to_spray_m2 #608 traps considered to be positive due to increased sensitivity\n",
    "cost_radius"
   ]
  },
  {
   "cell_type": "code",
   "execution_count": 84,
   "id": "9bdf3292",
   "metadata": {},
   "outputs": [
    {
     "data": {
      "text/plain": [
       "403511.57495055185"
      ]
     },
     "execution_count": 84,
     "metadata": {},
     "output_type": "execute_result"
    }
   ],
   "source": [
    "719737.3499958956 - 316225.7750453438\n"
   ]
  },
  {
   "cell_type": "markdown",
   "id": "612ca925",
   "metadata": {},
   "source": [
    "The amount saved is close to 403,511 dollars, therefore we would definitely go ahead with the spraying of mosquito adulticide.\n"
   ]
  },
  {
   "cell_type": "markdown",
   "id": "4b7474ab",
   "metadata": {},
   "source": [
    "## 2014 test data (with 30% threshold to be counted as positive)"
   ]
  },
  {
   "cell_type": "code",
   "execution_count": 85,
   "id": "c795b509",
   "metadata": {},
   "outputs": [],
   "source": [
    "prev_14_30 = 0.245156 #from our test data, after being fitted with our model of 30% "
   ]
  },
  {
   "cell_type": "code",
   "execution_count": 86,
   "id": "4b4b2c1e",
   "metadata": {},
   "outputs": [
    {
     "data": {
      "text/plain": [
       "54.205588390737766"
      ]
     },
     "execution_count": 86,
     "metadata": {},
     "output_type": "execute_result"
    }
   ],
   "source": [
    "inf_2014_30 = infection_rate * prev_14_30 * pop_2014\n",
    "inf_2014_30\n",
    "#This will give the number of people infected in 2014"
   ]
  },
  {
   "cell_type": "code",
   "execution_count": 87,
   "id": "58c00c39",
   "metadata": {},
   "outputs": [
    {
     "data": {
      "text/plain": [
       "48.405590432928825"
      ]
     },
     "execution_count": 87,
     "metadata": {},
     "output_type": "execute_result"
    }
   ],
   "source": [
    "num_impact_30 = inf_2014_30 * 0.893 #our sensitivity value is 0.893 for our final model with 30% threshold\n",
    "num_impact_30"
   ]
  },
  {
   "cell_type": "code",
   "execution_count": 88,
   "id": "3bbeaed5",
   "metadata": {},
   "outputs": [
    {
     "data": {
      "text/plain": [
       "1015410.6276105108"
      ]
     },
     "execution_count": 88,
     "metadata": {},
     "output_type": "execute_result"
    }
   ],
   "source": [
    "num_impact_30 * cost_indiv"
   ]
  },
  {
   "cell_type": "code",
   "execution_count": 89,
   "id": "1144f953",
   "metadata": {},
   "outputs": [
    {
     "data": {
      "text/plain": [
       "382799.62242331094"
      ]
     },
     "execution_count": 89,
     "metadata": {},
     "output_type": "execute_result"
    }
   ],
   "source": [
    "cost_radius = 736 * 1000 * 1000 * 3.1415 * cost_to_spray_m2 #706 traps considered as positive due to increased sensitivity\n",
    "cost_radius"
   ]
  },
  {
   "cell_type": "code",
   "execution_count": 90,
   "id": "e784abbf",
   "metadata": {},
   "outputs": [
    {
     "data": {
      "text/plain": [
       "632611.0051871999"
      ]
     },
     "execution_count": 90,
     "metadata": {},
     "output_type": "execute_result"
    }
   ],
   "source": [
    "1015410.6276105108 - 382799.62242331094"
   ]
  },
  {
   "cell_type": "markdown",
   "id": "3a23cdae",
   "metadata": {},
   "source": [
    "We will save about 632,611 in cost, which is about 230K more than if we had set our threshold to be 50%. Therefore, we will want sensitivity to increase by setting our threshold to be about 30%, and apply the spray accordingly."
   ]
  },
  {
   "cell_type": "markdown",
   "id": "95b7bff0",
   "metadata": {},
   "source": [
    "# Conclusion and Recommendations"
   ]
  },
  {
   "cell_type": "markdown",
   "id": "c0111b28",
   "metadata": {},
   "source": [
    "#### Weeks and interaction of weather features which are most important to predict presence of West Nile Virus \n",
    "\n",
    "- Probability of WNV increases exponentially from week 31 to 35, especially when there is a combination of high temperature and precipitation (rainfall). \n",
    "- Certain traps have higher chance of contracting WNV (e.g. T900, T003, T028)"
   ]
  },
  {
   "cell_type": "markdown",
   "id": "4a0aea03",
   "metadata": {},
   "source": [
    "#### We recommend using Logistic Regression with 30% threshold to predict WNV\n",
    "\n",
    "- 89% of WNV+ is being captured our model (based on sensitivity)\n",
    "- 15% of our positive predictions are correct\n",
    "\n",
    "#### More cost-effective to spray the city \n",
    "\n",
    "- Benefits to public health are economically significant when compared to the cost of eradicating mosquitoes\n",
    "- About 14 more true positives can be prevented in 2014, preventing medical costs\n",
    "- Cost of spray is lower than short and long term medical costs\n"
   ]
  },
  {
   "cell_type": "markdown",
   "id": "e2b1b718",
   "metadata": {},
   "source": [
    "## Next steps:\n",
    "\n",
    "- Further tune parameters to improve accuracy\n",
    "    - More weather features and their interaction\n",
    "    - Grouping of traps based on risk level (likelihood of WNV)\n"
   ]
  }
 ],
 "metadata": {
  "kernelspec": {
   "display_name": "Python 3 (ipykernel)",
   "language": "python",
   "name": "python3"
  },
  "language_info": {
   "codemirror_mode": {
    "name": "ipython",
    "version": 3
   },
   "file_extension": ".py",
   "mimetype": "text/x-python",
   "name": "python",
   "nbconvert_exporter": "python",
   "pygments_lexer": "ipython3",
   "version": "3.7.13"
  }
 },
 "nbformat": 4,
 "nbformat_minor": 5
}
