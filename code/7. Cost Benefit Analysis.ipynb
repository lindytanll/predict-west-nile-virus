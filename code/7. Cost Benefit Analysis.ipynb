{
 "cells": [
  {
   "cell_type": "markdown",
   "id": "58b50624",
   "metadata": {},
   "source": [
    "# Project 4: Predict West Nile Virus\n",
    "### Section 2: Trap & Spray Data Cleaning & EDA"
   ]
  },
  {
   "cell_type": "markdown",
   "id": "74bd8c77",
   "metadata": {},
   "source": [
    "## Problem Statement\n",
    "\n",
    "1. As an employee of Disease And Treatment Agency, division of Societal Cures In Epidemiology and New Creative Engineering (DATA-SCIENCE), we are tasked to better understand the mosquito population and advise on appropriate interventions which are beneficial and cost-effective for the city.\n",
    "\n",
    "\n",
    "2. Through this project, we hope to:\n",
    "- Identify features which are most important to predict presence of West Nile Virus (which can be done by ranking the coefficients of each feature in a logistic regression model)\n",
    "- Predict the probability of West Nile Virus by location to provide decision makers an effective plan to deploy pesticides throughout the city, which consequently can help to reduce cost."
   ]
  },
  {
   "cell_type": "markdown",
   "id": "b5161723",
   "metadata": {},
   "source": [
    "## Import Libraries"
   ]
  },
  {
   "cell_type": "code",
   "execution_count": 2,
   "id": "e86204e3",
   "metadata": {},
   "outputs": [],
   "source": [
    "#!pip install shapely\n",
    "import numpy as np\n",
    "import pandas as pd\n",
    "import matplotlib.pyplot as plt\n",
    "import seaborn as sns\n",
    "from shapely import geometry\n",
    "from shapely.geometry import Point, Polygon\n",
    "import geopandas as gpd\n",
    "from datetime import timedelta\n",
    "import math\n",
    "import datetime as dt"
   ]
  },
  {
   "cell_type": "code",
   "execution_count": 3,
   "id": "2cafc996",
   "metadata": {},
   "outputs": [],
   "source": [
    "# Set chart style\n",
    "plt.style.use('fivethirtyeight')"
   ]
  },
  {
   "cell_type": "markdown",
   "id": "6595c41b",
   "metadata": {},
   "source": [
    "## Load Data"
   ]
  },
  {
   "cell_type": "code",
   "execution_count": 4,
   "id": "81ff6b74",
   "metadata": {},
   "outputs": [],
   "source": [
    "# Load datasets\n",
    "traintest_data = pd.read_csv('../data/data_traintest.csv', index_col='Unnamed: 0')\n",
    "spray = pd.read_csv('../data/data_spray.csv', index_col='Unnamed: 0')"
   ]
  },
  {
   "cell_type": "code",
   "execution_count": 5,
   "id": "74f751c9",
   "metadata": {},
   "outputs": [
    {
     "name": "stdout",
     "output_type": "stream",
     "text": [
      "<class 'pandas.core.frame.DataFrame'>\n",
      "Int64Index: 126799 entries, 0 to 126798\n",
      "Data columns (total 17 columns):\n",
      " #   Column                  Non-Null Count   Dtype  \n",
      "---  ------                  --------------   -----  \n",
      " 0   dataset                 126799 non-null  object \n",
      " 1   date                    126799 non-null  object \n",
      " 2   address                 126799 non-null  object \n",
      " 3   species                 126799 non-null  object \n",
      " 4   block                   126799 non-null  int64  \n",
      " 5   street                  126799 non-null  object \n",
      " 6   trap                    126799 non-null  object \n",
      " 7   addressnumberandstreet  126799 non-null  object \n",
      " 8   latitude                126799 non-null  float64\n",
      " 9   longitude               126799 non-null  float64\n",
      " 10  addressaccuracy         126799 non-null  int64  \n",
      " 11  nummosquitos            10506 non-null   float64\n",
      " 12  wnvpresent              10506 non-null   float64\n",
      " 13  year                    126799 non-null  int64  \n",
      " 14  month                   126799 non-null  int64  \n",
      " 15  week                    126799 non-null  int64  \n",
      " 16  dayofweek               126799 non-null  int64  \n",
      "dtypes: float64(4), int64(6), object(7)\n",
      "memory usage: 17.4+ MB\n"
     ]
    }
   ],
   "source": [
    "# Check columns and null values\n",
    "traintest_data.info()"
   ]
  },
  {
   "cell_type": "code",
   "execution_count": 6,
   "id": "ed2eafa6",
   "metadata": {},
   "outputs": [
    {
     "name": "stdout",
     "output_type": "stream",
     "text": [
      "<class 'pandas.core.frame.DataFrame'>\n",
      "Int64Index: 14835 entries, 0 to 14834\n",
      "Data columns (total 8 columns):\n",
      " #   Column     Non-Null Count  Dtype  \n",
      "---  ------     --------------  -----  \n",
      " 0   date       14835 non-null  object \n",
      " 1   time       14251 non-null  object \n",
      " 2   latitude   14835 non-null  float64\n",
      " 3   longitude  14835 non-null  float64\n",
      " 4   year       14835 non-null  int64  \n",
      " 5   month      14835 non-null  int64  \n",
      " 6   week       14835 non-null  int64  \n",
      " 7   dayofweek  14835 non-null  int64  \n",
      "dtypes: float64(2), int64(4), object(2)\n",
      "memory usage: 1.0+ MB\n"
     ]
    }
   ],
   "source": [
    "# Check columns and null values\n",
    "spray.info()"
   ]
  },
  {
   "cell_type": "code",
   "execution_count": 7,
   "id": "d9030234",
   "metadata": {},
   "outputs": [],
   "source": [
    "# Convert date column to datetime type \n",
    "traintest_data['date'] = pd.to_datetime(traintest_data['date'])\n",
    "spray['date'] = pd.to_datetime(spray['date'])"
   ]
  },
  {
   "cell_type": "code",
   "execution_count": 8,
   "id": "eac99ccc",
   "metadata": {},
   "outputs": [],
   "source": [
    "# Split train test data as mosquito count is only in train data\n",
    "train = traintest_data[traintest_data['dataset']=='train'].copy()\n",
    "test = traintest_data[traintest_data['dataset']=='test'].copy()"
   ]
  },
  {
   "cell_type": "markdown",
   "id": "8849c7f8",
   "metadata": {},
   "source": [
    "### Spray Data"
   ]
  },
  {
   "cell_type": "code",
   "execution_count": 9,
   "id": "1db59db5",
   "metadata": {},
   "outputs": [],
   "source": [
    "# There are 9 NaN values for timing of spray. \n",
    "# We will drop this column as we would not be using this column.\n",
    "spray.drop(columns='time', inplace=True)"
   ]
  },
  {
   "cell_type": "markdown",
   "id": "7fa36251",
   "metadata": {},
   "source": [
    "### Train Test Data"
   ]
  },
  {
   "cell_type": "markdown",
   "id": "66ddeee9",
   "metadata": {},
   "source": [
    "#### Duplicate rows\n",
    "\n",
    "According to the Data Description on Kaggle: \"These test results are organized in such a way that when the number of mosquitos exceed 50, they are split into another record (another row in the dataset), such that the number of mosquitos are capped at 50.\"\n",
    "\n",
    "We will first check for rows that are duplicates that are not 50"
   ]
  },
  {
   "cell_type": "code",
   "execution_count": 10,
   "id": "e8672b2d",
   "metadata": {},
   "outputs": [
    {
     "data": {
      "text/plain": [
       "(10506, 17)"
      ]
     },
     "execution_count": 10,
     "metadata": {},
     "output_type": "execute_result"
    }
   ],
   "source": [
    "train.shape"
   ]
  },
  {
   "cell_type": "code",
   "execution_count": 11,
   "id": "0c071d1d",
   "metadata": {},
   "outputs": [
    {
     "data": {
      "text/html": [
       "<div>\n",
       "<style scoped>\n",
       "    .dataframe tbody tr th:only-of-type {\n",
       "        vertical-align: middle;\n",
       "    }\n",
       "\n",
       "    .dataframe tbody tr th {\n",
       "        vertical-align: top;\n",
       "    }\n",
       "\n",
       "    .dataframe thead th {\n",
       "        text-align: right;\n",
       "    }\n",
       "</style>\n",
       "<table border=\"1\" class=\"dataframe\">\n",
       "  <thead>\n",
       "    <tr style=\"text-align: right;\">\n",
       "      <th></th>\n",
       "      <th>dataset</th>\n",
       "      <th>date</th>\n",
       "      <th>address</th>\n",
       "      <th>species</th>\n",
       "      <th>block</th>\n",
       "      <th>street</th>\n",
       "      <th>trap</th>\n",
       "      <th>addressnumberandstreet</th>\n",
       "      <th>latitude</th>\n",
       "      <th>longitude</th>\n",
       "      <th>addressaccuracy</th>\n",
       "      <th>nummosquitos</th>\n",
       "      <th>wnvpresent</th>\n",
       "      <th>year</th>\n",
       "      <th>month</th>\n",
       "      <th>week</th>\n",
       "      <th>dayofweek</th>\n",
       "    </tr>\n",
       "  </thead>\n",
       "  <tbody>\n",
       "    <tr>\n",
       "      <th>99</th>\n",
       "      <td>train</td>\n",
       "      <td>2007-06-26</td>\n",
       "      <td>2200 West 113th Street, Chicago, IL 60643, USA</td>\n",
       "      <td>CULEX PIPIENS/RESTUANS</td>\n",
       "      <td>22</td>\n",
       "      <td>W 113TH ST</td>\n",
       "      <td>T086</td>\n",
       "      <td>2200  W 113TH ST, Chicago, IL</td>\n",
       "      <td>41.688324</td>\n",
       "      <td>-87.676709</td>\n",
       "      <td>8</td>\n",
       "      <td>1.0</td>\n",
       "      <td>0.0</td>\n",
       "      <td>2007</td>\n",
       "      <td>6</td>\n",
       "      <td>26</td>\n",
       "      <td>1</td>\n",
       "    </tr>\n",
       "    <tr>\n",
       "      <th>512</th>\n",
       "      <td>train</td>\n",
       "      <td>2007-07-18</td>\n",
       "      <td>3300 West Randolph Street, Chicago, IL 60612, USA</td>\n",
       "      <td>CULEX RESTUANS</td>\n",
       "      <td>33</td>\n",
       "      <td>E RANDOLPH ST</td>\n",
       "      <td>T044</td>\n",
       "      <td>3300  E RANDOLPH ST, Chicago, IL</td>\n",
       "      <td>41.883284</td>\n",
       "      <td>-87.705085</td>\n",
       "      <td>8</td>\n",
       "      <td>1.0</td>\n",
       "      <td>0.0</td>\n",
       "      <td>2007</td>\n",
       "      <td>7</td>\n",
       "      <td>29</td>\n",
       "      <td>2</td>\n",
       "    </tr>\n",
       "    <tr>\n",
       "      <th>819</th>\n",
       "      <td>train</td>\n",
       "      <td>2007-08-01</td>\n",
       "      <td>2200 West 113th Street, Chicago, IL 60643, USA</td>\n",
       "      <td>CULEX RESTUANS</td>\n",
       "      <td>22</td>\n",
       "      <td>W 113TH ST</td>\n",
       "      <td>T086</td>\n",
       "      <td>2200  W 113TH ST, Chicago, IL</td>\n",
       "      <td>41.688324</td>\n",
       "      <td>-87.676709</td>\n",
       "      <td>8</td>\n",
       "      <td>1.0</td>\n",
       "      <td>0.0</td>\n",
       "      <td>2007</td>\n",
       "      <td>8</td>\n",
       "      <td>31</td>\n",
       "      <td>2</td>\n",
       "    </tr>\n",
       "    <tr>\n",
       "      <th>854</th>\n",
       "      <td>train</td>\n",
       "      <td>2007-08-01</td>\n",
       "      <td>7500 North Oakley Avenue, Chicago, IL 60645, USA</td>\n",
       "      <td>CULEX PIPIENS/RESTUANS</td>\n",
       "      <td>75</td>\n",
       "      <td>N OAKLEY AVE</td>\n",
       "      <td>T148</td>\n",
       "      <td>7500  N OAKLEY AVE, Chicago, IL</td>\n",
       "      <td>42.017430</td>\n",
       "      <td>-87.687769</td>\n",
       "      <td>8</td>\n",
       "      <td>2.0</td>\n",
       "      <td>0.0</td>\n",
       "      <td>2007</td>\n",
       "      <td>8</td>\n",
       "      <td>31</td>\n",
       "      <td>2</td>\n",
       "    </tr>\n",
       "    <tr>\n",
       "      <th>857</th>\n",
       "      <td>train</td>\n",
       "      <td>2007-08-01</td>\n",
       "      <td>7500 North Oakley Avenue, Chicago, IL 60645, USA</td>\n",
       "      <td>CULEX PIPIENS</td>\n",
       "      <td>75</td>\n",
       "      <td>N OAKLEY AVE</td>\n",
       "      <td>T148</td>\n",
       "      <td>7500  N OAKLEY AVE, Chicago, IL</td>\n",
       "      <td>42.017430</td>\n",
       "      <td>-87.687769</td>\n",
       "      <td>8</td>\n",
       "      <td>1.0</td>\n",
       "      <td>0.0</td>\n",
       "      <td>2007</td>\n",
       "      <td>8</td>\n",
       "      <td>31</td>\n",
       "      <td>2</td>\n",
       "    </tr>\n",
       "  </tbody>\n",
       "</table>\n",
       "</div>"
      ],
      "text/plain": [
       "    dataset       date                                            address  \\\n",
       "99    train 2007-06-26     2200 West 113th Street, Chicago, IL 60643, USA   \n",
       "512   train 2007-07-18  3300 West Randolph Street, Chicago, IL 60612, USA   \n",
       "819   train 2007-08-01     2200 West 113th Street, Chicago, IL 60643, USA   \n",
       "854   train 2007-08-01   7500 North Oakley Avenue, Chicago, IL 60645, USA   \n",
       "857   train 2007-08-01   7500 North Oakley Avenue, Chicago, IL 60645, USA   \n",
       "\n",
       "                    species  block          street  trap  \\\n",
       "99   CULEX PIPIENS/RESTUANS     22      W 113TH ST  T086   \n",
       "512          CULEX RESTUANS     33   E RANDOLPH ST  T044   \n",
       "819          CULEX RESTUANS     22      W 113TH ST  T086   \n",
       "854  CULEX PIPIENS/RESTUANS     75    N OAKLEY AVE  T148   \n",
       "857           CULEX PIPIENS     75    N OAKLEY AVE  T148   \n",
       "\n",
       "               addressnumberandstreet   latitude  longitude  addressaccuracy  \\\n",
       "99      2200  W 113TH ST, Chicago, IL  41.688324 -87.676709                8   \n",
       "512  3300  E RANDOLPH ST, Chicago, IL  41.883284 -87.705085                8   \n",
       "819     2200  W 113TH ST, Chicago, IL  41.688324 -87.676709                8   \n",
       "854   7500  N OAKLEY AVE, Chicago, IL  42.017430 -87.687769                8   \n",
       "857   7500  N OAKLEY AVE, Chicago, IL  42.017430 -87.687769                8   \n",
       "\n",
       "     nummosquitos  wnvpresent  year  month  week  dayofweek  \n",
       "99            1.0         0.0  2007      6    26          1  \n",
       "512           1.0         0.0  2007      7    29          2  \n",
       "819           1.0         0.0  2007      8    31          2  \n",
       "854           2.0         0.0  2007      8    31          2  \n",
       "857           1.0         0.0  2007      8    31          2  "
      ]
     },
     "execution_count": 11,
     "metadata": {},
     "output_type": "execute_result"
    }
   ],
   "source": [
    "# There are 106 rows that are duplicates that are not nummosquito = 50\n",
    "train[((train['nummosquitos']!=50) & train.duplicated())].head()"
   ]
  },
  {
   "cell_type": "code",
   "execution_count": 12,
   "id": "59e1cde2",
   "metadata": {},
   "outputs": [],
   "source": [
    "# Drop rows that are duplicates that are not nummosquito = 50\n",
    "train = train[~((train['nummosquitos']!=50) & train.duplicated())]"
   ]
  },
  {
   "cell_type": "code",
   "execution_count": 13,
   "id": "d5b109a5",
   "metadata": {},
   "outputs": [
    {
     "data": {
      "text/plain": [
       "Index(['dataset', 'date', 'address', 'species', 'block', 'street', 'trap',\n",
       "       'addressnumberandstreet', 'latitude', 'longitude', 'addressaccuracy',\n",
       "       'nummosquitos', 'wnvpresent', 'year', 'month', 'week', 'dayofweek'],\n",
       "      dtype='object')"
      ]
     },
     "execution_count": 13,
     "metadata": {},
     "output_type": "execute_result"
    }
   ],
   "source": [
    "train.columns"
   ]
  },
  {
   "cell_type": "code",
   "execution_count": 14,
   "id": "718267ef",
   "metadata": {},
   "outputs": [],
   "source": [
    "# Do a list of all columns except nummosquito\n",
    "allcols_except_nummosquito = ['dataset', 'date', 'address', 'species', 'block', 'street', 'trap',\n",
    "       'addressnumberandstreet', 'latitude', 'longitude', 'addressaccuracy', 'wnvpresent', 'year', 'month', 'week', 'dayofweek']"
   ]
  },
  {
   "cell_type": "code",
   "execution_count": 15,
   "id": "366d0024",
   "metadata": {},
   "outputs": [
    {
     "data": {
      "text/plain": [
       "134321.0"
      ]
     },
     "execution_count": 15,
     "metadata": {},
     "output_type": "execute_result"
    }
   ],
   "source": [
    "# Check sum of nummosquitos\n",
    "train['nummosquitos'].sum()"
   ]
  },
  {
   "cell_type": "code",
   "execution_count": 16,
   "id": "790f0389",
   "metadata": {},
   "outputs": [
    {
     "data": {
      "text/plain": [
       "(10400, 17)"
      ]
     },
     "execution_count": 16,
     "metadata": {},
     "output_type": "execute_result"
    }
   ],
   "source": [
    "# Check: number of rows\n",
    "train.shape"
   ]
  },
  {
   "cell_type": "code",
   "execution_count": 17,
   "id": "2ef13c81",
   "metadata": {},
   "outputs": [],
   "source": [
    "# Sum nummosquitos for unique rows\n",
    "train = train.groupby(allcols_except_nummosquito).sum().reset_index(inplace=False)"
   ]
  },
  {
   "cell_type": "code",
   "execution_count": 18,
   "id": "ca893593",
   "metadata": {},
   "outputs": [
    {
     "data": {
      "text/plain": [
       "134321.0"
      ]
     },
     "execution_count": 18,
     "metadata": {},
     "output_type": "execute_result"
    }
   ],
   "source": [
    "# Check: train_processing was summed correctly as we have the correct sum of nummosquito\n",
    "train['nummosquitos'].sum()"
   ]
  },
  {
   "cell_type": "code",
   "execution_count": 19,
   "id": "7eafcfb8",
   "metadata": {},
   "outputs": [
    {
     "data": {
      "text/plain": [
       "(8610, 17)"
      ]
     },
     "execution_count": 19,
     "metadata": {},
     "output_type": "execute_result"
    }
   ],
   "source": [
    "# Check: train_processing was summed correctly as we have the correct rows\n",
    "train.shape"
   ]
  },
  {
   "cell_type": "code",
   "execution_count": 20,
   "id": "16762621",
   "metadata": {},
   "outputs": [
    {
     "data": {
      "text/plain": [
       "(116293, 17)"
      ]
     },
     "execution_count": 20,
     "metadata": {},
     "output_type": "execute_result"
    }
   ],
   "source": [
    "test.shape"
   ]
  },
  {
   "cell_type": "code",
   "execution_count": 21,
   "id": "a20e2f62",
   "metadata": {},
   "outputs": [
    {
     "data": {
      "text/plain": [
       "1533"
      ]
     },
     "execution_count": 21,
     "metadata": {},
     "output_type": "execute_result"
    }
   ],
   "source": [
    "test.duplicated().sum()"
   ]
  },
  {
   "cell_type": "code",
   "execution_count": 22,
   "id": "496b6644",
   "metadata": {},
   "outputs": [],
   "source": [
    "test.drop_duplicates(inplace=True)"
   ]
  },
  {
   "cell_type": "markdown",
   "id": "edcc03cc",
   "metadata": {},
   "source": [
    "We have dropped 106 duplicate rows in Train and 1533 rows in Test, and combined 1,790 rows in Train."
   ]
  },
  {
   "cell_type": "code",
   "execution_count": 23,
   "id": "145ca1e0",
   "metadata": {},
   "outputs": [],
   "source": [
    "traintest = pd.concat([train,test], axis=0)"
   ]
  },
  {
   "cell_type": "markdown",
   "id": "ffe3ade4",
   "metadata": {},
   "source": [
    "#### Trap, Address and Location\n",
    "Check for consistency across Trap, Address and Location columns"
   ]
  },
  {
   "cell_type": "code",
   "execution_count": 24,
   "id": "abf2b178",
   "metadata": {},
   "outputs": [
    {
     "data": {
      "text/plain": [
       "count    136.000000\n",
       "mean      63.308824\n",
       "std       43.907734\n",
       "min        2.000000\n",
       "25%       22.000000\n",
       "50%       61.000000\n",
       "75%       98.500000\n",
       "max      182.000000\n",
       "Name: trap, dtype: float64"
      ]
     },
     "execution_count": 24,
     "metadata": {},
     "output_type": "execute_result"
    }
   ],
   "source": [
    "# Description of the number of times each trap appears in the dataset\n",
    "traintest.loc[traintest['dataset'] == 'train', 'trap'].value_counts().describe()"
   ]
  },
  {
   "cell_type": "code",
   "execution_count": 25,
   "id": "b0a1ea47",
   "metadata": {},
   "outputs": [
    {
     "data": {
      "text/plain": [
       "count     149.000000\n",
       "mean      770.201342\n",
       "std        87.753261\n",
       "min       760.000000\n",
       "25%       760.000000\n",
       "50%       760.000000\n",
       "75%       760.000000\n",
       "max      1520.000000\n",
       "Name: trap, dtype: float64"
      ]
     },
     "execution_count": 25,
     "metadata": {},
     "output_type": "execute_result"
    }
   ],
   "source": [
    "# Description of the number of times each trap appears in the dataset\n",
    "traintest.loc[traintest['dataset'] == 'test', 'trap'].value_counts().describe()"
   ]
  },
  {
   "cell_type": "markdown",
   "id": "4a20aa4d",
   "metadata": {},
   "source": [
    "Most traps appear 760 times in the test dataset, but there are two that appear twice that number, 1520 times.\n",
    "\n",
    "We would check for non-unique addresses to confirm if these are duplicates or error"
   ]
  },
  {
   "cell_type": "code",
   "execution_count": 26,
   "id": "c6c13c4d",
   "metadata": {},
   "outputs": [
    {
     "data": {
      "text/plain": [
       "T009    1520\n",
       "T035    1520\n",
       "Name: trap, dtype: int64"
      ]
     },
     "execution_count": 26,
     "metadata": {},
     "output_type": "execute_result"
    }
   ],
   "source": [
    "# Description of the number of times each trap appears in the dataset\n",
    "traintest.loc[traintest['dataset'] == 'test', 'trap'].value_counts().loc[lambda x: x>760]"
   ]
  },
  {
   "cell_type": "code",
   "execution_count": 27,
   "id": "cce2764d",
   "metadata": {},
   "outputs": [],
   "source": [
    "# Count unique rows of trap name, address, and location\n",
    "unique_address = pd.DataFrame(traintest[['trap','block','address','street',\n",
    "                       'addressnumberandstreet','latitude',\n",
    "                       'longitude','addressaccuracy']].value_counts())"
   ]
  },
  {
   "cell_type": "code",
   "execution_count": 28,
   "id": "772259c0",
   "metadata": {},
   "outputs": [],
   "source": [
    "# Select traps that have more than one address location combination\n",
    "repeat_traps = unique_address.value_counts('trap').loc[lambda x: x>1]"
   ]
  },
  {
   "cell_type": "code",
   "execution_count": 29,
   "id": "494f8589",
   "metadata": {},
   "outputs": [
    {
     "data": {
      "text/html": [
       "<div>\n",
       "<style scoped>\n",
       "    .dataframe tbody tr th:only-of-type {\n",
       "        vertical-align: middle;\n",
       "    }\n",
       "\n",
       "    .dataframe tbody tr th {\n",
       "        vertical-align: top;\n",
       "    }\n",
       "\n",
       "    .dataframe thead th {\n",
       "        text-align: right;\n",
       "    }\n",
       "</style>\n",
       "<table border=\"1\" class=\"dataframe\">\n",
       "  <thead>\n",
       "    <tr style=\"text-align: right;\">\n",
       "      <th></th>\n",
       "      <th></th>\n",
       "      <th></th>\n",
       "      <th></th>\n",
       "      <th></th>\n",
       "      <th></th>\n",
       "      <th></th>\n",
       "      <th></th>\n",
       "      <th></th>\n",
       "      <th>0</th>\n",
       "    </tr>\n",
       "    <tr>\n",
       "      <th>trap</th>\n",
       "      <th>dataset</th>\n",
       "      <th>block</th>\n",
       "      <th>address</th>\n",
       "      <th>street</th>\n",
       "      <th>addressnumberandstreet</th>\n",
       "      <th>latitude</th>\n",
       "      <th>longitude</th>\n",
       "      <th>addressaccuracy</th>\n",
       "      <th></th>\n",
       "    </tr>\n",
       "  </thead>\n",
       "  <tbody>\n",
       "    <tr>\n",
       "      <th rowspan=\"4\" valign=\"top\">T009</th>\n",
       "      <th rowspan=\"2\" valign=\"top\">test</th>\n",
       "      <th rowspan=\"2\" valign=\"top\">91</th>\n",
       "      <th>9100 West Higgins Road, Rosemont, IL 60018, USA</th>\n",
       "      <th>W HIGGINS RD</th>\n",
       "      <th>9100  W HIGGINS RD, Chicago, IL</th>\n",
       "      <th>41.992478</th>\n",
       "      <th>-87.862995</th>\n",
       "      <th>8</th>\n",
       "      <td>760</td>\n",
       "    </tr>\n",
       "    <tr>\n",
       "      <th>9100 West Higgins Avenue, Chicago, IL 60656, USA</th>\n",
       "      <th>W HIGGINS AVE</th>\n",
       "      <th>9100  W HIGGINS AVE, Chicago, IL</th>\n",
       "      <th>41.981964</th>\n",
       "      <th>-87.812827</th>\n",
       "      <th>8</th>\n",
       "      <td>760</td>\n",
       "    </tr>\n",
       "    <tr>\n",
       "      <th rowspan=\"2\" valign=\"top\">train</th>\n",
       "      <th rowspan=\"2\" valign=\"top\">91</th>\n",
       "      <th>9100 West Higgins Road, Rosemont, IL 60018, USA</th>\n",
       "      <th>W HIGGINS RD</th>\n",
       "      <th>9100  W HIGGINS RD, Chicago, IL</th>\n",
       "      <th>41.992478</th>\n",
       "      <th>-87.862995</th>\n",
       "      <th>8</th>\n",
       "      <td>70</td>\n",
       "    </tr>\n",
       "    <tr>\n",
       "      <th>9100 West Higgins Avenue, Chicago, IL 60656, USA</th>\n",
       "      <th>W HIGGINS AVE</th>\n",
       "      <th>9100  W HIGGINS AVE, Chicago, IL</th>\n",
       "      <th>41.981964</th>\n",
       "      <th>-87.812827</th>\n",
       "      <th>8</th>\n",
       "      <td>27</td>\n",
       "    </tr>\n",
       "    <tr>\n",
       "      <th rowspan=\"4\" valign=\"top\">T035</th>\n",
       "      <th rowspan=\"2\" valign=\"top\">test</th>\n",
       "      <th>30</th>\n",
       "      <th>3000 South Hoyne Avenue, Chicago, IL 60608, USA</th>\n",
       "      <th>S HOYNE AVE</th>\n",
       "      <th>3000  S HOYNE AVE, Chicago, IL</th>\n",
       "      <th>41.836644</th>\n",
       "      <th>-87.677737</th>\n",
       "      <th>8</th>\n",
       "      <td>760</td>\n",
       "    </tr>\n",
       "    <tr>\n",
       "      <th>51</th>\n",
       "      <th>5100 West 72nd Street, Chicago, IL 60638, USA</th>\n",
       "      <th>W 72ND ST</th>\n",
       "      <th>5100  W 72ND ST, Chicago, IL</th>\n",
       "      <th>41.763733</th>\n",
       "      <th>-87.742302</th>\n",
       "      <th>8</th>\n",
       "      <td>760</td>\n",
       "    </tr>\n",
       "    <tr>\n",
       "      <th rowspan=\"2\" valign=\"top\">train</th>\n",
       "      <th>51</th>\n",
       "      <th>5100 West 72nd Street, Chicago, IL 60638, USA</th>\n",
       "      <th>W 72ND ST</th>\n",
       "      <th>5100  W 72ND ST, Chicago, IL</th>\n",
       "      <th>41.763733</th>\n",
       "      <th>-87.742302</th>\n",
       "      <th>8</th>\n",
       "      <td>45</td>\n",
       "    </tr>\n",
       "    <tr>\n",
       "      <th>30</th>\n",
       "      <th>3000 South Hoyne Avenue, Chicago, IL 60608, USA</th>\n",
       "      <th>S HOYNE AVE</th>\n",
       "      <th>3000  S HOYNE AVE, Chicago, IL</th>\n",
       "      <th>41.836644</th>\n",
       "      <th>-87.677737</th>\n",
       "      <th>8</th>\n",
       "      <td>27</td>\n",
       "    </tr>\n",
       "  </tbody>\n",
       "</table>\n",
       "</div>"
      ],
      "text/plain": [
       "                                                                                                                                                            0\n",
       "trap dataset block address                                          street         addressnumberandstreet           latitude  longitude  addressaccuracy     \n",
       "T009 test    91    9100 West Higgins Road, Rosemont, IL 60018, USA   W HIGGINS RD  9100  W HIGGINS RD, Chicago, IL  41.992478 -87.862995 8                760\n",
       "                   9100 West Higgins Avenue, Chicago, IL 60656, USA  W HIGGINS AVE 9100  W HIGGINS AVE, Chicago, IL 41.981964 -87.812827 8                760\n",
       "     train   91    9100 West Higgins Road, Rosemont, IL 60018, USA   W HIGGINS RD  9100  W HIGGINS RD, Chicago, IL  41.992478 -87.862995 8                 70\n",
       "                   9100 West Higgins Avenue, Chicago, IL 60656, USA  W HIGGINS AVE 9100  W HIGGINS AVE, Chicago, IL 41.981964 -87.812827 8                 27\n",
       "T035 test    30    3000 South Hoyne Avenue, Chicago, IL 60608, USA   S HOYNE AVE   3000  S HOYNE AVE, Chicago, IL   41.836644 -87.677737 8                760\n",
       "             51    5100 West 72nd Street, Chicago, IL 60638, USA     W 72ND ST     5100  W 72ND ST, Chicago, IL     41.763733 -87.742302 8                760\n",
       "     train   51    5100 West 72nd Street, Chicago, IL 60638, USA     W 72ND ST     5100  W 72ND ST, Chicago, IL     41.763733 -87.742302 8                 45\n",
       "             30    3000 South Hoyne Avenue, Chicago, IL 60608, USA   S HOYNE AVE   3000  S HOYNE AVE, Chicago, IL   41.836644 -87.677737 8                 27"
      ]
     },
     "execution_count": 29,
     "metadata": {},
     "output_type": "execute_result"
    }
   ],
   "source": [
    "# View traps that have more than one address location combination\n",
    "# Add dataset column to unique_address\n",
    "unique_address = pd.DataFrame(traintest[['trap','dataset', 'block','address','street',\n",
    "                       'addressnumberandstreet','latitude',\n",
    "                       'longitude','addressaccuracy']].value_counts())\n",
    "unique_address.loc[repeat_traps.index.tolist()]"
   ]
  },
  {
   "cell_type": "markdown",
   "id": "608b6ce1",
   "metadata": {},
   "source": [
    "The same traps that have 1520 rows in the test data appears again in our non-unique address analysis, having different address and location coordinates. Hence its probable that these are seperate traps, probably satelite traps."
   ]
  },
  {
   "cell_type": "code",
   "execution_count": 30,
   "id": "0de8109b",
   "metadata": {},
   "outputs": [
    {
     "data": {
      "text/plain": [
       "date        trap  latitude   longitude \n",
       "2010-09-13  T009  41.981964  -87.812827    8\n",
       "2012-06-08  T035  41.836644  -87.677737    8\n",
       "2012-07-19  T035  41.836644  -87.677737    8\n",
       "                  41.763733  -87.742302    8\n",
       "            T009  41.992478  -87.862995    8\n",
       "                                          ..\n",
       "2009-06-12  T009  41.992478  -87.862995    1\n",
       "2013-09-06  T035  41.763733  -87.742302    1\n",
       "2013-09-19  T009  41.992478  -87.862995    1\n",
       "2013-09-26  T009  41.992478  -87.862995    1\n",
       "2007-06-05  T009  41.981964  -87.812827    1\n",
       "Length: 476, dtype: int64"
      ]
     },
     "metadata": {},
     "output_type": "display_data"
    }
   ],
   "source": [
    "# Select dates that have two different coordinates\n",
    "# Step 1: Select traps of interest and get list of unique rows\n",
    "duplicate_check1 = traintest.loc[traintest['trap'].isin(['T009','T035']),\n",
    "                                 ['date','trap','latitude','longitude']].value_counts()\n",
    "display(duplicate_check1)"
   ]
  },
  {
   "cell_type": "code",
   "execution_count": 31,
   "id": "a64b51e6",
   "metadata": {},
   "outputs": [
    {
     "data": {
      "text/plain": [
       "date        trap\n",
       "2010-09-16  T035    2\n",
       "2010-09-23  T009    2\n",
       "2010-09-24  T009    2\n",
       "            T035    2\n",
       "2010-10-01  T009    2\n",
       "                   ..\n",
       "2010-06-25  T035    2\n",
       "2010-06-28  T035    2\n",
       "2010-06-02  T009    2\n",
       "2010-07-01  T009    2\n",
       "            T035    2\n",
       "Length: 190, dtype: int64"
      ]
     },
     "execution_count": 31,
     "metadata": {},
     "output_type": "execute_result"
    }
   ],
   "source": [
    "# Select dates that have two different coordinates\n",
    "# Step 2: Select dates where traps have more than one latitude and longitude\n",
    "duplicate_check2 = duplicate_check1.reset_index().drop(columns=0)[['date','trap']] \\\n",
    "                        .value_counts().loc[lambda x: x>1]\n",
    "duplicate_check2"
   ]
  },
  {
   "cell_type": "markdown",
   "id": "9d6483f9",
   "metadata": {},
   "source": [
    "Furthermore these traps had readings in both locations on the same day. We propose to rename one of the trap location by adding a letter to the existing trap label."
   ]
  },
  {
   "cell_type": "code",
   "execution_count": 32,
   "id": "55b04761",
   "metadata": {},
   "outputs": [
    {
     "data": {
      "text/html": [
       "<div>\n",
       "<style scoped>\n",
       "    .dataframe tbody tr th:only-of-type {\n",
       "        vertical-align: middle;\n",
       "    }\n",
       "\n",
       "    .dataframe tbody tr th {\n",
       "        vertical-align: top;\n",
       "    }\n",
       "\n",
       "    .dataframe thead th {\n",
       "        text-align: right;\n",
       "    }\n",
       "</style>\n",
       "<table border=\"1\" class=\"dataframe\">\n",
       "  <thead>\n",
       "    <tr style=\"text-align: right;\">\n",
       "      <th></th>\n",
       "      <th>dataset</th>\n",
       "      <th>date</th>\n",
       "      <th>address</th>\n",
       "      <th>species</th>\n",
       "      <th>block</th>\n",
       "      <th>street</th>\n",
       "      <th>trap</th>\n",
       "      <th>addressnumberandstreet</th>\n",
       "      <th>latitude</th>\n",
       "      <th>longitude</th>\n",
       "      <th>addressaccuracy</th>\n",
       "      <th>wnvpresent</th>\n",
       "      <th>year</th>\n",
       "      <th>month</th>\n",
       "      <th>week</th>\n",
       "      <th>dayofweek</th>\n",
       "      <th>nummosquitos</th>\n",
       "    </tr>\n",
       "  </thead>\n",
       "  <tbody>\n",
       "  </tbody>\n",
       "</table>\n",
       "</div>"
      ],
      "text/plain": [
       "Empty DataFrame\n",
       "Columns: [dataset, date, address, species, block, street, trap, addressnumberandstreet, latitude, longitude, addressaccuracy, wnvpresent, year, month, week, dayofweek, nummosquitos]\n",
       "Index: []"
      ]
     },
     "execution_count": 32,
     "metadata": {},
     "output_type": "execute_result"
    }
   ],
   "source": [
    "# Check if T009 already exists\n",
    "traintest[traintest['trap']=='T009A']"
   ]
  },
  {
   "cell_type": "code",
   "execution_count": 33,
   "id": "49de8f6f",
   "metadata": {},
   "outputs": [
    {
     "data": {
      "text/html": [
       "<div>\n",
       "<style scoped>\n",
       "    .dataframe tbody tr th:only-of-type {\n",
       "        vertical-align: middle;\n",
       "    }\n",
       "\n",
       "    .dataframe tbody tr th {\n",
       "        vertical-align: top;\n",
       "    }\n",
       "\n",
       "    .dataframe thead th {\n",
       "        text-align: right;\n",
       "    }\n",
       "</style>\n",
       "<table border=\"1\" class=\"dataframe\">\n",
       "  <thead>\n",
       "    <tr style=\"text-align: right;\">\n",
       "      <th></th>\n",
       "      <th>dataset</th>\n",
       "      <th>date</th>\n",
       "      <th>address</th>\n",
       "      <th>species</th>\n",
       "      <th>block</th>\n",
       "      <th>street</th>\n",
       "      <th>trap</th>\n",
       "      <th>addressnumberandstreet</th>\n",
       "      <th>latitude</th>\n",
       "      <th>longitude</th>\n",
       "      <th>addressaccuracy</th>\n",
       "      <th>wnvpresent</th>\n",
       "      <th>year</th>\n",
       "      <th>month</th>\n",
       "      <th>week</th>\n",
       "      <th>dayofweek</th>\n",
       "      <th>nummosquitos</th>\n",
       "    </tr>\n",
       "  </thead>\n",
       "  <tbody>\n",
       "  </tbody>\n",
       "</table>\n",
       "</div>"
      ],
      "text/plain": [
       "Empty DataFrame\n",
       "Columns: [dataset, date, address, species, block, street, trap, addressnumberandstreet, latitude, longitude, addressaccuracy, wnvpresent, year, month, week, dayofweek, nummosquitos]\n",
       "Index: []"
      ]
     },
     "execution_count": 33,
     "metadata": {},
     "output_type": "execute_result"
    }
   ],
   "source": [
    "# Check if T305A already exists\n",
    "traintest[traintest['trap']=='T035A']"
   ]
  },
  {
   "cell_type": "code",
   "execution_count": 34,
   "id": "b51d55aa",
   "metadata": {},
   "outputs": [],
   "source": [
    "# Rename trap rows with different address\n",
    "traintest.loc[(traintest['latitude']==41.981964)&(traintest['longitude']==-87.812827),'trap'] = 'T009A'"
   ]
  },
  {
   "cell_type": "code",
   "execution_count": 35,
   "id": "06fea57f",
   "metadata": {},
   "outputs": [],
   "source": [
    "# Rename trap rows with different address\n",
    "traintest.loc[(traintest['latitude']==41.763733)&(traintest['longitude']==-87.742302),'trap'] = 'T035A'"
   ]
  },
  {
   "cell_type": "code",
   "execution_count": 36,
   "id": "2ac352e8",
   "metadata": {},
   "outputs": [],
   "source": [
    "# Drop address related columns\n",
    "traintest.drop(columns=['address', 'street','addressnumberandstreet','addressaccuracy','block'], \n",
    "               inplace=True, errors='ignore')"
   ]
  },
  {
   "cell_type": "markdown",
   "id": "53d93ccd",
   "metadata": {},
   "source": [
    "#### Mosquito categories\n",
    "\n",
    "We observe that there are 3 similar categories of mosquitoes, `CULEX PIPIENS/RESTUANS`, `CULEX PIPIENS`, and `CULEX RESTUANS`. From its name, it suggests that the second and third may be subsets of the first.\n",
    "\n",
    "We observe from the sum of number of mosquitos by category that the sum of `CULEX PIPIENS/RESTUANS`, `CULEX PIPIENS`, and `CULEX RESTUANS`"
   ]
  },
  {
   "cell_type": "code",
   "execution_count": 37,
   "id": "8bd2276c",
   "metadata": {},
   "outputs": [],
   "source": [
    "# Split train test data as mosquito count is only in train data\n",
    "train = traintest[traintest['dataset']=='train'].copy()\n",
    "test = traintest[traintest['dataset']=='test'].copy()"
   ]
  },
  {
   "cell_type": "code",
   "execution_count": 38,
   "id": "fc5e34c4",
   "metadata": {},
   "outputs": [
    {
     "data": {
      "text/plain": [
       "species\n",
       "CULEX ERRATICUS               7.0\n",
       "CULEX PIPIENS             44488.0\n",
       "CULEX PIPIENS/RESTUANS    65841.0\n",
       "CULEX RESTUANS            23326.0\n",
       "CULEX SALINARIUS            144.0\n",
       "CULEX TARSALIS                7.0\n",
       "CULEX TERRITANS             508.0\n",
       "Name: nummosquitos, dtype: float64"
      ]
     },
     "execution_count": 38,
     "metadata": {},
     "output_type": "execute_result"
    }
   ],
   "source": [
    "# Inspect count of species\n",
    "train.groupby(['species'])['nummosquitos'].sum()"
   ]
  },
  {
   "cell_type": "code",
   "execution_count": 39,
   "id": "e44b6703",
   "metadata": {},
   "outputs": [
    {
     "data": {
      "text/plain": [
       "species                 wnvpresent\n",
       "CULEX ERRATICUS         0.0               7.0\n",
       "CULEX PIPIENS           0.0           37759.0\n",
       "                        1.0            6729.0\n",
       "CULEX PIPIENS/RESTUANS  0.0           58739.0\n",
       "                        1.0            7102.0\n",
       "CULEX RESTUANS          0.0           22659.0\n",
       "                        1.0             667.0\n",
       "CULEX SALINARIUS        0.0             144.0\n",
       "CULEX TARSALIS          0.0               7.0\n",
       "CULEX TERRITANS         0.0             508.0\n",
       "Name: nummosquitos, dtype: float64"
      ]
     },
     "execution_count": 39,
     "metadata": {},
     "output_type": "execute_result"
    }
   ],
   "source": [
    "# Inspect count of species by wnvpresent\n",
    "train.groupby(['species','wnvpresent'])['nummosquitos'].sum()"
   ]
  },
  {
   "cell_type": "code",
   "execution_count": 40,
   "id": "44ea2652",
   "metadata": {},
   "outputs": [],
   "source": [
    "# Drop rows for categories with total few number of mosquitos\n",
    "train = train[train['species']\n",
    "                 .isin(['CULEX PIPIENS','CULEX PIPIENS/RESTUANS','CULEX RESTUANS'])]\n",
    "test = test[test['species']\n",
    "                 .isin(['CULEX PIPIENS','CULEX PIPIENS/RESTUANS','CULEX RESTUANS'])]"
   ]
  },
  {
   "cell_type": "code",
   "execution_count": 41,
   "id": "9e4f0815",
   "metadata": {},
   "outputs": [],
   "source": [
    "# Select columns to remain along the index in pivot table\n",
    "select_cols = ['dataset', 'date', 'trap', 'latitude', \n",
    "                              'longitude','wnvpresent', 'year', 'month', 'week', 'dayofweek']"
   ]
  },
  {
   "cell_type": "code",
   "execution_count": 42,
   "id": "cd511a58",
   "metadata": {},
   "outputs": [],
   "source": [
    "# Pivot table \n",
    "train_pivot = train.pivot_table(index = select_cols, \n",
    "                                           columns='species', \n",
    "                                           values='nummosquitos',\n",
    "                                           fill_value=0).reset_index()"
   ]
  },
  {
   "cell_type": "code",
   "execution_count": 43,
   "id": "9912d199",
   "metadata": {},
   "outputs": [],
   "source": [
    "# Create a column to sum the mosquito counts of 'CULEX PIPIENS' and'CULEX RESTUANS'\n",
    "train_pivot['sum_species'] = train_pivot['CULEX PIPIENS'] + train_pivot['CULEX RESTUANS']"
   ]
  },
  {
   "cell_type": "code",
   "execution_count": 44,
   "id": "731d5d94",
   "metadata": {},
   "outputs": [],
   "source": [
    "# Create a column to find the difference between the mosquito counts of \n",
    "# 'CULEX PIPIENS/RESTUANS' and the sum of 'CULEX PIPIENS' and'CULEX RESTUANS'\n",
    "train_pivot['compare'] = train_pivot['sum_species'] - train_pivot['CULEX PIPIENS/RESTUANS']"
   ]
  },
  {
   "cell_type": "code",
   "execution_count": 45,
   "id": "f1d49708",
   "metadata": {},
   "outputs": [
    {
     "data": {
      "text/plain": [
       "-1      555\n",
       "-2      361\n",
       " 0      293\n",
       "-3      273\n",
       " 1      193\n",
       "       ... \n",
       " 69       1\n",
       "-797      1\n",
       "-62       1\n",
       "-105      1\n",
       " 33       1\n",
       "Name: compare, Length: 238, dtype: int64"
      ]
     },
     "execution_count": 45,
     "metadata": {},
     "output_type": "execute_result"
    }
   ],
   "source": [
    "# Count of zero differences\n",
    "train_pivot[(train_pivot['CULEX PIPIENS/RESTUANS']!= 0)]['compare'].value_counts()"
   ]
  },
  {
   "cell_type": "markdown",
   "id": "50e7952b",
   "metadata": {},
   "source": [
    "There doesnt seem to be systematic duplication of data. Only 293 rows out of 3899 or 8% had zero differences and non-zero mosquito counts. Also, there is low correlation between the rows for both numerical values and count (existence of mosquitoes) are low.\n",
    "\n",
    "Hence we propose to leave the data as it is."
   ]
  },
  {
   "cell_type": "code",
   "execution_count": 46,
   "id": "d9672dab",
   "metadata": {},
   "outputs": [],
   "source": [
    "traintest = pd.concat([train,test], axis=0)"
   ]
  },
  {
   "cell_type": "markdown",
   "id": "269a0b46",
   "metadata": {},
   "source": [
    "### Export CSV"
   ]
  },
  {
   "cell_type": "code",
   "execution_count": 47,
   "id": "342b7609",
   "metadata": {},
   "outputs": [],
   "source": [
    "traintest.to_csv('../data/processed_traintest.csv')"
   ]
  },
  {
   "cell_type": "code",
   "execution_count": 48,
   "id": "09976bd9",
   "metadata": {},
   "outputs": [],
   "source": [
    "spray.to_csv('../data/processed_spray.csv')"
   ]
  },
  {
   "cell_type": "markdown",
   "id": "3561e98d",
   "metadata": {},
   "source": [
    "#### Joining TrainTest and Spray dataframes"
   ]
  },
  {
   "cell_type": "markdown",
   "id": "57b206c6",
   "metadata": {},
   "source": [
    "Note: the csv is exported before this as there is code in section 3 that joins the traintest data and spray dataframe"
   ]
  },
  {
   "cell_type": "code",
   "execution_count": 49,
   "id": "08725b60",
   "metadata": {},
   "outputs": [
    {
     "name": "stdout",
     "output_type": "stream",
     "text": [
      "<class 'pandas.core.frame.DataFrame'>\n",
      "Int64Index: 14835 entries, 0 to 14834\n",
      "Data columns (total 7 columns):\n",
      " #   Column     Non-Null Count  Dtype         \n",
      "---  ------     --------------  -----         \n",
      " 0   date       14835 non-null  datetime64[ns]\n",
      " 1   latitude   14835 non-null  float64       \n",
      " 2   longitude  14835 non-null  float64       \n",
      " 3   year       14835 non-null  int64         \n",
      " 4   month      14835 non-null  int64         \n",
      " 5   week       14835 non-null  int64         \n",
      " 6   dayofweek  14835 non-null  int64         \n",
      "dtypes: datetime64[ns](1), float64(2), int64(4)\n",
      "memory usage: 927.2 KB\n"
     ]
    }
   ],
   "source": [
    "spray.info()"
   ]
  },
  {
   "cell_type": "code",
   "execution_count": 50,
   "id": "49f794bf",
   "metadata": {},
   "outputs": [
    {
     "data": {
      "text/plain": [
       "2013-08-15    2668\n",
       "2013-08-29    2302\n",
       "2013-07-17    2202\n",
       "2011-09-07    2114\n",
       "2013-07-25    1607\n",
       "2013-08-22    1587\n",
       "2013-08-08    1195\n",
       "2013-09-05     924\n",
       "2013-08-16     141\n",
       "2011-08-29      95\n",
       "Name: date, dtype: int64"
      ]
     },
     "execution_count": 50,
     "metadata": {},
     "output_type": "execute_result"
    }
   ],
   "source": [
    "spray['date'].value_counts()"
   ]
  },
  {
   "cell_type": "code",
   "execution_count": 51,
   "id": "2cd67c68",
   "metadata": {},
   "outputs": [],
   "source": [
    "# create list of dates\n",
    "spray_dates = spray['date'].value_counts().index"
   ]
  },
  {
   "cell_type": "code",
   "execution_count": 52,
   "id": "0d5630b3",
   "metadata": {},
   "outputs": [],
   "source": [
    "# create function to return 1 if trap received spray within 1.1km (0.01 degree of latitude) within the past 7 day\n",
    "def near_spray(trap_lat, trap_long, date, distance=0.01, days=7):\n",
    "    \n",
    "    \"\"\" Input latitude and longitude of trap and date of interest. Return 1 if trap received spray \n",
    "    within 1.1km (0.01 degree of latitude) within the past 7 day\n",
    "    date = date that trap was checked\n",
    "    \n",
    "    \"\"\"\n",
    "    \n",
    "    trap_loc = geometry.Point(trap_lat, trap_long)\n",
    "\n",
    "    # create your circle buffer from trap_loc\n",
    "    circle_buffer = trap_loc.buffer(distance)\n",
    "\n",
    "    for lat, long in zip(list(spray.loc[(spray['date'] <= date) & \n",
    "                                        (spray['date'] >= (date - timedelta(days=days))),'latitude']), \n",
    "                         list(spray.loc[(spray['date'] <= date) & \n",
    "                                        (spray['date'] >= (date - timedelta(days=days))),'longitude'])):\n",
    "        spray_loc = geometry.Point(lat, long)\n",
    "\n",
    "        # and you can then check if the other point lies within\n",
    "        if spray_loc.within(circle_buffer):\n",
    "            return 1"
   ]
  },
  {
   "cell_type": "code",
   "execution_count": 53,
   "id": "042f13fd",
   "metadata": {},
   "outputs": [],
   "source": [
    "# create a column is_spray - 1 if trap received spray within 1.1km (0.01 degree of latitude) within the past 7 day\n",
    "traintest['is_spray'] = traintest.apply(\n",
    "    lambda row: near_spray(row['latitude'], row['longitude'], row['date'], distance=0.01, days=7),\n",
    "    axis = 1\n",
    ")"
   ]
  },
  {
   "cell_type": "code",
   "execution_count": 54,
   "id": "4089b796",
   "metadata": {},
   "outputs": [
    {
     "data": {
      "text/plain": [
       "41.867108"
      ]
     },
     "execution_count": 54,
     "metadata": {},
     "output_type": "execute_result"
    }
   ],
   "source": [
    "traintest['latitude'][0]"
   ]
  },
  {
   "cell_type": "code",
   "execution_count": 55,
   "id": "e1091cc5",
   "metadata": {
    "scrolled": true
   },
   "outputs": [
    {
     "data": {
      "text/html": [
       "<div>\n",
       "<style scoped>\n",
       "    .dataframe tbody tr th:only-of-type {\n",
       "        vertical-align: middle;\n",
       "    }\n",
       "\n",
       "    .dataframe tbody tr th {\n",
       "        vertical-align: top;\n",
       "    }\n",
       "\n",
       "    .dataframe thead th {\n",
       "        text-align: right;\n",
       "    }\n",
       "</style>\n",
       "<table border=\"1\" class=\"dataframe\">\n",
       "  <thead>\n",
       "    <tr style=\"text-align: right;\">\n",
       "      <th></th>\n",
       "      <th>trap</th>\n",
       "      <th>is_spray</th>\n",
       "    </tr>\n",
       "    <tr>\n",
       "      <th>date</th>\n",
       "      <th></th>\n",
       "      <th></th>\n",
       "    </tr>\n",
       "  </thead>\n",
       "  <tbody>\n",
       "    <tr>\n",
       "      <th>2011-09-12</th>\n",
       "      <td>2</td>\n",
       "      <td>2</td>\n",
       "    </tr>\n",
       "    <tr>\n",
       "      <th>2013-07-19</th>\n",
       "      <td>12</td>\n",
       "      <td>12</td>\n",
       "    </tr>\n",
       "    <tr>\n",
       "      <th>2013-07-25</th>\n",
       "      <td>1</td>\n",
       "      <td>1</td>\n",
       "    </tr>\n",
       "    <tr>\n",
       "      <th>2013-08-01</th>\n",
       "      <td>3</td>\n",
       "      <td>3</td>\n",
       "    </tr>\n",
       "    <tr>\n",
       "      <th>2013-08-08</th>\n",
       "      <td>3</td>\n",
       "      <td>3</td>\n",
       "    </tr>\n",
       "    <tr>\n",
       "      <th>2013-08-15</th>\n",
       "      <td>13</td>\n",
       "      <td>13</td>\n",
       "    </tr>\n",
       "    <tr>\n",
       "      <th>2013-08-22</th>\n",
       "      <td>22</td>\n",
       "      <td>22</td>\n",
       "    </tr>\n",
       "    <tr>\n",
       "      <th>2013-08-29</th>\n",
       "      <td>14</td>\n",
       "      <td>14</td>\n",
       "    </tr>\n",
       "    <tr>\n",
       "      <th>2013-09-06</th>\n",
       "      <td>2</td>\n",
       "      <td>2</td>\n",
       "    </tr>\n",
       "    <tr>\n",
       "      <th>2013-09-12</th>\n",
       "      <td>2</td>\n",
       "      <td>2</td>\n",
       "    </tr>\n",
       "  </tbody>\n",
       "</table>\n",
       "</div>"
      ],
      "text/plain": [
       "            trap  is_spray\n",
       "date                      \n",
       "2011-09-12     2         2\n",
       "2013-07-19    12        12\n",
       "2013-07-25     1         1\n",
       "2013-08-01     3         3\n",
       "2013-08-08     3         3\n",
       "2013-08-15    13        13\n",
       "2013-08-22    22        22\n",
       "2013-08-29    14        14\n",
       "2013-09-06     2         2\n",
       "2013-09-12     2         2"
      ]
     },
     "execution_count": 55,
     "metadata": {},
     "output_type": "execute_result"
    }
   ],
   "source": [
    "# number of traps sprayed within 1.1km (0.01 degree of latitude) within the past 7 days\n",
    "traintest.loc[traintest['is_spray']==1,['date', 'trap', 'is_spray']].groupby('date').count()"
   ]
  },
  {
   "cell_type": "code",
   "execution_count": 56,
   "id": "cff5bcbd",
   "metadata": {},
   "outputs": [],
   "source": [
    "traintest['is_spray'].fillna(0, inplace=True)"
   ]
  },
  {
   "cell_type": "markdown",
   "id": "89047c02",
   "metadata": {},
   "source": [
    "### Export CSV"
   ]
  },
  {
   "cell_type": "code",
   "execution_count": 57,
   "id": "779170d0",
   "metadata": {},
   "outputs": [
    {
     "data": {
      "text/plain": [
       "(51339, 13)"
      ]
     },
     "execution_count": 57,
     "metadata": {},
     "output_type": "execute_result"
    }
   ],
   "source": [
    "traintest.shape"
   ]
  },
  {
   "cell_type": "markdown",
   "id": "3663332a",
   "metadata": {},
   "source": [
    "### Translate Location Data for Trap location in Train & Test and Spray Locations"
   ]
  },
  {
   "cell_type": "markdown",
   "id": "c1bea3c7",
   "metadata": {},
   "source": [
    "We would use Shapely and Geopandas packages to process and visualize location data"
   ]
  },
  {
   "cell_type": "code",
   "execution_count": 58,
   "id": "9460fd0d",
   "metadata": {},
   "outputs": [],
   "source": [
    "# Define Coordinate Reference System type (according to the map boundary files)\n",
    "crs = {'init':'epsg:4326'}"
   ]
  },
  {
   "cell_type": "code",
   "execution_count": 59,
   "id": "fb914791",
   "metadata": {},
   "outputs": [],
   "source": [
    "# Trap Locations\n",
    "# Create column of Shapely Point objects of the location of each trap\n",
    "geometry = [Point(xy) for xy in zip(traintest['longitude'], traintest['latitude'])]\n",
    "# Transform traintest into a GeoDataFrame\n",
    "geo_traintest = gpd.GeoDataFrame(traintest,\n",
    "                         crs=crs,\n",
    "                          geometry=geometry\n",
    "                         )"
   ]
  },
  {
   "cell_type": "code",
   "execution_count": 60,
   "id": "6e58438b",
   "metadata": {},
   "outputs": [],
   "source": [
    "# Spray Locations\n",
    "# Create column of Shapely Point objects of the location of each spray\n",
    "spray_location = [Point(xy) for xy in zip(spray['longitude'], spray['latitude'])]\n",
    "# Transform traintest into a GeoDataFrame\n",
    "geo_spray = gpd.GeoDataFrame(spray,\n",
    "                             crs=crs,\n",
    "                             geometry=spray_location\n",
    "                            )"
   ]
  },
  {
   "cell_type": "code",
   "execution_count": 61,
   "id": "dcfe2c73",
   "metadata": {},
   "outputs": [],
   "source": [
    "# Weather Stations\n",
    "# Station 1: CHICAGO O'HARE INTERNATIONAL AIRPORT Lat: 41.995 Lon: -87.933 Elev: 662 ft. above sea level\n",
    "# Station 2: CHICAGO MIDWAY INTL ARPT Lat: 41.786 Lon: -87.752 Elev: 612 ft. above sea level\n",
    "stations = {'Latitude':[41.995,41.786], 'Longitude':[-87.933,-87.752]}"
   ]
  },
  {
   "cell_type": "code",
   "execution_count": 62,
   "id": "eb5d5e1c",
   "metadata": {},
   "outputs": [],
   "source": [
    "# Create column of Shapely Point objects of the location of each weather station\n",
    "station_location = [Point(xy) for xy in zip(stations['Longitude'], stations['Latitude'])]\n",
    "# Transform to GeoDataFrame\n",
    "geo_stations = gpd.GeoDataFrame(stations,\n",
    "                         crs=crs,\n",
    "                          geometry=station_location\n",
    "                         )"
   ]
  },
  {
   "cell_type": "code",
   "execution_count": 63,
   "id": "b6958e2b",
   "metadata": {},
   "outputs": [],
   "source": [
    "# import community and precinct map boundary files\n",
    "community_map = gpd.read_file('../data/Boundaries - Community Areas (current)/geo_export_696264d7-9f06-473f-a0d2-238466734f0f.shp')\n",
    "precinct_map = gpd.read_file('../data/Precincts (current)/geo_export_c00eb2b5-21d4-4f5f-be2b-399758f8fb18.shp')"
   ]
  },
  {
   "cell_type": "markdown",
   "id": "584ff835",
   "metadata": {},
   "source": [
    "### EDA"
   ]
  },
  {
   "cell_type": "code",
   "execution_count": 64,
   "id": "f4e9a4f6",
   "metadata": {},
   "outputs": [
    {
     "name": "stdout",
     "output_type": "stream",
     "text": [
      "3\n",
      "10\n"
     ]
    }
   ],
   "source": [
    "# Create masks for categorical and numerical features\n",
    "category_columns = [key for key, val in geo_traintest.iteritems() \n",
    "                    if geo_traintest.dtypes[key] == 'object']\n",
    "numerical_columns = [key for key, val in geo_traintest.iteritems() \n",
    "                     if (geo_traintest.dtypes[key] == 'int64') or \n",
    "                     (geo_traintest.dtypes[key] == 'float64') or\n",
    "                     (geo_traintest.dtypes[key] == 'datetime64[ns]')\n",
    "                    ]\n",
    "print(len(category_columns))\n",
    "print(len(numerical_columns))"
   ]
  },
  {
   "cell_type": "code",
   "execution_count": 65,
   "id": "bb90d821",
   "metadata": {},
   "outputs": [
    {
     "data": {
      "text/plain": [
       "['dataset',\n",
       " 'date',\n",
       " 'species',\n",
       " 'trap',\n",
       " 'latitude',\n",
       " 'longitude',\n",
       " 'wnvpresent',\n",
       " 'year',\n",
       " 'month',\n",
       " 'week',\n",
       " 'dayofweek',\n",
       " 'nummosquitos',\n",
       " 'is_spray',\n",
       " 'geometry']"
      ]
     },
     "execution_count": 65,
     "metadata": {},
     "output_type": "execute_result"
    }
   ],
   "source": [
    "list(geo_traintest)"
   ]
  },
  {
   "cell_type": "code",
   "execution_count": 66,
   "id": "60cd761d",
   "metadata": {},
   "outputs": [],
   "source": [
    "yr07 = geo_traintest[geo_traintest[\"year\"]==2007]"
   ]
  },
  {
   "cell_type": "markdown",
   "id": "914fcc75",
   "metadata": {},
   "source": [
    "#### Trap prevalence of WNV"
   ]
  },
  {
   "cell_type": "code",
   "execution_count": 67,
   "id": "c9c1a946",
   "metadata": {
    "scrolled": true
   },
   "outputs": [
    {
     "data": {
      "text/plain": [
       "year\n",
       "2007    0.070182\n",
       "2008         NaN\n",
       "2009    0.010096\n",
       "2010         NaN\n",
       "2011    0.029709\n",
       "2012         NaN\n",
       "2013    0.097263\n",
       "2014         NaN\n",
       "Name: wnvpresent, dtype: float64"
      ]
     },
     "execution_count": 67,
     "metadata": {},
     "output_type": "execute_result"
    }
   ],
   "source": [
    "geo_traintest.groupby('year')['wnvpresent'].mean()"
   ]
  },
  {
   "cell_type": "markdown",
   "id": "3622966c",
   "metadata": {},
   "source": [
    "#### Trap prevalence of WNV"
   ]
  },
  {
   "cell_type": "code",
   "execution_count": 71,
   "id": "6061b8c1",
   "metadata": {},
   "outputs": [],
   "source": [
    "prev_07 = 0.070182\n",
    "prev_09 = 0.010096\n",
    "prev_11 = 0.029709\n",
    "prev_13 = 0.097263"
   ]
  },
  {
   "cell_type": "markdown",
   "id": "1fdb2fa6",
   "metadata": {},
   "source": [
    "#### Population Size\n",
    "https://www.biggestuscities.com/il/2007\n",
    "Gov data on population count\n",
    "https://www.opendatanetwork.com/entity/1600000US1714000/Chicago_IL/demographics.population.count?year=2011"
   ]
  },
  {
   "cell_type": "code",
   "execution_count": 72,
   "id": "23906054",
   "metadata": {},
   "outputs": [],
   "source": [
    "pop_2007 = 2_811_035\n",
    "pop_2009 = 2_824_064\n",
    "pop_2011 = 2_700_741\n",
    "pop_2013 = 2_706_101"
   ]
  },
  {
   "cell_type": "markdown",
   "id": "3b92e58b",
   "metadata": {},
   "source": [
    "#### Number of people with WNV by years https://www.chicago.gov/content/dam/city/depts/cdph/food_env/general/West_Nile_Virus/WNV_2018databrief_FINALJan102019.pdf\n",
    "Previous infected number of people\n",
    "https://www.chicago.gov/content/dam/city/depts/cdph/statistics_and_reports/CDInfo_2013_JULY_WNV.pdf"
   ]
  },
  {
   "cell_type": "code",
   "execution_count": 73,
   "id": "70bd6ef2",
   "metadata": {},
   "outputs": [],
   "source": [
    "inf_2007 = 10\n",
    "inf_2009 = 1\n",
    "inf_2011 = 8\n",
    "inf_2013 = 37"
   ]
  },
  {
   "cell_type": "markdown",
   "id": "16397935",
   "metadata": {},
   "source": [
    "#### Rate of infection by proportion of traps that had WNV\n",
    "\n",
    "The prevalence of traps with WNV multiplied by the number of people population in Chicago is not sufficient to tell us how many people will get infected with WNV. When multiplied by an infection rate, we will be able to get the number of infected people. Therefore, infection rate is the number of infected people, divided by prevalence rate of that year, and the population of that year."
   ]
  },
  {
   "cell_type": "code",
   "execution_count": 74,
   "id": "ded14e92",
   "metadata": {},
   "outputs": [
    {
     "data": {
      "text/plain": [
       "5.068833276556648e-05"
      ]
     },
     "execution_count": 74,
     "metadata": {},
     "output_type": "execute_result"
    }
   ],
   "source": [
    "a = inf_2007 / (prev_07 * pop_2007)\n",
    "a"
   ]
  },
  {
   "cell_type": "code",
   "execution_count": 75,
   "id": "2a2c27b3",
   "metadata": {},
   "outputs": [
    {
     "data": {
      "text/plain": [
       "3.507325909316161e-05"
      ]
     },
     "execution_count": 75,
     "metadata": {},
     "output_type": "execute_result"
    }
   ],
   "source": [
    "b = inf_2009 / (prev_09 * pop_2009)\n",
    "b"
   ]
  },
  {
   "cell_type": "code",
   "execution_count": 76,
   "id": "0a214cfb",
   "metadata": {},
   "outputs": [
    {
     "data": {
      "text/plain": [
       "9.970547703884652e-05"
      ]
     },
     "execution_count": 76,
     "metadata": {},
     "output_type": "execute_result"
    }
   ],
   "source": [
    "c = inf_2011 / (prev_11 * pop_2011)\n",
    "c"
   ]
  },
  {
   "cell_type": "code",
   "execution_count": 77,
   "id": "68b353bd",
   "metadata": {},
   "outputs": [
    {
     "data": {
      "text/plain": [
       "0.0001405756374071024"
      ]
     },
     "execution_count": 77,
     "metadata": {},
     "output_type": "execute_result"
    }
   ],
   "source": [
    "d  = inf_2013 / (prev_13 * pop_2013)\n",
    "d"
   ]
  },
  {
   "cell_type": "markdown",
   "id": "e921b3c1",
   "metadata": {},
   "source": [
    "We will take the average of these 4 years to get an estimated infection rate in Chicago."
   ]
  },
  {
   "cell_type": "code",
   "execution_count": 78,
   "id": "ba08a8fa",
   "metadata": {},
   "outputs": [
    {
     "data": {
      "text/plain": [
       "8.151067657616925e-05"
      ]
     },
     "execution_count": 78,
     "metadata": {},
     "output_type": "execute_result"
    }
   ],
   "source": [
    "infection_rate = (a+b+c+d)/4\n",
    "infection_rate"
   ]
  },
  {
   "cell_type": "markdown",
   "id": "020d3fd9",
   "metadata": {},
   "source": [
    "## To fill up\n",
    "inf_2014 = infection_rate * prev_14 * pop_2014\n",
    "\n",
    "This will give the number of people infected in 2014"
   ]
  },
  {
   "cell_type": "markdown",
   "id": "5162da54",
   "metadata": {},
   "source": [
    "#### Assuming 2014 prevalence rate is 0.05"
   ]
  },
  {
   "cell_type": "code",
   "execution_count": 90,
   "id": "8a6f3c70",
   "metadata": {},
   "outputs": [],
   "source": [
    "pop_2014 = 2_712_608"
   ]
  },
  {
   "cell_type": "code",
   "execution_count": 91,
   "id": "a3ee9285",
   "metadata": {},
   "outputs": [],
   "source": [
    "prev_14 = 0.05"
   ]
  },
  {
   "cell_type": "code",
   "execution_count": 92,
   "id": "dab5eef6",
   "metadata": {},
   "outputs": [
    {
     "data": {
      "text/plain": [
       "11.055325668296465"
      ]
     },
     "execution_count": 92,
     "metadata": {},
     "output_type": "execute_result"
    }
   ],
   "source": [
    "inf_2014 = infection_rate * prev_14 * pop_2014\n",
    "inf_2014"
   ]
  },
  {
   "cell_type": "markdown",
   "id": "63e87533",
   "metadata": {},
   "source": [
    "Science article on medical costs of WNV\n",
    "https://www.sciencedaily.com/releases/2014/02/140210184713.htm#:~:text=In%20a%20study%20of%20the,care%20expenditures%20and%20lost%20productivity\n",
    "Economic costs of WNV\n",
    "https://www.ncbi.nlm.nih.gov/pmc/articles/PMC3322011/\n",
    "Robin and crows being vectors\n",
    "https://ij-healthgeographics.biomedcentral.com/articles/10.1186/1476-072X-6-10"
   ]
  },
  {
   "cell_type": "markdown",
   "id": "ba30432f",
   "metadata": {},
   "source": [
    "#### Medical cost of severe cases-\n",
    "\n",
    "Severe cases are known as WNND and occurs for every 1 in 150 cases."
   ]
  },
  {
   "cell_type": "code",
   "execution_count": 121,
   "id": "8ff4c114",
   "metadata": {},
   "outputs": [
    {
     "data": {
      "text/plain": [
       "57069.760869565216"
      ]
     },
     "execution_count": 121,
     "metadata": {},
     "output_type": "execute_result"
    }
   ],
   "source": [
    "#Per person with WNND \n",
    "wnnd_cost = (2_140_409+484_800) / 46\n",
    "wnnd_cost"
   ]
  },
  {
   "cell_type": "markdown",
   "id": "11068ebc",
   "metadata": {},
   "source": [
    "#### Medical cost of normal cases- \n",
    "\n",
    "West nile fever (WNF) is when WNV is symptomatic, resulting in influenza-like symptoms such as fever), and occurs in 20% of those infected\n",
    "These are the people who will get their cases reported- close to 80% of people who get WNV are asymptomatic and never get accounted for."
   ]
  },
  {
   "cell_type": "code",
   "execution_count": 122,
   "id": "8219ab65",
   "metadata": {},
   "outputs": [
    {
     "data": {
      "text/plain": [
       "1257"
      ]
     },
     "execution_count": 122,
     "metadata": {},
     "output_type": "execute_result"
    }
   ],
   "source": [
    "physician_cost = 167\n",
    "diagnostic_test = 135\n",
    "\n",
    "#productivity costs for assumed 5 days of missed work\n",
    "prod_loss = 955\n",
    "\n",
    "normal_case_cost = physician_cost + diagnostic_test + prod_loss\n",
    "normal_case_cost"
   ]
  },
  {
   "cell_type": "markdown",
   "id": "46b34453",
   "metadata": {},
   "source": [
    "Estimated costs for each person that is infected with WNV, and reports\n",
    "Therefore, those reported are either having WNF or WNND. The odds of these diseases and their costs will be tabulated."
   ]
  },
  {
   "cell_type": "code",
   "execution_count": 123,
   "id": "7e3cc609",
   "metadata": {},
   "outputs": [
    {
     "data": {
      "text/plain": [
       "3057.4116409537164"
      ]
     },
     "execution_count": 123,
     "metadata": {},
     "output_type": "execute_result"
    }
   ],
   "source": [
    "#Estimated cost of each person\n",
    "# Probability of getting a WNF is 0.2 and \n",
    "# probability of getting WNND is 1/150\n",
    "denominator_of_odds = (0.2 + 1/150)\n",
    "cost_wnv_individual = normal_case_cost * (0.2/denominator_of_odds) + wnnd_cost * ((1/150)/denominator_of_odds)\n",
    "cost_wnv_individual"
   ]
  },
  {
   "cell_type": "code",
   "execution_count": 124,
   "id": "fe8d9c94",
   "metadata": {},
   "outputs": [
    {
     "data": {
      "text/plain": [
       "113.39328293969145"
      ]
     },
     "execution_count": 124,
     "metadata": {},
     "output_type": "execute_result"
    }
   ],
   "source": [
    "37_088 * cost_wnv_individual / 1_000_000"
   ]
  },
  {
   "cell_type": "markdown",
   "id": "4671642a",
   "metadata": {},
   "source": [
    "West Nile Virus costs\n",
    "https://www.sciencedaily.com/releases/2014/02/140210184713.htm#:~:text=In%20a%20study%20of%20the,care%20expenditures%20and%20lost%20productivity"
   ]
  },
  {
   "cell_type": "code",
   "execution_count": 125,
   "id": "e942262f",
   "metadata": {},
   "outputs": [
    {
     "data": {
      "text/plain": [
       "20977.13546160483"
      ]
     },
     "execution_count": 125,
     "metadata": {},
     "output_type": "execute_result"
    }
   ],
   "source": [
    "cost_indiv = 778_000_000 / 37_088\n",
    "cost_indiv"
   ]
  },
  {
   "cell_type": "markdown",
   "id": "4eedd187",
   "metadata": {},
   "source": [
    "This is a confluence of factors such as the physician's cost, diagnostic test cost, and productivity costs."
   ]
  },
  {
   "cell_type": "markdown",
   "id": "76a060e1",
   "metadata": {},
   "source": [
    "#### Cost of spraying"
   ]
  },
  {
   "cell_type": "markdown",
   "id": "928b1601",
   "metadata": {},
   "source": [
    "Type of spray: Zenivex\n",
    "https://www.chicago.gov/city/en/depts/cdph/provdrs/healthy_living/news/2021/august/city-to-spray-insecticide-wednesday-to-kill-mosquitoes.html"
   ]
  },
  {
   "cell_type": "code",
   "execution_count": 126,
   "id": "3273dfd5",
   "metadata": {},
   "outputs": [
    {
     "data": {
      "text/plain": [
       "year\n",
       "2007    0.070182\n",
       "2008         NaN\n",
       "2009    0.010096\n",
       "2010         NaN\n",
       "2011    0.029709\n",
       "2012         NaN\n",
       "2013    0.097263\n",
       "2014         NaN\n",
       "Name: wnvpresent, dtype: float64"
      ]
     },
     "execution_count": 126,
     "metadata": {},
     "output_type": "execute_result"
    }
   ],
   "source": [
    "geo_traintest.groupby('year')['wnvpresent'].mean()"
   ]
  },
  {
   "cell_type": "code",
   "execution_count": 127,
   "id": "7b1f0131",
   "metadata": {},
   "outputs": [],
   "source": [
    "area_chicago = 606.1 * 10_000 * 10_000"
   ]
  },
  {
   "cell_type": "code",
   "execution_count": 128,
   "id": "30b4f5df",
   "metadata": {
    "scrolled": true
   },
   "outputs": [
    {
     "data": {
      "text/plain": [
       "3030500000.0"
      ]
     },
     "execution_count": 128,
     "metadata": {},
     "output_type": "execute_result"
    }
   ],
   "source": [
    "#this percentage of chicago is exposed to WNV possibility as they are near the traps with WNV presence\n",
    "area_spray_2014 = area_chicago * prev_14 #prev14 means the prevalence of mosquitoes within traps in 2014\n",
    "area_spray_2014"
   ]
  },
  {
   "cell_type": "code",
   "execution_count": 129,
   "id": "5482d05b",
   "metadata": {},
   "outputs": [
    {
     "data": {
      "text/plain": [
       "30.305"
      ]
     },
     "execution_count": 129,
     "metadata": {},
     "output_type": "execute_result"
    }
   ],
   "source": [
    "3030500000.0 / 10_000 / 10_000"
   ]
  },
  {
   "cell_type": "code",
   "execution_count": 130,
   "id": "e732e34e",
   "metadata": {},
   "outputs": [],
   "source": [
    "#converting acres to m^2\n",
    "acre_to_m2 = 4046.86"
   ]
  },
  {
   "cell_type": "markdown",
   "id": "b0fa64a4",
   "metadata": {},
   "source": [
    "Spray in areas (65% sensitivity)"
   ]
  },
  {
   "cell_type": "markdown",
   "id": "1c7cec39",
   "metadata": {},
   "source": [
    "It costs 0.67c to spray one acre of land according to this information by for Zenivex, the government chosen pesticide for mosquito control due to its non-toxicity to humans"
   ]
  },
  {
   "cell_type": "code",
   "execution_count": 131,
   "id": "b528d11d",
   "metadata": {},
   "outputs": [],
   "source": [
    "cost_to_spray = 0.67"
   ]
  },
  {
   "cell_type": "code",
   "execution_count": 132,
   "id": "70c6cf83",
   "metadata": {},
   "outputs": [],
   "source": [
    "#cost to spray per m2\n",
    "cost_to_spray_m2 = 0.67 / acre_to_m2"
   ]
  },
  {
   "cell_type": "code",
   "execution_count": 133,
   "id": "89eafd4c",
   "metadata": {},
   "outputs": [
    {
     "data": {
      "text/plain": [
       "501730.97166692204"
      ]
     },
     "execution_count": 133,
     "metadata": {},
     "output_type": "execute_result"
    }
   ],
   "source": [
    "area_spray_2014 * cost_to_spray_m2"
   ]
  },
  {
   "cell_type": "markdown",
   "id": "7e0196e8",
   "metadata": {},
   "source": [
    "Number of lives impacted "
   ]
  },
  {
   "cell_type": "code",
   "execution_count": 134,
   "id": "af1cc482",
   "metadata": {},
   "outputs": [
    {
     "data": {
      "text/plain": [
       "7.185961684392702"
      ]
     },
     "execution_count": 134,
     "metadata": {},
     "output_type": "execute_result"
    }
   ],
   "source": [
    "inf_2014 * 0.65"
   ]
  },
  {
   "cell_type": "markdown",
   "id": "9dddd790",
   "metadata": {},
   "source": [
    "Cost of lives impacted"
   ]
  },
  {
   "cell_type": "code",
   "execution_count": 135,
   "id": "431f2956",
   "metadata": {
    "scrolled": true
   },
   "outputs": [
    {
     "data": {
      "text/plain": [
       "150632.77289286527"
      ]
     },
     "execution_count": 135,
     "metadata": {},
     "output_type": "execute_result"
    }
   ],
   "source": [
    "7.180807559190986 * cost_indiv"
   ]
  },
  {
   "cell_type": "code",
   "execution_count": 136,
   "id": "158034b9",
   "metadata": {},
   "outputs": [
    {
     "data": {
      "text/plain": [
       "21954.68462291896"
      ]
     },
     "execution_count": 136,
     "metadata": {},
     "output_type": "execute_result"
    }
   ],
   "source": [
    "7.180807559190986 * cost_wnv_individual"
   ]
  },
  {
   "cell_type": "code",
   "execution_count": null,
   "id": "59e64477",
   "metadata": {},
   "outputs": [],
   "source": []
  },
  {
   "cell_type": "code",
   "execution_count": null,
   "id": "70de895a",
   "metadata": {},
   "outputs": [],
   "source": []
  },
  {
   "cell_type": "code",
   "execution_count": null,
   "id": "bfe2e147",
   "metadata": {},
   "outputs": [],
   "source": []
  },
  {
   "cell_type": "code",
   "execution_count": null,
   "id": "ac41fbe4",
   "metadata": {},
   "outputs": [],
   "source": []
  },
  {
   "cell_type": "code",
   "execution_count": null,
   "id": "9346d582",
   "metadata": {},
   "outputs": [],
   "source": []
  },
  {
   "cell_type": "code",
   "execution_count": null,
   "id": "97dc2658",
   "metadata": {},
   "outputs": [],
   "source": []
  },
  {
   "cell_type": "code",
   "execution_count": 153,
   "id": "e3b19a5b",
   "metadata": {},
   "outputs": [
    {
     "data": {
      "text/plain": [
       "[Text(0.5, 1.0, 'Rate of WNV presence by year')]"
      ]
     },
     "execution_count": 153,
     "metadata": {},
     "output_type": "execute_result"
    },
    {
     "data": {
      "image/png": "[encoded data removed]",
      "text/plain": [
       "<Figure size 432x288 with 1 Axes>"
      ]
     },
     "metadata": {},
     "output_type": "display_data"
    }
   ],
   "source": [
    "# Mean of WNV present by year (adjusting for the difference in number of readings taken)\n",
    "sns.barplot(data=geo_traintest, x='year', y='wnvpresent', estimator=np.mean).set(\n",
    "    title='Rate of WNV presence by year')"
   ]
  },
  {
   "cell_type": "code",
   "execution_count": 154,
   "id": "f80faa69",
   "metadata": {},
   "outputs": [
    {
     "data": {
      "text/plain": [
       "Text(0.5, 1.0, 'Count of WNV presence by trap')"
      ]
     },
     "execution_count": 154,
     "metadata": {},
     "output_type": "execute_result"
    },
    {
     "data": {
      "image/png": "[encoded data removed]",
      "text/plain": [
       "<Figure size 1296x360 with 1 Axes>"
      ]
     },
     "metadata": {},
     "output_type": "display_data"
    }
   ],
   "source": [
    "# Traps by number of WNV present readings\n",
    "fig,ax = plt.subplots(figsize=(18,5))\n",
    "geo_traintest.groupby('trap').sum()['wnvpresent'].loc[lambda x: x>0].plot.bar()\n",
    "plt.title('Count of WNV presence by trap')"
   ]
  },
  {
   "cell_type": "code",
   "execution_count": 155,
   "id": "d43be3c3",
   "metadata": {},
   "outputs": [
    {
     "data": {
      "text/plain": [
       "Text(0.5, 1.0, 'Rate of WNV presence by trap')"
      ]
     },
     "execution_count": 155,
     "metadata": {},
     "output_type": "execute_result"
    },
    {
     "data": {
      "image/png": "[encoded data removed]",
      "text/plain": [
       "<Figure size 1296x360 with 1 Axes>"
      ]
     },
     "metadata": {},
     "output_type": "display_data"
    }
   ],
   "source": [
    "# Traps by number of WNV present readings\n",
    "fig,ax = plt.subplots(figsize=(18,5))\n",
    "geo_traintest.groupby('trap').mean()['wnvpresent'].loc[lambda x: x>0].plot.bar()\n",
    "plt.title('Rate of WNV presence by trap')"
   ]
  },
  {
   "cell_type": "code",
   "execution_count": 156,
   "id": "f29a6ec9",
   "metadata": {},
   "outputs": [],
   "source": [
    "# Filter traps that ever had WNV present\n",
    "wnv_traps = geo_traintest.groupby('trap').sum()['wnvpresent'].loc[lambda x: x>0].index\n",
    "wnv_filtered = geo_traintest[(geo_traintest['dataset']=='train') &\n",
    "                (geo_traintest['trap'].isin(wnv_traps))]"
   ]
  },
  {
   "cell_type": "code",
   "execution_count": 157,
   "id": "bdc1bda2",
   "metadata": {},
   "outputs": [
    {
     "data": {
      "text/plain": [
       "       date\n",
       "count  2007    18\n",
       "       2009    33\n",
       "       2011    27\n",
       "       2013    31\n",
       "dtype: int64"
      ]
     },
     "execution_count": 157,
     "metadata": {},
     "output_type": "execute_result"
    }
   ],
   "source": [
    "# Pivot by year\n",
    "pivot_by_year = pd.pivot_table(wnv_filtered,index=wnv_filtered['trap'],columns=wnv_filtered['date'].dt.year,\n",
    "               values='wnvpresent',aggfunc=['count'])\n",
    "pivot_by_year.isna().sum()\n",
    "# Table: number of traps with WNV per year"
   ]
  }
 ],
 "metadata": {
  "kernelspec": {
   "display_name": "Python 3 (ipykernel)",
   "language": "python",
   "name": "python3"
  },
  "language_info": {
   "codemirror_mode": {
    "name": "ipython",
    "version": 3
   },
   "file_extension": ".py",
   "mimetype": "text/x-python",
   "name": "python",
   "nbconvert_exporter": "python",
   "pygments_lexer": "ipython3",
   "version": "3.7.13"
  }
 },
 "nbformat": 4,
 "nbformat_minor": 5
}
