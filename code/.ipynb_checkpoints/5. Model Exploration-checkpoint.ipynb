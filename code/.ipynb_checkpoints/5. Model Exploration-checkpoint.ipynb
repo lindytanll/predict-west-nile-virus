{
 "cells": [
  {
   "cell_type": "markdown",
   "id": "17eb5c7b",
   "metadata": {},
   "source": [
    "# Project 4: Predict West Nile Virus\n",
    "### Section 5. Model Exploration"
   ]
  },
  {
   "cell_type": "markdown",
   "id": "b70e632a",
   "metadata": {},
   "source": [
    "## Problem Statement\n",
    "\n",
    "1. As an employee of Disease And Treatment Agency, division of Societal Cures In Epidemiology and New Creative Engineering (DATA-SCIENCE), we are tasked to better understand the mosquito population and advise on appropriate interventions which are beneficial and cost-effective for the city.\n",
    "\n",
    "\n",
    "2. Through this project, we hope to:\n",
    "- Identify features which are most important to predict presence of West Nile Virus (which can be done by ranking the coefficients of each feature in a logistic regression model)\n",
    "- Predict the probability of West Nile Virus by location to provide decision makers an effective plan to deploy pesticides throughout the city, which consequently can help to reduce cost."
   ]
  },
  {
   "cell_type": "markdown",
   "id": "d0872240",
   "metadata": {},
   "source": [
    "#### Summary of Model Exploration\n",
    "- Model chosen: Logistic Regression with SMOTE\n",
    "- Benchmark against SVM, Decision tree variants and Neural Network\n",
    "\n",
    "Rationale:\n",
    "- Why Logistic Regression: Ability to quantify impact of features on probability of WNV\n",
    "- Why SMOTE: Ensured that minority class is represented\n",
    "\n",
    "Benchmark:\n",
    "- AUC for Logistic Regression (0.74): Higher than SVM, Marginally lower than ADABoost, GradientBoost, ExtraTrees and Random Forest\n",
    "- Sensitivity and precision are comparable with Neural Network \n"
   ]
  },
  {
   "cell_type": "markdown",
   "id": "ae082b06",
   "metadata": {},
   "source": [
    "## Import Libraries"
   ]
  },
  {
   "cell_type": "code",
   "execution_count": 2,
   "id": "7909f27f",
   "metadata": {},
   "outputs": [],
   "source": [
    "#!pip install shapely\n",
    "import pandas as pd\n",
    "import matplotlib.pyplot as plt\n",
    "import seaborn as sns\n",
    "import numpy as np\n",
    "import pickle\n",
    "\n",
    "from sklearn.preprocessing import StandardScaler\n",
    "from sklearn.model_selection import train_test_split, GridSearchCV, RandomizedSearchCV, StratifiedKFold\n",
    "from sklearn.pipeline import Pipeline\n",
    "from sklearn.linear_model import LogisticRegression\n",
    "from sklearn.naive_bayes import MultinomialNB\n",
    "from sklearn.ensemble import RandomForestClassifier, ExtraTreesClassifier\n",
    "from sklearn.svm import SVC\n",
    "from sklearn.ensemble import GradientBoostingClassifier, AdaBoostClassifier, VotingClassifier\n",
    "from sklearn.tree import DecisionTreeClassifier\n",
    "from sklearn import metrics\n",
    "from sklearn.metrics import (confusion_matrix, plot_confusion_matrix, classification_report, \n",
    "                             plot_roc_curve, roc_auc_score, accuracy_score, precision_score, \n",
    "                             recall_score, f1_score, RocCurveDisplay)\n",
    "from imblearn.over_sampling import SMOTE\n",
    "\n",
    "from tensorflow.keras.models import Sequential\n",
    "from tensorflow.keras.layers import Dense, Dropout\n",
    "from tensorflow.keras.utils import to_categorical\n",
    "from tensorflow.keras.callbacks import EarlyStopping"
   ]
  },
  {
   "cell_type": "markdown",
   "id": "d9c25ebe",
   "metadata": {},
   "source": [
    "## Load Data"
   ]
  },
  {
   "cell_type": "code",
   "execution_count": 3,
   "id": "4ab149da",
   "metadata": {},
   "outputs": [],
   "source": [
    "# Load datasets\n",
    "df = pd.read_csv('../data/final_df.csv', index_col='Unnamed: 0')"
   ]
  },
  {
   "cell_type": "markdown",
   "id": "3d8d7b3c",
   "metadata": {},
   "source": [
    "### Split into train and test (Kaggle) data"
   ]
  },
  {
   "cell_type": "code",
   "execution_count": 4,
   "id": "4903760a",
   "metadata": {},
   "outputs": [
    {
     "name": "stdout",
     "output_type": "stream",
     "text": [
      "(8304, 240)\n",
      "(43035, 240)\n"
     ]
    }
   ],
   "source": [
    "# Split into train and test (kaggle) data \n",
    "train = df[df['dataset']=='train'].copy()\n",
    "test = df[df['dataset']=='test'].copy()\n",
    "print(train.shape)\n",
    "print(test.shape)"
   ]
  },
  {
   "cell_type": "code",
   "execution_count": 5,
   "id": "6d36cf6c",
   "metadata": {},
   "outputs": [],
   "source": [
    "train.drop(columns='dataset', inplace=True)\n",
    "test.drop(columns='dataset', inplace=True)"
   ]
  },
  {
   "cell_type": "code",
   "execution_count": 6,
   "id": "81c44181",
   "metadata": {
    "scrolled": true
   },
   "outputs": [
    {
     "data": {
      "text/html": [
       "<div>\n",
       "<style scoped>\n",
       "    .dataframe tbody tr th:only-of-type {\n",
       "        vertical-align: middle;\n",
       "    }\n",
       "\n",
       "    .dataframe tbody tr th {\n",
       "        vertical-align: top;\n",
       "    }\n",
       "\n",
       "    .dataframe thead th {\n",
       "        text-align: right;\n",
       "    }\n",
       "</style>\n",
       "<table border=\"1\" class=\"dataframe\">\n",
       "  <thead>\n",
       "    <tr style=\"text-align: right;\">\n",
       "      <th></th>\n",
       "      <th>latitude</th>\n",
       "      <th>longitude</th>\n",
       "      <th>tavg</th>\n",
       "      <th>preciptotal</th>\n",
       "      <th>stnpressure</th>\n",
       "      <th>resultdir</th>\n",
       "      <th>avgspeed</th>\n",
       "      <th>is_spray</th>\n",
       "      <th>stnpressure_7</th>\n",
       "      <th>stnpressure_10</th>\n",
       "      <th>...</th>\n",
       "      <th>codesum_TSRA BR HZ VCTS</th>\n",
       "      <th>codesum_TSRA FG+ BR HZ</th>\n",
       "      <th>codesum_TSRA RA</th>\n",
       "      <th>codesum_TSRA RA BR</th>\n",
       "      <th>codesum_TSRA RA BR HZ</th>\n",
       "      <th>codesum_TSRA RA BR HZ VCTS</th>\n",
       "      <th>codesum_TSRA RA BR VCTS</th>\n",
       "      <th>codesum_TSRA RA VCTS</th>\n",
       "      <th>codesum_VCTS</th>\n",
       "      <th>wnvpresent</th>\n",
       "    </tr>\n",
       "  </thead>\n",
       "  <tbody>\n",
       "    <tr>\n",
       "      <th>count</th>\n",
       "      <td>8304.000000</td>\n",
       "      <td>8304.000000</td>\n",
       "      <td>8304.000000</td>\n",
       "      <td>8304.000000</td>\n",
       "      <td>8304.000000</td>\n",
       "      <td>8304.000000</td>\n",
       "      <td>8304.000000</td>\n",
       "      <td>8304.000000</td>\n",
       "      <td>8304.000000</td>\n",
       "      <td>8304.000000</td>\n",
       "      <td>...</td>\n",
       "      <td>8304.000000</td>\n",
       "      <td>8304.0</td>\n",
       "      <td>8304.000000</td>\n",
       "      <td>8304.000000</td>\n",
       "      <td>8304.0</td>\n",
       "      <td>8304.0</td>\n",
       "      <td>8304.000000</td>\n",
       "      <td>8304.0</td>\n",
       "      <td>8304.000000</td>\n",
       "      <td>8304.000000</td>\n",
       "    </tr>\n",
       "    <tr>\n",
       "      <th>mean</th>\n",
       "      <td>41.845800</td>\n",
       "      <td>-87.696229</td>\n",
       "      <td>72.093931</td>\n",
       "      <td>0.182431</td>\n",
       "      <td>29.262110</td>\n",
       "      <td>17.842245</td>\n",
       "      <td>7.476903</td>\n",
       "      <td>0.008911</td>\n",
       "      <td>29.277200</td>\n",
       "      <td>29.265990</td>\n",
       "      <td>...</td>\n",
       "      <td>0.006142</td>\n",
       "      <td>0.0</td>\n",
       "      <td>0.029383</td>\n",
       "      <td>0.037211</td>\n",
       "      <td>0.0</td>\n",
       "      <td>0.0</td>\n",
       "      <td>0.010597</td>\n",
       "      <td>0.0</td>\n",
       "      <td>0.003974</td>\n",
       "      <td>0.055034</td>\n",
       "    </tr>\n",
       "    <tr>\n",
       "      <th>std</th>\n",
       "      <td>0.106658</td>\n",
       "      <td>0.084440</td>\n",
       "      <td>7.630330</td>\n",
       "      <td>0.470450</td>\n",
       "      <td>0.118606</td>\n",
       "      <td>9.433945</td>\n",
       "      <td>2.543438</td>\n",
       "      <td>0.093984</td>\n",
       "      <td>0.126573</td>\n",
       "      <td>0.142227</td>\n",
       "      <td>...</td>\n",
       "      <td>0.078132</td>\n",
       "      <td>0.0</td>\n",
       "      <td>0.168889</td>\n",
       "      <td>0.189290</td>\n",
       "      <td>0.0</td>\n",
       "      <td>0.0</td>\n",
       "      <td>0.102402</td>\n",
       "      <td>0.0</td>\n",
       "      <td>0.062918</td>\n",
       "      <td>0.228060</td>\n",
       "    </tr>\n",
       "    <tr>\n",
       "      <th>min</th>\n",
       "      <td>41.644612</td>\n",
       "      <td>-87.930995</td>\n",
       "      <td>50.000000</td>\n",
       "      <td>0.000000</td>\n",
       "      <td>28.890000</td>\n",
       "      <td>1.000000</td>\n",
       "      <td>2.100000</td>\n",
       "      <td>0.000000</td>\n",
       "      <td>28.890000</td>\n",
       "      <td>28.910000</td>\n",
       "      <td>...</td>\n",
       "      <td>0.000000</td>\n",
       "      <td>0.0</td>\n",
       "      <td>0.000000</td>\n",
       "      <td>0.000000</td>\n",
       "      <td>0.0</td>\n",
       "      <td>0.0</td>\n",
       "      <td>0.000000</td>\n",
       "      <td>0.0</td>\n",
       "      <td>0.000000</td>\n",
       "      <td>0.000000</td>\n",
       "    </tr>\n",
       "    <tr>\n",
       "      <th>25%</th>\n",
       "      <td>41.750498</td>\n",
       "      <td>-87.752411</td>\n",
       "      <td>69.000000</td>\n",
       "      <td>0.000000</td>\n",
       "      <td>29.180000</td>\n",
       "      <td>8.000000</td>\n",
       "      <td>5.800000</td>\n",
       "      <td>0.000000</td>\n",
       "      <td>29.210000</td>\n",
       "      <td>29.180000</td>\n",
       "      <td>...</td>\n",
       "      <td>0.000000</td>\n",
       "      <td>0.0</td>\n",
       "      <td>0.000000</td>\n",
       "      <td>0.000000</td>\n",
       "      <td>0.0</td>\n",
       "      <td>0.0</td>\n",
       "      <td>0.000000</td>\n",
       "      <td>0.0</td>\n",
       "      <td>0.000000</td>\n",
       "      <td>0.000000</td>\n",
       "    </tr>\n",
       "    <tr>\n",
       "      <th>50%</th>\n",
       "      <td>41.862292</td>\n",
       "      <td>-87.696269</td>\n",
       "      <td>73.000000</td>\n",
       "      <td>0.000000</td>\n",
       "      <td>29.260000</td>\n",
       "      <td>19.000000</td>\n",
       "      <td>7.100000</td>\n",
       "      <td>0.000000</td>\n",
       "      <td>29.280000</td>\n",
       "      <td>29.260000</td>\n",
       "      <td>...</td>\n",
       "      <td>0.000000</td>\n",
       "      <td>0.0</td>\n",
       "      <td>0.000000</td>\n",
       "      <td>0.000000</td>\n",
       "      <td>0.0</td>\n",
       "      <td>0.0</td>\n",
       "      <td>0.000000</td>\n",
       "      <td>0.0</td>\n",
       "      <td>0.000000</td>\n",
       "      <td>0.000000</td>\n",
       "    </tr>\n",
       "    <tr>\n",
       "      <th>75%</th>\n",
       "      <td>41.947227</td>\n",
       "      <td>-87.648064</td>\n",
       "      <td>78.000000</td>\n",
       "      <td>0.160000</td>\n",
       "      <td>29.340000</td>\n",
       "      <td>25.000000</td>\n",
       "      <td>9.400000</td>\n",
       "      <td>0.000000</td>\n",
       "      <td>29.380000</td>\n",
       "      <td>29.360000</td>\n",
       "      <td>...</td>\n",
       "      <td>0.000000</td>\n",
       "      <td>0.0</td>\n",
       "      <td>0.000000</td>\n",
       "      <td>0.000000</td>\n",
       "      <td>0.0</td>\n",
       "      <td>0.0</td>\n",
       "      <td>0.000000</td>\n",
       "      <td>0.0</td>\n",
       "      <td>0.000000</td>\n",
       "      <td>0.000000</td>\n",
       "    </tr>\n",
       "    <tr>\n",
       "      <th>max</th>\n",
       "      <td>42.017430</td>\n",
       "      <td>-87.531635</td>\n",
       "      <td>87.000000</td>\n",
       "      <td>3.970000</td>\n",
       "      <td>29.650000</td>\n",
       "      <td>36.000000</td>\n",
       "      <td>16.300000</td>\n",
       "      <td>1.000000</td>\n",
       "      <td>29.650000</td>\n",
       "      <td>29.650000</td>\n",
       "      <td>...</td>\n",
       "      <td>1.000000</td>\n",
       "      <td>0.0</td>\n",
       "      <td>1.000000</td>\n",
       "      <td>1.000000</td>\n",
       "      <td>0.0</td>\n",
       "      <td>0.0</td>\n",
       "      <td>1.000000</td>\n",
       "      <td>0.0</td>\n",
       "      <td>1.000000</td>\n",
       "      <td>1.000000</td>\n",
       "    </tr>\n",
       "  </tbody>\n",
       "</table>\n",
       "<p>8 rows × 239 columns</p>\n",
       "</div>"
      ],
      "text/plain": [
       "          latitude    longitude         tavg  preciptotal  stnpressure  \\\n",
       "count  8304.000000  8304.000000  8304.000000  8304.000000  8304.000000   \n",
       "mean     41.845800   -87.696229    72.093931     0.182431    29.262110   \n",
       "std       0.106658     0.084440     7.630330     0.470450     0.118606   \n",
       "min      41.644612   -87.930995    50.000000     0.000000    28.890000   \n",
       "25%      41.750498   -87.752411    69.000000     0.000000    29.180000   \n",
       "50%      41.862292   -87.696269    73.000000     0.000000    29.260000   \n",
       "75%      41.947227   -87.648064    78.000000     0.160000    29.340000   \n",
       "max      42.017430   -87.531635    87.000000     3.970000    29.650000   \n",
       "\n",
       "         resultdir     avgspeed     is_spray  stnpressure_7  stnpressure_10  \\\n",
       "count  8304.000000  8304.000000  8304.000000    8304.000000     8304.000000   \n",
       "mean     17.842245     7.476903     0.008911      29.277200       29.265990   \n",
       "std       9.433945     2.543438     0.093984       0.126573        0.142227   \n",
       "min       1.000000     2.100000     0.000000      28.890000       28.910000   \n",
       "25%       8.000000     5.800000     0.000000      29.210000       29.180000   \n",
       "50%      19.000000     7.100000     0.000000      29.280000       29.260000   \n",
       "75%      25.000000     9.400000     0.000000      29.380000       29.360000   \n",
       "max      36.000000    16.300000     1.000000      29.650000       29.650000   \n",
       "\n",
       "       ...  codesum_TSRA BR HZ VCTS  codesum_TSRA FG+ BR HZ  codesum_TSRA RA  \\\n",
       "count  ...              8304.000000                  8304.0      8304.000000   \n",
       "mean   ...                 0.006142                     0.0         0.029383   \n",
       "std    ...                 0.078132                     0.0         0.168889   \n",
       "min    ...                 0.000000                     0.0         0.000000   \n",
       "25%    ...                 0.000000                     0.0         0.000000   \n",
       "50%    ...                 0.000000                     0.0         0.000000   \n",
       "75%    ...                 0.000000                     0.0         0.000000   \n",
       "max    ...                 1.000000                     0.0         1.000000   \n",
       "\n",
       "       codesum_TSRA RA BR  codesum_TSRA RA BR HZ  codesum_TSRA RA BR HZ VCTS  \\\n",
       "count         8304.000000                 8304.0                      8304.0   \n",
       "mean             0.037211                    0.0                         0.0   \n",
       "std              0.189290                    0.0                         0.0   \n",
       "min              0.000000                    0.0                         0.0   \n",
       "25%              0.000000                    0.0                         0.0   \n",
       "50%              0.000000                    0.0                         0.0   \n",
       "75%              0.000000                    0.0                         0.0   \n",
       "max              1.000000                    0.0                         0.0   \n",
       "\n",
       "       codesum_TSRA RA BR VCTS  codesum_TSRA RA VCTS  codesum_VCTS  \\\n",
       "count              8304.000000                8304.0   8304.000000   \n",
       "mean                  0.010597                   0.0      0.003974   \n",
       "std                   0.102402                   0.0      0.062918   \n",
       "min                   0.000000                   0.0      0.000000   \n",
       "25%                   0.000000                   0.0      0.000000   \n",
       "50%                   0.000000                   0.0      0.000000   \n",
       "75%                   0.000000                   0.0      0.000000   \n",
       "max                   1.000000                   0.0      1.000000   \n",
       "\n",
       "        wnvpresent  \n",
       "count  8304.000000  \n",
       "mean      0.055034  \n",
       "std       0.228060  \n",
       "min       0.000000  \n",
       "25%       0.000000  \n",
       "50%       0.000000  \n",
       "75%       0.000000  \n",
       "max       1.000000  \n",
       "\n",
       "[8 rows x 239 columns]"
      ]
     },
     "execution_count": 6,
     "metadata": {},
     "output_type": "execute_result"
    }
   ],
   "source": [
    "train.describe()"
   ]
  },
  {
   "cell_type": "code",
   "execution_count": 7,
   "id": "2b99df22",
   "metadata": {},
   "outputs": [
    {
     "name": "stdout",
     "output_type": "stream",
     "text": [
      "<class 'pandas.core.frame.DataFrame'>\n",
      "Int64Index: 8304 entries, 0 to 8303\n",
      "Columns: 239 entries, latitude to wnvpresent\n",
      "dtypes: float64(11), int64(228)\n",
      "memory usage: 15.2 MB\n"
     ]
    }
   ],
   "source": [
    "train.info()"
   ]
  },
  {
   "cell_type": "markdown",
   "id": "a7fffede",
   "metadata": {},
   "source": [
    "### Further Split Train Data into Train and Holdout"
   ]
  },
  {
   "cell_type": "code",
   "execution_count": 8,
   "id": "0b20422d",
   "metadata": {},
   "outputs": [],
   "source": [
    "# Split train data into X (all features except wnvpresent) and y (wnvpresent)\n",
    "features = [col for col in train.columns if col != 'wnvpresent']\n",
    "X = train[features]\n",
    "y = train['wnvpresent']"
   ]
  },
  {
   "cell_type": "code",
   "execution_count": 9,
   "id": "f840f66b",
   "metadata": {},
   "outputs": [
    {
     "data": {
      "text/plain": [
       "[]"
      ]
     },
     "execution_count": 9,
     "metadata": {},
     "output_type": "execute_result"
    }
   ],
   "source": [
    "X.columns[X.isna().any()].tolist()"
   ]
  },
  {
   "cell_type": "code",
   "execution_count": 10,
   "id": "622dcd8e",
   "metadata": {},
   "outputs": [
    {
     "data": {
      "text/plain": [
       "0.0    0.944966\n",
       "1.0    0.055034\n",
       "Name: wnvpresent, dtype: float64"
      ]
     },
     "execution_count": 10,
     "metadata": {},
     "output_type": "execute_result"
    }
   ],
   "source": [
    "y.value_counts(normalize = True)"
   ]
  },
  {
   "cell_type": "markdown",
   "id": "043d9808",
   "metadata": {},
   "source": [
    "- \"wnvpresent\"'s presence is highly inbalanced, with only about 5.5% of the data points having West Nile Virus. \n",
    "    - It is important to stratify proportionally to ensure that our train and holdout dataset have about the same proportion of presence and absence of West Nile Virus.\n",
    "    - We might also need to use SMOTE as the accuracy of our models without SMOTE might be close to the proportion of absence of WNV). We will ascertain this using logistic regression below."
   ]
  },
  {
   "cell_type": "code",
   "execution_count": 11,
   "id": "ee5a32c1",
   "metadata": {},
   "outputs": [],
   "source": [
    "# Further split train data into train and holdout data\n",
    "X_train1, X_holdout1, y_train1, y_holdout1 = train_test_split(\n",
    "    X, \n",
    "    y,\n",
    "    stratify = y,\n",
    "    random_state=42\n",
    ")"
   ]
  },
  {
   "cell_type": "code",
   "execution_count": 12,
   "id": "d0c0f5b1",
   "metadata": {},
   "outputs": [],
   "source": [
    "# Scale our data\n",
    "ss = StandardScaler()\n",
    "Xs_train1 = ss.fit_transform(X_train1)\n",
    "Xs_holdout1 = ss.transform(X_holdout1)"
   ]
  },
  {
   "cell_type": "markdown",
   "id": "7ac232dc",
   "metadata": {},
   "source": [
    "## Create synthetic data with SMOTE"
   ]
  },
  {
   "cell_type": "code",
   "execution_count": 13,
   "id": "1fbf9ba9",
   "metadata": {},
   "outputs": [],
   "source": [
    "# create synthetic data for train set\n",
    "sm = SMOTE()\n",
    "Xsm_train1, ysm_train1 = sm.fit_resample(Xs_train1, y_train1)"
   ]
  },
  {
   "cell_type": "code",
   "execution_count": 14,
   "id": "4217117a",
   "metadata": {},
   "outputs": [
    {
     "data": {
      "text/plain": [
       "(11770, 238)"
      ]
     },
     "execution_count": 14,
     "metadata": {},
     "output_type": "execute_result"
    }
   ],
   "source": [
    "Xsm_train1.shape"
   ]
  },
  {
   "cell_type": "markdown",
   "id": "4308775f",
   "metadata": {},
   "source": [
    "## Model Exploration"
   ]
  },
  {
   "cell_type": "markdown",
   "id": "bdc1a875",
   "metadata": {},
   "source": [
    "### Metrics to Evaluate Models"
   ]
  },
  {
   "cell_type": "code",
   "execution_count": 15,
   "id": "74cd3281",
   "metadata": {},
   "outputs": [],
   "source": [
    "# Creating a summary dataframe.\n",
    "summary_df = pd.DataFrame(columns=[\n",
    "    'model', \n",
    "    'best_score', \n",
    "    'train_score',\n",
    "    'holdout_score',\n",
    "    'sensitivity',\n",
    "    'specificity',\n",
    "    'precision',\n",
    "    'f1_score',\n",
    "    'best_params', \n",
    "])"
   ]
  },
  {
   "cell_type": "code",
   "execution_count": 16,
   "id": "07b1fed9",
   "metadata": {},
   "outputs": [
    {
     "data": {
      "text/html": [
       "<div>\n",
       "<style scoped>\n",
       "    .dataframe tbody tr th:only-of-type {\n",
       "        vertical-align: middle;\n",
       "    }\n",
       "\n",
       "    .dataframe tbody tr th {\n",
       "        vertical-align: top;\n",
       "    }\n",
       "\n",
       "    .dataframe thead th {\n",
       "        text-align: right;\n",
       "    }\n",
       "</style>\n",
       "<table border=\"1\" class=\"dataframe\">\n",
       "  <thead>\n",
       "    <tr style=\"text-align: right;\">\n",
       "      <th></th>\n",
       "      <th>model</th>\n",
       "      <th>best_score</th>\n",
       "      <th>train_score</th>\n",
       "      <th>holdout_score</th>\n",
       "      <th>sensitivity</th>\n",
       "      <th>specificity</th>\n",
       "      <th>precision</th>\n",
       "      <th>f1_score</th>\n",
       "      <th>best_params</th>\n",
       "    </tr>\n",
       "  </thead>\n",
       "  <tbody>\n",
       "  </tbody>\n",
       "</table>\n",
       "</div>"
      ],
      "text/plain": [
       "Empty DataFrame\n",
       "Columns: [model, best_score, train_score, holdout_score, sensitivity, specificity, precision, f1_score, best_params]\n",
       "Index: []"
      ]
     },
     "execution_count": 16,
     "metadata": {},
     "output_type": "execute_result"
    }
   ],
   "source": [
    "summary_df"
   ]
  },
  {
   "cell_type": "code",
   "execution_count": 17,
   "id": "39977633",
   "metadata": {},
   "outputs": [],
   "source": [
    "def model_metrics(gs, X_train, y_train, X_test, y_test, modelname):\n",
    "    '''Generates confusion matrix and adds scores to summary_df'''\n",
    "    \n",
    "    #Generate confusion matrix\n",
    "    y_pred = gs.predict(X_test)\n",
    "    confusion_matrix(y_test, # True values.\n",
    "                     y_pred)  # Predicted values.\n",
    "    tn, fp, fn, tp = confusion_matrix(y_test, y_pred).ravel();\n",
    "    y_train_pred_prob = gs.predict_proba(X_train)[:,1]\n",
    "    y_test_pred_prob = gs.predict_proba(X_test)[:,1]\n",
    "    \n",
    "    summary_df_rows = summary_df.shape[0]\n",
    "    # Adding the scores into summary_df\n",
    "    summary_df.loc[summary_df_rows] = [\n",
    "        modelname,\n",
    "        round(gs.best_score_, 3),\n",
    "        round(metrics.roc_auc_score(y_train, y_train_pred_prob),3),\n",
    "        round(metrics.roc_auc_score(y_test, y_test_pred_prob),3),\n",
    "        round(metrics.recall_score(y_test, y_pred),3),\n",
    "        round(tn/(tn+fp),3),\n",
    "        round(tp / (tp + fp), 3),\n",
    "        round(metrics.f1_score(y_test, y_pred),3),\n",
    "        str(gs.best_params_),\n",
    "    ]\n",
    "    \n",
    "    \n",
    "    \n",
    "    # Plot Confusion Matrix\n",
    "    plot_confusion_matrix(gs, X_test, y_test, cmap='Blues', \n",
    "                          display_labels=['WNV Present', 'WNV Not Present'],\n",
    "                          normalize='true');  \n",
    "    plt.title(label=modelname, fontsize=14)\n",
    "    plt.grid(False)"
   ]
  },
  {
   "cell_type": "markdown",
   "id": "d238642b",
   "metadata": {},
   "source": [
    "### Checking for the importance of using SMOTE"
   ]
  },
  {
   "cell_type": "markdown",
   "id": "b29be1f0",
   "metadata": {},
   "source": [
    "We realize that the positive value of interest, WNV, only appears in about 5.5% of our dataset, there might not be enough true positives to train our modelling. We will therefore use SMOTE , Synthetic Minority Oversampling TEchnique to attempt to overcome this deficit, and will be testing this with logistic regression."
   ]
  },
  {
   "cell_type": "markdown",
   "id": "7fc02dc0",
   "metadata": {},
   "source": [
    "### Basic Logistic Regression w/o SMOTE"
   ]
  },
  {
   "cell_type": "code",
   "execution_count": 18,
   "id": "23641bab",
   "metadata": {
    "scrolled": true
   },
   "outputs": [
    {
     "name": "stdout",
     "output_type": "stream",
     "text": [
      "Logistic Regression Intercept: [-5.18314255]\n"
     ]
    }
   ],
   "source": [
    "# Instantiate model\n",
    "logreg_no_smote = LogisticRegression(max_iter = 10_000)\n",
    "\n",
    "# Fit model\n",
    "logreg_no_smote.fit(Xs_train1, y_train1)\n",
    "\n",
    "print(f'Logistic Regression Intercept: {logreg_no_smote.intercept_}')"
   ]
  },
  {
   "cell_type": "code",
   "execution_count": 19,
   "id": "4c910614",
   "metadata": {},
   "outputs": [
    {
     "data": {
      "text/plain": [
       "(0.9449261400128453, 0.9436416184971098)"
      ]
     },
     "execution_count": 19,
     "metadata": {},
     "output_type": "execute_result"
    }
   ],
   "source": [
    "logreg_no_smote.score(Xs_train1, y_train1), logreg_no_smote.score(Xs_holdout1, y_holdout1)"
   ]
  },
  {
   "cell_type": "code",
   "execution_count": 20,
   "id": "8740b39f",
   "metadata": {},
   "outputs": [
    {
     "name": "stdout",
     "output_type": "stream",
     "text": [
      "LogisticRegression summary of accuracy scores:\n",
      "Training accuracy = 0.055\n",
      "Testing accuracy = 0.055\n"
     ]
    },
    {
     "name": "stderr",
     "output_type": "stream",
     "text": [
      "C:\\Users\\deang\\anaconda3\\envs\\dsi27tf\\lib\\site-packages\\sklearn\\base.py:444: UserWarning: X has feature names, but LogisticRegression was fitted without feature names\n",
      "  f\"X has feature names, but {self.__class__.__name__} was fitted without\"\n",
      "C:\\Users\\deang\\anaconda3\\envs\\dsi27tf\\lib\\site-packages\\sklearn\\base.py:444: UserWarning: X has feature names, but LogisticRegression was fitted without feature names\n",
      "  f\"X has feature names, but {self.__class__.__name__} was fitted without\"\n"
     ]
    }
   ],
   "source": [
    "# Summary scores of CountVectorizer and LogisticRegression.\n",
    "print(\"LogisticRegression summary of accuracy scores:\")\n",
    "print(f\"Training accuracy = {round(logreg_no_smote.score(X_train1, y_train1), 3)}\")\n",
    "print(f\"Testing accuracy = {round(logreg_no_smote.score(X_holdout1, y_holdout1), 3)}\")"
   ]
  },
  {
   "cell_type": "markdown",
   "id": "493078bb",
   "metadata": {},
   "source": [
    "Creating model metrics specifically for log reg as it does not have some attributes such as \"best score\""
   ]
  },
  {
   "cell_type": "code",
   "execution_count": 21,
   "id": "22b3b850",
   "metadata": {},
   "outputs": [],
   "source": [
    "def model_metrics_logreg(gs, X_train, y_train, X_test, y_test, modelname):\n",
    "    '''Generates scores and add to summary_df'''\n",
    "    y_pred = gs.predict(X_test)\n",
    "    \n",
    "    # Save confusion matrix values\n",
    "    tn, fp, fn, tp = confusion_matrix(y_test, y_pred).ravel()\n",
    "    # Calculate the specificity, sensitivity, precision, f1 score\n",
    "    acc = (tn + tp) / (tn + fp + fn + tp)\n",
    "    sens = tp / (tp + fn)\n",
    "    spec = tn / (tn + fp)\n",
    "    prec = tp / (tp + fp)\n",
    "    f1 = 2 * (prec*sens) / (prec + sens)\n",
    "    \n",
    "    summary_df_rows = summary_df.shape[0]\n",
    "    summary_df.loc[summary_df_rows] = [\n",
    "    modelname,\n",
    "    '',\n",
    "    round(gs.score(X_train, y_train), 3),\n",
    "    round(gs.score(X_test, y_test), 3),\n",
    "    round(metrics.recall_score(y_test, y_pred),3),\n",
    "    round(tn/(tn+fp),3),\n",
    "    round(tp / (tp + fp), 3),\n",
    "    round(metrics.f1_score(y_test, y_pred),3),\n",
    "    '',\n",
    "]\n",
    "    \n",
    "        # Plot Confusion Matrix\n",
    "    plot_confusion_matrix(gs, X_test, y_test, cmap='Blues', \n",
    "                          display_labels=['WNV Present', 'WNV Not Present'],\n",
    "                          normalize='true');  \n",
    "    plt.title(label=modelname, fontsize=14)\n",
    "    plt.grid(False)"
   ]
  },
  {
   "cell_type": "code",
   "execution_count": 22,
   "id": "3bd009a9",
   "metadata": {},
   "outputs": [],
   "source": [
    "summary_df = pd.DataFrame(columns=[\n",
    "    'model', \n",
    "    'best_score', \n",
    "    'train_score',\n",
    "    'holdout_score',\n",
    "    'sensitivity',\n",
    "    'specificity',\n",
    "    'precision',\n",
    "    'f1_score',\n",
    "    'best_params', \n",
    "])"
   ]
  },
  {
   "cell_type": "markdown",
   "id": "d082a2aa",
   "metadata": {},
   "source": [
    "Model performance for Logistic Regression without SMOTE"
   ]
  },
  {
   "cell_type": "code",
   "execution_count": 23,
   "id": "49f94068",
   "metadata": {},
   "outputs": [
    {
     "name": "stderr",
     "output_type": "stream",
     "text": [
      "C:\\Users\\deang\\anaconda3\\envs\\dsi27tf\\lib\\site-packages\\sklearn\\utils\\deprecation.py:87: FutureWarning: Function plot_confusion_matrix is deprecated; Function `plot_confusion_matrix` is deprecated in 1.0 and will be removed in 1.2. Use one of the class methods: ConfusionMatrixDisplay.from_predictions or ConfusionMatrixDisplay.from_estimator.\n",
      "  warnings.warn(msg, category=FutureWarning)\n"
     ]
    },
    {
     "data": {
      "image/png": "[encoded data removed]",
      "text/plain": [
       "<Figure size 432x288 with 2 Axes>"
      ]
     },
     "metadata": {
      "needs_background": "light"
     },
     "output_type": "display_data"
    }
   ],
   "source": [
    "model_metrics_logreg(logreg_no_smote, Xs_train1, y_train1, Xs_holdout1, y_holdout1, \"Logistic Regression no SMOTE\")"
   ]
  },
  {
   "cell_type": "code",
   "execution_count": 24,
   "id": "d6665e0a",
   "metadata": {
    "scrolled": true
   },
   "outputs": [
    {
     "data": {
      "text/html": [
       "<div>\n",
       "<style scoped>\n",
       "    .dataframe tbody tr th:only-of-type {\n",
       "        vertical-align: middle;\n",
       "    }\n",
       "\n",
       "    .dataframe tbody tr th {\n",
       "        vertical-align: top;\n",
       "    }\n",
       "\n",
       "    .dataframe thead th {\n",
       "        text-align: right;\n",
       "    }\n",
       "</style>\n",
       "<table border=\"1\" class=\"dataframe\">\n",
       "  <thead>\n",
       "    <tr style=\"text-align: right;\">\n",
       "      <th></th>\n",
       "      <th>model</th>\n",
       "      <th>best_score</th>\n",
       "      <th>train_score</th>\n",
       "      <th>holdout_score</th>\n",
       "      <th>sensitivity</th>\n",
       "      <th>specificity</th>\n",
       "      <th>precision</th>\n",
       "      <th>f1_score</th>\n",
       "      <th>best_params</th>\n",
       "    </tr>\n",
       "  </thead>\n",
       "  <tbody>\n",
       "    <tr>\n",
       "      <th>0</th>\n",
       "      <td>Logistic Regression no SMOTE</td>\n",
       "      <td></td>\n",
       "      <td>0.945</td>\n",
       "      <td>0.944</td>\n",
       "      <td>0.096</td>\n",
       "      <td>0.993</td>\n",
       "      <td>0.44</td>\n",
       "      <td>0.158</td>\n",
       "      <td></td>\n",
       "    </tr>\n",
       "  </tbody>\n",
       "</table>\n",
       "</div>"
      ],
      "text/plain": [
       "                          model best_score  train_score  holdout_score  \\\n",
       "0  Logistic Regression no SMOTE                   0.945          0.944   \n",
       "\n",
       "   sensitivity  specificity  precision  f1_score best_params  \n",
       "0        0.096        0.993       0.44     0.158              "
      ]
     },
     "execution_count": 24,
     "metadata": {},
     "output_type": "execute_result"
    }
   ],
   "source": [
    "summary_df"
   ]
  },
  {
   "cell_type": "markdown",
   "id": "9e35536c",
   "metadata": {},
   "source": [
    "### Basic Logistic Regression w/ SMOTE"
   ]
  },
  {
   "cell_type": "code",
   "execution_count": 25,
   "id": "3d9d62c9",
   "metadata": {},
   "outputs": [
    {
     "name": "stdout",
     "output_type": "stream",
     "text": [
      "Logistic Regression Intercept: [-3.92657507]\n"
     ]
    }
   ],
   "source": [
    "# Instantiate model\n",
    "logreg_smote = LogisticRegression(max_iter = 10_000)\n",
    "\n",
    "# Fit model\n",
    "logreg_smote.fit(Xsm_train1, ysm_train1)\n",
    "\n",
    "print(f'Logistic Regression Intercept: {logreg_smote.intercept_}')"
   ]
  },
  {
   "cell_type": "code",
   "execution_count": 26,
   "id": "7dd13232",
   "metadata": {},
   "outputs": [
    {
     "data": {
      "text/plain": [
       "(0.862786745964316, 0.7976878612716763)"
      ]
     },
     "execution_count": 26,
     "metadata": {},
     "output_type": "execute_result"
    }
   ],
   "source": [
    "#log-reg of with-week data, with SMOTE\n",
    "logreg_smote.score(Xsm_train1, ysm_train1), logreg_smote.score(Xs_holdout1, y_holdout1)"
   ]
  },
  {
   "cell_type": "code",
   "execution_count": 27,
   "id": "fe4e6d2a",
   "metadata": {},
   "outputs": [
    {
     "name": "stderr",
     "output_type": "stream",
     "text": [
      "C:\\Users\\deang\\anaconda3\\envs\\dsi27tf\\lib\\site-packages\\sklearn\\utils\\deprecation.py:87: FutureWarning: Function plot_confusion_matrix is deprecated; Function `plot_confusion_matrix` is deprecated in 1.0 and will be removed in 1.2. Use one of the class methods: ConfusionMatrixDisplay.from_predictions or ConfusionMatrixDisplay.from_estimator.\n",
      "  warnings.warn(msg, category=FutureWarning)\n"
     ]
    },
    {
     "data": {
      "image/png": "[encoded data removed]",
      "text/plain": [
       "<Figure size 432x288 with 2 Axes>"
      ]
     },
     "metadata": {
      "needs_background": "light"
     },
     "output_type": "display_data"
    }
   ],
   "source": [
    "model_metrics_logreg(logreg_smote, Xsm_train1, ysm_train1, Xs_holdout1, y_holdout1, \n",
    "                     'Logistic Regression with SMOTE')"
   ]
  },
  {
   "cell_type": "code",
   "execution_count": 28,
   "id": "5fff30f3",
   "metadata": {},
   "outputs": [
    {
     "data": {
      "text/html": [
       "<div>\n",
       "<style scoped>\n",
       "    .dataframe tbody tr th:only-of-type {\n",
       "        vertical-align: middle;\n",
       "    }\n",
       "\n",
       "    .dataframe tbody tr th {\n",
       "        vertical-align: top;\n",
       "    }\n",
       "\n",
       "    .dataframe thead th {\n",
       "        text-align: right;\n",
       "    }\n",
       "</style>\n",
       "<table border=\"1\" class=\"dataframe\">\n",
       "  <thead>\n",
       "    <tr style=\"text-align: right;\">\n",
       "      <th></th>\n",
       "      <th>model</th>\n",
       "      <th>best_score</th>\n",
       "      <th>train_score</th>\n",
       "      <th>holdout_score</th>\n",
       "      <th>sensitivity</th>\n",
       "      <th>specificity</th>\n",
       "      <th>precision</th>\n",
       "      <th>f1_score</th>\n",
       "      <th>best_params</th>\n",
       "    </tr>\n",
       "  </thead>\n",
       "  <tbody>\n",
       "    <tr>\n",
       "      <th>0</th>\n",
       "      <td>Logistic Regression no SMOTE</td>\n",
       "      <td></td>\n",
       "      <td>0.945</td>\n",
       "      <td>0.944</td>\n",
       "      <td>0.096</td>\n",
       "      <td>0.993</td>\n",
       "      <td>0.440</td>\n",
       "      <td>0.158</td>\n",
       "      <td></td>\n",
       "    </tr>\n",
       "    <tr>\n",
       "      <th>1</th>\n",
       "      <td>Logistic Regression with SMOTE</td>\n",
       "      <td></td>\n",
       "      <td>0.863</td>\n",
       "      <td>0.798</td>\n",
       "      <td>0.640</td>\n",
       "      <td>0.807</td>\n",
       "      <td>0.162</td>\n",
       "      <td>0.258</td>\n",
       "      <td></td>\n",
       "    </tr>\n",
       "  </tbody>\n",
       "</table>\n",
       "</div>"
      ],
      "text/plain": [
       "                            model best_score  train_score  holdout_score  \\\n",
       "0    Logistic Regression no SMOTE                   0.945          0.944   \n",
       "1  Logistic Regression with SMOTE                   0.863          0.798   \n",
       "\n",
       "   sensitivity  specificity  precision  f1_score best_params  \n",
       "0        0.096        0.993      0.440     0.158              \n",
       "1        0.640        0.807      0.162     0.258              "
      ]
     },
     "execution_count": 28,
     "metadata": {},
     "output_type": "execute_result"
    }
   ],
   "source": [
    "summary_df"
   ]
  },
  {
   "cell_type": "markdown",
   "id": "c262831a",
   "metadata": {},
   "source": [
    "We observe that the accuracy has decreased from 0.945 to 0.863, which means that we are not predicting true positives or true negatives accurately as often. However, we observe that our sensitivity, which is our true positive over the sum of true positive and false negatives, has increased from the low value of 0.096 to 0.640. That means that roughly 64.0% of the WNV positive traps can be caught by our model, compared to about 9.44% previously. Therefore, we would prefer to use SMOTE in order to capture more WNV positive points for effective control. "
   ]
  },
  {
   "cell_type": "markdown",
   "id": "d72ba4ba",
   "metadata": {},
   "source": [
    "### Testing of importance of Week & Year data"
   ]
  },
  {
   "cell_type": "markdown",
   "id": "f8bcd4c5",
   "metadata": {},
   "source": [
    "Week and Year variables might just have recurring indicative weather effects, which might just be re-representing our weather data, or they might capture information that are outside of our weather data. We conducted a Log Reg to see if removing these data will cause huge differences to the model."
   ]
  },
  {
   "cell_type": "code",
   "execution_count": 29,
   "id": "df0b6335",
   "metadata": {},
   "outputs": [],
   "source": [
    "df2 = df.copy()"
   ]
  },
  {
   "cell_type": "code",
   "execution_count": 30,
   "id": "047b8b4d",
   "metadata": {},
   "outputs": [],
   "source": [
    "df2.drop(columns = ['week_23',\n",
    " 'week_24',\n",
    " 'week_25',\n",
    " 'week_26',\n",
    " 'week_27',\n",
    " 'week_28',\n",
    " 'week_29',\n",
    " 'week_30',\n",
    " 'week_31',\n",
    " 'week_32',\n",
    " 'week_33',\n",
    " 'week_34',\n",
    " 'week_35',\n",
    " 'week_36',\n",
    " 'week_37',\n",
    " 'week_38',\n",
    " 'week_39',\n",
    " 'week_40',\n",
    " 'week_41',\n",
    " 'year_2008',\n",
    " 'year_2009',                    \n",
    " 'year_2010',                    \n",
    " 'year_2011',\n",
    " 'year_2012',\n",
    " 'year_2013',                    \n",
    " 'year_2014',                     \n",
    "                   ], inplace = True)"
   ]
  },
  {
   "cell_type": "code",
   "execution_count": 31,
   "id": "25cfa0f2",
   "metadata": {},
   "outputs": [
    {
     "data": {
      "text/plain": [
       "Index(['latitude', 'longitude', 'tavg', 'preciptotal', 'stnpressure',\n",
       "       'resultdir', 'avgspeed', 'is_spray', 'stnpressure_7', 'stnpressure_10',\n",
       "       ...\n",
       "       'codesum_TSRA FG+ BR HZ', 'codesum_TSRA RA', 'codesum_TSRA RA BR',\n",
       "       'codesum_TSRA RA BR HZ', 'codesum_TSRA RA BR HZ VCTS',\n",
       "       'codesum_TSRA RA BR VCTS', 'codesum_TSRA RA VCTS', 'codesum_VCTS',\n",
       "       'wnvpresent', 'dataset'],\n",
       "      dtype='object', length=214)"
      ]
     },
     "execution_count": 31,
     "metadata": {},
     "output_type": "execute_result"
    }
   ],
   "source": [
    "df2.columns"
   ]
  },
  {
   "cell_type": "markdown",
   "id": "059b4081",
   "metadata": {},
   "source": [
    "Naming this train data as train2."
   ]
  },
  {
   "cell_type": "code",
   "execution_count": 32,
   "id": "782e9df8",
   "metadata": {},
   "outputs": [
    {
     "name": "stdout",
     "output_type": "stream",
     "text": [
      "(8304, 214)\n",
      "(43035, 214)\n"
     ]
    }
   ],
   "source": [
    "train2 = df2[df2['dataset']=='train'].copy()\n",
    "test2 = df2[df2['dataset']=='test'].copy()\n",
    "print(train2.shape)\n",
    "print(test2.shape)"
   ]
  },
  {
   "cell_type": "code",
   "execution_count": 33,
   "id": "14402f67",
   "metadata": {},
   "outputs": [],
   "source": [
    "# Split train data into X (all features except wnvpresent) and y (wnvpresent)\n",
    "features = [col for col in train2.columns if col != 'wnvpresent']\n",
    "X2 = train2[features]\n",
    "y2 = train2['wnvpresent']"
   ]
  },
  {
   "cell_type": "code",
   "execution_count": 34,
   "id": "13b9548b",
   "metadata": {},
   "outputs": [
    {
     "name": "stderr",
     "output_type": "stream",
     "text": [
      "C:\\Users\\deang\\anaconda3\\envs\\dsi27tf\\lib\\site-packages\\pandas\\core\\frame.py:4913: SettingWithCopyWarning: \n",
      "A value is trying to be set on a copy of a slice from a DataFrame\n",
      "\n",
      "See the caveats in the documentation: https://pandas.pydata.org/pandas-docs/stable/user_guide/indexing.html#returning-a-view-versus-a-copy\n",
      "  errors=errors,\n"
     ]
    }
   ],
   "source": [
    "X2.drop(columns = [\"dataset\"],inplace = True)"
   ]
  },
  {
   "cell_type": "code",
   "execution_count": 35,
   "id": "bfa57092",
   "metadata": {},
   "outputs": [],
   "source": [
    "# Further split train data into train and holdout data\n",
    "X_train2, X_holdout2, y_train2, y_holdout2 = train_test_split(\n",
    "    X2, \n",
    "    y2,\n",
    "    stratify = y2,\n",
    "    random_state=42\n",
    ")"
   ]
  },
  {
   "cell_type": "code",
   "execution_count": 36,
   "id": "d0c88499",
   "metadata": {},
   "outputs": [],
   "source": [
    "# Scale our data\n",
    "ss = StandardScaler()\n",
    "Xs_train2 = ss.fit_transform(X_train2)\n",
    "Xs_holdout2 = ss.transform(X_holdout2)"
   ]
  },
  {
   "cell_type": "code",
   "execution_count": 37,
   "id": "d80d39aa",
   "metadata": {},
   "outputs": [],
   "source": [
    "# create synthetic data for train set\n",
    "sm = SMOTE()\n",
    "Xsm_train2, ysm_train2 = sm.fit_resample(Xs_train2, y_train2)"
   ]
  },
  {
   "cell_type": "markdown",
   "id": "bb53cd9e",
   "metadata": {},
   "source": [
    "New Smote data is Xsm_train2, ysm_train2"
   ]
  },
  {
   "cell_type": "code",
   "execution_count": 38,
   "id": "fd770746",
   "metadata": {},
   "outputs": [
    {
     "name": "stdout",
     "output_type": "stream",
     "text": [
      "Logistic Regression Intercept: [-2.45039607]\n"
     ]
    }
   ],
   "source": [
    "logreg_noyr_nowk = LogisticRegression(max_iter=10_000)\n",
    "\n",
    "# Fit model\n",
    "logreg_noyr_nowk.fit(Xsm_train2, ysm_train2)\n",
    "\n",
    "print(f'Logistic Regression Intercept: {logreg_noyr_nowk .intercept_}')"
   ]
  },
  {
   "cell_type": "code",
   "execution_count": 39,
   "id": "a3fad5c8",
   "metadata": {},
   "outputs": [
    {
     "data": {
      "text/plain": [
       "(0.829141886151232, 0.7596339113680154)"
      ]
     },
     "execution_count": 39,
     "metadata": {},
     "output_type": "execute_result"
    }
   ],
   "source": [
    "#logreg of no-week data, with SMOTE\n",
    "logreg_noyr_nowk .score(Xsm_train2, ysm_train2), logreg_noyr_nowk.score(Xs_holdout2, y_holdout2)"
   ]
  },
  {
   "cell_type": "code",
   "execution_count": 40,
   "id": "7ad49e83",
   "metadata": {},
   "outputs": [
    {
     "name": "stderr",
     "output_type": "stream",
     "text": [
      "C:\\Users\\deang\\anaconda3\\envs\\dsi27tf\\lib\\site-packages\\sklearn\\utils\\deprecation.py:87: FutureWarning: Function plot_confusion_matrix is deprecated; Function `plot_confusion_matrix` is deprecated in 1.0 and will be removed in 1.2. Use one of the class methods: ConfusionMatrixDisplay.from_predictions or ConfusionMatrixDisplay.from_estimator.\n",
      "  warnings.warn(msg, category=FutureWarning)\n"
     ]
    },
    {
     "data": {
      "image/png": "[encoded data removed]",
      "text/plain": [
       "<Figure size 432x288 with 2 Axes>"
      ]
     },
     "metadata": {
      "needs_background": "light"
     },
     "output_type": "display_data"
    }
   ],
   "source": [
    "model_metrics_logreg(logreg_noyr_nowk , Xsm_train2, ysm_train2, Xs_holdout2, y_holdout2, \n",
    "                     'Logistic Regression with no Years and Weeks')"
   ]
  },
  {
   "cell_type": "code",
   "execution_count": 41,
   "id": "04c72ccd",
   "metadata": {},
   "outputs": [
    {
     "data": {
      "text/html": [
       "<div>\n",
       "<style scoped>\n",
       "    .dataframe tbody tr th:only-of-type {\n",
       "        vertical-align: middle;\n",
       "    }\n",
       "\n",
       "    .dataframe tbody tr th {\n",
       "        vertical-align: top;\n",
       "    }\n",
       "\n",
       "    .dataframe thead th {\n",
       "        text-align: right;\n",
       "    }\n",
       "</style>\n",
       "<table border=\"1\" class=\"dataframe\">\n",
       "  <thead>\n",
       "    <tr style=\"text-align: right;\">\n",
       "      <th></th>\n",
       "      <th>model</th>\n",
       "      <th>best_score</th>\n",
       "      <th>train_score</th>\n",
       "      <th>holdout_score</th>\n",
       "      <th>sensitivity</th>\n",
       "      <th>specificity</th>\n",
       "      <th>precision</th>\n",
       "      <th>f1_score</th>\n",
       "      <th>best_params</th>\n",
       "    </tr>\n",
       "  </thead>\n",
       "  <tbody>\n",
       "    <tr>\n",
       "      <th>0</th>\n",
       "      <td>Logistic Regression no SMOTE</td>\n",
       "      <td></td>\n",
       "      <td>0.945</td>\n",
       "      <td>0.944</td>\n",
       "      <td>0.096</td>\n",
       "      <td>0.993</td>\n",
       "      <td>0.440</td>\n",
       "      <td>0.158</td>\n",
       "      <td></td>\n",
       "    </tr>\n",
       "    <tr>\n",
       "      <th>1</th>\n",
       "      <td>Logistic Regression with SMOTE</td>\n",
       "      <td></td>\n",
       "      <td>0.863</td>\n",
       "      <td>0.798</td>\n",
       "      <td>0.640</td>\n",
       "      <td>0.807</td>\n",
       "      <td>0.162</td>\n",
       "      <td>0.258</td>\n",
       "      <td></td>\n",
       "    </tr>\n",
       "    <tr>\n",
       "      <th>2</th>\n",
       "      <td>Logistic Regression with no Years and Weeks</td>\n",
       "      <td></td>\n",
       "      <td>0.829</td>\n",
       "      <td>0.760</td>\n",
       "      <td>0.605</td>\n",
       "      <td>0.769</td>\n",
       "      <td>0.132</td>\n",
       "      <td>0.217</td>\n",
       "      <td></td>\n",
       "    </tr>\n",
       "  </tbody>\n",
       "</table>\n",
       "</div>"
      ],
      "text/plain": [
       "                                         model best_score  train_score  \\\n",
       "0                 Logistic Regression no SMOTE                   0.945   \n",
       "1               Logistic Regression with SMOTE                   0.863   \n",
       "2  Logistic Regression with no Years and Weeks                   0.829   \n",
       "\n",
       "   holdout_score  sensitivity  specificity  precision  f1_score best_params  \n",
       "0          0.944        0.096        0.993      0.440     0.158              \n",
       "1          0.798        0.640        0.807      0.162     0.258              \n",
       "2          0.760        0.605        0.769      0.132     0.217              "
      ]
     },
     "execution_count": 41,
     "metadata": {},
     "output_type": "execute_result"
    }
   ],
   "source": [
    "summary_df"
   ]
  },
  {
   "cell_type": "markdown",
   "id": "e9dfee6e",
   "metadata": {},
   "source": [
    "Given that the values are rather similar, we would be inclined to drop the weeks so that we can generalise our results to years where the weather patterns are not similar for the weeks within. Using weather data would be a better model to account for any climate changes or erratic weather."
   ]
  },
  {
   "cell_type": "markdown",
   "id": "6ed46582",
   "metadata": {},
   "source": [
    "#### Changing the data to that where weeks and years are removed"
   ]
  },
  {
   "cell_type": "code",
   "execution_count": 42,
   "id": "2f7a5e16",
   "metadata": {},
   "outputs": [],
   "source": [
    "df = df2.copy()"
   ]
  },
  {
   "cell_type": "code",
   "execution_count": 43,
   "id": "de819f2f",
   "metadata": {},
   "outputs": [
    {
     "name": "stdout",
     "output_type": "stream",
     "text": [
      "(8304, 214)\n",
      "(43035, 214)\n"
     ]
    }
   ],
   "source": [
    "# Split into train and test (kaggle) data \n",
    "train = df[df['dataset']=='train'].copy()\n",
    "test = df[df['dataset']=='test'].copy()\n",
    "print(train.shape)\n",
    "print(test.shape)"
   ]
  },
  {
   "cell_type": "code",
   "execution_count": 44,
   "id": "6db24165",
   "metadata": {},
   "outputs": [],
   "source": [
    "train.drop(columns='dataset', inplace=True)\n",
    "test.drop(columns='dataset', inplace=True)"
   ]
  },
  {
   "cell_type": "code",
   "execution_count": 45,
   "id": "e9cd970d",
   "metadata": {},
   "outputs": [],
   "source": [
    "# Split train data into X (all features except wnvpresent) and y (wnvpresent)\n",
    "features = [col for col in train.columns if col != 'wnvpresent']\n",
    "X = train[features]\n",
    "y = train['wnvpresent']"
   ]
  },
  {
   "cell_type": "code",
   "execution_count": 46,
   "id": "ce81b858",
   "metadata": {},
   "outputs": [],
   "source": [
    "# Further split train data into train and holdout data\n",
    "X_train, X_holdout, y_train, y_holdout = train_test_split(\n",
    "    X, \n",
    "    y,\n",
    "    stratify = y,\n",
    "    random_state=42\n",
    ")"
   ]
  },
  {
   "cell_type": "code",
   "execution_count": 47,
   "id": "0b12bd88",
   "metadata": {},
   "outputs": [],
   "source": [
    "# Scale our data\n",
    "ss = StandardScaler()\n",
    "Xs_train = ss.fit_transform(X_train)\n",
    "Xs_holdout = ss.transform(X_holdout)"
   ]
  },
  {
   "cell_type": "code",
   "execution_count": 48,
   "id": "534e3047",
   "metadata": {},
   "outputs": [],
   "source": [
    "# create synthetic data for train set\n",
    "sm = SMOTE()\n",
    "Xsm_train, ysm_train = sm.fit_resample(Xs_train, y_train)"
   ]
  },
  {
   "cell_type": "markdown",
   "id": "bd4aadf6",
   "metadata": {},
   "source": [
    "### Logistic Regression with Regularization (GridSearchCV)"
   ]
  },
  {
   "cell_type": "code",
   "execution_count": 49,
   "id": "2ded9046",
   "metadata": {},
   "outputs": [],
   "source": [
    "# Parameters searched\n",
    "parameters = {'C': [0.001, 0.01],\n",
    "              'class_weight': [None, 'balanced'],\n",
    "              'penalty': ['l1', 'l2']}\n",
    "\n",
    "# We are testing l1 and l2 penalties in GridSearch.\n",
    "lr = LogisticRegression(solver = 'liblinear', \n",
    "                        max_iter = 1000,\n",
    "                        random_state = 42)\n",
    "\n",
    "gs = GridSearchCV(estimator = lr,                                    \n",
    "                          param_grid = parameters,                           \n",
    "                          scoring = 'recall',                               \n",
    "                          cv = 5).fit(Xsm_train, ysm_train)    "
   ]
  },
  {
   "cell_type": "markdown",
   "id": "193bf3ca",
   "metadata": {},
   "source": [
    "The best parameters are used as below."
   ]
  },
  {
   "cell_type": "code",
   "execution_count": 50,
   "id": "56f1bb6a",
   "metadata": {},
   "outputs": [],
   "source": [
    "log_reg_regularisation = LogisticRegression(solver = 'liblinear', \n",
    "                           max_iter = 1000,\n",
    "                           C = 0.001,\n",
    "                           class_weight = None,\n",
    "                           penalty = 'l2',\n",
    "                           random_state = 42)"
   ]
  },
  {
   "cell_type": "code",
   "execution_count": 51,
   "id": "0aeac4c1",
   "metadata": {},
   "outputs": [
    {
     "data": {
      "text/plain": [
       "LogisticRegression(C=0.001, max_iter=1000, random_state=42, solver='liblinear')"
      ]
     },
     "execution_count": 51,
     "metadata": {},
     "output_type": "execute_result"
    }
   ],
   "source": [
    "log_reg_regularisation.fit(X = Xsm_train,y = ysm_train)"
   ]
  },
  {
   "cell_type": "code",
   "execution_count": 52,
   "id": "de6a0bcd",
   "metadata": {},
   "outputs": [
    {
     "name": "stdout",
     "output_type": "stream",
     "text": [
      "0.8101104502973662\n",
      "0.7071290944123314\n"
     ]
    }
   ],
   "source": [
    "print(log_reg_regularisation.score(Xsm_train, ysm_train))\n",
    "print(log_reg_regularisation.score(Xs_holdout, y_holdout))"
   ]
  },
  {
   "cell_type": "code",
   "execution_count": 53,
   "id": "4125facb",
   "metadata": {},
   "outputs": [],
   "source": [
    "df_col = df.drop(columns = ['wnvpresent', 'dataset'])"
   ]
  },
  {
   "cell_type": "code",
   "execution_count": 54,
   "id": "48967438",
   "metadata": {},
   "outputs": [],
   "source": [
    "log_reg_regularisation_coef = pd.DataFrame(data=log_reg_regularisation.coef_[0],\n",
    "                          index=df_col.columns,\n",
    "                          columns=['coef'])"
   ]
  },
  {
   "cell_type": "code",
   "execution_count": 55,
   "id": "c9a1c9f3",
   "metadata": {},
   "outputs": [],
   "source": [
    "# Display Coefficients\n",
    "coefs = pd.DataFrame({'variable':X.columns,\n",
    "                            'coef':log_reg_regularisation.coef_[0],\n",
    "                            'abs_coef':np.abs(log_reg_regularisation.coef_[0])\n",
    "                     })\n"
   ]
  },
  {
   "cell_type": "code",
   "execution_count": 56,
   "id": "ae243099",
   "metadata": {},
   "outputs": [
    {
     "data": {
      "text/html": [
       "<div>\n",
       "<style scoped>\n",
       "    .dataframe tbody tr th:only-of-type {\n",
       "        vertical-align: middle;\n",
       "    }\n",
       "\n",
       "    .dataframe tbody tr th {\n",
       "        vertical-align: top;\n",
       "    }\n",
       "\n",
       "    .dataframe thead th {\n",
       "        text-align: right;\n",
       "    }\n",
       "</style>\n",
       "<table border=\"1\" class=\"dataframe\">\n",
       "  <thead>\n",
       "    <tr style=\"text-align: right;\">\n",
       "      <th></th>\n",
       "      <th>variable</th>\n",
       "      <th>coef</th>\n",
       "      <th>abs_coef</th>\n",
       "    </tr>\n",
       "  </thead>\n",
       "  <tbody>\n",
       "    <tr>\n",
       "      <th>176</th>\n",
       "      <td>trap_T900</td>\n",
       "      <td>0.283581</td>\n",
       "      <td>0.283581</td>\n",
       "    </tr>\n",
       "    <tr>\n",
       "      <th>2</th>\n",
       "      <td>tavg</td>\n",
       "      <td>0.239971</td>\n",
       "      <td>0.239971</td>\n",
       "    </tr>\n",
       "    <tr>\n",
       "      <th>24</th>\n",
       "      <td>dayofweek_3</td>\n",
       "      <td>0.186805</td>\n",
       "      <td>0.186805</td>\n",
       "    </tr>\n",
       "    <tr>\n",
       "      <th>117</th>\n",
       "      <td>trap_T115</td>\n",
       "      <td>0.157912</td>\n",
       "      <td>0.157912</td>\n",
       "    </tr>\n",
       "    <tr>\n",
       "      <th>162</th>\n",
       "      <td>trap_T225</td>\n",
       "      <td>0.137210</td>\n",
       "      <td>0.137210</td>\n",
       "    </tr>\n",
       "    <tr>\n",
       "      <th>180</th>\n",
       "      <td>codesum_BR HZ</td>\n",
       "      <td>0.136913</td>\n",
       "      <td>0.136913</td>\n",
       "    </tr>\n",
       "    <tr>\n",
       "      <th>197</th>\n",
       "      <td>codesum_TS TSRA RA BR</td>\n",
       "      <td>0.135555</td>\n",
       "      <td>0.135555</td>\n",
       "    </tr>\n",
       "    <tr>\n",
       "      <th>31</th>\n",
       "      <td>trap_T003</td>\n",
       "      <td>0.130406</td>\n",
       "      <td>0.130406</td>\n",
       "    </tr>\n",
       "    <tr>\n",
       "      <th>196</th>\n",
       "      <td>codesum_TS TSRA RA</td>\n",
       "      <td>0.127048</td>\n",
       "      <td>0.127048</td>\n",
       "    </tr>\n",
       "    <tr>\n",
       "      <th>185</th>\n",
       "      <td>codesum_RA</td>\n",
       "      <td>0.122896</td>\n",
       "      <td>0.122896</td>\n",
       "    </tr>\n",
       "    <tr>\n",
       "      <th>22</th>\n",
       "      <td>dayofweek_1</td>\n",
       "      <td>0.114540</td>\n",
       "      <td>0.114540</td>\n",
       "    </tr>\n",
       "    <tr>\n",
       "      <th>28</th>\n",
       "      <td>trap_T002</td>\n",
       "      <td>0.113727</td>\n",
       "      <td>0.113727</td>\n",
       "    </tr>\n",
       "    <tr>\n",
       "      <th>41</th>\n",
       "      <td>trap_T013</td>\n",
       "      <td>0.106664</td>\n",
       "      <td>0.106664</td>\n",
       "    </tr>\n",
       "    <tr>\n",
       "      <th>8</th>\n",
       "      <td>stnpressure_7</td>\n",
       "      <td>0.104702</td>\n",
       "      <td>0.104702</td>\n",
       "    </tr>\n",
       "    <tr>\n",
       "      <th>93</th>\n",
       "      <td>trap_T082</td>\n",
       "      <td>0.102662</td>\n",
       "      <td>0.102662</td>\n",
       "    </tr>\n",
       "    <tr>\n",
       "      <th>4</th>\n",
       "      <td>stnpressure</td>\n",
       "      <td>0.099050</td>\n",
       "      <td>0.099050</td>\n",
       "    </tr>\n",
       "    <tr>\n",
       "      <th>100</th>\n",
       "      <td>trap_T090</td>\n",
       "      <td>0.090609</td>\n",
       "      <td>0.090609</td>\n",
       "    </tr>\n",
       "    <tr>\n",
       "      <th>165</th>\n",
       "      <td>trap_T228</td>\n",
       "      <td>0.090482</td>\n",
       "      <td>0.090482</td>\n",
       "    </tr>\n",
       "    <tr>\n",
       "      <th>23</th>\n",
       "      <td>dayofweek_2</td>\n",
       "      <td>0.089185</td>\n",
       "      <td>0.089185</td>\n",
       "    </tr>\n",
       "    <tr>\n",
       "      <th>122</th>\n",
       "      <td>trap_T138</td>\n",
       "      <td>0.087176</td>\n",
       "      <td>0.087176</td>\n",
       "    </tr>\n",
       "    <tr>\n",
       "      <th>151</th>\n",
       "      <td>trap_T215</td>\n",
       "      <td>0.081565</td>\n",
       "      <td>0.081565</td>\n",
       "    </tr>\n",
       "    <tr>\n",
       "      <th>160</th>\n",
       "      <td>trap_T223</td>\n",
       "      <td>0.080268</td>\n",
       "      <td>0.080268</td>\n",
       "    </tr>\n",
       "    <tr>\n",
       "      <th>179</th>\n",
       "      <td>codesum_BR</td>\n",
       "      <td>0.078790</td>\n",
       "      <td>0.078790</td>\n",
       "    </tr>\n",
       "    <tr>\n",
       "      <th>18</th>\n",
       "      <td>TS</td>\n",
       "      <td>0.078533</td>\n",
       "      <td>0.078533</td>\n",
       "    </tr>\n",
       "    <tr>\n",
       "      <th>205</th>\n",
       "      <td>codesum_TSRA RA</td>\n",
       "      <td>0.076850</td>\n",
       "      <td>0.076850</td>\n",
       "    </tr>\n",
       "    <tr>\n",
       "      <th>192</th>\n",
       "      <td>codesum_TS BR</td>\n",
       "      <td>0.072940</td>\n",
       "      <td>0.072940</td>\n",
       "    </tr>\n",
       "    <tr>\n",
       "      <th>11</th>\n",
       "      <td>preciptotal_10</td>\n",
       "      <td>0.070125</td>\n",
       "      <td>0.070125</td>\n",
       "    </tr>\n",
       "    <tr>\n",
       "      <th>46</th>\n",
       "      <td>trap_T018</td>\n",
       "      <td>-0.070197</td>\n",
       "      <td>0.070197</td>\n",
       "    </tr>\n",
       "    <tr>\n",
       "      <th>127</th>\n",
       "      <td>trap_T145</td>\n",
       "      <td>-0.073410</td>\n",
       "      <td>0.073410</td>\n",
       "    </tr>\n",
       "    <tr>\n",
       "      <th>113</th>\n",
       "      <td>trap_T102</td>\n",
       "      <td>-0.073515</td>\n",
       "      <td>0.073515</td>\n",
       "    </tr>\n",
       "    <tr>\n",
       "      <th>201</th>\n",
       "      <td>codesum_TSRA</td>\n",
       "      <td>-0.075790</td>\n",
       "      <td>0.075790</td>\n",
       "    </tr>\n",
       "    <tr>\n",
       "      <th>61</th>\n",
       "      <td>trap_T043</td>\n",
       "      <td>-0.080835</td>\n",
       "      <td>0.080835</td>\n",
       "    </tr>\n",
       "    <tr>\n",
       "      <th>184</th>\n",
       "      <td>codesum_HZ</td>\n",
       "      <td>-0.087024</td>\n",
       "      <td>0.087024</td>\n",
       "    </tr>\n",
       "    <tr>\n",
       "      <th>64</th>\n",
       "      <td>trap_T046</td>\n",
       "      <td>-0.091452</td>\n",
       "      <td>0.091452</td>\n",
       "    </tr>\n",
       "    <tr>\n",
       "      <th>6</th>\n",
       "      <td>avgspeed</td>\n",
       "      <td>-0.099058</td>\n",
       "      <td>0.099058</td>\n",
       "    </tr>\n",
       "    <tr>\n",
       "      <th>45</th>\n",
       "      <td>trap_T017</td>\n",
       "      <td>-0.099293</td>\n",
       "      <td>0.099293</td>\n",
       "    </tr>\n",
       "    <tr>\n",
       "      <th>3</th>\n",
       "      <td>preciptotal</td>\n",
       "      <td>-0.104328</td>\n",
       "      <td>0.104328</td>\n",
       "    </tr>\n",
       "    <tr>\n",
       "      <th>186</th>\n",
       "      <td>codesum_RA BR</td>\n",
       "      <td>-0.160468</td>\n",
       "      <td>0.160468</td>\n",
       "    </tr>\n",
       "    <tr>\n",
       "      <th>1</th>\n",
       "      <td>longitude</td>\n",
       "      <td>-0.162471</td>\n",
       "      <td>0.162471</td>\n",
       "    </tr>\n",
       "    <tr>\n",
       "      <th>27</th>\n",
       "      <td>species_CULEX RESTUANS</td>\n",
       "      <td>-0.313937</td>\n",
       "      <td>0.313937</td>\n",
       "    </tr>\n",
       "  </tbody>\n",
       "</table>\n",
       "</div>"
      ],
      "text/plain": [
       "                   variable      coef  abs_coef\n",
       "176               trap_T900  0.283581  0.283581\n",
       "2                      tavg  0.239971  0.239971\n",
       "24              dayofweek_3  0.186805  0.186805\n",
       "117               trap_T115  0.157912  0.157912\n",
       "162               trap_T225  0.137210  0.137210\n",
       "180           codesum_BR HZ  0.136913  0.136913\n",
       "197   codesum_TS TSRA RA BR  0.135555  0.135555\n",
       "31                trap_T003  0.130406  0.130406\n",
       "196      codesum_TS TSRA RA  0.127048  0.127048\n",
       "185              codesum_RA  0.122896  0.122896\n",
       "22              dayofweek_1  0.114540  0.114540\n",
       "28                trap_T002  0.113727  0.113727\n",
       "41                trap_T013  0.106664  0.106664\n",
       "8             stnpressure_7  0.104702  0.104702\n",
       "93                trap_T082  0.102662  0.102662\n",
       "4               stnpressure  0.099050  0.099050\n",
       "100               trap_T090  0.090609  0.090609\n",
       "165               trap_T228  0.090482  0.090482\n",
       "23              dayofweek_2  0.089185  0.089185\n",
       "122               trap_T138  0.087176  0.087176\n",
       "151               trap_T215  0.081565  0.081565\n",
       "160               trap_T223  0.080268  0.080268\n",
       "179              codesum_BR  0.078790  0.078790\n",
       "18                       TS  0.078533  0.078533\n",
       "205         codesum_TSRA RA  0.076850  0.076850\n",
       "192           codesum_TS BR  0.072940  0.072940\n",
       "11           preciptotal_10  0.070125  0.070125\n",
       "46                trap_T018 -0.070197  0.070197\n",
       "127               trap_T145 -0.073410  0.073410\n",
       "113               trap_T102 -0.073515  0.073515\n",
       "201            codesum_TSRA -0.075790  0.075790\n",
       "61                trap_T043 -0.080835  0.080835\n",
       "184              codesum_HZ -0.087024  0.087024\n",
       "64                trap_T046 -0.091452  0.091452\n",
       "6                  avgspeed -0.099058  0.099058\n",
       "45                trap_T017 -0.099293  0.099293\n",
       "3               preciptotal -0.104328  0.104328\n",
       "186           codesum_RA BR -0.160468  0.160468\n",
       "1                 longitude -0.162471  0.162471\n",
       "27   species_CULEX RESTUANS -0.313937  0.313937"
      ]
     },
     "execution_count": 56,
     "metadata": {},
     "output_type": "execute_result"
    }
   ],
   "source": [
    "coefs.sort_values('abs_coef', inplace=True, ascending=False)\n",
    "coefs_top40 = coefs.head(40).sort_values('coef', inplace=False, ascending=False)\n",
    "coefs_top40"
   ]
  },
  {
   "cell_type": "code",
   "execution_count": 57,
   "id": "9ac429ec",
   "metadata": {},
   "outputs": [
    {
     "data": {
      "image/png": "[encoded data removed]",
      "text/plain": [
       "<Figure size 720x864 with 1 Axes>"
      ]
     },
     "metadata": {
      "needs_background": "light"
     },
     "output_type": "display_data"
    }
   ],
   "source": [
    "plt.figure(figsize=(10, 12))\n",
    "sns.barplot(data=coefs_top40, y=\"variable\", x='coef', orient='h', palette='coolwarm')\n",
    "plt.tight_layout()\n",
    "\n",
    "#plt.savefig(fname='./assets/final_model', dpi=300)"
   ]
  },
  {
   "cell_type": "code",
   "execution_count": 58,
   "id": "ebecdf23",
   "metadata": {},
   "outputs": [
    {
     "data": {
      "text/html": [
       "<div>\n",
       "<style scoped>\n",
       "    .dataframe tbody tr th:only-of-type {\n",
       "        vertical-align: middle;\n",
       "    }\n",
       "\n",
       "    .dataframe tbody tr th {\n",
       "        vertical-align: top;\n",
       "    }\n",
       "\n",
       "    .dataframe thead th {\n",
       "        text-align: right;\n",
       "    }\n",
       "</style>\n",
       "<table border=\"1\" class=\"dataframe\">\n",
       "  <thead>\n",
       "    <tr style=\"text-align: right;\">\n",
       "      <th></th>\n",
       "      <th>coef</th>\n",
       "    </tr>\n",
       "  </thead>\n",
       "  <tbody>\n",
       "    <tr>\n",
       "      <th>BCFG</th>\n",
       "      <td>0.0</td>\n",
       "    </tr>\n",
       "    <tr>\n",
       "      <th>trap_T002A</th>\n",
       "      <td>0.0</td>\n",
       "    </tr>\n",
       "    <tr>\n",
       "      <th>trap_T002B</th>\n",
       "      <td>0.0</td>\n",
       "    </tr>\n",
       "    <tr>\n",
       "      <th>trap_T065A</th>\n",
       "      <td>0.0</td>\n",
       "    </tr>\n",
       "    <tr>\n",
       "      <th>trap_T090A</th>\n",
       "      <td>0.0</td>\n",
       "    </tr>\n",
       "    <tr>\n",
       "      <th>trap_T090B</th>\n",
       "      <td>0.0</td>\n",
       "    </tr>\n",
       "    <tr>\n",
       "      <th>trap_T090C</th>\n",
       "      <td>0.0</td>\n",
       "    </tr>\n",
       "    <tr>\n",
       "      <th>trap_T128A</th>\n",
       "      <td>0.0</td>\n",
       "    </tr>\n",
       "    <tr>\n",
       "      <th>trap_T200A</th>\n",
       "      <td>0.0</td>\n",
       "    </tr>\n",
       "    <tr>\n",
       "      <th>trap_T200B</th>\n",
       "      <td>0.0</td>\n",
       "    </tr>\n",
       "    <tr>\n",
       "      <th>trap_T218A</th>\n",
       "      <td>0.0</td>\n",
       "    </tr>\n",
       "    <tr>\n",
       "      <th>trap_T218B</th>\n",
       "      <td>0.0</td>\n",
       "    </tr>\n",
       "    <tr>\n",
       "      <th>trap_T218C</th>\n",
       "      <td>0.0</td>\n",
       "    </tr>\n",
       "    <tr>\n",
       "      <th>trap_T234</th>\n",
       "      <td>0.0</td>\n",
       "    </tr>\n",
       "    <tr>\n",
       "      <th>codesum_BCFG BR</th>\n",
       "      <td>0.0</td>\n",
       "    </tr>\n",
       "    <tr>\n",
       "      <th>codesum_DZ</th>\n",
       "      <td>0.0</td>\n",
       "    </tr>\n",
       "    <tr>\n",
       "      <th>codesum_RA DZ</th>\n",
       "      <td>0.0</td>\n",
       "    </tr>\n",
       "    <tr>\n",
       "      <th>codesum_TSRA FG+ BR HZ</th>\n",
       "      <td>0.0</td>\n",
       "    </tr>\n",
       "    <tr>\n",
       "      <th>codesum_TSRA RA BR HZ</th>\n",
       "      <td>0.0</td>\n",
       "    </tr>\n",
       "    <tr>\n",
       "      <th>codesum_TSRA RA BR HZ VCTS</th>\n",
       "      <td>0.0</td>\n",
       "    </tr>\n",
       "    <tr>\n",
       "      <th>codesum_TSRA RA VCTS</th>\n",
       "      <td>0.0</td>\n",
       "    </tr>\n",
       "  </tbody>\n",
       "</table>\n",
       "</div>"
      ],
      "text/plain": [
       "                            coef\n",
       "BCFG                         0.0\n",
       "trap_T002A                   0.0\n",
       "trap_T002B                   0.0\n",
       "trap_T065A                   0.0\n",
       "trap_T090A                   0.0\n",
       "trap_T090B                   0.0\n",
       "trap_T090C                   0.0\n",
       "trap_T128A                   0.0\n",
       "trap_T200A                   0.0\n",
       "trap_T200B                   0.0\n",
       "trap_T218A                   0.0\n",
       "trap_T218B                   0.0\n",
       "trap_T218C                   0.0\n",
       "trap_T234                    0.0\n",
       "codesum_BCFG BR              0.0\n",
       "codesum_DZ                   0.0\n",
       "codesum_RA DZ                0.0\n",
       "codesum_TSRA FG+ BR HZ       0.0\n",
       "codesum_TSRA RA BR HZ        0.0\n",
       "codesum_TSRA RA BR HZ VCTS   0.0\n",
       "codesum_TSRA RA VCTS         0.0"
      ]
     },
     "execution_count": 58,
     "metadata": {},
     "output_type": "execute_result"
    }
   ],
   "source": [
    "log_reg_regularisation_coef_0 = log_reg_regularisation_coef.loc[log_reg_regularisation_coef['coef'] == 0, :]\n",
    "log_reg_regularisation_coef_0 "
   ]
  },
  {
   "cell_type": "code",
   "execution_count": 59,
   "id": "af79c513",
   "metadata": {},
   "outputs": [
    {
     "name": "stderr",
     "output_type": "stream",
     "text": [
      "C:\\Users\\deang\\anaconda3\\envs\\dsi27tf\\lib\\site-packages\\sklearn\\utils\\deprecation.py:87: FutureWarning: Function plot_confusion_matrix is deprecated; Function `plot_confusion_matrix` is deprecated in 1.0 and will be removed in 1.2. Use one of the class methods: ConfusionMatrixDisplay.from_predictions or ConfusionMatrixDisplay.from_estimator.\n",
      "  warnings.warn(msg, category=FutureWarning)\n"
     ]
    },
    {
     "data": {
      "image/png": "[encoded data removed]",
      "text/plain": [
       "<Figure size 432x288 with 2 Axes>"
      ]
     },
     "metadata": {
      "needs_background": "light"
     },
     "output_type": "display_data"
    }
   ],
   "source": [
    "model_metrics_logreg(log_reg_regularisation, Xsm_train, ysm_train, Xs_holdout, y_holdout,'Logistic Regression, No Yrs/Wks, Regularised (Ridge)')"
   ]
  },
  {
   "cell_type": "code",
   "execution_count": 60,
   "id": "a7277fdc",
   "metadata": {},
   "outputs": [
    {
     "data": {
      "text/html": [
       "<div>\n",
       "<style scoped>\n",
       "    .dataframe tbody tr th:only-of-type {\n",
       "        vertical-align: middle;\n",
       "    }\n",
       "\n",
       "    .dataframe tbody tr th {\n",
       "        vertical-align: top;\n",
       "    }\n",
       "\n",
       "    .dataframe thead th {\n",
       "        text-align: right;\n",
       "    }\n",
       "</style>\n",
       "<table border=\"1\" class=\"dataframe\">\n",
       "  <thead>\n",
       "    <tr style=\"text-align: right;\">\n",
       "      <th></th>\n",
       "      <th>model</th>\n",
       "      <th>best_score</th>\n",
       "      <th>train_score</th>\n",
       "      <th>holdout_score</th>\n",
       "      <th>sensitivity</th>\n",
       "      <th>specificity</th>\n",
       "      <th>precision</th>\n",
       "      <th>f1_score</th>\n",
       "      <th>best_params</th>\n",
       "    </tr>\n",
       "  </thead>\n",
       "  <tbody>\n",
       "    <tr>\n",
       "      <th>0</th>\n",
       "      <td>Logistic Regression no SMOTE</td>\n",
       "      <td></td>\n",
       "      <td>0.945</td>\n",
       "      <td>0.944</td>\n",
       "      <td>0.096</td>\n",
       "      <td>0.993</td>\n",
       "      <td>0.440</td>\n",
       "      <td>0.158</td>\n",
       "      <td></td>\n",
       "    </tr>\n",
       "    <tr>\n",
       "      <th>1</th>\n",
       "      <td>Logistic Regression with SMOTE</td>\n",
       "      <td></td>\n",
       "      <td>0.863</td>\n",
       "      <td>0.798</td>\n",
       "      <td>0.640</td>\n",
       "      <td>0.807</td>\n",
       "      <td>0.162</td>\n",
       "      <td>0.258</td>\n",
       "      <td></td>\n",
       "    </tr>\n",
       "    <tr>\n",
       "      <th>2</th>\n",
       "      <td>Logistic Regression with no Years and Weeks</td>\n",
       "      <td></td>\n",
       "      <td>0.829</td>\n",
       "      <td>0.760</td>\n",
       "      <td>0.605</td>\n",
       "      <td>0.769</td>\n",
       "      <td>0.132</td>\n",
       "      <td>0.217</td>\n",
       "      <td></td>\n",
       "    </tr>\n",
       "    <tr>\n",
       "      <th>3</th>\n",
       "      <td>Logistic Regression, No Yrs/Wks, Regularised (...</td>\n",
       "      <td></td>\n",
       "      <td>0.810</td>\n",
       "      <td>0.707</td>\n",
       "      <td>0.684</td>\n",
       "      <td>0.708</td>\n",
       "      <td>0.120</td>\n",
       "      <td>0.204</td>\n",
       "      <td></td>\n",
       "    </tr>\n",
       "  </tbody>\n",
       "</table>\n",
       "</div>"
      ],
      "text/plain": [
       "                                               model best_score  train_score  \\\n",
       "0                       Logistic Regression no SMOTE                   0.945   \n",
       "1                     Logistic Regression with SMOTE                   0.863   \n",
       "2        Logistic Regression with no Years and Weeks                   0.829   \n",
       "3  Logistic Regression, No Yrs/Wks, Regularised (...                   0.810   \n",
       "\n",
       "   holdout_score  sensitivity  specificity  precision  f1_score best_params  \n",
       "0          0.944        0.096        0.993      0.440     0.158              \n",
       "1          0.798        0.640        0.807      0.162     0.258              \n",
       "2          0.760        0.605        0.769      0.132     0.217              \n",
       "3          0.707        0.684        0.708      0.120     0.204              "
      ]
     },
     "execution_count": 60,
     "metadata": {},
     "output_type": "execute_result"
    }
   ],
   "source": [
    "summary_df"
   ]
  },
  {
   "cell_type": "markdown",
   "id": "2e1efe1d",
   "metadata": {},
   "source": [
    "### Random Forest"
   ]
  },
  {
   "cell_type": "code",
   "execution_count": 61,
   "id": "f8eeb923",
   "metadata": {},
   "outputs": [],
   "source": [
    "rf = RandomForestClassifier(n_estimators=100)"
   ]
  },
  {
   "cell_type": "code",
   "execution_count": 62,
   "id": "d30ddfdb",
   "metadata": {},
   "outputs": [],
   "source": [
    "rf_params1 = {\n",
    "    'n_estimators': [150],\n",
    "    'max_depth': [9],\n",
    "    'max_features': [0.5],\n",
    "    'min_samples_split': [10],\n",
    "    'min_samples_leaf': [1],\n",
    "    'ccp_alpha': [0],\n",
    "}"
   ]
  },
  {
   "cell_type": "markdown",
   "id": "36f258d6",
   "metadata": {},
   "source": [
    "Grid Search\n",
    "\n",
    "`rf_params1 = {\n",
    "    'n_estimators': [150],\n",
    "    'max_depth': [7, 9,'none'],\n",
    "    'max_features': [0.4,0.5, 0.6],\n",
    "    'min_samples_split': [10],\n",
    "    'min_samples_leaf': [1,2,3],\n",
    "    'ccp_alpha': [0],\n",
    "}`\n",
    "\n",
    "Best Params\n",
    "\n",
    "`{'ccp_alpha': 0,\n",
    " 'max_depth': 9,\n",
    " 'max_features': 0.5,\n",
    " 'min_samples_leaf': 1,\n",
    " 'min_samples_split': 10,\n",
    " 'n_estimators': 150}`\n"
   ]
  },
  {
   "cell_type": "code",
   "execution_count": 63,
   "id": "5f224e81",
   "metadata": {},
   "outputs": [],
   "source": [
    "gs_rf_1 = GridSearchCV(rf, param_grid=rf_params1, cv=5, n_jobs = -1)"
   ]
  },
  {
   "cell_type": "code",
   "execution_count": 64,
   "id": "47d787ca",
   "metadata": {},
   "outputs": [
    {
     "data": {
      "text/plain": [
       "GridSearchCV(cv=5, estimator=RandomForestClassifier(), n_jobs=-1,\n",
       "             param_grid={'ccp_alpha': [0], 'max_depth': [9],\n",
       "                         'max_features': [0.5], 'min_samples_leaf': [1],\n",
       "                         'min_samples_split': [10], 'n_estimators': [150]})"
      ]
     },
     "execution_count": 64,
     "metadata": {},
     "output_type": "execute_result"
    }
   ],
   "source": [
    "gs_rf_1.fit(Xsm_train, ysm_train)"
   ]
  },
  {
   "cell_type": "code",
   "execution_count": 65,
   "id": "18bcf709",
   "metadata": {},
   "outputs": [
    {
     "name": "stdout",
     "output_type": "stream",
     "text": [
      "0.9363636363636363\n"
     ]
    },
    {
     "data": {
      "text/plain": [
       "{'ccp_alpha': 0,\n",
       " 'max_depth': 9,\n",
       " 'max_features': 0.5,\n",
       " 'min_samples_leaf': 1,\n",
       " 'min_samples_split': 10,\n",
       " 'n_estimators': 150}"
      ]
     },
     "execution_count": 65,
     "metadata": {},
     "output_type": "execute_result"
    }
   ],
   "source": [
    "print(gs_rf_1.best_score_)\n",
    "gs_rf_1.best_params_"
   ]
  },
  {
   "cell_type": "code",
   "execution_count": 66,
   "id": "ef9281ac",
   "metadata": {},
   "outputs": [
    {
     "name": "stderr",
     "output_type": "stream",
     "text": [
      "C:\\Users\\deang\\anaconda3\\envs\\dsi27tf\\lib\\site-packages\\sklearn\\utils\\deprecation.py:87: FutureWarning: Function plot_confusion_matrix is deprecated; Function `plot_confusion_matrix` is deprecated in 1.0 and will be removed in 1.2. Use one of the class methods: ConfusionMatrixDisplay.from_predictions or ConfusionMatrixDisplay.from_estimator.\n",
      "  warnings.warn(msg, category=FutureWarning)\n"
     ]
    },
    {
     "data": {
      "image/png": "[encoded data removed]",
      "text/plain": [
       "<Figure size 432x288 with 2 Axes>"
      ]
     },
     "metadata": {
      "needs_background": "light"
     },
     "output_type": "display_data"
    }
   ],
   "source": [
    "model_metrics(gs_rf_1, Xsm_train, ysm_train, Xs_holdout, y_holdout, 'Random Forest')"
   ]
  },
  {
   "cell_type": "markdown",
   "id": "6eda4dcc",
   "metadata": {},
   "source": [
    "### Extra Trees"
   ]
  },
  {
   "cell_type": "code",
   "execution_count": 67,
   "id": "1c5d3688",
   "metadata": {},
   "outputs": [],
   "source": [
    "et = ExtraTreesClassifier(random_state=42)\n",
    "et_params = {'n_estimators': [35],\n",
    "             'max_depth': [50],\n",
    "             'min_samples_leaf': [2],\n",
    "            }"
   ]
  },
  {
   "cell_type": "markdown",
   "id": "9fca4ecc",
   "metadata": {},
   "source": [
    "Grid Search\n",
    "\n",
    "`et_params = {'n_estimators': [20, 25, 30, 35],\n",
    "             'max_depth': [20, 30, 40, 50],\n",
    "             'min_samples_leaf': [2, 3, 4],\n",
    "            }`\n",
    "            \n",
    "Best Params\n",
    "\n",
    "`{'max_depth': 50, 'min_samples_leaf': 2, 'n_estimators': 35}`"
   ]
  },
  {
   "cell_type": "code",
   "execution_count": 68,
   "id": "c944ba7a",
   "metadata": {},
   "outputs": [],
   "source": [
    "et_gs = GridSearchCV(et, \n",
    "                  param_grid=et_params, \n",
    "                  cv=5\n",
    "                 )"
   ]
  },
  {
   "cell_type": "code",
   "execution_count": 69,
   "id": "44d44316",
   "metadata": {},
   "outputs": [
    {
     "data": {
      "text/plain": [
       "0.9104046242774566"
      ]
     },
     "execution_count": 69,
     "metadata": {},
     "output_type": "execute_result"
    }
   ],
   "source": [
    "et_gs.fit(Xsm_train, ysm_train);\n",
    "et_gs.score(Xs_holdout, y_holdout)"
   ]
  },
  {
   "cell_type": "code",
   "execution_count": 70,
   "id": "505f54c1",
   "metadata": {},
   "outputs": [
    {
     "data": {
      "text/plain": [
       "ExtraTreesClassifier(max_depth=50, min_samples_leaf=2, n_estimators=35,\n",
       "                     random_state=42)"
      ]
     },
     "execution_count": 70,
     "metadata": {},
     "output_type": "execute_result"
    }
   ],
   "source": [
    "et_gs.best_estimator_"
   ]
  },
  {
   "cell_type": "code",
   "execution_count": 71,
   "id": "cb36d9e0",
   "metadata": {},
   "outputs": [
    {
     "data": {
      "text/plain": [
       "{'max_depth': 50, 'min_samples_leaf': 2, 'n_estimators': 35}"
      ]
     },
     "execution_count": 71,
     "metadata": {},
     "output_type": "execute_result"
    }
   ],
   "source": [
    "et_gs.best_params_"
   ]
  },
  {
   "cell_type": "code",
   "execution_count": 72,
   "id": "994cad7c",
   "metadata": {},
   "outputs": [
    {
     "name": "stderr",
     "output_type": "stream",
     "text": [
      "C:\\Users\\deang\\anaconda3\\envs\\dsi27tf\\lib\\site-packages\\sklearn\\utils\\deprecation.py:87: FutureWarning: Function plot_confusion_matrix is deprecated; Function `plot_confusion_matrix` is deprecated in 1.0 and will be removed in 1.2. Use one of the class methods: ConfusionMatrixDisplay.from_predictions or ConfusionMatrixDisplay.from_estimator.\n",
      "  warnings.warn(msg, category=FutureWarning)\n"
     ]
    },
    {
     "data": {
      "image/png": "[encoded data removed]",
      "text/plain": [
       "<Figure size 432x288 with 2 Axes>"
      ]
     },
     "metadata": {
      "needs_background": "light"
     },
     "output_type": "display_data"
    }
   ],
   "source": [
    "model_metrics(et_gs, Xsm_train, ysm_train, Xs_holdout, y_holdout, 'ExtraTrees')"
   ]
  },
  {
   "cell_type": "markdown",
   "id": "922fc869",
   "metadata": {},
   "source": [
    "### SVM"
   ]
  },
  {
   "cell_type": "code",
   "execution_count": 73,
   "id": "938c8c5d",
   "metadata": {},
   "outputs": [],
   "source": [
    "# C values to GridSearch over\n",
    "svc_params = {\n",
    "        'C': [30],\n",
    "        'gamma':[0.01], \n",
    "        'kernel' : ['rbf'],\n",
    "        'probability': [True]\n",
    "        }"
   ]
  },
  {
   "cell_type": "markdown",
   "id": "5038064e",
   "metadata": {},
   "source": [
    "Grid Search\n",
    "\n",
    "`svc_params = {\n",
    "        'C': [10, 20, 30],\n",
    "        'gamma':[0.01, 0.1], \n",
    "        'kernel' : ['rbf', 'sigmoid'],\n",
    "        'probability': [True]\n",
    "        }`\n",
    "\n",
    "Best Params\n",
    "\n",
    "`{'C': 30, 'gamma': 0.01, 'kernel': 'rbf', 'probability': True}`"
   ]
  },
  {
   "cell_type": "code",
   "execution_count": 74,
   "id": "e3ab1414",
   "metadata": {},
   "outputs": [
    {
     "name": "stdout",
     "output_type": "stream",
     "text": [
      "[LibSVM][LibSVM][LibSVM][LibSVM][LibSVM][LibSVM]"
     ]
    },
    {
     "data": {
      "text/plain": [
       "0.8988439306358381"
      ]
     },
     "execution_count": 74,
     "metadata": {},
     "output_type": "execute_result"
    }
   ],
   "source": [
    "# Instantiate and fit a gridsearch model\n",
    "svc = SVC(max_iter=20000,\n",
    "         verbose= 1)\n",
    "\n",
    "cv = StratifiedKFold(n_splits=5, shuffle=True, random_state=42)\n",
    "\n",
    "scv_gs = GridSearchCV(svc, svc_params, cv=cv)\n",
    "scv_gs.fit(Xsm_train, ysm_train);\n",
    "scv_gs.score(Xs_holdout, y_holdout)\n"
   ]
  },
  {
   "cell_type": "code",
   "execution_count": 75,
   "id": "3343f55c",
   "metadata": {},
   "outputs": [
    {
     "data": {
      "text/plain": [
       "SVC(C=30, gamma=0.01, max_iter=20000, probability=True, verbose=1)"
      ]
     },
     "execution_count": 75,
     "metadata": {},
     "output_type": "execute_result"
    }
   ],
   "source": [
    "scv_gs.best_estimator_"
   ]
  },
  {
   "cell_type": "code",
   "execution_count": 76,
   "id": "f80da36f",
   "metadata": {},
   "outputs": [
    {
     "data": {
      "text/plain": [
       "{'C': 30, 'gamma': 0.01, 'kernel': 'rbf', 'probability': True}"
      ]
     },
     "execution_count": 76,
     "metadata": {},
     "output_type": "execute_result"
    }
   ],
   "source": [
    "scv_gs.best_params_"
   ]
  },
  {
   "cell_type": "code",
   "execution_count": 77,
   "id": "367222db",
   "metadata": {},
   "outputs": [
    {
     "name": "stderr",
     "output_type": "stream",
     "text": [
      "C:\\Users\\deang\\anaconda3\\envs\\dsi27tf\\lib\\site-packages\\sklearn\\utils\\deprecation.py:87: FutureWarning: Function plot_confusion_matrix is deprecated; Function `plot_confusion_matrix` is deprecated in 1.0 and will be removed in 1.2. Use one of the class methods: ConfusionMatrixDisplay.from_predictions or ConfusionMatrixDisplay.from_estimator.\n",
      "  warnings.warn(msg, category=FutureWarning)\n"
     ]
    },
    {
     "data": {
      "image/png": "[encoded data removed]",
      "text/plain": [
       "<Figure size 432x288 with 2 Axes>"
      ]
     },
     "metadata": {
      "needs_background": "light"
     },
     "output_type": "display_data"
    }
   ],
   "source": [
    "model_metrics(scv_gs, Xsm_train, ysm_train, Xs_holdout, y_holdout, 'SVM')"
   ]
  },
  {
   "cell_type": "markdown",
   "id": "0c20b0a4",
   "metadata": {},
   "source": [
    "### AdaBoostClassifier"
   ]
  },
  {
   "cell_type": "code",
   "execution_count": 78,
   "id": "b46b4c1e",
   "metadata": {},
   "outputs": [
    {
     "data": {
      "text/plain": [
       "0.9094412331406551"
      ]
     },
     "execution_count": 78,
     "metadata": {},
     "output_type": "execute_result"
    }
   ],
   "source": [
    "ada = AdaBoostClassifier(\n",
    "    n_estimators = 100,\n",
    "    learning_rate = 0.9\n",
    "    # in general, if n_estimators is high, then learning_rate should be low\n",
    "    # but we can use GridSearchCV\n",
    ")\n",
    "ada.fit(Xsm_train, ysm_train)\n",
    "ada.score(Xs_holdout, y_holdout)"
   ]
  },
  {
   "cell_type": "code",
   "execution_count": 79,
   "id": "efaf83be",
   "metadata": {},
   "outputs": [
    {
     "data": {
      "text/plain": [
       "0.928709055876686"
      ]
     },
     "execution_count": 79,
     "metadata": {},
     "output_type": "execute_result"
    }
   ],
   "source": [
    "ada = AdaBoostClassifier(base_estimator=DecisionTreeClassifier())\n",
    "ada_params = {\n",
    "    'n_estimators': [150],\n",
    "    'base_estimator__max_depth': [2],\n",
    "    'learning_rate': [.8]\n",
    "    # you can also tune by all hyperparameters of DecisionTree\n",
    "}\n",
    "ada_gs = GridSearchCV(\n",
    "    ada, \n",
    "    param_grid=ada_params, \n",
    "    cv=5\n",
    ")\n",
    "ada_gs.fit(Xsm_train, ysm_train)\n",
    "ada_gs.score(Xs_holdout, y_holdout)"
   ]
  },
  {
   "cell_type": "markdown",
   "id": "2effa66d",
   "metadata": {},
   "source": [
    "Grid Search\n",
    "\n",
    "`ada_params = {\n",
    "    'n_estimators': [50, 100, 150],\n",
    "    'base_estimator__max_depth': [1,2],\n",
    "    'learning_rate': [.8, .9, 1.]\n",
    "}`\n",
    "\n",
    "Best Params\n",
    "\n",
    "`{'base_estimator__max_depth': 2, 'learning_rate': 0.8, 'n_estimators': 150}`"
   ]
  },
  {
   "cell_type": "code",
   "execution_count": 80,
   "id": "9ff7b615",
   "metadata": {},
   "outputs": [],
   "source": [
    "tn, fp, fn, tp = confusion_matrix(y_holdout, ada_gs.predict(Xs_holdout)).ravel()"
   ]
  },
  {
   "cell_type": "code",
   "execution_count": 81,
   "id": "10c948a6",
   "metadata": {},
   "outputs": [
    {
     "data": {
      "text/plain": [
       "0.20175438596491227"
      ]
     },
     "execution_count": 81,
     "metadata": {},
     "output_type": "execute_result"
    }
   ],
   "source": [
    "sensitivity = tp / (tp + fn)\n",
    "sensitivity"
   ]
  },
  {
   "cell_type": "code",
   "execution_count": 82,
   "id": "94fee458",
   "metadata": {},
   "outputs": [
    {
     "data": {
      "text/plain": [
       "0.2875"
      ]
     },
     "execution_count": 82,
     "metadata": {},
     "output_type": "execute_result"
    }
   ],
   "source": [
    "precision = tp / (tp + fp)\n",
    "precision"
   ]
  },
  {
   "cell_type": "code",
   "execution_count": 83,
   "id": "031c15ec",
   "metadata": {},
   "outputs": [
    {
     "name": "stderr",
     "output_type": "stream",
     "text": [
      "C:\\Users\\deang\\anaconda3\\envs\\dsi27tf\\lib\\site-packages\\sklearn\\utils\\deprecation.py:87: FutureWarning: Function plot_confusion_matrix is deprecated; Function `plot_confusion_matrix` is deprecated in 1.0 and will be removed in 1.2. Use one of the class methods: ConfusionMatrixDisplay.from_predictions or ConfusionMatrixDisplay.from_estimator.\n",
      "  warnings.warn(msg, category=FutureWarning)\n"
     ]
    },
    {
     "data": {
      "image/png": "[encoded data removed]",
      "text/plain": [
       "<Figure size 432x288 with 2 Axes>"
      ]
     },
     "metadata": {
      "needs_background": "light"
     },
     "output_type": "display_data"
    }
   ],
   "source": [
    "model_metrics(ada_gs, Xsm_train, ysm_train, Xs_holdout, y_holdout, 'ADA Boost Classifier')"
   ]
  },
  {
   "cell_type": "code",
   "execution_count": 84,
   "id": "1581f852",
   "metadata": {},
   "outputs": [
    {
     "data": {
      "text/html": [
       "<div>\n",
       "<style scoped>\n",
       "    .dataframe tbody tr th:only-of-type {\n",
       "        vertical-align: middle;\n",
       "    }\n",
       "\n",
       "    .dataframe tbody tr th {\n",
       "        vertical-align: top;\n",
       "    }\n",
       "\n",
       "    .dataframe thead th {\n",
       "        text-align: right;\n",
       "    }\n",
       "</style>\n",
       "<table border=\"1\" class=\"dataframe\">\n",
       "  <thead>\n",
       "    <tr style=\"text-align: right;\">\n",
       "      <th></th>\n",
       "      <th>model</th>\n",
       "      <th>best_score</th>\n",
       "      <th>train_score</th>\n",
       "      <th>holdout_score</th>\n",
       "      <th>sensitivity</th>\n",
       "      <th>specificity</th>\n",
       "      <th>precision</th>\n",
       "      <th>f1_score</th>\n",
       "      <th>best_params</th>\n",
       "    </tr>\n",
       "  </thead>\n",
       "  <tbody>\n",
       "    <tr>\n",
       "      <th>0</th>\n",
       "      <td>Logistic Regression no SMOTE</td>\n",
       "      <td></td>\n",
       "      <td>0.945</td>\n",
       "      <td>0.944</td>\n",
       "      <td>0.096</td>\n",
       "      <td>0.993</td>\n",
       "      <td>0.440</td>\n",
       "      <td>0.158</td>\n",
       "      <td></td>\n",
       "    </tr>\n",
       "    <tr>\n",
       "      <th>1</th>\n",
       "      <td>Logistic Regression with SMOTE</td>\n",
       "      <td></td>\n",
       "      <td>0.863</td>\n",
       "      <td>0.798</td>\n",
       "      <td>0.640</td>\n",
       "      <td>0.807</td>\n",
       "      <td>0.162</td>\n",
       "      <td>0.258</td>\n",
       "      <td></td>\n",
       "    </tr>\n",
       "    <tr>\n",
       "      <th>2</th>\n",
       "      <td>Logistic Regression with no Years and Weeks</td>\n",
       "      <td></td>\n",
       "      <td>0.829</td>\n",
       "      <td>0.760</td>\n",
       "      <td>0.605</td>\n",
       "      <td>0.769</td>\n",
       "      <td>0.132</td>\n",
       "      <td>0.217</td>\n",
       "      <td></td>\n",
       "    </tr>\n",
       "    <tr>\n",
       "      <th>3</th>\n",
       "      <td>Logistic Regression, No Yrs/Wks, Regularised (...</td>\n",
       "      <td></td>\n",
       "      <td>0.810</td>\n",
       "      <td>0.707</td>\n",
       "      <td>0.684</td>\n",
       "      <td>0.708</td>\n",
       "      <td>0.120</td>\n",
       "      <td>0.204</td>\n",
       "      <td></td>\n",
       "    </tr>\n",
       "    <tr>\n",
       "      <th>4</th>\n",
       "      <td>Random Forest</td>\n",
       "      <td>0.936</td>\n",
       "      <td>0.992</td>\n",
       "      <td>0.791</td>\n",
       "      <td>0.272</td>\n",
       "      <td>0.960</td>\n",
       "      <td>0.284</td>\n",
       "      <td>0.278</td>\n",
       "      <td>{'ccp_alpha': 0, 'max_depth': 9, 'max_features...</td>\n",
       "    </tr>\n",
       "    <tr>\n",
       "      <th>5</th>\n",
       "      <td>ExtraTrees</td>\n",
       "      <td>0.953</td>\n",
       "      <td>0.996</td>\n",
       "      <td>0.826</td>\n",
       "      <td>0.316</td>\n",
       "      <td>0.945</td>\n",
       "      <td>0.250</td>\n",
       "      <td>0.279</td>\n",
       "      <td>{'max_depth': 50, 'min_samples_leaf': 2, 'n_es...</td>\n",
       "    </tr>\n",
       "    <tr>\n",
       "      <th>6</th>\n",
       "      <td>SVM</td>\n",
       "      <td>0.961</td>\n",
       "      <td>0.998</td>\n",
       "      <td>0.704</td>\n",
       "      <td>0.237</td>\n",
       "      <td>0.937</td>\n",
       "      <td>0.180</td>\n",
       "      <td>0.205</td>\n",
       "      <td>{'C': 30, 'gamma': 0.01, 'kernel': 'rbf', 'pro...</td>\n",
       "    </tr>\n",
       "    <tr>\n",
       "      <th>7</th>\n",
       "      <td>ADA Boost Classifier</td>\n",
       "      <td>0.952</td>\n",
       "      <td>0.997</td>\n",
       "      <td>0.766</td>\n",
       "      <td>0.202</td>\n",
       "      <td>0.971</td>\n",
       "      <td>0.288</td>\n",
       "      <td>0.237</td>\n",
       "      <td>{'base_estimator__max_depth': 2, 'learning_rat...</td>\n",
       "    </tr>\n",
       "  </tbody>\n",
       "</table>\n",
       "</div>"
      ],
      "text/plain": [
       "                                               model best_score  train_score  \\\n",
       "0                       Logistic Regression no SMOTE                   0.945   \n",
       "1                     Logistic Regression with SMOTE                   0.863   \n",
       "2        Logistic Regression with no Years and Weeks                   0.829   \n",
       "3  Logistic Regression, No Yrs/Wks, Regularised (...                   0.810   \n",
       "4                                      Random Forest      0.936        0.992   \n",
       "5                                         ExtraTrees      0.953        0.996   \n",
       "6                                                SVM      0.961        0.998   \n",
       "7                               ADA Boost Classifier      0.952        0.997   \n",
       "\n",
       "   holdout_score  sensitivity  specificity  precision  f1_score  \\\n",
       "0          0.944        0.096        0.993      0.440     0.158   \n",
       "1          0.798        0.640        0.807      0.162     0.258   \n",
       "2          0.760        0.605        0.769      0.132     0.217   \n",
       "3          0.707        0.684        0.708      0.120     0.204   \n",
       "4          0.791        0.272        0.960      0.284     0.278   \n",
       "5          0.826        0.316        0.945      0.250     0.279   \n",
       "6          0.704        0.237        0.937      0.180     0.205   \n",
       "7          0.766        0.202        0.971      0.288     0.237   \n",
       "\n",
       "                                         best_params  \n",
       "0                                                     \n",
       "1                                                     \n",
       "2                                                     \n",
       "3                                                     \n",
       "4  {'ccp_alpha': 0, 'max_depth': 9, 'max_features...  \n",
       "5  {'max_depth': 50, 'min_samples_leaf': 2, 'n_es...  \n",
       "6  {'C': 30, 'gamma': 0.01, 'kernel': 'rbf', 'pro...  \n",
       "7  {'base_estimator__max_depth': 2, 'learning_rat...  "
      ]
     },
     "execution_count": 84,
     "metadata": {},
     "output_type": "execute_result"
    }
   ],
   "source": [
    "summary_df"
   ]
  },
  {
   "cell_type": "code",
   "execution_count": 85,
   "id": "e30410c9",
   "metadata": {},
   "outputs": [
    {
     "name": "stdout",
     "output_type": "stream",
     "text": [
      "0.9523364485981309\n"
     ]
    },
    {
     "data": {
      "text/plain": [
       "{'base_estimator__max_depth': 2, 'learning_rate': 0.8, 'n_estimators': 150}"
      ]
     },
     "execution_count": 85,
     "metadata": {},
     "output_type": "execute_result"
    }
   ],
   "source": [
    "print(ada_gs.best_score_)\n",
    "ada_gs.best_params_"
   ]
  },
  {
   "cell_type": "code",
   "execution_count": 86,
   "id": "90a96584",
   "metadata": {},
   "outputs": [
    {
     "data": {
      "text/plain": [
       "<AxesSubplot:>"
      ]
     },
     "execution_count": 86,
     "metadata": {},
     "output_type": "execute_result"
    },
    {
     "data": {
      "image/png": "[encoded data removed]",
      "text/plain": [
       "<Figure size 432x288 with 1 Axes>"
      ]
     },
     "metadata": {
      "needs_background": "light"
     },
     "output_type": "display_data"
    }
   ],
   "source": [
    "pd.Series(ada_gs.best_estimator_.feature_importances_).plot.bar()"
   ]
  },
  {
   "cell_type": "markdown",
   "id": "ee9779eb",
   "metadata": {},
   "source": [
    "### Gradient Boosting Classifier"
   ]
  },
  {
   "cell_type": "code",
   "execution_count": 87,
   "id": "cdd856eb",
   "metadata": {},
   "outputs": [
    {
     "data": {
      "text/plain": [
       "0.9383429672447013"
      ]
     },
     "execution_count": 87,
     "metadata": {},
     "output_type": "execute_result"
    }
   ],
   "source": [
    "gboost = GradientBoostingClassifier()\n",
    "gboost_params = {\n",
    "    'max_depth': [4],\n",
    "    'n_estimators': [150],\n",
    "    'learning_rate': [.12]\n",
    "}\n",
    "gb_gs = GridSearchCV(\n",
    "    gboost, \n",
    "    param_grid=gboost_params, \n",
    "    cv=3\n",
    ")\n",
    "gb_gs.fit(Xsm_train, ysm_train)\n",
    "gb_gs.score(Xs_holdout, y_holdout)"
   ]
  },
  {
   "cell_type": "markdown",
   "id": "1f1d1bfa",
   "metadata": {},
   "source": [
    "Grid Search\n",
    "\n",
    "`gboost_params = {\n",
    "    'max_depth': [2, 3, 4],\n",
    "    'n_estimators': [100, 125, 150],\n",
    "    'learning_rate': [.08, .1, .12]\n",
    "}`\n",
    "\n",
    "Best Params\n",
    "\n",
    "`{'learning_rate': 0.12, 'max_depth': 4, 'n_estimators': 150}`"
   ]
  },
  {
   "cell_type": "code",
   "execution_count": 88,
   "id": "80a3a5cc",
   "metadata": {},
   "outputs": [
    {
     "name": "stdout",
     "output_type": "stream",
     "text": [
      "0.955738542027471\n"
     ]
    },
    {
     "data": {
      "text/plain": [
       "{'learning_rate': 0.12, 'max_depth': 4, 'n_estimators': 150}"
      ]
     },
     "execution_count": 88,
     "metadata": {},
     "output_type": "execute_result"
    }
   ],
   "source": [
    "print(gb_gs.best_score_)\n",
    "gb_gs.best_params_"
   ]
  },
  {
   "cell_type": "code",
   "execution_count": 89,
   "id": "c124392b",
   "metadata": {},
   "outputs": [],
   "source": [
    "#0.955\t0.996\t0.853\t"
   ]
  },
  {
   "cell_type": "code",
   "execution_count": 90,
   "id": "be8c7f21",
   "metadata": {},
   "outputs": [],
   "source": [
    "tn, fp, fn, tp = confusion_matrix(y_holdout, gb_gs.predict(Xs_holdout)).ravel()"
   ]
  },
  {
   "cell_type": "code",
   "execution_count": 91,
   "id": "3d1c640a",
   "metadata": {},
   "outputs": [
    {
     "data": {
      "text/plain": [
       "0.19298245614035087"
      ]
     },
     "execution_count": 91,
     "metadata": {},
     "output_type": "execute_result"
    }
   ],
   "source": [
    "sensitivity = tp / (tp + fn)\n",
    "sensitivity"
   ]
  },
  {
   "cell_type": "code",
   "execution_count": 92,
   "id": "9e2ede87",
   "metadata": {},
   "outputs": [
    {
     "data": {
      "text/plain": [
       "0.981651376146789"
      ]
     },
     "execution_count": 92,
     "metadata": {},
     "output_type": "execute_result"
    }
   ],
   "source": [
    "specificity = tn / (tn + fp)\n",
    "specificity"
   ]
  },
  {
   "cell_type": "code",
   "execution_count": 93,
   "id": "324050d2",
   "metadata": {},
   "outputs": [
    {
     "data": {
      "text/plain": [
       "0.3793103448275862"
      ]
     },
     "execution_count": 93,
     "metadata": {},
     "output_type": "execute_result"
    }
   ],
   "source": [
    "precision = tp / (tp + fp)\n",
    "precision"
   ]
  },
  {
   "cell_type": "code",
   "execution_count": 94,
   "id": "bd98a1a8",
   "metadata": {},
   "outputs": [
    {
     "data": {
      "text/plain": [
       "array([[1926,   36],\n",
       "       [  92,   22]], dtype=int64)"
      ]
     },
     "execution_count": 94,
     "metadata": {},
     "output_type": "execute_result"
    }
   ],
   "source": [
    "confusion_matrix(y_holdout, gb_gs.predict(Xs_holdout))"
   ]
  },
  {
   "cell_type": "code",
   "execution_count": 95,
   "id": "e2cfe9b5",
   "metadata": {},
   "outputs": [
    {
     "name": "stderr",
     "output_type": "stream",
     "text": [
      "C:\\Users\\deang\\anaconda3\\envs\\dsi27tf\\lib\\site-packages\\sklearn\\utils\\deprecation.py:87: FutureWarning: Function plot_confusion_matrix is deprecated; Function `plot_confusion_matrix` is deprecated in 1.0 and will be removed in 1.2. Use one of the class methods: ConfusionMatrixDisplay.from_predictions or ConfusionMatrixDisplay.from_estimator.\n",
      "  warnings.warn(msg, category=FutureWarning)\n"
     ]
    },
    {
     "data": {
      "image/png": "[encoded data removed]",
      "text/plain": [
       "<Figure size 432x288 with 2 Axes>"
      ]
     },
     "metadata": {
      "needs_background": "light"
     },
     "output_type": "display_data"
    }
   ],
   "source": [
    "model_metrics(gb_gs, Xsm_train, ysm_train, Xs_holdout, y_holdout, 'Gradient Boosting Classifier')"
   ]
  },
  {
   "cell_type": "code",
   "execution_count": 96,
   "id": "c281d0ac",
   "metadata": {},
   "outputs": [
    {
     "data": {
      "text/html": [
       "<div>\n",
       "<style scoped>\n",
       "    .dataframe tbody tr th:only-of-type {\n",
       "        vertical-align: middle;\n",
       "    }\n",
       "\n",
       "    .dataframe tbody tr th {\n",
       "        vertical-align: top;\n",
       "    }\n",
       "\n",
       "    .dataframe thead th {\n",
       "        text-align: right;\n",
       "    }\n",
       "</style>\n",
       "<table border=\"1\" class=\"dataframe\">\n",
       "  <thead>\n",
       "    <tr style=\"text-align: right;\">\n",
       "      <th></th>\n",
       "      <th>model</th>\n",
       "      <th>best_score</th>\n",
       "      <th>train_score</th>\n",
       "      <th>holdout_score</th>\n",
       "      <th>sensitivity</th>\n",
       "      <th>specificity</th>\n",
       "      <th>precision</th>\n",
       "      <th>f1_score</th>\n",
       "      <th>best_params</th>\n",
       "    </tr>\n",
       "  </thead>\n",
       "  <tbody>\n",
       "    <tr>\n",
       "      <th>0</th>\n",
       "      <td>Logistic Regression no SMOTE</td>\n",
       "      <td></td>\n",
       "      <td>0.945</td>\n",
       "      <td>0.944</td>\n",
       "      <td>0.096</td>\n",
       "      <td>0.993</td>\n",
       "      <td>0.440</td>\n",
       "      <td>0.158</td>\n",
       "      <td></td>\n",
       "    </tr>\n",
       "    <tr>\n",
       "      <th>1</th>\n",
       "      <td>Logistic Regression with SMOTE</td>\n",
       "      <td></td>\n",
       "      <td>0.863</td>\n",
       "      <td>0.798</td>\n",
       "      <td>0.640</td>\n",
       "      <td>0.807</td>\n",
       "      <td>0.162</td>\n",
       "      <td>0.258</td>\n",
       "      <td></td>\n",
       "    </tr>\n",
       "    <tr>\n",
       "      <th>2</th>\n",
       "      <td>Logistic Regression with no Years and Weeks</td>\n",
       "      <td></td>\n",
       "      <td>0.829</td>\n",
       "      <td>0.760</td>\n",
       "      <td>0.605</td>\n",
       "      <td>0.769</td>\n",
       "      <td>0.132</td>\n",
       "      <td>0.217</td>\n",
       "      <td></td>\n",
       "    </tr>\n",
       "    <tr>\n",
       "      <th>3</th>\n",
       "      <td>Logistic Regression, No Yrs/Wks, Regularised (...</td>\n",
       "      <td></td>\n",
       "      <td>0.810</td>\n",
       "      <td>0.707</td>\n",
       "      <td>0.684</td>\n",
       "      <td>0.708</td>\n",
       "      <td>0.120</td>\n",
       "      <td>0.204</td>\n",
       "      <td></td>\n",
       "    </tr>\n",
       "    <tr>\n",
       "      <th>4</th>\n",
       "      <td>Random Forest</td>\n",
       "      <td>0.936</td>\n",
       "      <td>0.992</td>\n",
       "      <td>0.791</td>\n",
       "      <td>0.272</td>\n",
       "      <td>0.960</td>\n",
       "      <td>0.284</td>\n",
       "      <td>0.278</td>\n",
       "      <td>{'ccp_alpha': 0, 'max_depth': 9, 'max_features...</td>\n",
       "    </tr>\n",
       "    <tr>\n",
       "      <th>5</th>\n",
       "      <td>ExtraTrees</td>\n",
       "      <td>0.953</td>\n",
       "      <td>0.996</td>\n",
       "      <td>0.826</td>\n",
       "      <td>0.316</td>\n",
       "      <td>0.945</td>\n",
       "      <td>0.250</td>\n",
       "      <td>0.279</td>\n",
       "      <td>{'max_depth': 50, 'min_samples_leaf': 2, 'n_es...</td>\n",
       "    </tr>\n",
       "    <tr>\n",
       "      <th>6</th>\n",
       "      <td>SVM</td>\n",
       "      <td>0.961</td>\n",
       "      <td>0.998</td>\n",
       "      <td>0.704</td>\n",
       "      <td>0.237</td>\n",
       "      <td>0.937</td>\n",
       "      <td>0.180</td>\n",
       "      <td>0.205</td>\n",
       "      <td>{'C': 30, 'gamma': 0.01, 'kernel': 'rbf', 'pro...</td>\n",
       "    </tr>\n",
       "    <tr>\n",
       "      <th>7</th>\n",
       "      <td>ADA Boost Classifier</td>\n",
       "      <td>0.952</td>\n",
       "      <td>0.997</td>\n",
       "      <td>0.766</td>\n",
       "      <td>0.202</td>\n",
       "      <td>0.971</td>\n",
       "      <td>0.288</td>\n",
       "      <td>0.237</td>\n",
       "      <td>{'base_estimator__max_depth': 2, 'learning_rat...</td>\n",
       "    </tr>\n",
       "    <tr>\n",
       "      <th>8</th>\n",
       "      <td>Gradient Boosting Classifier</td>\n",
       "      <td>0.956</td>\n",
       "      <td>0.995</td>\n",
       "      <td>0.836</td>\n",
       "      <td>0.193</td>\n",
       "      <td>0.982</td>\n",
       "      <td>0.379</td>\n",
       "      <td>0.256</td>\n",
       "      <td>{'learning_rate': 0.12, 'max_depth': 4, 'n_est...</td>\n",
       "    </tr>\n",
       "  </tbody>\n",
       "</table>\n",
       "</div>"
      ],
      "text/plain": [
       "                                               model best_score  train_score  \\\n",
       "0                       Logistic Regression no SMOTE                   0.945   \n",
       "1                     Logistic Regression with SMOTE                   0.863   \n",
       "2        Logistic Regression with no Years and Weeks                   0.829   \n",
       "3  Logistic Regression, No Yrs/Wks, Regularised (...                   0.810   \n",
       "4                                      Random Forest      0.936        0.992   \n",
       "5                                         ExtraTrees      0.953        0.996   \n",
       "6                                                SVM      0.961        0.998   \n",
       "7                               ADA Boost Classifier      0.952        0.997   \n",
       "8                       Gradient Boosting Classifier      0.956        0.995   \n",
       "\n",
       "   holdout_score  sensitivity  specificity  precision  f1_score  \\\n",
       "0          0.944        0.096        0.993      0.440     0.158   \n",
       "1          0.798        0.640        0.807      0.162     0.258   \n",
       "2          0.760        0.605        0.769      0.132     0.217   \n",
       "3          0.707        0.684        0.708      0.120     0.204   \n",
       "4          0.791        0.272        0.960      0.284     0.278   \n",
       "5          0.826        0.316        0.945      0.250     0.279   \n",
       "6          0.704        0.237        0.937      0.180     0.205   \n",
       "7          0.766        0.202        0.971      0.288     0.237   \n",
       "8          0.836        0.193        0.982      0.379     0.256   \n",
       "\n",
       "                                         best_params  \n",
       "0                                                     \n",
       "1                                                     \n",
       "2                                                     \n",
       "3                                                     \n",
       "4  {'ccp_alpha': 0, 'max_depth': 9, 'max_features...  \n",
       "5  {'max_depth': 50, 'min_samples_leaf': 2, 'n_es...  \n",
       "6  {'C': 30, 'gamma': 0.01, 'kernel': 'rbf', 'pro...  \n",
       "7  {'base_estimator__max_depth': 2, 'learning_rat...  \n",
       "8  {'learning_rate': 0.12, 'max_depth': 4, 'n_est...  "
      ]
     },
     "execution_count": 96,
     "metadata": {},
     "output_type": "execute_result"
    }
   ],
   "source": [
    "summary_df"
   ]
  },
  {
   "cell_type": "markdown",
   "id": "4e920531",
   "metadata": {},
   "source": [
    "### Neural Network"
   ]
  },
  {
   "cell_type": "code",
   "execution_count": 97,
   "id": "5779f6b7",
   "metadata": {},
   "outputs": [],
   "source": [
    "def model_metrics_nn(model, modelname):\n",
    "    '''Generates confusion matrix and adds scores to summary_df'''\n",
    "    #Generate confusion matrix\n",
    "    tn, fp, fn, tp = confusion_matrix(ysm_train, model.predict_classes(Xsm_train)).ravel();\n",
    "    acc_train = (tn + tp) / (tn + fp + fn + tp)\n",
    "\n",
    "    y_pred = model.predict_classes(Xs_holdout)\n",
    "    confusion_matrix(y_holdout, # True values.\n",
    "                     y_pred)  # Predicted values.\n",
    "    tn, fp, fn, tp = confusion_matrix(y_holdout, y_pred).ravel();\n",
    "    acc = (tn + tp) / (tn + fp + fn + tp)\n",
    "    sens = tp / (tp + fn)\n",
    "    spec = tn / (tn + fp)\n",
    "    prec = tp / (tp + fp)\n",
    "    f1_score = 2 * (prec*sens) / (prec + sens)\n",
    "\n",
    "\n",
    "    summary_df_rows = summary_df.shape[0]\n",
    "    # Adding the scores into summary_df\n",
    "    summary_df.loc[summary_df_rows] = [\n",
    "        modelname,\n",
    "        '',\n",
    "        round(acc_train,3), # accuracy of train\n",
    "        round(acc,3), # accuracy of holdout\n",
    "        round(sens,3), # sensitivity of holdout\n",
    "        round(spec,3), # specificity of holdout\n",
    "        round(prec,3), # specificity of holdout\n",
    "        round(f1_score,3), # f1 score of holdout\n",
    "        '',\n",
    "    ]"
   ]
  },
  {
   "cell_type": "code",
   "execution_count": 98,
   "id": "999e50f6",
   "metadata": {},
   "outputs": [],
   "source": [
    "model = Sequential()\n",
    "model.add(Dense(64,\n",
    "                input_shape=(212,),\n",
    "                activation='relu'))\n",
    "model.add(Dense(1, activation='sigmoid'))"
   ]
  },
  {
   "cell_type": "code",
   "execution_count": 99,
   "id": "e9073342",
   "metadata": {},
   "outputs": [],
   "source": [
    "model.compile(loss='binary_crossentropy', metrics=['accuracy'], optimizer='adam')"
   ]
  },
  {
   "cell_type": "code",
   "execution_count": 100,
   "id": "7398d006",
   "metadata": {},
   "outputs": [
    {
     "data": {
      "text/plain": [
       "(11770, 212)"
      ]
     },
     "execution_count": 100,
     "metadata": {},
     "output_type": "execute_result"
    }
   ],
   "source": [
    "Xsm_train.shape"
   ]
  },
  {
   "cell_type": "code",
   "execution_count": 101,
   "id": "1c5bd14e",
   "metadata": {},
   "outputs": [],
   "source": [
    "history = model.fit(Xsm_train, ysm_train, validation_data=(Xs_holdout, y_holdout), epochs=2, batch_size=512, verbose=0)"
   ]
  },
  {
   "cell_type": "code",
   "execution_count": 102,
   "id": "6f105544",
   "metadata": {},
   "outputs": [
    {
     "data": {
      "image/png": "[encoded data removed]",
      "text/plain": [
       "<Figure size 432x288 with 1 Axes>"
      ]
     },
     "metadata": {
      "needs_background": "light"
     },
     "output_type": "display_data"
    }
   ],
   "source": [
    "plt.plot(history.history['loss'], label='Train loss')\n",
    "plt.plot(history.history['val_loss'], label='Val Loss')\n",
    "plt.legend();"
   ]
  },
  {
   "cell_type": "code",
   "execution_count": 103,
   "id": "9e05a0f2",
   "metadata": {},
   "outputs": [
    {
     "data": {
      "image/png": "[encoded data removed]",
      "text/plain": [
       "<Figure size 432x288 with 1 Axes>"
      ]
     },
     "metadata": {
      "needs_background": "light"
     },
     "output_type": "display_data"
    }
   ],
   "source": [
    "plt.plot(history.history['accuracy'], label='Train accuracy')\n",
    "plt.plot(history.history['val_accuracy'], label='Val accuracy')\n",
    "plt.legend();"
   ]
  },
  {
   "cell_type": "code",
   "execution_count": 104,
   "id": "7e75708b",
   "metadata": {},
   "outputs": [
    {
     "name": "stdout",
     "output_type": "stream",
     "text": [
      "WARNING:tensorflow:From C:\\Users\\deang\\AppData\\Local\\Temp\\ipykernel_14772\\233945099.py:4: Sequential.predict_classes (from tensorflow.python.keras.engine.sequential) is deprecated and will be removed after 2021-01-01.\n",
      "Instructions for updating:\n",
      "Please use instead:* `np.argmax(model.predict(x), axis=-1)`,   if your model does multi-class classification   (e.g. if it uses a `softmax` last-layer activation).* `(model.predict(x) > 0.5).astype(\"int32\")`,   if your model does binary classification   (e.g. if it uses a `sigmoid` last-layer activation).\n"
     ]
    }
   ],
   "source": [
    "model_metrics_nn(model, 'Neural Network')"
   ]
  },
  {
   "cell_type": "code",
   "execution_count": 105,
   "id": "580cccc8",
   "metadata": {},
   "outputs": [
    {
     "data": {
      "text/html": [
       "<div>\n",
       "<style scoped>\n",
       "    .dataframe tbody tr th:only-of-type {\n",
       "        vertical-align: middle;\n",
       "    }\n",
       "\n",
       "    .dataframe tbody tr th {\n",
       "        vertical-align: top;\n",
       "    }\n",
       "\n",
       "    .dataframe thead th {\n",
       "        text-align: right;\n",
       "    }\n",
       "</style>\n",
       "<table border=\"1\" class=\"dataframe\">\n",
       "  <thead>\n",
       "    <tr style=\"text-align: right;\">\n",
       "      <th></th>\n",
       "      <th>model</th>\n",
       "      <th>best_score</th>\n",
       "      <th>train_score</th>\n",
       "      <th>holdout_score</th>\n",
       "      <th>sensitivity</th>\n",
       "      <th>specificity</th>\n",
       "      <th>precision</th>\n",
       "      <th>f1_score</th>\n",
       "      <th>best_params</th>\n",
       "    </tr>\n",
       "  </thead>\n",
       "  <tbody>\n",
       "    <tr>\n",
       "      <th>0</th>\n",
       "      <td>Logistic Regression no SMOTE</td>\n",
       "      <td></td>\n",
       "      <td>0.945</td>\n",
       "      <td>0.944</td>\n",
       "      <td>0.096</td>\n",
       "      <td>0.993</td>\n",
       "      <td>0.440</td>\n",
       "      <td>0.158</td>\n",
       "      <td></td>\n",
       "    </tr>\n",
       "    <tr>\n",
       "      <th>1</th>\n",
       "      <td>Logistic Regression with SMOTE</td>\n",
       "      <td></td>\n",
       "      <td>0.863</td>\n",
       "      <td>0.798</td>\n",
       "      <td>0.640</td>\n",
       "      <td>0.807</td>\n",
       "      <td>0.162</td>\n",
       "      <td>0.258</td>\n",
       "      <td></td>\n",
       "    </tr>\n",
       "    <tr>\n",
       "      <th>2</th>\n",
       "      <td>Logistic Regression with no Years and Weeks</td>\n",
       "      <td></td>\n",
       "      <td>0.829</td>\n",
       "      <td>0.760</td>\n",
       "      <td>0.605</td>\n",
       "      <td>0.769</td>\n",
       "      <td>0.132</td>\n",
       "      <td>0.217</td>\n",
       "      <td></td>\n",
       "    </tr>\n",
       "    <tr>\n",
       "      <th>3</th>\n",
       "      <td>Logistic Regression, No Yrs/Wks, Regularised (...</td>\n",
       "      <td></td>\n",
       "      <td>0.810</td>\n",
       "      <td>0.707</td>\n",
       "      <td>0.684</td>\n",
       "      <td>0.708</td>\n",
       "      <td>0.120</td>\n",
       "      <td>0.204</td>\n",
       "      <td></td>\n",
       "    </tr>\n",
       "    <tr>\n",
       "      <th>4</th>\n",
       "      <td>Random Forest</td>\n",
       "      <td>0.936</td>\n",
       "      <td>0.992</td>\n",
       "      <td>0.791</td>\n",
       "      <td>0.272</td>\n",
       "      <td>0.960</td>\n",
       "      <td>0.284</td>\n",
       "      <td>0.278</td>\n",
       "      <td>{'ccp_alpha': 0, 'max_depth': 9, 'max_features...</td>\n",
       "    </tr>\n",
       "    <tr>\n",
       "      <th>5</th>\n",
       "      <td>ExtraTrees</td>\n",
       "      <td>0.953</td>\n",
       "      <td>0.996</td>\n",
       "      <td>0.826</td>\n",
       "      <td>0.316</td>\n",
       "      <td>0.945</td>\n",
       "      <td>0.250</td>\n",
       "      <td>0.279</td>\n",
       "      <td>{'max_depth': 50, 'min_samples_leaf': 2, 'n_es...</td>\n",
       "    </tr>\n",
       "    <tr>\n",
       "      <th>6</th>\n",
       "      <td>SVM</td>\n",
       "      <td>0.961</td>\n",
       "      <td>0.998</td>\n",
       "      <td>0.704</td>\n",
       "      <td>0.237</td>\n",
       "      <td>0.937</td>\n",
       "      <td>0.180</td>\n",
       "      <td>0.205</td>\n",
       "      <td>{'C': 30, 'gamma': 0.01, 'kernel': 'rbf', 'pro...</td>\n",
       "    </tr>\n",
       "    <tr>\n",
       "      <th>7</th>\n",
       "      <td>ADA Boost Classifier</td>\n",
       "      <td>0.952</td>\n",
       "      <td>0.997</td>\n",
       "      <td>0.766</td>\n",
       "      <td>0.202</td>\n",
       "      <td>0.971</td>\n",
       "      <td>0.288</td>\n",
       "      <td>0.237</td>\n",
       "      <td>{'base_estimator__max_depth': 2, 'learning_rat...</td>\n",
       "    </tr>\n",
       "    <tr>\n",
       "      <th>8</th>\n",
       "      <td>Gradient Boosting Classifier</td>\n",
       "      <td>0.956</td>\n",
       "      <td>0.995</td>\n",
       "      <td>0.836</td>\n",
       "      <td>0.193</td>\n",
       "      <td>0.982</td>\n",
       "      <td>0.379</td>\n",
       "      <td>0.256</td>\n",
       "      <td>{'learning_rate': 0.12, 'max_depth': 4, 'n_est...</td>\n",
       "    </tr>\n",
       "    <tr>\n",
       "      <th>9</th>\n",
       "      <td>Neural Network</td>\n",
       "      <td></td>\n",
       "      <td>0.813</td>\n",
       "      <td>0.744</td>\n",
       "      <td>0.605</td>\n",
       "      <td>0.752</td>\n",
       "      <td>0.124</td>\n",
       "      <td>0.206</td>\n",
       "      <td></td>\n",
       "    </tr>\n",
       "  </tbody>\n",
       "</table>\n",
       "</div>"
      ],
      "text/plain": [
       "                                               model best_score  train_score  \\\n",
       "0                       Logistic Regression no SMOTE                   0.945   \n",
       "1                     Logistic Regression with SMOTE                   0.863   \n",
       "2        Logistic Regression with no Years and Weeks                   0.829   \n",
       "3  Logistic Regression, No Yrs/Wks, Regularised (...                   0.810   \n",
       "4                                      Random Forest      0.936        0.992   \n",
       "5                                         ExtraTrees      0.953        0.996   \n",
       "6                                                SVM      0.961        0.998   \n",
       "7                               ADA Boost Classifier      0.952        0.997   \n",
       "8                       Gradient Boosting Classifier      0.956        0.995   \n",
       "9                                     Neural Network                   0.813   \n",
       "\n",
       "   holdout_score  sensitivity  specificity  precision  f1_score  \\\n",
       "0          0.944        0.096        0.993      0.440     0.158   \n",
       "1          0.798        0.640        0.807      0.162     0.258   \n",
       "2          0.760        0.605        0.769      0.132     0.217   \n",
       "3          0.707        0.684        0.708      0.120     0.204   \n",
       "4          0.791        0.272        0.960      0.284     0.278   \n",
       "5          0.826        0.316        0.945      0.250     0.279   \n",
       "6          0.704        0.237        0.937      0.180     0.205   \n",
       "7          0.766        0.202        0.971      0.288     0.237   \n",
       "8          0.836        0.193        0.982      0.379     0.256   \n",
       "9          0.744        0.605        0.752      0.124     0.206   \n",
       "\n",
       "                                         best_params  \n",
       "0                                                     \n",
       "1                                                     \n",
       "2                                                     \n",
       "3                                                     \n",
       "4  {'ccp_alpha': 0, 'max_depth': 9, 'max_features...  \n",
       "5  {'max_depth': 50, 'min_samples_leaf': 2, 'n_es...  \n",
       "6  {'C': 30, 'gamma': 0.01, 'kernel': 'rbf', 'pro...  \n",
       "7  {'base_estimator__max_depth': 2, 'learning_rat...  \n",
       "8  {'learning_rate': 0.12, 'max_depth': 4, 'n_est...  \n",
       "9                                                     "
      ]
     },
     "execution_count": 105,
     "metadata": {},
     "output_type": "execute_result"
    }
   ],
   "source": [
    "summary_df"
   ]
  },
  {
   "cell_type": "markdown",
   "id": "c0a3d4bb",
   "metadata": {},
   "source": [
    "### Neural Network with Dropout"
   ]
  },
  {
   "cell_type": "code",
   "execution_count": 106,
   "id": "aa90b817",
   "metadata": {},
   "outputs": [
    {
     "data": {
      "text/plain": [
       "212"
      ]
     },
     "execution_count": 106,
     "metadata": {},
     "output_type": "execute_result"
    }
   ],
   "source": [
    "Xsm_train.shape[1]"
   ]
  },
  {
   "cell_type": "code",
   "execution_count": 107,
   "id": "63035b62",
   "metadata": {},
   "outputs": [
    {
     "name": "stdout",
     "output_type": "stream",
     "text": [
      "368/368 [==============================] - 1s 1ms/step - loss: 0.4215 - accuracy: 0.8042 - val_loss: 0.3475 - val_accuracy: 0.8675\n"
     ]
    }
   ],
   "source": [
    "# the turn-on and off are during each mini-batch run\n",
    "model_dropout = Sequential()\n",
    "\n",
    "n_input = Xsm_train.shape[1]\n",
    "n_hidden = n_input\n",
    "\n",
    "model_dropout.add(Dense(n_hidden, input_dim=n_input, activation='relu'))\n",
    "model_dropout.add(Dropout(0.2))\n",
    "model_dropout.add(Dense(64, activation='relu'))\n",
    "model_dropout.add(Dropout(0.2))\n",
    "model_dropout.add(Dense(1, activation='sigmoid'))\n",
    "\n",
    "model_dropout.compile(loss='binary_crossentropy', optimizer='adam', metrics=['accuracy'])\n",
    "\n",
    "# history = model.fit(Xsm_train, ysm_train, validation_data=(Xs_holdout, y_holdout), epochs=2, batch_size=512, verbose=0)\n",
    "history_dropout = model_dropout.fit(\n",
    "    Xsm_train,\n",
    "    ysm_train,\n",
    "    validation_data=(Xs_holdout, y_holdout), \n",
    "    epochs=1,\n",
    "    batch_size=None\n",
    ")"
   ]
  },
  {
   "cell_type": "code",
   "execution_count": 108,
   "id": "81506f18",
   "metadata": {},
   "outputs": [],
   "source": [
    "model_metrics_nn(model_dropout, 'Neural Network with Dropout')"
   ]
  },
  {
   "cell_type": "code",
   "execution_count": 109,
   "id": "0e7798d1",
   "metadata": {
    "scrolled": true
   },
   "outputs": [
    {
     "data": {
      "text/html": [
       "<div>\n",
       "<style scoped>\n",
       "    .dataframe tbody tr th:only-of-type {\n",
       "        vertical-align: middle;\n",
       "    }\n",
       "\n",
       "    .dataframe tbody tr th {\n",
       "        vertical-align: top;\n",
       "    }\n",
       "\n",
       "    .dataframe thead th {\n",
       "        text-align: right;\n",
       "    }\n",
       "</style>\n",
       "<table border=\"1\" class=\"dataframe\">\n",
       "  <thead>\n",
       "    <tr style=\"text-align: right;\">\n",
       "      <th></th>\n",
       "      <th>model</th>\n",
       "      <th>best_score</th>\n",
       "      <th>train_score</th>\n",
       "      <th>holdout_score</th>\n",
       "      <th>sensitivity</th>\n",
       "      <th>specificity</th>\n",
       "      <th>precision</th>\n",
       "      <th>f1_score</th>\n",
       "      <th>best_params</th>\n",
       "    </tr>\n",
       "  </thead>\n",
       "  <tbody>\n",
       "    <tr>\n",
       "      <th>0</th>\n",
       "      <td>Logistic Regression no SMOTE</td>\n",
       "      <td></td>\n",
       "      <td>0.945</td>\n",
       "      <td>0.944</td>\n",
       "      <td>0.096</td>\n",
       "      <td>0.993</td>\n",
       "      <td>0.440</td>\n",
       "      <td>0.158</td>\n",
       "      <td></td>\n",
       "    </tr>\n",
       "    <tr>\n",
       "      <th>1</th>\n",
       "      <td>Logistic Regression with SMOTE</td>\n",
       "      <td></td>\n",
       "      <td>0.863</td>\n",
       "      <td>0.798</td>\n",
       "      <td>0.640</td>\n",
       "      <td>0.807</td>\n",
       "      <td>0.162</td>\n",
       "      <td>0.258</td>\n",
       "      <td></td>\n",
       "    </tr>\n",
       "    <tr>\n",
       "      <th>2</th>\n",
       "      <td>Logistic Regression with no Years and Weeks</td>\n",
       "      <td></td>\n",
       "      <td>0.829</td>\n",
       "      <td>0.760</td>\n",
       "      <td>0.605</td>\n",
       "      <td>0.769</td>\n",
       "      <td>0.132</td>\n",
       "      <td>0.217</td>\n",
       "      <td></td>\n",
       "    </tr>\n",
       "    <tr>\n",
       "      <th>3</th>\n",
       "      <td>Logistic Regression, No Yrs/Wks, Regularised (...</td>\n",
       "      <td></td>\n",
       "      <td>0.810</td>\n",
       "      <td>0.707</td>\n",
       "      <td>0.684</td>\n",
       "      <td>0.708</td>\n",
       "      <td>0.120</td>\n",
       "      <td>0.204</td>\n",
       "      <td></td>\n",
       "    </tr>\n",
       "    <tr>\n",
       "      <th>4</th>\n",
       "      <td>Random Forest</td>\n",
       "      <td>0.936</td>\n",
       "      <td>0.992</td>\n",
       "      <td>0.791</td>\n",
       "      <td>0.272</td>\n",
       "      <td>0.960</td>\n",
       "      <td>0.284</td>\n",
       "      <td>0.278</td>\n",
       "      <td>{'ccp_alpha': 0, 'max_depth': 9, 'max_features...</td>\n",
       "    </tr>\n",
       "    <tr>\n",
       "      <th>5</th>\n",
       "      <td>ExtraTrees</td>\n",
       "      <td>0.953</td>\n",
       "      <td>0.996</td>\n",
       "      <td>0.826</td>\n",
       "      <td>0.316</td>\n",
       "      <td>0.945</td>\n",
       "      <td>0.250</td>\n",
       "      <td>0.279</td>\n",
       "      <td>{'max_depth': 50, 'min_samples_leaf': 2, 'n_es...</td>\n",
       "    </tr>\n",
       "    <tr>\n",
       "      <th>6</th>\n",
       "      <td>SVM</td>\n",
       "      <td>0.961</td>\n",
       "      <td>0.998</td>\n",
       "      <td>0.704</td>\n",
       "      <td>0.237</td>\n",
       "      <td>0.937</td>\n",
       "      <td>0.180</td>\n",
       "      <td>0.205</td>\n",
       "      <td>{'C': 30, 'gamma': 0.01, 'kernel': 'rbf', 'pro...</td>\n",
       "    </tr>\n",
       "    <tr>\n",
       "      <th>7</th>\n",
       "      <td>ADA Boost Classifier</td>\n",
       "      <td>0.952</td>\n",
       "      <td>0.997</td>\n",
       "      <td>0.766</td>\n",
       "      <td>0.202</td>\n",
       "      <td>0.971</td>\n",
       "      <td>0.288</td>\n",
       "      <td>0.237</td>\n",
       "      <td>{'base_estimator__max_depth': 2, 'learning_rat...</td>\n",
       "    </tr>\n",
       "    <tr>\n",
       "      <th>8</th>\n",
       "      <td>Gradient Boosting Classifier</td>\n",
       "      <td>0.956</td>\n",
       "      <td>0.995</td>\n",
       "      <td>0.836</td>\n",
       "      <td>0.193</td>\n",
       "      <td>0.982</td>\n",
       "      <td>0.379</td>\n",
       "      <td>0.256</td>\n",
       "      <td>{'learning_rate': 0.12, 'max_depth': 4, 'n_est...</td>\n",
       "    </tr>\n",
       "    <tr>\n",
       "      <th>9</th>\n",
       "      <td>Neural Network</td>\n",
       "      <td></td>\n",
       "      <td>0.813</td>\n",
       "      <td>0.744</td>\n",
       "      <td>0.605</td>\n",
       "      <td>0.752</td>\n",
       "      <td>0.124</td>\n",
       "      <td>0.206</td>\n",
       "      <td></td>\n",
       "    </tr>\n",
       "    <tr>\n",
       "      <th>10</th>\n",
       "      <td>Neural Network with Dropout</td>\n",
       "      <td></td>\n",
       "      <td>0.880</td>\n",
       "      <td>0.868</td>\n",
       "      <td>0.395</td>\n",
       "      <td>0.895</td>\n",
       "      <td>0.179</td>\n",
       "      <td>0.247</td>\n",
       "      <td></td>\n",
       "    </tr>\n",
       "  </tbody>\n",
       "</table>\n",
       "</div>"
      ],
      "text/plain": [
       "                                                model best_score  train_score  \\\n",
       "0                        Logistic Regression no SMOTE                   0.945   \n",
       "1                      Logistic Regression with SMOTE                   0.863   \n",
       "2         Logistic Regression with no Years and Weeks                   0.829   \n",
       "3   Logistic Regression, No Yrs/Wks, Regularised (...                   0.810   \n",
       "4                                       Random Forest      0.936        0.992   \n",
       "5                                          ExtraTrees      0.953        0.996   \n",
       "6                                                 SVM      0.961        0.998   \n",
       "7                                ADA Boost Classifier      0.952        0.997   \n",
       "8                        Gradient Boosting Classifier      0.956        0.995   \n",
       "9                                      Neural Network                   0.813   \n",
       "10                        Neural Network with Dropout                   0.880   \n",
       "\n",
       "    holdout_score  sensitivity  specificity  precision  f1_score  \\\n",
       "0           0.944        0.096        0.993      0.440     0.158   \n",
       "1           0.798        0.640        0.807      0.162     0.258   \n",
       "2           0.760        0.605        0.769      0.132     0.217   \n",
       "3           0.707        0.684        0.708      0.120     0.204   \n",
       "4           0.791        0.272        0.960      0.284     0.278   \n",
       "5           0.826        0.316        0.945      0.250     0.279   \n",
       "6           0.704        0.237        0.937      0.180     0.205   \n",
       "7           0.766        0.202        0.971      0.288     0.237   \n",
       "8           0.836        0.193        0.982      0.379     0.256   \n",
       "9           0.744        0.605        0.752      0.124     0.206   \n",
       "10          0.868        0.395        0.895      0.179     0.247   \n",
       "\n",
       "                                          best_params  \n",
       "0                                                      \n",
       "1                                                      \n",
       "2                                                      \n",
       "3                                                      \n",
       "4   {'ccp_alpha': 0, 'max_depth': 9, 'max_features...  \n",
       "5   {'max_depth': 50, 'min_samples_leaf': 2, 'n_es...  \n",
       "6   {'C': 30, 'gamma': 0.01, 'kernel': 'rbf', 'pro...  \n",
       "7   {'base_estimator__max_depth': 2, 'learning_rat...  \n",
       "8   {'learning_rate': 0.12, 'max_depth': 4, 'n_est...  \n",
       "9                                                      \n",
       "10                                                     "
      ]
     },
     "execution_count": 109,
     "metadata": {},
     "output_type": "execute_result"
    }
   ],
   "source": [
    "summary_df"
   ]
  },
  {
   "cell_type": "markdown",
   "id": "f9230e53",
   "metadata": {},
   "source": [
    "### Neural Network with Early Stopping"
   ]
  },
  {
   "cell_type": "code",
   "execution_count": 110,
   "id": "14b1b04e",
   "metadata": {},
   "outputs": [
    {
     "name": "stdout",
     "output_type": "stream",
     "text": [
      "368/368 [==============================] - 0s 739us/step - loss: 0.4924 - accuracy: 0.7758 - val_loss: 0.4442 - val_accuracy: 0.7746\n"
     ]
    }
   ],
   "source": [
    "# Build model using early stopping\n",
    "model_es = Sequential()\n",
    "\n",
    "n_input = Xsm_train.shape[1]\n",
    "\n",
    "model_es.add(Dense(64, input_dim=n_input, activation='relu'))\n",
    "model_es.add(Dense(1, activation='sigmoid'))\n",
    "\n",
    "model_es.compile(loss='binary_crossentropy', optimizer='adam', metrics=['accuracy'])\n",
    "\n",
    "early_stop = EarlyStopping(monitor='val_loss', min_delta=0, patience=5, verbose=1, mode='auto')\n",
    "\n",
    "history_es = model_es.fit(\n",
    "    Xsm_train,\n",
    "    ysm_train,\n",
    "    validation_data=(Xs_holdout, y_holdout),\n",
    "    epochs=1,\n",
    "    batch_size=None,\n",
    "    callbacks=[early_stop]\n",
    ")"
   ]
  },
  {
   "cell_type": "code",
   "execution_count": 111,
   "id": "ab5781f6",
   "metadata": {},
   "outputs": [],
   "source": [
    "model_metrics_nn(model_es, 'Neural Network with Early Stopping')"
   ]
  },
  {
   "cell_type": "code",
   "execution_count": 112,
   "id": "fbae2c27",
   "metadata": {},
   "outputs": [
    {
     "data": {
      "text/html": [
       "<div>\n",
       "<style scoped>\n",
       "    .dataframe tbody tr th:only-of-type {\n",
       "        vertical-align: middle;\n",
       "    }\n",
       "\n",
       "    .dataframe tbody tr th {\n",
       "        vertical-align: top;\n",
       "    }\n",
       "\n",
       "    .dataframe thead th {\n",
       "        text-align: right;\n",
       "    }\n",
       "</style>\n",
       "<table border=\"1\" class=\"dataframe\">\n",
       "  <thead>\n",
       "    <tr style=\"text-align: right;\">\n",
       "      <th></th>\n",
       "      <th>model</th>\n",
       "      <th>best_score</th>\n",
       "      <th>train_score</th>\n",
       "      <th>holdout_score</th>\n",
       "      <th>sensitivity</th>\n",
       "      <th>specificity</th>\n",
       "      <th>precision</th>\n",
       "      <th>f1_score</th>\n",
       "      <th>best_params</th>\n",
       "    </tr>\n",
       "  </thead>\n",
       "  <tbody>\n",
       "    <tr>\n",
       "      <th>0</th>\n",
       "      <td>Logistic Regression no SMOTE</td>\n",
       "      <td></td>\n",
       "      <td>0.945</td>\n",
       "      <td>0.944</td>\n",
       "      <td>0.096</td>\n",
       "      <td>0.993</td>\n",
       "      <td>0.440</td>\n",
       "      <td>0.158</td>\n",
       "      <td></td>\n",
       "    </tr>\n",
       "    <tr>\n",
       "      <th>1</th>\n",
       "      <td>Logistic Regression with SMOTE</td>\n",
       "      <td></td>\n",
       "      <td>0.863</td>\n",
       "      <td>0.798</td>\n",
       "      <td>0.640</td>\n",
       "      <td>0.807</td>\n",
       "      <td>0.162</td>\n",
       "      <td>0.258</td>\n",
       "      <td></td>\n",
       "    </tr>\n",
       "    <tr>\n",
       "      <th>2</th>\n",
       "      <td>Logistic Regression with no Years and Weeks</td>\n",
       "      <td></td>\n",
       "      <td>0.829</td>\n",
       "      <td>0.760</td>\n",
       "      <td>0.605</td>\n",
       "      <td>0.769</td>\n",
       "      <td>0.132</td>\n",
       "      <td>0.217</td>\n",
       "      <td></td>\n",
       "    </tr>\n",
       "    <tr>\n",
       "      <th>3</th>\n",
       "      <td>Logistic Regression, No Yrs/Wks, Regularised (...</td>\n",
       "      <td></td>\n",
       "      <td>0.810</td>\n",
       "      <td>0.707</td>\n",
       "      <td>0.684</td>\n",
       "      <td>0.708</td>\n",
       "      <td>0.120</td>\n",
       "      <td>0.204</td>\n",
       "      <td></td>\n",
       "    </tr>\n",
       "    <tr>\n",
       "      <th>4</th>\n",
       "      <td>Random Forest</td>\n",
       "      <td>0.936</td>\n",
       "      <td>0.992</td>\n",
       "      <td>0.791</td>\n",
       "      <td>0.272</td>\n",
       "      <td>0.960</td>\n",
       "      <td>0.284</td>\n",
       "      <td>0.278</td>\n",
       "      <td>{'ccp_alpha': 0, 'max_depth': 9, 'max_features...</td>\n",
       "    </tr>\n",
       "    <tr>\n",
       "      <th>5</th>\n",
       "      <td>ExtraTrees</td>\n",
       "      <td>0.953</td>\n",
       "      <td>0.996</td>\n",
       "      <td>0.826</td>\n",
       "      <td>0.316</td>\n",
       "      <td>0.945</td>\n",
       "      <td>0.250</td>\n",
       "      <td>0.279</td>\n",
       "      <td>{'max_depth': 50, 'min_samples_leaf': 2, 'n_es...</td>\n",
       "    </tr>\n",
       "    <tr>\n",
       "      <th>6</th>\n",
       "      <td>SVM</td>\n",
       "      <td>0.961</td>\n",
       "      <td>0.998</td>\n",
       "      <td>0.704</td>\n",
       "      <td>0.237</td>\n",
       "      <td>0.937</td>\n",
       "      <td>0.180</td>\n",
       "      <td>0.205</td>\n",
       "      <td>{'C': 30, 'gamma': 0.01, 'kernel': 'rbf', 'pro...</td>\n",
       "    </tr>\n",
       "    <tr>\n",
       "      <th>7</th>\n",
       "      <td>ADA Boost Classifier</td>\n",
       "      <td>0.952</td>\n",
       "      <td>0.997</td>\n",
       "      <td>0.766</td>\n",
       "      <td>0.202</td>\n",
       "      <td>0.971</td>\n",
       "      <td>0.288</td>\n",
       "      <td>0.237</td>\n",
       "      <td>{'base_estimator__max_depth': 2, 'learning_rat...</td>\n",
       "    </tr>\n",
       "    <tr>\n",
       "      <th>8</th>\n",
       "      <td>Gradient Boosting Classifier</td>\n",
       "      <td>0.956</td>\n",
       "      <td>0.995</td>\n",
       "      <td>0.836</td>\n",
       "      <td>0.193</td>\n",
       "      <td>0.982</td>\n",
       "      <td>0.379</td>\n",
       "      <td>0.256</td>\n",
       "      <td>{'learning_rate': 0.12, 'max_depth': 4, 'n_est...</td>\n",
       "    </tr>\n",
       "    <tr>\n",
       "      <th>9</th>\n",
       "      <td>Neural Network</td>\n",
       "      <td></td>\n",
       "      <td>0.813</td>\n",
       "      <td>0.744</td>\n",
       "      <td>0.605</td>\n",
       "      <td>0.752</td>\n",
       "      <td>0.124</td>\n",
       "      <td>0.206</td>\n",
       "      <td></td>\n",
       "    </tr>\n",
       "    <tr>\n",
       "      <th>10</th>\n",
       "      <td>Neural Network with Dropout</td>\n",
       "      <td></td>\n",
       "      <td>0.880</td>\n",
       "      <td>0.868</td>\n",
       "      <td>0.395</td>\n",
       "      <td>0.895</td>\n",
       "      <td>0.179</td>\n",
       "      <td>0.247</td>\n",
       "      <td></td>\n",
       "    </tr>\n",
       "    <tr>\n",
       "      <th>11</th>\n",
       "      <td>Neural Network with Early Stopping</td>\n",
       "      <td></td>\n",
       "      <td>0.856</td>\n",
       "      <td>0.775</td>\n",
       "      <td>0.570</td>\n",
       "      <td>0.786</td>\n",
       "      <td>0.134</td>\n",
       "      <td>0.217</td>\n",
       "      <td></td>\n",
       "    </tr>\n",
       "  </tbody>\n",
       "</table>\n",
       "</div>"
      ],
      "text/plain": [
       "                                                model best_score  train_score  \\\n",
       "0                        Logistic Regression no SMOTE                   0.945   \n",
       "1                      Logistic Regression with SMOTE                   0.863   \n",
       "2         Logistic Regression with no Years and Weeks                   0.829   \n",
       "3   Logistic Regression, No Yrs/Wks, Regularised (...                   0.810   \n",
       "4                                       Random Forest      0.936        0.992   \n",
       "5                                          ExtraTrees      0.953        0.996   \n",
       "6                                                 SVM      0.961        0.998   \n",
       "7                                ADA Boost Classifier      0.952        0.997   \n",
       "8                        Gradient Boosting Classifier      0.956        0.995   \n",
       "9                                      Neural Network                   0.813   \n",
       "10                        Neural Network with Dropout                   0.880   \n",
       "11                 Neural Network with Early Stopping                   0.856   \n",
       "\n",
       "    holdout_score  sensitivity  specificity  precision  f1_score  \\\n",
       "0           0.944        0.096        0.993      0.440     0.158   \n",
       "1           0.798        0.640        0.807      0.162     0.258   \n",
       "2           0.760        0.605        0.769      0.132     0.217   \n",
       "3           0.707        0.684        0.708      0.120     0.204   \n",
       "4           0.791        0.272        0.960      0.284     0.278   \n",
       "5           0.826        0.316        0.945      0.250     0.279   \n",
       "6           0.704        0.237        0.937      0.180     0.205   \n",
       "7           0.766        0.202        0.971      0.288     0.237   \n",
       "8           0.836        0.193        0.982      0.379     0.256   \n",
       "9           0.744        0.605        0.752      0.124     0.206   \n",
       "10          0.868        0.395        0.895      0.179     0.247   \n",
       "11          0.775        0.570        0.786      0.134     0.217   \n",
       "\n",
       "                                          best_params  \n",
       "0                                                      \n",
       "1                                                      \n",
       "2                                                      \n",
       "3                                                      \n",
       "4   {'ccp_alpha': 0, 'max_depth': 9, 'max_features...  \n",
       "5   {'max_depth': 50, 'min_samples_leaf': 2, 'n_es...  \n",
       "6   {'C': 30, 'gamma': 0.01, 'kernel': 'rbf', 'pro...  \n",
       "7   {'base_estimator__max_depth': 2, 'learning_rat...  \n",
       "8   {'learning_rate': 0.12, 'max_depth': 4, 'n_est...  \n",
       "9                                                      \n",
       "10                                                     \n",
       "11                                                     "
      ]
     },
     "execution_count": 112,
     "metadata": {},
     "output_type": "execute_result"
    }
   ],
   "source": [
    "summary_df"
   ]
  },
  {
   "cell_type": "code",
   "execution_count": 113,
   "id": "bdf74db7",
   "metadata": {},
   "outputs": [],
   "source": [
    "summary_df.to_csv('../data/modelsummary1.csv')"
   ]
  },
  {
   "cell_type": "markdown",
   "id": "bb68f689",
   "metadata": {},
   "source": [
    "### AUC-ROC Curve"
   ]
  },
  {
   "cell_type": "code",
   "execution_count": 114,
   "id": "3a5563ae",
   "metadata": {},
   "outputs": [
    {
     "name": "stderr",
     "output_type": "stream",
     "text": [
      "C:\\Users\\deang\\anaconda3\\envs\\dsi27tf\\lib\\site-packages\\sklearn\\utils\\deprecation.py:87: FutureWarning: Function plot_roc_curve is deprecated; Function :func:`plot_roc_curve` is deprecated in 1.0 and will be removed in 1.2. Use one of the class methods: :meth:`sklearn.metric.RocCurveDisplay.from_predictions` or :meth:`sklearn.metric.RocCurveDisplay.from_estimator`.\n",
      "  warnings.warn(msg, category=FutureWarning)\n",
      "C:\\Users\\deang\\anaconda3\\envs\\dsi27tf\\lib\\site-packages\\sklearn\\utils\\deprecation.py:87: FutureWarning: Function plot_roc_curve is deprecated; Function :func:`plot_roc_curve` is deprecated in 1.0 and will be removed in 1.2. Use one of the class methods: :meth:`sklearn.metric.RocCurveDisplay.from_predictions` or :meth:`sklearn.metric.RocCurveDisplay.from_estimator`.\n",
      "  warnings.warn(msg, category=FutureWarning)\n",
      "C:\\Users\\deang\\anaconda3\\envs\\dsi27tf\\lib\\site-packages\\sklearn\\utils\\deprecation.py:87: FutureWarning: Function plot_roc_curve is deprecated; Function :func:`plot_roc_curve` is deprecated in 1.0 and will be removed in 1.2. Use one of the class methods: :meth:`sklearn.metric.RocCurveDisplay.from_predictions` or :meth:`sklearn.metric.RocCurveDisplay.from_estimator`.\n",
      "  warnings.warn(msg, category=FutureWarning)\n",
      "C:\\Users\\deang\\anaconda3\\envs\\dsi27tf\\lib\\site-packages\\sklearn\\utils\\deprecation.py:87: FutureWarning: Function plot_roc_curve is deprecated; Function :func:`plot_roc_curve` is deprecated in 1.0 and will be removed in 1.2. Use one of the class methods: :meth:`sklearn.metric.RocCurveDisplay.from_predictions` or :meth:`sklearn.metric.RocCurveDisplay.from_estimator`.\n",
      "  warnings.warn(msg, category=FutureWarning)\n",
      "C:\\Users\\deang\\anaconda3\\envs\\dsi27tf\\lib\\site-packages\\sklearn\\utils\\deprecation.py:87: FutureWarning: Function plot_roc_curve is deprecated; Function :func:`plot_roc_curve` is deprecated in 1.0 and will be removed in 1.2. Use one of the class methods: :meth:`sklearn.metric.RocCurveDisplay.from_predictions` or :meth:`sklearn.metric.RocCurveDisplay.from_estimator`.\n",
      "  warnings.warn(msg, category=FutureWarning)\n",
      "C:\\Users\\deang\\anaconda3\\envs\\dsi27tf\\lib\\site-packages\\sklearn\\utils\\deprecation.py:87: FutureWarning: Function plot_roc_curve is deprecated; Function :func:`plot_roc_curve` is deprecated in 1.0 and will be removed in 1.2. Use one of the class methods: :meth:`sklearn.metric.RocCurveDisplay.from_predictions` or :meth:`sklearn.metric.RocCurveDisplay.from_estimator`.\n",
      "  warnings.warn(msg, category=FutureWarning)\n",
      "C:\\Users\\deang\\anaconda3\\envs\\dsi27tf\\lib\\site-packages\\sklearn\\utils\\deprecation.py:87: FutureWarning: Function plot_roc_curve is deprecated; Function :func:`plot_roc_curve` is deprecated in 1.0 and will be removed in 1.2. Use one of the class methods: :meth:`sklearn.metric.RocCurveDisplay.from_predictions` or :meth:`sklearn.metric.RocCurveDisplay.from_estimator`.\n",
      "  warnings.warn(msg, category=FutureWarning)\n"
     ]
    },
    {
     "data": {
      "text/plain": [
       "<matplotlib.legend.Legend at 0x19345ab2408>"
      ]
     },
     "execution_count": 114,
     "metadata": {},
     "output_type": "execute_result"
    },
    {
     "data": {
      "image/png": "[encoded data removed]",
      "text/plain": [
       "<Figure size 576x432 with 1 Axes>"
      ]
     },
     "metadata": {
      "needs_background": "light"
     },
     "output_type": "display_data"
    }
   ],
   "source": [
    "fig, ax = plt.subplots(1, 1, figsize=(8,6))\n",
    "plot_roc_curve(logreg_noyr_nowk, Xs_holdout2, y_holdout2, ax=ax, name='LogReg with SMOTE')\n",
    "plot_roc_curve(log_reg_regularisation, Xs_holdout, y_holdout, ax=ax, name='LogReg w/ SMOTE & Regularization')\n",
    "plot_roc_curve(scv_gs, Xs_holdout, y_holdout, ax=ax, name='SVM')\n",
    "plot_roc_curve(gs_rf_1, Xs_holdout, y_holdout, ax=ax, name='Random Forest')\n",
    "plot_roc_curve(et_gs, Xs_holdout, y_holdout, ax=ax, name='ExtraTrees')\n",
    "plot_roc_curve(ada_gs, Xs_holdout, y_holdout, ax=ax, name='ADABoost')\n",
    "plot_roc_curve(gb_gs, Xs_holdout, y_holdout, ax=ax, name='GradientBoost')\n",
    "\n",
    "plt.plot([0, 1], [0, 1], color='black', lw=2, linestyle='--', label='Random Guess')\n",
    "plt.legend()"
   ]
  },
  {
   "cell_type": "code",
   "execution_count": null,
   "id": "afaec280",
   "metadata": {},
   "outputs": [],
   "source": []
  }
 ],
 "metadata": {
  "kernelspec": {
   "display_name": "Python 3 (ipykernel)",
   "language": "python",
   "name": "python3"
  },
  "language_info": {
   "codemirror_mode": {
    "name": "ipython",
    "version": 3
   },
   "file_extension": ".py",
   "mimetype": "text/x-python",
   "name": "python",
   "nbconvert_exporter": "python",
   "pygments_lexer": "ipython3",
   "version": "3.7.13"
  }
 },
 "nbformat": 4,
 "nbformat_minor": 5
}
