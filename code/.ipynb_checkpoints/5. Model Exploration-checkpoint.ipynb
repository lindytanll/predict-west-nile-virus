{
 "cells": [
  {
   "cell_type": "markdown",
   "id": "17eb5c7b",
   "metadata": {},
   "source": [
    "# Project 4: Predict West Nile Virus\n",
    "### Section 5. Model Exploration"
   ]
  },
  {
   "cell_type": "markdown",
   "id": "b70e632a",
   "metadata": {},
   "source": [
    "## Problem Statement\n",
    "\n",
    "1. As an employee of Disease And Treatment Agency, division of Societal Cures In Epidemiology and New Creative Engineering (DATA-SCIENCE), we are tasked to better understand the mosquito population and advise on appropriate interventions which are beneficial and cost-effective for the city.\n",
    "\n",
    "\n",
    "2. Through this project, we hope to:\n",
    "- Identify features which are most important to predict presence of West Nile Virus (which can be done by ranking the coefficients of each feature in a logistic regression model)\n",
    "- Predict the probability of West Nile Virus by location to provide decision makers an effective plan to deploy pesticides throughout the city, which consequently can help to reduce cost."
   ]
  },
  {
   "cell_type": "markdown",
   "id": "ae082b06",
   "metadata": {},
   "source": [
    "## Import Libraries"
   ]
  },
  {
   "cell_type": "code",
   "execution_count": 32,
   "id": "7909f27f",
   "metadata": {},
   "outputs": [],
   "source": [
    "#!pip install shapely\n",
    "import pandas as pd\n",
    "import matplotlib.pyplot as plt\n",
    "import seaborn as sns\n",
    "import numpy as np\n",
    "# from shapely import geometry\n",
    "# from shapely.geometry import Point, Polygon\n",
    "# import geopandas as gpd\n",
    "# from datetime import timedelta\n",
    "# import math\n",
    "\n",
    "from sklearn.preprocessing import StandardScaler\n",
    "from sklearn.model_selection import train_test_split, GridSearchCV, RandomizedSearchCV\n",
    "from sklearn.pipeline import Pipeline\n",
    "from sklearn.linear_model import LogisticRegression\n",
    "from sklearn.naive_bayes import MultinomialNB\n",
    "from sklearn.ensemble import RandomForestClassifier\n",
    "from sklearn.svm import SVC\n",
    "from sklearn.ensemble import GradientBoostingClassifier, AdaBoostClassifier, VotingClassifier\n",
    "from sklearn.tree import DecisionTreeClassifier\n",
    "from sklearn import metrics\n",
    "from sklearn.metrics import (confusion_matrix, plot_confusion_matrix, classification_report, \n",
    "                             plot_roc_curve, roc_auc_score, accuracy_score, precision_score, \n",
    "                             recall_score, f1_score)\n",
    "from imblearn.over_sampling import SMOTE"
   ]
  },
  {
   "cell_type": "markdown",
   "id": "d9c25ebe",
   "metadata": {},
   "source": [
    "## Load Data"
   ]
  },
  {
   "cell_type": "code",
   "execution_count": 33,
   "id": "4ab149da",
   "metadata": {},
   "outputs": [],
   "source": [
    "# Load datasets\n",
    "df = pd.read_csv('../data/final_df.csv', index_col='Unnamed: 0')"
   ]
  },
  {
   "cell_type": "markdown",
   "id": "3d8d7b3c",
   "metadata": {},
   "source": [
    "### Split into train and test (Kaggle) data"
   ]
  },
  {
   "cell_type": "code",
   "execution_count": 34,
   "id": "4903760a",
   "metadata": {},
   "outputs": [
    {
     "name": "stdout",
     "output_type": "stream",
     "text": [
      "(8304, 240)\n",
      "(43035, 240)\n"
     ]
    }
   ],
   "source": [
    "# Split into train and test (kaggle) data \n",
    "train = df[df['dataset']=='train'].copy()\n",
    "test = df[df['dataset']=='test'].copy()\n",
    "print(train.shape)\n",
    "print(test.shape)"
   ]
  },
  {
   "cell_type": "code",
   "execution_count": 35,
   "id": "6d36cf6c",
   "metadata": {},
   "outputs": [],
   "source": [
    "train.drop(columns='dataset', inplace=True)\n",
    "test.drop(columns='dataset', inplace=True)"
   ]
  },
  {
   "cell_type": "code",
   "execution_count": 36,
   "id": "81c44181",
   "metadata": {
    "scrolled": true
   },
   "outputs": [
    {
     "data": {
      "text/html": [
       "<div>\n",
       "<style scoped>\n",
       "    .dataframe tbody tr th:only-of-type {\n",
       "        vertical-align: middle;\n",
       "    }\n",
       "\n",
       "    .dataframe tbody tr th {\n",
       "        vertical-align: top;\n",
       "    }\n",
       "\n",
       "    .dataframe thead th {\n",
       "        text-align: right;\n",
       "    }\n",
       "</style>\n",
       "<table border=\"1\" class=\"dataframe\">\n",
       "  <thead>\n",
       "    <tr style=\"text-align: right;\">\n",
       "      <th></th>\n",
       "      <th>latitude</th>\n",
       "      <th>longitude</th>\n",
       "      <th>tavg</th>\n",
       "      <th>preciptotal</th>\n",
       "      <th>stnpressure</th>\n",
       "      <th>resultdir</th>\n",
       "      <th>avgspeed</th>\n",
       "      <th>is_spray</th>\n",
       "      <th>stnpressure_7</th>\n",
       "      <th>stnpressure_10</th>\n",
       "      <th>...</th>\n",
       "      <th>codesum_TSRA BR HZ VCTS</th>\n",
       "      <th>codesum_TSRA FG+ BR HZ</th>\n",
       "      <th>codesum_TSRA RA</th>\n",
       "      <th>codesum_TSRA RA BR</th>\n",
       "      <th>codesum_TSRA RA BR HZ</th>\n",
       "      <th>codesum_TSRA RA BR HZ VCTS</th>\n",
       "      <th>codesum_TSRA RA BR VCTS</th>\n",
       "      <th>codesum_TSRA RA VCTS</th>\n",
       "      <th>codesum_VCTS</th>\n",
       "      <th>wnvpresent</th>\n",
       "    </tr>\n",
       "  </thead>\n",
       "  <tbody>\n",
       "    <tr>\n",
       "      <th>count</th>\n",
       "      <td>8304.000000</td>\n",
       "      <td>8304.000000</td>\n",
       "      <td>8304.000000</td>\n",
       "      <td>8304.000000</td>\n",
       "      <td>8304.000000</td>\n",
       "      <td>8304.000000</td>\n",
       "      <td>8304.000000</td>\n",
       "      <td>8304.000000</td>\n",
       "      <td>8304.000000</td>\n",
       "      <td>8304.000000</td>\n",
       "      <td>...</td>\n",
       "      <td>8304.000000</td>\n",
       "      <td>8304.0</td>\n",
       "      <td>8304.000000</td>\n",
       "      <td>8304.000000</td>\n",
       "      <td>8304.0</td>\n",
       "      <td>8304.0</td>\n",
       "      <td>8304.000000</td>\n",
       "      <td>8304.0</td>\n",
       "      <td>8304.000000</td>\n",
       "      <td>8304.000000</td>\n",
       "    </tr>\n",
       "    <tr>\n",
       "      <th>mean</th>\n",
       "      <td>41.845800</td>\n",
       "      <td>-87.696229</td>\n",
       "      <td>72.093931</td>\n",
       "      <td>0.182431</td>\n",
       "      <td>29.262110</td>\n",
       "      <td>17.842245</td>\n",
       "      <td>7.476903</td>\n",
       "      <td>0.008911</td>\n",
       "      <td>29.277200</td>\n",
       "      <td>29.265990</td>\n",
       "      <td>...</td>\n",
       "      <td>0.006142</td>\n",
       "      <td>0.0</td>\n",
       "      <td>0.029383</td>\n",
       "      <td>0.037211</td>\n",
       "      <td>0.0</td>\n",
       "      <td>0.0</td>\n",
       "      <td>0.010597</td>\n",
       "      <td>0.0</td>\n",
       "      <td>0.003974</td>\n",
       "      <td>0.055034</td>\n",
       "    </tr>\n",
       "    <tr>\n",
       "      <th>std</th>\n",
       "      <td>0.106658</td>\n",
       "      <td>0.084440</td>\n",
       "      <td>7.630330</td>\n",
       "      <td>0.470450</td>\n",
       "      <td>0.118606</td>\n",
       "      <td>9.433945</td>\n",
       "      <td>2.543438</td>\n",
       "      <td>0.093984</td>\n",
       "      <td>0.126573</td>\n",
       "      <td>0.142227</td>\n",
       "      <td>...</td>\n",
       "      <td>0.078132</td>\n",
       "      <td>0.0</td>\n",
       "      <td>0.168889</td>\n",
       "      <td>0.189290</td>\n",
       "      <td>0.0</td>\n",
       "      <td>0.0</td>\n",
       "      <td>0.102402</td>\n",
       "      <td>0.0</td>\n",
       "      <td>0.062918</td>\n",
       "      <td>0.228060</td>\n",
       "    </tr>\n",
       "    <tr>\n",
       "      <th>min</th>\n",
       "      <td>41.644612</td>\n",
       "      <td>-87.930995</td>\n",
       "      <td>50.000000</td>\n",
       "      <td>0.000000</td>\n",
       "      <td>28.890000</td>\n",
       "      <td>1.000000</td>\n",
       "      <td>2.100000</td>\n",
       "      <td>0.000000</td>\n",
       "      <td>28.890000</td>\n",
       "      <td>28.910000</td>\n",
       "      <td>...</td>\n",
       "      <td>0.000000</td>\n",
       "      <td>0.0</td>\n",
       "      <td>0.000000</td>\n",
       "      <td>0.000000</td>\n",
       "      <td>0.0</td>\n",
       "      <td>0.0</td>\n",
       "      <td>0.000000</td>\n",
       "      <td>0.0</td>\n",
       "      <td>0.000000</td>\n",
       "      <td>0.000000</td>\n",
       "    </tr>\n",
       "    <tr>\n",
       "      <th>25%</th>\n",
       "      <td>41.750498</td>\n",
       "      <td>-87.752411</td>\n",
       "      <td>69.000000</td>\n",
       "      <td>0.000000</td>\n",
       "      <td>29.180000</td>\n",
       "      <td>8.000000</td>\n",
       "      <td>5.800000</td>\n",
       "      <td>0.000000</td>\n",
       "      <td>29.210000</td>\n",
       "      <td>29.180000</td>\n",
       "      <td>...</td>\n",
       "      <td>0.000000</td>\n",
       "      <td>0.0</td>\n",
       "      <td>0.000000</td>\n",
       "      <td>0.000000</td>\n",
       "      <td>0.0</td>\n",
       "      <td>0.0</td>\n",
       "      <td>0.000000</td>\n",
       "      <td>0.0</td>\n",
       "      <td>0.000000</td>\n",
       "      <td>0.000000</td>\n",
       "    </tr>\n",
       "    <tr>\n",
       "      <th>50%</th>\n",
       "      <td>41.862292</td>\n",
       "      <td>-87.696269</td>\n",
       "      <td>73.000000</td>\n",
       "      <td>0.000000</td>\n",
       "      <td>29.260000</td>\n",
       "      <td>19.000000</td>\n",
       "      <td>7.100000</td>\n",
       "      <td>0.000000</td>\n",
       "      <td>29.280000</td>\n",
       "      <td>29.260000</td>\n",
       "      <td>...</td>\n",
       "      <td>0.000000</td>\n",
       "      <td>0.0</td>\n",
       "      <td>0.000000</td>\n",
       "      <td>0.000000</td>\n",
       "      <td>0.0</td>\n",
       "      <td>0.0</td>\n",
       "      <td>0.000000</td>\n",
       "      <td>0.0</td>\n",
       "      <td>0.000000</td>\n",
       "      <td>0.000000</td>\n",
       "    </tr>\n",
       "    <tr>\n",
       "      <th>75%</th>\n",
       "      <td>41.947227</td>\n",
       "      <td>-87.648064</td>\n",
       "      <td>78.000000</td>\n",
       "      <td>0.160000</td>\n",
       "      <td>29.340000</td>\n",
       "      <td>25.000000</td>\n",
       "      <td>9.400000</td>\n",
       "      <td>0.000000</td>\n",
       "      <td>29.380000</td>\n",
       "      <td>29.360000</td>\n",
       "      <td>...</td>\n",
       "      <td>0.000000</td>\n",
       "      <td>0.0</td>\n",
       "      <td>0.000000</td>\n",
       "      <td>0.000000</td>\n",
       "      <td>0.0</td>\n",
       "      <td>0.0</td>\n",
       "      <td>0.000000</td>\n",
       "      <td>0.0</td>\n",
       "      <td>0.000000</td>\n",
       "      <td>0.000000</td>\n",
       "    </tr>\n",
       "    <tr>\n",
       "      <th>max</th>\n",
       "      <td>42.017430</td>\n",
       "      <td>-87.531635</td>\n",
       "      <td>87.000000</td>\n",
       "      <td>3.970000</td>\n",
       "      <td>29.650000</td>\n",
       "      <td>36.000000</td>\n",
       "      <td>16.300000</td>\n",
       "      <td>1.000000</td>\n",
       "      <td>29.650000</td>\n",
       "      <td>29.650000</td>\n",
       "      <td>...</td>\n",
       "      <td>1.000000</td>\n",
       "      <td>0.0</td>\n",
       "      <td>1.000000</td>\n",
       "      <td>1.000000</td>\n",
       "      <td>0.0</td>\n",
       "      <td>0.0</td>\n",
       "      <td>1.000000</td>\n",
       "      <td>0.0</td>\n",
       "      <td>1.000000</td>\n",
       "      <td>1.000000</td>\n",
       "    </tr>\n",
       "  </tbody>\n",
       "</table>\n",
       "<p>8 rows × 239 columns</p>\n",
       "</div>"
      ],
      "text/plain": [
       "          latitude    longitude         tavg  preciptotal  stnpressure  \\\n",
       "count  8304.000000  8304.000000  8304.000000  8304.000000  8304.000000   \n",
       "mean     41.845800   -87.696229    72.093931     0.182431    29.262110   \n",
       "std       0.106658     0.084440     7.630330     0.470450     0.118606   \n",
       "min      41.644612   -87.930995    50.000000     0.000000    28.890000   \n",
       "25%      41.750498   -87.752411    69.000000     0.000000    29.180000   \n",
       "50%      41.862292   -87.696269    73.000000     0.000000    29.260000   \n",
       "75%      41.947227   -87.648064    78.000000     0.160000    29.340000   \n",
       "max      42.017430   -87.531635    87.000000     3.970000    29.650000   \n",
       "\n",
       "         resultdir     avgspeed     is_spray  stnpressure_7  stnpressure_10  \\\n",
       "count  8304.000000  8304.000000  8304.000000    8304.000000     8304.000000   \n",
       "mean     17.842245     7.476903     0.008911      29.277200       29.265990   \n",
       "std       9.433945     2.543438     0.093984       0.126573        0.142227   \n",
       "min       1.000000     2.100000     0.000000      28.890000       28.910000   \n",
       "25%       8.000000     5.800000     0.000000      29.210000       29.180000   \n",
       "50%      19.000000     7.100000     0.000000      29.280000       29.260000   \n",
       "75%      25.000000     9.400000     0.000000      29.380000       29.360000   \n",
       "max      36.000000    16.300000     1.000000      29.650000       29.650000   \n",
       "\n",
       "       ...  codesum_TSRA BR HZ VCTS  codesum_TSRA FG+ BR HZ  codesum_TSRA RA  \\\n",
       "count  ...              8304.000000                  8304.0      8304.000000   \n",
       "mean   ...                 0.006142                     0.0         0.029383   \n",
       "std    ...                 0.078132                     0.0         0.168889   \n",
       "min    ...                 0.000000                     0.0         0.000000   \n",
       "25%    ...                 0.000000                     0.0         0.000000   \n",
       "50%    ...                 0.000000                     0.0         0.000000   \n",
       "75%    ...                 0.000000                     0.0         0.000000   \n",
       "max    ...                 1.000000                     0.0         1.000000   \n",
       "\n",
       "       codesum_TSRA RA BR  codesum_TSRA RA BR HZ  codesum_TSRA RA BR HZ VCTS  \\\n",
       "count         8304.000000                 8304.0                      8304.0   \n",
       "mean             0.037211                    0.0                         0.0   \n",
       "std              0.189290                    0.0                         0.0   \n",
       "min              0.000000                    0.0                         0.0   \n",
       "25%              0.000000                    0.0                         0.0   \n",
       "50%              0.000000                    0.0                         0.0   \n",
       "75%              0.000000                    0.0                         0.0   \n",
       "max              1.000000                    0.0                         0.0   \n",
       "\n",
       "       codesum_TSRA RA BR VCTS  codesum_TSRA RA VCTS  codesum_VCTS  \\\n",
       "count              8304.000000                8304.0   8304.000000   \n",
       "mean                  0.010597                   0.0      0.003974   \n",
       "std                   0.102402                   0.0      0.062918   \n",
       "min                   0.000000                   0.0      0.000000   \n",
       "25%                   0.000000                   0.0      0.000000   \n",
       "50%                   0.000000                   0.0      0.000000   \n",
       "75%                   0.000000                   0.0      0.000000   \n",
       "max                   1.000000                   0.0      1.000000   \n",
       "\n",
       "        wnvpresent  \n",
       "count  8304.000000  \n",
       "mean      0.055034  \n",
       "std       0.228060  \n",
       "min       0.000000  \n",
       "25%       0.000000  \n",
       "50%       0.000000  \n",
       "75%       0.000000  \n",
       "max       1.000000  \n",
       "\n",
       "[8 rows x 239 columns]"
      ]
     },
     "execution_count": 36,
     "metadata": {},
     "output_type": "execute_result"
    }
   ],
   "source": [
    "train.describe()"
   ]
  },
  {
   "cell_type": "code",
   "execution_count": 37,
   "id": "2b99df22",
   "metadata": {},
   "outputs": [
    {
     "name": "stdout",
     "output_type": "stream",
     "text": [
      "<class 'pandas.core.frame.DataFrame'>\n",
      "Int64Index: 8304 entries, 0 to 8303\n",
      "Columns: 239 entries, latitude to wnvpresent\n",
      "dtypes: float64(11), int64(228)\n",
      "memory usage: 15.2 MB\n"
     ]
    }
   ],
   "source": [
    "train.info()"
   ]
  },
  {
   "cell_type": "markdown",
   "id": "a7fffede",
   "metadata": {},
   "source": [
    "### Further Split Train Data into Train and Holdout"
   ]
  },
  {
   "cell_type": "code",
   "execution_count": 38,
   "id": "0b20422d",
   "metadata": {},
   "outputs": [],
   "source": [
    "# Split train data into X (all features except wnvpresent) and y (wnvpresent)\n",
    "features = [col for col in train.columns if col != 'wnvpresent']\n",
    "X = train[features]\n",
    "y = train['wnvpresent']"
   ]
  },
  {
   "cell_type": "code",
   "execution_count": 39,
   "id": "f840f66b",
   "metadata": {},
   "outputs": [
    {
     "data": {
      "text/plain": [
       "[]"
      ]
     },
     "execution_count": 39,
     "metadata": {},
     "output_type": "execute_result"
    }
   ],
   "source": [
    "X.columns[X.isna().any()].tolist()"
   ]
  },
  {
   "cell_type": "code",
   "execution_count": 40,
   "id": "622dcd8e",
   "metadata": {},
   "outputs": [
    {
     "data": {
      "text/plain": [
       "0.0    0.944966\n",
       "1.0    0.055034\n",
       "Name: wnvpresent, dtype: float64"
      ]
     },
     "execution_count": 40,
     "metadata": {},
     "output_type": "execute_result"
    }
   ],
   "source": [
    "y.value_counts(normalize = True)"
   ]
  },
  {
   "cell_type": "markdown",
   "id": "043d9808",
   "metadata": {},
   "source": [
    "- wnvpresent is highly inbalance, with only about 5.5% of the data points having West Nile Virus. \n",
    "    - It is important to stratify proportionally to ensure that our train and holdout dataset have about the same proportion of presence and absence of West Nile Virus.\n",
    "    - We also need to use SMOTE as the accuracy of our models without SMOTE is about 95% (i.e. close to the proportion of absence of WNV)"
   ]
  },
  {
   "cell_type": "code",
   "execution_count": 41,
   "id": "ee5a32c1",
   "metadata": {},
   "outputs": [],
   "source": [
    "# Further split train data into train and holdout data\n",
    "X_train, X_holdout, y_train, y_holdout = train_test_split(\n",
    "    X, \n",
    "    y,\n",
    "    stratify = y,\n",
    "    random_state=42\n",
    ")"
   ]
  },
  {
   "cell_type": "code",
   "execution_count": 42,
   "id": "d0c0f5b1",
   "metadata": {},
   "outputs": [],
   "source": [
    "# Scale our data\n",
    "ss = StandardScaler()\n",
    "Xs_train = ss.fit_transform(X_train)\n",
    "Xs_holdout = ss.transform(X_holdout)"
   ]
  },
  {
   "cell_type": "markdown",
   "id": "7ac232dc",
   "metadata": {},
   "source": [
    "## Create synthetic data with SMOTE"
   ]
  },
  {
   "cell_type": "code",
   "execution_count": 43,
   "id": "1fbf9ba9",
   "metadata": {},
   "outputs": [],
   "source": [
    "# create synthetic data for train set\n",
    "sm = SMOTE()\n",
    "Xsm_train, ysm_train = sm.fit_resample(Xs_train, y_train)"
   ]
  },
  {
   "cell_type": "code",
   "execution_count": 44,
   "id": "4217117a",
   "metadata": {},
   "outputs": [
    {
     "data": {
      "text/plain": [
       "(11770, 238)"
      ]
     },
     "execution_count": 44,
     "metadata": {},
     "output_type": "execute_result"
    }
   ],
   "source": [
    "Xsm_train.shape"
   ]
  },
  {
   "cell_type": "markdown",
   "id": "4308775f",
   "metadata": {},
   "source": [
    "## Model Exploration"
   ]
  },
  {
   "cell_type": "markdown",
   "id": "bdc1a875",
   "metadata": {},
   "source": [
    "### Metrics to Evaluate Models"
   ]
  },
  {
   "cell_type": "code",
   "execution_count": 45,
   "id": "74cd3281",
   "metadata": {},
   "outputs": [],
   "source": [
    "# Creacting a summary dataframe.\n",
    "summary_df = pd.DataFrame(columns=[\n",
    "    'model', \n",
    "    'best_score', \n",
    "    'train_score',\n",
    "    'holdout_score',\n",
    "    'sensitivity',\n",
    "    'specificity',\n",
    "    'f1_score',\n",
    "    'best_params', \n",
    "])"
   ]
  },
  {
   "cell_type": "code",
   "execution_count": 46,
   "id": "07b1fed9",
   "metadata": {},
   "outputs": [
    {
     "data": {
      "text/html": [
       "<div>\n",
       "<style scoped>\n",
       "    .dataframe tbody tr th:only-of-type {\n",
       "        vertical-align: middle;\n",
       "    }\n",
       "\n",
       "    .dataframe tbody tr th {\n",
       "        vertical-align: top;\n",
       "    }\n",
       "\n",
       "    .dataframe thead th {\n",
       "        text-align: right;\n",
       "    }\n",
       "</style>\n",
       "<table border=\"1\" class=\"dataframe\">\n",
       "  <thead>\n",
       "    <tr style=\"text-align: right;\">\n",
       "      <th></th>\n",
       "      <th>model</th>\n",
       "      <th>best_score</th>\n",
       "      <th>train_score</th>\n",
       "      <th>holdout_score</th>\n",
       "      <th>sensitivity</th>\n",
       "      <th>specificity</th>\n",
       "      <th>f1_score</th>\n",
       "      <th>best_params</th>\n",
       "    </tr>\n",
       "  </thead>\n",
       "  <tbody>\n",
       "  </tbody>\n",
       "</table>\n",
       "</div>"
      ],
      "text/plain": [
       "Empty DataFrame\n",
       "Columns: [model, best_score, train_score, holdout_score, sensitivity, specificity, f1_score, best_params]\n",
       "Index: []"
      ]
     },
     "execution_count": 46,
     "metadata": {},
     "output_type": "execute_result"
    }
   ],
   "source": [
    "summary_df"
   ]
  },
  {
   "cell_type": "code",
   "execution_count": 47,
   "id": "39977633",
   "metadata": {},
   "outputs": [],
   "source": [
    "def model_metrics(gs, X_train, y_train, X_test, y_test, modelname):\n",
    "    '''Generates confusion matrix and adds scores to summary_df'''\n",
    "    \n",
    "    #Generate confusion matrix\n",
    "    y_pred = gs.predict(X_test)\n",
    "    confusion_matrix(y_test, # True values.\n",
    "                     y_pred)  # Predicted values.\n",
    "    tn, fp, fn, tp = confusion_matrix(y_test, y_pred).ravel();\n",
    "    y_train_pred_prob = gs.predict_proba(X_train)[:,1]\n",
    "    y_test_pred_prob = gs.predict_proba(X_test)[:,1]\n",
    "    \n",
    "    summary_df_rows = summary_df.shape[0]\n",
    "    # Adding the scores into summary_df\n",
    "    summary_df.loc[summary_df_rows] = [\n",
    "        modelname,\n",
    "        #'CountVec/LogisticRegression',\n",
    "        round(gs.best_score_, 3),\n",
    "        round(metrics.roc_auc_score(y_train, y_train_pred_prob),3),\n",
    "        round(metrics.roc_auc_score(y_test, y_test_pred_prob),3),\n",
    "        round(metrics.recall_score(y_test, y_pred),3),\n",
    "        round(tn/(tn+fp),3),\n",
    "        round(metrics.f1_score(y_test, y_pred),3),\n",
    "        str(gs.best_params_),\n",
    "    ]\n",
    "    \n",
    "    \n",
    "    \n",
    "    # Plot Confusion Matrix\n",
    "    plot_confusion_matrix(gs, X_test, y_test, cmap='Blues', \n",
    "                          display_labels=['WNV Present', 'WNV Not Present'],\n",
    "                          normalize='true');  \n",
    "    plt.title(label=modelname, fontsize=14)\n",
    "    plt.grid(False)"
   ]
  },
  {
   "cell_type": "markdown",
   "id": "7fc02dc0",
   "metadata": {},
   "source": [
    "### Logistic Regression"
   ]
  },
  {
   "cell_type": "code",
   "execution_count": 17,
   "id": "23641bab",
   "metadata": {
    "scrolled": true
   },
   "outputs": [
    {
     "name": "stdout",
     "output_type": "stream",
     "text": [
      "Logistic Regression Intercept: [-5.18323133]\n",
      "Logistic Regression Coefficient: [[-2.90981683e-01 -2.39494869e-01  1.20605658e-01 -4.46864103e-02\n",
      "  -1.77380567e-01  9.33355749e-02  4.64534901e-03  1.82344515e-02\n",
      "   2.41123229e-01  3.66215617e-01 -2.51145035e-01  1.07436511e-01\n",
      "   7.66391295e-02  2.13631312e-02  8.83433504e-02  4.47363858e-02\n",
      "   0.00000000e+00  1.90894303e-03  1.23503031e-01  1.90894303e-03\n",
      "  -1.58690491e-03 -1.24579015e-01  0.00000000e+00 -3.25159298e-01\n",
      "   0.00000000e+00 -1.45101636e-01  0.00000000e+00  7.98163586e-01\n",
      "   0.00000000e+00 -5.35010920e-01 -6.57602378e-01 -4.93489870e-01\n",
      "  -5.27740017e-01 -2.67095294e-01 -1.76984073e-01 -3.81070128e-01\n",
      "   1.45818271e-01  6.15254514e-01  6.89091224e-01  7.61921264e-01\n",
      "   5.50280090e-01  4.46966814e-01  4.50268033e-01  4.20930769e-01\n",
      "   3.64039416e-01 -2.12861050e-01  2.55178077e-01 -1.60453802e-01\n",
      "   1.26126812e-01 -1.19745867e-03 -5.79895061e-01  9.20801593e-02\n",
      "  -4.43876973e-02 -4.58541676e-01  2.23141936e-01  0.00000000e+00\n",
      "   0.00000000e+00  3.06943614e-01 -1.28844099e-01 -1.63217861e-01\n",
      "   5.82113219e-02 -2.26516572e-01  1.77216837e-01  6.48620073e-02\n",
      "  -2.09348836e-03  1.40498753e-01  2.54497747e-02  2.31142326e-01\n",
      "   8.00915919e-02  4.10735837e-02  1.19141583e-01 -3.94229083e-01\n",
      "  -2.77755827e-01 -2.00760919e-01 -2.49272244e-01  1.27235734e-01\n",
      "   2.71753482e-01  1.20522336e-01  5.54465767e-02  9.95696312e-02\n",
      "  -1.79135074e-01 -2.20106632e-01  2.82816705e-02  2.80790282e-02\n",
      "  -2.02753972e-01  1.05116436e-01 -3.63633984e-03 -3.25599791e-01\n",
      "  -1.48616750e-01  1.38202115e-01 -3.71203967e-01  5.79716999e-02\n",
      "   1.23353878e-01 -3.62563203e-03 -1.79404819e-01 -1.73845475e-01\n",
      "   1.87736789e-01  3.80269390e-02 -1.48012109e-01  1.20843083e-01\n",
      "  -3.57515346e-03  2.81946420e-02  5.65392799e-02  0.00000000e+00\n",
      "   1.27916449e-01  4.97951935e-02 -4.14956721e-02  6.84004518e-02\n",
      "  -2.00992673e-01 -1.69053274e-01  5.01282361e-02  6.84351963e-02\n",
      "  -1.66270466e-01 -7.53743591e-02 -2.50265928e-01 -1.12878033e-01\n",
      "  -6.82776786e-04  3.10694056e-02 -2.29184630e-01  1.97791621e-01\n",
      "   1.73052184e-02  2.20914325e-02  4.03573799e-02  1.19134076e-01\n",
      "  -2.18495616e-01  8.95172246e-02  2.39138968e-01  0.00000000e+00\n",
      "   0.00000000e+00  0.00000000e+00  3.66829341e-02 -1.99022943e-01\n",
      "   6.80670025e-02 -1.06344510e-01  1.19522045e-01  1.46841360e-01\n",
      "  -1.90453765e-01 -2.82174492e-01 -2.26305287e-01 -7.16242306e-02\n",
      "   8.36583645e-02  6.16711373e-02  1.06944826e-01  1.76827932e-01\n",
      "   1.24041872e-01  0.00000000e+00 -1.55980779e-01  9.22315273e-02\n",
      "   1.39090101e-01 -1.77880844e-01 -2.03376490e-01  8.41582962e-02\n",
      "  -6.35078680e-02 -3.13025343e-01 -2.02184295e-01  1.63367788e-01\n",
      "  -2.41134806e-01 -1.29086873e-01 -1.53346927e-01  1.24901384e-01\n",
      "  -3.23224478e-02 -2.30650564e-01  8.83213569e-02  1.10196800e-01\n",
      "  -1.99343105e-01 -1.68861220e-01  4.89063729e-02  5.94655504e-02\n",
      "   1.44138965e-01 -2.04591267e-01  2.67402795e-02  8.93285867e-03\n",
      "   0.00000000e+00  0.00000000e+00 -1.87518717e-01  4.11822878e-02\n",
      "  -2.69699367e-02  1.13408964e-01  1.32196151e-01  0.00000000e+00\n",
      "   0.00000000e+00  0.00000000e+00 -1.95308666e-01  8.50648640e-02\n",
      "   1.41916701e-01  3.29677917e-02  2.05666120e-01  3.02950986e-02\n",
      "   2.25505211e-01  7.73692527e-03  1.19319136e-01  1.89798649e-01\n",
      "  -6.67804224e-02  1.83968737e-01  1.53958030e-01 -2.39235522e-01\n",
      "   1.19088470e-01  0.00000000e+00  1.33539535e-01  2.35502107e-02\n",
      "  -5.97249376e-02 -9.42238136e-02  3.61613264e-01  2.00755943e-01\n",
      "   0.00000000e+00  4.30731017e-01  1.22159241e-01  0.00000000e+00\n",
      "  -5.03312975e-02 -1.03336786e-03 -6.00313297e-02  1.82695859e-01\n",
      "  -5.41623340e-01  5.12570867e-02  0.00000000e+00  1.13472997e-01\n",
      "   3.02175293e-02  4.63834309e-02  1.91220759e-01 -1.63172416e-01\n",
      "  -7.72318991e-02 -6.24454804e-02  1.40372791e-01  1.49743529e-01\n",
      "  -1.06472912e-01  2.79906063e-03 -2.58759638e-02 -1.40257419e-01\n",
      "   1.51000867e-01 -1.08108130e-01  0.00000000e+00  2.20324990e-02\n",
      "  -1.84939167e-02  0.00000000e+00  0.00000000e+00  2.51288001e-01\n",
      "   0.00000000e+00 -3.96945170e-02]]\n"
     ]
    },
    {
     "name": "stderr",
     "output_type": "stream",
     "text": [
      "C:\\Users\\deang\\anaconda3\\envs\\dsi\\lib\\site-packages\\sklearn\\linear_model\\_logistic.py:814: ConvergenceWarning: lbfgs failed to converge (status=1):\n",
      "STOP: TOTAL NO. of ITERATIONS REACHED LIMIT.\n",
      "\n",
      "Increase the number of iterations (max_iter) or scale the data as shown in:\n",
      "    https://scikit-learn.org/stable/modules/preprocessing.html\n",
      "Please also refer to the documentation for alternative solver options:\n",
      "    https://scikit-learn.org/stable/modules/linear_model.html#logistic-regression\n",
      "  n_iter_i = _check_optimize_result(\n"
     ]
    }
   ],
   "source": [
    "# Instantiate model\n",
    "logreg = LogisticRegression()\n",
    "\n",
    "# Fit model\n",
    "logreg.fit(Xs_train, y_train)\n",
    "\n",
    "print(f'Logistic Regression Intercept: {logreg.intercept_}')\n",
    "print(f'Logistic Regression Coefficient: {logreg.coef_}')"
   ]
  },
  {
   "cell_type": "code",
   "execution_count": 18,
   "id": "ab9ae47b",
   "metadata": {},
   "outputs": [
    {
     "data": {
      "text/html": [
       "<div>\n",
       "<style scoped>\n",
       "    .dataframe tbody tr th:only-of-type {\n",
       "        vertical-align: middle;\n",
       "    }\n",
       "\n",
       "    .dataframe tbody tr th {\n",
       "        vertical-align: top;\n",
       "    }\n",
       "\n",
       "    .dataframe thead th {\n",
       "        text-align: right;\n",
       "    }\n",
       "</style>\n",
       "<table border=\"1\" class=\"dataframe\">\n",
       "  <thead>\n",
       "    <tr style=\"text-align: right;\">\n",
       "      <th></th>\n",
       "      <th>variable</th>\n",
       "      <th>coef</th>\n",
       "      <th>abs_coef</th>\n",
       "    </tr>\n",
       "  </thead>\n",
       "  <tbody>\n",
       "    <tr>\n",
       "      <th>27</th>\n",
       "      <td>year_2013</td>\n",
       "      <td>0.798164</td>\n",
       "      <td>0.798164</td>\n",
       "    </tr>\n",
       "    <tr>\n",
       "      <th>39</th>\n",
       "      <td>week_33</td>\n",
       "      <td>0.761921</td>\n",
       "      <td>0.761921</td>\n",
       "    </tr>\n",
       "    <tr>\n",
       "      <th>38</th>\n",
       "      <td>week_32</td>\n",
       "      <td>0.689091</td>\n",
       "      <td>0.689091</td>\n",
       "    </tr>\n",
       "    <tr>\n",
       "      <th>30</th>\n",
       "      <td>week_24</td>\n",
       "      <td>-0.657602</td>\n",
       "      <td>0.657602</td>\n",
       "    </tr>\n",
       "    <tr>\n",
       "      <th>37</th>\n",
       "      <td>week_31</td>\n",
       "      <td>0.615255</td>\n",
       "      <td>0.615255</td>\n",
       "    </tr>\n",
       "    <tr>\n",
       "      <th>50</th>\n",
       "      <td>dayofweek_3</td>\n",
       "      <td>-0.579895</td>\n",
       "      <td>0.579895</td>\n",
       "    </tr>\n",
       "    <tr>\n",
       "      <th>40</th>\n",
       "      <td>week_34</td>\n",
       "      <td>0.550280</td>\n",
       "      <td>0.550280</td>\n",
       "    </tr>\n",
       "    <tr>\n",
       "      <th>212</th>\n",
       "      <td>codesum_RA BR</td>\n",
       "      <td>-0.541623</td>\n",
       "      <td>0.541623</td>\n",
       "    </tr>\n",
       "    <tr>\n",
       "      <th>29</th>\n",
       "      <td>week_23</td>\n",
       "      <td>-0.535011</td>\n",
       "      <td>0.535011</td>\n",
       "    </tr>\n",
       "    <tr>\n",
       "      <th>32</th>\n",
       "      <td>week_26</td>\n",
       "      <td>-0.527740</td>\n",
       "      <td>0.527740</td>\n",
       "    </tr>\n",
       "    <tr>\n",
       "      <th>31</th>\n",
       "      <td>week_25</td>\n",
       "      <td>-0.493490</td>\n",
       "      <td>0.493490</td>\n",
       "    </tr>\n",
       "    <tr>\n",
       "      <th>53</th>\n",
       "      <td>species_CULEX RESTUANS</td>\n",
       "      <td>-0.458542</td>\n",
       "      <td>0.458542</td>\n",
       "    </tr>\n",
       "    <tr>\n",
       "      <th>42</th>\n",
       "      <td>week_36</td>\n",
       "      <td>0.450268</td>\n",
       "      <td>0.450268</td>\n",
       "    </tr>\n",
       "    <tr>\n",
       "      <th>41</th>\n",
       "      <td>week_35</td>\n",
       "      <td>0.446967</td>\n",
       "      <td>0.446967</td>\n",
       "    </tr>\n",
       "    <tr>\n",
       "      <th>205</th>\n",
       "      <td>codesum_BR</td>\n",
       "      <td>0.430731</td>\n",
       "      <td>0.430731</td>\n",
       "    </tr>\n",
       "    <tr>\n",
       "      <th>43</th>\n",
       "      <td>week_37</td>\n",
       "      <td>0.420931</td>\n",
       "      <td>0.420931</td>\n",
       "    </tr>\n",
       "    <tr>\n",
       "      <th>71</th>\n",
       "      <td>trap_T017</td>\n",
       "      <td>-0.394229</td>\n",
       "      <td>0.394229</td>\n",
       "    </tr>\n",
       "    <tr>\n",
       "      <th>35</th>\n",
       "      <td>week_29</td>\n",
       "      <td>-0.381070</td>\n",
       "      <td>0.381070</td>\n",
       "    </tr>\n",
       "    <tr>\n",
       "      <th>90</th>\n",
       "      <td>trap_T046</td>\n",
       "      <td>-0.371204</td>\n",
       "      <td>0.371204</td>\n",
       "    </tr>\n",
       "    <tr>\n",
       "      <th>9</th>\n",
       "      <td>stnpressure_10</td>\n",
       "      <td>0.366216</td>\n",
       "      <td>0.366216</td>\n",
       "    </tr>\n",
       "  </tbody>\n",
       "</table>\n",
       "</div>"
      ],
      "text/plain": [
       "                   variable      coef  abs_coef\n",
       "27                year_2013  0.798164  0.798164\n",
       "39                  week_33  0.761921  0.761921\n",
       "38                  week_32  0.689091  0.689091\n",
       "30                  week_24 -0.657602  0.657602\n",
       "37                  week_31  0.615255  0.615255\n",
       "50              dayofweek_3 -0.579895  0.579895\n",
       "40                  week_34  0.550280  0.550280\n",
       "212           codesum_RA BR -0.541623  0.541623\n",
       "29                  week_23 -0.535011  0.535011\n",
       "32                  week_26 -0.527740  0.527740\n",
       "31                  week_25 -0.493490  0.493490\n",
       "53   species_CULEX RESTUANS -0.458542  0.458542\n",
       "42                  week_36  0.450268  0.450268\n",
       "41                  week_35  0.446967  0.446967\n",
       "205              codesum_BR  0.430731  0.430731\n",
       "43                  week_37  0.420931  0.420931\n",
       "71                trap_T017 -0.394229  0.394229\n",
       "35                  week_29 -0.381070  0.381070\n",
       "90                trap_T046 -0.371204  0.371204\n",
       "9            stnpressure_10  0.366216  0.366216"
      ]
     },
     "execution_count": 18,
     "metadata": {},
     "output_type": "execute_result"
    }
   ],
   "source": [
    "# Display Coefficients\n",
    "coefs = pd.DataFrame({'variable':X.columns,\n",
    "                            'coef':logreg.coef_[0],\n",
    "                            'abs_coef':np.abs(logreg.coef_[0])\n",
    "                     })\n",
    "\n",
    "coefs.sort_values('abs_coef', inplace=True, ascending=False)\n",
    "coefs.head(20)"
   ]
  },
  {
   "cell_type": "code",
   "execution_count": 19,
   "id": "4c910614",
   "metadata": {},
   "outputs": [
    {
     "data": {
      "text/plain": [
       "(0.9449261400128453, 0.9436416184971098)"
      ]
     },
     "execution_count": 19,
     "metadata": {},
     "output_type": "execute_result"
    }
   ],
   "source": [
    "logreg.score(Xs_train, y_train), logreg.score(Xs_holdout, y_holdout)"
   ]
  },
  {
   "cell_type": "code",
   "execution_count": 20,
   "id": "8740b39f",
   "metadata": {},
   "outputs": [
    {
     "name": "stdout",
     "output_type": "stream",
     "text": [
      "LogisticRegression summary of accuracy scores:\n",
      "\n",
      "Using GridSearchCV best params suggested,\n",
      "Training corpus accuracy = 0.055\n",
      "Testing corpus accuracy = 0.055\n"
     ]
    },
    {
     "name": "stderr",
     "output_type": "stream",
     "text": [
      "C:\\Users\\deang\\anaconda3\\envs\\dsi\\lib\\site-packages\\sklearn\\base.py:443: UserWarning: X has feature names, but LogisticRegression was fitted without feature names\n",
      "  warnings.warn(\n",
      "C:\\Users\\deang\\anaconda3\\envs\\dsi\\lib\\site-packages\\sklearn\\base.py:443: UserWarning: X has feature names, but LogisticRegression was fitted without feature names\n",
      "  warnings.warn(\n"
     ]
    }
   ],
   "source": [
    "# Summary scores of CountVectorizer and LogisticRegression.\n",
    "print(\"LogisticRegression summary of accuracy scores:\")\n",
    "#print(f\"GridSearchCV best accuracy = {round(gs_pipe.best_score_, 3)}\")\n",
    "print(\"\\nUsing GridSearchCV best params suggested,\")\n",
    "print(f\"Training corpus accuracy = {round(logreg.score(X_train, y_train), 3)}\")\n",
    "print(f\"Testing corpus accuracy = {round(logreg.score(X_holdout, y_holdout), 3)}\")"
   ]
  },
  {
   "cell_type": "code",
   "execution_count": null,
   "id": "5582a350",
   "metadata": {},
   "outputs": [],
   "source": []
  },
  {
   "cell_type": "markdown",
   "id": "bb9e391f",
   "metadata": {},
   "source": [
    "### Multinomial NB"
   ]
  },
  {
   "cell_type": "code",
   "execution_count": null,
   "id": "c8569ce3",
   "metadata": {},
   "outputs": [],
   "source": []
  },
  {
   "cell_type": "code",
   "execution_count": null,
   "id": "dc6a61e6",
   "metadata": {},
   "outputs": [],
   "source": []
  },
  {
   "cell_type": "code",
   "execution_count": null,
   "id": "f88d4735",
   "metadata": {},
   "outputs": [],
   "source": []
  },
  {
   "cell_type": "markdown",
   "id": "2e1efe1d",
   "metadata": {},
   "source": [
    "### Random Forest"
   ]
  },
  {
   "cell_type": "code",
   "execution_count": null,
   "id": "c76f9da1",
   "metadata": {},
   "outputs": [],
   "source": []
  },
  {
   "cell_type": "code",
   "execution_count": null,
   "id": "47d787ca",
   "metadata": {},
   "outputs": [],
   "source": []
  },
  {
   "cell_type": "code",
   "execution_count": null,
   "id": "18bcf709",
   "metadata": {},
   "outputs": [],
   "source": []
  },
  {
   "cell_type": "markdown",
   "id": "922fc869",
   "metadata": {},
   "source": [
    "### SVM"
   ]
  },
  {
   "cell_type": "code",
   "execution_count": null,
   "id": "938c8c5d",
   "metadata": {},
   "outputs": [],
   "source": []
  },
  {
   "cell_type": "code",
   "execution_count": null,
   "id": "e3ab1414",
   "metadata": {},
   "outputs": [],
   "source": []
  },
  {
   "cell_type": "code",
   "execution_count": null,
   "id": "3343f55c",
   "metadata": {},
   "outputs": [],
   "source": []
  },
  {
   "cell_type": "markdown",
   "id": "0c20b0a4",
   "metadata": {},
   "source": [
    "### AdaBoostClassifier"
   ]
  },
  {
   "cell_type": "code",
   "execution_count": 48,
   "id": "dd7dcb1f",
   "metadata": {},
   "outputs": [
    {
     "data": {
      "text/plain": [
       "0.9450867052023122"
      ]
     },
     "execution_count": 48,
     "metadata": {},
     "output_type": "execute_result"
    }
   ],
   "source": [
    "ada = AdaBoostClassifier(\n",
    "    n_estimators = 100,\n",
    "    learning_rate = 0.9\n",
    "    # in general, if n_estimators is high, then learning_rate should be low\n",
    "    # but we can use GridSearchCV\n",
    ")\n",
    "ada.fit(X_train, y_train)\n",
    "ada.score(X_holdout, y_holdout)"
   ]
  },
  {
   "cell_type": "code",
   "execution_count": 49,
   "id": "0eaedca3",
   "metadata": {},
   "outputs": [
    {
     "data": {
      "text/plain": [
       "0.9421965317919075"
      ]
     },
     "execution_count": 49,
     "metadata": {},
     "output_type": "execute_result"
    }
   ],
   "source": [
    "ada = AdaBoostClassifier(base_estimator=DecisionTreeClassifier())\n",
    "ada_params = {\n",
    "    'n_estimators': [50,100, 150],\n",
    "    'base_estimator__max_depth': [1,2],\n",
    "    'learning_rate': [.8, .9, 1.]\n",
    "    # you can also tune by all hyperparameters of DecisionTree\n",
    "}\n",
    "gs = GridSearchCV(\n",
    "    ada, \n",
    "    param_grid=ada_params, \n",
    "    cv=5\n",
    ")\n",
    "gs.fit(X_train, y_train)\n",
    "gs.score(X_holdout, y_holdout)"
   ]
  },
  {
   "cell_type": "code",
   "execution_count": 50,
   "id": "6a609211",
   "metadata": {},
   "outputs": [
    {
     "name": "stderr",
     "output_type": "stream",
     "text": [
      "C:\\Users\\xiang\\anaconda3\\envs\\dsitf\\lib\\site-packages\\sklearn\\base.py:451: UserWarning: X does not have valid feature names, but AdaBoostClassifier was fitted with feature names\n",
      "  \"X does not have valid feature names, but\"\n"
     ]
    }
   ],
   "source": [
    "tn, fp, fn, tp = confusion_matrix(y_holdout, gs.predict(Xs_holdout)).ravel()"
   ]
  },
  {
   "cell_type": "code",
   "execution_count": 51,
   "id": "5bb069f7",
   "metadata": {},
   "outputs": [
    {
     "data": {
      "text/plain": [
       "0.0"
      ]
     },
     "execution_count": 51,
     "metadata": {},
     "output_type": "execute_result"
    }
   ],
   "source": [
    "sensitivity = tp / (tp + fn)\n",
    "sensitivity"
   ]
  },
  {
   "cell_type": "code",
   "execution_count": 52,
   "id": "075b773c",
   "metadata": {},
   "outputs": [
    {
     "name": "stderr",
     "output_type": "stream",
     "text": [
      "C:\\Users\\xiang\\anaconda3\\envs\\dsitf\\lib\\site-packages\\ipykernel_launcher.py:1: RuntimeWarning: invalid value encountered in longlong_scalars\n",
      "  \"\"\"Entry point for launching an IPython kernel.\n"
     ]
    },
    {
     "data": {
      "text/plain": [
       "nan"
      ]
     },
     "execution_count": 52,
     "metadata": {},
     "output_type": "execute_result"
    }
   ],
   "source": [
    "precision = tp / (tp + fp)\n",
    "precision"
   ]
  },
  {
   "cell_type": "code",
   "execution_count": null,
   "id": "3eaa1f78",
   "metadata": {},
   "outputs": [],
   "source": []
  },
  {
   "cell_type": "code",
   "execution_count": null,
   "id": "b46b4c1e",
   "metadata": {},
   "outputs": [],
   "source": [
    "ada = AdaBoostClassifier(\n",
    "    n_estimators = 100,\n",
    "    learning_rate = 0.9\n",
    "    # in general, if n_estimators is high, then learning_rate should be low\n",
    "    # but we can use GridSearchCV\n",
    ")\n",
    "ada.fit(Xsm_train, ysm_train)\n",
    "ada.score(Xs_holdout, y_holdout)"
   ]
  },
  {
   "cell_type": "code",
   "execution_count": null,
   "id": "efaf83be",
   "metadata": {},
   "outputs": [],
   "source": [
    "ada = AdaBoostClassifier(base_estimator=DecisionTreeClassifier())\n",
    "ada_params = {\n",
    "    'n_estimators': [50, 100, 150],\n",
    "    'base_estimator__max_depth': [1,2],\n",
    "    'learning_rate': [.8, .9, 1.]\n",
    "    # you can also tune by all hyperparameters of DecisionTree\n",
    "}\n",
    "gs = GridSearchCV(\n",
    "    ada, \n",
    "    param_grid=ada_params, \n",
    "    cv=5\n",
    ")\n",
    "gs.fit(Xsm_train, ysm_train)\n",
    "gs.score(Xs_holdout, y_holdout)"
   ]
  },
  {
   "cell_type": "code",
   "execution_count": null,
   "id": "9ff7b615",
   "metadata": {},
   "outputs": [],
   "source": [
    "tn, fp, fn, tp = confusion_matrix(y_holdout, gs.predict(Xs_holdout)).ravel()"
   ]
  },
  {
   "cell_type": "code",
   "execution_count": null,
   "id": "10c948a6",
   "metadata": {},
   "outputs": [],
   "source": [
    "sensitivity = tp / (tp + fn)\n",
    "sensitivity"
   ]
  },
  {
   "cell_type": "code",
   "execution_count": null,
   "id": "94fee458",
   "metadata": {},
   "outputs": [],
   "source": [
    "precision = tp / (tp + fp)\n",
    "precision"
   ]
  },
  {
   "cell_type": "code",
   "execution_count": null,
   "id": "031c15ec",
   "metadata": {},
   "outputs": [],
   "source": [
    "model_metrics(gs, Xsm_train, ysm_train, Xs_holdout, y_holdout, 'ADA Boost Classifier')"
   ]
  },
  {
   "cell_type": "code",
   "execution_count": null,
   "id": "1581f852",
   "metadata": {},
   "outputs": [],
   "source": [
    "summary_df"
   ]
  },
  {
   "cell_type": "code",
   "execution_count": null,
   "id": "e30410c9",
   "metadata": {},
   "outputs": [],
   "source": [
    "print(gs.best_score_)\n",
    "gs.best_params_"
   ]
  },
  {
   "cell_type": "code",
   "execution_count": null,
   "id": "90a96584",
   "metadata": {},
   "outputs": [],
   "source": [
    "pd.Series(gs.best_estimator_.feature_importances_).plot.bar()"
   ]
  },
  {
   "cell_type": "markdown",
   "id": "ee9779eb",
   "metadata": {},
   "source": [
    "### Gradient Boosting Classifier"
   ]
  },
  {
   "cell_type": "code",
   "execution_count": null,
   "id": "cdd856eb",
   "metadata": {},
   "outputs": [],
   "source": [
    "gboost = GradientBoostingClassifier()\n",
    "gboost_params = {\n",
    "    'max_depth': [2, 3, 4],\n",
    "    'n_estimators': [100, 125, 150],\n",
    "    'learning_rate': [.08, .1, .12]\n",
    "}\n",
    "gb_gs = GridSearchCV(\n",
    "    gboost, \n",
    "    param_grid=gboost_params, \n",
    "    cv=3\n",
    ")\n",
    "gb_gs.fit(Xsm_train, ysm_train)\n",
    "gb_gs.score(Xs_holdout, y_holdout)"
   ]
  },
  {
   "cell_type": "code",
   "execution_count": null,
   "id": "80a3a5cc",
   "metadata": {},
   "outputs": [],
   "source": [
    "print(gb_gs.best_score_)\n",
    "gb_gs.best_params_"
   ]
  },
  {
   "cell_type": "code",
   "execution_count": null,
   "id": "be8c7f21",
   "metadata": {},
   "outputs": [],
   "source": [
    "tn, fp, fn, tp = confusion_matrix(y_holdout, gb_gs.predict(Xs_holdout)).ravel()"
   ]
  },
  {
   "cell_type": "code",
   "execution_count": null,
   "id": "3d1c640a",
   "metadata": {},
   "outputs": [],
   "source": [
    "sensitivity = tp / (tp + fn)\n",
    "sensitivity"
   ]
  },
  {
   "cell_type": "code",
   "execution_count": null,
   "id": "324050d2",
   "metadata": {},
   "outputs": [],
   "source": [
    "precision = tp / (tp + fp)\n",
    "precision"
   ]
  },
  {
   "cell_type": "code",
   "execution_count": null,
   "id": "bd98a1a8",
   "metadata": {},
   "outputs": [],
   "source": [
    "confusion_matrix(y_holdout, gb_gs.predict(Xs_holdout))"
   ]
  },
  {
   "cell_type": "code",
   "execution_count": null,
   "id": "e2cfe9b5",
   "metadata": {},
   "outputs": [],
   "source": [
    "model_metrics(gb_gs, X_train, y_train, X_holdout, y_holdout, 'Gradient Boosting Classifier')"
   ]
  },
  {
   "cell_type": "markdown",
   "id": "4e920531",
   "metadata": {},
   "source": [
    "### Neutro Network"
   ]
  },
  {
   "cell_type": "code",
   "execution_count": null,
   "id": "3debad69",
   "metadata": {},
   "outputs": [],
   "source": [
    "model = Sequential()\n",
    "model.add(Dense(32,\n",
    "                input_shape=(238,),\n",
    "                activation='relu'))\n",
    "model.add(Dense(1, activation='sigmoid'))"
   ]
  },
  {
   "cell_type": "code",
   "execution_count": null,
   "id": "e9073342",
   "metadata": {},
   "outputs": [],
   "source": [
    "model.compile(loss='binary_crossentropy', metrics=['accuracy'], optimizer='adam')"
   ]
  },
  {
   "cell_type": "code",
   "execution_count": null,
   "id": "97e81448",
   "metadata": {},
   "outputs": [],
   "source": [
    "history = model.fit(Xsm_train, ysm_train, validation_data=(Xs_holdout, y_holdout), epochs=10, batch_size=512, verbose=0)"
   ]
  },
  {
   "cell_type": "code",
   "execution_count": null,
   "id": "88ed0f3e",
   "metadata": {},
   "outputs": [],
   "source": [
    "pd.DataFrame(model.predict_classes(Xs_holdout))[0].value_counts()"
   ]
  },
  {
   "cell_type": "code",
   "execution_count": null,
   "id": "3ba8fb71",
   "metadata": {},
   "outputs": [],
   "source": [
    "plt.plot(history.history['loss'], label='Train loss')\n",
    "plt.plot(history.history['val_loss'], label='Val Loss')\n",
    "plt.legend();"
   ]
  },
  {
   "cell_type": "code",
   "execution_count": null,
   "id": "c935b87d",
   "metadata": {},
   "outputs": [],
   "source": [
    "plt.plot(history.history['accuracy'], label='Train accuracy')\n",
    "plt.plot(history.history['val_accuracy'], label='Val accuracy')\n",
    "plt.legend();"
   ]
  },
  {
   "cell_type": "code",
   "execution_count": null,
   "id": "0e7798d1",
   "metadata": {},
   "outputs": [],
   "source": []
  },
  {
   "cell_type": "markdown",
   "id": "bb68f689",
   "metadata": {},
   "source": [
    "### AUC-ROC Curve"
   ]
  },
  {
   "cell_type": "code",
   "execution_count": null,
   "id": "3a5563ae",
   "metadata": {},
   "outputs": [],
   "source": [
    "fig, ax = plt.subplots(1, 1, figsize=(12,10))\n",
    "plot_roc_curve(cvec_lr_gs, X_test, y_test, ax=ax, name='LogisticRegression-CVEC(GS)', color='lightgrey')\n",
    "plot_roc_curve(cvec_nb_gs, X_test, y_test, ax=ax, name='MultinomialNB-CVEC(GS)', color='lightgrey')\n",
    "plot_roc_curve(tvec_svc_gs, X_test, y_test, ax=ax, name='SupportVectorClassifier-TVEC(GS)', color='lightgrey')\n",
    "plot_roc_curve(tvec_lr_gs, X_test, y_test, ax=ax, name='LogisticRegression-TVEC(GS)', color='blue')\n",
    "plt.plot([0, 1], [0, 1], color='black', lw=2, linestyle='--', label='Random Guess')\n",
    "plt.legend()"
   ]
  },
  {
   "cell_type": "code",
   "execution_count": null,
   "id": "e282f9ae",
   "metadata": {},
   "outputs": [],
   "source": []
  }
 ],
 "metadata": {
  "kernelspec": {
   "display_name": "Python 3 (ipykernel)",
   "language": "python",
   "name": "python3"
  },
  "language_info": {
   "codemirror_mode": {
    "name": "ipython",
    "version": 3
   },
   "file_extension": ".py",
   "mimetype": "text/x-python",
   "name": "python",
   "nbconvert_exporter": "python",
   "pygments_lexer": "ipython3",
   "version": "3.7.13"
  }
 },
 "nbformat": 4,
 "nbformat_minor": 5
}
