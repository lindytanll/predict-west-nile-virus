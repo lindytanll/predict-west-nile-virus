{
 "cells": [
  {
   "cell_type": "markdown",
   "id": "17eb5c7b",
   "metadata": {},
   "source": [
    "# Project 4: Predict West Nile Virus\n",
    "### Section 5. Model Exploration"
   ]
  },
  {
   "cell_type": "markdown",
   "id": "b70e632a",
   "metadata": {},
   "source": [
    "## Problem Statement\n",
    "\n",
    "1. As an employee of Disease And Treatment Agency, division of Societal Cures In Epidemiology and New Creative Engineering (DATA-SCIENCE), we are tasked to better understand the mosquito population and advise on appropriate interventions which are beneficial and cost-effective for the city.\n",
    "\n",
    "\n",
    "2. Through this project, we hope to:\n",
    "- Identify features which are most important to predict presence of West Nile Virus (which can be done by ranking the coefficients of each feature in a logistic regression model)\n",
    "- Predict the probability of West Nile Virus by location to provide decision makers an effective plan to deploy pesticides throughout the city, which consequently can help to reduce cost."
   ]
  },
  {
   "cell_type": "markdown",
   "id": "ae082b06",
   "metadata": {},
   "source": [
    "## Import Libraries"
   ]
  },
  {
   "cell_type": "code",
   "execution_count": 1,
   "id": "7909f27f",
   "metadata": {},
   "outputs": [],
   "source": [
    "#!pip install shapely\n",
    "import pandas as pd\n",
    "import matplotlib.pyplot as plt\n",
    "import seaborn as sns\n",
    "import numpy as np\n",
    "# from shapely import geometry\n",
    "# from shapely.geometry import Point, Polygon\n",
    "# import geopandas as gpd\n",
    "# from datetime import timedelta\n",
    "# import math\n",
    "\n",
    "from sklearn.preprocessing import StandardScaler\n",
    "from sklearn.model_selection import train_test_split, GridSearchCV, RandomizedSearchCV\n",
    "from sklearn.pipeline import Pipeline\n",
    "from sklearn.linear_model import LogisticRegression\n",
    "from sklearn.naive_bayes import MultinomialNB\n",
    "from sklearn.ensemble import RandomForestClassifier\n",
    "from sklearn.svm import SVC\n",
    "from sklearn.metrics import (confusion_matrix, plot_confusion_matrix, classification_report, \n",
    "                             plot_roc_curve, roc_auc_score, accuracy_score, precision_score, \n",
    "                             recall_score, f1_score)"
   ]
  },
  {
   "cell_type": "markdown",
   "id": "d9c25ebe",
   "metadata": {},
   "source": [
    "## Load Data"
   ]
  },
  {
   "cell_type": "code",
   "execution_count": 2,
   "id": "4ab149da",
   "metadata": {},
   "outputs": [],
   "source": [
    "# Load datasets\n",
    "df = pd.read_csv('../data/final_df.csv', index_col='Unnamed: 0')"
   ]
  },
  {
   "cell_type": "code",
   "execution_count": 3,
   "id": "4903760a",
   "metadata": {},
   "outputs": [
    {
     "name": "stdout",
     "output_type": "stream",
     "text": [
      "(8304, 240)\n",
      "(43035, 240)\n"
     ]
    }
   ],
   "source": [
    "# Split into train and test (kaggle) data \n",
    "train = df[df['dataset']=='train'].copy()\n",
    "test = df[df['dataset']=='test'].copy()\n",
    "print(train.shape)\n",
    "print(test.shape)"
   ]
  },
  {
   "cell_type": "code",
   "execution_count": 4,
   "id": "6d36cf6c",
   "metadata": {},
   "outputs": [],
   "source": [
    "train.drop(columns='dataset', inplace=True)\n",
    "test.drop(columns='dataset', inplace=True)"
   ]
  },
  {
   "cell_type": "code",
   "execution_count": 5,
   "id": "81c44181",
   "metadata": {
    "scrolled": true
   },
   "outputs": [
    {
     "data": {
      "text/html": [
       "<div>\n",
       "<style scoped>\n",
       "    .dataframe tbody tr th:only-of-type {\n",
       "        vertical-align: middle;\n",
       "    }\n",
       "\n",
       "    .dataframe tbody tr th {\n",
       "        vertical-align: top;\n",
       "    }\n",
       "\n",
       "    .dataframe thead th {\n",
       "        text-align: right;\n",
       "    }\n",
       "</style>\n",
       "<table border=\"1\" class=\"dataframe\">\n",
       "  <thead>\n",
       "    <tr style=\"text-align: right;\">\n",
       "      <th></th>\n",
       "      <th>latitude</th>\n",
       "      <th>longitude</th>\n",
       "      <th>tavg</th>\n",
       "      <th>preciptotal</th>\n",
       "      <th>stnpressure</th>\n",
       "      <th>resultdir</th>\n",
       "      <th>avgspeed</th>\n",
       "      <th>is_spray</th>\n",
       "      <th>stnpressure_7</th>\n",
       "      <th>stnpressure_10</th>\n",
       "      <th>...</th>\n",
       "      <th>codesum_TSRA BR HZ VCTS</th>\n",
       "      <th>codesum_TSRA FG+ BR HZ</th>\n",
       "      <th>codesum_TSRA RA</th>\n",
       "      <th>codesum_TSRA RA BR</th>\n",
       "      <th>codesum_TSRA RA BR HZ</th>\n",
       "      <th>codesum_TSRA RA BR HZ VCTS</th>\n",
       "      <th>codesum_TSRA RA BR VCTS</th>\n",
       "      <th>codesum_TSRA RA VCTS</th>\n",
       "      <th>codesum_VCTS</th>\n",
       "      <th>wnvpresent</th>\n",
       "    </tr>\n",
       "  </thead>\n",
       "  <tbody>\n",
       "    <tr>\n",
       "      <th>count</th>\n",
       "      <td>8304.000000</td>\n",
       "      <td>8304.000000</td>\n",
       "      <td>8304.000000</td>\n",
       "      <td>8304.000000</td>\n",
       "      <td>8304.000000</td>\n",
       "      <td>8304.000000</td>\n",
       "      <td>8304.000000</td>\n",
       "      <td>8304.000000</td>\n",
       "      <td>8304.000000</td>\n",
       "      <td>8304.000000</td>\n",
       "      <td>...</td>\n",
       "      <td>8304.000000</td>\n",
       "      <td>8304.0</td>\n",
       "      <td>8304.000000</td>\n",
       "      <td>8304.000000</td>\n",
       "      <td>8304.0</td>\n",
       "      <td>8304.0</td>\n",
       "      <td>8304.000000</td>\n",
       "      <td>8304.0</td>\n",
       "      <td>8304.000000</td>\n",
       "      <td>8304.000000</td>\n",
       "    </tr>\n",
       "    <tr>\n",
       "      <th>mean</th>\n",
       "      <td>41.845800</td>\n",
       "      <td>-87.696229</td>\n",
       "      <td>72.093931</td>\n",
       "      <td>0.182431</td>\n",
       "      <td>29.262110</td>\n",
       "      <td>17.842245</td>\n",
       "      <td>7.476903</td>\n",
       "      <td>0.008911</td>\n",
       "      <td>29.267480</td>\n",
       "      <td>29.251286</td>\n",
       "      <td>...</td>\n",
       "      <td>0.006142</td>\n",
       "      <td>0.0</td>\n",
       "      <td>0.029383</td>\n",
       "      <td>0.037211</td>\n",
       "      <td>0.0</td>\n",
       "      <td>0.0</td>\n",
       "      <td>0.010597</td>\n",
       "      <td>0.0</td>\n",
       "      <td>0.003974</td>\n",
       "      <td>0.055034</td>\n",
       "    </tr>\n",
       "    <tr>\n",
       "      <th>std</th>\n",
       "      <td>0.106658</td>\n",
       "      <td>0.084440</td>\n",
       "      <td>7.630330</td>\n",
       "      <td>0.470450</td>\n",
       "      <td>0.118606</td>\n",
       "      <td>9.433945</td>\n",
       "      <td>2.543438</td>\n",
       "      <td>0.093984</td>\n",
       "      <td>0.131598</td>\n",
       "      <td>0.131994</td>\n",
       "      <td>...</td>\n",
       "      <td>0.078132</td>\n",
       "      <td>0.0</td>\n",
       "      <td>0.168889</td>\n",
       "      <td>0.189290</td>\n",
       "      <td>0.0</td>\n",
       "      <td>0.0</td>\n",
       "      <td>0.102402</td>\n",
       "      <td>0.0</td>\n",
       "      <td>0.062918</td>\n",
       "      <td>0.228060</td>\n",
       "    </tr>\n",
       "    <tr>\n",
       "      <th>min</th>\n",
       "      <td>41.644612</td>\n",
       "      <td>-87.930995</td>\n",
       "      <td>50.000000</td>\n",
       "      <td>0.000000</td>\n",
       "      <td>28.890000</td>\n",
       "      <td>1.000000</td>\n",
       "      <td>2.100000</td>\n",
       "      <td>0.000000</td>\n",
       "      <td>28.890000</td>\n",
       "      <td>28.920000</td>\n",
       "      <td>...</td>\n",
       "      <td>0.000000</td>\n",
       "      <td>0.0</td>\n",
       "      <td>0.000000</td>\n",
       "      <td>0.000000</td>\n",
       "      <td>0.0</td>\n",
       "      <td>0.0</td>\n",
       "      <td>0.000000</td>\n",
       "      <td>0.0</td>\n",
       "      <td>0.000000</td>\n",
       "      <td>0.000000</td>\n",
       "    </tr>\n",
       "    <tr>\n",
       "      <th>25%</th>\n",
       "      <td>41.750498</td>\n",
       "      <td>-87.752411</td>\n",
       "      <td>69.000000</td>\n",
       "      <td>0.000000</td>\n",
       "      <td>29.180000</td>\n",
       "      <td>8.000000</td>\n",
       "      <td>5.800000</td>\n",
       "      <td>0.000000</td>\n",
       "      <td>29.180000</td>\n",
       "      <td>29.160000</td>\n",
       "      <td>...</td>\n",
       "      <td>0.000000</td>\n",
       "      <td>0.0</td>\n",
       "      <td>0.000000</td>\n",
       "      <td>0.000000</td>\n",
       "      <td>0.0</td>\n",
       "      <td>0.0</td>\n",
       "      <td>0.000000</td>\n",
       "      <td>0.0</td>\n",
       "      <td>0.000000</td>\n",
       "      <td>0.000000</td>\n",
       "    </tr>\n",
       "    <tr>\n",
       "      <th>50%</th>\n",
       "      <td>41.862292</td>\n",
       "      <td>-87.696269</td>\n",
       "      <td>73.000000</td>\n",
       "      <td>0.000000</td>\n",
       "      <td>29.260000</td>\n",
       "      <td>19.000000</td>\n",
       "      <td>7.100000</td>\n",
       "      <td>0.000000</td>\n",
       "      <td>29.280000</td>\n",
       "      <td>29.260000</td>\n",
       "      <td>...</td>\n",
       "      <td>0.000000</td>\n",
       "      <td>0.0</td>\n",
       "      <td>0.000000</td>\n",
       "      <td>0.000000</td>\n",
       "      <td>0.0</td>\n",
       "      <td>0.0</td>\n",
       "      <td>0.000000</td>\n",
       "      <td>0.0</td>\n",
       "      <td>0.000000</td>\n",
       "      <td>0.000000</td>\n",
       "    </tr>\n",
       "    <tr>\n",
       "      <th>75%</th>\n",
       "      <td>41.947227</td>\n",
       "      <td>-87.648064</td>\n",
       "      <td>78.000000</td>\n",
       "      <td>0.160000</td>\n",
       "      <td>29.340000</td>\n",
       "      <td>25.000000</td>\n",
       "      <td>9.400000</td>\n",
       "      <td>0.000000</td>\n",
       "      <td>29.340000</td>\n",
       "      <td>29.340000</td>\n",
       "      <td>...</td>\n",
       "      <td>0.000000</td>\n",
       "      <td>0.0</td>\n",
       "      <td>0.000000</td>\n",
       "      <td>0.000000</td>\n",
       "      <td>0.0</td>\n",
       "      <td>0.0</td>\n",
       "      <td>0.000000</td>\n",
       "      <td>0.0</td>\n",
       "      <td>0.000000</td>\n",
       "      <td>0.000000</td>\n",
       "    </tr>\n",
       "    <tr>\n",
       "      <th>max</th>\n",
       "      <td>42.017430</td>\n",
       "      <td>-87.531635</td>\n",
       "      <td>87.000000</td>\n",
       "      <td>3.970000</td>\n",
       "      <td>29.650000</td>\n",
       "      <td>36.000000</td>\n",
       "      <td>16.300000</td>\n",
       "      <td>1.000000</td>\n",
       "      <td>29.700000</td>\n",
       "      <td>29.670000</td>\n",
       "      <td>...</td>\n",
       "      <td>1.000000</td>\n",
       "      <td>0.0</td>\n",
       "      <td>1.000000</td>\n",
       "      <td>1.000000</td>\n",
       "      <td>0.0</td>\n",
       "      <td>0.0</td>\n",
       "      <td>1.000000</td>\n",
       "      <td>0.0</td>\n",
       "      <td>1.000000</td>\n",
       "      <td>1.000000</td>\n",
       "    </tr>\n",
       "  </tbody>\n",
       "</table>\n",
       "<p>8 rows × 239 columns</p>\n",
       "</div>"
      ],
      "text/plain": [
       "          latitude    longitude         tavg  preciptotal  stnpressure  \\\n",
       "count  8304.000000  8304.000000  8304.000000  8304.000000  8304.000000   \n",
       "mean     41.845800   -87.696229    72.093931     0.182431    29.262110   \n",
       "std       0.106658     0.084440     7.630330     0.470450     0.118606   \n",
       "min      41.644612   -87.930995    50.000000     0.000000    28.890000   \n",
       "25%      41.750498   -87.752411    69.000000     0.000000    29.180000   \n",
       "50%      41.862292   -87.696269    73.000000     0.000000    29.260000   \n",
       "75%      41.947227   -87.648064    78.000000     0.160000    29.340000   \n",
       "max      42.017430   -87.531635    87.000000     3.970000    29.650000   \n",
       "\n",
       "         resultdir     avgspeed     is_spray  stnpressure_7  stnpressure_10  \\\n",
       "count  8304.000000  8304.000000  8304.000000    8304.000000     8304.000000   \n",
       "mean     17.842245     7.476903     0.008911      29.267480       29.251286   \n",
       "std       9.433945     2.543438     0.093984       0.131598        0.131994   \n",
       "min       1.000000     2.100000     0.000000      28.890000       28.920000   \n",
       "25%       8.000000     5.800000     0.000000      29.180000       29.160000   \n",
       "50%      19.000000     7.100000     0.000000      29.280000       29.260000   \n",
       "75%      25.000000     9.400000     0.000000      29.340000       29.340000   \n",
       "max      36.000000    16.300000     1.000000      29.700000       29.670000   \n",
       "\n",
       "       ...  codesum_TSRA BR HZ VCTS  codesum_TSRA FG+ BR HZ  codesum_TSRA RA  \\\n",
       "count  ...              8304.000000                  8304.0      8304.000000   \n",
       "mean   ...                 0.006142                     0.0         0.029383   \n",
       "std    ...                 0.078132                     0.0         0.168889   \n",
       "min    ...                 0.000000                     0.0         0.000000   \n",
       "25%    ...                 0.000000                     0.0         0.000000   \n",
       "50%    ...                 0.000000                     0.0         0.000000   \n",
       "75%    ...                 0.000000                     0.0         0.000000   \n",
       "max    ...                 1.000000                     0.0         1.000000   \n",
       "\n",
       "       codesum_TSRA RA BR  codesum_TSRA RA BR HZ  codesum_TSRA RA BR HZ VCTS  \\\n",
       "count         8304.000000                 8304.0                      8304.0   \n",
       "mean             0.037211                    0.0                         0.0   \n",
       "std              0.189290                    0.0                         0.0   \n",
       "min              0.000000                    0.0                         0.0   \n",
       "25%              0.000000                    0.0                         0.0   \n",
       "50%              0.000000                    0.0                         0.0   \n",
       "75%              0.000000                    0.0                         0.0   \n",
       "max              1.000000                    0.0                         0.0   \n",
       "\n",
       "       codesum_TSRA RA BR VCTS  codesum_TSRA RA VCTS  codesum_VCTS  \\\n",
       "count              8304.000000                8304.0   8304.000000   \n",
       "mean                  0.010597                   0.0      0.003974   \n",
       "std                   0.102402                   0.0      0.062918   \n",
       "min                   0.000000                   0.0      0.000000   \n",
       "25%                   0.000000                   0.0      0.000000   \n",
       "50%                   0.000000                   0.0      0.000000   \n",
       "75%                   0.000000                   0.0      0.000000   \n",
       "max                   1.000000                   0.0      1.000000   \n",
       "\n",
       "        wnvpresent  \n",
       "count  8304.000000  \n",
       "mean      0.055034  \n",
       "std       0.228060  \n",
       "min       0.000000  \n",
       "25%       0.000000  \n",
       "50%       0.000000  \n",
       "75%       0.000000  \n",
       "max       1.000000  \n",
       "\n",
       "[8 rows x 239 columns]"
      ]
     },
     "execution_count": 5,
     "metadata": {},
     "output_type": "execute_result"
    }
   ],
   "source": [
    "train.describe()"
   ]
  },
  {
   "cell_type": "code",
   "execution_count": 6,
   "id": "2b99df22",
   "metadata": {},
   "outputs": [
    {
     "name": "stdout",
     "output_type": "stream",
     "text": [
      "<class 'pandas.core.frame.DataFrame'>\n",
      "Int64Index: 8304 entries, 0 to 8303\n",
      "Columns: 239 entries, latitude to wnvpresent\n",
      "dtypes: float64(11), int64(228)\n",
      "memory usage: 15.2 MB\n"
     ]
    }
   ],
   "source": [
    "train.info()"
   ]
  },
  {
   "cell_type": "markdown",
   "id": "a7fffede",
   "metadata": {},
   "source": [
    "## Preparing Train-Test (Kaggle) Data and Further Split Train Data into Train and Holdout"
   ]
  },
  {
   "cell_type": "code",
   "execution_count": 7,
   "id": "0b20422d",
   "metadata": {},
   "outputs": [],
   "source": [
    "# Split train data into X (all features except wnvpresent) and y (wnvpresent)\n",
    "features = [col for col in train.columns if col != 'wnvpresent']\n",
    "X = train[features]\n",
    "y = train['wnvpresent']"
   ]
  },
  {
   "cell_type": "code",
   "execution_count": 8,
   "id": "f840f66b",
   "metadata": {},
   "outputs": [
    {
     "data": {
      "text/plain": [
       "[]"
      ]
     },
     "execution_count": 8,
     "metadata": {},
     "output_type": "execute_result"
    }
   ],
   "source": [
    "X.columns[X.isna().any()].tolist()"
   ]
  },
  {
   "cell_type": "code",
   "execution_count": 9,
   "id": "622dcd8e",
   "metadata": {},
   "outputs": [
    {
     "data": {
      "text/plain": [
       "0.0    0.944966\n",
       "1.0    0.055034\n",
       "Name: wnvpresent, dtype: float64"
      ]
     },
     "execution_count": 9,
     "metadata": {},
     "output_type": "execute_result"
    }
   ],
   "source": [
    "y.value_counts(normalize = True)"
   ]
  },
  {
   "cell_type": "markdown",
   "id": "043d9808",
   "metadata": {},
   "source": [
    "y is highly inbalance, with only about 6% of the data points having West Nile Virus. Hence, it is important to stratify proportionally to ensure that our train and holdout dataset have about the same proportion of presence and absence of West Nile Virus."
   ]
  },
  {
   "cell_type": "code",
   "execution_count": 10,
   "id": "ee5a32c1",
   "metadata": {},
   "outputs": [],
   "source": [
    "# Further split train data into train and holdout data\n",
    "X_train, X_holdout, y_train, y_holdout = train_test_split(\n",
    "    X, \n",
    "    y,\n",
    "    stratify = y,\n",
    "    random_state=42\n",
    ")"
   ]
  },
  {
   "cell_type": "markdown",
   "id": "4308775f",
   "metadata": {},
   "source": [
    "## Model Exploration"
   ]
  },
  {
   "cell_type": "markdown",
   "id": "2004de68",
   "metadata": {},
   "source": [
    "### Metrics to Evaluate Models"
   ]
  },
  {
   "cell_type": "code",
   "execution_count": 18,
   "id": "7d191def",
   "metadata": {},
   "outputs": [],
   "source": [
    "# Creacting a summary dataframe.\n",
    "summary_df = pd.DataFrame(columns=[\n",
    "    'transformer_estimator', \n",
    "    'best_score', \n",
    "    'train_score',\n",
    "    'test_score',\n",
    "    'accuracy', \n",
    "    'sensitivity',\n",
    "    'specificity',\n",
    "    'best_params', \n",
    "])"
   ]
  },
  {
   "cell_type": "code",
   "execution_count": 19,
   "id": "dc663459",
   "metadata": {},
   "outputs": [
    {
     "data": {
      "text/html": [
       "<div>\n",
       "<style scoped>\n",
       "    .dataframe tbody tr th:only-of-type {\n",
       "        vertical-align: middle;\n",
       "    }\n",
       "\n",
       "    .dataframe tbody tr th {\n",
       "        vertical-align: top;\n",
       "    }\n",
       "\n",
       "    .dataframe thead th {\n",
       "        text-align: right;\n",
       "    }\n",
       "</style>\n",
       "<table border=\"1\" class=\"dataframe\">\n",
       "  <thead>\n",
       "    <tr style=\"text-align: right;\">\n",
       "      <th></th>\n",
       "      <th>transformer_estimator</th>\n",
       "      <th>best_score</th>\n",
       "      <th>train_score</th>\n",
       "      <th>test_score</th>\n",
       "      <th>accuracy</th>\n",
       "      <th>sensitivity</th>\n",
       "      <th>specificity</th>\n",
       "      <th>best_params</th>\n",
       "    </tr>\n",
       "  </thead>\n",
       "  <tbody>\n",
       "  </tbody>\n",
       "</table>\n",
       "</div>"
      ],
      "text/plain": [
       "Empty DataFrame\n",
       "Columns: [transformer_estimator, best_score, train_score, test_score, accuracy, sensitivity, specificity, best_params]\n",
       "Index: []"
      ]
     },
     "execution_count": 19,
     "metadata": {},
     "output_type": "execute_result"
    }
   ],
   "source": [
    "summary_df"
   ]
  },
  {
   "cell_type": "code",
   "execution_count": 20,
   "id": "e2fbd132",
   "metadata": {},
   "outputs": [],
   "source": [
    "def model_metrics(gs_pipe, X_test, y_test):\n",
    "    '''Generates confusion matrix and adds scores to summary_df'''\n",
    "    #Generate confusion matrix\n",
    "    y_pred = gs_pipe.predict(X_test)\n",
    "    confusion_matrix(y_test, # True values.\n",
    "                     y_pred)  # Predicted values.\n",
    "    tn, fp, fn, tp = confusion_matrix(y_test, y_pred).ravel();\n",
    "\n",
    "    # Adding the scores into summary_df\n",
    "    summary_df.loc[1] = [\n",
    "        'CountVec | LogisticRegression',\n",
    "        round(gs_pipe.best_score_, 3),\n",
    "        round(metrics.accuracy_score(y_test, y_pred),3),\n",
    "        round(metrics.recall_score(y_test, y_pred),3),\n",
    "        round(tn/(tn+fp),3),\n",
    "        str(gs_pipe.best_params_),\n",
    "    ]\n",
    "\n",
    "    # Plot Confusion Matrix\n",
    "    plot_confusion_matrix(gs_pipe, X_test, y_test, cmap='Blues', \n",
    "                          display_labels=['WNV Present', 'WNV Not Present'],\n",
    "                          normalize='true');  \n",
    "    plt.title(label=\"Model 1: Logistic Regression\", fontsize=14)\n",
    "    plt.grid(False)"
   ]
  },
  {
   "cell_type": "markdown",
   "id": "7fc02dc0",
   "metadata": {},
   "source": [
    "### Logistic Regression"
   ]
  },
  {
   "cell_type": "code",
   "execution_count": 11,
   "id": "23641bab",
   "metadata": {},
   "outputs": [
    {
     "name": "stdout",
     "output_type": "stream",
     "text": [
      "Logistic Regression Intercept: [-0.01387925]\n",
      "Logistic Regression Coefficient: [[-5.82560279e-02 -2.79590993e-02  4.25659140e-02 -1.01185717e+00\n",
      "  -7.59079821e-02  1.83669797e-02 -7.52450313e-02  1.96849981e-01\n",
      "   6.14443582e-02 -2.06100038e-01 -1.93653062e-01 -8.18796357e-02\n",
      "  -6.35743376e-02  5.51661159e-01  3.31670682e-01 -2.53710989e-01\n",
      "   0.00000000e+00  9.21340933e-02  6.20763344e-01  9.21340933e-02\n",
      "  -4.84992289e-01 -2.62816456e-01  0.00000000e+00 -9.77845897e-01\n",
      "   0.00000000e+00  1.12335272e-02  0.00000000e+00  1.03306527e+00\n",
      "   0.00000000e+00 -3.98563017e-01 -7.72115426e-01 -6.02710932e-01\n",
      "  -1.22533362e+00 -1.68839127e-01 -1.39825326e+00 -4.06870954e-01\n",
      "  -4.64954065e-01  7.43667023e-01  1.38733889e+00  9.62928346e-01\n",
      "   9.25535363e-01  8.40714601e-01  7.09113764e-01  1.01905010e+00\n",
      "   3.43916925e-01 -8.98772554e-01 -4.06905935e-01 -4.20051579e-02\n",
      "   3.13913750e-01  6.92662118e-01  3.25579306e-04  2.73620366e-01\n",
      "  -2.92049231e-01 -1.30743246e+00  7.53435189e-01  0.00000000e+00\n",
      "   0.00000000e+00  9.63878185e-01 -6.49297356e-02 -1.18782145e-01\n",
      "   3.23889267e-01 -1.58200233e-01  2.60603222e-01 -1.08409442e-01\n",
      "   9.90234459e-03  2.98811305e-01 -2.77640421e-01  6.83924417e-01\n",
      "   3.30011414e-01  1.64114603e-01  2.96145812e-01 -5.10913612e-01\n",
      "  -3.45649991e-01 -1.78526730e-01 -2.02424092e-01  3.24640420e-03\n",
      "   4.64160834e-01 -2.74274621e-02 -1.84379293e-01 -1.02467352e-01\n",
      "  -1.41546920e-01 -1.83104418e-01 -9.88457302e-02 -3.21267015e-02\n",
      "  -1.45569410e-01 -2.94760045e-02 -4.55280787e-03 -4.31344327e-01\n",
      "  -8.50712421e-02  2.45478247e-01 -5.20254830e-01 -2.32521628e-01\n",
      "  -1.76627032e-01 -3.43551377e-01 -1.40203499e-01 -1.34560980e-01\n",
      "   2.56832783e-02 -8.38778711e-03 -8.24444204e-02  3.57014722e-02\n",
      "  -2.17943351e-01 -2.52058433e-01 -3.89583123e-02  0.00000000e+00\n",
      "   1.18780361e-01  5.60181266e-02 -3.43431271e-01  1.88527892e-01\n",
      "  -1.44063014e-01 -1.06523397e-01 -2.98118130e-01 -1.71661596e-01\n",
      "  -1.11698462e-01 -2.64422099e-02 -2.94146430e-01 -4.71002495e-02\n",
      "  -2.68579361e-01 -2.40642084e-01 -1.76081580e-01  4.57068777e-01\n",
      "  -2.13482601e-01 -5.36567593e-02  1.55592779e-02  4.16476324e-01\n",
      "  -1.96003857e-01  1.04377406e-02  3.93968364e-01  0.00000000e+00\n",
      "   0.00000000e+00  0.00000000e+00 -5.34045142e-02 -1.71511354e-01\n",
      "  -8.29386094e-02 -4.71121291e-02  2.24529162e-01  3.62112656e-01\n",
      "  -1.45207584e-01 -3.18681736e-01 -2.23002442e-01 -4.54881337e-01\n",
      "   1.68557189e-01  6.41660130e-02  4.91459217e-02  4.79543739e-01\n",
      "   5.84743089e-02  0.00000000e+00 -1.01770492e-01  1.80465473e-01\n",
      "   1.28360065e-01 -1.15747920e-01 -1.22731255e-01  3.19275433e-01\n",
      "  -1.75126018e-01 -3.96938537e-01 -1.61382839e-01  1.00599395e-01\n",
      "  -2.30508522e-01 -7.21050256e-02 -1.02805815e-01 -8.75373603e-02\n",
      "  -3.33919682e-01 -1.75689910e-01  1.38165685e-01  2.97452487e-01\n",
      "  -1.55029087e-01 -1.17928030e-01 -1.17102047e-01 -1.36103000e-01\n",
      "   8.66656519e-02 -1.33733978e-01 -1.92339366e-02 -1.60260798e-01\n",
      "   0.00000000e+00  0.00000000e+00 -1.39041805e-01 -3.16745249e-01\n",
      "  -3.28774035e-01  2.74193611e-01  2.68622859e-02  0.00000000e+00\n",
      "   0.00000000e+00  0.00000000e+00 -1.79155638e-01 -1.90506217e-01\n",
      "   2.45574915e-01 -1.52975498e-01  5.50056910e-01 -2.12246808e-01\n",
      "   8.00606936e-01 -2.09831620e-01  1.15900141e-01  4.09255446e-01\n",
      "  -1.29939070e-02  4.27445211e-01  2.27514470e-01 -2.32785124e-01\n",
      "   1.63160455e-01  0.00000000e+00  1.79473396e-01 -1.47033593e-01\n",
      "  -1.89234274e-02 -1.27850886e-02  1.76817647e+00  5.90101220e-01\n",
      "   0.00000000e+00  7.30739952e-01  6.69427179e-02  0.00000000e+00\n",
      "  -8.96012891e-02  1.44283332e-01 -4.13238045e-01  2.71185260e-01\n",
      "  -9.15186753e-01  3.05304233e-02  0.00000000e+00  2.60269515e-02\n",
      "   7.64306087e-02 -9.97158193e-02  2.17498355e-01 -8.34736294e-02\n",
      "  -7.41944000e-02 -1.46889169e-02  5.29739470e-01  1.20167849e+00\n",
      "  -8.24719311e-02 -5.21492392e-02 -5.48794320e-02 -1.79333330e-01\n",
      "   3.95822502e-01 -2.40631239e-01  0.00000000e+00 -3.04283496e-01\n",
      "  -6.62425659e-01  0.00000000e+00  0.00000000e+00 -1.30512141e-01\n",
      "   0.00000000e+00  2.54783755e-01]]\n"
     ]
    },
    {
     "name": "stderr",
     "output_type": "stream",
     "text": [
      "C:\\Users\\xiang\\anaconda3\\envs\\dsitf\\lib\\site-packages\\sklearn\\linear_model\\_logistic.py:818: ConvergenceWarning: lbfgs failed to converge (status=1):\n",
      "STOP: TOTAL NO. of ITERATIONS REACHED LIMIT.\n",
      "\n",
      "Increase the number of iterations (max_iter) or scale the data as shown in:\n",
      "    https://scikit-learn.org/stable/modules/preprocessing.html\n",
      "Please also refer to the documentation for alternative solver options:\n",
      "    https://scikit-learn.org/stable/modules/linear_model.html#logistic-regression\n",
      "  extra_warning_msg=_LOGISTIC_SOLVER_CONVERGENCE_MSG,\n"
     ]
    }
   ],
   "source": [
    "# Instantiate model\n",
    "logreg = LogisticRegression()\n",
    "\n",
    "# Fit model\n",
    "logreg.fit(X_train, y_train)\n",
    "\n",
    "print(f'Logistic Regression Intercept: {logreg.intercept_}')\n",
    "print(f'Logistic Regression Coefficient: {logreg.coef_}')"
   ]
  },
  {
   "cell_type": "code",
   "execution_count": 12,
   "id": "ab9ae47b",
   "metadata": {},
   "outputs": [
    {
     "data": {
      "text/html": [
       "<div>\n",
       "<style scoped>\n",
       "    .dataframe tbody tr th:only-of-type {\n",
       "        vertical-align: middle;\n",
       "    }\n",
       "\n",
       "    .dataframe tbody tr th {\n",
       "        vertical-align: top;\n",
       "    }\n",
       "\n",
       "    .dataframe thead th {\n",
       "        text-align: right;\n",
       "    }\n",
       "</style>\n",
       "<table border=\"1\" class=\"dataframe\">\n",
       "  <thead>\n",
       "    <tr style=\"text-align: right;\">\n",
       "      <th></th>\n",
       "      <th>variable</th>\n",
       "      <th>coef</th>\n",
       "      <th>abs_coef</th>\n",
       "    </tr>\n",
       "  </thead>\n",
       "  <tbody>\n",
       "    <tr>\n",
       "      <th>202</th>\n",
       "      <td>trap_T900</td>\n",
       "      <td>1.768176</td>\n",
       "      <td>1.768176</td>\n",
       "    </tr>\n",
       "    <tr>\n",
       "      <th>34</th>\n",
       "      <td>week_28</td>\n",
       "      <td>-1.398253</td>\n",
       "      <td>1.398253</td>\n",
       "    </tr>\n",
       "    <tr>\n",
       "      <th>38</th>\n",
       "      <td>week_32</td>\n",
       "      <td>1.387339</td>\n",
       "      <td>1.387339</td>\n",
       "    </tr>\n",
       "    <tr>\n",
       "      <th>53</th>\n",
       "      <td>species_CULEX RESTUANS</td>\n",
       "      <td>-1.307432</td>\n",
       "      <td>1.307432</td>\n",
       "    </tr>\n",
       "    <tr>\n",
       "      <th>32</th>\n",
       "      <td>week_26</td>\n",
       "      <td>-1.225334</td>\n",
       "      <td>1.225334</td>\n",
       "    </tr>\n",
       "    <tr>\n",
       "      <th>223</th>\n",
       "      <td>codesum_TS TSRA RA BR</td>\n",
       "      <td>1.201678</td>\n",
       "      <td>1.201678</td>\n",
       "    </tr>\n",
       "    <tr>\n",
       "      <th>27</th>\n",
       "      <td>year_2013</td>\n",
       "      <td>1.033065</td>\n",
       "      <td>1.033065</td>\n",
       "    </tr>\n",
       "    <tr>\n",
       "      <th>43</th>\n",
       "      <td>week_37</td>\n",
       "      <td>1.019050</td>\n",
       "      <td>1.019050</td>\n",
       "    </tr>\n",
       "    <tr>\n",
       "      <th>3</th>\n",
       "      <td>preciptotal</td>\n",
       "      <td>-1.011857</td>\n",
       "      <td>1.011857</td>\n",
       "    </tr>\n",
       "    <tr>\n",
       "      <th>23</th>\n",
       "      <td>year_2009</td>\n",
       "      <td>-0.977846</td>\n",
       "      <td>0.977846</td>\n",
       "    </tr>\n",
       "    <tr>\n",
       "      <th>57</th>\n",
       "      <td>trap_T003</td>\n",
       "      <td>0.963878</td>\n",
       "      <td>0.963878</td>\n",
       "    </tr>\n",
       "    <tr>\n",
       "      <th>39</th>\n",
       "      <td>week_33</td>\n",
       "      <td>0.962928</td>\n",
       "      <td>0.962928</td>\n",
       "    </tr>\n",
       "    <tr>\n",
       "      <th>40</th>\n",
       "      <td>week_34</td>\n",
       "      <td>0.925535</td>\n",
       "      <td>0.925535</td>\n",
       "    </tr>\n",
       "    <tr>\n",
       "      <th>212</th>\n",
       "      <td>codesum_RA BR</td>\n",
       "      <td>-0.915187</td>\n",
       "      <td>0.915187</td>\n",
       "    </tr>\n",
       "    <tr>\n",
       "      <th>45</th>\n",
       "      <td>week_39</td>\n",
       "      <td>-0.898773</td>\n",
       "      <td>0.898773</td>\n",
       "    </tr>\n",
       "    <tr>\n",
       "      <th>41</th>\n",
       "      <td>week_35</td>\n",
       "      <td>0.840715</td>\n",
       "      <td>0.840715</td>\n",
       "    </tr>\n",
       "    <tr>\n",
       "      <th>188</th>\n",
       "      <td>trap_T225</td>\n",
       "      <td>0.800607</td>\n",
       "      <td>0.800607</td>\n",
       "    </tr>\n",
       "    <tr>\n",
       "      <th>30</th>\n",
       "      <td>week_24</td>\n",
       "      <td>-0.772115</td>\n",
       "      <td>0.772115</td>\n",
       "    </tr>\n",
       "    <tr>\n",
       "      <th>54</th>\n",
       "      <td>trap_T002</td>\n",
       "      <td>0.753435</td>\n",
       "      <td>0.753435</td>\n",
       "    </tr>\n",
       "    <tr>\n",
       "      <th>37</th>\n",
       "      <td>week_31</td>\n",
       "      <td>0.743667</td>\n",
       "      <td>0.743667</td>\n",
       "    </tr>\n",
       "  </tbody>\n",
       "</table>\n",
       "</div>"
      ],
      "text/plain": [
       "                   variable      coef  abs_coef\n",
       "202               trap_T900  1.768176  1.768176\n",
       "34                  week_28 -1.398253  1.398253\n",
       "38                  week_32  1.387339  1.387339\n",
       "53   species_CULEX RESTUANS -1.307432  1.307432\n",
       "32                  week_26 -1.225334  1.225334\n",
       "223   codesum_TS TSRA RA BR  1.201678  1.201678\n",
       "27                year_2013  1.033065  1.033065\n",
       "43                  week_37  1.019050  1.019050\n",
       "3               preciptotal -1.011857  1.011857\n",
       "23                year_2009 -0.977846  0.977846\n",
       "57                trap_T003  0.963878  0.963878\n",
       "39                  week_33  0.962928  0.962928\n",
       "40                  week_34  0.925535  0.925535\n",
       "212           codesum_RA BR -0.915187  0.915187\n",
       "45                  week_39 -0.898773  0.898773\n",
       "41                  week_35  0.840715  0.840715\n",
       "188               trap_T225  0.800607  0.800607\n",
       "30                  week_24 -0.772115  0.772115\n",
       "54                trap_T002  0.753435  0.753435\n",
       "37                  week_31  0.743667  0.743667"
      ]
     },
     "execution_count": 12,
     "metadata": {},
     "output_type": "execute_result"
    }
   ],
   "source": [
    "# Display Coefficients\n",
    "coefs = pd.DataFrame({'variable':X.columns,\n",
    "                            'coef':logreg.coef_[0],\n",
    "                            'abs_coef':np.abs(logreg.coef_[0])\n",
    "                     })\n",
    "\n",
    "coefs.sort_values('abs_coef', inplace=True, ascending=False)\n",
    "coefs.head(20)"
   ]
  },
  {
   "cell_type": "code",
   "execution_count": 13,
   "id": "8740b39f",
   "metadata": {},
   "outputs": [
    {
     "name": "stdout",
     "output_type": "stream",
     "text": [
      "LogisticRegression summary of accuracy scores:\n"
     ]
    },
    {
     "ename": "NameError",
     "evalue": "name 'gs_pipe' is not defined",
     "output_type": "error",
     "traceback": [
      "\u001b[1;31m---------------------------------------------------------------------------\u001b[0m",
      "\u001b[1;31mNameError\u001b[0m                                 Traceback (most recent call last)",
      "\u001b[1;32m~\\AppData\\Local\\Temp\\ipykernel_980\\4076555220.py\u001b[0m in \u001b[0;36m<module>\u001b[1;34m\u001b[0m\n\u001b[0;32m      1\u001b[0m \u001b[1;31m# Summary scores of CountVectorizer and LogisticRegression.\u001b[0m\u001b[1;33m\u001b[0m\u001b[1;33m\u001b[0m\u001b[1;33m\u001b[0m\u001b[0m\n\u001b[0;32m      2\u001b[0m \u001b[0mprint\u001b[0m\u001b[1;33m(\u001b[0m\u001b[1;34m\"LogisticRegression summary of accuracy scores:\"\u001b[0m\u001b[1;33m)\u001b[0m\u001b[1;33m\u001b[0m\u001b[1;33m\u001b[0m\u001b[0m\n\u001b[1;32m----> 3\u001b[1;33m \u001b[0mprint\u001b[0m\u001b[1;33m(\u001b[0m\u001b[1;34mf\"GridSearchCV best accuracy = {round(gs_pipe.best_score_, 3)}\"\u001b[0m\u001b[1;33m)\u001b[0m\u001b[1;33m\u001b[0m\u001b[1;33m\u001b[0m\u001b[0m\n\u001b[0m\u001b[0;32m      4\u001b[0m \u001b[0mprint\u001b[0m\u001b[1;33m(\u001b[0m\u001b[1;34m\"\\nUsing GridSearchCV best params suggested,\"\u001b[0m\u001b[1;33m)\u001b[0m\u001b[1;33m\u001b[0m\u001b[1;33m\u001b[0m\u001b[0m\n\u001b[0;32m      5\u001b[0m \u001b[0mprint\u001b[0m\u001b[1;33m(\u001b[0m\u001b[1;34mf\"Training corpus accuracy = {round(gs_pipe.score(X_train, y_train), 3)}\"\u001b[0m\u001b[1;33m)\u001b[0m\u001b[1;33m\u001b[0m\u001b[1;33m\u001b[0m\u001b[0m\n",
      "\u001b[1;31mNameError\u001b[0m: name 'gs_pipe' is not defined"
     ]
    }
   ],
   "source": [
    "# Summary scores of CountVectorizer and LogisticRegression.\n",
    "print(\"LogisticRegression summary of accuracy scores:\")\n",
    "print(f\"GridSearchCV best accuracy = {round(gs_pipe.best_score_, 3)}\")\n",
    "print(\"\\nUsing GridSearchCV best params suggested,\")\n",
    "print(f\"Training corpus accuracy = {round(gs_pipe.score(X_train, y_train), 3)}\")\n",
    "print(f\"Testing corpus accuracy = {round(gs_pipe.score(X_test, y_test), 3)}\")"
   ]
  },
  {
   "cell_type": "markdown",
   "id": "db855dcc",
   "metadata": {},
   "source": [
    "### Multinomial NB"
   ]
  },
  {
   "cell_type": "code",
   "execution_count": null,
   "id": "abf6b134",
   "metadata": {},
   "outputs": [],
   "source": []
  },
  {
   "cell_type": "code",
   "execution_count": null,
   "id": "e90a101e",
   "metadata": {},
   "outputs": [],
   "source": []
  },
  {
   "cell_type": "code",
   "execution_count": null,
   "id": "d4319ece",
   "metadata": {},
   "outputs": [],
   "source": []
  },
  {
   "cell_type": "markdown",
   "id": "09f83dd5",
   "metadata": {},
   "source": [
    "### Random Forest"
   ]
  },
  {
   "cell_type": "code",
   "execution_count": null,
   "id": "18f02915",
   "metadata": {},
   "outputs": [],
   "source": []
  },
  {
   "cell_type": "code",
   "execution_count": null,
   "id": "03dd6ac1",
   "metadata": {},
   "outputs": [],
   "source": []
  },
  {
   "cell_type": "code",
   "execution_count": null,
   "id": "37431c52",
   "metadata": {},
   "outputs": [],
   "source": []
  },
  {
   "cell_type": "markdown",
   "id": "f654a069",
   "metadata": {},
   "source": [
    "### SVM"
   ]
  },
  {
   "cell_type": "code",
   "execution_count": null,
   "id": "d8add43b",
   "metadata": {},
   "outputs": [],
   "source": []
  },
  {
   "cell_type": "code",
   "execution_count": null,
   "id": "09814f2e",
   "metadata": {},
   "outputs": [],
   "source": []
  },
  {
   "cell_type": "code",
   "execution_count": null,
   "id": "8246cfff",
   "metadata": {},
   "outputs": [],
   "source": []
  },
  {
   "cell_type": "markdown",
   "id": "7adb710d",
   "metadata": {},
   "source": [
    "### Boost"
   ]
  },
  {
   "cell_type": "code",
   "execution_count": null,
   "id": "d720f0e4",
   "metadata": {},
   "outputs": [],
   "source": []
  },
  {
   "cell_type": "code",
   "execution_count": null,
   "id": "2fc36815",
   "metadata": {},
   "outputs": [],
   "source": []
  },
  {
   "cell_type": "code",
   "execution_count": null,
   "id": "fe444f58",
   "metadata": {},
   "outputs": [],
   "source": []
  },
  {
   "cell_type": "markdown",
   "id": "4147a506",
   "metadata": {},
   "source": [
    "### Neutro Network"
   ]
  },
  {
   "cell_type": "code",
   "execution_count": null,
   "id": "3d899f81",
   "metadata": {},
   "outputs": [],
   "source": []
  },
  {
   "cell_type": "code",
   "execution_count": null,
   "id": "78a8b616",
   "metadata": {},
   "outputs": [],
   "source": []
  },
  {
   "cell_type": "code",
   "execution_count": 15,
   "id": "0e7798d1",
   "metadata": {},
   "outputs": [],
   "source": []
  },
  {
   "cell_type": "markdown",
   "id": "bb68f689",
   "metadata": {},
   "source": [
    "### AUC-ROC Curve"
   ]
  },
  {
   "cell_type": "code",
   "execution_count": 17,
   "id": "3a5563ae",
   "metadata": {},
   "outputs": [
    {
     "ename": "NameError",
     "evalue": "name 'cvec_lr_gs' is not defined",
     "output_type": "error",
     "traceback": [
      "\u001b[1;31m---------------------------------------------------------------------------\u001b[0m",
      "\u001b[1;31mNameError\u001b[0m                                 Traceback (most recent call last)",
      "\u001b[1;32m~\\AppData\\Local\\Temp\\ipykernel_980\\3278258354.py\u001b[0m in \u001b[0;36m<module>\u001b[1;34m\u001b[0m\n\u001b[0;32m      1\u001b[0m \u001b[0mfig\u001b[0m\u001b[1;33m,\u001b[0m \u001b[0max\u001b[0m \u001b[1;33m=\u001b[0m \u001b[0mplt\u001b[0m\u001b[1;33m.\u001b[0m\u001b[0msubplots\u001b[0m\u001b[1;33m(\u001b[0m\u001b[1;36m1\u001b[0m\u001b[1;33m,\u001b[0m \u001b[1;36m1\u001b[0m\u001b[1;33m,\u001b[0m \u001b[0mfigsize\u001b[0m\u001b[1;33m=\u001b[0m\u001b[1;33m(\u001b[0m\u001b[1;36m12\u001b[0m\u001b[1;33m,\u001b[0m\u001b[1;36m10\u001b[0m\u001b[1;33m)\u001b[0m\u001b[1;33m)\u001b[0m\u001b[1;33m\u001b[0m\u001b[1;33m\u001b[0m\u001b[0m\n\u001b[1;32m----> 2\u001b[1;33m \u001b[0mplot_roc_curve\u001b[0m\u001b[1;33m(\u001b[0m\u001b[0mcvec_lr_gs\u001b[0m\u001b[1;33m,\u001b[0m \u001b[0mX_test\u001b[0m\u001b[1;33m,\u001b[0m \u001b[0my_test\u001b[0m\u001b[1;33m,\u001b[0m \u001b[0max\u001b[0m\u001b[1;33m=\u001b[0m\u001b[0max\u001b[0m\u001b[1;33m,\u001b[0m \u001b[0mname\u001b[0m\u001b[1;33m=\u001b[0m\u001b[1;34m'LogisticRegression-CVEC(GS)'\u001b[0m\u001b[1;33m,\u001b[0m \u001b[0mcolor\u001b[0m\u001b[1;33m=\u001b[0m\u001b[1;34m'lightgrey'\u001b[0m\u001b[1;33m)\u001b[0m\u001b[1;33m\u001b[0m\u001b[1;33m\u001b[0m\u001b[0m\n\u001b[0m\u001b[0;32m      3\u001b[0m \u001b[0mplot_roc_curve\u001b[0m\u001b[1;33m(\u001b[0m\u001b[0mcvec_nb_gs\u001b[0m\u001b[1;33m,\u001b[0m \u001b[0mX_test\u001b[0m\u001b[1;33m,\u001b[0m \u001b[0my_test\u001b[0m\u001b[1;33m,\u001b[0m \u001b[0max\u001b[0m\u001b[1;33m=\u001b[0m\u001b[0max\u001b[0m\u001b[1;33m,\u001b[0m \u001b[0mname\u001b[0m\u001b[1;33m=\u001b[0m\u001b[1;34m'MultinomialNB-CVEC(GS)'\u001b[0m\u001b[1;33m,\u001b[0m \u001b[0mcolor\u001b[0m\u001b[1;33m=\u001b[0m\u001b[1;34m'lightgrey'\u001b[0m\u001b[1;33m)\u001b[0m\u001b[1;33m\u001b[0m\u001b[1;33m\u001b[0m\u001b[0m\n\u001b[0;32m      4\u001b[0m \u001b[0mplot_roc_curve\u001b[0m\u001b[1;33m(\u001b[0m\u001b[0mtvec_svc_gs\u001b[0m\u001b[1;33m,\u001b[0m \u001b[0mX_test\u001b[0m\u001b[1;33m,\u001b[0m \u001b[0my_test\u001b[0m\u001b[1;33m,\u001b[0m \u001b[0max\u001b[0m\u001b[1;33m=\u001b[0m\u001b[0max\u001b[0m\u001b[1;33m,\u001b[0m \u001b[0mname\u001b[0m\u001b[1;33m=\u001b[0m\u001b[1;34m'SupportVectorClassifier-TVEC(GS)'\u001b[0m\u001b[1;33m,\u001b[0m \u001b[0mcolor\u001b[0m\u001b[1;33m=\u001b[0m\u001b[1;34m'lightgrey'\u001b[0m\u001b[1;33m)\u001b[0m\u001b[1;33m\u001b[0m\u001b[1;33m\u001b[0m\u001b[0m\n\u001b[0;32m      5\u001b[0m \u001b[0mplot_roc_curve\u001b[0m\u001b[1;33m(\u001b[0m\u001b[0mtvec_lr_gs\u001b[0m\u001b[1;33m,\u001b[0m \u001b[0mX_test\u001b[0m\u001b[1;33m,\u001b[0m \u001b[0my_test\u001b[0m\u001b[1;33m,\u001b[0m \u001b[0max\u001b[0m\u001b[1;33m=\u001b[0m\u001b[0max\u001b[0m\u001b[1;33m,\u001b[0m \u001b[0mname\u001b[0m\u001b[1;33m=\u001b[0m\u001b[1;34m'LogisticRegression-TVEC(GS)'\u001b[0m\u001b[1;33m,\u001b[0m \u001b[0mcolor\u001b[0m\u001b[1;33m=\u001b[0m\u001b[1;34m'blue'\u001b[0m\u001b[1;33m)\u001b[0m\u001b[1;33m\u001b[0m\u001b[1;33m\u001b[0m\u001b[0m\n",
      "\u001b[1;31mNameError\u001b[0m: name 'cvec_lr_gs' is not defined"
     ]
    },
    {
     "data": {
      "image/png": "[encoded data removed]",
      "text/plain": [
       "<Figure size 864x720 with 1 Axes>"
      ]
     },
     "metadata": {
      "needs_background": "light"
     },
     "output_type": "display_data"
    }
   ],
   "source": [
    "fig, ax = plt.subplots(1, 1, figsize=(12,10))\n",
    "plot_roc_curve(cvec_lr_gs, X_test, y_test, ax=ax, name='LogisticRegression-CVEC(GS)', color='lightgrey')\n",
    "plot_roc_curve(cvec_nb_gs, X_test, y_test, ax=ax, name='MultinomialNB-CVEC(GS)', color='lightgrey')\n",
    "plot_roc_curve(tvec_svc_gs, X_test, y_test, ax=ax, name='SupportVectorClassifier-TVEC(GS)', color='lightgrey')\n",
    "plot_roc_curve(tvec_lr_gs, X_test, y_test, ax=ax, name='LogisticRegression-TVEC(GS)', color='blue')\n",
    "plt.plot([0, 1], [0, 1], color='black', lw=2, linestyle='--', label='Random Guess')\n",
    "plt.legend()"
   ]
  },
  {
   "cell_type": "code",
   "execution_count": null,
   "id": "e282f9ae",
   "metadata": {},
   "outputs": [],
   "source": []
  }
 ],
 "metadata": {
  "kernelspec": {
   "display_name": "Python 3 (ipykernel)",
   "language": "python",
   "name": "python3"
  },
  "language_info": {
   "codemirror_mode": {
    "name": "ipython",
    "version": 3
   },
   "file_extension": ".py",
   "mimetype": "text/x-python",
   "name": "python",
   "nbconvert_exporter": "python",
   "pygments_lexer": "ipython3",
   "version": "3.7.13"
  }
 },
 "nbformat": 4,
 "nbformat_minor": 5
}
