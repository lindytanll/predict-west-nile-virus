{
 "cells": [
  {
   "cell_type": "markdown",
   "id": "17eb5c7b",
   "metadata": {},
   "source": [
    "# Project 4: Predict West Nile Virus\n",
    "### Section 5. Model Exploration"
   ]
  },
  {
   "cell_type": "markdown",
   "id": "b70e632a",
   "metadata": {},
   "source": [
    "## Problem Statement\n",
    "\n",
    "1. As an employee of Disease And Treatment Agency, division of Societal Cures In Epidemiology and New Creative Engineering (DATA-SCIENCE), we are tasked to better understand the mosquito population and advise on appropriate interventions which are beneficial and cost-effective for the city.\n",
    "\n",
    "\n",
    "2. Through this project, we hope to:\n",
    "- Identify features which are most important to predict presence of West Nile Virus (which can be done by ranking the coefficients of each feature in a logistic regression model)\n",
    "- Predict the probability of West Nile Virus by location to provide decision makers an effective plan to deploy pesticides throughout the city, which consequently can help to reduce cost."
   ]
  },
  {
   "cell_type": "markdown",
   "id": "ae082b06",
   "metadata": {},
   "source": [
    "## Import Libraries"
   ]
  },
  {
   "cell_type": "code",
   "execution_count": 175,
   "id": "7909f27f",
   "metadata": {},
   "outputs": [],
   "source": [
    "#!pip install shapely\n",
    "import pandas as pd\n",
    "import matplotlib.pyplot as plt\n",
    "import seaborn as sns\n",
    "import numpy as np\n",
    "import pickle\n",
    "# from shapely import geometry\n",
    "# from shapely.geometry import Point, Polygon\n",
    "# import geopandas as gpd\n",
    "# from datetime import timedelta\n",
    "# import math\n",
    "\n",
    "from sklearn.preprocessing import StandardScaler\n",
    "from sklearn.model_selection import train_test_split, GridSearchCV, RandomizedSearchCV, StratifiedKFold\n",
    "from sklearn.pipeline import Pipeline\n",
    "from sklearn.linear_model import LogisticRegression\n",
    "from sklearn.naive_bayes import MultinomialNB\n",
    "from sklearn.ensemble import RandomForestClassifier, ExtraTreesClassifier\n",
    "from sklearn.svm import SVC\n",
    "from sklearn.ensemble import GradientBoostingClassifier, AdaBoostClassifier, VotingClassifier\n",
    "from sklearn.tree import DecisionTreeClassifier\n",
    "from sklearn import metrics\n",
    "from sklearn.metrics import (confusion_matrix, plot_confusion_matrix, classification_report, \n",
    "                             plot_roc_curve, roc_auc_score, accuracy_score, precision_score, \n",
    "                             recall_score, f1_score) #precision_recall_curve\n",
    "from imblearn.over_sampling import SMOTE\n",
    "\n",
    "from tensorflow.keras.models import Sequential\n",
    "from tensorflow.keras.layers import Dense\n",
    "from tensorflow.keras.utils import to_categorical"
   ]
  },
  {
   "cell_type": "markdown",
   "id": "d9c25ebe",
   "metadata": {},
   "source": [
    "## Load Data"
   ]
  },
  {
   "cell_type": "code",
   "execution_count": 2,
   "id": "4ab149da",
   "metadata": {},
   "outputs": [],
   "source": [
    "# Load datasets\n",
    "df = pd.read_csv('../data/final_df.csv', index_col='Unnamed: 0')"
   ]
  },
  {
   "cell_type": "markdown",
   "id": "3d8d7b3c",
   "metadata": {},
   "source": [
    "### Split into train and test (Kaggle) data"
   ]
  },
  {
   "cell_type": "code",
   "execution_count": 3,
   "id": "4903760a",
   "metadata": {},
   "outputs": [
    {
     "name": "stdout",
     "output_type": "stream",
     "text": [
      "(8304, 240)\n",
      "(43035, 240)\n"
     ]
    }
   ],
   "source": [
    "# Split into train and test (kaggle) data \n",
    "train = df[df['dataset']=='train'].copy()\n",
    "test = df[df['dataset']=='test'].copy()\n",
    "print(train.shape)\n",
    "print(test.shape)"
   ]
  },
  {
   "cell_type": "code",
   "execution_count": 4,
   "id": "6d36cf6c",
   "metadata": {},
   "outputs": [],
   "source": [
    "train.drop(columns='dataset', inplace=True)\n",
    "test.drop(columns='dataset', inplace=True)"
   ]
  },
  {
   "cell_type": "code",
   "execution_count": 5,
   "id": "81c44181",
   "metadata": {
    "scrolled": true
   },
   "outputs": [
    {
     "data": {
      "text/html": [
       "<div>\n",
       "<style scoped>\n",
       "    .dataframe tbody tr th:only-of-type {\n",
       "        vertical-align: middle;\n",
       "    }\n",
       "\n",
       "    .dataframe tbody tr th {\n",
       "        vertical-align: top;\n",
       "    }\n",
       "\n",
       "    .dataframe thead th {\n",
       "        text-align: right;\n",
       "    }\n",
       "</style>\n",
       "<table border=\"1\" class=\"dataframe\">\n",
       "  <thead>\n",
       "    <tr style=\"text-align: right;\">\n",
       "      <th></th>\n",
       "      <th>latitude</th>\n",
       "      <th>longitude</th>\n",
       "      <th>tavg</th>\n",
       "      <th>preciptotal</th>\n",
       "      <th>stnpressure</th>\n",
       "      <th>resultdir</th>\n",
       "      <th>avgspeed</th>\n",
       "      <th>is_spray</th>\n",
       "      <th>stnpressure_7</th>\n",
       "      <th>stnpressure_10</th>\n",
       "      <th>...</th>\n",
       "      <th>codesum_TSRA BR HZ VCTS</th>\n",
       "      <th>codesum_TSRA FG+ BR HZ</th>\n",
       "      <th>codesum_TSRA RA</th>\n",
       "      <th>codesum_TSRA RA BR</th>\n",
       "      <th>codesum_TSRA RA BR HZ</th>\n",
       "      <th>codesum_TSRA RA BR HZ VCTS</th>\n",
       "      <th>codesum_TSRA RA BR VCTS</th>\n",
       "      <th>codesum_TSRA RA VCTS</th>\n",
       "      <th>codesum_VCTS</th>\n",
       "      <th>wnvpresent</th>\n",
       "    </tr>\n",
       "  </thead>\n",
       "  <tbody>\n",
       "    <tr>\n",
       "      <th>count</th>\n",
       "      <td>8304.000000</td>\n",
       "      <td>8304.000000</td>\n",
       "      <td>8304.000000</td>\n",
       "      <td>8304.000000</td>\n",
       "      <td>8304.000000</td>\n",
       "      <td>8304.000000</td>\n",
       "      <td>8304.000000</td>\n",
       "      <td>8304.000000</td>\n",
       "      <td>8304.000000</td>\n",
       "      <td>8304.000000</td>\n",
       "      <td>...</td>\n",
       "      <td>8304.000000</td>\n",
       "      <td>8304.0</td>\n",
       "      <td>8304.000000</td>\n",
       "      <td>8304.000000</td>\n",
       "      <td>8304.0</td>\n",
       "      <td>8304.0</td>\n",
       "      <td>8304.000000</td>\n",
       "      <td>8304.0</td>\n",
       "      <td>8304.000000</td>\n",
       "      <td>8304.000000</td>\n",
       "    </tr>\n",
       "    <tr>\n",
       "      <th>mean</th>\n",
       "      <td>41.845800</td>\n",
       "      <td>-87.696229</td>\n",
       "      <td>72.093931</td>\n",
       "      <td>0.182431</td>\n",
       "      <td>29.262110</td>\n",
       "      <td>17.842245</td>\n",
       "      <td>7.476903</td>\n",
       "      <td>0.008911</td>\n",
       "      <td>29.277200</td>\n",
       "      <td>29.265990</td>\n",
       "      <td>...</td>\n",
       "      <td>0.006142</td>\n",
       "      <td>0.0</td>\n",
       "      <td>0.029383</td>\n",
       "      <td>0.037211</td>\n",
       "      <td>0.0</td>\n",
       "      <td>0.0</td>\n",
       "      <td>0.010597</td>\n",
       "      <td>0.0</td>\n",
       "      <td>0.003974</td>\n",
       "      <td>0.055034</td>\n",
       "    </tr>\n",
       "    <tr>\n",
       "      <th>std</th>\n",
       "      <td>0.106658</td>\n",
       "      <td>0.084440</td>\n",
       "      <td>7.630330</td>\n",
       "      <td>0.470450</td>\n",
       "      <td>0.118606</td>\n",
       "      <td>9.433945</td>\n",
       "      <td>2.543438</td>\n",
       "      <td>0.093984</td>\n",
       "      <td>0.126573</td>\n",
       "      <td>0.142227</td>\n",
       "      <td>...</td>\n",
       "      <td>0.078132</td>\n",
       "      <td>0.0</td>\n",
       "      <td>0.168889</td>\n",
       "      <td>0.189290</td>\n",
       "      <td>0.0</td>\n",
       "      <td>0.0</td>\n",
       "      <td>0.102402</td>\n",
       "      <td>0.0</td>\n",
       "      <td>0.062918</td>\n",
       "      <td>0.228060</td>\n",
       "    </tr>\n",
       "    <tr>\n",
       "      <th>min</th>\n",
       "      <td>41.644612</td>\n",
       "      <td>-87.930995</td>\n",
       "      <td>50.000000</td>\n",
       "      <td>0.000000</td>\n",
       "      <td>28.890000</td>\n",
       "      <td>1.000000</td>\n",
       "      <td>2.100000</td>\n",
       "      <td>0.000000</td>\n",
       "      <td>28.890000</td>\n",
       "      <td>28.910000</td>\n",
       "      <td>...</td>\n",
       "      <td>0.000000</td>\n",
       "      <td>0.0</td>\n",
       "      <td>0.000000</td>\n",
       "      <td>0.000000</td>\n",
       "      <td>0.0</td>\n",
       "      <td>0.0</td>\n",
       "      <td>0.000000</td>\n",
       "      <td>0.0</td>\n",
       "      <td>0.000000</td>\n",
       "      <td>0.000000</td>\n",
       "    </tr>\n",
       "    <tr>\n",
       "      <th>25%</th>\n",
       "      <td>41.750498</td>\n",
       "      <td>-87.752411</td>\n",
       "      <td>69.000000</td>\n",
       "      <td>0.000000</td>\n",
       "      <td>29.180000</td>\n",
       "      <td>8.000000</td>\n",
       "      <td>5.800000</td>\n",
       "      <td>0.000000</td>\n",
       "      <td>29.210000</td>\n",
       "      <td>29.180000</td>\n",
       "      <td>...</td>\n",
       "      <td>0.000000</td>\n",
       "      <td>0.0</td>\n",
       "      <td>0.000000</td>\n",
       "      <td>0.000000</td>\n",
       "      <td>0.0</td>\n",
       "      <td>0.0</td>\n",
       "      <td>0.000000</td>\n",
       "      <td>0.0</td>\n",
       "      <td>0.000000</td>\n",
       "      <td>0.000000</td>\n",
       "    </tr>\n",
       "    <tr>\n",
       "      <th>50%</th>\n",
       "      <td>41.862292</td>\n",
       "      <td>-87.696269</td>\n",
       "      <td>73.000000</td>\n",
       "      <td>0.000000</td>\n",
       "      <td>29.260000</td>\n",
       "      <td>19.000000</td>\n",
       "      <td>7.100000</td>\n",
       "      <td>0.000000</td>\n",
       "      <td>29.280000</td>\n",
       "      <td>29.260000</td>\n",
       "      <td>...</td>\n",
       "      <td>0.000000</td>\n",
       "      <td>0.0</td>\n",
       "      <td>0.000000</td>\n",
       "      <td>0.000000</td>\n",
       "      <td>0.0</td>\n",
       "      <td>0.0</td>\n",
       "      <td>0.000000</td>\n",
       "      <td>0.0</td>\n",
       "      <td>0.000000</td>\n",
       "      <td>0.000000</td>\n",
       "    </tr>\n",
       "    <tr>\n",
       "      <th>75%</th>\n",
       "      <td>41.947227</td>\n",
       "      <td>-87.648064</td>\n",
       "      <td>78.000000</td>\n",
       "      <td>0.160000</td>\n",
       "      <td>29.340000</td>\n",
       "      <td>25.000000</td>\n",
       "      <td>9.400000</td>\n",
       "      <td>0.000000</td>\n",
       "      <td>29.380000</td>\n",
       "      <td>29.360000</td>\n",
       "      <td>...</td>\n",
       "      <td>0.000000</td>\n",
       "      <td>0.0</td>\n",
       "      <td>0.000000</td>\n",
       "      <td>0.000000</td>\n",
       "      <td>0.0</td>\n",
       "      <td>0.0</td>\n",
       "      <td>0.000000</td>\n",
       "      <td>0.0</td>\n",
       "      <td>0.000000</td>\n",
       "      <td>0.000000</td>\n",
       "    </tr>\n",
       "    <tr>\n",
       "      <th>max</th>\n",
       "      <td>42.017430</td>\n",
       "      <td>-87.531635</td>\n",
       "      <td>87.000000</td>\n",
       "      <td>3.970000</td>\n",
       "      <td>29.650000</td>\n",
       "      <td>36.000000</td>\n",
       "      <td>16.300000</td>\n",
       "      <td>1.000000</td>\n",
       "      <td>29.650000</td>\n",
       "      <td>29.650000</td>\n",
       "      <td>...</td>\n",
       "      <td>1.000000</td>\n",
       "      <td>0.0</td>\n",
       "      <td>1.000000</td>\n",
       "      <td>1.000000</td>\n",
       "      <td>0.0</td>\n",
       "      <td>0.0</td>\n",
       "      <td>1.000000</td>\n",
       "      <td>0.0</td>\n",
       "      <td>1.000000</td>\n",
       "      <td>1.000000</td>\n",
       "    </tr>\n",
       "  </tbody>\n",
       "</table>\n",
       "<p>8 rows × 239 columns</p>\n",
       "</div>"
      ],
      "text/plain": [
       "          latitude    longitude         tavg  preciptotal  stnpressure  \\\n",
       "count  8304.000000  8304.000000  8304.000000  8304.000000  8304.000000   \n",
       "mean     41.845800   -87.696229    72.093931     0.182431    29.262110   \n",
       "std       0.106658     0.084440     7.630330     0.470450     0.118606   \n",
       "min      41.644612   -87.930995    50.000000     0.000000    28.890000   \n",
       "25%      41.750498   -87.752411    69.000000     0.000000    29.180000   \n",
       "50%      41.862292   -87.696269    73.000000     0.000000    29.260000   \n",
       "75%      41.947227   -87.648064    78.000000     0.160000    29.340000   \n",
       "max      42.017430   -87.531635    87.000000     3.970000    29.650000   \n",
       "\n",
       "         resultdir     avgspeed     is_spray  stnpressure_7  stnpressure_10  \\\n",
       "count  8304.000000  8304.000000  8304.000000    8304.000000     8304.000000   \n",
       "mean     17.842245     7.476903     0.008911      29.277200       29.265990   \n",
       "std       9.433945     2.543438     0.093984       0.126573        0.142227   \n",
       "min       1.000000     2.100000     0.000000      28.890000       28.910000   \n",
       "25%       8.000000     5.800000     0.000000      29.210000       29.180000   \n",
       "50%      19.000000     7.100000     0.000000      29.280000       29.260000   \n",
       "75%      25.000000     9.400000     0.000000      29.380000       29.360000   \n",
       "max      36.000000    16.300000     1.000000      29.650000       29.650000   \n",
       "\n",
       "       ...  codesum_TSRA BR HZ VCTS  codesum_TSRA FG+ BR HZ  codesum_TSRA RA  \\\n",
       "count  ...              8304.000000                  8304.0      8304.000000   \n",
       "mean   ...                 0.006142                     0.0         0.029383   \n",
       "std    ...                 0.078132                     0.0         0.168889   \n",
       "min    ...                 0.000000                     0.0         0.000000   \n",
       "25%    ...                 0.000000                     0.0         0.000000   \n",
       "50%    ...                 0.000000                     0.0         0.000000   \n",
       "75%    ...                 0.000000                     0.0         0.000000   \n",
       "max    ...                 1.000000                     0.0         1.000000   \n",
       "\n",
       "       codesum_TSRA RA BR  codesum_TSRA RA BR HZ  codesum_TSRA RA BR HZ VCTS  \\\n",
       "count         8304.000000                 8304.0                      8304.0   \n",
       "mean             0.037211                    0.0                         0.0   \n",
       "std              0.189290                    0.0                         0.0   \n",
       "min              0.000000                    0.0                         0.0   \n",
       "25%              0.000000                    0.0                         0.0   \n",
       "50%              0.000000                    0.0                         0.0   \n",
       "75%              0.000000                    0.0                         0.0   \n",
       "max              1.000000                    0.0                         0.0   \n",
       "\n",
       "       codesum_TSRA RA BR VCTS  codesum_TSRA RA VCTS  codesum_VCTS  \\\n",
       "count              8304.000000                8304.0   8304.000000   \n",
       "mean                  0.010597                   0.0      0.003974   \n",
       "std                   0.102402                   0.0      0.062918   \n",
       "min                   0.000000                   0.0      0.000000   \n",
       "25%                   0.000000                   0.0      0.000000   \n",
       "50%                   0.000000                   0.0      0.000000   \n",
       "75%                   0.000000                   0.0      0.000000   \n",
       "max                   1.000000                   0.0      1.000000   \n",
       "\n",
       "        wnvpresent  \n",
       "count  8304.000000  \n",
       "mean      0.055034  \n",
       "std       0.228060  \n",
       "min       0.000000  \n",
       "25%       0.000000  \n",
       "50%       0.000000  \n",
       "75%       0.000000  \n",
       "max       1.000000  \n",
       "\n",
       "[8 rows x 239 columns]"
      ]
     },
     "execution_count": 5,
     "metadata": {},
     "output_type": "execute_result"
    }
   ],
   "source": [
    "train.describe()"
   ]
  },
  {
   "cell_type": "code",
   "execution_count": 6,
   "id": "2b99df22",
   "metadata": {},
   "outputs": [
    {
     "name": "stdout",
     "output_type": "stream",
     "text": [
      "<class 'pandas.core.frame.DataFrame'>\n",
      "Int64Index: 8304 entries, 0 to 8303\n",
      "Columns: 239 entries, latitude to wnvpresent\n",
      "dtypes: float64(11), int64(228)\n",
      "memory usage: 15.2 MB\n"
     ]
    }
   ],
   "source": [
    "train.info()"
   ]
  },
  {
   "cell_type": "markdown",
   "id": "a7fffede",
   "metadata": {},
   "source": [
    "### Further Split Train Data into Train and Holdout"
   ]
  },
  {
   "cell_type": "code",
   "execution_count": 7,
   "id": "0b20422d",
   "metadata": {},
   "outputs": [],
   "source": [
    "# Split train data into X (all features except wnvpresent) and y (wnvpresent)\n",
    "features = [col for col in train.columns if col != 'wnvpresent']\n",
    "X = train[features]\n",
    "y = train['wnvpresent']"
   ]
  },
  {
   "cell_type": "code",
   "execution_count": 8,
   "id": "f840f66b",
   "metadata": {},
   "outputs": [
    {
     "data": {
      "text/plain": [
       "[]"
      ]
     },
     "execution_count": 8,
     "metadata": {},
     "output_type": "execute_result"
    }
   ],
   "source": [
    "X.columns[X.isna().any()].tolist()"
   ]
  },
  {
   "cell_type": "code",
   "execution_count": 9,
   "id": "622dcd8e",
   "metadata": {},
   "outputs": [
    {
     "data": {
      "text/plain": [
       "0.0    0.944966\n",
       "1.0    0.055034\n",
       "Name: wnvpresent, dtype: float64"
      ]
     },
     "execution_count": 9,
     "metadata": {},
     "output_type": "execute_result"
    }
   ],
   "source": [
    "y.value_counts(normalize = True)"
   ]
  },
  {
   "cell_type": "markdown",
   "id": "043d9808",
   "metadata": {},
   "source": [
    "- wnvpresent is highly inbalance, with only about 5.5% of the data points having West Nile Virus. \n",
    "    - It is important to stratify proportionally to ensure that our train and holdout dataset have about the same proportion of presence and absence of West Nile Virus.\n",
    "    - We also need to use SMOTE as the accuracy of our models without SMOTE is about 95% (i.e. close to the proportion of absence of WNV)"
   ]
  },
  {
   "cell_type": "code",
   "execution_count": 10,
   "id": "ee5a32c1",
   "metadata": {},
   "outputs": [],
   "source": [
    "# Further split train data into train and holdout data\n",
    "X_train, X_holdout, y_train, y_holdout = train_test_split(\n",
    "    X, \n",
    "    y,\n",
    "    stratify = y,\n",
    "    random_state=42\n",
    ")"
   ]
  },
  {
   "cell_type": "code",
   "execution_count": 11,
   "id": "d0c0f5b1",
   "metadata": {},
   "outputs": [],
   "source": [
    "# Scale our data\n",
    "ss = StandardScaler()\n",
    "Xs_train = ss.fit_transform(X_train)\n",
    "Xs_holdout = ss.transform(X_holdout)"
   ]
  },
  {
   "cell_type": "markdown",
   "id": "7ac232dc",
   "metadata": {},
   "source": [
    "## Create synthetic data with SMOTE"
   ]
  },
  {
   "cell_type": "code",
   "execution_count": 12,
   "id": "1fbf9ba9",
   "metadata": {},
   "outputs": [],
   "source": [
    "# create synthetic data for train set\n",
    "sm = SMOTE()\n",
    "Xsm_train, ysm_train = sm.fit_resample(Xs_train, y_train)"
   ]
  },
  {
   "cell_type": "code",
   "execution_count": 13,
   "id": "4217117a",
   "metadata": {},
   "outputs": [
    {
     "data": {
      "text/plain": [
       "(11770, 238)"
      ]
     },
     "execution_count": 13,
     "metadata": {},
     "output_type": "execute_result"
    }
   ],
   "source": [
    "Xsm_train.shape"
   ]
  },
  {
   "cell_type": "markdown",
   "id": "4308775f",
   "metadata": {},
   "source": [
    "## Model Exploration"
   ]
  },
  {
   "cell_type": "markdown",
   "id": "bdc1a875",
   "metadata": {},
   "source": [
    "### Metrics to Evaluate Models"
   ]
  },
  {
   "cell_type": "code",
   "execution_count": 14,
   "id": "74cd3281",
   "metadata": {},
   "outputs": [],
   "source": [
    "# Creating a summary dataframe.\n",
    "summary_df = pd.DataFrame(columns=[\n",
    "    'model', \n",
    "    'best_score', \n",
    "    'train_score',\n",
    "    'holdout_score',\n",
    "    'sensitivity',\n",
    "    'specificity',\n",
    "    'precision',\n",
    "    'f1_score',\n",
    "    'best_params', \n",
    "])"
   ]
  },
  {
   "cell_type": "code",
   "execution_count": 15,
   "id": "07b1fed9",
   "metadata": {},
   "outputs": [
    {
     "data": {
      "text/html": [
       "<div>\n",
       "<style scoped>\n",
       "    .dataframe tbody tr th:only-of-type {\n",
       "        vertical-align: middle;\n",
       "    }\n",
       "\n",
       "    .dataframe tbody tr th {\n",
       "        vertical-align: top;\n",
       "    }\n",
       "\n",
       "    .dataframe thead th {\n",
       "        text-align: right;\n",
       "    }\n",
       "</style>\n",
       "<table border=\"1\" class=\"dataframe\">\n",
       "  <thead>\n",
       "    <tr style=\"text-align: right;\">\n",
       "      <th></th>\n",
       "      <th>model</th>\n",
       "      <th>best_score</th>\n",
       "      <th>train_score</th>\n",
       "      <th>holdout_score</th>\n",
       "      <th>sensitivity</th>\n",
       "      <th>specificity</th>\n",
       "      <th>precision</th>\n",
       "      <th>f1_score</th>\n",
       "      <th>best_params</th>\n",
       "    </tr>\n",
       "  </thead>\n",
       "  <tbody>\n",
       "  </tbody>\n",
       "</table>\n",
       "</div>"
      ],
      "text/plain": [
       "Empty DataFrame\n",
       "Columns: [model, best_score, train_score, holdout_score, sensitivity, specificity, precision, f1_score, best_params]\n",
       "Index: []"
      ]
     },
     "execution_count": 15,
     "metadata": {},
     "output_type": "execute_result"
    }
   ],
   "source": [
    "summary_df"
   ]
  },
  {
   "cell_type": "code",
   "execution_count": 16,
   "id": "39977633",
   "metadata": {},
   "outputs": [],
   "source": [
    "def model_metrics(gs, X_train, y_train, X_test, y_test, modelname):\n",
    "    '''Generates confusion matrix and adds scores to summary_df'''\n",
    "    \n",
    "    #Generate confusion matrix\n",
    "    y_pred = gs.predict(X_test)\n",
    "    confusion_matrix(y_test, # True values.\n",
    "                     y_pred)  # Predicted values.\n",
    "    tn, fp, fn, tp = confusion_matrix(y_test, y_pred).ravel();\n",
    "    y_train_pred_prob = gs.predict_proba(X_train)[:,1]\n",
    "    y_test_pred_prob = gs.predict_proba(X_test)[:,1]\n",
    "    \n",
    "    summary_df_rows = summary_df.shape[0]\n",
    "    # Adding the scores into summary_df\n",
    "    summary_df.loc[summary_df_rows] = [\n",
    "        modelname,\n",
    "        #'CountVec/LogisticRegression',\n",
    "        round(gs.best_score_, 3),\n",
    "        round(metrics.roc_auc_score(y_train, y_train_pred_prob),3),\n",
    "        round(metrics.roc_auc_score(y_test, y_test_pred_prob),3),\n",
    "        round(metrics.recall_score(y_test, y_pred),3),\n",
    "        round(tn/(tn+fp),3),\n",
    "        round(tp / (tp + fp), 3),\n",
    "        round(metrics.f1_score(y_test, y_pred),3),\n",
    "        str(gs.best_params_),\n",
    "    ]\n",
    "    \n",
    "    \n",
    "    \n",
    "    # Plot Confusion Matrix\n",
    "    plot_confusion_matrix(gs, X_test, y_test, cmap='Blues', \n",
    "                          display_labels=['WNV Present', 'WNV Not Present'],\n",
    "                          normalize='true');  \n",
    "    plt.title(label=modelname, fontsize=14)\n",
    "    plt.grid(False)"
   ]
  },
  {
   "cell_type": "markdown",
   "id": "d238642b",
   "metadata": {},
   "source": [
    "### Checking for the importance of using SMOTE"
   ]
  },
  {
   "cell_type": "markdown",
   "id": "b29be1f0",
   "metadata": {},
   "source": [
    "We realize that the positive of interest, WNV, only appears in about 6% of our dataset. There might not be enough true positives to train our modelling. We will therefore use SMOTE , Synthetic Minority Oversampling TEchnique to attempt to overcome this deficit."
   ]
  },
  {
   "cell_type": "markdown",
   "id": "7fc02dc0",
   "metadata": {},
   "source": [
    "### Basic Logistic Regression w/o SMOTE"
   ]
  },
  {
   "cell_type": "code",
   "execution_count": 18,
   "id": "23641bab",
   "metadata": {
    "scrolled": true
   },
   "outputs": [
    {
     "name": "stdout",
     "output_type": "stream",
     "text": [
      "Logistic Regression Intercept: [-5.18323133]\n"
     ]
    },
    {
     "name": "stderr",
     "output_type": "stream",
     "text": [
      "C:\\Users\\deang\\anaconda3\\envs\\dsi27tf\\lib\\site-packages\\sklearn\\linear_model\\_logistic.py:818: ConvergenceWarning: lbfgs failed to converge (status=1):\n",
      "STOP: TOTAL NO. of ITERATIONS REACHED LIMIT.\n",
      "\n",
      "Increase the number of iterations (max_iter) or scale the data as shown in:\n",
      "    https://scikit-learn.org/stable/modules/preprocessing.html\n",
      "Please also refer to the documentation for alternative solver options:\n",
      "    https://scikit-learn.org/stable/modules/linear_model.html#logistic-regression\n",
      "  extra_warning_msg=_LOGISTIC_SOLVER_CONVERGENCE_MSG,\n"
     ]
    }
   ],
   "source": [
    "# Instantiate model\n",
    "logreg = LogisticRegression()\n",
    "\n",
    "# Fit model\n",
    "logreg.fit(Xs_train, y_train)\n",
    "\n",
    "print(f'Logistic Regression Intercept: {logreg.intercept_}')\n"
   ]
  },
  {
   "cell_type": "code",
   "execution_count": null,
   "id": "ab9ae47b",
   "metadata": {},
   "outputs": [],
   "source": []
  },
  {
   "cell_type": "code",
   "execution_count": null,
   "id": "28c0e34c",
   "metadata": {},
   "outputs": [],
   "source": []
  },
  {
   "cell_type": "code",
   "execution_count": 19,
   "id": "4c910614",
   "metadata": {},
   "outputs": [
    {
     "data": {
      "text/plain": [
       "(0.9449261400128453, 0.9436416184971098)"
      ]
     },
     "execution_count": 19,
     "metadata": {},
     "output_type": "execute_result"
    }
   ],
   "source": [
    "logreg.score(Xs_train, y_train), logreg.score(Xs_holdout, y_holdout)"
   ]
  },
  {
   "cell_type": "code",
   "execution_count": 20,
   "id": "8740b39f",
   "metadata": {},
   "outputs": [
    {
     "name": "stdout",
     "output_type": "stream",
     "text": [
      "LogisticRegression summary of accuracy scores:\n",
      "\n",
      "Using GridSearchCV best params suggested,\n",
      "Training corpus accuracy = 0.055\n",
      "Testing corpus accuracy = 0.055\n"
     ]
    },
    {
     "name": "stderr",
     "output_type": "stream",
     "text": [
      "C:\\Users\\deang\\anaconda3\\envs\\dsi27tf\\lib\\site-packages\\sklearn\\base.py:444: UserWarning: X has feature names, but LogisticRegression was fitted without feature names\n",
      "  f\"X has feature names, but {self.__class__.__name__} was fitted without\"\n",
      "C:\\Users\\deang\\anaconda3\\envs\\dsi27tf\\lib\\site-packages\\sklearn\\base.py:444: UserWarning: X has feature names, but LogisticRegression was fitted without feature names\n",
      "  f\"X has feature names, but {self.__class__.__name__} was fitted without\"\n"
     ]
    }
   ],
   "source": [
    "# Summary scores of CountVectorizer and LogisticRegression.\n",
    "print(\"LogisticRegression summary of accuracy scores:\")\n",
    "#print(f\"GridSearchCV best accuracy = {round(gs_pipe.best_score_, 3)}\")\n",
    "print(\"\\nUsing GridSearchCV best params suggested,\")\n",
    "print(f\"Training corpus accuracy = {round(logreg.score(X_train, y_train), 3)}\")\n",
    "print(f\"Testing corpus accuracy = {round(logreg.score(X_holdout, y_holdout), 3)}\")"
   ]
  },
  {
   "cell_type": "code",
   "execution_count": null,
   "id": "a04fd019",
   "metadata": {},
   "outputs": [],
   "source": []
  },
  {
   "cell_type": "code",
   "execution_count": null,
   "id": "342d524a",
   "metadata": {},
   "outputs": [],
   "source": []
  },
  {
   "cell_type": "code",
   "execution_count": 21,
   "id": "1bed3898",
   "metadata": {},
   "outputs": [],
   "source": [
    "# Get predictions, confusion matrix\n",
    "preds_logreg = logreg.predict(Xs_holdout)\n",
    "# Save confusion matrix values\n",
    "tn, fp, fn, tp = confusion_matrix(y_holdout, preds_logreg).ravel()\n",
    "# Calculate the specificity, sensitivity, precision, f1 score\n",
    "acc = (tn + tp) / (tn + fp + fn + tp)\n",
    "sens = tp / (tp + fn)\n",
    "spec = tn / (tn + fp)\n",
    "prec = tp / (tp + fp)\n",
    "f1 = 2 * (prec*sens) / (prec + sens)"
   ]
  },
  {
   "cell_type": "code",
   "execution_count": 22,
   "id": "9d883694",
   "metadata": {},
   "outputs": [],
   "source": [
    "con1 = confusion_matrix(y_holdout, preds_logreg)"
   ]
  },
  {
   "cell_type": "code",
   "execution_count": 23,
   "id": "3aced3bd",
   "metadata": {},
   "outputs": [
    {
     "data": {
      "image/png": "[encoded data removed]",
      "text/plain": [
       "<Figure size 432x288 with 2 Axes>"
      ]
     },
     "metadata": {
      "needs_background": "light"
     },
     "output_type": "display_data"
    }
   ],
   "source": [
    "ax = sns.heatmap(con1, annot=True, cmap='Blues')\n",
    "\n",
    "ax.set_title('Log Reg without SMOTE');\n",
    "ax.set_xlabel('\\nPredicted Values')\n",
    "ax.set_ylabel('Actual Values ');\n",
    "\n",
    "## Ticket labels - List must be in alphabetical order\n",
    "ax.xaxis.set_ticklabels(['False','True'])\n",
    "ax.yaxis.set_ticklabels(['False','True'])\n",
    "\n",
    "## Display the visualization of the Confusion Matrix.\n",
    "plt.show()"
   ]
  },
  {
   "cell_type": "code",
   "execution_count": 24,
   "id": "49ccc8d9",
   "metadata": {
    "scrolled": true
   },
   "outputs": [
    {
     "data": {
      "text/plain": [
       "0.9436416184971098"
      ]
     },
     "execution_count": 24,
     "metadata": {},
     "output_type": "execute_result"
    }
   ],
   "source": [
    "acc"
   ]
  },
  {
   "cell_type": "code",
   "execution_count": 25,
   "id": "9a9a1f6f",
   "metadata": {},
   "outputs": [
    {
     "data": {
      "text/plain": [
       "0.09649122807017543"
      ]
     },
     "execution_count": 25,
     "metadata": {},
     "output_type": "execute_result"
    }
   ],
   "source": [
    "sens"
   ]
  },
  {
   "cell_type": "code",
   "execution_count": 26,
   "id": "fe71825c",
   "metadata": {},
   "outputs": [
    {
     "data": {
      "text/plain": [
       "0.9928644240570846"
      ]
     },
     "execution_count": 26,
     "metadata": {},
     "output_type": "execute_result"
    }
   ],
   "source": [
    "spec"
   ]
  },
  {
   "cell_type": "code",
   "execution_count": 27,
   "id": "f737a93b",
   "metadata": {},
   "outputs": [
    {
     "data": {
      "text/plain": [
       "0.44"
      ]
     },
     "execution_count": 27,
     "metadata": {},
     "output_type": "execute_result"
    }
   ],
   "source": [
    "prec"
   ]
  },
  {
   "cell_type": "code",
   "execution_count": 28,
   "id": "a4aae50e",
   "metadata": {},
   "outputs": [
    {
     "data": {
      "text/plain": [
       "0.15827338129496402"
      ]
     },
     "execution_count": 28,
     "metadata": {},
     "output_type": "execute_result"
    }
   ],
   "source": [
    "f1"
   ]
  },
  {
   "cell_type": "code",
   "execution_count": 29,
   "id": "499f7a96",
   "metadata": {},
   "outputs": [],
   "source": [
    "summary_df = pd.DataFrame(columns=[\n",
    "    'model', \n",
    "    'best_score', \n",
    "    'train_score',\n",
    "    'holdout_score',\n",
    "    'sensitivity',\n",
    "    'specificity',\n",
    "    'precision',\n",
    "    'f1_score',\n",
    "    'best_params', \n",
    "])"
   ]
  },
  {
   "cell_type": "code",
   "execution_count": 30,
   "id": "d91ebcb9",
   "metadata": {},
   "outputs": [
    {
     "ename": "NameError",
     "evalue": "name 'gs' is not defined",
     "output_type": "error",
     "traceback": [
      "\u001b[1;31m---------------------------------------------------------------------------\u001b[0m",
      "\u001b[1;31mNameError\u001b[0m                                 Traceback (most recent call last)",
      "\u001b[1;32m~\\AppData\\Local\\Temp\\ipykernel_880\\913484991.py\u001b[0m in \u001b[0;36m<module>\u001b[1;34m\u001b[0m\n\u001b[0;32m      2\u001b[0m     \u001b[1;34m'Logistic Regression without SMOTE'\u001b[0m\u001b[1;33m,\u001b[0m\u001b[1;33m\u001b[0m\u001b[1;33m\u001b[0m\u001b[0m\n\u001b[0;32m      3\u001b[0m     \u001b[1;31m#'CountVec/LogisticRegression',\u001b[0m\u001b[1;33m\u001b[0m\u001b[1;33m\u001b[0m\u001b[1;33m\u001b[0m\u001b[0m\n\u001b[1;32m----> 4\u001b[1;33m     \u001b[0mround\u001b[0m\u001b[1;33m(\u001b[0m\u001b[0mgs\u001b[0m\u001b[1;33m.\u001b[0m\u001b[0mbest_score_\u001b[0m\u001b[1;33m,\u001b[0m \u001b[1;36m3\u001b[0m\u001b[1;33m)\u001b[0m\u001b[1;33m,\u001b[0m\u001b[1;33m\u001b[0m\u001b[1;33m\u001b[0m\u001b[0m\n\u001b[0m\u001b[0;32m      5\u001b[0m     \u001b[0mround\u001b[0m\u001b[1;33m(\u001b[0m\u001b[0mgs\u001b[0m\u001b[1;33m.\u001b[0m\u001b[0mscore\u001b[0m\u001b[1;33m(\u001b[0m\u001b[0mX_train\u001b[0m\u001b[1;33m,\u001b[0m \u001b[0my_train\u001b[0m\u001b[1;33m)\u001b[0m\u001b[1;33m,\u001b[0m \u001b[1;36m3\u001b[0m\u001b[1;33m)\u001b[0m\u001b[1;33m,\u001b[0m\u001b[1;33m\u001b[0m\u001b[1;33m\u001b[0m\u001b[0m\n\u001b[0;32m      6\u001b[0m     \u001b[0mround\u001b[0m\u001b[1;33m(\u001b[0m\u001b[0mgs\u001b[0m\u001b[1;33m.\u001b[0m\u001b[0mscore\u001b[0m\u001b[1;33m(\u001b[0m\u001b[0mX_test\u001b[0m\u001b[1;33m,\u001b[0m \u001b[0my_test\u001b[0m\u001b[1;33m)\u001b[0m\u001b[1;33m,\u001b[0m \u001b[1;36m3\u001b[0m\u001b[1;33m)\u001b[0m\u001b[1;33m,\u001b[0m\u001b[1;33m\u001b[0m\u001b[1;33m\u001b[0m\u001b[0m\n",
      "\u001b[1;31mNameError\u001b[0m: name 'gs' is not defined"
     ]
    }
   ],
   "source": [
    "summary_df.loc[summary_df_rows] = [\n",
    "    'Logistic Regression without SMOTE',\n",
    "    #'CountVec/LogisticRegression',\n",
    "    round(gs.best_score_, 3),\n",
    "    round(gs.score(X_train, y_train), 3),\n",
    "    round(gs.score(X_test, y_test), 3),\n",
    "    # round(metrics.roc_auc_score(y_train, y_train_pred_prob),3),\n",
    "    # round(metrics.roc_auc_score(y_test, y_test_pred_prob),3),\n",
    "    round(metrics.recall_score(y_test, y_pred),3),\n",
    "    round(tn/(tn+fp),3),\n",
    "    round(tp / (tp + fp), 3),\n",
    "    round(metrics.f1_score(y_test, y_pred),3),\n",
    "    str(gs.best_params_),\n",
    "]"
   ]
  },
  {
   "cell_type": "code",
   "execution_count": null,
   "id": "a912af36",
   "metadata": {},
   "outputs": [],
   "source": []
  },
  {
   "cell_type": "markdown",
   "id": "9e35536c",
   "metadata": {},
   "source": [
    "### Basic Logistic Regression w/ SMOTE"
   ]
  },
  {
   "cell_type": "code",
   "execution_count": 31,
   "id": "3d9d62c9",
   "metadata": {},
   "outputs": [
    {
     "name": "stdout",
     "output_type": "stream",
     "text": [
      "Logistic Regression Intercept: [-3.94351034]\n"
     ]
    },
    {
     "name": "stderr",
     "output_type": "stream",
     "text": [
      "C:\\Users\\deang\\anaconda3\\envs\\dsi27tf\\lib\\site-packages\\sklearn\\linear_model\\_logistic.py:818: ConvergenceWarning: lbfgs failed to converge (status=1):\n",
      "STOP: TOTAL NO. of ITERATIONS REACHED LIMIT.\n",
      "\n",
      "Increase the number of iterations (max_iter) or scale the data as shown in:\n",
      "    https://scikit-learn.org/stable/modules/preprocessing.html\n",
      "Please also refer to the documentation for alternative solver options:\n",
      "    https://scikit-learn.org/stable/modules/linear_model.html#logistic-regression\n",
      "  extra_warning_msg=_LOGISTIC_SOLVER_CONVERGENCE_MSG,\n"
     ]
    }
   ],
   "source": [
    "# Instantiate model\n",
    "logreg2 = LogisticRegression()\n",
    "\n",
    "# Fit model\n",
    "logreg2.fit(Xsm_train, ysm_train)\n",
    "\n",
    "print(f'Logistic Regression Intercept: {logreg2.intercept_}')"
   ]
  },
  {
   "cell_type": "code",
   "execution_count": 32,
   "id": "7dd13232",
   "metadata": {},
   "outputs": [
    {
     "data": {
      "text/plain": [
       "(0.862786745964316, 0.7904624277456648)"
      ]
     },
     "execution_count": 32,
     "metadata": {},
     "output_type": "execute_result"
    }
   ],
   "source": [
    "#log-reg of with-week data, with SMOTE\n",
    "logreg2.score(Xsm_train, ysm_train), logreg2.score(Xs_holdout, y_holdout)"
   ]
  },
  {
   "cell_type": "code",
   "execution_count": 33,
   "id": "e244de17",
   "metadata": {},
   "outputs": [],
   "source": [
    "# Get predictions, confusion matrix\n",
    "preds_logreg2 = logreg2.predict(Xs_holdout)\n",
    "# Save confusion matrix values\n",
    "tn, fp, fn, tp = confusion_matrix(y_holdout, preds_logreg2).ravel()"
   ]
  },
  {
   "cell_type": "code",
   "execution_count": 34,
   "id": "ea06ff4f",
   "metadata": {},
   "outputs": [],
   "source": [
    "# Calculate the specificity, sensitivity, precision, f1 score\n",
    "acc = (tn + tp) / (tn + fp + fn + tp)\n",
    "sens = tp / (tp + fn)\n",
    "spec = tn / (tn + fp)\n",
    "prec = tp / (tp + fp)\n",
    "f1 = 2 * (prec*sens) / (prec + sens)"
   ]
  },
  {
   "cell_type": "code",
   "execution_count": 35,
   "id": "08ae833d",
   "metadata": {},
   "outputs": [],
   "source": [
    "con2 = confusion_matrix(y_holdout, preds_logreg2)"
   ]
  },
  {
   "cell_type": "code",
   "execution_count": 36,
   "id": "7257620d",
   "metadata": {},
   "outputs": [
    {
     "data": {
      "image/png": "[encoded data removed]",
      "text/plain": [
       "<Figure size 432x288 with 2 Axes>"
      ]
     },
     "metadata": {
      "needs_background": "light"
     },
     "output_type": "display_data"
    }
   ],
   "source": [
    "ax = sns.heatmap(con2, annot=True, cmap='Blues')\n",
    "\n",
    "ax.set_title('Log Reg without SMOTE');\n",
    "ax.set_xlabel('\\nPredicted Values')\n",
    "ax.set_ylabel('Actual Values ');\n",
    "\n",
    "## Ticket labels - List must be in alphabetical order\n",
    "ax.xaxis.set_ticklabels(['False','True'])\n",
    "ax.yaxis.set_ticklabels(['False','True'])\n",
    "\n",
    "## Display the visualization of the Confusion Matrix.\n",
    "plt.show()"
   ]
  },
  {
   "cell_type": "code",
   "execution_count": 37,
   "id": "55eb907d",
   "metadata": {},
   "outputs": [],
   "source": [
    "# with weeks, with smote"
   ]
  },
  {
   "cell_type": "code",
   "execution_count": 38,
   "id": "34434aaa",
   "metadata": {},
   "outputs": [
    {
     "data": {
      "text/plain": [
       "0.7904624277456648"
      ]
     },
     "execution_count": 38,
     "metadata": {},
     "output_type": "execute_result"
    }
   ],
   "source": [
    "acc"
   ]
  },
  {
   "cell_type": "code",
   "execution_count": 39,
   "id": "b4639133",
   "metadata": {},
   "outputs": [
    {
     "data": {
      "text/plain": [
       "0.6403508771929824"
      ]
     },
     "execution_count": 39,
     "metadata": {},
     "output_type": "execute_result"
    }
   ],
   "source": [
    "sens"
   ]
  },
  {
   "cell_type": "code",
   "execution_count": 40,
   "id": "ef31d176",
   "metadata": {},
   "outputs": [
    {
     "data": {
      "text/plain": [
       "0.799184505606524"
      ]
     },
     "execution_count": 40,
     "metadata": {},
     "output_type": "execute_result"
    }
   ],
   "source": [
    "spec"
   ]
  },
  {
   "cell_type": "code",
   "execution_count": 41,
   "id": "b581cdb2",
   "metadata": {},
   "outputs": [
    {
     "data": {
      "text/plain": [
       "0.15631691648822268"
      ]
     },
     "execution_count": 41,
     "metadata": {},
     "output_type": "execute_result"
    }
   ],
   "source": [
    "prec"
   ]
  },
  {
   "cell_type": "code",
   "execution_count": 42,
   "id": "10968a65",
   "metadata": {},
   "outputs": [
    {
     "data": {
      "text/plain": [
       "0.25129087779690185"
      ]
     },
     "execution_count": 42,
     "metadata": {},
     "output_type": "execute_result"
    }
   ],
   "source": [
    "f1"
   ]
  },
  {
   "cell_type": "code",
   "execution_count": 43,
   "id": "fe4e6d2a",
   "metadata": {},
   "outputs": [],
   "source": [
    "dataframe = pd.DataFrame(columns = [\"modelname\",\"acc\", \"sens\", \"spec\", \"prec\", \"f1\"])"
   ]
  },
  {
   "cell_type": "code",
   "execution_count": 44,
   "id": "24371fb1",
   "metadata": {},
   "outputs": [
    {
     "data": {
      "text/html": [
       "<div>\n",
       "<style scoped>\n",
       "    .dataframe tbody tr th:only-of-type {\n",
       "        vertical-align: middle;\n",
       "    }\n",
       "\n",
       "    .dataframe tbody tr th {\n",
       "        vertical-align: top;\n",
       "    }\n",
       "\n",
       "    .dataframe thead th {\n",
       "        text-align: right;\n",
       "    }\n",
       "</style>\n",
       "<table border=\"1\" class=\"dataframe\">\n",
       "  <thead>\n",
       "    <tr style=\"text-align: right;\">\n",
       "      <th></th>\n",
       "      <th>modelname</th>\n",
       "      <th>acc</th>\n",
       "      <th>sens</th>\n",
       "      <th>spec</th>\n",
       "      <th>prec</th>\n",
       "      <th>f1</th>\n",
       "    </tr>\n",
       "  </thead>\n",
       "  <tbody>\n",
       "  </tbody>\n",
       "</table>\n",
       "</div>"
      ],
      "text/plain": [
       "Empty DataFrame\n",
       "Columns: [modelname, acc, sens, spec, prec, f1]\n",
       "Index: []"
      ]
     },
     "execution_count": 44,
     "metadata": {},
     "output_type": "execute_result"
    }
   ],
   "source": [
    "dataframe"
   ]
  },
  {
   "cell_type": "code",
   "execution_count": null,
   "id": "1c7744e5",
   "metadata": {},
   "outputs": [],
   "source": []
  },
  {
   "cell_type": "markdown",
   "id": "c262831a",
   "metadata": {},
   "source": [
    "We observe that the accuracy has decreased from 0.94364 to 0.79576, which means that we are not predicting true positives or true negatives accurately as often. However, we observe that our sensitivity, which is our true positive over the sum of true positive and false negatives, has increased from the low value of 0.09649 to 0.63158. That means that roughly 63.1% of the WNV positive traps can be caught by our model, compared to about 9.6% previously. Therefore, we would prefer to be using SMOTE in order to capture more WNV points for effective control. "
   ]
  },
  {
   "cell_type": "markdown",
   "id": "d72ba4ba",
   "metadata": {},
   "source": [
    "### Testing of importance of week & year data"
   ]
  },
  {
   "cell_type": "code",
   "execution_count": 45,
   "id": "df0b6335",
   "metadata": {},
   "outputs": [],
   "source": [
    "df2 = df.copy()"
   ]
  },
  {
   "cell_type": "code",
   "execution_count": 46,
   "id": "047b8b4d",
   "metadata": {},
   "outputs": [],
   "source": [
    "df2.drop(columns = ['week_23',\n",
    " 'week_24',\n",
    " 'week_25',\n",
    " 'week_26',\n",
    " 'week_27',\n",
    " 'week_28',\n",
    " 'week_29',\n",
    " 'week_30',\n",
    " 'week_31',\n",
    " 'week_32',\n",
    " 'week_33',\n",
    " 'week_34',\n",
    " 'week_35',\n",
    " 'week_36',\n",
    " 'week_37',\n",
    " 'week_38',\n",
    " 'week_39',\n",
    " 'week_40',\n",
    " 'week_41',\n",
    " 'year_2008',\n",
    " 'year_2009',                    \n",
    " 'year_2010',                    \n",
    " 'year_2011',\n",
    " 'year_2012',\n",
    " 'year_2013',                    \n",
    " 'year_2014',                     \n",
    "                   ], inplace = True)"
   ]
  },
  {
   "cell_type": "code",
   "execution_count": 47,
   "id": "25cfa0f2",
   "metadata": {},
   "outputs": [
    {
     "data": {
      "text/plain": [
       "Index(['latitude', 'longitude', 'tavg', 'preciptotal', 'stnpressure',\n",
       "       'resultdir', 'avgspeed', 'is_spray', 'stnpressure_7', 'stnpressure_10',\n",
       "       ...\n",
       "       'codesum_TSRA FG+ BR HZ', 'codesum_TSRA RA', 'codesum_TSRA RA BR',\n",
       "       'codesum_TSRA RA BR HZ', 'codesum_TSRA RA BR HZ VCTS',\n",
       "       'codesum_TSRA RA BR VCTS', 'codesum_TSRA RA VCTS', 'codesum_VCTS',\n",
       "       'wnvpresent', 'dataset'],\n",
       "      dtype='object', length=214)"
      ]
     },
     "execution_count": 47,
     "metadata": {},
     "output_type": "execute_result"
    }
   ],
   "source": [
    "df2.columns"
   ]
  },
  {
   "cell_type": "code",
   "execution_count": 48,
   "id": "782e9df8",
   "metadata": {},
   "outputs": [
    {
     "name": "stdout",
     "output_type": "stream",
     "text": [
      "(8304, 214)\n",
      "(43035, 214)\n"
     ]
    }
   ],
   "source": [
    "train2 = df2[df2['dataset']=='train'].copy()\n",
    "test2 = df2[df2['dataset']=='test'].copy()\n",
    "print(train2.shape)\n",
    "print(test2.shape)"
   ]
  },
  {
   "cell_type": "code",
   "execution_count": 49,
   "id": "14402f67",
   "metadata": {},
   "outputs": [],
   "source": [
    "# Split train data into X (all features except wnvpresent) and y (wnvpresent)\n",
    "features = [col for col in train2.columns if col != 'wnvpresent']\n",
    "X2 = train2[features]\n",
    "y2 = train2['wnvpresent']"
   ]
  },
  {
   "cell_type": "code",
   "execution_count": 50,
   "id": "13b9548b",
   "metadata": {},
   "outputs": [
    {
     "name": "stderr",
     "output_type": "stream",
     "text": [
      "C:\\Users\\deang\\anaconda3\\envs\\dsi27tf\\lib\\site-packages\\pandas\\core\\frame.py:4913: SettingWithCopyWarning: \n",
      "A value is trying to be set on a copy of a slice from a DataFrame\n",
      "\n",
      "See the caveats in the documentation: https://pandas.pydata.org/pandas-docs/stable/user_guide/indexing.html#returning-a-view-versus-a-copy\n",
      "  errors=errors,\n"
     ]
    }
   ],
   "source": [
    "X2.drop(columns = [\"dataset\"],inplace = True)"
   ]
  },
  {
   "cell_type": "code",
   "execution_count": 51,
   "id": "bfa57092",
   "metadata": {},
   "outputs": [],
   "source": [
    "# Further split train data into train and holdout data\n",
    "X_train2, X_holdout2, y_train2, y_holdout2 = train_test_split(\n",
    "    X2, \n",
    "    y2,\n",
    "    stratify = y2,\n",
    "    random_state=42\n",
    ")"
   ]
  },
  {
   "cell_type": "code",
   "execution_count": 52,
   "id": "d0c88499",
   "metadata": {},
   "outputs": [],
   "source": [
    "# Scale our data\n",
    "ss = StandardScaler()\n",
    "Xs_train2 = ss.fit_transform(X_train2)\n",
    "Xs_holdout2 = ss.transform(X_holdout2)"
   ]
  },
  {
   "cell_type": "code",
   "execution_count": 53,
   "id": "d80d39aa",
   "metadata": {},
   "outputs": [],
   "source": [
    "# create synthetic data for train set\n",
    "sm = SMOTE()\n",
    "Xsm_train2, ysm_train2 = sm.fit_resample(Xs_train2, y_train2)"
   ]
  },
  {
   "cell_type": "code",
   "execution_count": 54,
   "id": "fd770746",
   "metadata": {},
   "outputs": [
    {
     "name": "stdout",
     "output_type": "stream",
     "text": [
      "Logistic Regression Intercept: [-2.46882947]\n"
     ]
    }
   ],
   "source": [
    "logreg = LogisticRegression(max_iter=10_000)\n",
    "\n",
    "# Fit model\n",
    "logreg.fit(Xsm_train2, ysm_train2)\n",
    "\n",
    "print(f'Logistic Regression Intercept: {logreg.intercept_}')"
   ]
  },
  {
   "cell_type": "code",
   "execution_count": 55,
   "id": "a3fad5c8",
   "metadata": {},
   "outputs": [
    {
     "data": {
      "text/plain": [
       "(0.8251486830926084, 0.7514450867052023)"
      ]
     },
     "execution_count": 55,
     "metadata": {},
     "output_type": "execute_result"
    }
   ],
   "source": [
    "#logreg of no-week data, with SMOTE\n",
    "logreg.score(Xsm_train2, ysm_train2), logreg.score(Xs_holdout2, y_holdout2)"
   ]
  },
  {
   "cell_type": "code",
   "execution_count": 56,
   "id": "f82329db",
   "metadata": {},
   "outputs": [],
   "source": [
    "# Get predictions, confusion matrix\n",
    "preds_logreg_noweek = logreg.predict(Xs_holdout2)\n",
    "# Save confusion matrix values\n",
    "tn, fp, fn, tp = confusion_matrix(y_holdout2, preds_logreg_noweek).ravel()\n",
    "# Calculate the specificity, sensitivity, precision, f1 score\n",
    "acc = (tn + tp) / (tn + fp + fn + tp)\n",
    "sens = tp / (tp + fn)\n",
    "spec = tn / (tn + fp)\n",
    "prec = tp / (tp + fp)\n",
    "f1 = 2 * (prec*sens) / (prec + sens)\n",
    "\n"
   ]
  },
  {
   "cell_type": "code",
   "execution_count": 57,
   "id": "0d82738d",
   "metadata": {},
   "outputs": [
    {
     "data": {
      "image/png": "[encoded data removed]",
      "text/plain": [
       "<Figure size 432x288 with 2 Axes>"
      ]
     },
     "metadata": {
      "needs_background": "light"
     },
     "output_type": "display_data"
    }
   ],
   "source": [
    "con3 = confusion_matrix(y_holdout2, preds_logreg_noweek)\n",
    "\n",
    "ax = sns.heatmap(con3, annot=True, cmap='Blues')\n",
    "\n",
    "ax.set_title('Log Reg SMOTE no weeks');\n",
    "ax.set_xlabel('\\nPredicted Values')\n",
    "ax.set_ylabel('Actual Values ');\n",
    "\n",
    "## Ticket labels - List must be in alphabetical order\n",
    "ax.xaxis.set_ticklabels(['False','True'])\n",
    "ax.yaxis.set_ticklabels(['False','True'])\n",
    "\n",
    "## Display the visualization of the Confusion Matrix.\n",
    "plt.show()"
   ]
  },
  {
   "cell_type": "code",
   "execution_count": 58,
   "id": "9aaf735a",
   "metadata": {},
   "outputs": [],
   "source": [
    "# no weeks, with smote"
   ]
  },
  {
   "cell_type": "code",
   "execution_count": 59,
   "id": "ae29f526",
   "metadata": {},
   "outputs": [
    {
     "data": {
      "text/plain": [
       "0.7514450867052023"
      ]
     },
     "execution_count": 59,
     "metadata": {},
     "output_type": "execute_result"
    }
   ],
   "source": [
    "acc"
   ]
  },
  {
   "cell_type": "code",
   "execution_count": 60,
   "id": "434fca35",
   "metadata": {},
   "outputs": [
    {
     "data": {
      "text/plain": [
       "0.6228070175438597"
      ]
     },
     "execution_count": 60,
     "metadata": {},
     "output_type": "execute_result"
    }
   ],
   "source": [
    "sens"
   ]
  },
  {
   "cell_type": "code",
   "execution_count": 61,
   "id": "1ea0b5e5",
   "metadata": {},
   "outputs": [
    {
     "data": {
      "text/plain": [
       "0.7589194699286442"
      ]
     },
     "execution_count": 61,
     "metadata": {},
     "output_type": "execute_result"
    }
   ],
   "source": [
    "spec"
   ]
  },
  {
   "cell_type": "code",
   "execution_count": 62,
   "id": "8a29e2a9",
   "metadata": {},
   "outputs": [
    {
     "data": {
      "text/plain": [
       "0.13051470588235295"
      ]
     },
     "execution_count": 62,
     "metadata": {},
     "output_type": "execute_result"
    }
   ],
   "source": [
    "prec"
   ]
  },
  {
   "cell_type": "code",
   "execution_count": 63,
   "id": "5f3d64e2",
   "metadata": {},
   "outputs": [
    {
     "data": {
      "text/plain": [
       "0.2158054711246201"
      ]
     },
     "execution_count": 63,
     "metadata": {},
     "output_type": "execute_result"
    }
   ],
   "source": [
    "f1"
   ]
  },
  {
   "cell_type": "markdown",
   "id": "e9dfee6e",
   "metadata": {},
   "source": [
    "Previously, accuracy was 0.7958, sensitivity was 0.6316, specificity  was 0.8053, precision was 0.1586, and f1 score was 0.2535.\n",
    "\n",
    "Without weeks, our accuracy has dropped from 79.6% to 77.3%, but our sensitivity has increased to about 65.8% compared to 63.2%.\n",
    "\n",
    "Given that the values are rather similar, we would be inclined to drop the weeks so that we can generalise our results to years where the weather patterns are not similar for the weeks within. Using weather data would be a better model to account for any climate changes or erratic weather."
   ]
  },
  {
   "cell_type": "code",
   "execution_count": null,
   "id": "2935b215",
   "metadata": {},
   "outputs": [],
   "source": []
  },
  {
   "cell_type": "code",
   "execution_count": 64,
   "id": "3b61ab69",
   "metadata": {},
   "outputs": [],
   "source": [
    "df = df2.copy()"
   ]
  },
  {
   "cell_type": "code",
   "execution_count": 65,
   "id": "f77382d2",
   "metadata": {},
   "outputs": [
    {
     "name": "stdout",
     "output_type": "stream",
     "text": [
      "(8304, 214)\n",
      "(43035, 214)\n"
     ]
    }
   ],
   "source": [
    "# Split into train and test (kaggle) data \n",
    "train = df[df['dataset']=='train'].copy()\n",
    "test = df[df['dataset']=='test'].copy()\n",
    "print(train.shape)\n",
    "print(test.shape)"
   ]
  },
  {
   "cell_type": "code",
   "execution_count": 66,
   "id": "fcb846c8",
   "metadata": {},
   "outputs": [],
   "source": [
    "train.drop(columns='dataset', inplace=True)\n",
    "test.drop(columns='dataset', inplace=True)"
   ]
  },
  {
   "cell_type": "code",
   "execution_count": 67,
   "id": "73ad71b5",
   "metadata": {},
   "outputs": [],
   "source": [
    "# Split train data into X (all features except wnvpresent) and y (wnvpresent)\n",
    "features = [col for col in train.columns if col != 'wnvpresent']\n",
    "X = train[features]\n",
    "y = train['wnvpresent']"
   ]
  },
  {
   "cell_type": "code",
   "execution_count": 68,
   "id": "c1244b9e",
   "metadata": {},
   "outputs": [],
   "source": [
    "# Further split train data into train and holdout data\n",
    "X_train, X_holdout, y_train, y_holdout = train_test_split(\n",
    "    X, \n",
    "    y,\n",
    "    stratify = y,\n",
    "    random_state=42\n",
    ")"
   ]
  },
  {
   "cell_type": "code",
   "execution_count": 69,
   "id": "46cd80e3",
   "metadata": {},
   "outputs": [],
   "source": [
    "# Scale our data\n",
    "ss = StandardScaler()\n",
    "Xs_train = ss.fit_transform(X_train)\n",
    "Xs_holdout = ss.transform(X_holdout)"
   ]
  },
  {
   "cell_type": "code",
   "execution_count": 70,
   "id": "7065def2",
   "metadata": {},
   "outputs": [],
   "source": [
    "# create synthetic data for train set\n",
    "sm = SMOTE()\n",
    "Xsm_train, ysm_train = sm.fit_resample(Xs_train, y_train)"
   ]
  },
  {
   "cell_type": "code",
   "execution_count": null,
   "id": "0a6675ac",
   "metadata": {},
   "outputs": [],
   "source": []
  },
  {
   "cell_type": "code",
   "execution_count": null,
   "id": "28ba345d",
   "metadata": {},
   "outputs": [],
   "source": []
  },
  {
   "cell_type": "markdown",
   "id": "bd4aadf6",
   "metadata": {},
   "source": [
    "### Logistics Regression "
   ]
  },
  {
   "cell_type": "code",
   "execution_count": 71,
   "id": "4aaadfef",
   "metadata": {},
   "outputs": [
    {
     "name": "stdout",
     "output_type": "stream",
     "text": [
      "Logistic Regression Intercept: [-2.4733826]\n"
     ]
    }
   ],
   "source": [
    "logreg = LogisticRegression(max_iter=10_000)\n",
    "\n",
    "# Fit model\n",
    "logreg.fit(Xsm_train, ysm_train)\n",
    "\n",
    "print(f'Logistic Regression Intercept: {logreg.intercept_}')"
   ]
  },
  {
   "cell_type": "code",
   "execution_count": 72,
   "id": "081ca294",
   "metadata": {},
   "outputs": [
    {
     "data": {
      "text/plain": [
       "(0.8244689889549702, 0.7591522157996147)"
      ]
     },
     "execution_count": 72,
     "metadata": {},
     "output_type": "execute_result"
    }
   ],
   "source": [
    "#logreg of no-week data, with SMOTE\n",
    "logreg.score(Xsm_train, ysm_train), logreg.score(Xs_holdout, y_holdout)"
   ]
  },
  {
   "cell_type": "markdown",
   "id": "59246c74",
   "metadata": {},
   "source": [
    "With Ridge CV"
   ]
  },
  {
   "cell_type": "code",
   "execution_count": 73,
   "id": "0aeac4c1",
   "metadata": {},
   "outputs": [
    {
     "name": "stdout",
     "output_type": "stream",
     "text": [
      "Logistic Regression Intercept: [-2.4733826]\n"
     ]
    }
   ],
   "source": [
    "ridge = LogisticRegression(max_iter=10_000, penalty = 'l2', solver = 'liblinear')\n",
    "\n",
    "# Fit model\n",
    "ridge.fit(Xsm_train, ysm_train)\n",
    "\n",
    "print(f'Logistic Regression Intercept: {logreg.intercept_}')"
   ]
  },
  {
   "cell_type": "code",
   "execution_count": 74,
   "id": "53dbe777",
   "metadata": {},
   "outputs": [
    {
     "data": {
      "text/plain": [
       "(0.824553950722175, 0.7591522157996147)"
      ]
     },
     "execution_count": 74,
     "metadata": {},
     "output_type": "execute_result"
    }
   ],
   "source": [
    "#logreg of no-week data, with SMOTE\n",
    "ridge.score(Xsm_train, ysm_train), ridge.score(Xs_holdout, y_holdout)"
   ]
  },
  {
   "cell_type": "code",
   "execution_count": 75,
   "id": "52b04eaa",
   "metadata": {},
   "outputs": [
    {
     "data": {
      "text/html": [
       "<div>\n",
       "<style scoped>\n",
       "    .dataframe tbody tr th:only-of-type {\n",
       "        vertical-align: middle;\n",
       "    }\n",
       "\n",
       "    .dataframe tbody tr th {\n",
       "        vertical-align: top;\n",
       "    }\n",
       "\n",
       "    .dataframe thead th {\n",
       "        text-align: right;\n",
       "    }\n",
       "</style>\n",
       "<table border=\"1\" class=\"dataframe\">\n",
       "  <thead>\n",
       "    <tr style=\"text-align: right;\">\n",
       "      <th></th>\n",
       "      <th>latitude</th>\n",
       "      <th>longitude</th>\n",
       "      <th>tavg</th>\n",
       "      <th>preciptotal</th>\n",
       "      <th>stnpressure</th>\n",
       "      <th>resultdir</th>\n",
       "      <th>avgspeed</th>\n",
       "      <th>is_spray</th>\n",
       "      <th>stnpressure_7</th>\n",
       "      <th>stnpressure_10</th>\n",
       "      <th>...</th>\n",
       "      <th>codesum_TSRA FG+ BR HZ</th>\n",
       "      <th>codesum_TSRA RA</th>\n",
       "      <th>codesum_TSRA RA BR</th>\n",
       "      <th>codesum_TSRA RA BR HZ</th>\n",
       "      <th>codesum_TSRA RA BR HZ VCTS</th>\n",
       "      <th>codesum_TSRA RA BR VCTS</th>\n",
       "      <th>codesum_TSRA RA VCTS</th>\n",
       "      <th>codesum_VCTS</th>\n",
       "      <th>wnvpresent</th>\n",
       "      <th>dataset</th>\n",
       "    </tr>\n",
       "  </thead>\n",
       "  <tbody>\n",
       "    <tr>\n",
       "      <th>0</th>\n",
       "      <td>41.867108</td>\n",
       "      <td>-87.654224</td>\n",
       "      <td>74</td>\n",
       "      <td>0.0</td>\n",
       "      <td>29.39</td>\n",
       "      <td>18</td>\n",
       "      <td>6.5</td>\n",
       "      <td>0.0</td>\n",
       "      <td>29.34</td>\n",
       "      <td>29.34</td>\n",
       "      <td>...</td>\n",
       "      <td>0</td>\n",
       "      <td>0</td>\n",
       "      <td>0</td>\n",
       "      <td>0</td>\n",
       "      <td>0</td>\n",
       "      <td>0</td>\n",
       "      <td>0</td>\n",
       "      <td>0</td>\n",
       "      <td>0.0</td>\n",
       "      <td>train</td>\n",
       "    </tr>\n",
       "    <tr>\n",
       "      <th>1</th>\n",
       "      <td>41.867108</td>\n",
       "      <td>-87.654224</td>\n",
       "      <td>74</td>\n",
       "      <td>0.0</td>\n",
       "      <td>29.39</td>\n",
       "      <td>18</td>\n",
       "      <td>6.5</td>\n",
       "      <td>0.0</td>\n",
       "      <td>29.34</td>\n",
       "      <td>29.34</td>\n",
       "      <td>...</td>\n",
       "      <td>0</td>\n",
       "      <td>0</td>\n",
       "      <td>0</td>\n",
       "      <td>0</td>\n",
       "      <td>0</td>\n",
       "      <td>0</td>\n",
       "      <td>0</td>\n",
       "      <td>0</td>\n",
       "      <td>0.0</td>\n",
       "      <td>train</td>\n",
       "    </tr>\n",
       "    <tr>\n",
       "      <th>2</th>\n",
       "      <td>41.862292</td>\n",
       "      <td>-87.648860</td>\n",
       "      <td>74</td>\n",
       "      <td>0.0</td>\n",
       "      <td>29.39</td>\n",
       "      <td>18</td>\n",
       "      <td>6.5</td>\n",
       "      <td>0.0</td>\n",
       "      <td>29.34</td>\n",
       "      <td>29.34</td>\n",
       "      <td>...</td>\n",
       "      <td>0</td>\n",
       "      <td>0</td>\n",
       "      <td>0</td>\n",
       "      <td>0</td>\n",
       "      <td>0</td>\n",
       "      <td>0</td>\n",
       "      <td>0</td>\n",
       "      <td>0</td>\n",
       "      <td>0.0</td>\n",
       "      <td>train</td>\n",
       "    </tr>\n",
       "    <tr>\n",
       "      <th>3</th>\n",
       "      <td>41.896282</td>\n",
       "      <td>-87.655232</td>\n",
       "      <td>74</td>\n",
       "      <td>0.0</td>\n",
       "      <td>29.39</td>\n",
       "      <td>18</td>\n",
       "      <td>6.5</td>\n",
       "      <td>0.0</td>\n",
       "      <td>29.34</td>\n",
       "      <td>29.34</td>\n",
       "      <td>...</td>\n",
       "      <td>0</td>\n",
       "      <td>0</td>\n",
       "      <td>0</td>\n",
       "      <td>0</td>\n",
       "      <td>0</td>\n",
       "      <td>0</td>\n",
       "      <td>0</td>\n",
       "      <td>0</td>\n",
       "      <td>0.0</td>\n",
       "      <td>train</td>\n",
       "    </tr>\n",
       "    <tr>\n",
       "      <th>4</th>\n",
       "      <td>41.907645</td>\n",
       "      <td>-87.760886</td>\n",
       "      <td>74</td>\n",
       "      <td>0.0</td>\n",
       "      <td>29.39</td>\n",
       "      <td>18</td>\n",
       "      <td>6.5</td>\n",
       "      <td>0.0</td>\n",
       "      <td>29.34</td>\n",
       "      <td>29.34</td>\n",
       "      <td>...</td>\n",
       "      <td>0</td>\n",
       "      <td>0</td>\n",
       "      <td>0</td>\n",
       "      <td>0</td>\n",
       "      <td>0</td>\n",
       "      <td>0</td>\n",
       "      <td>0</td>\n",
       "      <td>0</td>\n",
       "      <td>0.0</td>\n",
       "      <td>train</td>\n",
       "    </tr>\n",
       "  </tbody>\n",
       "</table>\n",
       "<p>5 rows × 214 columns</p>\n",
       "</div>"
      ],
      "text/plain": [
       "    latitude  longitude  tavg  preciptotal  stnpressure  resultdir  avgspeed  \\\n",
       "0  41.867108 -87.654224    74          0.0        29.39         18       6.5   \n",
       "1  41.867108 -87.654224    74          0.0        29.39         18       6.5   \n",
       "2  41.862292 -87.648860    74          0.0        29.39         18       6.5   \n",
       "3  41.896282 -87.655232    74          0.0        29.39         18       6.5   \n",
       "4  41.907645 -87.760886    74          0.0        29.39         18       6.5   \n",
       "\n",
       "   is_spray  stnpressure_7  stnpressure_10  ...  codesum_TSRA FG+ BR HZ  \\\n",
       "0       0.0          29.34           29.34  ...                       0   \n",
       "1       0.0          29.34           29.34  ...                       0   \n",
       "2       0.0          29.34           29.34  ...                       0   \n",
       "3       0.0          29.34           29.34  ...                       0   \n",
       "4       0.0          29.34           29.34  ...                       0   \n",
       "\n",
       "   codesum_TSRA RA  codesum_TSRA RA BR  codesum_TSRA RA BR HZ  \\\n",
       "0                0                   0                      0   \n",
       "1                0                   0                      0   \n",
       "2                0                   0                      0   \n",
       "3                0                   0                      0   \n",
       "4                0                   0                      0   \n",
       "\n",
       "   codesum_TSRA RA BR HZ VCTS  codesum_TSRA RA BR VCTS  codesum_TSRA RA VCTS  \\\n",
       "0                           0                        0                     0   \n",
       "1                           0                        0                     0   \n",
       "2                           0                        0                     0   \n",
       "3                           0                        0                     0   \n",
       "4                           0                        0                     0   \n",
       "\n",
       "   codesum_VCTS  wnvpresent  dataset  \n",
       "0             0         0.0    train  \n",
       "1             0         0.0    train  \n",
       "2             0         0.0    train  \n",
       "3             0         0.0    train  \n",
       "4             0         0.0    train  \n",
       "\n",
       "[5 rows x 214 columns]"
      ]
     },
     "execution_count": 75,
     "metadata": {},
     "output_type": "execute_result"
    }
   ],
   "source": [
    "df.head()"
   ]
  },
  {
   "cell_type": "code",
   "execution_count": 76,
   "id": "4c4dea47",
   "metadata": {},
   "outputs": [],
   "source": [
    "df_col = df.drop(columns = ['wnvpresent', 'dataset'])"
   ]
  },
  {
   "cell_type": "code",
   "execution_count": 77,
   "id": "1eeff541",
   "metadata": {},
   "outputs": [
    {
     "data": {
      "text/plain": [
       "Index(['latitude', 'longitude', 'tavg', 'preciptotal', 'stnpressure',\n",
       "       'resultdir', 'avgspeed', 'is_spray', 'stnpressure_7', 'stnpressure_10',\n",
       "       ...\n",
       "       'codesum_TSRA BR', 'codesum_TSRA BR HZ VCTS', 'codesum_TSRA FG+ BR HZ',\n",
       "       'codesum_TSRA RA', 'codesum_TSRA RA BR', 'codesum_TSRA RA BR HZ',\n",
       "       'codesum_TSRA RA BR HZ VCTS', 'codesum_TSRA RA BR VCTS',\n",
       "       'codesum_TSRA RA VCTS', 'codesum_VCTS'],\n",
       "      dtype='object', length=212)"
      ]
     },
     "execution_count": 77,
     "metadata": {},
     "output_type": "execute_result"
    }
   ],
   "source": [
    "df_col.columns"
   ]
  },
  {
   "cell_type": "code",
   "execution_count": 78,
   "id": "60032154",
   "metadata": {},
   "outputs": [],
   "source": [
    "ridge_coef = pd.DataFrame(data=ridge.coef_[0],\n",
    "                          index=df_col.columns,\n",
    "                          columns=['coef'])\n"
   ]
  },
  {
   "cell_type": "code",
   "execution_count": 79,
   "id": "82b09cee",
   "metadata": {},
   "outputs": [],
   "source": [
    "pd.set_option('display.max_rows', 219)"
   ]
  },
  {
   "cell_type": "code",
   "execution_count": 80,
   "id": "a9e5d355",
   "metadata": {},
   "outputs": [
    {
     "data": {
      "text/html": [
       "<div>\n",
       "<style scoped>\n",
       "    .dataframe tbody tr th:only-of-type {\n",
       "        vertical-align: middle;\n",
       "    }\n",
       "\n",
       "    .dataframe tbody tr th {\n",
       "        vertical-align: top;\n",
       "    }\n",
       "\n",
       "    .dataframe thead th {\n",
       "        text-align: right;\n",
       "    }\n",
       "</style>\n",
       "<table border=\"1\" class=\"dataframe\">\n",
       "  <thead>\n",
       "    <tr style=\"text-align: right;\">\n",
       "      <th></th>\n",
       "      <th>coef</th>\n",
       "    </tr>\n",
       "  </thead>\n",
       "  <tbody>\n",
       "    <tr>\n",
       "      <th>latitude</th>\n",
       "      <td>-0.696734</td>\n",
       "    </tr>\n",
       "    <tr>\n",
       "      <th>longitude</th>\n",
       "      <td>-0.326556</td>\n",
       "    </tr>\n",
       "    <tr>\n",
       "      <th>tavg</th>\n",
       "      <td>0.945382</td>\n",
       "    </tr>\n",
       "    <tr>\n",
       "      <th>preciptotal</th>\n",
       "      <td>-0.701376</td>\n",
       "    </tr>\n",
       "    <tr>\n",
       "      <th>stnpressure</th>\n",
       "      <td>0.438387</td>\n",
       "    </tr>\n",
       "    <tr>\n",
       "      <th>resultdir</th>\n",
       "      <td>0.125476</td>\n",
       "    </tr>\n",
       "    <tr>\n",
       "      <th>avgspeed</th>\n",
       "      <td>-0.101773</td>\n",
       "    </tr>\n",
       "    <tr>\n",
       "      <th>is_spray</th>\n",
       "      <td>0.029125</td>\n",
       "    </tr>\n",
       "    <tr>\n",
       "      <th>stnpressure_7</th>\n",
       "      <td>0.317537</td>\n",
       "    </tr>\n",
       "    <tr>\n",
       "      <th>stnpressure_10</th>\n",
       "      <td>-0.055333</td>\n",
       "    </tr>\n",
       "    <tr>\n",
       "      <th>preciptotal_7</th>\n",
       "      <td>-0.272597</td>\n",
       "    </tr>\n",
       "    <tr>\n",
       "      <th>preciptotal_10</th>\n",
       "      <td>0.164874</td>\n",
       "    </tr>\n",
       "    <tr>\n",
       "      <th>DZ</th>\n",
       "      <td>-0.159072</td>\n",
       "    </tr>\n",
       "    <tr>\n",
       "      <th>BR</th>\n",
       "      <td>-0.022054</td>\n",
       "    </tr>\n",
       "    <tr>\n",
       "      <th>TSRA</th>\n",
       "      <td>0.099447</td>\n",
       "    </tr>\n",
       "    <tr>\n",
       "      <th>VCTS</th>\n",
       "      <td>-0.223012</td>\n",
       "    </tr>\n",
       "    <tr>\n",
       "      <th>BCFG</th>\n",
       "      <td>0.000000</td>\n",
       "    </tr>\n",
       "    <tr>\n",
       "      <th>FG</th>\n",
       "      <td>0.044484</td>\n",
       "    </tr>\n",
       "    <tr>\n",
       "      <th>TS</th>\n",
       "      <td>0.100091</td>\n",
       "    </tr>\n",
       "    <tr>\n",
       "      <th>FG+</th>\n",
       "      <td>0.044484</td>\n",
       "    </tr>\n",
       "    <tr>\n",
       "      <th>HZ</th>\n",
       "      <td>-0.182022</td>\n",
       "    </tr>\n",
       "    <tr>\n",
       "      <th>RA</th>\n",
       "      <td>-0.104224</td>\n",
       "    </tr>\n",
       "    <tr>\n",
       "      <th>dayofweek_1</th>\n",
       "      <td>0.778638</td>\n",
       "    </tr>\n",
       "    <tr>\n",
       "      <th>dayofweek_2</th>\n",
       "      <td>0.693488</td>\n",
       "    </tr>\n",
       "    <tr>\n",
       "      <th>dayofweek_3</th>\n",
       "      <td>0.953325</td>\n",
       "    </tr>\n",
       "    <tr>\n",
       "      <th>dayofweek_4</th>\n",
       "      <td>0.748457</td>\n",
       "    </tr>\n",
       "    <tr>\n",
       "      <th>species_CULEX PIPIENS/RESTUANS</th>\n",
       "      <td>-0.118304</td>\n",
       "    </tr>\n",
       "    <tr>\n",
       "      <th>species_CULEX RESTUANS</th>\n",
       "      <td>-0.762946</td>\n",
       "    </tr>\n",
       "    <tr>\n",
       "      <th>trap_T002</th>\n",
       "      <td>0.453868</td>\n",
       "    </tr>\n",
       "    <tr>\n",
       "      <th>trap_T002A</th>\n",
       "      <td>0.000000</td>\n",
       "    </tr>\n",
       "    <tr>\n",
       "      <th>trap_T002B</th>\n",
       "      <td>0.000000</td>\n",
       "    </tr>\n",
       "    <tr>\n",
       "      <th>trap_T003</th>\n",
       "      <td>0.499184</td>\n",
       "    </tr>\n",
       "    <tr>\n",
       "      <th>trap_T004</th>\n",
       "      <td>-0.166329</td>\n",
       "    </tr>\n",
       "    <tr>\n",
       "      <th>trap_T005</th>\n",
       "      <td>-0.202656</td>\n",
       "    </tr>\n",
       "    <tr>\n",
       "      <th>trap_T006</th>\n",
       "      <td>0.074854</td>\n",
       "    </tr>\n",
       "    <tr>\n",
       "      <th>trap_T007</th>\n",
       "      <td>-0.311788</td>\n",
       "    </tr>\n",
       "    <tr>\n",
       "      <th>trap_T008</th>\n",
       "      <td>0.350428</td>\n",
       "    </tr>\n",
       "    <tr>\n",
       "      <th>trap_T009</th>\n",
       "      <td>0.129549</td>\n",
       "    </tr>\n",
       "    <tr>\n",
       "      <th>trap_T009A</th>\n",
       "      <td>0.010946</td>\n",
       "    </tr>\n",
       "    <tr>\n",
       "      <th>trap_T011</th>\n",
       "      <td>0.243237</td>\n",
       "    </tr>\n",
       "    <tr>\n",
       "      <th>trap_T012</th>\n",
       "      <td>0.080326</td>\n",
       "    </tr>\n",
       "    <tr>\n",
       "      <th>trap_T013</th>\n",
       "      <td>0.439637</td>\n",
       "    </tr>\n",
       "    <tr>\n",
       "      <th>trap_T014</th>\n",
       "      <td>0.097324</td>\n",
       "    </tr>\n",
       "    <tr>\n",
       "      <th>trap_T015</th>\n",
       "      <td>0.063832</td>\n",
       "    </tr>\n",
       "    <tr>\n",
       "      <th>trap_T016</th>\n",
       "      <td>0.108111</td>\n",
       "    </tr>\n",
       "    <tr>\n",
       "      <th>trap_T017</th>\n",
       "      <td>-0.473055</td>\n",
       "    </tr>\n",
       "    <tr>\n",
       "      <th>trap_T018</th>\n",
       "      <td>-0.304604</td>\n",
       "    </tr>\n",
       "    <tr>\n",
       "      <th>trap_T019</th>\n",
       "      <td>-0.238403</td>\n",
       "    </tr>\n",
       "    <tr>\n",
       "      <th>trap_T025</th>\n",
       "      <td>-0.321919</td>\n",
       "    </tr>\n",
       "    <tr>\n",
       "      <th>trap_T027</th>\n",
       "      <td>0.281059</td>\n",
       "    </tr>\n",
       "    <tr>\n",
       "      <th>trap_T028</th>\n",
       "      <td>0.443360</td>\n",
       "    </tr>\n",
       "    <tr>\n",
       "      <th>trap_T030</th>\n",
       "      <td>0.228774</td>\n",
       "    </tr>\n",
       "    <tr>\n",
       "      <th>trap_T031</th>\n",
       "      <td>0.194614</td>\n",
       "    </tr>\n",
       "    <tr>\n",
       "      <th>trap_T033</th>\n",
       "      <td>0.198124</td>\n",
       "    </tr>\n",
       "    <tr>\n",
       "      <th>trap_T034</th>\n",
       "      <td>-0.226402</td>\n",
       "    </tr>\n",
       "    <tr>\n",
       "      <th>trap_T035</th>\n",
       "      <td>-0.285247</td>\n",
       "    </tr>\n",
       "    <tr>\n",
       "      <th>trap_T035A</th>\n",
       "      <td>0.111898</td>\n",
       "    </tr>\n",
       "    <tr>\n",
       "      <th>trap_T036</th>\n",
       "      <td>0.024262</td>\n",
       "    </tr>\n",
       "    <tr>\n",
       "      <th>trap_T037</th>\n",
       "      <td>-0.246907</td>\n",
       "    </tr>\n",
       "    <tr>\n",
       "      <th>trap_T039</th>\n",
       "      <td>0.221780</td>\n",
       "    </tr>\n",
       "    <tr>\n",
       "      <th>trap_T040</th>\n",
       "      <td>0.013599</td>\n",
       "    </tr>\n",
       "    <tr>\n",
       "      <th>trap_T043</th>\n",
       "      <td>-0.393227</td>\n",
       "    </tr>\n",
       "    <tr>\n",
       "      <th>trap_T044</th>\n",
       "      <td>-0.188023</td>\n",
       "    </tr>\n",
       "    <tr>\n",
       "      <th>trap_T045</th>\n",
       "      <td>0.183597</td>\n",
       "    </tr>\n",
       "    <tr>\n",
       "      <th>trap_T046</th>\n",
       "      <td>-0.460404</td>\n",
       "    </tr>\n",
       "    <tr>\n",
       "      <th>trap_T047</th>\n",
       "      <td>0.127275</td>\n",
       "    </tr>\n",
       "    <tr>\n",
       "      <th>trap_T048</th>\n",
       "      <td>0.277854</td>\n",
       "    </tr>\n",
       "    <tr>\n",
       "      <th>trap_T049</th>\n",
       "      <td>0.086364</td>\n",
       "    </tr>\n",
       "    <tr>\n",
       "      <th>trap_T050</th>\n",
       "      <td>-0.225514</td>\n",
       "    </tr>\n",
       "    <tr>\n",
       "      <th>trap_T051</th>\n",
       "      <td>-0.229629</td>\n",
       "    </tr>\n",
       "    <tr>\n",
       "      <th>trap_T054</th>\n",
       "      <td>0.394935</td>\n",
       "    </tr>\n",
       "    <tr>\n",
       "      <th>trap_T054C</th>\n",
       "      <td>0.077263</td>\n",
       "    </tr>\n",
       "    <tr>\n",
       "      <th>trap_T060</th>\n",
       "      <td>-0.195872</td>\n",
       "    </tr>\n",
       "    <tr>\n",
       "      <th>trap_T061</th>\n",
       "      <td>0.225071</td>\n",
       "    </tr>\n",
       "    <tr>\n",
       "      <th>trap_T062</th>\n",
       "      <td>-0.016785</td>\n",
       "    </tr>\n",
       "    <tr>\n",
       "      <th>trap_T063</th>\n",
       "      <td>0.061921</td>\n",
       "    </tr>\n",
       "    <tr>\n",
       "      <th>trap_T065</th>\n",
       "      <td>0.131742</td>\n",
       "    </tr>\n",
       "    <tr>\n",
       "      <th>trap_T065A</th>\n",
       "      <td>0.000000</td>\n",
       "    </tr>\n",
       "    <tr>\n",
       "      <th>trap_T066</th>\n",
       "      <td>0.185349</td>\n",
       "    </tr>\n",
       "    <tr>\n",
       "      <th>trap_T067</th>\n",
       "      <td>0.071428</td>\n",
       "    </tr>\n",
       "    <tr>\n",
       "      <th>trap_T069</th>\n",
       "      <td>-0.031684</td>\n",
       "    </tr>\n",
       "    <tr>\n",
       "      <th>trap_T070</th>\n",
       "      <td>0.055919</td>\n",
       "    </tr>\n",
       "    <tr>\n",
       "      <th>trap_T071</th>\n",
       "      <td>-0.270493</td>\n",
       "    </tr>\n",
       "    <tr>\n",
       "      <th>trap_T072</th>\n",
       "      <td>-0.221894</td>\n",
       "    </tr>\n",
       "    <tr>\n",
       "      <th>trap_T073</th>\n",
       "      <td>0.128839</td>\n",
       "    </tr>\n",
       "    <tr>\n",
       "      <th>trap_T074</th>\n",
       "      <td>0.156886</td>\n",
       "    </tr>\n",
       "    <tr>\n",
       "      <th>trap_T075</th>\n",
       "      <td>-0.217199</td>\n",
       "    </tr>\n",
       "    <tr>\n",
       "      <th>trap_T076</th>\n",
       "      <td>-0.101613</td>\n",
       "    </tr>\n",
       "    <tr>\n",
       "      <th>trap_T077</th>\n",
       "      <td>-0.321793</td>\n",
       "    </tr>\n",
       "    <tr>\n",
       "      <th>trap_T078</th>\n",
       "      <td>-0.152773</td>\n",
       "    </tr>\n",
       "    <tr>\n",
       "      <th>trap_T079</th>\n",
       "      <td>0.077098</td>\n",
       "    </tr>\n",
       "    <tr>\n",
       "      <th>trap_T080</th>\n",
       "      <td>0.074423</td>\n",
       "    </tr>\n",
       "    <tr>\n",
       "      <th>trap_T081</th>\n",
       "      <td>-0.301198</td>\n",
       "    </tr>\n",
       "    <tr>\n",
       "      <th>trap_T082</th>\n",
       "      <td>0.327020</td>\n",
       "    </tr>\n",
       "    <tr>\n",
       "      <th>trap_T083</th>\n",
       "      <td>0.102584</td>\n",
       "    </tr>\n",
       "    <tr>\n",
       "      <th>trap_T084</th>\n",
       "      <td>-0.026448</td>\n",
       "    </tr>\n",
       "    <tr>\n",
       "      <th>trap_T085</th>\n",
       "      <td>0.022271</td>\n",
       "    </tr>\n",
       "    <tr>\n",
       "      <th>trap_T086</th>\n",
       "      <td>0.132014</td>\n",
       "    </tr>\n",
       "    <tr>\n",
       "      <th>trap_T088</th>\n",
       "      <td>-0.274873</td>\n",
       "    </tr>\n",
       "    <tr>\n",
       "      <th>trap_T089</th>\n",
       "      <td>0.172293</td>\n",
       "    </tr>\n",
       "    <tr>\n",
       "      <th>trap_T090</th>\n",
       "      <td>0.427218</td>\n",
       "    </tr>\n",
       "    <tr>\n",
       "      <th>trap_T090A</th>\n",
       "      <td>0.000000</td>\n",
       "    </tr>\n",
       "    <tr>\n",
       "      <th>trap_T090B</th>\n",
       "      <td>0.000000</td>\n",
       "    </tr>\n",
       "    <tr>\n",
       "      <th>trap_T090C</th>\n",
       "      <td>0.000000</td>\n",
       "    </tr>\n",
       "    <tr>\n",
       "      <th>trap_T091</th>\n",
       "      <td>0.055412</td>\n",
       "    </tr>\n",
       "    <tr>\n",
       "      <th>trap_T092</th>\n",
       "      <td>-0.260727</td>\n",
       "    </tr>\n",
       "    <tr>\n",
       "      <th>trap_T094</th>\n",
       "      <td>0.176090</td>\n",
       "    </tr>\n",
       "    <tr>\n",
       "      <th>trap_T094B</th>\n",
       "      <td>-0.144522</td>\n",
       "    </tr>\n",
       "    <tr>\n",
       "      <th>trap_T095</th>\n",
       "      <td>0.260840</td>\n",
       "    </tr>\n",
       "    <tr>\n",
       "      <th>trap_T096</th>\n",
       "      <td>0.147670</td>\n",
       "    </tr>\n",
       "    <tr>\n",
       "      <th>trap_T097</th>\n",
       "      <td>-0.269077</td>\n",
       "    </tr>\n",
       "    <tr>\n",
       "      <th>trap_T099</th>\n",
       "      <td>-0.387794</td>\n",
       "    </tr>\n",
       "    <tr>\n",
       "      <th>trap_T100</th>\n",
       "      <td>-0.312123</td>\n",
       "    </tr>\n",
       "    <tr>\n",
       "      <th>trap_T102</th>\n",
       "      <td>-0.105208</td>\n",
       "    </tr>\n",
       "    <tr>\n",
       "      <th>trap_T103</th>\n",
       "      <td>0.084156</td>\n",
       "    </tr>\n",
       "    <tr>\n",
       "      <th>trap_T107</th>\n",
       "      <td>0.042427</td>\n",
       "    </tr>\n",
       "    <tr>\n",
       "      <th>trap_T114</th>\n",
       "      <td>0.243345</td>\n",
       "    </tr>\n",
       "    <tr>\n",
       "      <th>trap_T115</th>\n",
       "      <td>0.328003</td>\n",
       "    </tr>\n",
       "    <tr>\n",
       "      <th>trap_T128</th>\n",
       "      <td>0.159653</td>\n",
       "    </tr>\n",
       "    <tr>\n",
       "      <th>trap_T128A</th>\n",
       "      <td>0.000000</td>\n",
       "    </tr>\n",
       "    <tr>\n",
       "      <th>trap_T129</th>\n",
       "      <td>-0.219619</td>\n",
       "    </tr>\n",
       "    <tr>\n",
       "      <th>trap_T135</th>\n",
       "      <td>0.203277</td>\n",
       "    </tr>\n",
       "    <tr>\n",
       "      <th>trap_T138</th>\n",
       "      <td>0.277875</td>\n",
       "    </tr>\n",
       "    <tr>\n",
       "      <th>trap_T141</th>\n",
       "      <td>-0.208230</td>\n",
       "    </tr>\n",
       "    <tr>\n",
       "      <th>trap_T142</th>\n",
       "      <td>-0.273290</td>\n",
       "    </tr>\n",
       "    <tr>\n",
       "      <th>trap_T143</th>\n",
       "      <td>0.107396</td>\n",
       "    </tr>\n",
       "    <tr>\n",
       "      <th>trap_T144</th>\n",
       "      <td>-0.079519</td>\n",
       "    </tr>\n",
       "    <tr>\n",
       "      <th>trap_T145</th>\n",
       "      <td>-0.381887</td>\n",
       "    </tr>\n",
       "    <tr>\n",
       "      <th>trap_T146</th>\n",
       "      <td>-0.248860</td>\n",
       "    </tr>\n",
       "    <tr>\n",
       "      <th>trap_T147</th>\n",
       "      <td>0.288428</td>\n",
       "    </tr>\n",
       "    <tr>\n",
       "      <th>trap_T148</th>\n",
       "      <td>-0.306709</td>\n",
       "    </tr>\n",
       "    <tr>\n",
       "      <th>trap_T149</th>\n",
       "      <td>-0.163285</td>\n",
       "    </tr>\n",
       "    <tr>\n",
       "      <th>trap_T150</th>\n",
       "      <td>-0.172651</td>\n",
       "    </tr>\n",
       "    <tr>\n",
       "      <th>trap_T151</th>\n",
       "      <td>0.302019</td>\n",
       "    </tr>\n",
       "    <tr>\n",
       "      <th>trap_T152</th>\n",
       "      <td>-0.052679</td>\n",
       "    </tr>\n",
       "    <tr>\n",
       "      <th>trap_T153</th>\n",
       "      <td>-0.292251</td>\n",
       "    </tr>\n",
       "    <tr>\n",
       "      <th>trap_T154</th>\n",
       "      <td>0.124710</td>\n",
       "    </tr>\n",
       "    <tr>\n",
       "      <th>trap_T155</th>\n",
       "      <td>0.191335</td>\n",
       "    </tr>\n",
       "    <tr>\n",
       "      <th>trap_T156</th>\n",
       "      <td>-0.260110</td>\n",
       "    </tr>\n",
       "    <tr>\n",
       "      <th>trap_T157</th>\n",
       "      <td>-0.219326</td>\n",
       "    </tr>\n",
       "    <tr>\n",
       "      <th>trap_T158</th>\n",
       "      <td>0.174201</td>\n",
       "    </tr>\n",
       "    <tr>\n",
       "      <th>trap_T159</th>\n",
       "      <td>0.051288</td>\n",
       "    </tr>\n",
       "    <tr>\n",
       "      <th>trap_T160</th>\n",
       "      <td>0.281163</td>\n",
       "    </tr>\n",
       "    <tr>\n",
       "      <th>trap_T161</th>\n",
       "      <td>-0.287594</td>\n",
       "    </tr>\n",
       "    <tr>\n",
       "      <th>trap_T162</th>\n",
       "      <td>0.063799</td>\n",
       "    </tr>\n",
       "    <tr>\n",
       "      <th>trap_T200</th>\n",
       "      <td>-0.144150</td>\n",
       "    </tr>\n",
       "    <tr>\n",
       "      <th>trap_T200A</th>\n",
       "      <td>0.000000</td>\n",
       "    </tr>\n",
       "    <tr>\n",
       "      <th>trap_T200B</th>\n",
       "      <td>0.000000</td>\n",
       "    </tr>\n",
       "    <tr>\n",
       "      <th>trap_T206</th>\n",
       "      <td>-0.269041</td>\n",
       "    </tr>\n",
       "    <tr>\n",
       "      <th>trap_T209</th>\n",
       "      <td>0.091295</td>\n",
       "    </tr>\n",
       "    <tr>\n",
       "      <th>trap_T212</th>\n",
       "      <td>-0.071506</td>\n",
       "    </tr>\n",
       "    <tr>\n",
       "      <th>trap_T215</th>\n",
       "      <td>0.166764</td>\n",
       "    </tr>\n",
       "    <tr>\n",
       "      <th>trap_T218</th>\n",
       "      <td>0.279941</td>\n",
       "    </tr>\n",
       "    <tr>\n",
       "      <th>trap_T218A</th>\n",
       "      <td>0.000000</td>\n",
       "    </tr>\n",
       "    <tr>\n",
       "      <th>trap_T218B</th>\n",
       "      <td>0.000000</td>\n",
       "    </tr>\n",
       "    <tr>\n",
       "      <th>trap_T218C</th>\n",
       "      <td>0.000000</td>\n",
       "    </tr>\n",
       "    <tr>\n",
       "      <th>trap_T219</th>\n",
       "      <td>-0.233089</td>\n",
       "    </tr>\n",
       "    <tr>\n",
       "      <th>trap_T220</th>\n",
       "      <td>0.173107</td>\n",
       "    </tr>\n",
       "    <tr>\n",
       "      <th>trap_T221</th>\n",
       "      <td>0.171289</td>\n",
       "    </tr>\n",
       "    <tr>\n",
       "      <th>trap_T222</th>\n",
       "      <td>0.025950</td>\n",
       "    </tr>\n",
       "    <tr>\n",
       "      <th>trap_T223</th>\n",
       "      <td>0.353444</td>\n",
       "    </tr>\n",
       "    <tr>\n",
       "      <th>trap_T224</th>\n",
       "      <td>0.148041</td>\n",
       "    </tr>\n",
       "    <tr>\n",
       "      <th>trap_T225</th>\n",
       "      <td>0.377197</td>\n",
       "    </tr>\n",
       "    <tr>\n",
       "      <th>trap_T226</th>\n",
       "      <td>0.045577</td>\n",
       "    </tr>\n",
       "    <tr>\n",
       "      <th>trap_T227</th>\n",
       "      <td>0.215857</td>\n",
       "    </tr>\n",
       "    <tr>\n",
       "      <th>trap_T228</th>\n",
       "      <td>0.407581</td>\n",
       "    </tr>\n",
       "    <tr>\n",
       "      <th>trap_T229</th>\n",
       "      <td>-0.107757</td>\n",
       "    </tr>\n",
       "    <tr>\n",
       "      <th>trap_T230</th>\n",
       "      <td>0.369543</td>\n",
       "    </tr>\n",
       "    <tr>\n",
       "      <th>trap_T231</th>\n",
       "      <td>0.281586</td>\n",
       "    </tr>\n",
       "    <tr>\n",
       "      <th>trap_T232</th>\n",
       "      <td>-0.248621</td>\n",
       "    </tr>\n",
       "    <tr>\n",
       "      <th>trap_T233</th>\n",
       "      <td>0.213829</td>\n",
       "    </tr>\n",
       "    <tr>\n",
       "      <th>trap_T234</th>\n",
       "      <td>0.000000</td>\n",
       "    </tr>\n",
       "    <tr>\n",
       "      <th>trap_T235</th>\n",
       "      <td>0.153838</td>\n",
       "    </tr>\n",
       "    <tr>\n",
       "      <th>trap_T236</th>\n",
       "      <td>0.089175</td>\n",
       "    </tr>\n",
       "    <tr>\n",
       "      <th>trap_T237</th>\n",
       "      <td>-0.102188</td>\n",
       "    </tr>\n",
       "    <tr>\n",
       "      <th>trap_T238</th>\n",
       "      <td>-0.106296</td>\n",
       "    </tr>\n",
       "    <tr>\n",
       "      <th>trap_T900</th>\n",
       "      <td>0.797226</td>\n",
       "    </tr>\n",
       "    <tr>\n",
       "      <th>trap_T903</th>\n",
       "      <td>0.360511</td>\n",
       "    </tr>\n",
       "    <tr>\n",
       "      <th>codesum_BCFG BR</th>\n",
       "      <td>0.000000</td>\n",
       "    </tr>\n",
       "    <tr>\n",
       "      <th>codesum_BR</th>\n",
       "      <td>0.261053</td>\n",
       "    </tr>\n",
       "    <tr>\n",
       "      <th>codesum_BR HZ</th>\n",
       "      <td>0.214920</td>\n",
       "    </tr>\n",
       "    <tr>\n",
       "      <th>codesum_DZ</th>\n",
       "      <td>0.000000</td>\n",
       "    </tr>\n",
       "    <tr>\n",
       "      <th>codesum_DZ BR</th>\n",
       "      <td>-0.268915</td>\n",
       "    </tr>\n",
       "    <tr>\n",
       "      <th>codesum_FG BR HZ</th>\n",
       "      <td>-0.029677</td>\n",
       "    </tr>\n",
       "    <tr>\n",
       "      <th>codesum_HZ</th>\n",
       "      <td>-0.180599</td>\n",
       "    </tr>\n",
       "    <tr>\n",
       "      <th>codesum_RA</th>\n",
       "      <td>0.173367</td>\n",
       "    </tr>\n",
       "    <tr>\n",
       "      <th>codesum_RA BR</th>\n",
       "      <td>-0.360599</td>\n",
       "    </tr>\n",
       "    <tr>\n",
       "      <th>codesum_RA BR HZ</th>\n",
       "      <td>-0.049956</td>\n",
       "    </tr>\n",
       "    <tr>\n",
       "      <th>codesum_RA DZ</th>\n",
       "      <td>0.000000</td>\n",
       "    </tr>\n",
       "    <tr>\n",
       "      <th>codesum_RA DZ BR</th>\n",
       "      <td>-0.036326</td>\n",
       "    </tr>\n",
       "    <tr>\n",
       "      <th>codesum_RA HZ</th>\n",
       "      <td>-0.026186</td>\n",
       "    </tr>\n",
       "    <tr>\n",
       "      <th>codesum_TS</th>\n",
       "      <td>-0.067076</td>\n",
       "    </tr>\n",
       "    <tr>\n",
       "      <th>codesum_TS BR</th>\n",
       "      <td>0.110675</td>\n",
       "    </tr>\n",
       "    <tr>\n",
       "      <th>codesum_TS RA</th>\n",
       "      <td>-0.343524</td>\n",
       "    </tr>\n",
       "    <tr>\n",
       "      <th>codesum_TS TSRA BR</th>\n",
       "      <td>-0.029320</td>\n",
       "    </tr>\n",
       "    <tr>\n",
       "      <th>codesum_TS TSRA BR HZ</th>\n",
       "      <td>-0.203148</td>\n",
       "    </tr>\n",
       "    <tr>\n",
       "      <th>codesum_TS TSRA RA</th>\n",
       "      <td>0.185406</td>\n",
       "    </tr>\n",
       "    <tr>\n",
       "      <th>codesum_TS TSRA RA BR</th>\n",
       "      <td>0.352668</td>\n",
       "    </tr>\n",
       "    <tr>\n",
       "      <th>codesum_TS TSRA RA BR HZ VCTS</th>\n",
       "      <td>-0.221175</td>\n",
       "    </tr>\n",
       "    <tr>\n",
       "      <th>codesum_TS TSRA RA FG BR HZ</th>\n",
       "      <td>0.068469</td>\n",
       "    </tr>\n",
       "    <tr>\n",
       "      <th>codesum_TS TSRA RA VCTS</th>\n",
       "      <td>-0.281000</td>\n",
       "    </tr>\n",
       "    <tr>\n",
       "      <th>codesum_TSRA</th>\n",
       "      <td>-0.445168</td>\n",
       "    </tr>\n",
       "    <tr>\n",
       "      <th>codesum_TSRA BR</th>\n",
       "      <td>0.017628</td>\n",
       "    </tr>\n",
       "    <tr>\n",
       "      <th>codesum_TSRA BR HZ VCTS</th>\n",
       "      <td>-0.467728</td>\n",
       "    </tr>\n",
       "    <tr>\n",
       "      <th>codesum_TSRA FG+ BR HZ</th>\n",
       "      <td>0.000000</td>\n",
       "    </tr>\n",
       "    <tr>\n",
       "      <th>codesum_TSRA RA</th>\n",
       "      <td>0.204387</td>\n",
       "    </tr>\n",
       "    <tr>\n",
       "      <th>codesum_TSRA RA BR</th>\n",
       "      <td>0.122392</td>\n",
       "    </tr>\n",
       "    <tr>\n",
       "      <th>codesum_TSRA RA BR HZ</th>\n",
       "      <td>0.000000</td>\n",
       "    </tr>\n",
       "    <tr>\n",
       "      <th>codesum_TSRA RA BR HZ VCTS</th>\n",
       "      <td>0.000000</td>\n",
       "    </tr>\n",
       "    <tr>\n",
       "      <th>codesum_TSRA RA BR VCTS</th>\n",
       "      <td>0.155735</td>\n",
       "    </tr>\n",
       "    <tr>\n",
       "      <th>codesum_TSRA RA VCTS</th>\n",
       "      <td>0.000000</td>\n",
       "    </tr>\n",
       "    <tr>\n",
       "      <th>codesum_VCTS</th>\n",
       "      <td>0.153319</td>\n",
       "    </tr>\n",
       "  </tbody>\n",
       "</table>\n",
       "</div>"
      ],
      "text/plain": [
       "                                    coef\n",
       "latitude                       -0.696734\n",
       "longitude                      -0.326556\n",
       "tavg                            0.945382\n",
       "preciptotal                    -0.701376\n",
       "stnpressure                     0.438387\n",
       "resultdir                       0.125476\n",
       "avgspeed                       -0.101773\n",
       "is_spray                        0.029125\n",
       "stnpressure_7                   0.317537\n",
       "stnpressure_10                 -0.055333\n",
       "preciptotal_7                  -0.272597\n",
       "preciptotal_10                  0.164874\n",
       "DZ                             -0.159072\n",
       "BR                             -0.022054\n",
       "TSRA                            0.099447\n",
       "VCTS                           -0.223012\n",
       "BCFG                            0.000000\n",
       "FG                              0.044484\n",
       "TS                              0.100091\n",
       "FG+                             0.044484\n",
       "HZ                             -0.182022\n",
       "RA                             -0.104224\n",
       "dayofweek_1                     0.778638\n",
       "dayofweek_2                     0.693488\n",
       "dayofweek_3                     0.953325\n",
       "dayofweek_4                     0.748457\n",
       "species_CULEX PIPIENS/RESTUANS -0.118304\n",
       "species_CULEX RESTUANS         -0.762946\n",
       "trap_T002                       0.453868\n",
       "trap_T002A                      0.000000\n",
       "trap_T002B                      0.000000\n",
       "trap_T003                       0.499184\n",
       "trap_T004                      -0.166329\n",
       "trap_T005                      -0.202656\n",
       "trap_T006                       0.074854\n",
       "trap_T007                      -0.311788\n",
       "trap_T008                       0.350428\n",
       "trap_T009                       0.129549\n",
       "trap_T009A                      0.010946\n",
       "trap_T011                       0.243237\n",
       "trap_T012                       0.080326\n",
       "trap_T013                       0.439637\n",
       "trap_T014                       0.097324\n",
       "trap_T015                       0.063832\n",
       "trap_T016                       0.108111\n",
       "trap_T017                      -0.473055\n",
       "trap_T018                      -0.304604\n",
       "trap_T019                      -0.238403\n",
       "trap_T025                      -0.321919\n",
       "trap_T027                       0.281059\n",
       "trap_T028                       0.443360\n",
       "trap_T030                       0.228774\n",
       "trap_T031                       0.194614\n",
       "trap_T033                       0.198124\n",
       "trap_T034                      -0.226402\n",
       "trap_T035                      -0.285247\n",
       "trap_T035A                      0.111898\n",
       "trap_T036                       0.024262\n",
       "trap_T037                      -0.246907\n",
       "trap_T039                       0.221780\n",
       "trap_T040                       0.013599\n",
       "trap_T043                      -0.393227\n",
       "trap_T044                      -0.188023\n",
       "trap_T045                       0.183597\n",
       "trap_T046                      -0.460404\n",
       "trap_T047                       0.127275\n",
       "trap_T048                       0.277854\n",
       "trap_T049                       0.086364\n",
       "trap_T050                      -0.225514\n",
       "trap_T051                      -0.229629\n",
       "trap_T054                       0.394935\n",
       "trap_T054C                      0.077263\n",
       "trap_T060                      -0.195872\n",
       "trap_T061                       0.225071\n",
       "trap_T062                      -0.016785\n",
       "trap_T063                       0.061921\n",
       "trap_T065                       0.131742\n",
       "trap_T065A                      0.000000\n",
       "trap_T066                       0.185349\n",
       "trap_T067                       0.071428\n",
       "trap_T069                      -0.031684\n",
       "trap_T070                       0.055919\n",
       "trap_T071                      -0.270493\n",
       "trap_T072                      -0.221894\n",
       "trap_T073                       0.128839\n",
       "trap_T074                       0.156886\n",
       "trap_T075                      -0.217199\n",
       "trap_T076                      -0.101613\n",
       "trap_T077                      -0.321793\n",
       "trap_T078                      -0.152773\n",
       "trap_T079                       0.077098\n",
       "trap_T080                       0.074423\n",
       "trap_T081                      -0.301198\n",
       "trap_T082                       0.327020\n",
       "trap_T083                       0.102584\n",
       "trap_T084                      -0.026448\n",
       "trap_T085                       0.022271\n",
       "trap_T086                       0.132014\n",
       "trap_T088                      -0.274873\n",
       "trap_T089                       0.172293\n",
       "trap_T090                       0.427218\n",
       "trap_T090A                      0.000000\n",
       "trap_T090B                      0.000000\n",
       "trap_T090C                      0.000000\n",
       "trap_T091                       0.055412\n",
       "trap_T092                      -0.260727\n",
       "trap_T094                       0.176090\n",
       "trap_T094B                     -0.144522\n",
       "trap_T095                       0.260840\n",
       "trap_T096                       0.147670\n",
       "trap_T097                      -0.269077\n",
       "trap_T099                      -0.387794\n",
       "trap_T100                      -0.312123\n",
       "trap_T102                      -0.105208\n",
       "trap_T103                       0.084156\n",
       "trap_T107                       0.042427\n",
       "trap_T114                       0.243345\n",
       "trap_T115                       0.328003\n",
       "trap_T128                       0.159653\n",
       "trap_T128A                      0.000000\n",
       "trap_T129                      -0.219619\n",
       "trap_T135                       0.203277\n",
       "trap_T138                       0.277875\n",
       "trap_T141                      -0.208230\n",
       "trap_T142                      -0.273290\n",
       "trap_T143                       0.107396\n",
       "trap_T144                      -0.079519\n",
       "trap_T145                      -0.381887\n",
       "trap_T146                      -0.248860\n",
       "trap_T147                       0.288428\n",
       "trap_T148                      -0.306709\n",
       "trap_T149                      -0.163285\n",
       "trap_T150                      -0.172651\n",
       "trap_T151                       0.302019\n",
       "trap_T152                      -0.052679\n",
       "trap_T153                      -0.292251\n",
       "trap_T154                       0.124710\n",
       "trap_T155                       0.191335\n",
       "trap_T156                      -0.260110\n",
       "trap_T157                      -0.219326\n",
       "trap_T158                       0.174201\n",
       "trap_T159                       0.051288\n",
       "trap_T160                       0.281163\n",
       "trap_T161                      -0.287594\n",
       "trap_T162                       0.063799\n",
       "trap_T200                      -0.144150\n",
       "trap_T200A                      0.000000\n",
       "trap_T200B                      0.000000\n",
       "trap_T206                      -0.269041\n",
       "trap_T209                       0.091295\n",
       "trap_T212                      -0.071506\n",
       "trap_T215                       0.166764\n",
       "trap_T218                       0.279941\n",
       "trap_T218A                      0.000000\n",
       "trap_T218B                      0.000000\n",
       "trap_T218C                      0.000000\n",
       "trap_T219                      -0.233089\n",
       "trap_T220                       0.173107\n",
       "trap_T221                       0.171289\n",
       "trap_T222                       0.025950\n",
       "trap_T223                       0.353444\n",
       "trap_T224                       0.148041\n",
       "trap_T225                       0.377197\n",
       "trap_T226                       0.045577\n",
       "trap_T227                       0.215857\n",
       "trap_T228                       0.407581\n",
       "trap_T229                      -0.107757\n",
       "trap_T230                       0.369543\n",
       "trap_T231                       0.281586\n",
       "trap_T232                      -0.248621\n",
       "trap_T233                       0.213829\n",
       "trap_T234                       0.000000\n",
       "trap_T235                       0.153838\n",
       "trap_T236                       0.089175\n",
       "trap_T237                      -0.102188\n",
       "trap_T238                      -0.106296\n",
       "trap_T900                       0.797226\n",
       "trap_T903                       0.360511\n",
       "codesum_BCFG BR                 0.000000\n",
       "codesum_BR                      0.261053\n",
       "codesum_BR HZ                   0.214920\n",
       "codesum_DZ                      0.000000\n",
       "codesum_DZ BR                  -0.268915\n",
       "codesum_FG BR HZ               -0.029677\n",
       "codesum_HZ                     -0.180599\n",
       "codesum_RA                      0.173367\n",
       "codesum_RA BR                  -0.360599\n",
       "codesum_RA BR HZ               -0.049956\n",
       "codesum_RA DZ                   0.000000\n",
       "codesum_RA DZ BR               -0.036326\n",
       "codesum_RA HZ                  -0.026186\n",
       "codesum_TS                     -0.067076\n",
       "codesum_TS BR                   0.110675\n",
       "codesum_TS RA                  -0.343524\n",
       "codesum_TS TSRA BR             -0.029320\n",
       "codesum_TS TSRA BR HZ          -0.203148\n",
       "codesum_TS TSRA RA              0.185406\n",
       "codesum_TS TSRA RA BR           0.352668\n",
       "codesum_TS TSRA RA BR HZ VCTS  -0.221175\n",
       "codesum_TS TSRA RA FG BR HZ     0.068469\n",
       "codesum_TS TSRA RA VCTS        -0.281000\n",
       "codesum_TSRA                   -0.445168\n",
       "codesum_TSRA BR                 0.017628\n",
       "codesum_TSRA BR HZ VCTS        -0.467728\n",
       "codesum_TSRA FG+ BR HZ          0.000000\n",
       "codesum_TSRA RA                 0.204387\n",
       "codesum_TSRA RA BR              0.122392\n",
       "codesum_TSRA RA BR HZ           0.000000\n",
       "codesum_TSRA RA BR HZ VCTS      0.000000\n",
       "codesum_TSRA RA BR VCTS         0.155735\n",
       "codesum_TSRA RA VCTS            0.000000\n",
       "codesum_VCTS                    0.153319"
      ]
     },
     "execution_count": 80,
     "metadata": {},
     "output_type": "execute_result"
    }
   ],
   "source": [
    "ridge_coef"
   ]
  },
  {
   "cell_type": "code",
   "execution_count": 81,
   "id": "ada614af",
   "metadata": {},
   "outputs": [
    {
     "data": {
      "text/html": [
       "<div>\n",
       "<style scoped>\n",
       "    .dataframe tbody tr th:only-of-type {\n",
       "        vertical-align: middle;\n",
       "    }\n",
       "\n",
       "    .dataframe tbody tr th {\n",
       "        vertical-align: top;\n",
       "    }\n",
       "\n",
       "    .dataframe thead th {\n",
       "        text-align: right;\n",
       "    }\n",
       "</style>\n",
       "<table border=\"1\" class=\"dataframe\">\n",
       "  <thead>\n",
       "    <tr style=\"text-align: right;\">\n",
       "      <th></th>\n",
       "      <th>coef</th>\n",
       "    </tr>\n",
       "  </thead>\n",
       "  <tbody>\n",
       "    <tr>\n",
       "      <th>BCFG</th>\n",
       "      <td>0.0</td>\n",
       "    </tr>\n",
       "    <tr>\n",
       "      <th>trap_T002A</th>\n",
       "      <td>0.0</td>\n",
       "    </tr>\n",
       "    <tr>\n",
       "      <th>trap_T002B</th>\n",
       "      <td>0.0</td>\n",
       "    </tr>\n",
       "    <tr>\n",
       "      <th>trap_T065A</th>\n",
       "      <td>0.0</td>\n",
       "    </tr>\n",
       "    <tr>\n",
       "      <th>trap_T090A</th>\n",
       "      <td>0.0</td>\n",
       "    </tr>\n",
       "    <tr>\n",
       "      <th>trap_T090B</th>\n",
       "      <td>0.0</td>\n",
       "    </tr>\n",
       "    <tr>\n",
       "      <th>trap_T090C</th>\n",
       "      <td>0.0</td>\n",
       "    </tr>\n",
       "    <tr>\n",
       "      <th>trap_T128A</th>\n",
       "      <td>0.0</td>\n",
       "    </tr>\n",
       "    <tr>\n",
       "      <th>trap_T200A</th>\n",
       "      <td>0.0</td>\n",
       "    </tr>\n",
       "    <tr>\n",
       "      <th>trap_T200B</th>\n",
       "      <td>0.0</td>\n",
       "    </tr>\n",
       "    <tr>\n",
       "      <th>trap_T218A</th>\n",
       "      <td>0.0</td>\n",
       "    </tr>\n",
       "    <tr>\n",
       "      <th>trap_T218B</th>\n",
       "      <td>0.0</td>\n",
       "    </tr>\n",
       "    <tr>\n",
       "      <th>trap_T218C</th>\n",
       "      <td>0.0</td>\n",
       "    </tr>\n",
       "    <tr>\n",
       "      <th>trap_T234</th>\n",
       "      <td>0.0</td>\n",
       "    </tr>\n",
       "    <tr>\n",
       "      <th>codesum_BCFG BR</th>\n",
       "      <td>0.0</td>\n",
       "    </tr>\n",
       "    <tr>\n",
       "      <th>codesum_DZ</th>\n",
       "      <td>0.0</td>\n",
       "    </tr>\n",
       "    <tr>\n",
       "      <th>codesum_RA DZ</th>\n",
       "      <td>0.0</td>\n",
       "    </tr>\n",
       "    <tr>\n",
       "      <th>codesum_TSRA FG+ BR HZ</th>\n",
       "      <td>0.0</td>\n",
       "    </tr>\n",
       "    <tr>\n",
       "      <th>codesum_TSRA RA BR HZ</th>\n",
       "      <td>0.0</td>\n",
       "    </tr>\n",
       "    <tr>\n",
       "      <th>codesum_TSRA RA BR HZ VCTS</th>\n",
       "      <td>0.0</td>\n",
       "    </tr>\n",
       "    <tr>\n",
       "      <th>codesum_TSRA RA VCTS</th>\n",
       "      <td>0.0</td>\n",
       "    </tr>\n",
       "  </tbody>\n",
       "</table>\n",
       "</div>"
      ],
      "text/plain": [
       "                            coef\n",
       "BCFG                         0.0\n",
       "trap_T002A                   0.0\n",
       "trap_T002B                   0.0\n",
       "trap_T065A                   0.0\n",
       "trap_T090A                   0.0\n",
       "trap_T090B                   0.0\n",
       "trap_T090C                   0.0\n",
       "trap_T128A                   0.0\n",
       "trap_T200A                   0.0\n",
       "trap_T200B                   0.0\n",
       "trap_T218A                   0.0\n",
       "trap_T218B                   0.0\n",
       "trap_T218C                   0.0\n",
       "trap_T234                    0.0\n",
       "codesum_BCFG BR              0.0\n",
       "codesum_DZ                   0.0\n",
       "codesum_RA DZ                0.0\n",
       "codesum_TSRA FG+ BR HZ       0.0\n",
       "codesum_TSRA RA BR HZ        0.0\n",
       "codesum_TSRA RA BR HZ VCTS   0.0\n",
       "codesum_TSRA RA VCTS         0.0"
      ]
     },
     "execution_count": 81,
     "metadata": {},
     "output_type": "execute_result"
    }
   ],
   "source": [
    "ridge_coef_0 = ridge_coef.loc[ridge_coef['coef'] == 0, :]\n",
    "ridge_coef_0 "
   ]
  },
  {
   "cell_type": "code",
   "execution_count": 82,
   "id": "3a1ee650",
   "metadata": {},
   "outputs": [],
   "source": [
    "# Observations:\n",
    "# We might want to take year out as it does not help us with using our modeling for future \n",
    "# purposes\n",
    "# weeks might still have a reason since for each year the week will come by again"
   ]
  },
  {
   "cell_type": "markdown",
   "id": "dd9b19a2",
   "metadata": {},
   "source": [
    "With Lasso CV"
   ]
  },
  {
   "cell_type": "code",
   "execution_count": 83,
   "id": "bf0db91f",
   "metadata": {},
   "outputs": [
    {
     "name": "stdout",
     "output_type": "stream",
     "text": [
      "Logistic Regression Intercept: [-2.4733826]\n"
     ]
    }
   ],
   "source": [
    "lasso = LogisticRegression(max_iter=10_000, penalty = 'l1', solver = 'liblinear')\n",
    "\n",
    "# Fit model\n",
    "lasso.fit(Xsm_train, ysm_train)\n",
    "\n",
    "print(f'Logistic Regression Intercept: {logreg.intercept_}')"
   ]
  },
  {
   "cell_type": "code",
   "execution_count": 84,
   "id": "ea60b7f9",
   "metadata": {},
   "outputs": [
    {
     "data": {
      "text/plain": [
       "(0.824553950722175, 0.7591522157996147)"
      ]
     },
     "execution_count": 84,
     "metadata": {},
     "output_type": "execute_result"
    }
   ],
   "source": [
    "#logreg of no-week data, with SMOTE\n",
    "lasso.score(Xsm_train, ysm_train), lasso.score(Xs_holdout, y_holdout)"
   ]
  },
  {
   "cell_type": "code",
   "execution_count": 85,
   "id": "d0e8dbfa",
   "metadata": {},
   "outputs": [],
   "source": [
    "lasso_coef = pd.DataFrame(data=lasso.coef_[0],\n",
    "                          index=df_col.columns,\n",
    "                          columns=['coef'])\n"
   ]
  },
  {
   "cell_type": "code",
   "execution_count": 86,
   "id": "71ba386e",
   "metadata": {},
   "outputs": [
    {
     "data": {
      "text/html": [
       "<div>\n",
       "<style scoped>\n",
       "    .dataframe tbody tr th:only-of-type {\n",
       "        vertical-align: middle;\n",
       "    }\n",
       "\n",
       "    .dataframe tbody tr th {\n",
       "        vertical-align: top;\n",
       "    }\n",
       "\n",
       "    .dataframe thead th {\n",
       "        text-align: right;\n",
       "    }\n",
       "</style>\n",
       "<table border=\"1\" class=\"dataframe\">\n",
       "  <thead>\n",
       "    <tr style=\"text-align: right;\">\n",
       "      <th></th>\n",
       "      <th>coef</th>\n",
       "    </tr>\n",
       "  </thead>\n",
       "  <tbody>\n",
       "    <tr>\n",
       "      <th>latitude</th>\n",
       "      <td>-0.910175</td>\n",
       "    </tr>\n",
       "    <tr>\n",
       "      <th>longitude</th>\n",
       "      <td>-0.572141</td>\n",
       "    </tr>\n",
       "    <tr>\n",
       "      <th>tavg</th>\n",
       "      <td>0.943872</td>\n",
       "    </tr>\n",
       "    <tr>\n",
       "      <th>preciptotal</th>\n",
       "      <td>-0.699899</td>\n",
       "    </tr>\n",
       "    <tr>\n",
       "      <th>stnpressure</th>\n",
       "      <td>0.436318</td>\n",
       "    </tr>\n",
       "    <tr>\n",
       "      <th>resultdir</th>\n",
       "      <td>0.124775</td>\n",
       "    </tr>\n",
       "    <tr>\n",
       "      <th>avgspeed</th>\n",
       "      <td>-0.101218</td>\n",
       "    </tr>\n",
       "    <tr>\n",
       "      <th>is_spray</th>\n",
       "      <td>0.028961</td>\n",
       "    </tr>\n",
       "    <tr>\n",
       "      <th>stnpressure_7</th>\n",
       "      <td>0.316556</td>\n",
       "    </tr>\n",
       "    <tr>\n",
       "      <th>stnpressure_10</th>\n",
       "      <td>-0.054228</td>\n",
       "    </tr>\n",
       "    <tr>\n",
       "      <th>preciptotal_7</th>\n",
       "      <td>-0.269686</td>\n",
       "    </tr>\n",
       "    <tr>\n",
       "      <th>preciptotal_10</th>\n",
       "      <td>0.163378</td>\n",
       "    </tr>\n",
       "    <tr>\n",
       "      <th>DZ</th>\n",
       "      <td>-0.232978</td>\n",
       "    </tr>\n",
       "    <tr>\n",
       "      <th>BR</th>\n",
       "      <td>0.000000</td>\n",
       "    </tr>\n",
       "    <tr>\n",
       "      <th>TSRA</th>\n",
       "      <td>0.030564</td>\n",
       "    </tr>\n",
       "    <tr>\n",
       "      <th>VCTS</th>\n",
       "      <td>-0.017921</td>\n",
       "    </tr>\n",
       "    <tr>\n",
       "      <th>BCFG</th>\n",
       "      <td>0.000000</td>\n",
       "    </tr>\n",
       "    <tr>\n",
       "      <th>FG</th>\n",
       "      <td>0.000000</td>\n",
       "    </tr>\n",
       "    <tr>\n",
       "      <th>TS</th>\n",
       "      <td>0.166297</td>\n",
       "    </tr>\n",
       "    <tr>\n",
       "      <th>FG+</th>\n",
       "      <td>0.000000</td>\n",
       "    </tr>\n",
       "    <tr>\n",
       "      <th>HZ</th>\n",
       "      <td>-0.106087</td>\n",
       "    </tr>\n",
       "    <tr>\n",
       "      <th>RA</th>\n",
       "      <td>0.000000</td>\n",
       "    </tr>\n",
       "    <tr>\n",
       "      <th>dayofweek_1</th>\n",
       "      <td>0.774494</td>\n",
       "    </tr>\n",
       "    <tr>\n",
       "      <th>dayofweek_2</th>\n",
       "      <td>0.689798</td>\n",
       "    </tr>\n",
       "    <tr>\n",
       "      <th>dayofweek_3</th>\n",
       "      <td>0.952244</td>\n",
       "    </tr>\n",
       "    <tr>\n",
       "      <th>dayofweek_4</th>\n",
       "      <td>0.746302</td>\n",
       "    </tr>\n",
       "    <tr>\n",
       "      <th>species_CULEX PIPIENS/RESTUANS</th>\n",
       "      <td>-0.117373</td>\n",
       "    </tr>\n",
       "    <tr>\n",
       "      <th>species_CULEX RESTUANS</th>\n",
       "      <td>-0.761542</td>\n",
       "    </tr>\n",
       "    <tr>\n",
       "      <th>trap_T002</th>\n",
       "      <td>0.307807</td>\n",
       "    </tr>\n",
       "    <tr>\n",
       "      <th>trap_T002A</th>\n",
       "      <td>0.000000</td>\n",
       "    </tr>\n",
       "    <tr>\n",
       "      <th>trap_T002B</th>\n",
       "      <td>0.000000</td>\n",
       "    </tr>\n",
       "    <tr>\n",
       "      <th>trap_T003</th>\n",
       "      <td>0.384402</td>\n",
       "    </tr>\n",
       "    <tr>\n",
       "      <th>trap_T004</th>\n",
       "      <td>-0.149516</td>\n",
       "    </tr>\n",
       "    <tr>\n",
       "      <th>trap_T005</th>\n",
       "      <td>-0.195835</td>\n",
       "    </tr>\n",
       "    <tr>\n",
       "      <th>trap_T006</th>\n",
       "      <td>0.018561</td>\n",
       "    </tr>\n",
       "    <tr>\n",
       "      <th>trap_T007</th>\n",
       "      <td>-0.315147</td>\n",
       "    </tr>\n",
       "    <tr>\n",
       "      <th>trap_T008</th>\n",
       "      <td>0.239401</td>\n",
       "    </tr>\n",
       "    <tr>\n",
       "      <th>trap_T009</th>\n",
       "      <td>0.012186</td>\n",
       "    </tr>\n",
       "    <tr>\n",
       "      <th>trap_T009A</th>\n",
       "      <td>-0.053848</td>\n",
       "    </tr>\n",
       "    <tr>\n",
       "      <th>trap_T011</th>\n",
       "      <td>0.089671</td>\n",
       "    </tr>\n",
       "    <tr>\n",
       "      <th>trap_T012</th>\n",
       "      <td>-0.016799</td>\n",
       "    </tr>\n",
       "    <tr>\n",
       "      <th>trap_T013</th>\n",
       "      <td>0.314068</td>\n",
       "    </tr>\n",
       "    <tr>\n",
       "      <th>trap_T014</th>\n",
       "      <td>0.034095</td>\n",
       "    </tr>\n",
       "    <tr>\n",
       "      <th>trap_T015</th>\n",
       "      <td>-0.007388</td>\n",
       "    </tr>\n",
       "    <tr>\n",
       "      <th>trap_T016</th>\n",
       "      <td>0.022096</td>\n",
       "    </tr>\n",
       "    <tr>\n",
       "      <th>trap_T017</th>\n",
       "      <td>-0.529544</td>\n",
       "    </tr>\n",
       "    <tr>\n",
       "      <th>trap_T018</th>\n",
       "      <td>-0.292689</td>\n",
       "    </tr>\n",
       "    <tr>\n",
       "      <th>trap_T019</th>\n",
       "      <td>-0.226632</td>\n",
       "    </tr>\n",
       "    <tr>\n",
       "      <th>trap_T025</th>\n",
       "      <td>-0.325462</td>\n",
       "    </tr>\n",
       "    <tr>\n",
       "      <th>trap_T027</th>\n",
       "      <td>0.195305</td>\n",
       "    </tr>\n",
       "    <tr>\n",
       "      <th>trap_T028</th>\n",
       "      <td>0.357649</td>\n",
       "    </tr>\n",
       "    <tr>\n",
       "      <th>trap_T030</th>\n",
       "      <td>0.119530</td>\n",
       "    </tr>\n",
       "    <tr>\n",
       "      <th>trap_T031</th>\n",
       "      <td>0.019106</td>\n",
       "    </tr>\n",
       "    <tr>\n",
       "      <th>trap_T033</th>\n",
       "      <td>0.099558</td>\n",
       "    </tr>\n",
       "    <tr>\n",
       "      <th>trap_T034</th>\n",
       "      <td>-0.220481</td>\n",
       "    </tr>\n",
       "    <tr>\n",
       "      <th>trap_T035</th>\n",
       "      <td>-0.290383</td>\n",
       "    </tr>\n",
       "    <tr>\n",
       "      <th>trap_T035A</th>\n",
       "      <td>0.004697</td>\n",
       "    </tr>\n",
       "    <tr>\n",
       "      <th>trap_T036</th>\n",
       "      <td>-0.036781</td>\n",
       "    </tr>\n",
       "    <tr>\n",
       "      <th>trap_T037</th>\n",
       "      <td>-0.253881</td>\n",
       "    </tr>\n",
       "    <tr>\n",
       "      <th>trap_T039</th>\n",
       "      <td>0.122190</td>\n",
       "    </tr>\n",
       "    <tr>\n",
       "      <th>trap_T040</th>\n",
       "      <td>0.000000</td>\n",
       "    </tr>\n",
       "    <tr>\n",
       "      <th>trap_T043</th>\n",
       "      <td>-0.427549</td>\n",
       "    </tr>\n",
       "    <tr>\n",
       "      <th>trap_T044</th>\n",
       "      <td>-0.175492</td>\n",
       "    </tr>\n",
       "    <tr>\n",
       "      <th>trap_T045</th>\n",
       "      <td>0.134605</td>\n",
       "    </tr>\n",
       "    <tr>\n",
       "      <th>trap_T046</th>\n",
       "      <td>-0.506639</td>\n",
       "    </tr>\n",
       "    <tr>\n",
       "      <th>trap_T047</th>\n",
       "      <td>0.009995</td>\n",
       "    </tr>\n",
       "    <tr>\n",
       "      <th>trap_T048</th>\n",
       "      <td>0.167411</td>\n",
       "    </tr>\n",
       "    <tr>\n",
       "      <th>trap_T049</th>\n",
       "      <td>0.002063</td>\n",
       "    </tr>\n",
       "    <tr>\n",
       "      <th>trap_T050</th>\n",
       "      <td>-0.213850</td>\n",
       "    </tr>\n",
       "    <tr>\n",
       "      <th>trap_T051</th>\n",
       "      <td>-0.220400</td>\n",
       "    </tr>\n",
       "    <tr>\n",
       "      <th>trap_T054</th>\n",
       "      <td>0.305485</td>\n",
       "    </tr>\n",
       "    <tr>\n",
       "      <th>trap_T054C</th>\n",
       "      <td>0.053134</td>\n",
       "    </tr>\n",
       "    <tr>\n",
       "      <th>trap_T060</th>\n",
       "      <td>-0.186090</td>\n",
       "    </tr>\n",
       "    <tr>\n",
       "      <th>trap_T061</th>\n",
       "      <td>0.103593</td>\n",
       "    </tr>\n",
       "    <tr>\n",
       "      <th>trap_T062</th>\n",
       "      <td>-0.123722</td>\n",
       "    </tr>\n",
       "    <tr>\n",
       "      <th>trap_T063</th>\n",
       "      <td>-0.065305</td>\n",
       "    </tr>\n",
       "    <tr>\n",
       "      <th>trap_T065</th>\n",
       "      <td>-0.006741</td>\n",
       "    </tr>\n",
       "    <tr>\n",
       "      <th>trap_T065A</th>\n",
       "      <td>0.000000</td>\n",
       "    </tr>\n",
       "    <tr>\n",
       "      <th>trap_T066</th>\n",
       "      <td>0.049361</td>\n",
       "    </tr>\n",
       "    <tr>\n",
       "      <th>trap_T067</th>\n",
       "      <td>0.010927</td>\n",
       "    </tr>\n",
       "    <tr>\n",
       "      <th>trap_T069</th>\n",
       "      <td>-0.139947</td>\n",
       "    </tr>\n",
       "    <tr>\n",
       "      <th>trap_T070</th>\n",
       "      <td>-0.003653</td>\n",
       "    </tr>\n",
       "    <tr>\n",
       "      <th>trap_T071</th>\n",
       "      <td>-0.288205</td>\n",
       "    </tr>\n",
       "    <tr>\n",
       "      <th>trap_T072</th>\n",
       "      <td>-0.223884</td>\n",
       "    </tr>\n",
       "    <tr>\n",
       "      <th>trap_T073</th>\n",
       "      <td>0.015266</td>\n",
       "    </tr>\n",
       "    <tr>\n",
       "      <th>trap_T074</th>\n",
       "      <td>0.047120</td>\n",
       "    </tr>\n",
       "    <tr>\n",
       "      <th>trap_T075</th>\n",
       "      <td>-0.200939</td>\n",
       "    </tr>\n",
       "    <tr>\n",
       "      <th>trap_T076</th>\n",
       "      <td>-0.082818</td>\n",
       "    </tr>\n",
       "    <tr>\n",
       "      <th>trap_T077</th>\n",
       "      <td>-0.324919</td>\n",
       "    </tr>\n",
       "    <tr>\n",
       "      <th>trap_T078</th>\n",
       "      <td>-0.139110</td>\n",
       "    </tr>\n",
       "    <tr>\n",
       "      <th>trap_T079</th>\n",
       "      <td>0.002775</td>\n",
       "    </tr>\n",
       "    <tr>\n",
       "      <th>trap_T080</th>\n",
       "      <td>-0.026382</td>\n",
       "    </tr>\n",
       "    <tr>\n",
       "      <th>trap_T081</th>\n",
       "      <td>-0.305492</td>\n",
       "    </tr>\n",
       "    <tr>\n",
       "      <th>trap_T082</th>\n",
       "      <td>0.226504</td>\n",
       "    </tr>\n",
       "    <tr>\n",
       "      <th>trap_T083</th>\n",
       "      <td>0.022214</td>\n",
       "    </tr>\n",
       "    <tr>\n",
       "      <th>trap_T084</th>\n",
       "      <td>-0.088397</td>\n",
       "    </tr>\n",
       "    <tr>\n",
       "      <th>trap_T085</th>\n",
       "      <td>-0.035135</td>\n",
       "    </tr>\n",
       "    <tr>\n",
       "      <th>trap_T086</th>\n",
       "      <td>0.035787</td>\n",
       "    </tr>\n",
       "    <tr>\n",
       "      <th>trap_T088</th>\n",
       "      <td>-0.277090</td>\n",
       "    </tr>\n",
       "    <tr>\n",
       "      <th>trap_T089</th>\n",
       "      <td>0.048585</td>\n",
       "    </tr>\n",
       "    <tr>\n",
       "      <th>trap_T090</th>\n",
       "      <td>0.312480</td>\n",
       "    </tr>\n",
       "    <tr>\n",
       "      <th>trap_T090A</th>\n",
       "      <td>0.000000</td>\n",
       "    </tr>\n",
       "    <tr>\n",
       "      <th>trap_T090B</th>\n",
       "      <td>0.000000</td>\n",
       "    </tr>\n",
       "    <tr>\n",
       "      <th>trap_T090C</th>\n",
       "      <td>0.000000</td>\n",
       "    </tr>\n",
       "    <tr>\n",
       "      <th>trap_T091</th>\n",
       "      <td>0.002849</td>\n",
       "    </tr>\n",
       "    <tr>\n",
       "      <th>trap_T092</th>\n",
       "      <td>-0.249421</td>\n",
       "    </tr>\n",
       "    <tr>\n",
       "      <th>trap_T094</th>\n",
       "      <td>0.036134</td>\n",
       "    </tr>\n",
       "    <tr>\n",
       "      <th>trap_T094B</th>\n",
       "      <td>-0.134188</td>\n",
       "    </tr>\n",
       "    <tr>\n",
       "      <th>trap_T095</th>\n",
       "      <td>0.120426</td>\n",
       "    </tr>\n",
       "    <tr>\n",
       "      <th>trap_T096</th>\n",
       "      <td>0.061406</td>\n",
       "    </tr>\n",
       "    <tr>\n",
       "      <th>trap_T097</th>\n",
       "      <td>-0.274577</td>\n",
       "    </tr>\n",
       "    <tr>\n",
       "      <th>trap_T099</th>\n",
       "      <td>-0.403264</td>\n",
       "    </tr>\n",
       "    <tr>\n",
       "      <th>trap_T100</th>\n",
       "      <td>-0.308956</td>\n",
       "    </tr>\n",
       "    <tr>\n",
       "      <th>trap_T102</th>\n",
       "      <td>-0.210498</td>\n",
       "    </tr>\n",
       "    <tr>\n",
       "      <th>trap_T103</th>\n",
       "      <td>0.032521</td>\n",
       "    </tr>\n",
       "    <tr>\n",
       "      <th>trap_T107</th>\n",
       "      <td>-0.007711</td>\n",
       "    </tr>\n",
       "    <tr>\n",
       "      <th>trap_T114</th>\n",
       "      <td>0.094058</td>\n",
       "    </tr>\n",
       "    <tr>\n",
       "      <th>trap_T115</th>\n",
       "      <td>0.184278</td>\n",
       "    </tr>\n",
       "    <tr>\n",
       "      <th>trap_T128</th>\n",
       "      <td>0.043479</td>\n",
       "    </tr>\n",
       "    <tr>\n",
       "      <th>trap_T128A</th>\n",
       "      <td>0.000000</td>\n",
       "    </tr>\n",
       "    <tr>\n",
       "      <th>trap_T129</th>\n",
       "      <td>-0.197699</td>\n",
       "    </tr>\n",
       "    <tr>\n",
       "      <th>trap_T135</th>\n",
       "      <td>0.004666</td>\n",
       "    </tr>\n",
       "    <tr>\n",
       "      <th>trap_T138</th>\n",
       "      <td>0.157417</td>\n",
       "    </tr>\n",
       "    <tr>\n",
       "      <th>trap_T141</th>\n",
       "      <td>-0.199435</td>\n",
       "    </tr>\n",
       "    <tr>\n",
       "      <th>trap_T142</th>\n",
       "      <td>-0.275901</td>\n",
       "    </tr>\n",
       "    <tr>\n",
       "      <th>trap_T143</th>\n",
       "      <td>0.046365</td>\n",
       "    </tr>\n",
       "    <tr>\n",
       "      <th>trap_T144</th>\n",
       "      <td>-0.181528</td>\n",
       "    </tr>\n",
       "    <tr>\n",
       "      <th>trap_T145</th>\n",
       "      <td>-0.400024</td>\n",
       "    </tr>\n",
       "    <tr>\n",
       "      <th>trap_T146</th>\n",
       "      <td>-0.239040</td>\n",
       "    </tr>\n",
       "    <tr>\n",
       "      <th>trap_T147</th>\n",
       "      <td>0.194163</td>\n",
       "    </tr>\n",
       "    <tr>\n",
       "      <th>trap_T148</th>\n",
       "      <td>-0.300773</td>\n",
       "    </tr>\n",
       "    <tr>\n",
       "      <th>trap_T149</th>\n",
       "      <td>-0.133146</td>\n",
       "    </tr>\n",
       "    <tr>\n",
       "      <th>trap_T150</th>\n",
       "      <td>-0.142095</td>\n",
       "    </tr>\n",
       "    <tr>\n",
       "      <th>trap_T151</th>\n",
       "      <td>0.141751</td>\n",
       "    </tr>\n",
       "    <tr>\n",
       "      <th>trap_T152</th>\n",
       "      <td>-0.164209</td>\n",
       "    </tr>\n",
       "    <tr>\n",
       "      <th>trap_T153</th>\n",
       "      <td>-0.306757</td>\n",
       "    </tr>\n",
       "    <tr>\n",
       "      <th>trap_T154</th>\n",
       "      <td>0.069131</td>\n",
       "    </tr>\n",
       "    <tr>\n",
       "      <th>trap_T155</th>\n",
       "      <td>0.052539</td>\n",
       "    </tr>\n",
       "    <tr>\n",
       "      <th>trap_T156</th>\n",
       "      <td>-0.271549</td>\n",
       "    </tr>\n",
       "    <tr>\n",
       "      <th>trap_T157</th>\n",
       "      <td>-0.211546</td>\n",
       "    </tr>\n",
       "    <tr>\n",
       "      <th>trap_T158</th>\n",
       "      <td>0.000000</td>\n",
       "    </tr>\n",
       "    <tr>\n",
       "      <th>trap_T159</th>\n",
       "      <td>-0.072616</td>\n",
       "    </tr>\n",
       "    <tr>\n",
       "      <th>trap_T160</th>\n",
       "      <td>0.187700</td>\n",
       "    </tr>\n",
       "    <tr>\n",
       "      <th>trap_T161</th>\n",
       "      <td>-0.300865</td>\n",
       "    </tr>\n",
       "    <tr>\n",
       "      <th>trap_T162</th>\n",
       "      <td>0.011516</td>\n",
       "    </tr>\n",
       "    <tr>\n",
       "      <th>trap_T200</th>\n",
       "      <td>-0.233537</td>\n",
       "    </tr>\n",
       "    <tr>\n",
       "      <th>trap_T200A</th>\n",
       "      <td>0.000000</td>\n",
       "    </tr>\n",
       "    <tr>\n",
       "      <th>trap_T200B</th>\n",
       "      <td>0.000000</td>\n",
       "    </tr>\n",
       "    <tr>\n",
       "      <th>trap_T206</th>\n",
       "      <td>-0.259664</td>\n",
       "    </tr>\n",
       "    <tr>\n",
       "      <th>trap_T209</th>\n",
       "      <td>-0.006841</td>\n",
       "    </tr>\n",
       "    <tr>\n",
       "      <th>trap_T212</th>\n",
       "      <td>-0.168826</td>\n",
       "    </tr>\n",
       "    <tr>\n",
       "      <th>trap_T215</th>\n",
       "      <td>0.120898</td>\n",
       "    </tr>\n",
       "    <tr>\n",
       "      <th>trap_T218</th>\n",
       "      <td>0.189104</td>\n",
       "    </tr>\n",
       "    <tr>\n",
       "      <th>trap_T218A</th>\n",
       "      <td>0.000000</td>\n",
       "    </tr>\n",
       "    <tr>\n",
       "      <th>trap_T218B</th>\n",
       "      <td>0.000000</td>\n",
       "    </tr>\n",
       "    <tr>\n",
       "      <th>trap_T218C</th>\n",
       "      <td>0.000000</td>\n",
       "    </tr>\n",
       "    <tr>\n",
       "      <th>trap_T219</th>\n",
       "      <td>-0.214901</td>\n",
       "    </tr>\n",
       "    <tr>\n",
       "      <th>trap_T220</th>\n",
       "      <td>0.085499</td>\n",
       "    </tr>\n",
       "    <tr>\n",
       "      <th>trap_T221</th>\n",
       "      <td>0.077665</td>\n",
       "    </tr>\n",
       "    <tr>\n",
       "      <th>trap_T222</th>\n",
       "      <td>-0.056700</td>\n",
       "    </tr>\n",
       "    <tr>\n",
       "      <th>trap_T223</th>\n",
       "      <td>0.248117</td>\n",
       "    </tr>\n",
       "    <tr>\n",
       "      <th>trap_T224</th>\n",
       "      <td>0.088458</td>\n",
       "    </tr>\n",
       "    <tr>\n",
       "      <th>trap_T225</th>\n",
       "      <td>0.233356</td>\n",
       "    </tr>\n",
       "    <tr>\n",
       "      <th>trap_T226</th>\n",
       "      <td>-0.043483</td>\n",
       "    </tr>\n",
       "    <tr>\n",
       "      <th>trap_T227</th>\n",
       "      <td>0.124392</td>\n",
       "    </tr>\n",
       "    <tr>\n",
       "      <th>trap_T228</th>\n",
       "      <td>0.327380</td>\n",
       "    </tr>\n",
       "    <tr>\n",
       "      <th>trap_T229</th>\n",
       "      <td>-0.087789</td>\n",
       "    </tr>\n",
       "    <tr>\n",
       "      <th>trap_T230</th>\n",
       "      <td>0.269118</td>\n",
       "    </tr>\n",
       "    <tr>\n",
       "      <th>trap_T231</th>\n",
       "      <td>0.234244</td>\n",
       "    </tr>\n",
       "    <tr>\n",
       "      <th>trap_T232</th>\n",
       "      <td>-0.241942</td>\n",
       "    </tr>\n",
       "    <tr>\n",
       "      <th>trap_T233</th>\n",
       "      <td>0.138443</td>\n",
       "    </tr>\n",
       "    <tr>\n",
       "      <th>trap_T234</th>\n",
       "      <td>0.000000</td>\n",
       "    </tr>\n",
       "    <tr>\n",
       "      <th>trap_T235</th>\n",
       "      <td>0.076517</td>\n",
       "    </tr>\n",
       "    <tr>\n",
       "      <th>trap_T236</th>\n",
       "      <td>0.030672</td>\n",
       "    </tr>\n",
       "    <tr>\n",
       "      <th>trap_T237</th>\n",
       "      <td>-0.089726</td>\n",
       "    </tr>\n",
       "    <tr>\n",
       "      <th>trap_T238</th>\n",
       "      <td>-0.091750</td>\n",
       "    </tr>\n",
       "    <tr>\n",
       "      <th>trap_T900</th>\n",
       "      <td>0.602101</td>\n",
       "    </tr>\n",
       "    <tr>\n",
       "      <th>trap_T903</th>\n",
       "      <td>0.194123</td>\n",
       "    </tr>\n",
       "    <tr>\n",
       "      <th>codesum_BCFG BR</th>\n",
       "      <td>0.000000</td>\n",
       "    </tr>\n",
       "    <tr>\n",
       "      <th>codesum_BR</th>\n",
       "      <td>0.251097</td>\n",
       "    </tr>\n",
       "    <tr>\n",
       "      <th>codesum_BR HZ</th>\n",
       "      <td>0.163564</td>\n",
       "    </tr>\n",
       "    <tr>\n",
       "      <th>codesum_DZ</th>\n",
       "      <td>0.000000</td>\n",
       "    </tr>\n",
       "    <tr>\n",
       "      <th>codesum_DZ BR</th>\n",
       "      <td>-0.180420</td>\n",
       "    </tr>\n",
       "    <tr>\n",
       "      <th>codesum_FG BR HZ</th>\n",
       "      <td>0.000000</td>\n",
       "    </tr>\n",
       "    <tr>\n",
       "      <th>codesum_HZ</th>\n",
       "      <td>-0.233951</td>\n",
       "    </tr>\n",
       "    <tr>\n",
       "      <th>codesum_RA</th>\n",
       "      <td>0.113820</td>\n",
       "    </tr>\n",
       "    <tr>\n",
       "      <th>codesum_RA BR</th>\n",
       "      <td>-0.433876</td>\n",
       "    </tr>\n",
       "    <tr>\n",
       "      <th>codesum_RA BR HZ</th>\n",
       "      <td>-0.112685</td>\n",
       "    </tr>\n",
       "    <tr>\n",
       "      <th>codesum_RA DZ</th>\n",
       "      <td>0.000000</td>\n",
       "    </tr>\n",
       "    <tr>\n",
       "      <th>codesum_RA DZ BR</th>\n",
       "      <td>0.000000</td>\n",
       "    </tr>\n",
       "    <tr>\n",
       "      <th>codesum_RA HZ</th>\n",
       "      <td>-0.048325</td>\n",
       "    </tr>\n",
       "    <tr>\n",
       "      <th>codesum_TS</th>\n",
       "      <td>-0.076718</td>\n",
       "    </tr>\n",
       "    <tr>\n",
       "      <th>codesum_TS BR</th>\n",
       "      <td>0.082169</td>\n",
       "    </tr>\n",
       "    <tr>\n",
       "      <th>codesum_TS RA</th>\n",
       "      <td>-0.322273</td>\n",
       "    </tr>\n",
       "    <tr>\n",
       "      <th>codesum_TS TSRA BR</th>\n",
       "      <td>0.000000</td>\n",
       "    </tr>\n",
       "    <tr>\n",
       "      <th>codesum_TS TSRA BR HZ</th>\n",
       "      <td>-0.175495</td>\n",
       "    </tr>\n",
       "    <tr>\n",
       "      <th>codesum_TS TSRA RA</th>\n",
       "      <td>0.167284</td>\n",
       "    </tr>\n",
       "    <tr>\n",
       "      <th>codesum_TS TSRA RA BR</th>\n",
       "      <td>0.328699</td>\n",
       "    </tr>\n",
       "    <tr>\n",
       "      <th>codesum_TS TSRA RA BR HZ VCTS</th>\n",
       "      <td>-0.260645</td>\n",
       "    </tr>\n",
       "    <tr>\n",
       "      <th>codesum_TS TSRA RA FG BR HZ</th>\n",
       "      <td>0.097573</td>\n",
       "    </tr>\n",
       "    <tr>\n",
       "      <th>codesum_TS TSRA RA VCTS</th>\n",
       "      <td>-0.298569</td>\n",
       "    </tr>\n",
       "    <tr>\n",
       "      <th>codesum_TSRA</th>\n",
       "      <td>-0.422758</td>\n",
       "    </tr>\n",
       "    <tr>\n",
       "      <th>codesum_TSRA BR</th>\n",
       "      <td>0.000000</td>\n",
       "    </tr>\n",
       "    <tr>\n",
       "      <th>codesum_TSRA BR HZ VCTS</th>\n",
       "      <td>-0.567187</td>\n",
       "    </tr>\n",
       "    <tr>\n",
       "      <th>codesum_TSRA FG+ BR HZ</th>\n",
       "      <td>0.000000</td>\n",
       "    </tr>\n",
       "    <tr>\n",
       "      <th>codesum_TSRA RA</th>\n",
       "      <td>0.169218</td>\n",
       "    </tr>\n",
       "    <tr>\n",
       "      <th>codesum_TSRA RA BR</th>\n",
       "      <td>0.074263</td>\n",
       "    </tr>\n",
       "    <tr>\n",
       "      <th>codesum_TSRA RA BR HZ</th>\n",
       "      <td>0.000000</td>\n",
       "    </tr>\n",
       "    <tr>\n",
       "      <th>codesum_TSRA RA BR HZ VCTS</th>\n",
       "      <td>0.000000</td>\n",
       "    </tr>\n",
       "    <tr>\n",
       "      <th>codesum_TSRA RA BR VCTS</th>\n",
       "      <td>0.000000</td>\n",
       "    </tr>\n",
       "    <tr>\n",
       "      <th>codesum_TSRA RA VCTS</th>\n",
       "      <td>0.000000</td>\n",
       "    </tr>\n",
       "    <tr>\n",
       "      <th>codesum_VCTS</th>\n",
       "      <td>0.058250</td>\n",
       "    </tr>\n",
       "  </tbody>\n",
       "</table>\n",
       "</div>"
      ],
      "text/plain": [
       "                                    coef\n",
       "latitude                       -0.910175\n",
       "longitude                      -0.572141\n",
       "tavg                            0.943872\n",
       "preciptotal                    -0.699899\n",
       "stnpressure                     0.436318\n",
       "resultdir                       0.124775\n",
       "avgspeed                       -0.101218\n",
       "is_spray                        0.028961\n",
       "stnpressure_7                   0.316556\n",
       "stnpressure_10                 -0.054228\n",
       "preciptotal_7                  -0.269686\n",
       "preciptotal_10                  0.163378\n",
       "DZ                             -0.232978\n",
       "BR                              0.000000\n",
       "TSRA                            0.030564\n",
       "VCTS                           -0.017921\n",
       "BCFG                            0.000000\n",
       "FG                              0.000000\n",
       "TS                              0.166297\n",
       "FG+                             0.000000\n",
       "HZ                             -0.106087\n",
       "RA                              0.000000\n",
       "dayofweek_1                     0.774494\n",
       "dayofweek_2                     0.689798\n",
       "dayofweek_3                     0.952244\n",
       "dayofweek_4                     0.746302\n",
       "species_CULEX PIPIENS/RESTUANS -0.117373\n",
       "species_CULEX RESTUANS         -0.761542\n",
       "trap_T002                       0.307807\n",
       "trap_T002A                      0.000000\n",
       "trap_T002B                      0.000000\n",
       "trap_T003                       0.384402\n",
       "trap_T004                      -0.149516\n",
       "trap_T005                      -0.195835\n",
       "trap_T006                       0.018561\n",
       "trap_T007                      -0.315147\n",
       "trap_T008                       0.239401\n",
       "trap_T009                       0.012186\n",
       "trap_T009A                     -0.053848\n",
       "trap_T011                       0.089671\n",
       "trap_T012                      -0.016799\n",
       "trap_T013                       0.314068\n",
       "trap_T014                       0.034095\n",
       "trap_T015                      -0.007388\n",
       "trap_T016                       0.022096\n",
       "trap_T017                      -0.529544\n",
       "trap_T018                      -0.292689\n",
       "trap_T019                      -0.226632\n",
       "trap_T025                      -0.325462\n",
       "trap_T027                       0.195305\n",
       "trap_T028                       0.357649\n",
       "trap_T030                       0.119530\n",
       "trap_T031                       0.019106\n",
       "trap_T033                       0.099558\n",
       "trap_T034                      -0.220481\n",
       "trap_T035                      -0.290383\n",
       "trap_T035A                      0.004697\n",
       "trap_T036                      -0.036781\n",
       "trap_T037                      -0.253881\n",
       "trap_T039                       0.122190\n",
       "trap_T040                       0.000000\n",
       "trap_T043                      -0.427549\n",
       "trap_T044                      -0.175492\n",
       "trap_T045                       0.134605\n",
       "trap_T046                      -0.506639\n",
       "trap_T047                       0.009995\n",
       "trap_T048                       0.167411\n",
       "trap_T049                       0.002063\n",
       "trap_T050                      -0.213850\n",
       "trap_T051                      -0.220400\n",
       "trap_T054                       0.305485\n",
       "trap_T054C                      0.053134\n",
       "trap_T060                      -0.186090\n",
       "trap_T061                       0.103593\n",
       "trap_T062                      -0.123722\n",
       "trap_T063                      -0.065305\n",
       "trap_T065                      -0.006741\n",
       "trap_T065A                      0.000000\n",
       "trap_T066                       0.049361\n",
       "trap_T067                       0.010927\n",
       "trap_T069                      -0.139947\n",
       "trap_T070                      -0.003653\n",
       "trap_T071                      -0.288205\n",
       "trap_T072                      -0.223884\n",
       "trap_T073                       0.015266\n",
       "trap_T074                       0.047120\n",
       "trap_T075                      -0.200939\n",
       "trap_T076                      -0.082818\n",
       "trap_T077                      -0.324919\n",
       "trap_T078                      -0.139110\n",
       "trap_T079                       0.002775\n",
       "trap_T080                      -0.026382\n",
       "trap_T081                      -0.305492\n",
       "trap_T082                       0.226504\n",
       "trap_T083                       0.022214\n",
       "trap_T084                      -0.088397\n",
       "trap_T085                      -0.035135\n",
       "trap_T086                       0.035787\n",
       "trap_T088                      -0.277090\n",
       "trap_T089                       0.048585\n",
       "trap_T090                       0.312480\n",
       "trap_T090A                      0.000000\n",
       "trap_T090B                      0.000000\n",
       "trap_T090C                      0.000000\n",
       "trap_T091                       0.002849\n",
       "trap_T092                      -0.249421\n",
       "trap_T094                       0.036134\n",
       "trap_T094B                     -0.134188\n",
       "trap_T095                       0.120426\n",
       "trap_T096                       0.061406\n",
       "trap_T097                      -0.274577\n",
       "trap_T099                      -0.403264\n",
       "trap_T100                      -0.308956\n",
       "trap_T102                      -0.210498\n",
       "trap_T103                       0.032521\n",
       "trap_T107                      -0.007711\n",
       "trap_T114                       0.094058\n",
       "trap_T115                       0.184278\n",
       "trap_T128                       0.043479\n",
       "trap_T128A                      0.000000\n",
       "trap_T129                      -0.197699\n",
       "trap_T135                       0.004666\n",
       "trap_T138                       0.157417\n",
       "trap_T141                      -0.199435\n",
       "trap_T142                      -0.275901\n",
       "trap_T143                       0.046365\n",
       "trap_T144                      -0.181528\n",
       "trap_T145                      -0.400024\n",
       "trap_T146                      -0.239040\n",
       "trap_T147                       0.194163\n",
       "trap_T148                      -0.300773\n",
       "trap_T149                      -0.133146\n",
       "trap_T150                      -0.142095\n",
       "trap_T151                       0.141751\n",
       "trap_T152                      -0.164209\n",
       "trap_T153                      -0.306757\n",
       "trap_T154                       0.069131\n",
       "trap_T155                       0.052539\n",
       "trap_T156                      -0.271549\n",
       "trap_T157                      -0.211546\n",
       "trap_T158                       0.000000\n",
       "trap_T159                      -0.072616\n",
       "trap_T160                       0.187700\n",
       "trap_T161                      -0.300865\n",
       "trap_T162                       0.011516\n",
       "trap_T200                      -0.233537\n",
       "trap_T200A                      0.000000\n",
       "trap_T200B                      0.000000\n",
       "trap_T206                      -0.259664\n",
       "trap_T209                      -0.006841\n",
       "trap_T212                      -0.168826\n",
       "trap_T215                       0.120898\n",
       "trap_T218                       0.189104\n",
       "trap_T218A                      0.000000\n",
       "trap_T218B                      0.000000\n",
       "trap_T218C                      0.000000\n",
       "trap_T219                      -0.214901\n",
       "trap_T220                       0.085499\n",
       "trap_T221                       0.077665\n",
       "trap_T222                      -0.056700\n",
       "trap_T223                       0.248117\n",
       "trap_T224                       0.088458\n",
       "trap_T225                       0.233356\n",
       "trap_T226                      -0.043483\n",
       "trap_T227                       0.124392\n",
       "trap_T228                       0.327380\n",
       "trap_T229                      -0.087789\n",
       "trap_T230                       0.269118\n",
       "trap_T231                       0.234244\n",
       "trap_T232                      -0.241942\n",
       "trap_T233                       0.138443\n",
       "trap_T234                       0.000000\n",
       "trap_T235                       0.076517\n",
       "trap_T236                       0.030672\n",
       "trap_T237                      -0.089726\n",
       "trap_T238                      -0.091750\n",
       "trap_T900                       0.602101\n",
       "trap_T903                       0.194123\n",
       "codesum_BCFG BR                 0.000000\n",
       "codesum_BR                      0.251097\n",
       "codesum_BR HZ                   0.163564\n",
       "codesum_DZ                      0.000000\n",
       "codesum_DZ BR                  -0.180420\n",
       "codesum_FG BR HZ                0.000000\n",
       "codesum_HZ                     -0.233951\n",
       "codesum_RA                      0.113820\n",
       "codesum_RA BR                  -0.433876\n",
       "codesum_RA BR HZ               -0.112685\n",
       "codesum_RA DZ                   0.000000\n",
       "codesum_RA DZ BR                0.000000\n",
       "codesum_RA HZ                  -0.048325\n",
       "codesum_TS                     -0.076718\n",
       "codesum_TS BR                   0.082169\n",
       "codesum_TS RA                  -0.322273\n",
       "codesum_TS TSRA BR              0.000000\n",
       "codesum_TS TSRA BR HZ          -0.175495\n",
       "codesum_TS TSRA RA              0.167284\n",
       "codesum_TS TSRA RA BR           0.328699\n",
       "codesum_TS TSRA RA BR HZ VCTS  -0.260645\n",
       "codesum_TS TSRA RA FG BR HZ     0.097573\n",
       "codesum_TS TSRA RA VCTS        -0.298569\n",
       "codesum_TSRA                   -0.422758\n",
       "codesum_TSRA BR                 0.000000\n",
       "codesum_TSRA BR HZ VCTS        -0.567187\n",
       "codesum_TSRA FG+ BR HZ          0.000000\n",
       "codesum_TSRA RA                 0.169218\n",
       "codesum_TSRA RA BR              0.074263\n",
       "codesum_TSRA RA BR HZ           0.000000\n",
       "codesum_TSRA RA BR HZ VCTS      0.000000\n",
       "codesum_TSRA RA BR VCTS         0.000000\n",
       "codesum_TSRA RA VCTS            0.000000\n",
       "codesum_VCTS                    0.058250"
      ]
     },
     "execution_count": 86,
     "metadata": {},
     "output_type": "execute_result"
    }
   ],
   "source": [
    "lasso_coef"
   ]
  },
  {
   "cell_type": "code",
   "execution_count": 87,
   "id": "3753fd06",
   "metadata": {},
   "outputs": [
    {
     "data": {
      "text/html": [
       "<div>\n",
       "<style scoped>\n",
       "    .dataframe tbody tr th:only-of-type {\n",
       "        vertical-align: middle;\n",
       "    }\n",
       "\n",
       "    .dataframe tbody tr th {\n",
       "        vertical-align: top;\n",
       "    }\n",
       "\n",
       "    .dataframe thead th {\n",
       "        text-align: right;\n",
       "    }\n",
       "</style>\n",
       "<table border=\"1\" class=\"dataframe\">\n",
       "  <thead>\n",
       "    <tr style=\"text-align: right;\">\n",
       "      <th></th>\n",
       "      <th>coef</th>\n",
       "    </tr>\n",
       "  </thead>\n",
       "  <tbody>\n",
       "    <tr>\n",
       "      <th>BR</th>\n",
       "      <td>0.0</td>\n",
       "    </tr>\n",
       "    <tr>\n",
       "      <th>BCFG</th>\n",
       "      <td>0.0</td>\n",
       "    </tr>\n",
       "    <tr>\n",
       "      <th>FG</th>\n",
       "      <td>0.0</td>\n",
       "    </tr>\n",
       "    <tr>\n",
       "      <th>FG+</th>\n",
       "      <td>0.0</td>\n",
       "    </tr>\n",
       "    <tr>\n",
       "      <th>RA</th>\n",
       "      <td>0.0</td>\n",
       "    </tr>\n",
       "    <tr>\n",
       "      <th>trap_T002A</th>\n",
       "      <td>0.0</td>\n",
       "    </tr>\n",
       "    <tr>\n",
       "      <th>trap_T002B</th>\n",
       "      <td>0.0</td>\n",
       "    </tr>\n",
       "    <tr>\n",
       "      <th>trap_T040</th>\n",
       "      <td>0.0</td>\n",
       "    </tr>\n",
       "    <tr>\n",
       "      <th>trap_T065A</th>\n",
       "      <td>0.0</td>\n",
       "    </tr>\n",
       "    <tr>\n",
       "      <th>trap_T090A</th>\n",
       "      <td>0.0</td>\n",
       "    </tr>\n",
       "    <tr>\n",
       "      <th>trap_T090B</th>\n",
       "      <td>0.0</td>\n",
       "    </tr>\n",
       "    <tr>\n",
       "      <th>trap_T090C</th>\n",
       "      <td>0.0</td>\n",
       "    </tr>\n",
       "    <tr>\n",
       "      <th>trap_T128A</th>\n",
       "      <td>0.0</td>\n",
       "    </tr>\n",
       "    <tr>\n",
       "      <th>trap_T158</th>\n",
       "      <td>0.0</td>\n",
       "    </tr>\n",
       "    <tr>\n",
       "      <th>trap_T200A</th>\n",
       "      <td>0.0</td>\n",
       "    </tr>\n",
       "    <tr>\n",
       "      <th>trap_T200B</th>\n",
       "      <td>0.0</td>\n",
       "    </tr>\n",
       "    <tr>\n",
       "      <th>trap_T218A</th>\n",
       "      <td>0.0</td>\n",
       "    </tr>\n",
       "    <tr>\n",
       "      <th>trap_T218B</th>\n",
       "      <td>0.0</td>\n",
       "    </tr>\n",
       "    <tr>\n",
       "      <th>trap_T218C</th>\n",
       "      <td>0.0</td>\n",
       "    </tr>\n",
       "    <tr>\n",
       "      <th>trap_T234</th>\n",
       "      <td>0.0</td>\n",
       "    </tr>\n",
       "    <tr>\n",
       "      <th>codesum_BCFG BR</th>\n",
       "      <td>0.0</td>\n",
       "    </tr>\n",
       "    <tr>\n",
       "      <th>codesum_DZ</th>\n",
       "      <td>0.0</td>\n",
       "    </tr>\n",
       "    <tr>\n",
       "      <th>codesum_FG BR HZ</th>\n",
       "      <td>0.0</td>\n",
       "    </tr>\n",
       "    <tr>\n",
       "      <th>codesum_RA DZ</th>\n",
       "      <td>0.0</td>\n",
       "    </tr>\n",
       "    <tr>\n",
       "      <th>codesum_RA DZ BR</th>\n",
       "      <td>0.0</td>\n",
       "    </tr>\n",
       "    <tr>\n",
       "      <th>codesum_TS TSRA BR</th>\n",
       "      <td>0.0</td>\n",
       "    </tr>\n",
       "    <tr>\n",
       "      <th>codesum_TSRA BR</th>\n",
       "      <td>0.0</td>\n",
       "    </tr>\n",
       "    <tr>\n",
       "      <th>codesum_TSRA FG+ BR HZ</th>\n",
       "      <td>0.0</td>\n",
       "    </tr>\n",
       "    <tr>\n",
       "      <th>codesum_TSRA RA BR HZ</th>\n",
       "      <td>0.0</td>\n",
       "    </tr>\n",
       "    <tr>\n",
       "      <th>codesum_TSRA RA BR HZ VCTS</th>\n",
       "      <td>0.0</td>\n",
       "    </tr>\n",
       "    <tr>\n",
       "      <th>codesum_TSRA RA BR VCTS</th>\n",
       "      <td>0.0</td>\n",
       "    </tr>\n",
       "    <tr>\n",
       "      <th>codesum_TSRA RA VCTS</th>\n",
       "      <td>0.0</td>\n",
       "    </tr>\n",
       "  </tbody>\n",
       "</table>\n",
       "</div>"
      ],
      "text/plain": [
       "                            coef\n",
       "BR                           0.0\n",
       "BCFG                         0.0\n",
       "FG                           0.0\n",
       "FG+                          0.0\n",
       "RA                           0.0\n",
       "trap_T002A                   0.0\n",
       "trap_T002B                   0.0\n",
       "trap_T040                    0.0\n",
       "trap_T065A                   0.0\n",
       "trap_T090A                   0.0\n",
       "trap_T090B                   0.0\n",
       "trap_T090C                   0.0\n",
       "trap_T128A                   0.0\n",
       "trap_T158                    0.0\n",
       "trap_T200A                   0.0\n",
       "trap_T200B                   0.0\n",
       "trap_T218A                   0.0\n",
       "trap_T218B                   0.0\n",
       "trap_T218C                   0.0\n",
       "trap_T234                    0.0\n",
       "codesum_BCFG BR              0.0\n",
       "codesum_DZ                   0.0\n",
       "codesum_FG BR HZ             0.0\n",
       "codesum_RA DZ                0.0\n",
       "codesum_RA DZ BR             0.0\n",
       "codesum_TS TSRA BR           0.0\n",
       "codesum_TSRA BR              0.0\n",
       "codesum_TSRA FG+ BR HZ       0.0\n",
       "codesum_TSRA RA BR HZ        0.0\n",
       "codesum_TSRA RA BR HZ VCTS   0.0\n",
       "codesum_TSRA RA BR VCTS      0.0\n",
       "codesum_TSRA RA VCTS         0.0"
      ]
     },
     "execution_count": 87,
     "metadata": {},
     "output_type": "execute_result"
    }
   ],
   "source": [
    "lasso_0 = lasso_coef.loc[lasso_coef['coef'] == 0, :]\n",
    "lasso_0"
   ]
  },
  {
   "cell_type": "markdown",
   "id": "7fcb9453",
   "metadata": {},
   "source": [
    "With Elastic Net "
   ]
  },
  {
   "cell_type": "code",
   "execution_count": 88,
   "id": "a32d90fa",
   "metadata": {},
   "outputs": [
    {
     "ename": "ValueError",
     "evalue": "l1_ratio must be between 0 and 1; got (l1_ratio=None)",
     "output_type": "error",
     "traceback": [
      "\u001b[1;31m---------------------------------------------------------------------------\u001b[0m",
      "\u001b[1;31mValueError\u001b[0m                                Traceback (most recent call last)",
      "\u001b[1;32m~\\AppData\\Local\\Temp\\ipykernel_880\\2011087043.py\u001b[0m in \u001b[0;36m<module>\u001b[1;34m\u001b[0m\n\u001b[0;32m      2\u001b[0m \u001b[1;33m\u001b[0m\u001b[0m\n\u001b[0;32m      3\u001b[0m \u001b[1;31m# Fit model\u001b[0m\u001b[1;33m\u001b[0m\u001b[1;33m\u001b[0m\u001b[1;33m\u001b[0m\u001b[0m\n\u001b[1;32m----> 4\u001b[1;33m \u001b[0mlogreg\u001b[0m\u001b[1;33m.\u001b[0m\u001b[0mfit\u001b[0m\u001b[1;33m(\u001b[0m\u001b[0mXsm_train\u001b[0m\u001b[1;33m,\u001b[0m \u001b[0mysm_train\u001b[0m\u001b[1;33m)\u001b[0m\u001b[1;33m\u001b[0m\u001b[1;33m\u001b[0m\u001b[0m\n\u001b[0m\u001b[0;32m      5\u001b[0m \u001b[1;33m\u001b[0m\u001b[0m\n\u001b[0;32m      6\u001b[0m \u001b[0mprint\u001b[0m\u001b[1;33m(\u001b[0m\u001b[1;34mf'Logistic Regression Intercept: {logreg.intercept_}'\u001b[0m\u001b[1;33m)\u001b[0m\u001b[1;33m\u001b[0m\u001b[1;33m\u001b[0m\u001b[0m\n",
      "\u001b[1;32m~\\anaconda3\\envs\\dsi27tf\\lib\\site-packages\\sklearn\\linear_model\\_logistic.py\u001b[0m in \u001b[0;36mfit\u001b[1;34m(self, X, y, sample_weight)\u001b[0m\n\u001b[0;32m   1471\u001b[0m                 raise ValueError(\n\u001b[0;32m   1472\u001b[0m                     \u001b[1;34m\"l1_ratio must be between 0 and 1; got (l1_ratio=%r)\"\u001b[0m\u001b[1;33m\u001b[0m\u001b[1;33m\u001b[0m\u001b[0m\n\u001b[1;32m-> 1473\u001b[1;33m                     \u001b[1;33m%\u001b[0m \u001b[0mself\u001b[0m\u001b[1;33m.\u001b[0m\u001b[0ml1_ratio\u001b[0m\u001b[1;33m\u001b[0m\u001b[1;33m\u001b[0m\u001b[0m\n\u001b[0m\u001b[0;32m   1474\u001b[0m                 )\n\u001b[0;32m   1475\u001b[0m         \u001b[1;32melif\u001b[0m \u001b[0mself\u001b[0m\u001b[1;33m.\u001b[0m\u001b[0ml1_ratio\u001b[0m \u001b[1;32mis\u001b[0m \u001b[1;32mnot\u001b[0m \u001b[1;32mNone\u001b[0m\u001b[1;33m:\u001b[0m\u001b[1;33m\u001b[0m\u001b[1;33m\u001b[0m\u001b[0m\n",
      "\u001b[1;31mValueError\u001b[0m: l1_ratio must be between 0 and 1; got (l1_ratio=None)"
     ]
    }
   ],
   "source": [
    "logreg = LogisticRegression(max_iter=10_000, penalty = 'elasticnet', solver = 'saga')\n",
    "\n",
    "# Fit model\n",
    "logreg.fit(Xsm_train, ysm_train)\n",
    "\n",
    "print(f'Logistic Regression Intercept: {logreg.intercept_}')"
   ]
  },
  {
   "cell_type": "code",
   "execution_count": null,
   "id": "1a2f804d",
   "metadata": {},
   "outputs": [],
   "source": []
  },
  {
   "cell_type": "code",
   "execution_count": null,
   "id": "daa47a6b",
   "metadata": {},
   "outputs": [],
   "source": []
  },
  {
   "cell_type": "code",
   "execution_count": null,
   "id": "1d4440ae",
   "metadata": {},
   "outputs": [],
   "source": []
  },
  {
   "cell_type": "markdown",
   "id": "2e1efe1d",
   "metadata": {},
   "source": [
    "### Random Forest"
   ]
  },
  {
   "cell_type": "code",
   "execution_count": 100,
   "id": "f8eeb923",
   "metadata": {},
   "outputs": [],
   "source": [
    "rf = RandomForestClassifier(n_estimators=100)"
   ]
  },
  {
   "cell_type": "code",
   "execution_count": 101,
   "id": "69f5b967",
   "metadata": {},
   "outputs": [],
   "source": [
    "rf_params = {\n",
    "    'n_estimators': [100, 150, 200],\n",
    "    'max_depth': [3, 5, 7],\n",
    "    'max_features': ['sqrt', 'log2', 0.5,0.7],\n",
    "    'min_samples_split': [5, 10, 15],\n",
    "    'min_samples_leaf': [3, 4, 5],\n",
    "    'ccp_alpha': [0, 0.01, 0.1, 1],\n",
    "}"
   ]
  },
  {
   "cell_type": "code",
   "execution_count": 102,
   "id": "c29d4792",
   "metadata": {},
   "outputs": [],
   "source": [
    "gs_rf_0 = GridSearchCV(rf, param_grid=rf_params, cv=5, n_jobs = -1)"
   ]
  },
  {
   "cell_type": "code",
   "execution_count": 103,
   "id": "11eb598d",
   "metadata": {},
   "outputs": [
    {
     "data": {
      "text/plain": [
       "GridSearchCV(cv=5, estimator=RandomForestClassifier(), n_jobs=-1,\n",
       "             param_grid={'ccp_alpha': [0], 'max_depth': [7],\n",
       "                         'max_features': [0.5], 'min_samples_leaf': [3],\n",
       "                         'min_samples_split': [10], 'n_estimators': [150]})"
      ]
     },
     "execution_count": 103,
     "metadata": {},
     "output_type": "execute_result"
    }
   ],
   "source": [
    "gs_rf_0.fit(Xsm_train, ysm_train)\n"
   ]
  },
  {
   "cell_type": "code",
   "execution_count": 104,
   "id": "1e324920",
   "metadata": {},
   "outputs": [
    {
     "name": "stdout",
     "output_type": "stream",
     "text": [
      "0.915802888700085\n"
     ]
    },
    {
     "data": {
      "text/plain": [
       "{'ccp_alpha': 0,\n",
       " 'max_depth': 7,\n",
       " 'max_features': 0.5,\n",
       " 'min_samples_leaf': 3,\n",
       " 'min_samples_split': 10,\n",
       " 'n_estimators': 150}"
      ]
     },
     "execution_count": 104,
     "metadata": {},
     "output_type": "execute_result"
    }
   ],
   "source": [
    "print(gs_rf_0.best_score_)\n",
    "gs_rf_0.best_params_"
   ]
  },
  {
   "cell_type": "code",
   "execution_count": 105,
   "id": "dc55e007",
   "metadata": {},
   "outputs": [
    {
     "data": {
      "text/plain": [
       "DecisionTreeClassifier(ccp_alpha=0, max_depth=7, max_features=0.5,\n",
       "                       min_samples_leaf=3, min_samples_split=10,\n",
       "                       random_state=1105681803)"
      ]
     },
     "execution_count": 105,
     "metadata": {},
     "output_type": "execute_result"
    }
   ],
   "source": [
    "gs_rf_0.best_estimator_[0]"
   ]
  },
  {
   "cell_type": "code",
   "execution_count": null,
   "id": "e3949b4a",
   "metadata": {},
   "outputs": [],
   "source": []
  },
  {
   "cell_type": "code",
   "execution_count": 108,
   "id": "c76f9da1",
   "metadata": {},
   "outputs": [
    {
     "ename": "AttributeError",
     "evalue": "'DecisionTreeClassifier' object has no attribute 'feature_names_in_'",
     "output_type": "error",
     "traceback": [
      "\u001b[1;31m---------------------------------------------------------------------------\u001b[0m",
      "\u001b[1;31mAttributeError\u001b[0m                            Traceback (most recent call last)",
      "\u001b[1;32m~\\AppData\\Local\\Temp\\ipykernel_880\\4103323350.py\u001b[0m in \u001b[0;36m<module>\u001b[1;34m\u001b[0m\n\u001b[1;32m----> 1\u001b[1;33m \u001b[0mfeature_names\u001b[0m \u001b[1;33m=\u001b[0m \u001b[0mgs_rf_0\u001b[0m\u001b[1;33m.\u001b[0m\u001b[0mbest_estimator_\u001b[0m\u001b[1;33m[\u001b[0m\u001b[1;36m0\u001b[0m\u001b[1;33m]\u001b[0m\u001b[1;33m.\u001b[0m\u001b[0mfeature_names_in_\u001b[0m\u001b[1;33m\u001b[0m\u001b[1;33m\u001b[0m\u001b[0m\n\u001b[0m",
      "\u001b[1;31mAttributeError\u001b[0m: 'DecisionTreeClassifier' object has no attribute 'feature_names_in_'"
     ]
    }
   ],
   "source": [
    "feature_names = gs_rf_0.best_estimator_[0].feature_names_in_"
   ]
  },
  {
   "cell_type": "code",
   "execution_count": 109,
   "id": "fab2fbe2",
   "metadata": {},
   "outputs": [],
   "source": [
    "importances = gs_rf_0.best_estimator_[1].feature_importances_"
   ]
  },
  {
   "cell_type": "code",
   "execution_count": 110,
   "id": "d30ddfdb",
   "metadata": {},
   "outputs": [],
   "source": [
    "rf_params2 = {\n",
    "    'n_estimators': [150],\n",
    "    'max_depth': [7, 9,'none'],\n",
    "    'max_features': [0.4,0.5, 0.6],\n",
    "    'min_samples_split': [10],\n",
    "    'min_samples_leaf': [1,2,3],\n",
    "    'ccp_alpha': [0],\n",
    "}"
   ]
  },
  {
   "cell_type": "code",
   "execution_count": 111,
   "id": "5f224e81",
   "metadata": {},
   "outputs": [],
   "source": [
    "gs_rf_1 = GridSearchCV(rf, param_grid=rf_params2, cv=5, n_jobs = -1)"
   ]
  },
  {
   "cell_type": "code",
   "execution_count": 112,
   "id": "47d787ca",
   "metadata": {},
   "outputs": [
    {
     "name": "stderr",
     "output_type": "stream",
     "text": [
      "C:\\Users\\deang\\anaconda3\\envs\\dsi27tf\\lib\\site-packages\\sklearn\\model_selection\\_validation.py:372: FitFailedWarning: \n",
      "45 fits failed out of a total of 135.\n",
      "The score on these train-test partitions for these parameters will be set to nan.\n",
      "If these failures are not expected, you can try to debug them by setting error_score='raise'.\n",
      "\n",
      "Below are more details about the failures:\n",
      "--------------------------------------------------------------------------------\n",
      "45 fits failed with the following error:\n",
      "Traceback (most recent call last):\n",
      "  File \"C:\\Users\\deang\\anaconda3\\envs\\dsi27tf\\lib\\site-packages\\sklearn\\model_selection\\_validation.py\", line 680, in _fit_and_score\n",
      "    estimator.fit(X_train, y_train, **fit_params)\n",
      "  File \"C:\\Users\\deang\\anaconda3\\envs\\dsi27tf\\lib\\site-packages\\sklearn\\ensemble\\_forest.py\", line 467, in fit\n",
      "    for i, t in enumerate(trees)\n",
      "  File \"C:\\Users\\deang\\anaconda3\\envs\\dsi27tf\\lib\\site-packages\\joblib\\parallel.py\", line 1043, in __call__\n",
      "    if self.dispatch_one_batch(iterator):\n",
      "  File \"C:\\Users\\deang\\anaconda3\\envs\\dsi27tf\\lib\\site-packages\\joblib\\parallel.py\", line 861, in dispatch_one_batch\n",
      "    self._dispatch(tasks)\n",
      "  File \"C:\\Users\\deang\\anaconda3\\envs\\dsi27tf\\lib\\site-packages\\joblib\\parallel.py\", line 779, in _dispatch\n",
      "    job = self._backend.apply_async(batch, callback=cb)\n",
      "  File \"C:\\Users\\deang\\anaconda3\\envs\\dsi27tf\\lib\\site-packages\\joblib\\_parallel_backends.py\", line 208, in apply_async\n",
      "    result = ImmediateResult(func)\n",
      "  File \"C:\\Users\\deang\\anaconda3\\envs\\dsi27tf\\lib\\site-packages\\joblib\\_parallel_backends.py\", line 572, in __init__\n",
      "    self.results = batch()\n",
      "  File \"C:\\Users\\deang\\anaconda3\\envs\\dsi27tf\\lib\\site-packages\\joblib\\parallel.py\", line 263, in __call__\n",
      "    for func, args, kwargs in self.items]\n",
      "  File \"C:\\Users\\deang\\anaconda3\\envs\\dsi27tf\\lib\\site-packages\\joblib\\parallel.py\", line 263, in <listcomp>\n",
      "    for func, args, kwargs in self.items]\n",
      "  File \"C:\\Users\\deang\\anaconda3\\envs\\dsi27tf\\lib\\site-packages\\sklearn\\utils\\fixes.py\", line 216, in __call__\n",
      "    return self.function(*args, **kwargs)\n",
      "  File \"C:\\Users\\deang\\anaconda3\\envs\\dsi27tf\\lib\\site-packages\\sklearn\\ensemble\\_forest.py\", line 185, in _parallel_build_trees\n",
      "    tree.fit(X, y, sample_weight=curr_sample_weight, check_input=False)\n",
      "  File \"C:\\Users\\deang\\anaconda3\\envs\\dsi27tf\\lib\\site-packages\\sklearn\\tree\\_classes.py\", line 942, in fit\n",
      "    X_idx_sorted=X_idx_sorted,\n",
      "  File \"C:\\Users\\deang\\anaconda3\\envs\\dsi27tf\\lib\\site-packages\\sklearn\\tree\\_classes.py\", line 305, in fit\n",
      "    if max_depth <= 0:\n",
      "TypeError: '<=' not supported between instances of 'str' and 'int'\n",
      "\n",
      "  warnings.warn(some_fits_failed_message, FitFailedWarning)\n",
      "C:\\Users\\deang\\anaconda3\\envs\\dsi27tf\\lib\\site-packages\\sklearn\\model_selection\\_search.py:972: UserWarning: One or more of the test scores are non-finite: [0.92005098 0.92251487 0.91826678 0.91860663 0.92107052 0.91928632\n",
      " 0.91529312 0.91580289 0.91682243 0.9386576  0.93882753 0.93950722\n",
      " 0.93993203 0.93840272 0.93882753 0.93959218 0.93950722 0.93704333\n",
      "        nan        nan        nan        nan        nan        nan\n",
      "        nan        nan        nan]\n",
      "  category=UserWarning,\n"
     ]
    },
    {
     "data": {
      "text/plain": [
       "GridSearchCV(cv=5, estimator=RandomForestClassifier(), n_jobs=-1,\n",
       "             param_grid={'ccp_alpha': [0], 'max_depth': [7, 9, 'none'],\n",
       "                         'max_features': [0.4, 0.5, 0.6],\n",
       "                         'min_samples_leaf': [1, 2, 3],\n",
       "                         'min_samples_split': [10], 'n_estimators': [150]})"
      ]
     },
     "execution_count": 112,
     "metadata": {},
     "output_type": "execute_result"
    }
   ],
   "source": [
    "gs_rf_1.fit(Xsm_train, ysm_train)"
   ]
  },
  {
   "cell_type": "code",
   "execution_count": 113,
   "id": "18bcf709",
   "metadata": {},
   "outputs": [
    {
     "name": "stdout",
     "output_type": "stream",
     "text": [
      "0.9399320305862362\n"
     ]
    },
    {
     "data": {
      "text/plain": [
       "{'ccp_alpha': 0,\n",
       " 'max_depth': 9,\n",
       " 'max_features': 0.5,\n",
       " 'min_samples_leaf': 1,\n",
       " 'min_samples_split': 10,\n",
       " 'n_estimators': 150}"
      ]
     },
     "execution_count": 113,
     "metadata": {},
     "output_type": "execute_result"
    }
   ],
   "source": [
    "print(gs_rf_1.best_score_)\n",
    "gs_rf_1.best_params_"
   ]
  },
  {
   "cell_type": "code",
   "execution_count": 169,
   "id": "ef9281ac",
   "metadata": {},
   "outputs": [
    {
     "name": "stderr",
     "output_type": "stream",
     "text": [
      "C:\\Users\\deang\\anaconda3\\envs\\dsi27tf\\lib\\site-packages\\sklearn\\utils\\deprecation.py:87: FutureWarning: Function plot_confusion_matrix is deprecated; Function `plot_confusion_matrix` is deprecated in 1.0 and will be removed in 1.2. Use one of the class methods: ConfusionMatrixDisplay.from_predictions or ConfusionMatrixDisplay.from_estimator.\n",
      "  warnings.warn(msg, category=FutureWarning)\n"
     ]
    },
    {
     "data": {
      "image/png": "[encoded data removed]",
      "text/plain": [
       "<Figure size 432x288 with 2 Axes>"
      ]
     },
     "metadata": {
      "needs_background": "light"
     },
     "output_type": "display_data"
    }
   ],
   "source": [
    "model_metrics(gs_rf_1, Xsm_train, ysm_train, Xs_holdout, y_holdout, 'Random Forest')"
   ]
  },
  {
   "cell_type": "markdown",
   "id": "6eda4dcc",
   "metadata": {},
   "source": [
    "### Extra Trees"
   ]
  },
  {
   "cell_type": "code",
   "execution_count": 114,
   "id": "1c5d3688",
   "metadata": {},
   "outputs": [],
   "source": [
    "et = ExtraTreesClassifier(random_state=42)\n",
    "et_params = {'n_estimators': [20, 25, 30, 35],\n",
    "             'max_depth': [20, 30, 40, 50],\n",
    "             'min_samples_leaf': [2, 3, 4],\n",
    "            }"
   ]
  },
  {
   "cell_type": "code",
   "execution_count": 115,
   "id": "c944ba7a",
   "metadata": {},
   "outputs": [],
   "source": [
    "et_gs = GridSearchCV(et, \n",
    "                  param_grid=et_params, \n",
    "                  cv=5\n",
    "                 )"
   ]
  },
  {
   "cell_type": "code",
   "execution_count": 116,
   "id": "44d44316",
   "metadata": {},
   "outputs": [
    {
     "data": {
      "text/plain": [
       "0.9128131021194605"
      ]
     },
     "execution_count": 116,
     "metadata": {},
     "output_type": "execute_result"
    }
   ],
   "source": [
    "et_gs.fit(Xsm_train, ysm_train);\n",
    "et_gs.score(Xs_holdout, y_holdout)"
   ]
  },
  {
   "cell_type": "code",
   "execution_count": 117,
   "id": "505f54c1",
   "metadata": {},
   "outputs": [
    {
     "data": {
      "text/plain": [
       "ExtraTreesClassifier(max_depth=50, min_samples_leaf=2, n_estimators=35,\n",
       "                     random_state=42)"
      ]
     },
     "execution_count": 117,
     "metadata": {},
     "output_type": "execute_result"
    }
   ],
   "source": [
    "et_gs.best_estimator_"
   ]
  },
  {
   "cell_type": "code",
   "execution_count": 118,
   "id": "cb36d9e0",
   "metadata": {},
   "outputs": [
    {
     "data": {
      "text/plain": [
       "{'max_depth': 50, 'min_samples_leaf': 2, 'n_estimators': 35}"
      ]
     },
     "execution_count": 118,
     "metadata": {},
     "output_type": "execute_result"
    }
   ],
   "source": [
    "et_gs.best_params_"
   ]
  },
  {
   "cell_type": "code",
   "execution_count": 119,
   "id": "994cad7c",
   "metadata": {},
   "outputs": [
    {
     "name": "stderr",
     "output_type": "stream",
     "text": [
      "C:\\Users\\deang\\anaconda3\\envs\\dsi27tf\\lib\\site-packages\\sklearn\\utils\\deprecation.py:87: FutureWarning: Function plot_confusion_matrix is deprecated; Function `plot_confusion_matrix` is deprecated in 1.0 and will be removed in 1.2. Use one of the class methods: ConfusionMatrixDisplay.from_predictions or ConfusionMatrixDisplay.from_estimator.\n",
      "  warnings.warn(msg, category=FutureWarning)\n"
     ]
    },
    {
     "data": {
      "image/png": "[encoded data removed]",
      "text/plain": [
       "<Figure size 432x288 with 2 Axes>"
      ]
     },
     "metadata": {
      "needs_background": "light"
     },
     "output_type": "display_data"
    }
   ],
   "source": [
    "model_metrics(et_gs, Xsm_train, ysm_train, Xs_holdout, y_holdout, 'ExtraTrees')"
   ]
  },
  {
   "cell_type": "markdown",
   "id": "922fc869",
   "metadata": {},
   "source": [
    "### SVM"
   ]
  },
  {
   "cell_type": "code",
   "execution_count": 120,
   "id": "938c8c5d",
   "metadata": {},
   "outputs": [],
   "source": [
    "# C values to GridSearch over\n",
    "svc_params = {\n",
    "        'C': [10, 20, 30],\n",
    "        'gamma':[0.01, 0.1], \n",
    "        'kernel' : ['rbf', 'sigmoid'],\n",
    "        'probability': [True]\n",
    "        }"
   ]
  },
  {
   "cell_type": "code",
   "execution_count": 121,
   "id": "e3ab1414",
   "metadata": {},
   "outputs": [
    {
     "name": "stdout",
     "output_type": "stream",
     "text": [
      "[LibSVM][LibSVM][LibSVM][LibSVM][LibSVM][LibSVM][LibSVM][LibSVM][LibSVM][LibSVM][LibSVM][LibSVM][LibSVM][LibSVM][LibSVM][LibSVM][LibSVM][LibSVM][LibSVM][LibSVM][LibSVM][LibSVM][LibSVM][LibSVM][LibSVM][LibSVM][LibSVM][LibSVM][LibSVM][LibSVM][LibSVM][LibSVM][LibSVM][LibSVM][LibSVM][LibSVM][LibSVM][LibSVM][LibSVM][LibSVM][LibSVM][LibSVM][LibSVM][LibSVM][LibSVM][LibSVM][LibSVM][LibSVM][LibSVM][LibSVM][LibSVM][LibSVM][LibSVM][LibSVM][LibSVM][LibSVM][LibSVM][LibSVM][LibSVM][LibSVM][LibSVM]"
     ]
    },
    {
     "data": {
      "text/plain": [
       "0.8998073217726397"
      ]
     },
     "execution_count": 121,
     "metadata": {},
     "output_type": "execute_result"
    }
   ],
   "source": [
    "# Instantiate and fit a gridsearch model\n",
    "svc = SVC(max_iter=20000,\n",
    "         verbose= 1)\n",
    "\n",
    "cv = StratifiedKFold(n_splits=5, shuffle=True, random_state=42)\n",
    "\n",
    "scv_gs = GridSearchCV(svc, svc_params, cv=cv)\n",
    "scv_gs.fit(Xsm_train, ysm_train);\n",
    "scv_gs.score(Xs_holdout, y_holdout)\n"
   ]
  },
  {
   "cell_type": "code",
   "execution_count": 122,
   "id": "3343f55c",
   "metadata": {},
   "outputs": [
    {
     "data": {
      "text/plain": [
       "SVC(C=30, gamma=0.01, max_iter=20000, probability=True, verbose=1)"
      ]
     },
     "execution_count": 122,
     "metadata": {},
     "output_type": "execute_result"
    }
   ],
   "source": [
    "scv_gs.best_estimator_"
   ]
  },
  {
   "cell_type": "code",
   "execution_count": 123,
   "id": "f80da36f",
   "metadata": {},
   "outputs": [
    {
     "data": {
      "text/plain": [
       "{'C': 30, 'gamma': 0.01, 'kernel': 'rbf', 'probability': True}"
      ]
     },
     "execution_count": 123,
     "metadata": {},
     "output_type": "execute_result"
    }
   ],
   "source": [
    "scv_gs.best_params_"
   ]
  },
  {
   "cell_type": "code",
   "execution_count": 124,
   "id": "367222db",
   "metadata": {},
   "outputs": [
    {
     "name": "stderr",
     "output_type": "stream",
     "text": [
      "C:\\Users\\deang\\anaconda3\\envs\\dsi27tf\\lib\\site-packages\\sklearn\\utils\\deprecation.py:87: FutureWarning: Function plot_confusion_matrix is deprecated; Function `plot_confusion_matrix` is deprecated in 1.0 and will be removed in 1.2. Use one of the class methods: ConfusionMatrixDisplay.from_predictions or ConfusionMatrixDisplay.from_estimator.\n",
      "  warnings.warn(msg, category=FutureWarning)\n"
     ]
    },
    {
     "data": {
      "image/png": "[encoded data removed]",
      "text/plain": [
       "<Figure size 432x288 with 2 Axes>"
      ]
     },
     "metadata": {
      "needs_background": "light"
     },
     "output_type": "display_data"
    }
   ],
   "source": [
    "model_metrics(scv_gs, Xsm_train, ysm_train, Xs_holdout, y_holdout, 'SVM')"
   ]
  },
  {
   "cell_type": "markdown",
   "id": "0c20b0a4",
   "metadata": {},
   "source": [
    "### AdaBoostClassifier"
   ]
  },
  {
   "cell_type": "code",
   "execution_count": 125,
   "id": "b46b4c1e",
   "metadata": {},
   "outputs": [
    {
     "data": {
      "text/plain": [
       "0.9113680154142582"
      ]
     },
     "execution_count": 125,
     "metadata": {},
     "output_type": "execute_result"
    }
   ],
   "source": [
    "ada = AdaBoostClassifier(\n",
    "    n_estimators = 100,\n",
    "    learning_rate = 0.9\n",
    "    # in general, if n_estimators is high, then learning_rate should be low\n",
    "    # but we can use GridSearchCV\n",
    ")\n",
    "ada.fit(Xsm_train, ysm_train)\n",
    "ada.score(Xs_holdout, y_holdout)"
   ]
  },
  {
   "cell_type": "code",
   "execution_count": 126,
   "id": "efaf83be",
   "metadata": {},
   "outputs": [
    {
     "data": {
      "text/plain": [
       "0.9229287090558767"
      ]
     },
     "execution_count": 126,
     "metadata": {},
     "output_type": "execute_result"
    }
   ],
   "source": [
    "ada = AdaBoostClassifier(base_estimator=DecisionTreeClassifier())\n",
    "ada_params = {\n",
    "    'n_estimators': [50, 100, 150],\n",
    "    'base_estimator__max_depth': [1,2],\n",
    "    'learning_rate': [.8, .9, 1.]\n",
    "    # you can also tune by all hyperparameters of DecisionTree\n",
    "}\n",
    "ada_gs = GridSearchCV(\n",
    "    ada, \n",
    "    param_grid=ada_params, \n",
    "    cv=5\n",
    ")\n",
    "ada_gs.fit(Xsm_train, ysm_train)\n",
    "ada_gs.score(Xs_holdout, y_holdout)"
   ]
  },
  {
   "cell_type": "code",
   "execution_count": 127,
   "id": "9ff7b615",
   "metadata": {},
   "outputs": [],
   "source": [
    "tn, fp, fn, tp = confusion_matrix(y_holdout, ada_gs.predict(Xs_holdout)).ravel()"
   ]
  },
  {
   "cell_type": "code",
   "execution_count": 128,
   "id": "10c948a6",
   "metadata": {},
   "outputs": [
    {
     "data": {
      "text/plain": [
       "0.14912280701754385"
      ]
     },
     "execution_count": 128,
     "metadata": {},
     "output_type": "execute_result"
    }
   ],
   "source": [
    "sensitivity = tp / (tp + fn)\n",
    "sensitivity"
   ]
  },
  {
   "cell_type": "code",
   "execution_count": 129,
   "id": "94fee458",
   "metadata": {},
   "outputs": [
    {
     "data": {
      "text/plain": [
       "0.2125"
      ]
     },
     "execution_count": 129,
     "metadata": {},
     "output_type": "execute_result"
    }
   ],
   "source": [
    "precision = tp / (tp + fp)\n",
    "precision"
   ]
  },
  {
   "cell_type": "code",
   "execution_count": 130,
   "id": "031c15ec",
   "metadata": {},
   "outputs": [
    {
     "name": "stderr",
     "output_type": "stream",
     "text": [
      "C:\\Users\\deang\\anaconda3\\envs\\dsi27tf\\lib\\site-packages\\sklearn\\utils\\deprecation.py:87: FutureWarning: Function plot_confusion_matrix is deprecated; Function `plot_confusion_matrix` is deprecated in 1.0 and will be removed in 1.2. Use one of the class methods: ConfusionMatrixDisplay.from_predictions or ConfusionMatrixDisplay.from_estimator.\n",
      "  warnings.warn(msg, category=FutureWarning)\n"
     ]
    },
    {
     "data": {
      "image/png": "[encoded data removed]",
      "text/plain": [
       "<Figure size 432x288 with 2 Axes>"
      ]
     },
     "metadata": {
      "needs_background": "light"
     },
     "output_type": "display_data"
    }
   ],
   "source": [
    "model_metrics(ada_gs, Xsm_train, ysm_train, Xs_holdout, y_holdout, 'ADA Boost Classifier')"
   ]
  },
  {
   "cell_type": "code",
   "execution_count": 131,
   "id": "1581f852",
   "metadata": {},
   "outputs": [
    {
     "data": {
      "text/html": [
       "<div>\n",
       "<style scoped>\n",
       "    .dataframe tbody tr th:only-of-type {\n",
       "        vertical-align: middle;\n",
       "    }\n",
       "\n",
       "    .dataframe tbody tr th {\n",
       "        vertical-align: top;\n",
       "    }\n",
       "\n",
       "    .dataframe thead th {\n",
       "        text-align: right;\n",
       "    }\n",
       "</style>\n",
       "<table border=\"1\" class=\"dataframe\">\n",
       "  <thead>\n",
       "    <tr style=\"text-align: right;\">\n",
       "      <th></th>\n",
       "      <th>model</th>\n",
       "      <th>best_score</th>\n",
       "      <th>train_score</th>\n",
       "      <th>holdout_score</th>\n",
       "      <th>sensitivity</th>\n",
       "      <th>specificity</th>\n",
       "      <th>precision</th>\n",
       "      <th>f1_score</th>\n",
       "      <th>best_params</th>\n",
       "    </tr>\n",
       "  </thead>\n",
       "  <tbody>\n",
       "    <tr>\n",
       "      <th>0</th>\n",
       "      <td>ExtraTrees</td>\n",
       "      <td>0.956</td>\n",
       "      <td>0.997</td>\n",
       "      <td>0.834</td>\n",
       "      <td>0.368</td>\n",
       "      <td>0.944</td>\n",
       "      <td>0.278</td>\n",
       "      <td>0.317</td>\n",
       "      <td>{'max_depth': 50, 'min_samples_leaf': 2, 'n_es...</td>\n",
       "    </tr>\n",
       "    <tr>\n",
       "      <th>1</th>\n",
       "      <td>SVM</td>\n",
       "      <td>0.961</td>\n",
       "      <td>0.998</td>\n",
       "      <td>0.704</td>\n",
       "      <td>0.254</td>\n",
       "      <td>0.937</td>\n",
       "      <td>0.191</td>\n",
       "      <td>0.218</td>\n",
       "      <td>{'C': 30, 'gamma': 0.01, 'kernel': 'rbf', 'pro...</td>\n",
       "    </tr>\n",
       "    <tr>\n",
       "      <th>2</th>\n",
       "      <td>ADA Boost Classifier</td>\n",
       "      <td>0.954</td>\n",
       "      <td>0.997</td>\n",
       "      <td>0.735</td>\n",
       "      <td>0.149</td>\n",
       "      <td>0.968</td>\n",
       "      <td>0.212</td>\n",
       "      <td>0.175</td>\n",
       "      <td>{'base_estimator__max_depth': 2, 'learning_rat...</td>\n",
       "    </tr>\n",
       "  </tbody>\n",
       "</table>\n",
       "</div>"
      ],
      "text/plain": [
       "                  model  best_score  train_score  holdout_score  sensitivity  \\\n",
       "0            ExtraTrees       0.956        0.997          0.834        0.368   \n",
       "1                   SVM       0.961        0.998          0.704        0.254   \n",
       "2  ADA Boost Classifier       0.954        0.997          0.735        0.149   \n",
       "\n",
       "   specificity  precision  f1_score  \\\n",
       "0        0.944      0.278     0.317   \n",
       "1        0.937      0.191     0.218   \n",
       "2        0.968      0.212     0.175   \n",
       "\n",
       "                                         best_params  \n",
       "0  {'max_depth': 50, 'min_samples_leaf': 2, 'n_es...  \n",
       "1  {'C': 30, 'gamma': 0.01, 'kernel': 'rbf', 'pro...  \n",
       "2  {'base_estimator__max_depth': 2, 'learning_rat...  "
      ]
     },
     "execution_count": 131,
     "metadata": {},
     "output_type": "execute_result"
    }
   ],
   "source": [
    "summary_df"
   ]
  },
  {
   "cell_type": "code",
   "execution_count": 132,
   "id": "e30410c9",
   "metadata": {},
   "outputs": [
    {
     "name": "stdout",
     "output_type": "stream",
     "text": [
      "0.9538657604078166\n"
     ]
    },
    {
     "data": {
      "text/plain": [
       "{'base_estimator__max_depth': 2, 'learning_rate': 0.8, 'n_estimators': 150}"
      ]
     },
     "execution_count": 132,
     "metadata": {},
     "output_type": "execute_result"
    }
   ],
   "source": [
    "print(ada_gs.best_score_)\n",
    "ada_gs.best_params_"
   ]
  },
  {
   "cell_type": "code",
   "execution_count": 133,
   "id": "90a96584",
   "metadata": {},
   "outputs": [
    {
     "data": {
      "text/plain": [
       "<AxesSubplot:>"
      ]
     },
     "execution_count": 133,
     "metadata": {},
     "output_type": "execute_result"
    },
    {
     "data": {
      "image/png": "[encoded data removed]",
      "text/plain": [
       "<Figure size 432x288 with 1 Axes>"
      ]
     },
     "metadata": {
      "needs_background": "light"
     },
     "output_type": "display_data"
    }
   ],
   "source": [
    "pd.Series(ada_gs.best_estimator_.feature_importances_).plot.bar()"
   ]
  },
  {
   "cell_type": "markdown",
   "id": "ee9779eb",
   "metadata": {},
   "source": [
    "### Gradient Boosting Classifier"
   ]
  },
  {
   "cell_type": "code",
   "execution_count": 134,
   "id": "cdd856eb",
   "metadata": {},
   "outputs": [
    {
     "data": {
      "text/plain": [
       "0.9368978805394991"
      ]
     },
     "execution_count": 134,
     "metadata": {},
     "output_type": "execute_result"
    }
   ],
   "source": [
    "gboost = GradientBoostingClassifier()\n",
    "gboost_params = {\n",
    "    'max_depth': [2, 3, 4],\n",
    "    'n_estimators': [100, 125, 150],\n",
    "    'learning_rate': [.08, .1, .12]\n",
    "}\n",
    "gb_gs = GridSearchCV(\n",
    "    gboost, \n",
    "    param_grid=gboost_params, \n",
    "    cv=3\n",
    ")\n",
    "gb_gs.fit(Xsm_train, ysm_train)\n",
    "gb_gs.score(Xs_holdout, y_holdout)"
   ]
  },
  {
   "cell_type": "code",
   "execution_count": 135,
   "id": "80a3a5cc",
   "metadata": {},
   "outputs": [
    {
     "name": "stdout",
     "output_type": "stream",
     "text": [
      "0.955909129610098\n"
     ]
    },
    {
     "data": {
      "text/plain": [
       "{'learning_rate': 0.12, 'max_depth': 4, 'n_estimators': 150}"
      ]
     },
     "execution_count": 135,
     "metadata": {},
     "output_type": "execute_result"
    }
   ],
   "source": [
    "print(gb_gs.best_score_)\n",
    "gb_gs.best_params_"
   ]
  },
  {
   "cell_type": "code",
   "execution_count": 136,
   "id": "c124392b",
   "metadata": {},
   "outputs": [],
   "source": [
    "#0.955\t0.996\t0.853\t"
   ]
  },
  {
   "cell_type": "code",
   "execution_count": 137,
   "id": "be8c7f21",
   "metadata": {},
   "outputs": [],
   "source": [
    "tn, fp, fn, tp = confusion_matrix(y_holdout, gb_gs.predict(Xs_holdout)).ravel()"
   ]
  },
  {
   "cell_type": "code",
   "execution_count": 138,
   "id": "3d1c640a",
   "metadata": {},
   "outputs": [
    {
     "data": {
      "text/plain": [
       "0.14912280701754385"
      ]
     },
     "execution_count": 138,
     "metadata": {},
     "output_type": "execute_result"
    }
   ],
   "source": [
    "sensitivity = tp / (tp + fn)\n",
    "sensitivity"
   ]
  },
  {
   "cell_type": "code",
   "execution_count": 139,
   "id": "9e2ede87",
   "metadata": {},
   "outputs": [
    {
     "data": {
      "text/plain": [
       "0.9826707441386341"
      ]
     },
     "execution_count": 139,
     "metadata": {},
     "output_type": "execute_result"
    }
   ],
   "source": [
    "specificity = tn / (tn + fp)\n",
    "specificity"
   ]
  },
  {
   "cell_type": "code",
   "execution_count": 140,
   "id": "324050d2",
   "metadata": {},
   "outputs": [
    {
     "data": {
      "text/plain": [
       "0.3333333333333333"
      ]
     },
     "execution_count": 140,
     "metadata": {},
     "output_type": "execute_result"
    }
   ],
   "source": [
    "precision = tp / (tp + fp)\n",
    "precision"
   ]
  },
  {
   "cell_type": "code",
   "execution_count": 141,
   "id": "bd98a1a8",
   "metadata": {},
   "outputs": [
    {
     "data": {
      "text/plain": [
       "array([[1928,   34],\n",
       "       [  97,   17]], dtype=int64)"
      ]
     },
     "execution_count": 141,
     "metadata": {},
     "output_type": "execute_result"
    }
   ],
   "source": [
    "confusion_matrix(y_holdout, gb_gs.predict(Xs_holdout))"
   ]
  },
  {
   "cell_type": "code",
   "execution_count": 142,
   "id": "e2cfe9b5",
   "metadata": {},
   "outputs": [
    {
     "name": "stderr",
     "output_type": "stream",
     "text": [
      "C:\\Users\\deang\\anaconda3\\envs\\dsi27tf\\lib\\site-packages\\sklearn\\utils\\deprecation.py:87: FutureWarning: Function plot_confusion_matrix is deprecated; Function `plot_confusion_matrix` is deprecated in 1.0 and will be removed in 1.2. Use one of the class methods: ConfusionMatrixDisplay.from_predictions or ConfusionMatrixDisplay.from_estimator.\n",
      "  warnings.warn(msg, category=FutureWarning)\n"
     ]
    },
    {
     "data": {
      "image/png": "[encoded data removed]",
      "text/plain": [
       "<Figure size 432x288 with 2 Axes>"
      ]
     },
     "metadata": {
      "needs_background": "light"
     },
     "output_type": "display_data"
    }
   ],
   "source": [
    "model_metrics(gb_gs, Xsm_train, ysm_train, Xs_holdout, y_holdout, 'Gradient Boosting Classifier')"
   ]
  },
  {
   "cell_type": "code",
   "execution_count": 143,
   "id": "c281d0ac",
   "metadata": {},
   "outputs": [
    {
     "data": {
      "text/html": [
       "<div>\n",
       "<style scoped>\n",
       "    .dataframe tbody tr th:only-of-type {\n",
       "        vertical-align: middle;\n",
       "    }\n",
       "\n",
       "    .dataframe tbody tr th {\n",
       "        vertical-align: top;\n",
       "    }\n",
       "\n",
       "    .dataframe thead th {\n",
       "        text-align: right;\n",
       "    }\n",
       "</style>\n",
       "<table border=\"1\" class=\"dataframe\">\n",
       "  <thead>\n",
       "    <tr style=\"text-align: right;\">\n",
       "      <th></th>\n",
       "      <th>model</th>\n",
       "      <th>best_score</th>\n",
       "      <th>train_score</th>\n",
       "      <th>holdout_score</th>\n",
       "      <th>sensitivity</th>\n",
       "      <th>specificity</th>\n",
       "      <th>precision</th>\n",
       "      <th>f1_score</th>\n",
       "      <th>best_params</th>\n",
       "    </tr>\n",
       "  </thead>\n",
       "  <tbody>\n",
       "    <tr>\n",
       "      <th>0</th>\n",
       "      <td>ExtraTrees</td>\n",
       "      <td>0.956</td>\n",
       "      <td>0.997</td>\n",
       "      <td>0.834</td>\n",
       "      <td>0.368</td>\n",
       "      <td>0.944</td>\n",
       "      <td>0.278</td>\n",
       "      <td>0.317</td>\n",
       "      <td>{'max_depth': 50, 'min_samples_leaf': 2, 'n_es...</td>\n",
       "    </tr>\n",
       "    <tr>\n",
       "      <th>1</th>\n",
       "      <td>SVM</td>\n",
       "      <td>0.961</td>\n",
       "      <td>0.998</td>\n",
       "      <td>0.704</td>\n",
       "      <td>0.254</td>\n",
       "      <td>0.937</td>\n",
       "      <td>0.191</td>\n",
       "      <td>0.218</td>\n",
       "      <td>{'C': 30, 'gamma': 0.01, 'kernel': 'rbf', 'pro...</td>\n",
       "    </tr>\n",
       "    <tr>\n",
       "      <th>2</th>\n",
       "      <td>ADA Boost Classifier</td>\n",
       "      <td>0.954</td>\n",
       "      <td>0.997</td>\n",
       "      <td>0.735</td>\n",
       "      <td>0.149</td>\n",
       "      <td>0.968</td>\n",
       "      <td>0.212</td>\n",
       "      <td>0.175</td>\n",
       "      <td>{'base_estimator__max_depth': 2, 'learning_rat...</td>\n",
       "    </tr>\n",
       "    <tr>\n",
       "      <th>3</th>\n",
       "      <td>Gradient Boosting Classifier</td>\n",
       "      <td>0.956</td>\n",
       "      <td>0.995</td>\n",
       "      <td>0.841</td>\n",
       "      <td>0.149</td>\n",
       "      <td>0.983</td>\n",
       "      <td>0.333</td>\n",
       "      <td>0.206</td>\n",
       "      <td>{'learning_rate': 0.12, 'max_depth': 4, 'n_est...</td>\n",
       "    </tr>\n",
       "  </tbody>\n",
       "</table>\n",
       "</div>"
      ],
      "text/plain": [
       "                          model  best_score  train_score  holdout_score  \\\n",
       "0                    ExtraTrees       0.956        0.997          0.834   \n",
       "1                           SVM       0.961        0.998          0.704   \n",
       "2          ADA Boost Classifier       0.954        0.997          0.735   \n",
       "3  Gradient Boosting Classifier       0.956        0.995          0.841   \n",
       "\n",
       "   sensitivity  specificity  precision  f1_score  \\\n",
       "0        0.368        0.944      0.278     0.317   \n",
       "1        0.254        0.937      0.191     0.218   \n",
       "2        0.149        0.968      0.212     0.175   \n",
       "3        0.149        0.983      0.333     0.206   \n",
       "\n",
       "                                         best_params  \n",
       "0  {'max_depth': 50, 'min_samples_leaf': 2, 'n_es...  \n",
       "1  {'C': 30, 'gamma': 0.01, 'kernel': 'rbf', 'pro...  \n",
       "2  {'base_estimator__max_depth': 2, 'learning_rat...  \n",
       "3  {'learning_rate': 0.12, 'max_depth': 4, 'n_est...  "
      ]
     },
     "execution_count": 143,
     "metadata": {},
     "output_type": "execute_result"
    }
   ],
   "source": [
    "summary_df"
   ]
  },
  {
   "cell_type": "markdown",
   "id": "4e920531",
   "metadata": {},
   "source": [
    "### Neural Network"
   ]
  },
  {
   "cell_type": "code",
   "execution_count": 147,
   "id": "5779f6b7",
   "metadata": {},
   "outputs": [],
   "source": [
    "def model_metrics_nn(model, modelname):\n",
    "    '''Generates confusion matrix and adds scores to summary_df'''\n",
    "    #Generate confusion matrix\n",
    "    tn, fp, fn, tp = confusion_matrix(ysm_train, model.predict_classes(Xsm_train)).ravel();\n",
    "    acc_train = (tn + tp) / (tn + fp + fn + tp)\n",
    "\n",
    "    y_pred = model.predict_classes(Xs_holdout)\n",
    "    confusion_matrix(y_holdout, # True values.\n",
    "                     y_pred)  # Predicted values.\n",
    "    tn, fp, fn, tp = confusion_matrix(y_holdout, y_pred).ravel();\n",
    "    acc = (tn + tp) / (tn + fp + fn + tp)\n",
    "    sens = tp / (tp + fn)\n",
    "    spec = tn / (tn + fp)\n",
    "    prec = tp / (tp + fp)\n",
    "    f1_score = 2 * (prec*sens) / (prec + sens)\n",
    "\n",
    "\n",
    "    summary_df_rows = summary_df.shape[0]\n",
    "    # Adding the scores into summary_df\n",
    "    summary_df.loc[summary_df_rows] = [\n",
    "        modelname,\n",
    "        '',\n",
    "        round(acc_train,3), # accuracy of train\n",
    "        round(acc,3), # accuracy of holdout\n",
    "        round(sens,3), # sensitivity of holdout\n",
    "        round(spec,3), # specificity of holdout\n",
    "        round(prec,3), # specificity of holdout\n",
    "        round(f1_score,3), # f1 score of holdout\n",
    "        '',\n",
    "    ]"
   ]
  },
  {
   "cell_type": "code",
   "execution_count": 152,
   "id": "999e50f6",
   "metadata": {},
   "outputs": [],
   "source": [
    "model = Sequential()\n",
    "model.add(Dense(64,\n",
    "                input_shape=(212,),\n",
    "                activation='relu'))\n",
    "model.add(Dense(1, activation='sigmoid'))"
   ]
  },
  {
   "cell_type": "code",
   "execution_count": 153,
   "id": "e9073342",
   "metadata": {},
   "outputs": [],
   "source": [
    "model.compile(loss='binary_crossentropy', metrics=['accuracy'], optimizer='adam')"
   ]
  },
  {
   "cell_type": "code",
   "execution_count": 154,
   "id": "7398d006",
   "metadata": {},
   "outputs": [
    {
     "data": {
      "text/plain": [
       "(11770, 212)"
      ]
     },
     "execution_count": 154,
     "metadata": {},
     "output_type": "execute_result"
    }
   ],
   "source": [
    "Xsm_train.shape"
   ]
  },
  {
   "cell_type": "code",
   "execution_count": 155,
   "id": "1c5bd14e",
   "metadata": {},
   "outputs": [],
   "source": [
    "history = model.fit(Xsm_train, ysm_train, validation_data=(Xs_holdout, y_holdout), epochs=2, batch_size=512, verbose=0)"
   ]
  },
  {
   "cell_type": "code",
   "execution_count": 156,
   "id": "6f105544",
   "metadata": {},
   "outputs": [
    {
     "data": {
      "image/png": "[encoded data removed]",
      "text/plain": [
       "<Figure size 432x288 with 1 Axes>"
      ]
     },
     "metadata": {
      "needs_background": "light"
     },
     "output_type": "display_data"
    }
   ],
   "source": [
    "plt.plot(history.history['loss'], label='Train loss')\n",
    "plt.plot(history.history['val_loss'], label='Val Loss')\n",
    "plt.legend();"
   ]
  },
  {
   "cell_type": "code",
   "execution_count": 157,
   "id": "9e05a0f2",
   "metadata": {},
   "outputs": [
    {
     "data": {
      "image/png": "[encoded data removed]",
      "text/plain": [
       "<Figure size 432x288 with 1 Axes>"
      ]
     },
     "metadata": {
      "needs_background": "light"
     },
     "output_type": "display_data"
    }
   ],
   "source": [
    "plt.plot(history.history['accuracy'], label='Train accuracy')\n",
    "plt.plot(history.history['val_accuracy'], label='Val accuracy')\n",
    "plt.legend();"
   ]
  },
  {
   "cell_type": "code",
   "execution_count": 158,
   "id": "7e75708b",
   "metadata": {},
   "outputs": [
    {
     "name": "stdout",
     "output_type": "stream",
     "text": [
      "WARNING:tensorflow:From C:\\Users\\deang\\AppData\\Local\\Temp\\ipykernel_880\\233945099.py:4: Sequential.predict_classes (from tensorflow.python.keras.engine.sequential) is deprecated and will be removed after 2021-01-01.\n",
      "Instructions for updating:\n",
      "Please use instead:* `np.argmax(model.predict(x), axis=-1)`,   if your model does multi-class classification   (e.g. if it uses a `softmax` last-layer activation).* `(model.predict(x) > 0.5).astype(\"int32\")`,   if your model does binary classification   (e.g. if it uses a `sigmoid` last-layer activation).\n"
     ]
    }
   ],
   "source": [
    "model_metrics_nn(model, 'Neural Network')"
   ]
  },
  {
   "cell_type": "code",
   "execution_count": 159,
   "id": "580cccc8",
   "metadata": {},
   "outputs": [
    {
     "data": {
      "text/html": [
       "<div>\n",
       "<style scoped>\n",
       "    .dataframe tbody tr th:only-of-type {\n",
       "        vertical-align: middle;\n",
       "    }\n",
       "\n",
       "    .dataframe tbody tr th {\n",
       "        vertical-align: top;\n",
       "    }\n",
       "\n",
       "    .dataframe thead th {\n",
       "        text-align: right;\n",
       "    }\n",
       "</style>\n",
       "<table border=\"1\" class=\"dataframe\">\n",
       "  <thead>\n",
       "    <tr style=\"text-align: right;\">\n",
       "      <th></th>\n",
       "      <th>model</th>\n",
       "      <th>best_score</th>\n",
       "      <th>train_score</th>\n",
       "      <th>holdout_score</th>\n",
       "      <th>sensitivity</th>\n",
       "      <th>specificity</th>\n",
       "      <th>precision</th>\n",
       "      <th>f1_score</th>\n",
       "      <th>best_params</th>\n",
       "    </tr>\n",
       "  </thead>\n",
       "  <tbody>\n",
       "    <tr>\n",
       "      <th>0</th>\n",
       "      <td>ExtraTrees</td>\n",
       "      <td>0.956</td>\n",
       "      <td>0.997</td>\n",
       "      <td>0.834</td>\n",
       "      <td>0.368</td>\n",
       "      <td>0.944</td>\n",
       "      <td>0.278</td>\n",
       "      <td>0.317</td>\n",
       "      <td>{'max_depth': 50, 'min_samples_leaf': 2, 'n_es...</td>\n",
       "    </tr>\n",
       "    <tr>\n",
       "      <th>1</th>\n",
       "      <td>SVM</td>\n",
       "      <td>0.961</td>\n",
       "      <td>0.998</td>\n",
       "      <td>0.704</td>\n",
       "      <td>0.254</td>\n",
       "      <td>0.937</td>\n",
       "      <td>0.191</td>\n",
       "      <td>0.218</td>\n",
       "      <td>{'C': 30, 'gamma': 0.01, 'kernel': 'rbf', 'pro...</td>\n",
       "    </tr>\n",
       "    <tr>\n",
       "      <th>2</th>\n",
       "      <td>ADA Boost Classifier</td>\n",
       "      <td>0.954</td>\n",
       "      <td>0.997</td>\n",
       "      <td>0.735</td>\n",
       "      <td>0.149</td>\n",
       "      <td>0.968</td>\n",
       "      <td>0.212</td>\n",
       "      <td>0.175</td>\n",
       "      <td>{'base_estimator__max_depth': 2, 'learning_rat...</td>\n",
       "    </tr>\n",
       "    <tr>\n",
       "      <th>3</th>\n",
       "      <td>Gradient Boosting Classifier</td>\n",
       "      <td>0.956</td>\n",
       "      <td>0.995</td>\n",
       "      <td>0.841</td>\n",
       "      <td>0.149</td>\n",
       "      <td>0.983</td>\n",
       "      <td>0.333</td>\n",
       "      <td>0.206</td>\n",
       "      <td>{'learning_rate': 0.12, 'max_depth': 4, 'n_est...</td>\n",
       "    </tr>\n",
       "    <tr>\n",
       "      <th>4</th>\n",
       "      <td>Neural Network</td>\n",
       "      <td></td>\n",
       "      <td>0.826</td>\n",
       "      <td>0.768</td>\n",
       "      <td>0.605</td>\n",
       "      <td>0.778</td>\n",
       "      <td>0.137</td>\n",
       "      <td>0.223</td>\n",
       "      <td></td>\n",
       "    </tr>\n",
       "  </tbody>\n",
       "</table>\n",
       "</div>"
      ],
      "text/plain": [
       "                          model best_score  train_score  holdout_score  \\\n",
       "0                    ExtraTrees      0.956        0.997          0.834   \n",
       "1                           SVM      0.961        0.998          0.704   \n",
       "2          ADA Boost Classifier      0.954        0.997          0.735   \n",
       "3  Gradient Boosting Classifier      0.956        0.995          0.841   \n",
       "4                Neural Network                   0.826          0.768   \n",
       "\n",
       "   sensitivity  specificity  precision  f1_score  \\\n",
       "0        0.368        0.944      0.278     0.317   \n",
       "1        0.254        0.937      0.191     0.218   \n",
       "2        0.149        0.968      0.212     0.175   \n",
       "3        0.149        0.983      0.333     0.206   \n",
       "4        0.605        0.778      0.137     0.223   \n",
       "\n",
       "                                         best_params  \n",
       "0  {'max_depth': 50, 'min_samples_leaf': 2, 'n_es...  \n",
       "1  {'C': 30, 'gamma': 0.01, 'kernel': 'rbf', 'pro...  \n",
       "2  {'base_estimator__max_depth': 2, 'learning_rat...  \n",
       "3  {'learning_rate': 0.12, 'max_depth': 4, 'n_est...  \n",
       "4                                                     "
      ]
     },
     "execution_count": 159,
     "metadata": {},
     "output_type": "execute_result"
    }
   ],
   "source": [
    "summary_df"
   ]
  },
  {
   "cell_type": "markdown",
   "id": "c0a3d4bb",
   "metadata": {},
   "source": [
    "### Neural Network with Dropout"
   ]
  },
  {
   "cell_type": "code",
   "execution_count": 160,
   "id": "aa90b817",
   "metadata": {},
   "outputs": [
    {
     "data": {
      "text/plain": [
       "212"
      ]
     },
     "execution_count": 160,
     "metadata": {},
     "output_type": "execute_result"
    }
   ],
   "source": [
    "Xsm_train.shape[1]"
   ]
  },
  {
   "cell_type": "code",
   "execution_count": 161,
   "id": "63035b62",
   "metadata": {},
   "outputs": [
    {
     "name": "stdout",
     "output_type": "stream",
     "text": [
      "368/368 [==============================] - 1s 2ms/step - loss: 0.4306 - accuracy: 0.8009 - val_loss: 0.4123 - val_accuracy: 0.8141\n"
     ]
    }
   ],
   "source": [
    "# the turn-on and off are during each mini-batch run\n",
    "\n",
    "from tensorflow.keras.layers import Dropout\n",
    "\n",
    "model_dropout = Sequential()\n",
    "\n",
    "n_input = Xsm_train.shape[1]\n",
    "n_hidden = n_input\n",
    "\n",
    "model_dropout.add(Dense(n_hidden, input_dim=n_input, activation='relu'))\n",
    "model_dropout.add(Dropout(0.2))\n",
    "model_dropout.add(Dense(64, activation='relu'))\n",
    "model_dropout.add(Dropout(0.2))\n",
    "model_dropout.add(Dense(1, activation='sigmoid'))\n",
    "\n",
    "model_dropout.compile(loss='binary_crossentropy', optimizer='adam', metrics=['accuracy'])\n",
    "\n",
    "# history = model.fit(Xsm_train, ysm_train, validation_data=(Xs_holdout, y_holdout), epochs=2, batch_size=512, verbose=0)\n",
    "history_dropout = model_dropout.fit(\n",
    "    Xsm_train,\n",
    "    ysm_train,\n",
    "    validation_data=(Xs_holdout, y_holdout), \n",
    "    epochs=1,\n",
    "    batch_size=None\n",
    ")"
   ]
  },
  {
   "cell_type": "code",
   "execution_count": 162,
   "id": "81506f18",
   "metadata": {},
   "outputs": [],
   "source": [
    "model_metrics_nn(model_dropout, 'Neural Network with Dropout')"
   ]
  },
  {
   "cell_type": "code",
   "execution_count": 163,
   "id": "0e7798d1",
   "metadata": {
    "scrolled": true
   },
   "outputs": [
    {
     "data": {
      "text/html": [
       "<div>\n",
       "<style scoped>\n",
       "    .dataframe tbody tr th:only-of-type {\n",
       "        vertical-align: middle;\n",
       "    }\n",
       "\n",
       "    .dataframe tbody tr th {\n",
       "        vertical-align: top;\n",
       "    }\n",
       "\n",
       "    .dataframe thead th {\n",
       "        text-align: right;\n",
       "    }\n",
       "</style>\n",
       "<table border=\"1\" class=\"dataframe\">\n",
       "  <thead>\n",
       "    <tr style=\"text-align: right;\">\n",
       "      <th></th>\n",
       "      <th>model</th>\n",
       "      <th>best_score</th>\n",
       "      <th>train_score</th>\n",
       "      <th>holdout_score</th>\n",
       "      <th>sensitivity</th>\n",
       "      <th>specificity</th>\n",
       "      <th>precision</th>\n",
       "      <th>f1_score</th>\n",
       "      <th>best_params</th>\n",
       "    </tr>\n",
       "  </thead>\n",
       "  <tbody>\n",
       "    <tr>\n",
       "      <th>0</th>\n",
       "      <td>ExtraTrees</td>\n",
       "      <td>0.956</td>\n",
       "      <td>0.997</td>\n",
       "      <td>0.834</td>\n",
       "      <td>0.368</td>\n",
       "      <td>0.944</td>\n",
       "      <td>0.278</td>\n",
       "      <td>0.317</td>\n",
       "      <td>{'max_depth': 50, 'min_samples_leaf': 2, 'n_es...</td>\n",
       "    </tr>\n",
       "    <tr>\n",
       "      <th>1</th>\n",
       "      <td>SVM</td>\n",
       "      <td>0.961</td>\n",
       "      <td>0.998</td>\n",
       "      <td>0.704</td>\n",
       "      <td>0.254</td>\n",
       "      <td>0.937</td>\n",
       "      <td>0.191</td>\n",
       "      <td>0.218</td>\n",
       "      <td>{'C': 30, 'gamma': 0.01, 'kernel': 'rbf', 'pro...</td>\n",
       "    </tr>\n",
       "    <tr>\n",
       "      <th>2</th>\n",
       "      <td>ADA Boost Classifier</td>\n",
       "      <td>0.954</td>\n",
       "      <td>0.997</td>\n",
       "      <td>0.735</td>\n",
       "      <td>0.149</td>\n",
       "      <td>0.968</td>\n",
       "      <td>0.212</td>\n",
       "      <td>0.175</td>\n",
       "      <td>{'base_estimator__max_depth': 2, 'learning_rat...</td>\n",
       "    </tr>\n",
       "    <tr>\n",
       "      <th>3</th>\n",
       "      <td>Gradient Boosting Classifier</td>\n",
       "      <td>0.956</td>\n",
       "      <td>0.995</td>\n",
       "      <td>0.841</td>\n",
       "      <td>0.149</td>\n",
       "      <td>0.983</td>\n",
       "      <td>0.333</td>\n",
       "      <td>0.206</td>\n",
       "      <td>{'learning_rate': 0.12, 'max_depth': 4, 'n_est...</td>\n",
       "    </tr>\n",
       "    <tr>\n",
       "      <th>4</th>\n",
       "      <td>Neural Network</td>\n",
       "      <td></td>\n",
       "      <td>0.826</td>\n",
       "      <td>0.768</td>\n",
       "      <td>0.605</td>\n",
       "      <td>0.778</td>\n",
       "      <td>0.137</td>\n",
       "      <td>0.223</td>\n",
       "      <td></td>\n",
       "    </tr>\n",
       "    <tr>\n",
       "      <th>5</th>\n",
       "      <td>Neural Network with Dropout</td>\n",
       "      <td></td>\n",
       "      <td>0.891</td>\n",
       "      <td>0.814</td>\n",
       "      <td>0.482</td>\n",
       "      <td>0.833</td>\n",
       "      <td>0.144</td>\n",
       "      <td>0.222</td>\n",
       "      <td></td>\n",
       "    </tr>\n",
       "  </tbody>\n",
       "</table>\n",
       "</div>"
      ],
      "text/plain": [
       "                          model best_score  train_score  holdout_score  \\\n",
       "0                    ExtraTrees      0.956        0.997          0.834   \n",
       "1                           SVM      0.961        0.998          0.704   \n",
       "2          ADA Boost Classifier      0.954        0.997          0.735   \n",
       "3  Gradient Boosting Classifier      0.956        0.995          0.841   \n",
       "4                Neural Network                   0.826          0.768   \n",
       "5   Neural Network with Dropout                   0.891          0.814   \n",
       "\n",
       "   sensitivity  specificity  precision  f1_score  \\\n",
       "0        0.368        0.944      0.278     0.317   \n",
       "1        0.254        0.937      0.191     0.218   \n",
       "2        0.149        0.968      0.212     0.175   \n",
       "3        0.149        0.983      0.333     0.206   \n",
       "4        0.605        0.778      0.137     0.223   \n",
       "5        0.482        0.833      0.144     0.222   \n",
       "\n",
       "                                         best_params  \n",
       "0  {'max_depth': 50, 'min_samples_leaf': 2, 'n_es...  \n",
       "1  {'C': 30, 'gamma': 0.01, 'kernel': 'rbf', 'pro...  \n",
       "2  {'base_estimator__max_depth': 2, 'learning_rat...  \n",
       "3  {'learning_rate': 0.12, 'max_depth': 4, 'n_est...  \n",
       "4                                                     \n",
       "5                                                     "
      ]
     },
     "execution_count": 163,
     "metadata": {},
     "output_type": "execute_result"
    }
   ],
   "source": [
    "summary_df"
   ]
  },
  {
   "cell_type": "markdown",
   "id": "f9230e53",
   "metadata": {},
   "source": [
    "### Neural Network with Early Stopping"
   ]
  },
  {
   "cell_type": "code",
   "execution_count": 164,
   "id": "14b1b04e",
   "metadata": {},
   "outputs": [
    {
     "name": "stdout",
     "output_type": "stream",
     "text": [
      "368/368 [==============================] - 1s 2ms/step - loss: 0.4485 - accuracy: 0.7966 - val_loss: 0.4107 - val_accuracy: 0.8083\n"
     ]
    }
   ],
   "source": [
    "from tensorflow.keras.callbacks import EarlyStopping\n",
    "\n",
    "# Build model using early stopping\n",
    "model_es = Sequential()\n",
    "\n",
    "n_input = Xsm_train.shape[1]\n",
    "\n",
    "model_es.add(Dense(64, input_dim=n_input, activation='relu'))\n",
    "model_es.add(Dense(1, activation='sigmoid'))\n",
    "\n",
    "model_es.compile(loss='binary_crossentropy', optimizer='adam', metrics=['accuracy'])\n",
    "\n",
    "early_stop = EarlyStopping(monitor='val_loss', min_delta=0, patience=5, verbose=1, mode='auto')\n",
    "\n",
    "history_es = model_es.fit(\n",
    "    Xsm_train,\n",
    "    ysm_train,\n",
    "    validation_data=(Xs_holdout, y_holdout),\n",
    "    epochs=1,\n",
    "    batch_size=None,\n",
    "    callbacks=[early_stop]\n",
    ")"
   ]
  },
  {
   "cell_type": "code",
   "execution_count": 165,
   "id": "ab5781f6",
   "metadata": {},
   "outputs": [],
   "source": [
    "model_metrics_nn(model_es, 'Neural Network with Early Stopping')"
   ]
  },
  {
   "cell_type": "code",
   "execution_count": 171,
   "id": "fbae2c27",
   "metadata": {},
   "outputs": [
    {
     "data": {
      "text/html": [
       "<div>\n",
       "<style scoped>\n",
       "    .dataframe tbody tr th:only-of-type {\n",
       "        vertical-align: middle;\n",
       "    }\n",
       "\n",
       "    .dataframe tbody tr th {\n",
       "        vertical-align: top;\n",
       "    }\n",
       "\n",
       "    .dataframe thead th {\n",
       "        text-align: right;\n",
       "    }\n",
       "</style>\n",
       "<table border=\"1\" class=\"dataframe\">\n",
       "  <thead>\n",
       "    <tr style=\"text-align: right;\">\n",
       "      <th></th>\n",
       "      <th>model</th>\n",
       "      <th>best_score</th>\n",
       "      <th>train_score</th>\n",
       "      <th>holdout_score</th>\n",
       "      <th>sensitivity</th>\n",
       "      <th>specificity</th>\n",
       "      <th>precision</th>\n",
       "      <th>f1_score</th>\n",
       "      <th>best_params</th>\n",
       "    </tr>\n",
       "  </thead>\n",
       "  <tbody>\n",
       "    <tr>\n",
       "      <th>0</th>\n",
       "      <td>ExtraTrees</td>\n",
       "      <td>0.956</td>\n",
       "      <td>0.997</td>\n",
       "      <td>0.834</td>\n",
       "      <td>0.368</td>\n",
       "      <td>0.944</td>\n",
       "      <td>0.278</td>\n",
       "      <td>0.317</td>\n",
       "      <td>{'max_depth': 50, 'min_samples_leaf': 2, 'n_es...</td>\n",
       "    </tr>\n",
       "    <tr>\n",
       "      <th>1</th>\n",
       "      <td>SVM</td>\n",
       "      <td>0.961</td>\n",
       "      <td>0.998</td>\n",
       "      <td>0.704</td>\n",
       "      <td>0.254</td>\n",
       "      <td>0.937</td>\n",
       "      <td>0.191</td>\n",
       "      <td>0.218</td>\n",
       "      <td>{'C': 30, 'gamma': 0.01, 'kernel': 'rbf', 'pro...</td>\n",
       "    </tr>\n",
       "    <tr>\n",
       "      <th>2</th>\n",
       "      <td>ADA Boost Classifier</td>\n",
       "      <td>0.954</td>\n",
       "      <td>0.997</td>\n",
       "      <td>0.735</td>\n",
       "      <td>0.149</td>\n",
       "      <td>0.968</td>\n",
       "      <td>0.212</td>\n",
       "      <td>0.175</td>\n",
       "      <td>{'base_estimator__max_depth': 2, 'learning_rat...</td>\n",
       "    </tr>\n",
       "    <tr>\n",
       "      <th>3</th>\n",
       "      <td>Gradient Boosting Classifier</td>\n",
       "      <td>0.956</td>\n",
       "      <td>0.995</td>\n",
       "      <td>0.841</td>\n",
       "      <td>0.149</td>\n",
       "      <td>0.983</td>\n",
       "      <td>0.333</td>\n",
       "      <td>0.206</td>\n",
       "      <td>{'learning_rate': 0.12, 'max_depth': 4, 'n_est...</td>\n",
       "    </tr>\n",
       "    <tr>\n",
       "      <th>4</th>\n",
       "      <td>Neural Network</td>\n",
       "      <td></td>\n",
       "      <td>0.826</td>\n",
       "      <td>0.768</td>\n",
       "      <td>0.605</td>\n",
       "      <td>0.778</td>\n",
       "      <td>0.137</td>\n",
       "      <td>0.223</td>\n",
       "      <td></td>\n",
       "    </tr>\n",
       "    <tr>\n",
       "      <th>5</th>\n",
       "      <td>Neural Network with Dropout</td>\n",
       "      <td></td>\n",
       "      <td>0.891</td>\n",
       "      <td>0.814</td>\n",
       "      <td>0.482</td>\n",
       "      <td>0.833</td>\n",
       "      <td>0.144</td>\n",
       "      <td>0.222</td>\n",
       "      <td></td>\n",
       "    </tr>\n",
       "    <tr>\n",
       "      <th>6</th>\n",
       "      <td>Neural Network with Early Stopping</td>\n",
       "      <td></td>\n",
       "      <td>0.863</td>\n",
       "      <td>0.808</td>\n",
       "      <td>0.500</td>\n",
       "      <td>0.826</td>\n",
       "      <td>0.143</td>\n",
       "      <td>0.223</td>\n",
       "      <td></td>\n",
       "    </tr>\n",
       "    <tr>\n",
       "      <th>7</th>\n",
       "      <td>Random Forest</td>\n",
       "      <td>0.94</td>\n",
       "      <td>0.991</td>\n",
       "      <td>0.795</td>\n",
       "      <td>0.281</td>\n",
       "      <td>0.958</td>\n",
       "      <td>0.281</td>\n",
       "      <td>0.281</td>\n",
       "      <td>{'ccp_alpha': 0, 'max_depth': 9, 'max_features...</td>\n",
       "    </tr>\n",
       "  </tbody>\n",
       "</table>\n",
       "</div>"
      ],
      "text/plain": [
       "                                model best_score  train_score  holdout_score  \\\n",
       "0                          ExtraTrees      0.956        0.997          0.834   \n",
       "1                                 SVM      0.961        0.998          0.704   \n",
       "2                ADA Boost Classifier      0.954        0.997          0.735   \n",
       "3        Gradient Boosting Classifier      0.956        0.995          0.841   \n",
       "4                      Neural Network                   0.826          0.768   \n",
       "5         Neural Network with Dropout                   0.891          0.814   \n",
       "6  Neural Network with Early Stopping                   0.863          0.808   \n",
       "7                       Random Forest       0.94        0.991          0.795   \n",
       "\n",
       "   sensitivity  specificity  precision  f1_score  \\\n",
       "0        0.368        0.944      0.278     0.317   \n",
       "1        0.254        0.937      0.191     0.218   \n",
       "2        0.149        0.968      0.212     0.175   \n",
       "3        0.149        0.983      0.333     0.206   \n",
       "4        0.605        0.778      0.137     0.223   \n",
       "5        0.482        0.833      0.144     0.222   \n",
       "6        0.500        0.826      0.143     0.223   \n",
       "7        0.281        0.958      0.281     0.281   \n",
       "\n",
       "                                         best_params  \n",
       "0  {'max_depth': 50, 'min_samples_leaf': 2, 'n_es...  \n",
       "1  {'C': 30, 'gamma': 0.01, 'kernel': 'rbf', 'pro...  \n",
       "2  {'base_estimator__max_depth': 2, 'learning_rat...  \n",
       "3  {'learning_rate': 0.12, 'max_depth': 4, 'n_est...  \n",
       "4                                                     \n",
       "5                                                     \n",
       "6                                                     \n",
       "7  {'ccp_alpha': 0, 'max_depth': 9, 'max_features...  "
      ]
     },
     "execution_count": 171,
     "metadata": {},
     "output_type": "execute_result"
    }
   ],
   "source": [
    "summary_df"
   ]
  },
  {
   "cell_type": "code",
   "execution_count": 173,
   "id": "bdf74db7",
   "metadata": {},
   "outputs": [],
   "source": [
    "summary_df.to_csv('../data/modelsummary1.csv')"
   ]
  },
  {
   "cell_type": "markdown",
   "id": "bb68f689",
   "metadata": {},
   "source": [
    "### AUC-ROC Curve"
   ]
  },
  {
   "cell_type": "code",
   "execution_count": 172,
   "id": "3a5563ae",
   "metadata": {},
   "outputs": [
    {
     "name": "stderr",
     "output_type": "stream",
     "text": [
      "C:\\Users\\deang\\anaconda3\\envs\\dsi27tf\\lib\\site-packages\\sklearn\\utils\\deprecation.py:87: FutureWarning: Function plot_roc_curve is deprecated; Function :func:`plot_roc_curve` is deprecated in 1.0 and will be removed in 1.2. Use one of the class methods: :meth:`sklearn.metric.RocCurveDisplay.from_predictions` or :meth:`sklearn.metric.RocCurveDisplay.from_estimator`.\n",
      "  warnings.warn(msg, category=FutureWarning)\n",
      "C:\\Users\\deang\\anaconda3\\envs\\dsi27tf\\lib\\site-packages\\sklearn\\utils\\deprecation.py:87: FutureWarning: Function plot_roc_curve is deprecated; Function :func:`plot_roc_curve` is deprecated in 1.0 and will be removed in 1.2. Use one of the class methods: :meth:`sklearn.metric.RocCurveDisplay.from_predictions` or :meth:`sklearn.metric.RocCurveDisplay.from_estimator`.\n",
      "  warnings.warn(msg, category=FutureWarning)\n",
      "C:\\Users\\deang\\anaconda3\\envs\\dsi27tf\\lib\\site-packages\\sklearn\\utils\\deprecation.py:87: FutureWarning: Function plot_roc_curve is deprecated; Function :func:`plot_roc_curve` is deprecated in 1.0 and will be removed in 1.2. Use one of the class methods: :meth:`sklearn.metric.RocCurveDisplay.from_predictions` or :meth:`sklearn.metric.RocCurveDisplay.from_estimator`.\n",
      "  warnings.warn(msg, category=FutureWarning)\n",
      "C:\\Users\\deang\\anaconda3\\envs\\dsi27tf\\lib\\site-packages\\sklearn\\utils\\deprecation.py:87: FutureWarning: Function plot_roc_curve is deprecated; Function :func:`plot_roc_curve` is deprecated in 1.0 and will be removed in 1.2. Use one of the class methods: :meth:`sklearn.metric.RocCurveDisplay.from_predictions` or :meth:`sklearn.metric.RocCurveDisplay.from_estimator`.\n",
      "  warnings.warn(msg, category=FutureWarning)\n",
      "C:\\Users\\deang\\anaconda3\\envs\\dsi27tf\\lib\\site-packages\\sklearn\\utils\\deprecation.py:87: FutureWarning: Function plot_roc_curve is deprecated; Function :func:`plot_roc_curve` is deprecated in 1.0 and will be removed in 1.2. Use one of the class methods: :meth:`sklearn.metric.RocCurveDisplay.from_predictions` or :meth:`sklearn.metric.RocCurveDisplay.from_estimator`.\n",
      "  warnings.warn(msg, category=FutureWarning)\n"
     ]
    },
    {
     "data": {
      "text/plain": [
       "<matplotlib.legend.Legend at 0x1290b500e88>"
      ]
     },
     "execution_count": 172,
     "metadata": {},
     "output_type": "execute_result"
    },
    {
     "data": {
      "image/png": "[encoded data removed]",
      "text/plain": [
       "<Figure size 864x720 with 1 Axes>"
      ]
     },
     "metadata": {
      "needs_background": "light"
     },
     "output_type": "display_data"
    }
   ],
   "source": [
    "fig, ax = plt.subplots(1, 1, figsize=(12,10))\n",
    "#plot_roc_curve(logreg, Xs_holdout, y_holdout, ax=ax, name='LogisticRegression')\n",
    "plot_roc_curve(scv_gs, Xs_holdout, y_holdout, ax=ax, name='SVM')\n",
    "plot_roc_curve(gs_rf_1, Xs_holdout, y_holdout, ax=ax, name='Random Forest')\n",
    "plot_roc_curve(et_gs, Xs_holdout, y_holdout, ax=ax, name='ExraTrees')\n",
    "plot_roc_curve(ada_gs, Xs_holdout, y_holdout, ax=ax, name='ADABoost')\n",
    "plot_roc_curve(gb_gs, Xs_holdout, y_holdout, ax=ax, name='GradientBoost')\n",
    "#plot_roc_curve(model, Xs_holdout, y_holdout, ax=ax, name='Neural Network')\n",
    "#plot_roc_curve(model_dropout, Xs_holdout, y_holdout, ax=ax, name='ADABoost')\n",
    "#plot_roc_curve(model_es, Xs_holdout, y_holdout, ax=ax, name='GradientBoost')\n",
    "\n",
    "plt.plot([0, 1], [0, 1], color='black', lw=2, linestyle='--', label='Random Guess')\n",
    "plt.legend()"
   ]
  },
  {
   "cell_type": "code",
   "execution_count": null,
   "id": "afaec280",
   "metadata": {},
   "outputs": [],
   "source": []
  }
 ],
 "metadata": {
  "kernelspec": {
   "display_name": "Python 3 (ipykernel)",
   "language": "python",
   "name": "python3"
  },
  "language_info": {
   "codemirror_mode": {
    "name": "ipython",
    "version": 3
   },
   "file_extension": ".py",
   "mimetype": "text/x-python",
   "name": "python",
   "nbconvert_exporter": "python",
   "pygments_lexer": "ipython3",
   "version": "3.7.13"
  }
 },
 "nbformat": 4,
 "nbformat_minor": 5
}
