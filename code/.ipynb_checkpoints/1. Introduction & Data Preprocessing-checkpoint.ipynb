{
 "cells": [
  {
   "cell_type": "markdown",
   "id": "58b50624",
   "metadata": {},
   "source": [
    "# Project 4: Predict West Nile Virus\n",
    "### Section 1: Introduction & Data Preprocessing"
   ]
  },
  {
   "cell_type": "markdown",
   "id": "74bd8c77",
   "metadata": {},
   "source": [
    "## Problem Statement\n",
    "\n",
    "1. As an employee of Disease And Treatment Agency, division of Societal Cures In Epidemiology and New Creative Engineering (DATA-SCIENCE), we are tasked to better understand the mosquito population and advise on appropriate interventions which are beneficial and cost-effective for the city.\n",
    "\n",
    "\n",
    "2. Through this project, we hope to:\n",
    "- Identify features which are most important to predict presence of West Nile Virus (which can be done by ranking the coefficients of each feature in a logistic regression model)\n",
    "- Predict the probability of West Nile Virus by location to provide decision makers an effective plan to deploy pesticides throughout the city, which consequently can help to reduce cost."
   ]
  },
  {
   "cell_type": "markdown",
   "id": "b5161723",
   "metadata": {},
   "source": [
    "## Import Libraries"
   ]
  },
  {
   "cell_type": "code",
   "execution_count": 1,
   "id": "e86204e3",
   "metadata": {},
   "outputs": [],
   "source": [
    "import pandas as pd"
   ]
  },
  {
   "cell_type": "markdown",
   "id": "6595c41b",
   "metadata": {},
   "source": [
    "## Load Data"
   ]
  },
  {
   "cell_type": "code",
   "execution_count": 2,
   "id": "81ff6b74",
   "metadata": {},
   "outputs": [],
   "source": [
    "# Load datasets\n",
    "train = pd.read_csv('../data/train.csv')\n",
    "weather = pd.read_csv('../data/weather.csv')\n",
    "spray = pd.read_csv('../data/spray.csv')\n",
    "test = pd.read_csv('../data/test.csv')\n",
    "# train['id'] = train.index\n",
    "# train.shape"
   ]
  },
  {
   "cell_type": "code",
   "execution_count": 3,
   "id": "a3d94f69",
   "metadata": {},
   "outputs": [
    {
     "name": "stdout",
     "output_type": "stream",
     "text": [
      "<class 'pandas.core.frame.DataFrame'>\n",
      "RangeIndex: 10506 entries, 0 to 10505\n",
      "Data columns (total 12 columns):\n",
      " #   Column                  Non-Null Count  Dtype  \n",
      "---  ------                  --------------  -----  \n",
      " 0   Date                    10506 non-null  object \n",
      " 1   Address                 10506 non-null  object \n",
      " 2   Species                 10506 non-null  object \n",
      " 3   Block                   10506 non-null  int64  \n",
      " 4   Street                  10506 non-null  object \n",
      " 5   Trap                    10506 non-null  object \n",
      " 6   AddressNumberAndStreet  10506 non-null  object \n",
      " 7   Latitude                10506 non-null  float64\n",
      " 8   Longitude               10506 non-null  float64\n",
      " 9   AddressAccuracy         10506 non-null  int64  \n",
      " 10  NumMosquitos            10506 non-null  int64  \n",
      " 11  WnvPresent              10506 non-null  int64  \n",
      "dtypes: float64(2), int64(4), object(6)\n",
      "memory usage: 985.1+ KB\n"
     ]
    }
   ],
   "source": [
    "# Check column names, types and null values\n",
    "train.info()"
   ]
  },
  {
   "cell_type": "code",
   "execution_count": 4,
   "id": "41991dff",
   "metadata": {},
   "outputs": [
    {
     "name": "stdout",
     "output_type": "stream",
     "text": [
      "<class 'pandas.core.frame.DataFrame'>\n",
      "RangeIndex: 2944 entries, 0 to 2943\n",
      "Data columns (total 22 columns):\n",
      " #   Column       Non-Null Count  Dtype  \n",
      "---  ------       --------------  -----  \n",
      " 0   Station      2944 non-null   int64  \n",
      " 1   Date         2944 non-null   object \n",
      " 2   Tmax         2944 non-null   int64  \n",
      " 3   Tmin         2944 non-null   int64  \n",
      " 4   Tavg         2944 non-null   object \n",
      " 5   Depart       2944 non-null   object \n",
      " 6   DewPoint     2944 non-null   int64  \n",
      " 7   WetBulb      2944 non-null   object \n",
      " 8   Heat         2944 non-null   object \n",
      " 9   Cool         2944 non-null   object \n",
      " 10  Sunrise      2944 non-null   object \n",
      " 11  Sunset       2944 non-null   object \n",
      " 12  CodeSum      2944 non-null   object \n",
      " 13  Depth        2944 non-null   object \n",
      " 14  Water1       2944 non-null   object \n",
      " 15  SnowFall     2944 non-null   object \n",
      " 16  PrecipTotal  2944 non-null   object \n",
      " 17  StnPressure  2944 non-null   object \n",
      " 18  SeaLevel     2944 non-null   object \n",
      " 19  ResultSpeed  2944 non-null   float64\n",
      " 20  ResultDir    2944 non-null   int64  \n",
      " 21  AvgSpeed     2944 non-null   object \n",
      "dtypes: float64(1), int64(5), object(16)\n",
      "memory usage: 506.1+ KB\n"
     ]
    }
   ],
   "source": [
    "# Check column names, types and null values\n",
    "weather.info()"
   ]
  },
  {
   "cell_type": "code",
   "execution_count": 5,
   "id": "86690635",
   "metadata": {},
   "outputs": [
    {
     "name": "stdout",
     "output_type": "stream",
     "text": [
      "<class 'pandas.core.frame.DataFrame'>\n",
      "RangeIndex: 14835 entries, 0 to 14834\n",
      "Data columns (total 4 columns):\n",
      " #   Column     Non-Null Count  Dtype  \n",
      "---  ------     --------------  -----  \n",
      " 0   Date       14835 non-null  object \n",
      " 1   Time       14251 non-null  object \n",
      " 2   Latitude   14835 non-null  float64\n",
      " 3   Longitude  14835 non-null  float64\n",
      "dtypes: float64(2), object(2)\n",
      "memory usage: 463.7+ KB\n"
     ]
    }
   ],
   "source": [
    "# Check column names, types and null values\n",
    "spray.info()"
   ]
  },
  {
   "cell_type": "code",
   "execution_count": 6,
   "id": "06960cc9",
   "metadata": {},
   "outputs": [
    {
     "name": "stdout",
     "output_type": "stream",
     "text": [
      "<class 'pandas.core.frame.DataFrame'>\n",
      "RangeIndex: 116293 entries, 0 to 116292\n",
      "Data columns (total 11 columns):\n",
      " #   Column                  Non-Null Count   Dtype  \n",
      "---  ------                  --------------   -----  \n",
      " 0   Id                      116293 non-null  int64  \n",
      " 1   Date                    116293 non-null  object \n",
      " 2   Address                 116293 non-null  object \n",
      " 3   Species                 116293 non-null  object \n",
      " 4   Block                   116293 non-null  int64  \n",
      " 5   Street                  116293 non-null  object \n",
      " 6   Trap                    116293 non-null  object \n",
      " 7   AddressNumberAndStreet  116293 non-null  object \n",
      " 8   Latitude                116293 non-null  float64\n",
      " 9   Longitude               116293 non-null  float64\n",
      " 10  AddressAccuracy         116293 non-null  int64  \n",
      "dtypes: float64(2), int64(3), object(6)\n",
      "memory usage: 9.8+ MB\n"
     ]
    }
   ],
   "source": [
    "# Check column names, types and null values\n",
    "test.info()"
   ]
  },
  {
   "cell_type": "code",
   "execution_count": 7,
   "id": "d80d0b44",
   "metadata": {},
   "outputs": [],
   "source": [
    "# Create a function to rename columns to lower case\n",
    "def columns_rename(columns):\n",
    "    \"\"\" Rename column names to lower case\"\"\"\n",
    "    return columns.lower()\n",
    "\n",
    "train.columns = [columns_rename(col) for col in train.columns]\n",
    "test.columns = [columns_rename(col) for col in test.columns]\n",
    "weather.columns = [columns_rename(col) for col in weather.columns]\n",
    "spray.columns = [columns_rename(col) for col in spray.columns]"
   ]
  },
  {
   "cell_type": "code",
   "execution_count": null,
   "id": "4c96530a",
   "metadata": {},
   "outputs": [],
   "source": [
    "# Convert date column to datetime type \n",
    "train['date'] = pd.to_datetime(train['date'])\n",
    "test['date'] = pd.to_datetime(test['date'])\n",
    "weather['date'] = pd.to_datetime(weather['date'])\n",
    "spray['date'] = pd.to_datetime(spray['date'])"
   ]
  },
  {
   "cell_type": "code",
   "execution_count": null,
   "id": "e0d3ff3b",
   "metadata": {},
   "outputs": [],
   "source": [
    "# Combine train and test datasets with column to indicate dataset.\n",
    "traintest = pd.concat([train,test], axis=0, keys=('train','test'))\n",
    "traintest = traintest.reset_index() \\\n",
    "                        .rename(columns={'level_0':'dataset'}) \\\n",
    "                        .drop(columns=['level_1','id'])"
   ]
  },
  {
   "cell_type": "code",
   "execution_count": null,
   "id": "91d4b61f",
   "metadata": {},
   "outputs": [],
   "source": [
    "# Add Year, Month, Week and Day of Week features\n",
    "traintest['year'] = traintest['date'].apply(lambda x: x.year)\n",
    "traintest['month'] = traintest['date'].apply(lambda x: x.month)\n",
    "traintest['week'] = traintest['date'].apply(lambda x: x.week)\n",
    "traintest['dayofweek'] = traintest['date'].apply(lambda x: x.dayofweek)"
   ]
  },
  {
   "cell_type": "code",
   "execution_count": null,
   "id": "546ddb4f",
   "metadata": {},
   "outputs": [],
   "source": [
    "# Add Year, Month, Week and Day of Week features\n",
    "weather['year'] = weather['date'].apply(lambda x: x.year)\n",
    "weather['month'] = weather['date'].apply(lambda x: x.month)\n",
    "weather['week'] = weather['date'].apply(lambda x: x.week)\n",
    "weather['dayofweek'] = weather['date'].apply(lambda x: x.dayofweek)"
   ]
  },
  {
   "cell_type": "code",
   "execution_count": null,
   "id": "9df5e0d7",
   "metadata": {},
   "outputs": [],
   "source": [
    "# Add Year, Month, Week and Day of Week features\n",
    "spray['year'] = spray['date'].apply(lambda x: x.year)\n",
    "spray['month'] = spray['date'].apply(lambda x: x.month)\n",
    "spray['week'] = spray['date'].apply(lambda x: x.week)\n",
    "spray['dayofweek'] = spray['date'].apply(lambda x: x.dayofweek)"
   ]
  },
  {
   "cell_type": "markdown",
   "id": "db6e2c48",
   "metadata": {},
   "source": [
    "### Export to CSV"
   ]
  },
  {
   "cell_type": "code",
   "execution_count": null,
   "id": "64a0fc3c",
   "metadata": {},
   "outputs": [],
   "source": [
    "# Save processed data to CSV\n",
    "traintest.to_csv('../data/data_traintest.csv')\n",
    "weather.to_csv('../data/data_weather.csv')\n",
    "spray.to_csv('../data/data_spray.csv')"
   ]
  }
 ],
 "metadata": {
  "kernelspec": {
   "display_name": "Python 3 (ipykernel)",
   "language": "python",
   "name": "python3"
  },
  "language_info": {
   "codemirror_mode": {
    "name": "ipython",
    "version": 3
   },
   "file_extension": ".py",
   "mimetype": "text/x-python",
   "name": "python",
   "nbconvert_exporter": "python",
   "pygments_lexer": "ipython3",
   "version": "3.8.12"
  }
 },
 "nbformat": 4,
 "nbformat_minor": 5
}
