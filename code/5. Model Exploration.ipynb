{
 "cells": [
  {
   "cell_type": "markdown",
   "id": "17eb5c7b",
   "metadata": {},
   "source": [
    "# Project 4: Predict West Nile Virus\n",
    "### Section 5. Model Exploration"
   ]
  },
  {
   "cell_type": "markdown",
   "id": "b70e632a",
   "metadata": {},
   "source": [
    "## Problem Statement\n",
    "\n",
    "1. As an employee of Disease And Treatment Agency, division of Societal Cures In Epidemiology and New Creative Engineering (DATA-SCIENCE), we are tasked to better understand the mosquito population and advise on appropriate interventions which are beneficial and cost-effective for the city.\n",
    "\n",
    "\n",
    "2. Through this project, we hope to:\n",
    "- Identify features which are most important to predict presence of West Nile Virus (which can be done by ranking the coefficients of each feature in a logistic regression model)\n",
    "- Predict the probability of West Nile Virus by location to provide decision makers an effective plan to deploy pesticides throughout the city, which consequently can help to reduce cost."
   ]
  },
  {
   "cell_type": "markdown",
   "id": "ae082b06",
   "metadata": {},
   "source": [
    "## Import Libraries"
   ]
  },
  {
   "cell_type": "code",
   "execution_count": 23,
   "id": "7909f27f",
   "metadata": {},
   "outputs": [],
   "source": [
    "#!pip install shapely\n",
    "import pandas as pd\n",
    "import matplotlib.pyplot as plt\n",
    "import seaborn as sns\n",
    "import numpy as np\n",
    "# from shapely import geometry\n",
    "# from shapely.geometry import Point, Polygon\n",
    "# import geopandas as gpd\n",
    "# from datetime import timedelta\n",
    "# import math\n",
    "\n",
    "from sklearn.preprocessing import StandardScaler\n",
    "from sklearn.model_selection import train_test_split, GridSearchCV, RandomizedSearchCV, StratifiedKFold\n",
    "from sklearn.pipeline import Pipeline\n",
    "from sklearn.linear_model import LogisticRegression\n",
    "from sklearn.naive_bayes import MultinomialNB\n",
    "from sklearn.ensemble import RandomForestClassifier, ExtraTreesClassifier\n",
    "from sklearn.svm import SVC\n",
    "from sklearn.ensemble import GradientBoostingClassifier, AdaBoostClassifier, VotingClassifier\n",
    "from sklearn.tree import DecisionTreeClassifier\n",
    "from sklearn import metrics\n",
    "from sklearn.metrics import (confusion_matrix, plot_confusion_matrix, classification_report, \n",
    "                             plot_roc_curve, roc_auc_score, accuracy_score, precision_score, \n",
    "                             recall_score, f1_score) #precision_recall_curve\n",
    "from imblearn.over_sampling import SMOTE"
   ]
  },
  {
   "cell_type": "markdown",
   "id": "d9c25ebe",
   "metadata": {},
   "source": [
    "## Load Data"
   ]
  },
  {
   "cell_type": "code",
   "execution_count": 24,
   "id": "4ab149da",
   "metadata": {},
   "outputs": [],
   "source": [
    "# Load datasets\n",
    "df = pd.read_csv('../data/final_df.csv', index_col='Unnamed: 0')"
   ]
  },
  {
   "cell_type": "markdown",
   "id": "3d8d7b3c",
   "metadata": {},
   "source": [
    "### Split into train and test (Kaggle) data"
   ]
  },
  {
   "cell_type": "code",
   "execution_count": 25,
   "id": "4903760a",
   "metadata": {},
   "outputs": [
    {
     "name": "stdout",
     "output_type": "stream",
     "text": [
      "(8304, 240)\n",
      "(43035, 240)\n"
     ]
    }
   ],
   "source": [
    "# Split into train and test (kaggle) data \n",
    "train = df[df['dataset']=='train'].copy()\n",
    "test = df[df['dataset']=='test'].copy()\n",
    "print(train.shape)\n",
    "print(test.shape)"
   ]
  },
  {
   "cell_type": "code",
   "execution_count": 26,
   "id": "6d36cf6c",
   "metadata": {},
   "outputs": [],
   "source": [
    "train.drop(columns='dataset', inplace=True)\n",
    "test.drop(columns='dataset', inplace=True)"
   ]
  },
  {
   "cell_type": "code",
   "execution_count": 27,
   "id": "81c44181",
   "metadata": {
    "scrolled": true
   },
   "outputs": [
    {
     "data": {
      "text/html": [
       "<div>\n",
       "<style scoped>\n",
       "    .dataframe tbody tr th:only-of-type {\n",
       "        vertical-align: middle;\n",
       "    }\n",
       "\n",
       "    .dataframe tbody tr th {\n",
       "        vertical-align: top;\n",
       "    }\n",
       "\n",
       "    .dataframe thead th {\n",
       "        text-align: right;\n",
       "    }\n",
       "</style>\n",
       "<table border=\"1\" class=\"dataframe\">\n",
       "  <thead>\n",
       "    <tr style=\"text-align: right;\">\n",
       "      <th></th>\n",
       "      <th>latitude</th>\n",
       "      <th>longitude</th>\n",
       "      <th>tavg</th>\n",
       "      <th>preciptotal</th>\n",
       "      <th>stnpressure</th>\n",
       "      <th>resultdir</th>\n",
       "      <th>avgspeed</th>\n",
       "      <th>is_spray</th>\n",
       "      <th>stnpressure_7</th>\n",
       "      <th>stnpressure_10</th>\n",
       "      <th>...</th>\n",
       "      <th>codesum_TSRA BR HZ VCTS</th>\n",
       "      <th>codesum_TSRA FG+ BR HZ</th>\n",
       "      <th>codesum_TSRA RA</th>\n",
       "      <th>codesum_TSRA RA BR</th>\n",
       "      <th>codesum_TSRA RA BR HZ</th>\n",
       "      <th>codesum_TSRA RA BR HZ VCTS</th>\n",
       "      <th>codesum_TSRA RA BR VCTS</th>\n",
       "      <th>codesum_TSRA RA VCTS</th>\n",
       "      <th>codesum_VCTS</th>\n",
       "      <th>wnvpresent</th>\n",
       "    </tr>\n",
       "  </thead>\n",
       "  <tbody>\n",
       "    <tr>\n",
       "      <th>count</th>\n",
       "      <td>8304.000000</td>\n",
       "      <td>8304.000000</td>\n",
       "      <td>8304.000000</td>\n",
       "      <td>8304.000000</td>\n",
       "      <td>8304.000000</td>\n",
       "      <td>8304.000000</td>\n",
       "      <td>8304.000000</td>\n",
       "      <td>8304.000000</td>\n",
       "      <td>8304.000000</td>\n",
       "      <td>8304.000000</td>\n",
       "      <td>...</td>\n",
       "      <td>8304.000000</td>\n",
       "      <td>8304.0</td>\n",
       "      <td>8304.000000</td>\n",
       "      <td>8304.000000</td>\n",
       "      <td>8304.0</td>\n",
       "      <td>8304.0</td>\n",
       "      <td>8304.000000</td>\n",
       "      <td>8304.0</td>\n",
       "      <td>8304.000000</td>\n",
       "      <td>8304.000000</td>\n",
       "    </tr>\n",
       "    <tr>\n",
       "      <th>mean</th>\n",
       "      <td>41.845800</td>\n",
       "      <td>-87.696229</td>\n",
       "      <td>72.093931</td>\n",
       "      <td>0.182431</td>\n",
       "      <td>29.262110</td>\n",
       "      <td>17.842245</td>\n",
       "      <td>7.476903</td>\n",
       "      <td>0.008911</td>\n",
       "      <td>29.277200</td>\n",
       "      <td>29.265990</td>\n",
       "      <td>...</td>\n",
       "      <td>0.006142</td>\n",
       "      <td>0.0</td>\n",
       "      <td>0.029383</td>\n",
       "      <td>0.037211</td>\n",
       "      <td>0.0</td>\n",
       "      <td>0.0</td>\n",
       "      <td>0.010597</td>\n",
       "      <td>0.0</td>\n",
       "      <td>0.003974</td>\n",
       "      <td>0.055034</td>\n",
       "    </tr>\n",
       "    <tr>\n",
       "      <th>std</th>\n",
       "      <td>0.106658</td>\n",
       "      <td>0.084440</td>\n",
       "      <td>7.630330</td>\n",
       "      <td>0.470450</td>\n",
       "      <td>0.118606</td>\n",
       "      <td>9.433945</td>\n",
       "      <td>2.543438</td>\n",
       "      <td>0.093984</td>\n",
       "      <td>0.126573</td>\n",
       "      <td>0.142227</td>\n",
       "      <td>...</td>\n",
       "      <td>0.078132</td>\n",
       "      <td>0.0</td>\n",
       "      <td>0.168889</td>\n",
       "      <td>0.189290</td>\n",
       "      <td>0.0</td>\n",
       "      <td>0.0</td>\n",
       "      <td>0.102402</td>\n",
       "      <td>0.0</td>\n",
       "      <td>0.062918</td>\n",
       "      <td>0.228060</td>\n",
       "    </tr>\n",
       "    <tr>\n",
       "      <th>min</th>\n",
       "      <td>41.644612</td>\n",
       "      <td>-87.930995</td>\n",
       "      <td>50.000000</td>\n",
       "      <td>0.000000</td>\n",
       "      <td>28.890000</td>\n",
       "      <td>1.000000</td>\n",
       "      <td>2.100000</td>\n",
       "      <td>0.000000</td>\n",
       "      <td>28.890000</td>\n",
       "      <td>28.910000</td>\n",
       "      <td>...</td>\n",
       "      <td>0.000000</td>\n",
       "      <td>0.0</td>\n",
       "      <td>0.000000</td>\n",
       "      <td>0.000000</td>\n",
       "      <td>0.0</td>\n",
       "      <td>0.0</td>\n",
       "      <td>0.000000</td>\n",
       "      <td>0.0</td>\n",
       "      <td>0.000000</td>\n",
       "      <td>0.000000</td>\n",
       "    </tr>\n",
       "    <tr>\n",
       "      <th>25%</th>\n",
       "      <td>41.750498</td>\n",
       "      <td>-87.752411</td>\n",
       "      <td>69.000000</td>\n",
       "      <td>0.000000</td>\n",
       "      <td>29.180000</td>\n",
       "      <td>8.000000</td>\n",
       "      <td>5.800000</td>\n",
       "      <td>0.000000</td>\n",
       "      <td>29.210000</td>\n",
       "      <td>29.180000</td>\n",
       "      <td>...</td>\n",
       "      <td>0.000000</td>\n",
       "      <td>0.0</td>\n",
       "      <td>0.000000</td>\n",
       "      <td>0.000000</td>\n",
       "      <td>0.0</td>\n",
       "      <td>0.0</td>\n",
       "      <td>0.000000</td>\n",
       "      <td>0.0</td>\n",
       "      <td>0.000000</td>\n",
       "      <td>0.000000</td>\n",
       "    </tr>\n",
       "    <tr>\n",
       "      <th>50%</th>\n",
       "      <td>41.862292</td>\n",
       "      <td>-87.696269</td>\n",
       "      <td>73.000000</td>\n",
       "      <td>0.000000</td>\n",
       "      <td>29.260000</td>\n",
       "      <td>19.000000</td>\n",
       "      <td>7.100000</td>\n",
       "      <td>0.000000</td>\n",
       "      <td>29.280000</td>\n",
       "      <td>29.260000</td>\n",
       "      <td>...</td>\n",
       "      <td>0.000000</td>\n",
       "      <td>0.0</td>\n",
       "      <td>0.000000</td>\n",
       "      <td>0.000000</td>\n",
       "      <td>0.0</td>\n",
       "      <td>0.0</td>\n",
       "      <td>0.000000</td>\n",
       "      <td>0.0</td>\n",
       "      <td>0.000000</td>\n",
       "      <td>0.000000</td>\n",
       "    </tr>\n",
       "    <tr>\n",
       "      <th>75%</th>\n",
       "      <td>41.947227</td>\n",
       "      <td>-87.648064</td>\n",
       "      <td>78.000000</td>\n",
       "      <td>0.160000</td>\n",
       "      <td>29.340000</td>\n",
       "      <td>25.000000</td>\n",
       "      <td>9.400000</td>\n",
       "      <td>0.000000</td>\n",
       "      <td>29.380000</td>\n",
       "      <td>29.360000</td>\n",
       "      <td>...</td>\n",
       "      <td>0.000000</td>\n",
       "      <td>0.0</td>\n",
       "      <td>0.000000</td>\n",
       "      <td>0.000000</td>\n",
       "      <td>0.0</td>\n",
       "      <td>0.0</td>\n",
       "      <td>0.000000</td>\n",
       "      <td>0.0</td>\n",
       "      <td>0.000000</td>\n",
       "      <td>0.000000</td>\n",
       "    </tr>\n",
       "    <tr>\n",
       "      <th>max</th>\n",
       "      <td>42.017430</td>\n",
       "      <td>-87.531635</td>\n",
       "      <td>87.000000</td>\n",
       "      <td>3.970000</td>\n",
       "      <td>29.650000</td>\n",
       "      <td>36.000000</td>\n",
       "      <td>16.300000</td>\n",
       "      <td>1.000000</td>\n",
       "      <td>29.650000</td>\n",
       "      <td>29.650000</td>\n",
       "      <td>...</td>\n",
       "      <td>1.000000</td>\n",
       "      <td>0.0</td>\n",
       "      <td>1.000000</td>\n",
       "      <td>1.000000</td>\n",
       "      <td>0.0</td>\n",
       "      <td>0.0</td>\n",
       "      <td>1.000000</td>\n",
       "      <td>0.0</td>\n",
       "      <td>1.000000</td>\n",
       "      <td>1.000000</td>\n",
       "    </tr>\n",
       "  </tbody>\n",
       "</table>\n",
       "<p>8 rows × 239 columns</p>\n",
       "</div>"
      ],
      "text/plain": [
       "          latitude    longitude         tavg  preciptotal  stnpressure  \\\n",
       "count  8304.000000  8304.000000  8304.000000  8304.000000  8304.000000   \n",
       "mean     41.845800   -87.696229    72.093931     0.182431    29.262110   \n",
       "std       0.106658     0.084440     7.630330     0.470450     0.118606   \n",
       "min      41.644612   -87.930995    50.000000     0.000000    28.890000   \n",
       "25%      41.750498   -87.752411    69.000000     0.000000    29.180000   \n",
       "50%      41.862292   -87.696269    73.000000     0.000000    29.260000   \n",
       "75%      41.947227   -87.648064    78.000000     0.160000    29.340000   \n",
       "max      42.017430   -87.531635    87.000000     3.970000    29.650000   \n",
       "\n",
       "         resultdir     avgspeed     is_spray  stnpressure_7  stnpressure_10  \\\n",
       "count  8304.000000  8304.000000  8304.000000    8304.000000     8304.000000   \n",
       "mean     17.842245     7.476903     0.008911      29.277200       29.265990   \n",
       "std       9.433945     2.543438     0.093984       0.126573        0.142227   \n",
       "min       1.000000     2.100000     0.000000      28.890000       28.910000   \n",
       "25%       8.000000     5.800000     0.000000      29.210000       29.180000   \n",
       "50%      19.000000     7.100000     0.000000      29.280000       29.260000   \n",
       "75%      25.000000     9.400000     0.000000      29.380000       29.360000   \n",
       "max      36.000000    16.300000     1.000000      29.650000       29.650000   \n",
       "\n",
       "       ...  codesum_TSRA BR HZ VCTS  codesum_TSRA FG+ BR HZ  codesum_TSRA RA  \\\n",
       "count  ...              8304.000000                  8304.0      8304.000000   \n",
       "mean   ...                 0.006142                     0.0         0.029383   \n",
       "std    ...                 0.078132                     0.0         0.168889   \n",
       "min    ...                 0.000000                     0.0         0.000000   \n",
       "25%    ...                 0.000000                     0.0         0.000000   \n",
       "50%    ...                 0.000000                     0.0         0.000000   \n",
       "75%    ...                 0.000000                     0.0         0.000000   \n",
       "max    ...                 1.000000                     0.0         1.000000   \n",
       "\n",
       "       codesum_TSRA RA BR  codesum_TSRA RA BR HZ  codesum_TSRA RA BR HZ VCTS  \\\n",
       "count         8304.000000                 8304.0                      8304.0   \n",
       "mean             0.037211                    0.0                         0.0   \n",
       "std              0.189290                    0.0                         0.0   \n",
       "min              0.000000                    0.0                         0.0   \n",
       "25%              0.000000                    0.0                         0.0   \n",
       "50%              0.000000                    0.0                         0.0   \n",
       "75%              0.000000                    0.0                         0.0   \n",
       "max              1.000000                    0.0                         0.0   \n",
       "\n",
       "       codesum_TSRA RA BR VCTS  codesum_TSRA RA VCTS  codesum_VCTS  \\\n",
       "count              8304.000000                8304.0   8304.000000   \n",
       "mean                  0.010597                   0.0      0.003974   \n",
       "std                   0.102402                   0.0      0.062918   \n",
       "min                   0.000000                   0.0      0.000000   \n",
       "25%                   0.000000                   0.0      0.000000   \n",
       "50%                   0.000000                   0.0      0.000000   \n",
       "75%                   0.000000                   0.0      0.000000   \n",
       "max                   1.000000                   0.0      1.000000   \n",
       "\n",
       "        wnvpresent  \n",
       "count  8304.000000  \n",
       "mean      0.055034  \n",
       "std       0.228060  \n",
       "min       0.000000  \n",
       "25%       0.000000  \n",
       "50%       0.000000  \n",
       "75%       0.000000  \n",
       "max       1.000000  \n",
       "\n",
       "[8 rows x 239 columns]"
      ]
     },
     "execution_count": 27,
     "metadata": {},
     "output_type": "execute_result"
    }
   ],
   "source": [
    "train.describe()"
   ]
  },
  {
   "cell_type": "code",
   "execution_count": 28,
   "id": "2b99df22",
   "metadata": {},
   "outputs": [
    {
     "name": "stdout",
     "output_type": "stream",
     "text": [
      "<class 'pandas.core.frame.DataFrame'>\n",
      "Int64Index: 8304 entries, 0 to 8303\n",
      "Columns: 239 entries, latitude to wnvpresent\n",
      "dtypes: float64(11), int64(228)\n",
      "memory usage: 15.2 MB\n"
     ]
    }
   ],
   "source": [
    "train.info()"
   ]
  },
  {
   "cell_type": "markdown",
   "id": "a7fffede",
   "metadata": {},
   "source": [
    "### Further Split Train Data into Train and Holdout"
   ]
  },
  {
   "cell_type": "code",
   "execution_count": 29,
   "id": "0b20422d",
   "metadata": {},
   "outputs": [],
   "source": [
    "# Split train data into X (all features except wnvpresent) and y (wnvpresent)\n",
    "features = [col for col in train.columns if col != 'wnvpresent']\n",
    "X = train[features]\n",
    "y = train['wnvpresent']"
   ]
  },
  {
   "cell_type": "code",
   "execution_count": 30,
   "id": "f840f66b",
   "metadata": {},
   "outputs": [
    {
     "data": {
      "text/plain": [
       "[]"
      ]
     },
     "execution_count": 30,
     "metadata": {},
     "output_type": "execute_result"
    }
   ],
   "source": [
    "X.columns[X.isna().any()].tolist()"
   ]
  },
  {
   "cell_type": "code",
   "execution_count": 31,
   "id": "622dcd8e",
   "metadata": {},
   "outputs": [
    {
     "data": {
      "text/plain": [
       "0.0    0.944966\n",
       "1.0    0.055034\n",
       "Name: wnvpresent, dtype: float64"
      ]
     },
     "execution_count": 31,
     "metadata": {},
     "output_type": "execute_result"
    }
   ],
   "source": [
    "y.value_counts(normalize = True)"
   ]
  },
  {
   "cell_type": "markdown",
   "id": "043d9808",
   "metadata": {},
   "source": [
    "- wnvpresent is highly inbalance, with only about 5.5% of the data points having West Nile Virus. \n",
    "    - It is important to stratify proportionally to ensure that our train and holdout dataset have about the same proportion of presence and absence of West Nile Virus.\n",
    "    - We also need to use SMOTE as the accuracy of our models without SMOTE is about 95% (i.e. close to the proportion of absence of WNV)"
   ]
  },
  {
   "cell_type": "code",
   "execution_count": 32,
   "id": "ee5a32c1",
   "metadata": {},
   "outputs": [],
   "source": [
    "# Further split train data into train and holdout data\n",
    "X_train, X_holdout, y_train, y_holdout = train_test_split(\n",
    "    X, \n",
    "    y,\n",
    "    stratify = y,\n",
    "    random_state=42\n",
    ")"
   ]
  },
  {
   "cell_type": "code",
   "execution_count": 33,
   "id": "d0c0f5b1",
   "metadata": {},
   "outputs": [],
   "source": [
    "# Scale our data\n",
    "ss = StandardScaler()\n",
    "Xs_train = ss.fit_transform(X_train)\n",
    "Xs_holdout = ss.transform(X_holdout)"
   ]
  },
  {
   "cell_type": "markdown",
   "id": "7ac232dc",
   "metadata": {},
   "source": [
    "## Create synthetic data with SMOTE"
   ]
  },
  {
   "cell_type": "code",
   "execution_count": 102,
   "id": "1fbf9ba9",
   "metadata": {},
   "outputs": [],
   "source": [
    "# create synthetic data for train set\n",
    "sm = SMOTE()\n",
    "Xsm_train, ysm_train = sm.fit_resample(Xs_train, y_train)"
   ]
  },
  {
   "cell_type": "code",
   "execution_count": 103,
   "id": "4217117a",
   "metadata": {},
   "outputs": [
    {
     "data": {
      "text/plain": [
       "(11770, 238)"
      ]
     },
     "execution_count": 103,
     "metadata": {},
     "output_type": "execute_result"
    }
   ],
   "source": [
    "Xsm_train.shape"
   ]
  },
  {
   "cell_type": "markdown",
   "id": "4308775f",
   "metadata": {},
   "source": [
    "## Model Exploration"
   ]
  },
  {
   "cell_type": "markdown",
   "id": "bdc1a875",
   "metadata": {},
   "source": [
    "### Metrics to Evaluate Models"
   ]
  },
  {
   "cell_type": "code",
   "execution_count": 36,
   "id": "74cd3281",
   "metadata": {},
   "outputs": [],
   "source": [
    "# Creating a summary dataframe.\n",
    "summary_df = pd.DataFrame(columns=[\n",
    "    'model', \n",
    "    'best_score', \n",
    "    'train_score',\n",
    "    'holdout_score',\n",
    "    'sensitivity',\n",
    "    'specificity',\n",
    "    'precision',\n",
    "    'f1_score',\n",
    "    'best_params', \n",
    "])"
   ]
  },
  {
   "cell_type": "code",
   "execution_count": 37,
   "id": "07b1fed9",
   "metadata": {},
   "outputs": [
    {
     "data": {
      "text/html": [
       "<div>\n",
       "<style scoped>\n",
       "    .dataframe tbody tr th:only-of-type {\n",
       "        vertical-align: middle;\n",
       "    }\n",
       "\n",
       "    .dataframe tbody tr th {\n",
       "        vertical-align: top;\n",
       "    }\n",
       "\n",
       "    .dataframe thead th {\n",
       "        text-align: right;\n",
       "    }\n",
       "</style>\n",
       "<table border=\"1\" class=\"dataframe\">\n",
       "  <thead>\n",
       "    <tr style=\"text-align: right;\">\n",
       "      <th></th>\n",
       "      <th>model</th>\n",
       "      <th>best_score</th>\n",
       "      <th>train_score</th>\n",
       "      <th>holdout_score</th>\n",
       "      <th>sensitivity</th>\n",
       "      <th>specificity</th>\n",
       "      <th>precision</th>\n",
       "      <th>f1_score</th>\n",
       "      <th>best_params</th>\n",
       "    </tr>\n",
       "  </thead>\n",
       "  <tbody>\n",
       "  </tbody>\n",
       "</table>\n",
       "</div>"
      ],
      "text/plain": [
       "Empty DataFrame\n",
       "Columns: [model, best_score, train_score, holdout_score, sensitivity, specificity, precision, f1_score, best_params]\n",
       "Index: []"
      ]
     },
     "execution_count": 37,
     "metadata": {},
     "output_type": "execute_result"
    }
   ],
   "source": [
    "summary_df"
   ]
  },
  {
   "cell_type": "code",
   "execution_count": 38,
   "id": "39977633",
   "metadata": {},
   "outputs": [],
   "source": [
    "def model_metrics(gs, X_train, y_train, X_test, y_test, modelname):\n",
    "    '''Generates confusion matrix and adds scores to summary_df'''\n",
    "    \n",
    "    #Generate confusion matrix\n",
    "    y_pred = gs.predict(X_test)\n",
    "    confusion_matrix(y_test, # True values.\n",
    "                     y_pred)  # Predicted values.\n",
    "    tn, fp, fn, tp = confusion_matrix(y_test, y_pred).ravel();\n",
    "    y_train_pred_prob = gs.predict_proba(X_train)[:,1]\n",
    "    y_test_pred_prob = gs.predict_proba(X_test)[:,1]\n",
    "    \n",
    "    summary_df_rows = summary_df.shape[0]\n",
    "    # Adding the scores into summary_df\n",
    "    summary_df.loc[summary_df_rows] = [\n",
    "        modelname,\n",
    "        #'CountVec/LogisticRegression',\n",
    "        round(gs.best_score_, 3),\n",
    "        round(metrics.roc_auc_score(y_train, y_train_pred_prob),3),\n",
    "        round(metrics.roc_auc_score(y_test, y_test_pred_prob),3),\n",
    "        round(metrics.recall_score(y_test, y_pred),3),\n",
    "        round(tn/(tn+fp),3),\n",
    "        round(tp / (tp + fp), 3),\n",
    "        round(metrics.f1_score(y_test, y_pred),3),\n",
    "        str(gs.best_params_),\n",
    "    ]\n",
    "    \n",
    "    \n",
    "    \n",
    "    # Plot Confusion Matrix\n",
    "    plot_confusion_matrix(gs, X_test, y_test, cmap='Blues', \n",
    "                          display_labels=['WNV Present', 'WNV Not Present'],\n",
    "                          normalize='true');  \n",
    "    plt.title(label=modelname, fontsize=14)\n",
    "    plt.grid(False)"
   ]
  },
  {
   "cell_type": "code",
   "execution_count": 39,
   "id": "25b152a5",
   "metadata": {},
   "outputs": [],
   "source": [
    "def model_metrics_2(gs, X_train, y_train, X_test, y_test, modelname):\n",
    "    '''Generates confusion matrix and adds scores to summary_df'''\n",
    "    \n",
    "    #Generate confusion matrix\n",
    "    y_pred = gs.predict(X_test)\n",
    "    confusion_matrix(y_test, # True values.\n",
    "                     y_pred)  # Predicted values.\n",
    "    tn, fp, fn, tp = confusion_matrix(y_test, y_pred).ravel();\n",
    "    \n",
    "    # y_train_pred_prob = gs.predict_proba(X_train)[:,1]\n",
    "    # y_test_pred_prob = gs.predict_proba(X_test)[:,1]\n",
    "    \n",
    "    summary_df_rows = summary_df.shape[0]\n",
    "    # Adding the scores into summary_df\n",
    "    summary_df.loc[summary_df_rows] = [\n",
    "        modelname,\n",
    "        #'CountVec/LogisticRegression',\n",
    "        round(gs.best_score_, 3),\n",
    "        round(gs.score(X_train, y_train), 3),\n",
    "        round(gs.score(X_test, y_test), 3),\n",
    "        # round(metrics.roc_auc_score(y_train, y_train_pred_prob),3),\n",
    "        # round(metrics.roc_auc_score(y_test, y_test_pred_prob),3),\n",
    "        round(metrics.recall_score(y_test, y_pred),3),\n",
    "        round(tn/(tn+fp),3),\n",
    "        round(tp / (tp + fp), 3),\n",
    "        round(metrics.f1_score(y_test, y_pred),3),\n",
    "        str(gs.best_params_),\n",
    "    ]\n",
    "        \n",
    "    # Plot Confusion Matrix\n",
    "    plot_confusion_matrix(gs, X_test, y_test, cmap='Blues', \n",
    "                          display_labels=['WNV Present', 'WNV Not Present'],\n",
    "                          normalize='true');  \n",
    "    plt.title(label=modelname, fontsize=14)\n",
    "    plt.grid(False)"
   ]
  },
  {
   "cell_type": "code",
   "execution_count": null,
   "id": "67f659fe",
   "metadata": {},
   "outputs": [],
   "source": []
  },
  {
   "cell_type": "code",
   "execution_count": null,
   "id": "4f2cb6c0",
   "metadata": {},
   "outputs": [],
   "source": []
  },
  {
   "cell_type": "code",
   "execution_count": null,
   "id": "b6806f76",
   "metadata": {},
   "outputs": [],
   "source": []
  },
  {
   "cell_type": "code",
   "execution_count": null,
   "id": "61854777",
   "metadata": {},
   "outputs": [],
   "source": []
  },
  {
   "cell_type": "code",
   "execution_count": null,
   "id": "87018e90",
   "metadata": {},
   "outputs": [],
   "source": []
  },
  {
   "cell_type": "code",
   "execution_count": null,
   "id": "fbcbcccd",
   "metadata": {},
   "outputs": [],
   "source": []
  },
  {
   "cell_type": "code",
   "execution_count": null,
   "id": "49dddb88",
   "metadata": {},
   "outputs": [],
   "source": []
  },
  {
   "cell_type": "markdown",
   "id": "d238642b",
   "metadata": {},
   "source": [
    "### Checking for the importance of using SMOTE"
   ]
  },
  {
   "cell_type": "markdown",
   "id": "b29be1f0",
   "metadata": {},
   "source": [
    "We realize that the positive of interest, WNV, only appears in about 6% of our dataset. There might not be enough true positives to train our modelling. We will therefore use SMOTE , Synthetic Minority Oversampling TEchnique to attempt to overcome this deficit."
   ]
  },
  {
   "cell_type": "markdown",
   "id": "7fc02dc0",
   "metadata": {},
   "source": [
    "### Basic Logistic Regression w/o SMOTE"
   ]
  },
  {
   "cell_type": "code",
   "execution_count": 196,
   "id": "23641bab",
   "metadata": {
    "scrolled": true
   },
   "outputs": [
    {
     "name": "stdout",
     "output_type": "stream",
     "text": [
      "Logistic Regression Intercept: [-5.18323133]\n"
     ]
    },
    {
     "name": "stderr",
     "output_type": "stream",
     "text": [
      "C:\\Users\\Asus\\anaconda3\\envs\\dsi\\envs\\dsi27tf\\lib\\site-packages\\sklearn\\linear_model\\_logistic.py:818: ConvergenceWarning: lbfgs failed to converge (status=1):\n",
      "STOP: TOTAL NO. of ITERATIONS REACHED LIMIT.\n",
      "\n",
      "Increase the number of iterations (max_iter) or scale the data as shown in:\n",
      "    https://scikit-learn.org/stable/modules/preprocessing.html\n",
      "Please also refer to the documentation for alternative solver options:\n",
      "    https://scikit-learn.org/stable/modules/linear_model.html#logistic-regression\n",
      "  extra_warning_msg=_LOGISTIC_SOLVER_CONVERGENCE_MSG,\n"
     ]
    }
   ],
   "source": [
    "# Instantiate model\n",
    "logreg = LogisticRegression()\n",
    "\n",
    "# Fit model\n",
    "logreg.fit(Xs_train, y_train)\n",
    "\n",
    "print(f'Logistic Regression Intercept: {logreg.intercept_}')\n"
   ]
  },
  {
   "cell_type": "code",
   "execution_count": 128,
   "id": "ab9ae47b",
   "metadata": {},
   "outputs": [],
   "source": []
  },
  {
   "cell_type": "code",
   "execution_count": 129,
   "id": "28c0e34c",
   "metadata": {},
   "outputs": [
    {
     "data": {
      "image/png": "[encoded data removed]",
      "text/plain": [
       "<Figure size 720x864 with 1 Axes>"
      ]
     },
     "metadata": {
      "needs_background": "light"
     },
     "output_type": "display_data"
    }
   ],
   "source": []
  },
  {
   "cell_type": "code",
   "execution_count": 130,
   "id": "4c910614",
   "metadata": {},
   "outputs": [
    {
     "data": {
      "text/plain": [
       "(0.9449261400128453, 0.9436416184971098)"
      ]
     },
     "execution_count": 130,
     "metadata": {},
     "output_type": "execute_result"
    }
   ],
   "source": [
    "logreg.score(Xs_train, y_train), logreg.score(Xs_holdout, y_holdout)"
   ]
  },
  {
   "cell_type": "code",
   "execution_count": 131,
   "id": "8740b39f",
   "metadata": {},
   "outputs": [
    {
     "name": "stdout",
     "output_type": "stream",
     "text": [
      "LogisticRegression summary of accuracy scores:\n",
      "\n",
      "Using GridSearchCV best params suggested,\n",
      "Training corpus accuracy = 0.055\n",
      "Testing corpus accuracy = 0.055\n"
     ]
    },
    {
     "name": "stderr",
     "output_type": "stream",
     "text": [
      "C:\\Users\\Asus\\anaconda3\\envs\\dsi\\envs\\dsi27tf\\lib\\site-packages\\sklearn\\base.py:444: UserWarning: X has feature names, but LogisticRegression was fitted without feature names\n",
      "  f\"X has feature names, but {self.__class__.__name__} was fitted without\"\n",
      "C:\\Users\\Asus\\anaconda3\\envs\\dsi\\envs\\dsi27tf\\lib\\site-packages\\sklearn\\base.py:444: UserWarning: X has feature names, but LogisticRegression was fitted without feature names\n",
      "  f\"X has feature names, but {self.__class__.__name__} was fitted without\"\n"
     ]
    }
   ],
   "source": [
    "# Summary scores of CountVectorizer and LogisticRegression.\n",
    "print(\"LogisticRegression summary of accuracy scores:\")\n",
    "#print(f\"GridSearchCV best accuracy = {round(gs_pipe.best_score_, 3)}\")\n",
    "print(\"\\nUsing GridSearchCV best params suggested,\")\n",
    "print(f\"Training corpus accuracy = {round(logreg.score(X_train, y_train), 3)}\")\n",
    "print(f\"Testing corpus accuracy = {round(logreg.score(X_holdout, y_holdout), 3)}\")"
   ]
  },
  {
   "cell_type": "code",
   "execution_count": 132,
   "id": "a04fd019",
   "metadata": {},
   "outputs": [],
   "source": [
    "con1 = confusion_matrix(y_holdout, preds_logreg)"
   ]
  },
  {
   "cell_type": "code",
   "execution_count": 133,
   "id": "342d524a",
   "metadata": {},
   "outputs": [
    {
     "data": {
      "image/png": "[encoded data removed]",
      "text/plain": [
       "<Figure size 432x288 with 2 Axes>"
      ]
     },
     "metadata": {
      "needs_background": "light"
     },
     "output_type": "display_data"
    }
   ],
   "source": [
    "ax = sns.heatmap(con1, annot=True, cmap='Blues')\n",
    "\n",
    "ax.set_title('Log Reg without SMOTE');\n",
    "ax.set_xlabel('\\nPredicted Values')\n",
    "ax.set_ylabel('Actual Values ');\n",
    "\n",
    "## Ticket labels - List must be in alphabetical order\n",
    "ax.xaxis.set_ticklabels(['False','True'])\n",
    "ax.yaxis.set_ticklabels(['False','True'])\n",
    "\n",
    "## Display the visualization of the Confusion Matrix.\n",
    "plt.show()"
   ]
  },
  {
   "cell_type": "code",
   "execution_count": 134,
   "id": "1bed3898",
   "metadata": {},
   "outputs": [],
   "source": [
    "# Get predictions, confusion matrix\n",
    "preds_logreg = logreg.predict(Xs_holdout)\n",
    "# Save confusion matrix values\n",
    "tn, fp, fn, tp = confusion_matrix(y_holdout, preds_logreg).ravel()\n",
    "# Calculate the specificity, sensitivity, precision, f1 score\n",
    "acc = (tn + tp) / (tn + fp + fn + tp)\n",
    "sens = tp / (tp + fn)\n",
    "spec = tn / (tn + fp)\n",
    "prec = tp / (tp + fp)\n",
    "f1 = 2 * (prec*sens) / (prec + sens)"
   ]
  },
  {
   "cell_type": "code",
   "execution_count": 135,
   "id": "49ccc8d9",
   "metadata": {
    "scrolled": true
   },
   "outputs": [
    {
     "data": {
      "text/plain": [
       "0.9436416184971098"
      ]
     },
     "execution_count": 135,
     "metadata": {},
     "output_type": "execute_result"
    }
   ],
   "source": [
    "acc"
   ]
  },
  {
   "cell_type": "code",
   "execution_count": 136,
   "id": "9a9a1f6f",
   "metadata": {},
   "outputs": [
    {
     "data": {
      "text/plain": [
       "0.09649122807017543"
      ]
     },
     "execution_count": 136,
     "metadata": {},
     "output_type": "execute_result"
    }
   ],
   "source": [
    "sens"
   ]
  },
  {
   "cell_type": "code",
   "execution_count": 137,
   "id": "fe71825c",
   "metadata": {},
   "outputs": [
    {
     "data": {
      "text/plain": [
       "0.9928644240570846"
      ]
     },
     "execution_count": 137,
     "metadata": {},
     "output_type": "execute_result"
    }
   ],
   "source": [
    "spec"
   ]
  },
  {
   "cell_type": "code",
   "execution_count": 138,
   "id": "f737a93b",
   "metadata": {},
   "outputs": [
    {
     "data": {
      "text/plain": [
       "0.44"
      ]
     },
     "execution_count": 138,
     "metadata": {},
     "output_type": "execute_result"
    }
   ],
   "source": [
    "prec"
   ]
  },
  {
   "cell_type": "code",
   "execution_count": 139,
   "id": "a4aae50e",
   "metadata": {},
   "outputs": [
    {
     "data": {
      "text/plain": [
       "0.15827338129496402"
      ]
     },
     "execution_count": 139,
     "metadata": {},
     "output_type": "execute_result"
    }
   ],
   "source": [
    "f1"
   ]
  },
  {
   "cell_type": "code",
   "execution_count": null,
   "id": "499f7a96",
   "metadata": {},
   "outputs": [],
   "source": []
  },
  {
   "cell_type": "code",
   "execution_count": null,
   "id": "d91ebcb9",
   "metadata": {},
   "outputs": [],
   "source": [
    "summary_df.loc[summary_df_rows] = [\n",
    "    modelname,\n",
    "    #'CountVec/LogisticRegression',\n",
    "    round(gs.best_score_, 3),\n",
    "    round(gs.score(X_train, y_train), 3),\n",
    "    round(gs.score(X_test, y_test), 3),\n",
    "    # round(metrics.roc_auc_score(y_train, y_train_pred_prob),3),\n",
    "    # round(metrics.roc_auc_score(y_test, y_test_pred_prob),3),\n",
    "    round(metrics.recall_score(y_test, y_pred),3),\n",
    "    round(tn/(tn+fp),3),\n",
    "    round(tp / (tp + fp), 3),\n",
    "    round(metrics.f1_score(y_test, y_pred),3),\n",
    "    str(gs.best_params_),\n",
    "]"
   ]
  },
  {
   "cell_type": "code",
   "execution_count": 140,
   "id": "a912af36",
   "metadata": {},
   "outputs": [],
   "source": [
    "summary_df = pd.DataFrame(columns=[\n",
    "    'model', \n",
    "    'best_score', \n",
    "    'train_score',\n",
    "    'holdout_score',\n",
    "    'sensitivity',\n",
    "    'specificity',\n",
    "    'precision',\n",
    "    'f1_score',\n",
    "    'best_params', \n",
    "])"
   ]
  },
  {
   "cell_type": "markdown",
   "id": "9e35536c",
   "metadata": {},
   "source": [
    "### Basic Logistic Regression w/ SMOTE"
   ]
  },
  {
   "cell_type": "code",
   "execution_count": 195,
   "id": "3d9d62c9",
   "metadata": {},
   "outputs": [
    {
     "name": "stdout",
     "output_type": "stream",
     "text": [
      "Logistic Regression Intercept: [-4.06501527]\n"
     ]
    },
    {
     "name": "stderr",
     "output_type": "stream",
     "text": [
      "C:\\Users\\Asus\\anaconda3\\envs\\dsi\\envs\\dsi27tf\\lib\\site-packages\\sklearn\\linear_model\\_logistic.py:818: ConvergenceWarning: lbfgs failed to converge (status=1):\n",
      "STOP: TOTAL NO. of ITERATIONS REACHED LIMIT.\n",
      "\n",
      "Increase the number of iterations (max_iter) or scale the data as shown in:\n",
      "    https://scikit-learn.org/stable/modules/preprocessing.html\n",
      "Please also refer to the documentation for alternative solver options:\n",
      "    https://scikit-learn.org/stable/modules/linear_model.html#logistic-regression\n",
      "  extra_warning_msg=_LOGISTIC_SOLVER_CONVERGENCE_MSG,\n"
     ]
    }
   ],
   "source": [
    "# Instantiate model\n",
    "logreg2 = LogisticRegression()\n",
    "\n",
    "# Fit model\n",
    "logreg2.fit(Xsm_train, ysm_train)\n",
    "\n",
    "print(f'Logistic Regression Intercept: {logreg2.intercept_}')"
   ]
  },
  {
   "cell_type": "code",
   "execution_count": 142,
   "id": "7dd13232",
   "metadata": {},
   "outputs": [
    {
     "data": {
      "text/plain": [
       "(0.8618521665250637, 0.7957610789980732)"
      ]
     },
     "execution_count": 142,
     "metadata": {},
     "output_type": "execute_result"
    }
   ],
   "source": [
    "#log-reg of with-week data, with SMOTE\n",
    "logreg2.score(Xsm_train, ysm_train), logreg2.score(Xs_holdout, y_holdout)"
   ]
  },
  {
   "cell_type": "code",
   "execution_count": 143,
   "id": "e244de17",
   "metadata": {},
   "outputs": [],
   "source": [
    "# Get predictions, confusion matrix\n",
    "preds_logreg2 = logreg2.predict(Xs_holdout)\n",
    "# Save confusion matrix values\n",
    "tn, fp, fn, tp = confusion_matrix(y_holdout, preds_logreg2).ravel()"
   ]
  },
  {
   "cell_type": "code",
   "execution_count": 144,
   "id": "ea06ff4f",
   "metadata": {},
   "outputs": [],
   "source": [
    "# Calculate the specificity, sensitivity, precision, f1 score\n",
    "acc = (tn + tp) / (tn + fp + fn + tp)\n",
    "sens = tp / (tp + fn)\n",
    "spec = tn / (tn + fp)\n",
    "prec = tp / (tp + fp)\n",
    "f1 = 2 * (prec*sens) / (prec + sens)"
   ]
  },
  {
   "cell_type": "code",
   "execution_count": 145,
   "id": "08ae833d",
   "metadata": {},
   "outputs": [],
   "source": [
    "con2 = confusion_matrix(y_holdout, preds_logreg2)"
   ]
  },
  {
   "cell_type": "code",
   "execution_count": 146,
   "id": "7257620d",
   "metadata": {},
   "outputs": [
    {
     "data": {
      "image/png": "[encoded data removed]",
      "text/plain": [
       "<Figure size 432x288 with 2 Axes>"
      ]
     },
     "metadata": {
      "needs_background": "light"
     },
     "output_type": "display_data"
    }
   ],
   "source": [
    "ax = sns.heatmap(con2, annot=True, cmap='Blues')\n",
    "\n",
    "ax.set_title('Log Reg without SMOTE');\n",
    "ax.set_xlabel('\\nPredicted Values')\n",
    "ax.set_ylabel('Actual Values ');\n",
    "\n",
    "## Ticket labels - List must be in alphabetical order\n",
    "ax.xaxis.set_ticklabels(['False','True'])\n",
    "ax.yaxis.set_ticklabels(['False','True'])\n",
    "\n",
    "## Display the visualization of the Confusion Matrix.\n",
    "plt.show()"
   ]
  },
  {
   "cell_type": "code",
   "execution_count": null,
   "id": "55eb907d",
   "metadata": {},
   "outputs": [],
   "source": [
    "# with weeks, with smote"
   ]
  },
  {
   "cell_type": "code",
   "execution_count": 147,
   "id": "34434aaa",
   "metadata": {},
   "outputs": [
    {
     "data": {
      "text/plain": [
       "0.7957610789980732"
      ]
     },
     "execution_count": 147,
     "metadata": {},
     "output_type": "execute_result"
    }
   ],
   "source": [
    "acc"
   ]
  },
  {
   "cell_type": "code",
   "execution_count": 148,
   "id": "b4639133",
   "metadata": {},
   "outputs": [
    {
     "data": {
      "text/plain": [
       "0.631578947368421"
      ]
     },
     "execution_count": 148,
     "metadata": {},
     "output_type": "execute_result"
    }
   ],
   "source": [
    "sens"
   ]
  },
  {
   "cell_type": "code",
   "execution_count": 149,
   "id": "ef31d176",
   "metadata": {},
   "outputs": [
    {
     "data": {
      "text/plain": [
       "0.8053007135575942"
      ]
     },
     "execution_count": 149,
     "metadata": {},
     "output_type": "execute_result"
    }
   ],
   "source": [
    "spec"
   ]
  },
  {
   "cell_type": "code",
   "execution_count": 150,
   "id": "b581cdb2",
   "metadata": {},
   "outputs": [
    {
     "data": {
      "text/plain": [
       "0.15859030837004406"
      ]
     },
     "execution_count": 150,
     "metadata": {},
     "output_type": "execute_result"
    }
   ],
   "source": [
    "prec"
   ]
  },
  {
   "cell_type": "code",
   "execution_count": 151,
   "id": "10968a65",
   "metadata": {},
   "outputs": [
    {
     "data": {
      "text/plain": [
       "0.2535211267605634"
      ]
     },
     "execution_count": 151,
     "metadata": {},
     "output_type": "execute_result"
    }
   ],
   "source": [
    "f1"
   ]
  },
  {
   "cell_type": "code",
   "execution_count": 159,
   "id": "fe4e6d2a",
   "metadata": {},
   "outputs": [],
   "source": [
    "dataframe = pd.DataFrame(columns = [\"modelname\",\"acc\", \"sens\", \"spec\", \"prec\", \"f1\"])"
   ]
  },
  {
   "cell_type": "code",
   "execution_count": 160,
   "id": "24371fb1",
   "metadata": {},
   "outputs": [
    {
     "data": {
      "text/html": [
       "<div>\n",
       "<style scoped>\n",
       "    .dataframe tbody tr th:only-of-type {\n",
       "        vertical-align: middle;\n",
       "    }\n",
       "\n",
       "    .dataframe tbody tr th {\n",
       "        vertical-align: top;\n",
       "    }\n",
       "\n",
       "    .dataframe thead th {\n",
       "        text-align: right;\n",
       "    }\n",
       "</style>\n",
       "<table border=\"1\" class=\"dataframe\">\n",
       "  <thead>\n",
       "    <tr style=\"text-align: right;\">\n",
       "      <th></th>\n",
       "      <th>modelname</th>\n",
       "      <th>acc</th>\n",
       "      <th>sens</th>\n",
       "      <th>spec</th>\n",
       "      <th>prec</th>\n",
       "      <th>f1</th>\n",
       "    </tr>\n",
       "  </thead>\n",
       "  <tbody>\n",
       "  </tbody>\n",
       "</table>\n",
       "</div>"
      ],
      "text/plain": [
       "Empty DataFrame\n",
       "Columns: [modelname, acc, sens, spec, prec, f1]\n",
       "Index: []"
      ]
     },
     "execution_count": 160,
     "metadata": {},
     "output_type": "execute_result"
    }
   ],
   "source": [
    "dataframe"
   ]
  },
  {
   "cell_type": "code",
   "execution_count": null,
   "id": "1c7744e5",
   "metadata": {},
   "outputs": [],
   "source": []
  },
  {
   "cell_type": "markdown",
   "id": "c262831a",
   "metadata": {},
   "source": [
    "We observe that the accuracy has decreased from 0.94364 to 0.79576, which means that we are not predicting true positives or true negatives accurately as often. However, we observe that our sensitivity, which is our true positive over the sum of true positive and false negatives, has increased from the low value of 0.09649 to 0.63158. That means that roughly 63.1% of the WNV positive traps can be caught by our model, compared to about 9.6% previously. Therefore, we would prefer to be using SMOTE in order to capture more WNV points for effective control. "
   ]
  },
  {
   "cell_type": "markdown",
   "id": "d72ba4ba",
   "metadata": {},
   "source": [
    "### Testing of importance of week data"
   ]
  },
  {
   "cell_type": "code",
   "execution_count": 171,
   "id": "df0b6335",
   "metadata": {},
   "outputs": [],
   "source": [
    "df2 = df.copy()"
   ]
  },
  {
   "cell_type": "code",
   "execution_count": 172,
   "id": "047b8b4d",
   "metadata": {},
   "outputs": [],
   "source": [
    "df2.drop(columns = ['week_23',\n",
    " 'week_24',\n",
    " 'week_25',\n",
    " 'week_26',\n",
    " 'week_27',\n",
    " 'week_28',\n",
    " 'week_29',\n",
    " 'week_30',\n",
    " 'week_31',\n",
    " 'week_32',\n",
    " 'week_33',\n",
    " 'week_34',\n",
    " 'week_35',\n",
    " 'week_36',\n",
    " 'week_37',\n",
    " 'week_38',\n",
    " 'week_39',\n",
    " 'week_40',\n",
    " 'week_41',], inplace = True)"
   ]
  },
  {
   "cell_type": "code",
   "execution_count": 173,
   "id": "782e9df8",
   "metadata": {},
   "outputs": [
    {
     "name": "stdout",
     "output_type": "stream",
     "text": [
      "(8304, 221)\n",
      "(43035, 221)\n"
     ]
    }
   ],
   "source": [
    "train2 = df2[df2['dataset']=='train'].copy()\n",
    "test2 = df2[df2['dataset']=='test'].copy()\n",
    "print(train2.shape)\n",
    "print(test2.shape)"
   ]
  },
  {
   "cell_type": "code",
   "execution_count": 174,
   "id": "14402f67",
   "metadata": {},
   "outputs": [],
   "source": [
    "# Split train data into X (all features except wnvpresent) and y (wnvpresent)\n",
    "features = [col for col in train2.columns if col != 'wnvpresent']\n",
    "X2 = train2[features]\n",
    "y2 = train2['wnvpresent']"
   ]
  },
  {
   "cell_type": "code",
   "execution_count": 175,
   "id": "13b9548b",
   "metadata": {},
   "outputs": [
    {
     "name": "stderr",
     "output_type": "stream",
     "text": [
      "C:\\Users\\Asus\\anaconda3\\envs\\dsi\\envs\\dsi27tf\\lib\\site-packages\\pandas\\core\\frame.py:4913: SettingWithCopyWarning: \n",
      "A value is trying to be set on a copy of a slice from a DataFrame\n",
      "\n",
      "See the caveats in the documentation: https://pandas.pydata.org/pandas-docs/stable/user_guide/indexing.html#returning-a-view-versus-a-copy\n",
      "  errors=errors,\n"
     ]
    }
   ],
   "source": [
    "X2.drop(columns = [\"dataset\"],inplace = True)"
   ]
  },
  {
   "cell_type": "code",
   "execution_count": 176,
   "id": "bfa57092",
   "metadata": {},
   "outputs": [],
   "source": [
    "# Further split train data into train and holdout data\n",
    "X_train2, X_holdout2, y_train2, y_holdout2 = train_test_split(\n",
    "    X2, \n",
    "    y2,\n",
    "    stratify = y2,\n",
    "    random_state=42\n",
    ")"
   ]
  },
  {
   "cell_type": "code",
   "execution_count": 177,
   "id": "d0c88499",
   "metadata": {},
   "outputs": [],
   "source": [
    "# Scale our data\n",
    "ss = StandardScaler()\n",
    "Xs_train2 = ss.fit_transform(X_train2)\n",
    "Xs_holdout2 = ss.transform(X_holdout2)"
   ]
  },
  {
   "cell_type": "code",
   "execution_count": 178,
   "id": "d80d39aa",
   "metadata": {},
   "outputs": [],
   "source": [
    "# create synthetic data for train set\n",
    "sm = SMOTE()\n",
    "Xsm_train2, ysm_train2 = sm.fit_resample(Xs_train2, y_train2)"
   ]
  },
  {
   "cell_type": "code",
   "execution_count": 194,
   "id": "fd770746",
   "metadata": {},
   "outputs": [
    {
     "name": "stdout",
     "output_type": "stream",
     "text": [
      "Logistic Regression Intercept: [-2.67842594]\n"
     ]
    }
   ],
   "source": [
    "logreg = LogisticRegression(max_iter=10_000)\n",
    "\n",
    "# Fit model\n",
    "logreg.fit(Xsm_train2, ysm_train2)\n",
    "\n",
    "print(f'Logistic Regression Intercept: {logreg.intercept_}')"
   ]
  },
  {
   "cell_type": "code",
   "execution_count": 181,
   "id": "a3fad5c8",
   "metadata": {},
   "outputs": [
    {
     "data": {
      "text/plain": [
       "(0.8405267629566695, 0.7726396917148363)"
      ]
     },
     "execution_count": 181,
     "metadata": {},
     "output_type": "execute_result"
    }
   ],
   "source": [
    "#logreg of no-week data, with SMOTE\n",
    "logreg.score(Xsm_train2, ysm_train2), logreg.score(Xs_holdout2, y_holdout2)"
   ]
  },
  {
   "cell_type": "code",
   "execution_count": 185,
   "id": "f82329db",
   "metadata": {},
   "outputs": [],
   "source": [
    "# Get predictions, confusion matrix\n",
    "preds_logreg_noweek = logreg.predict(Xs_holdout2)\n",
    "# Save confusion matrix values\n",
    "tn, fp, fn, tp = confusion_matrix(y_holdout2, preds_logreg_noweek).ravel()\n",
    "# Calculate the specificity, sensitivity, precision, f1 score\n",
    "acc = (tn + tp) / (tn + fp + fn + tp)\n",
    "sens = tp / (tp + fn)\n",
    "spec = tn / (tn + fp)\n",
    "prec = tp / (tp + fp)\n",
    "f1 = 2 * (prec*sens) / (prec + sens)\n",
    "\n"
   ]
  },
  {
   "cell_type": "code",
   "execution_count": 186,
   "id": "0d82738d",
   "metadata": {},
   "outputs": [
    {
     "data": {
      "image/png": "[encoded data removed]",
      "text/plain": [
       "<Figure size 432x288 with 2 Axes>"
      ]
     },
     "metadata": {
      "needs_background": "light"
     },
     "output_type": "display_data"
    }
   ],
   "source": [
    "con3 = confusion_matrix(y_holdout2, preds_logreg_noweek)\n",
    "\n",
    "ax = sns.heatmap(con3, annot=True, cmap='Blues')\n",
    "\n",
    "ax.set_title('Log Reg SMOTE no weeks');\n",
    "ax.set_xlabel('\\nPredicted Values')\n",
    "ax.set_ylabel('Actual Values ');\n",
    "\n",
    "## Ticket labels - List must be in alphabetical order\n",
    "ax.xaxis.set_ticklabels(['False','True'])\n",
    "ax.yaxis.set_ticklabels(['False','True'])\n",
    "\n",
    "## Display the visualization of the Confusion Matrix.\n",
    "plt.show()"
   ]
  },
  {
   "cell_type": "code",
   "execution_count": null,
   "id": "9aaf735a",
   "metadata": {},
   "outputs": [],
   "source": [
    "# no weeks, with smote"
   ]
  },
  {
   "cell_type": "code",
   "execution_count": 187,
   "id": "ae29f526",
   "metadata": {},
   "outputs": [
    {
     "data": {
      "text/plain": [
       "0.7726396917148363"
      ]
     },
     "execution_count": 187,
     "metadata": {},
     "output_type": "execute_result"
    }
   ],
   "source": [
    "acc"
   ]
  },
  {
   "cell_type": "code",
   "execution_count": 188,
   "id": "434fca35",
   "metadata": {},
   "outputs": [
    {
     "data": {
      "text/plain": [
       "0.6578947368421053"
      ]
     },
     "execution_count": 188,
     "metadata": {},
     "output_type": "execute_result"
    }
   ],
   "source": [
    "sens"
   ]
  },
  {
   "cell_type": "code",
   "execution_count": 189,
   "id": "1ea0b5e5",
   "metadata": {},
   "outputs": [
    {
     "data": {
      "text/plain": [
       "0.7793068297655453"
      ]
     },
     "execution_count": 189,
     "metadata": {},
     "output_type": "execute_result"
    }
   ],
   "source": [
    "spec"
   ]
  },
  {
   "cell_type": "code",
   "execution_count": 190,
   "id": "8a29e2a9",
   "metadata": {},
   "outputs": [
    {
     "data": {
      "text/plain": [
       "0.14763779527559054"
      ]
     },
     "execution_count": 190,
     "metadata": {},
     "output_type": "execute_result"
    }
   ],
   "source": [
    "prec"
   ]
  },
  {
   "cell_type": "code",
   "execution_count": 191,
   "id": "5f3d64e2",
   "metadata": {},
   "outputs": [
    {
     "data": {
      "text/plain": [
       "0.24115755627009647"
      ]
     },
     "execution_count": 191,
     "metadata": {},
     "output_type": "execute_result"
    }
   ],
   "source": [
    "f1"
   ]
  },
  {
   "cell_type": "markdown",
   "id": "e9dfee6e",
   "metadata": {},
   "source": [
    "Previously, accuracy was 0.7958, sensitivity was 0.6316, specificity  was 0.8053, precision was 0.1586, and f1 score was 0.2535.\n",
    "\n",
    "Without weeks, our accuracy has dropped from 79.6% to 77.3%, but our sensitivity has increased to about 65.8% compared to 63.2%.\n",
    "\n",
    "Given that the values are rather similar, we would be inclined to drop the weeks so that we can generalise our results to years where the weather patterns are not similar for the weeks within. Using weather data would be a better model to account for any climate changes or erratic weather."
   ]
  },
  {
   "cell_type": "code",
   "execution_count": null,
   "id": "2935b215",
   "metadata": {},
   "outputs": [],
   "source": []
  },
  {
   "cell_type": "code",
   "execution_count": 197,
   "id": "3b61ab69",
   "metadata": {},
   "outputs": [],
   "source": [
    "df = df2.copy()"
   ]
  },
  {
   "cell_type": "code",
   "execution_count": 198,
   "id": "f77382d2",
   "metadata": {},
   "outputs": [
    {
     "name": "stdout",
     "output_type": "stream",
     "text": [
      "(8304, 221)\n",
      "(43035, 221)\n"
     ]
    }
   ],
   "source": [
    "# Split into train and test (kaggle) data \n",
    "train = df[df['dataset']=='train'].copy()\n",
    "test = df[df['dataset']=='test'].copy()\n",
    "print(train.shape)\n",
    "print(test.shape)"
   ]
  },
  {
   "cell_type": "code",
   "execution_count": 199,
   "id": "fcb846c8",
   "metadata": {},
   "outputs": [],
   "source": [
    "train.drop(columns='dataset', inplace=True)\n",
    "test.drop(columns='dataset', inplace=True)"
   ]
  },
  {
   "cell_type": "code",
   "execution_count": 200,
   "id": "73ad71b5",
   "metadata": {},
   "outputs": [],
   "source": [
    "# Split train data into X (all features except wnvpresent) and y (wnvpresent)\n",
    "features = [col for col in train.columns if col != 'wnvpresent']\n",
    "X = train[features]\n",
    "y = train['wnvpresent']"
   ]
  },
  {
   "cell_type": "code",
   "execution_count": 201,
   "id": "c1244b9e",
   "metadata": {},
   "outputs": [],
   "source": [
    "# Further split train data into train and holdout data\n",
    "X_train, X_holdout, y_train, y_holdout = train_test_split(\n",
    "    X, \n",
    "    y,\n",
    "    stratify = y,\n",
    "    random_state=42\n",
    ")"
   ]
  },
  {
   "cell_type": "code",
   "execution_count": 202,
   "id": "46cd80e3",
   "metadata": {},
   "outputs": [],
   "source": [
    "# Scale our data\n",
    "ss = StandardScaler()\n",
    "Xs_train = ss.fit_transform(X_train)\n",
    "Xs_holdout = ss.transform(X_holdout)"
   ]
  },
  {
   "cell_type": "code",
   "execution_count": 203,
   "id": "7065def2",
   "metadata": {},
   "outputs": [],
   "source": [
    "# create synthetic data for train set\n",
    "sm = SMOTE()\n",
    "Xsm_train, ysm_train = sm.fit_resample(Xs_train, y_train)"
   ]
  },
  {
   "cell_type": "code",
   "execution_count": null,
   "id": "0a6675ac",
   "metadata": {},
   "outputs": [],
   "source": []
  },
  {
   "cell_type": "code",
   "execution_count": null,
   "id": "28ba345d",
   "metadata": {},
   "outputs": [],
   "source": []
  },
  {
   "cell_type": "markdown",
   "id": "bd4aadf6",
   "metadata": {},
   "source": [
    "### Logistics Regression "
   ]
  },
  {
   "cell_type": "code",
   "execution_count": 261,
   "id": "4aaadfef",
   "metadata": {},
   "outputs": [
    {
     "name": "stdout",
     "output_type": "stream",
     "text": [
      "Logistic Regression Intercept: [-2.66327546]\n"
     ]
    }
   ],
   "source": [
    "logreg = LogisticRegression(max_iter=10_000)\n",
    "\n",
    "# Fit model\n",
    "logreg.fit(Xsm_train, ysm_train)\n",
    "\n",
    "print(f'Logistic Regression Intercept: {logreg.intercept_}')"
   ]
  },
  {
   "cell_type": "code",
   "execution_count": 262,
   "id": "081ca294",
   "metadata": {},
   "outputs": [
    {
     "data": {
      "text/plain": [
       "(0.8355140186915888, 0.7716763005780347)"
      ]
     },
     "execution_count": 262,
     "metadata": {},
     "output_type": "execute_result"
    }
   ],
   "source": [
    "#logreg of no-week data, with SMOTE\n",
    "logreg.score(Xsm_train, ysm_train), logreg.score(Xs_holdout, y_holdout)"
   ]
  },
  {
   "cell_type": "markdown",
   "id": "59246c74",
   "metadata": {},
   "source": [
    "With Ridge CV"
   ]
  },
  {
   "cell_type": "code",
   "execution_count": 270,
   "id": "0aeac4c1",
   "metadata": {},
   "outputs": [
    {
     "name": "stdout",
     "output_type": "stream",
     "text": [
      "Logistic Regression Intercept: [-2.66327546]\n"
     ]
    }
   ],
   "source": [
    "ridge = LogisticRegression(max_iter=10_000, penalty = 'l2', solver = 'liblinear')\n",
    "\n",
    "# Fit model\n",
    "ridge.fit(Xsm_train, ysm_train)\n",
    "\n",
    "print(f'Logistic Regression Intercept: {logreg.intercept_}')"
   ]
  },
  {
   "cell_type": "code",
   "execution_count": 271,
   "id": "53dbe777",
   "metadata": {},
   "outputs": [
    {
     "data": {
      "text/plain": [
       "(0.835768903993203, 0.7716763005780347)"
      ]
     },
     "execution_count": 271,
     "metadata": {},
     "output_type": "execute_result"
    }
   ],
   "source": [
    "#logreg of no-week data, with SMOTE\n",
    "ridge.score(Xsm_train, ysm_train), ridge.score(Xs_holdout, y_holdout)"
   ]
  },
  {
   "cell_type": "code",
   "execution_count": 236,
   "id": "52b04eaa",
   "metadata": {},
   "outputs": [
    {
     "data": {
      "text/html": [
       "<div>\n",
       "<style scoped>\n",
       "    .dataframe tbody tr th:only-of-type {\n",
       "        vertical-align: middle;\n",
       "    }\n",
       "\n",
       "    .dataframe tbody tr th {\n",
       "        vertical-align: top;\n",
       "    }\n",
       "\n",
       "    .dataframe thead th {\n",
       "        text-align: right;\n",
       "    }\n",
       "</style>\n",
       "<table border=\"1\" class=\"dataframe\">\n",
       "  <thead>\n",
       "    <tr style=\"text-align: right;\">\n",
       "      <th></th>\n",
       "      <th>latitude</th>\n",
       "      <th>longitude</th>\n",
       "      <th>tavg</th>\n",
       "      <th>preciptotal</th>\n",
       "      <th>stnpressure</th>\n",
       "      <th>resultdir</th>\n",
       "      <th>avgspeed</th>\n",
       "      <th>is_spray</th>\n",
       "      <th>stnpressure_7</th>\n",
       "      <th>stnpressure_10</th>\n",
       "      <th>...</th>\n",
       "      <th>codesum_TSRA FG+ BR HZ</th>\n",
       "      <th>codesum_TSRA RA</th>\n",
       "      <th>codesum_TSRA RA BR</th>\n",
       "      <th>codesum_TSRA RA BR HZ</th>\n",
       "      <th>codesum_TSRA RA BR HZ VCTS</th>\n",
       "      <th>codesum_TSRA RA BR VCTS</th>\n",
       "      <th>codesum_TSRA RA VCTS</th>\n",
       "      <th>codesum_VCTS</th>\n",
       "      <th>wnvpresent</th>\n",
       "      <th>dataset</th>\n",
       "    </tr>\n",
       "  </thead>\n",
       "  <tbody>\n",
       "    <tr>\n",
       "      <th>0</th>\n",
       "      <td>41.867108</td>\n",
       "      <td>-87.654224</td>\n",
       "      <td>74</td>\n",
       "      <td>0.0</td>\n",
       "      <td>29.39</td>\n",
       "      <td>18</td>\n",
       "      <td>6.5</td>\n",
       "      <td>0.0</td>\n",
       "      <td>29.34</td>\n",
       "      <td>29.34</td>\n",
       "      <td>...</td>\n",
       "      <td>0</td>\n",
       "      <td>0</td>\n",
       "      <td>0</td>\n",
       "      <td>0</td>\n",
       "      <td>0</td>\n",
       "      <td>0</td>\n",
       "      <td>0</td>\n",
       "      <td>0</td>\n",
       "      <td>0.0</td>\n",
       "      <td>train</td>\n",
       "    </tr>\n",
       "    <tr>\n",
       "      <th>1</th>\n",
       "      <td>41.867108</td>\n",
       "      <td>-87.654224</td>\n",
       "      <td>74</td>\n",
       "      <td>0.0</td>\n",
       "      <td>29.39</td>\n",
       "      <td>18</td>\n",
       "      <td>6.5</td>\n",
       "      <td>0.0</td>\n",
       "      <td>29.34</td>\n",
       "      <td>29.34</td>\n",
       "      <td>...</td>\n",
       "      <td>0</td>\n",
       "      <td>0</td>\n",
       "      <td>0</td>\n",
       "      <td>0</td>\n",
       "      <td>0</td>\n",
       "      <td>0</td>\n",
       "      <td>0</td>\n",
       "      <td>0</td>\n",
       "      <td>0.0</td>\n",
       "      <td>train</td>\n",
       "    </tr>\n",
       "    <tr>\n",
       "      <th>2</th>\n",
       "      <td>41.862292</td>\n",
       "      <td>-87.648860</td>\n",
       "      <td>74</td>\n",
       "      <td>0.0</td>\n",
       "      <td>29.39</td>\n",
       "      <td>18</td>\n",
       "      <td>6.5</td>\n",
       "      <td>0.0</td>\n",
       "      <td>29.34</td>\n",
       "      <td>29.34</td>\n",
       "      <td>...</td>\n",
       "      <td>0</td>\n",
       "      <td>0</td>\n",
       "      <td>0</td>\n",
       "      <td>0</td>\n",
       "      <td>0</td>\n",
       "      <td>0</td>\n",
       "      <td>0</td>\n",
       "      <td>0</td>\n",
       "      <td>0.0</td>\n",
       "      <td>train</td>\n",
       "    </tr>\n",
       "    <tr>\n",
       "      <th>3</th>\n",
       "      <td>41.896282</td>\n",
       "      <td>-87.655232</td>\n",
       "      <td>74</td>\n",
       "      <td>0.0</td>\n",
       "      <td>29.39</td>\n",
       "      <td>18</td>\n",
       "      <td>6.5</td>\n",
       "      <td>0.0</td>\n",
       "      <td>29.34</td>\n",
       "      <td>29.34</td>\n",
       "      <td>...</td>\n",
       "      <td>0</td>\n",
       "      <td>0</td>\n",
       "      <td>0</td>\n",
       "      <td>0</td>\n",
       "      <td>0</td>\n",
       "      <td>0</td>\n",
       "      <td>0</td>\n",
       "      <td>0</td>\n",
       "      <td>0.0</td>\n",
       "      <td>train</td>\n",
       "    </tr>\n",
       "    <tr>\n",
       "      <th>4</th>\n",
       "      <td>41.907645</td>\n",
       "      <td>-87.760886</td>\n",
       "      <td>74</td>\n",
       "      <td>0.0</td>\n",
       "      <td>29.39</td>\n",
       "      <td>18</td>\n",
       "      <td>6.5</td>\n",
       "      <td>0.0</td>\n",
       "      <td>29.34</td>\n",
       "      <td>29.34</td>\n",
       "      <td>...</td>\n",
       "      <td>0</td>\n",
       "      <td>0</td>\n",
       "      <td>0</td>\n",
       "      <td>0</td>\n",
       "      <td>0</td>\n",
       "      <td>0</td>\n",
       "      <td>0</td>\n",
       "      <td>0</td>\n",
       "      <td>0.0</td>\n",
       "      <td>train</td>\n",
       "    </tr>\n",
       "  </tbody>\n",
       "</table>\n",
       "<p>5 rows × 221 columns</p>\n",
       "</div>"
      ],
      "text/plain": [
       "    latitude  longitude  tavg  preciptotal  stnpressure  resultdir  avgspeed  \\\n",
       "0  41.867108 -87.654224    74          0.0        29.39         18       6.5   \n",
       "1  41.867108 -87.654224    74          0.0        29.39         18       6.5   \n",
       "2  41.862292 -87.648860    74          0.0        29.39         18       6.5   \n",
       "3  41.896282 -87.655232    74          0.0        29.39         18       6.5   \n",
       "4  41.907645 -87.760886    74          0.0        29.39         18       6.5   \n",
       "\n",
       "   is_spray  stnpressure_7  stnpressure_10  ...  codesum_TSRA FG+ BR HZ  \\\n",
       "0       0.0          29.34           29.34  ...                       0   \n",
       "1       0.0          29.34           29.34  ...                       0   \n",
       "2       0.0          29.34           29.34  ...                       0   \n",
       "3       0.0          29.34           29.34  ...                       0   \n",
       "4       0.0          29.34           29.34  ...                       0   \n",
       "\n",
       "   codesum_TSRA RA  codesum_TSRA RA BR  codesum_TSRA RA BR HZ  \\\n",
       "0                0                   0                      0   \n",
       "1                0                   0                      0   \n",
       "2                0                   0                      0   \n",
       "3                0                   0                      0   \n",
       "4                0                   0                      0   \n",
       "\n",
       "   codesum_TSRA RA BR HZ VCTS  codesum_TSRA RA BR VCTS  codesum_TSRA RA VCTS  \\\n",
       "0                           0                        0                     0   \n",
       "1                           0                        0                     0   \n",
       "2                           0                        0                     0   \n",
       "3                           0                        0                     0   \n",
       "4                           0                        0                     0   \n",
       "\n",
       "   codesum_VCTS  wnvpresent  dataset  \n",
       "0             0         0.0    train  \n",
       "1             0         0.0    train  \n",
       "2             0         0.0    train  \n",
       "3             0         0.0    train  \n",
       "4             0         0.0    train  \n",
       "\n",
       "[5 rows x 221 columns]"
      ]
     },
     "execution_count": 236,
     "metadata": {},
     "output_type": "execute_result"
    }
   ],
   "source": [
    "df.head()"
   ]
  },
  {
   "cell_type": "code",
   "execution_count": 247,
   "id": "4c4dea47",
   "metadata": {},
   "outputs": [],
   "source": [
    "df_col = df.drop(columns = ['wnvpresent', 'dataset'])"
   ]
  },
  {
   "cell_type": "code",
   "execution_count": 251,
   "id": "1eeff541",
   "metadata": {},
   "outputs": [
    {
     "data": {
      "text/plain": [
       "Index(['latitude', 'longitude', 'tavg', 'preciptotal', 'stnpressure',\n",
       "       'resultdir', 'avgspeed', 'is_spray', 'stnpressure_7', 'stnpressure_10',\n",
       "       ...\n",
       "       'codesum_TSRA BR', 'codesum_TSRA BR HZ VCTS', 'codesum_TSRA FG+ BR HZ',\n",
       "       'codesum_TSRA RA', 'codesum_TSRA RA BR', 'codesum_TSRA RA BR HZ',\n",
       "       'codesum_TSRA RA BR HZ VCTS', 'codesum_TSRA RA BR VCTS',\n",
       "       'codesum_TSRA RA VCTS', 'codesum_VCTS'],\n",
       "      dtype='object', length=219)"
      ]
     },
     "execution_count": 251,
     "metadata": {},
     "output_type": "execute_result"
    }
   ],
   "source": [
    "df_col.columns"
   ]
  },
  {
   "cell_type": "code",
   "execution_count": 254,
   "id": "60032154",
   "metadata": {},
   "outputs": [],
   "source": [
    "ridge_coef = pd.DataFrame(data=ridge.coef_[0],\n",
    "                          index=df_col.columns,\n",
    "                          columns=['coef'])\n"
   ]
  },
  {
   "cell_type": "code",
   "execution_count": 256,
   "id": "82b09cee",
   "metadata": {},
   "outputs": [],
   "source": [
    "pd.set_option('display.max_rows', 219)"
   ]
  },
  {
   "cell_type": "code",
   "execution_count": 257,
   "id": "a9e5d355",
   "metadata": {},
   "outputs": [
    {
     "data": {
      "text/html": [
       "<div>\n",
       "<style scoped>\n",
       "    .dataframe tbody tr th:only-of-type {\n",
       "        vertical-align: middle;\n",
       "    }\n",
       "\n",
       "    .dataframe tbody tr th {\n",
       "        vertical-align: top;\n",
       "    }\n",
       "\n",
       "    .dataframe thead th {\n",
       "        text-align: right;\n",
       "    }\n",
       "</style>\n",
       "<table border=\"1\" class=\"dataframe\">\n",
       "  <thead>\n",
       "    <tr style=\"text-align: right;\">\n",
       "      <th></th>\n",
       "      <th>coef</th>\n",
       "    </tr>\n",
       "  </thead>\n",
       "  <tbody>\n",
       "    <tr>\n",
       "      <th>latitude</th>\n",
       "      <td>-0.738620</td>\n",
       "    </tr>\n",
       "    <tr>\n",
       "      <th>longitude</th>\n",
       "      <td>-0.319309</td>\n",
       "    </tr>\n",
       "    <tr>\n",
       "      <th>tavg</th>\n",
       "      <td>0.708937</td>\n",
       "    </tr>\n",
       "    <tr>\n",
       "      <th>preciptotal</th>\n",
       "      <td>-0.965319</td>\n",
       "    </tr>\n",
       "    <tr>\n",
       "      <th>stnpressure</th>\n",
       "      <td>0.281647</td>\n",
       "    </tr>\n",
       "    <tr>\n",
       "      <th>resultdir</th>\n",
       "      <td>0.020674</td>\n",
       "    </tr>\n",
       "    <tr>\n",
       "      <th>avgspeed</th>\n",
       "      <td>-0.294450</td>\n",
       "    </tr>\n",
       "    <tr>\n",
       "      <th>is_spray</th>\n",
       "      <td>0.008507</td>\n",
       "    </tr>\n",
       "    <tr>\n",
       "      <th>stnpressure_7</th>\n",
       "      <td>0.357631</td>\n",
       "    </tr>\n",
       "    <tr>\n",
       "      <th>stnpressure_10</th>\n",
       "      <td>-0.108116</td>\n",
       "    </tr>\n",
       "    <tr>\n",
       "      <th>preciptotal_7</th>\n",
       "      <td>-0.240421</td>\n",
       "    </tr>\n",
       "    <tr>\n",
       "      <th>preciptotal_10</th>\n",
       "      <td>0.255687</td>\n",
       "    </tr>\n",
       "    <tr>\n",
       "      <th>DZ</th>\n",
       "      <td>-0.097004</td>\n",
       "    </tr>\n",
       "    <tr>\n",
       "      <th>BR</th>\n",
       "      <td>0.011365</td>\n",
       "    </tr>\n",
       "    <tr>\n",
       "      <th>TSRA</th>\n",
       "      <td>0.138436</td>\n",
       "    </tr>\n",
       "    <tr>\n",
       "      <th>VCTS</th>\n",
       "      <td>-0.214390</td>\n",
       "    </tr>\n",
       "    <tr>\n",
       "      <th>BCFG</th>\n",
       "      <td>0.000000</td>\n",
       "    </tr>\n",
       "    <tr>\n",
       "      <th>FG</th>\n",
       "      <td>0.024595</td>\n",
       "    </tr>\n",
       "    <tr>\n",
       "      <th>TS</th>\n",
       "      <td>0.119314</td>\n",
       "    </tr>\n",
       "    <tr>\n",
       "      <th>FG+</th>\n",
       "      <td>0.024595</td>\n",
       "    </tr>\n",
       "    <tr>\n",
       "      <th>HZ</th>\n",
       "      <td>-0.134134</td>\n",
       "    </tr>\n",
       "    <tr>\n",
       "      <th>RA</th>\n",
       "      <td>0.011329</td>\n",
       "    </tr>\n",
       "    <tr>\n",
       "      <th>year_2008</th>\n",
       "      <td>0.000000</td>\n",
       "    </tr>\n",
       "    <tr>\n",
       "      <th>year_2009</th>\n",
       "      <td>-0.373477</td>\n",
       "    </tr>\n",
       "    <tr>\n",
       "      <th>year_2010</th>\n",
       "      <td>0.000000</td>\n",
       "    </tr>\n",
       "    <tr>\n",
       "      <th>year_2011</th>\n",
       "      <td>0.217055</td>\n",
       "    </tr>\n",
       "    <tr>\n",
       "      <th>year_2012</th>\n",
       "      <td>0.000000</td>\n",
       "    </tr>\n",
       "    <tr>\n",
       "      <th>year_2013</th>\n",
       "      <td>0.859164</td>\n",
       "    </tr>\n",
       "    <tr>\n",
       "      <th>year_2014</th>\n",
       "      <td>0.000000</td>\n",
       "    </tr>\n",
       "    <tr>\n",
       "      <th>dayofweek_1</th>\n",
       "      <td>0.952129</td>\n",
       "    </tr>\n",
       "    <tr>\n",
       "      <th>dayofweek_2</th>\n",
       "      <td>0.653771</td>\n",
       "    </tr>\n",
       "    <tr>\n",
       "      <th>dayofweek_3</th>\n",
       "      <td>0.327869</td>\n",
       "    </tr>\n",
       "    <tr>\n",
       "      <th>dayofweek_4</th>\n",
       "      <td>0.257357</td>\n",
       "    </tr>\n",
       "    <tr>\n",
       "      <th>species_CULEX PIPIENS/RESTUANS</th>\n",
       "      <td>-0.128492</td>\n",
       "    </tr>\n",
       "    <tr>\n",
       "      <th>species_CULEX RESTUANS</th>\n",
       "      <td>-0.760293</td>\n",
       "    </tr>\n",
       "    <tr>\n",
       "      <th>trap_T002</th>\n",
       "      <td>0.456809</td>\n",
       "    </tr>\n",
       "    <tr>\n",
       "      <th>trap_T002A</th>\n",
       "      <td>0.000000</td>\n",
       "    </tr>\n",
       "    <tr>\n",
       "      <th>trap_T002B</th>\n",
       "      <td>0.000000</td>\n",
       "    </tr>\n",
       "    <tr>\n",
       "      <th>trap_T003</th>\n",
       "      <td>0.511607</td>\n",
       "    </tr>\n",
       "    <tr>\n",
       "      <th>trap_T004</th>\n",
       "      <td>-0.171849</td>\n",
       "    </tr>\n",
       "    <tr>\n",
       "      <th>trap_T005</th>\n",
       "      <td>-0.204355</td>\n",
       "    </tr>\n",
       "    <tr>\n",
       "      <th>trap_T006</th>\n",
       "      <td>0.092407</td>\n",
       "    </tr>\n",
       "    <tr>\n",
       "      <th>trap_T007</th>\n",
       "      <td>-0.296939</td>\n",
       "    </tr>\n",
       "    <tr>\n",
       "      <th>trap_T008</th>\n",
       "      <td>0.396276</td>\n",
       "    </tr>\n",
       "    <tr>\n",
       "      <th>trap_T009</th>\n",
       "      <td>0.108302</td>\n",
       "    </tr>\n",
       "    <tr>\n",
       "      <th>trap_T009A</th>\n",
       "      <td>0.011383</td>\n",
       "    </tr>\n",
       "    <tr>\n",
       "      <th>trap_T011</th>\n",
       "      <td>0.291584</td>\n",
       "    </tr>\n",
       "    <tr>\n",
       "      <th>trap_T012</th>\n",
       "      <td>0.140199</td>\n",
       "    </tr>\n",
       "    <tr>\n",
       "      <th>trap_T013</th>\n",
       "      <td>0.400979</td>\n",
       "    </tr>\n",
       "    <tr>\n",
       "      <th>trap_T014</th>\n",
       "      <td>0.116946</td>\n",
       "    </tr>\n",
       "    <tr>\n",
       "      <th>trap_T015</th>\n",
       "      <td>0.066101</td>\n",
       "    </tr>\n",
       "    <tr>\n",
       "      <th>trap_T016</th>\n",
       "      <td>0.150231</td>\n",
       "    </tr>\n",
       "    <tr>\n",
       "      <th>trap_T017</th>\n",
       "      <td>-0.473114</td>\n",
       "    </tr>\n",
       "    <tr>\n",
       "      <th>trap_T018</th>\n",
       "      <td>-0.314580</td>\n",
       "    </tr>\n",
       "    <tr>\n",
       "      <th>trap_T019</th>\n",
       "      <td>-0.244267</td>\n",
       "    </tr>\n",
       "    <tr>\n",
       "      <th>trap_T025</th>\n",
       "      <td>-0.314091</td>\n",
       "    </tr>\n",
       "    <tr>\n",
       "      <th>trap_T027</th>\n",
       "      <td>0.259719</td>\n",
       "    </tr>\n",
       "    <tr>\n",
       "      <th>trap_T028</th>\n",
       "      <td>0.419149</td>\n",
       "    </tr>\n",
       "    <tr>\n",
       "      <th>trap_T030</th>\n",
       "      <td>0.226749</td>\n",
       "    </tr>\n",
       "    <tr>\n",
       "      <th>trap_T031</th>\n",
       "      <td>0.248382</td>\n",
       "    </tr>\n",
       "    <tr>\n",
       "      <th>trap_T033</th>\n",
       "      <td>0.186697</td>\n",
       "    </tr>\n",
       "    <tr>\n",
       "      <th>trap_T034</th>\n",
       "      <td>-0.228894</td>\n",
       "    </tr>\n",
       "    <tr>\n",
       "      <th>trap_T035</th>\n",
       "      <td>-0.286151</td>\n",
       "    </tr>\n",
       "    <tr>\n",
       "      <th>trap_T035A</th>\n",
       "      <td>0.048927</td>\n",
       "    </tr>\n",
       "    <tr>\n",
       "      <th>trap_T036</th>\n",
       "      <td>0.026573</td>\n",
       "    </tr>\n",
       "    <tr>\n",
       "      <th>trap_T037</th>\n",
       "      <td>-0.247544</td>\n",
       "    </tr>\n",
       "    <tr>\n",
       "      <th>trap_T039</th>\n",
       "      <td>0.229559</td>\n",
       "    </tr>\n",
       "    <tr>\n",
       "      <th>trap_T040</th>\n",
       "      <td>0.014794</td>\n",
       "    </tr>\n",
       "    <tr>\n",
       "      <th>trap_T043</th>\n",
       "      <td>-0.404674</td>\n",
       "    </tr>\n",
       "    <tr>\n",
       "      <th>trap_T044</th>\n",
       "      <td>-0.195597</td>\n",
       "    </tr>\n",
       "    <tr>\n",
       "      <th>trap_T045</th>\n",
       "      <td>0.170019</td>\n",
       "    </tr>\n",
       "    <tr>\n",
       "      <th>trap_T046</th>\n",
       "      <td>-0.464033</td>\n",
       "    </tr>\n",
       "    <tr>\n",
       "      <th>trap_T047</th>\n",
       "      <td>0.105878</td>\n",
       "    </tr>\n",
       "    <tr>\n",
       "      <th>trap_T048</th>\n",
       "      <td>0.288784</td>\n",
       "    </tr>\n",
       "    <tr>\n",
       "      <th>trap_T049</th>\n",
       "      <td>0.043956</td>\n",
       "    </tr>\n",
       "    <tr>\n",
       "      <th>trap_T050</th>\n",
       "      <td>-0.224677</td>\n",
       "    </tr>\n",
       "    <tr>\n",
       "      <th>trap_T051</th>\n",
       "      <td>-0.234090</td>\n",
       "    </tr>\n",
       "    <tr>\n",
       "      <th>trap_T054</th>\n",
       "      <td>0.401776</td>\n",
       "    </tr>\n",
       "    <tr>\n",
       "      <th>trap_T054C</th>\n",
       "      <td>0.061554</td>\n",
       "    </tr>\n",
       "    <tr>\n",
       "      <th>trap_T060</th>\n",
       "      <td>-0.193403</td>\n",
       "    </tr>\n",
       "    <tr>\n",
       "      <th>trap_T061</th>\n",
       "      <td>0.219682</td>\n",
       "    </tr>\n",
       "    <tr>\n",
       "      <th>trap_T062</th>\n",
       "      <td>0.057593</td>\n",
       "    </tr>\n",
       "    <tr>\n",
       "      <th>trap_T063</th>\n",
       "      <td>0.042559</td>\n",
       "    </tr>\n",
       "    <tr>\n",
       "      <th>trap_T065</th>\n",
       "      <td>0.108549</td>\n",
       "    </tr>\n",
       "    <tr>\n",
       "      <th>trap_T065A</th>\n",
       "      <td>0.000000</td>\n",
       "    </tr>\n",
       "    <tr>\n",
       "      <th>trap_T066</th>\n",
       "      <td>0.175503</td>\n",
       "    </tr>\n",
       "    <tr>\n",
       "      <th>trap_T067</th>\n",
       "      <td>0.090269</td>\n",
       "    </tr>\n",
       "    <tr>\n",
       "      <th>trap_T069</th>\n",
       "      <td>-0.041719</td>\n",
       "    </tr>\n",
       "    <tr>\n",
       "      <th>trap_T070</th>\n",
       "      <td>0.066373</td>\n",
       "    </tr>\n",
       "    <tr>\n",
       "      <th>trap_T071</th>\n",
       "      <td>-0.276472</td>\n",
       "    </tr>\n",
       "    <tr>\n",
       "      <th>trap_T072</th>\n",
       "      <td>-0.223290</td>\n",
       "    </tr>\n",
       "    <tr>\n",
       "      <th>trap_T073</th>\n",
       "      <td>0.117758</td>\n",
       "    </tr>\n",
       "    <tr>\n",
       "      <th>trap_T074</th>\n",
       "      <td>0.139879</td>\n",
       "    </tr>\n",
       "    <tr>\n",
       "      <th>trap_T075</th>\n",
       "      <td>-0.216108</td>\n",
       "    </tr>\n",
       "    <tr>\n",
       "      <th>trap_T076</th>\n",
       "      <td>-0.100405</td>\n",
       "    </tr>\n",
       "    <tr>\n",
       "      <th>trap_T077</th>\n",
       "      <td>-0.329198</td>\n",
       "    </tr>\n",
       "    <tr>\n",
       "      <th>trap_T078</th>\n",
       "      <td>-0.154110</td>\n",
       "    </tr>\n",
       "    <tr>\n",
       "      <th>trap_T079</th>\n",
       "      <td>0.018136</td>\n",
       "    </tr>\n",
       "    <tr>\n",
       "      <th>trap_T080</th>\n",
       "      <td>0.088539</td>\n",
       "    </tr>\n",
       "    <tr>\n",
       "      <th>trap_T081</th>\n",
       "      <td>-0.291639</td>\n",
       "    </tr>\n",
       "    <tr>\n",
       "      <th>trap_T082</th>\n",
       "      <td>0.318112</td>\n",
       "    </tr>\n",
       "    <tr>\n",
       "      <th>trap_T083</th>\n",
       "      <td>0.091111</td>\n",
       "    </tr>\n",
       "    <tr>\n",
       "      <th>trap_T084</th>\n",
       "      <td>-0.030164</td>\n",
       "    </tr>\n",
       "    <tr>\n",
       "      <th>trap_T085</th>\n",
       "      <td>0.040096</td>\n",
       "    </tr>\n",
       "    <tr>\n",
       "      <th>trap_T086</th>\n",
       "      <td>0.117623</td>\n",
       "    </tr>\n",
       "    <tr>\n",
       "      <th>trap_T088</th>\n",
       "      <td>-0.271033</td>\n",
       "    </tr>\n",
       "    <tr>\n",
       "      <th>trap_T089</th>\n",
       "      <td>0.177516</td>\n",
       "    </tr>\n",
       "    <tr>\n",
       "      <th>trap_T090</th>\n",
       "      <td>0.489104</td>\n",
       "    </tr>\n",
       "    <tr>\n",
       "      <th>trap_T090A</th>\n",
       "      <td>0.000000</td>\n",
       "    </tr>\n",
       "    <tr>\n",
       "      <th>trap_T090B</th>\n",
       "      <td>0.000000</td>\n",
       "    </tr>\n",
       "    <tr>\n",
       "      <th>trap_T090C</th>\n",
       "      <td>0.000000</td>\n",
       "    </tr>\n",
       "    <tr>\n",
       "      <th>trap_T091</th>\n",
       "      <td>0.071518</td>\n",
       "    </tr>\n",
       "    <tr>\n",
       "      <th>trap_T092</th>\n",
       "      <td>-0.256867</td>\n",
       "    </tr>\n",
       "    <tr>\n",
       "      <th>trap_T094</th>\n",
       "      <td>0.066038</td>\n",
       "    </tr>\n",
       "    <tr>\n",
       "      <th>trap_T094B</th>\n",
       "      <td>-0.148092</td>\n",
       "    </tr>\n",
       "    <tr>\n",
       "      <th>trap_T095</th>\n",
       "      <td>0.290763</td>\n",
       "    </tr>\n",
       "    <tr>\n",
       "      <th>trap_T096</th>\n",
       "      <td>0.177597</td>\n",
       "    </tr>\n",
       "    <tr>\n",
       "      <th>trap_T097</th>\n",
       "      <td>-0.270935</td>\n",
       "    </tr>\n",
       "    <tr>\n",
       "      <th>trap_T099</th>\n",
       "      <td>-0.390524</td>\n",
       "    </tr>\n",
       "    <tr>\n",
       "      <th>trap_T100</th>\n",
       "      <td>-0.311250</td>\n",
       "    </tr>\n",
       "    <tr>\n",
       "      <th>trap_T102</th>\n",
       "      <td>-0.057691</td>\n",
       "    </tr>\n",
       "    <tr>\n",
       "      <th>trap_T103</th>\n",
       "      <td>0.110453</td>\n",
       "    </tr>\n",
       "    <tr>\n",
       "      <th>trap_T107</th>\n",
       "      <td>0.060097</td>\n",
       "    </tr>\n",
       "    <tr>\n",
       "      <th>trap_T114</th>\n",
       "      <td>0.267648</td>\n",
       "    </tr>\n",
       "    <tr>\n",
       "      <th>trap_T115</th>\n",
       "      <td>0.346338</td>\n",
       "    </tr>\n",
       "    <tr>\n",
       "      <th>trap_T128</th>\n",
       "      <td>0.187224</td>\n",
       "    </tr>\n",
       "    <tr>\n",
       "      <th>trap_T128A</th>\n",
       "      <td>0.000000</td>\n",
       "    </tr>\n",
       "    <tr>\n",
       "      <th>trap_T129</th>\n",
       "      <td>-0.222658</td>\n",
       "    </tr>\n",
       "    <tr>\n",
       "      <th>trap_T135</th>\n",
       "      <td>0.164883</td>\n",
       "    </tr>\n",
       "    <tr>\n",
       "      <th>trap_T138</th>\n",
       "      <td>0.316745</td>\n",
       "    </tr>\n",
       "    <tr>\n",
       "      <th>trap_T141</th>\n",
       "      <td>-0.208355</td>\n",
       "    </tr>\n",
       "    <tr>\n",
       "      <th>trap_T142</th>\n",
       "      <td>-0.265360</td>\n",
       "    </tr>\n",
       "    <tr>\n",
       "      <th>trap_T143</th>\n",
       "      <td>0.097743</td>\n",
       "    </tr>\n",
       "    <tr>\n",
       "      <th>trap_T144</th>\n",
       "      <td>-0.041598</td>\n",
       "    </tr>\n",
       "    <tr>\n",
       "      <th>trap_T145</th>\n",
       "      <td>-0.382140</td>\n",
       "    </tr>\n",
       "    <tr>\n",
       "      <th>trap_T146</th>\n",
       "      <td>-0.259195</td>\n",
       "    </tr>\n",
       "    <tr>\n",
       "      <th>trap_T147</th>\n",
       "      <td>0.281073</td>\n",
       "    </tr>\n",
       "    <tr>\n",
       "      <th>trap_T148</th>\n",
       "      <td>-0.300684</td>\n",
       "    </tr>\n",
       "    <tr>\n",
       "      <th>trap_T149</th>\n",
       "      <td>-0.165894</td>\n",
       "    </tr>\n",
       "    <tr>\n",
       "      <th>trap_T150</th>\n",
       "      <td>-0.169509</td>\n",
       "    </tr>\n",
       "    <tr>\n",
       "      <th>trap_T151</th>\n",
       "      <td>0.320080</td>\n",
       "    </tr>\n",
       "    <tr>\n",
       "      <th>trap_T152</th>\n",
       "      <td>-0.015628</td>\n",
       "    </tr>\n",
       "    <tr>\n",
       "      <th>trap_T153</th>\n",
       "      <td>-0.298321</td>\n",
       "    </tr>\n",
       "    <tr>\n",
       "      <th>trap_T154</th>\n",
       "      <td>0.133139</td>\n",
       "    </tr>\n",
       "    <tr>\n",
       "      <th>trap_T155</th>\n",
       "      <td>0.175918</td>\n",
       "    </tr>\n",
       "    <tr>\n",
       "      <th>trap_T156</th>\n",
       "      <td>-0.262685</td>\n",
       "    </tr>\n",
       "    <tr>\n",
       "      <th>trap_T157</th>\n",
       "      <td>-0.215456</td>\n",
       "    </tr>\n",
       "    <tr>\n",
       "      <th>trap_T158</th>\n",
       "      <td>0.172476</td>\n",
       "    </tr>\n",
       "    <tr>\n",
       "      <th>trap_T159</th>\n",
       "      <td>0.077056</td>\n",
       "    </tr>\n",
       "    <tr>\n",
       "      <th>trap_T160</th>\n",
       "      <td>0.352804</td>\n",
       "    </tr>\n",
       "    <tr>\n",
       "      <th>trap_T161</th>\n",
       "      <td>-0.288539</td>\n",
       "    </tr>\n",
       "    <tr>\n",
       "      <th>trap_T162</th>\n",
       "      <td>0.055450</td>\n",
       "    </tr>\n",
       "    <tr>\n",
       "      <th>trap_T200</th>\n",
       "      <td>-0.060814</td>\n",
       "    </tr>\n",
       "    <tr>\n",
       "      <th>trap_T200A</th>\n",
       "      <td>0.000000</td>\n",
       "    </tr>\n",
       "    <tr>\n",
       "      <th>trap_T200B</th>\n",
       "      <td>0.000000</td>\n",
       "    </tr>\n",
       "    <tr>\n",
       "      <th>trap_T206</th>\n",
       "      <td>-0.262659</td>\n",
       "    </tr>\n",
       "    <tr>\n",
       "      <th>trap_T209</th>\n",
       "      <td>0.084869</td>\n",
       "    </tr>\n",
       "    <tr>\n",
       "      <th>trap_T212</th>\n",
       "      <td>-0.014543</td>\n",
       "    </tr>\n",
       "    <tr>\n",
       "      <th>trap_T215</th>\n",
       "      <td>0.162973</td>\n",
       "    </tr>\n",
       "    <tr>\n",
       "      <th>trap_T218</th>\n",
       "      <td>0.296708</td>\n",
       "    </tr>\n",
       "    <tr>\n",
       "      <th>trap_T218A</th>\n",
       "      <td>0.000000</td>\n",
       "    </tr>\n",
       "    <tr>\n",
       "      <th>trap_T218B</th>\n",
       "      <td>0.000000</td>\n",
       "    </tr>\n",
       "    <tr>\n",
       "      <th>trap_T218C</th>\n",
       "      <td>0.000000</td>\n",
       "    </tr>\n",
       "    <tr>\n",
       "      <th>trap_T219</th>\n",
       "      <td>-0.242104</td>\n",
       "    </tr>\n",
       "    <tr>\n",
       "      <th>trap_T220</th>\n",
       "      <td>0.172947</td>\n",
       "    </tr>\n",
       "    <tr>\n",
       "      <th>trap_T221</th>\n",
       "      <td>0.181009</td>\n",
       "    </tr>\n",
       "    <tr>\n",
       "      <th>trap_T222</th>\n",
       "      <td>0.056902</td>\n",
       "    </tr>\n",
       "    <tr>\n",
       "      <th>trap_T223</th>\n",
       "      <td>0.365196</td>\n",
       "    </tr>\n",
       "    <tr>\n",
       "      <th>trap_T224</th>\n",
       "      <td>0.042441</td>\n",
       "    </tr>\n",
       "    <tr>\n",
       "      <th>trap_T225</th>\n",
       "      <td>0.384765</td>\n",
       "    </tr>\n",
       "    <tr>\n",
       "      <th>trap_T226</th>\n",
       "      <td>0.005258</td>\n",
       "    </tr>\n",
       "    <tr>\n",
       "      <th>trap_T227</th>\n",
       "      <td>0.202764</td>\n",
       "    </tr>\n",
       "    <tr>\n",
       "      <th>trap_T228</th>\n",
       "      <td>0.402871</td>\n",
       "    </tr>\n",
       "    <tr>\n",
       "      <th>trap_T229</th>\n",
       "      <td>-0.073223</td>\n",
       "    </tr>\n",
       "    <tr>\n",
       "      <th>trap_T230</th>\n",
       "      <td>0.369132</td>\n",
       "    </tr>\n",
       "    <tr>\n",
       "      <th>trap_T231</th>\n",
       "      <td>0.243333</td>\n",
       "    </tr>\n",
       "    <tr>\n",
       "      <th>trap_T232</th>\n",
       "      <td>-0.270681</td>\n",
       "    </tr>\n",
       "    <tr>\n",
       "      <th>trap_T233</th>\n",
       "      <td>0.216648</td>\n",
       "    </tr>\n",
       "    <tr>\n",
       "      <th>trap_T234</th>\n",
       "      <td>0.000000</td>\n",
       "    </tr>\n",
       "    <tr>\n",
       "      <th>trap_T235</th>\n",
       "      <td>0.148844</td>\n",
       "    </tr>\n",
       "    <tr>\n",
       "      <th>trap_T236</th>\n",
       "      <td>0.047070</td>\n",
       "    </tr>\n",
       "    <tr>\n",
       "      <th>trap_T237</th>\n",
       "      <td>-0.086596</td>\n",
       "    </tr>\n",
       "    <tr>\n",
       "      <th>trap_T238</th>\n",
       "      <td>-0.105270</td>\n",
       "    </tr>\n",
       "    <tr>\n",
       "      <th>trap_T900</th>\n",
       "      <td>0.790398</td>\n",
       "    </tr>\n",
       "    <tr>\n",
       "      <th>trap_T903</th>\n",
       "      <td>0.403757</td>\n",
       "    </tr>\n",
       "    <tr>\n",
       "      <th>codesum_BCFG BR</th>\n",
       "      <td>0.000000</td>\n",
       "    </tr>\n",
       "    <tr>\n",
       "      <th>codesum_BR</th>\n",
       "      <td>0.237160</td>\n",
       "    </tr>\n",
       "    <tr>\n",
       "      <th>codesum_BR HZ</th>\n",
       "      <td>0.078383</td>\n",
       "    </tr>\n",
       "    <tr>\n",
       "      <th>codesum_DZ</th>\n",
       "      <td>0.000000</td>\n",
       "    </tr>\n",
       "    <tr>\n",
       "      <th>codesum_DZ BR</th>\n",
       "      <td>-0.222180</td>\n",
       "    </tr>\n",
       "    <tr>\n",
       "      <th>codesum_FG BR HZ</th>\n",
       "      <td>-0.050811</td>\n",
       "    </tr>\n",
       "    <tr>\n",
       "      <th>codesum_HZ</th>\n",
       "      <td>-0.032490</td>\n",
       "    </tr>\n",
       "    <tr>\n",
       "      <th>codesum_RA</th>\n",
       "      <td>0.101823</td>\n",
       "    </tr>\n",
       "    <tr>\n",
       "      <th>codesum_RA BR</th>\n",
       "      <td>-0.203110</td>\n",
       "    </tr>\n",
       "    <tr>\n",
       "      <th>codesum_RA BR HZ</th>\n",
       "      <td>0.020881</td>\n",
       "    </tr>\n",
       "    <tr>\n",
       "      <th>codesum_RA DZ</th>\n",
       "      <td>0.000000</td>\n",
       "    </tr>\n",
       "    <tr>\n",
       "      <th>codesum_RA DZ BR</th>\n",
       "      <td>0.008894</td>\n",
       "    </tr>\n",
       "    <tr>\n",
       "      <th>codesum_RA HZ</th>\n",
       "      <td>0.029224</td>\n",
       "    </tr>\n",
       "    <tr>\n",
       "      <th>codesum_TS</th>\n",
       "      <td>-0.096605</td>\n",
       "    </tr>\n",
       "    <tr>\n",
       "      <th>codesum_TS BR</th>\n",
       "      <td>0.103110</td>\n",
       "    </tr>\n",
       "    <tr>\n",
       "      <th>codesum_TS RA</th>\n",
       "      <td>-0.359394</td>\n",
       "    </tr>\n",
       "    <tr>\n",
       "      <th>codesum_TS TSRA BR</th>\n",
       "      <td>0.187452</td>\n",
       "    </tr>\n",
       "    <tr>\n",
       "      <th>codesum_TS TSRA BR HZ</th>\n",
       "      <td>-0.210669</td>\n",
       "    </tr>\n",
       "    <tr>\n",
       "      <th>codesum_TS TSRA RA</th>\n",
       "      <td>0.214389</td>\n",
       "    </tr>\n",
       "    <tr>\n",
       "      <th>codesum_TS TSRA RA BR</th>\n",
       "      <td>0.353125</td>\n",
       "    </tr>\n",
       "    <tr>\n",
       "      <th>codesum_TS TSRA RA BR HZ VCTS</th>\n",
       "      <td>-0.208519</td>\n",
       "    </tr>\n",
       "    <tr>\n",
       "      <th>codesum_TS TSRA RA FG BR HZ</th>\n",
       "      <td>0.057789</td>\n",
       "    </tr>\n",
       "    <tr>\n",
       "      <th>codesum_TS TSRA RA VCTS</th>\n",
       "      <td>-0.259327</td>\n",
       "    </tr>\n",
       "    <tr>\n",
       "      <th>codesum_TSRA</th>\n",
       "      <td>-0.478991</td>\n",
       "    </tr>\n",
       "    <tr>\n",
       "      <th>codesum_TSRA BR</th>\n",
       "      <td>0.003148</td>\n",
       "    </tr>\n",
       "    <tr>\n",
       "      <th>codesum_TSRA BR HZ VCTS</th>\n",
       "      <td>-0.524182</td>\n",
       "    </tr>\n",
       "    <tr>\n",
       "      <th>codesum_TSRA FG+ BR HZ</th>\n",
       "      <td>0.000000</td>\n",
       "    </tr>\n",
       "    <tr>\n",
       "      <th>codesum_TSRA RA</th>\n",
       "      <td>0.355432</td>\n",
       "    </tr>\n",
       "    <tr>\n",
       "      <th>codesum_TSRA RA BR</th>\n",
       "      <td>-0.056323</td>\n",
       "    </tr>\n",
       "    <tr>\n",
       "      <th>codesum_TSRA RA BR HZ</th>\n",
       "      <td>0.000000</td>\n",
       "    </tr>\n",
       "    <tr>\n",
       "      <th>codesum_TSRA RA BR HZ VCTS</th>\n",
       "      <td>0.000000</td>\n",
       "    </tr>\n",
       "    <tr>\n",
       "      <th>codesum_TSRA RA BR VCTS</th>\n",
       "      <td>0.224739</td>\n",
       "    </tr>\n",
       "    <tr>\n",
       "      <th>codesum_TSRA RA VCTS</th>\n",
       "      <td>0.000000</td>\n",
       "    </tr>\n",
       "    <tr>\n",
       "      <th>codesum_VCTS</th>\n",
       "      <td>0.110094</td>\n",
       "    </tr>\n",
       "  </tbody>\n",
       "</table>\n",
       "</div>"
      ],
      "text/plain": [
       "                                    coef\n",
       "latitude                       -0.738620\n",
       "longitude                      -0.319309\n",
       "tavg                            0.708937\n",
       "preciptotal                    -0.965319\n",
       "stnpressure                     0.281647\n",
       "resultdir                       0.020674\n",
       "avgspeed                       -0.294450\n",
       "is_spray                        0.008507\n",
       "stnpressure_7                   0.357631\n",
       "stnpressure_10                 -0.108116\n",
       "preciptotal_7                  -0.240421\n",
       "preciptotal_10                  0.255687\n",
       "DZ                             -0.097004\n",
       "BR                              0.011365\n",
       "TSRA                            0.138436\n",
       "VCTS                           -0.214390\n",
       "BCFG                            0.000000\n",
       "FG                              0.024595\n",
       "TS                              0.119314\n",
       "FG+                             0.024595\n",
       "HZ                             -0.134134\n",
       "RA                              0.011329\n",
       "year_2008                       0.000000\n",
       "year_2009                      -0.373477\n",
       "year_2010                       0.000000\n",
       "year_2011                       0.217055\n",
       "year_2012                       0.000000\n",
       "year_2013                       0.859164\n",
       "year_2014                       0.000000\n",
       "dayofweek_1                     0.952129\n",
       "dayofweek_2                     0.653771\n",
       "dayofweek_3                     0.327869\n",
       "dayofweek_4                     0.257357\n",
       "species_CULEX PIPIENS/RESTUANS -0.128492\n",
       "species_CULEX RESTUANS         -0.760293\n",
       "trap_T002                       0.456809\n",
       "trap_T002A                      0.000000\n",
       "trap_T002B                      0.000000\n",
       "trap_T003                       0.511607\n",
       "trap_T004                      -0.171849\n",
       "trap_T005                      -0.204355\n",
       "trap_T006                       0.092407\n",
       "trap_T007                      -0.296939\n",
       "trap_T008                       0.396276\n",
       "trap_T009                       0.108302\n",
       "trap_T009A                      0.011383\n",
       "trap_T011                       0.291584\n",
       "trap_T012                       0.140199\n",
       "trap_T013                       0.400979\n",
       "trap_T014                       0.116946\n",
       "trap_T015                       0.066101\n",
       "trap_T016                       0.150231\n",
       "trap_T017                      -0.473114\n",
       "trap_T018                      -0.314580\n",
       "trap_T019                      -0.244267\n",
       "trap_T025                      -0.314091\n",
       "trap_T027                       0.259719\n",
       "trap_T028                       0.419149\n",
       "trap_T030                       0.226749\n",
       "trap_T031                       0.248382\n",
       "trap_T033                       0.186697\n",
       "trap_T034                      -0.228894\n",
       "trap_T035                      -0.286151\n",
       "trap_T035A                      0.048927\n",
       "trap_T036                       0.026573\n",
       "trap_T037                      -0.247544\n",
       "trap_T039                       0.229559\n",
       "trap_T040                       0.014794\n",
       "trap_T043                      -0.404674\n",
       "trap_T044                      -0.195597\n",
       "trap_T045                       0.170019\n",
       "trap_T046                      -0.464033\n",
       "trap_T047                       0.105878\n",
       "trap_T048                       0.288784\n",
       "trap_T049                       0.043956\n",
       "trap_T050                      -0.224677\n",
       "trap_T051                      -0.234090\n",
       "trap_T054                       0.401776\n",
       "trap_T054C                      0.061554\n",
       "trap_T060                      -0.193403\n",
       "trap_T061                       0.219682\n",
       "trap_T062                       0.057593\n",
       "trap_T063                       0.042559\n",
       "trap_T065                       0.108549\n",
       "trap_T065A                      0.000000\n",
       "trap_T066                       0.175503\n",
       "trap_T067                       0.090269\n",
       "trap_T069                      -0.041719\n",
       "trap_T070                       0.066373\n",
       "trap_T071                      -0.276472\n",
       "trap_T072                      -0.223290\n",
       "trap_T073                       0.117758\n",
       "trap_T074                       0.139879\n",
       "trap_T075                      -0.216108\n",
       "trap_T076                      -0.100405\n",
       "trap_T077                      -0.329198\n",
       "trap_T078                      -0.154110\n",
       "trap_T079                       0.018136\n",
       "trap_T080                       0.088539\n",
       "trap_T081                      -0.291639\n",
       "trap_T082                       0.318112\n",
       "trap_T083                       0.091111\n",
       "trap_T084                      -0.030164\n",
       "trap_T085                       0.040096\n",
       "trap_T086                       0.117623\n",
       "trap_T088                      -0.271033\n",
       "trap_T089                       0.177516\n",
       "trap_T090                       0.489104\n",
       "trap_T090A                      0.000000\n",
       "trap_T090B                      0.000000\n",
       "trap_T090C                      0.000000\n",
       "trap_T091                       0.071518\n",
       "trap_T092                      -0.256867\n",
       "trap_T094                       0.066038\n",
       "trap_T094B                     -0.148092\n",
       "trap_T095                       0.290763\n",
       "trap_T096                       0.177597\n",
       "trap_T097                      -0.270935\n",
       "trap_T099                      -0.390524\n",
       "trap_T100                      -0.311250\n",
       "trap_T102                      -0.057691\n",
       "trap_T103                       0.110453\n",
       "trap_T107                       0.060097\n",
       "trap_T114                       0.267648\n",
       "trap_T115                       0.346338\n",
       "trap_T128                       0.187224\n",
       "trap_T128A                      0.000000\n",
       "trap_T129                      -0.222658\n",
       "trap_T135                       0.164883\n",
       "trap_T138                       0.316745\n",
       "trap_T141                      -0.208355\n",
       "trap_T142                      -0.265360\n",
       "trap_T143                       0.097743\n",
       "trap_T144                      -0.041598\n",
       "trap_T145                      -0.382140\n",
       "trap_T146                      -0.259195\n",
       "trap_T147                       0.281073\n",
       "trap_T148                      -0.300684\n",
       "trap_T149                      -0.165894\n",
       "trap_T150                      -0.169509\n",
       "trap_T151                       0.320080\n",
       "trap_T152                      -0.015628\n",
       "trap_T153                      -0.298321\n",
       "trap_T154                       0.133139\n",
       "trap_T155                       0.175918\n",
       "trap_T156                      -0.262685\n",
       "trap_T157                      -0.215456\n",
       "trap_T158                       0.172476\n",
       "trap_T159                       0.077056\n",
       "trap_T160                       0.352804\n",
       "trap_T161                      -0.288539\n",
       "trap_T162                       0.055450\n",
       "trap_T200                      -0.060814\n",
       "trap_T200A                      0.000000\n",
       "trap_T200B                      0.000000\n",
       "trap_T206                      -0.262659\n",
       "trap_T209                       0.084869\n",
       "trap_T212                      -0.014543\n",
       "trap_T215                       0.162973\n",
       "trap_T218                       0.296708\n",
       "trap_T218A                      0.000000\n",
       "trap_T218B                      0.000000\n",
       "trap_T218C                      0.000000\n",
       "trap_T219                      -0.242104\n",
       "trap_T220                       0.172947\n",
       "trap_T221                       0.181009\n",
       "trap_T222                       0.056902\n",
       "trap_T223                       0.365196\n",
       "trap_T224                       0.042441\n",
       "trap_T225                       0.384765\n",
       "trap_T226                       0.005258\n",
       "trap_T227                       0.202764\n",
       "trap_T228                       0.402871\n",
       "trap_T229                      -0.073223\n",
       "trap_T230                       0.369132\n",
       "trap_T231                       0.243333\n",
       "trap_T232                      -0.270681\n",
       "trap_T233                       0.216648\n",
       "trap_T234                       0.000000\n",
       "trap_T235                       0.148844\n",
       "trap_T236                       0.047070\n",
       "trap_T237                      -0.086596\n",
       "trap_T238                      -0.105270\n",
       "trap_T900                       0.790398\n",
       "trap_T903                       0.403757\n",
       "codesum_BCFG BR                 0.000000\n",
       "codesum_BR                      0.237160\n",
       "codesum_BR HZ                   0.078383\n",
       "codesum_DZ                      0.000000\n",
       "codesum_DZ BR                  -0.222180\n",
       "codesum_FG BR HZ               -0.050811\n",
       "codesum_HZ                     -0.032490\n",
       "codesum_RA                      0.101823\n",
       "codesum_RA BR                  -0.203110\n",
       "codesum_RA BR HZ                0.020881\n",
       "codesum_RA DZ                   0.000000\n",
       "codesum_RA DZ BR                0.008894\n",
       "codesum_RA HZ                   0.029224\n",
       "codesum_TS                     -0.096605\n",
       "codesum_TS BR                   0.103110\n",
       "codesum_TS RA                  -0.359394\n",
       "codesum_TS TSRA BR              0.187452\n",
       "codesum_TS TSRA BR HZ          -0.210669\n",
       "codesum_TS TSRA RA              0.214389\n",
       "codesum_TS TSRA RA BR           0.353125\n",
       "codesum_TS TSRA RA BR HZ VCTS  -0.208519\n",
       "codesum_TS TSRA RA FG BR HZ     0.057789\n",
       "codesum_TS TSRA RA VCTS        -0.259327\n",
       "codesum_TSRA                   -0.478991\n",
       "codesum_TSRA BR                 0.003148\n",
       "codesum_TSRA BR HZ VCTS        -0.524182\n",
       "codesum_TSRA FG+ BR HZ          0.000000\n",
       "codesum_TSRA RA                 0.355432\n",
       "codesum_TSRA RA BR             -0.056323\n",
       "codesum_TSRA RA BR HZ           0.000000\n",
       "codesum_TSRA RA BR HZ VCTS      0.000000\n",
       "codesum_TSRA RA BR VCTS         0.224739\n",
       "codesum_TSRA RA VCTS            0.000000\n",
       "codesum_VCTS                    0.110094"
      ]
     },
     "execution_count": 257,
     "metadata": {},
     "output_type": "execute_result"
    }
   ],
   "source": [
    "ridge_coef"
   ]
  },
  {
   "cell_type": "code",
   "execution_count": 259,
   "id": "ada614af",
   "metadata": {},
   "outputs": [
    {
     "data": {
      "text/html": [
       "<div>\n",
       "<style scoped>\n",
       "    .dataframe tbody tr th:only-of-type {\n",
       "        vertical-align: middle;\n",
       "    }\n",
       "\n",
       "    .dataframe tbody tr th {\n",
       "        vertical-align: top;\n",
       "    }\n",
       "\n",
       "    .dataframe thead th {\n",
       "        text-align: right;\n",
       "    }\n",
       "</style>\n",
       "<table border=\"1\" class=\"dataframe\">\n",
       "  <thead>\n",
       "    <tr style=\"text-align: right;\">\n",
       "      <th></th>\n",
       "      <th>coef</th>\n",
       "    </tr>\n",
       "  </thead>\n",
       "  <tbody>\n",
       "    <tr>\n",
       "      <th>BCFG</th>\n",
       "      <td>0.0</td>\n",
       "    </tr>\n",
       "    <tr>\n",
       "      <th>year_2008</th>\n",
       "      <td>0.0</td>\n",
       "    </tr>\n",
       "    <tr>\n",
       "      <th>year_2010</th>\n",
       "      <td>0.0</td>\n",
       "    </tr>\n",
       "    <tr>\n",
       "      <th>year_2012</th>\n",
       "      <td>0.0</td>\n",
       "    </tr>\n",
       "    <tr>\n",
       "      <th>year_2014</th>\n",
       "      <td>0.0</td>\n",
       "    </tr>\n",
       "    <tr>\n",
       "      <th>trap_T002A</th>\n",
       "      <td>0.0</td>\n",
       "    </tr>\n",
       "    <tr>\n",
       "      <th>trap_T002B</th>\n",
       "      <td>0.0</td>\n",
       "    </tr>\n",
       "    <tr>\n",
       "      <th>trap_T065A</th>\n",
       "      <td>0.0</td>\n",
       "    </tr>\n",
       "    <tr>\n",
       "      <th>trap_T090A</th>\n",
       "      <td>0.0</td>\n",
       "    </tr>\n",
       "    <tr>\n",
       "      <th>trap_T090B</th>\n",
       "      <td>0.0</td>\n",
       "    </tr>\n",
       "    <tr>\n",
       "      <th>trap_T090C</th>\n",
       "      <td>0.0</td>\n",
       "    </tr>\n",
       "    <tr>\n",
       "      <th>trap_T128A</th>\n",
       "      <td>0.0</td>\n",
       "    </tr>\n",
       "    <tr>\n",
       "      <th>trap_T200A</th>\n",
       "      <td>0.0</td>\n",
       "    </tr>\n",
       "    <tr>\n",
       "      <th>trap_T200B</th>\n",
       "      <td>0.0</td>\n",
       "    </tr>\n",
       "    <tr>\n",
       "      <th>trap_T218A</th>\n",
       "      <td>0.0</td>\n",
       "    </tr>\n",
       "    <tr>\n",
       "      <th>trap_T218B</th>\n",
       "      <td>0.0</td>\n",
       "    </tr>\n",
       "    <tr>\n",
       "      <th>trap_T218C</th>\n",
       "      <td>0.0</td>\n",
       "    </tr>\n",
       "    <tr>\n",
       "      <th>trap_T234</th>\n",
       "      <td>0.0</td>\n",
       "    </tr>\n",
       "    <tr>\n",
       "      <th>codesum_BCFG BR</th>\n",
       "      <td>0.0</td>\n",
       "    </tr>\n",
       "    <tr>\n",
       "      <th>codesum_DZ</th>\n",
       "      <td>0.0</td>\n",
       "    </tr>\n",
       "    <tr>\n",
       "      <th>codesum_RA DZ</th>\n",
       "      <td>0.0</td>\n",
       "    </tr>\n",
       "    <tr>\n",
       "      <th>codesum_TSRA FG+ BR HZ</th>\n",
       "      <td>0.0</td>\n",
       "    </tr>\n",
       "    <tr>\n",
       "      <th>codesum_TSRA RA BR HZ</th>\n",
       "      <td>0.0</td>\n",
       "    </tr>\n",
       "    <tr>\n",
       "      <th>codesum_TSRA RA BR HZ VCTS</th>\n",
       "      <td>0.0</td>\n",
       "    </tr>\n",
       "    <tr>\n",
       "      <th>codesum_TSRA RA VCTS</th>\n",
       "      <td>0.0</td>\n",
       "    </tr>\n",
       "  </tbody>\n",
       "</table>\n",
       "</div>"
      ],
      "text/plain": [
       "                            coef\n",
       "BCFG                         0.0\n",
       "year_2008                    0.0\n",
       "year_2010                    0.0\n",
       "year_2012                    0.0\n",
       "year_2014                    0.0\n",
       "trap_T002A                   0.0\n",
       "trap_T002B                   0.0\n",
       "trap_T065A                   0.0\n",
       "trap_T090A                   0.0\n",
       "trap_T090B                   0.0\n",
       "trap_T090C                   0.0\n",
       "trap_T128A                   0.0\n",
       "trap_T200A                   0.0\n",
       "trap_T200B                   0.0\n",
       "trap_T218A                   0.0\n",
       "trap_T218B                   0.0\n",
       "trap_T218C                   0.0\n",
       "trap_T234                    0.0\n",
       "codesum_BCFG BR              0.0\n",
       "codesum_DZ                   0.0\n",
       "codesum_RA DZ                0.0\n",
       "codesum_TSRA FG+ BR HZ       0.0\n",
       "codesum_TSRA RA BR HZ        0.0\n",
       "codesum_TSRA RA BR HZ VCTS   0.0\n",
       "codesum_TSRA RA VCTS         0.0"
      ]
     },
     "execution_count": 259,
     "metadata": {},
     "output_type": "execute_result"
    }
   ],
   "source": [
    "ridge_coef_0 = ridge_coef.loc[ridge_coef['coef'] == 0, :]\n",
    "ridge_coef_0 "
   ]
  },
  {
   "cell_type": "code",
   "execution_count": 260,
   "id": "3a1ee650",
   "metadata": {},
   "outputs": [],
   "source": [
    "# Observations:\n",
    "# We might want to take year out as it does not help us with using our modeling for future \n",
    "# purposes\n",
    "# weeks might still have a reason since for each year the week will come by again"
   ]
  },
  {
   "cell_type": "markdown",
   "id": "dd9b19a2",
   "metadata": {},
   "source": [
    "With Lasso CV"
   ]
  },
  {
   "cell_type": "code",
   "execution_count": 276,
   "id": "bf0db91f",
   "metadata": {},
   "outputs": [
    {
     "name": "stdout",
     "output_type": "stream",
     "text": [
      "Logistic Regression Intercept: [-2.66327546]\n"
     ]
    }
   ],
   "source": [
    "lasso = LogisticRegression(max_iter=10_000, penalty = 'l1', solver = 'liblinear')\n",
    "\n",
    "# Fit model\n",
    "lasso.fit(Xsm_train, ysm_train)\n",
    "\n",
    "print(f'Logistic Regression Intercept: {logreg.intercept_}')"
   ]
  },
  {
   "cell_type": "code",
   "execution_count": 277,
   "id": "ea60b7f9",
   "metadata": {},
   "outputs": [
    {
     "data": {
      "text/plain": [
       "(0.8358538657604078, 0.7707129094412332)"
      ]
     },
     "execution_count": 277,
     "metadata": {},
     "output_type": "execute_result"
    }
   ],
   "source": [
    "#logreg of no-week data, with SMOTE\n",
    "lasso.score(Xsm_train, ysm_train), lasso.score(Xs_holdout, y_holdout)"
   ]
  },
  {
   "cell_type": "code",
   "execution_count": 278,
   "id": "d0e8dbfa",
   "metadata": {},
   "outputs": [],
   "source": [
    "lasso_coef = pd.DataFrame(data=lasso.coef_[0],\n",
    "                          index=df_col.columns,\n",
    "                          columns=['coef'])\n"
   ]
  },
  {
   "cell_type": "code",
   "execution_count": 279,
   "id": "71ba386e",
   "metadata": {},
   "outputs": [
    {
     "data": {
      "text/html": [
       "<div>\n",
       "<style scoped>\n",
       "    .dataframe tbody tr th:only-of-type {\n",
       "        vertical-align: middle;\n",
       "    }\n",
       "\n",
       "    .dataframe tbody tr th {\n",
       "        vertical-align: top;\n",
       "    }\n",
       "\n",
       "    .dataframe thead th {\n",
       "        text-align: right;\n",
       "    }\n",
       "</style>\n",
       "<table border=\"1\" class=\"dataframe\">\n",
       "  <thead>\n",
       "    <tr style=\"text-align: right;\">\n",
       "      <th></th>\n",
       "      <th>coef</th>\n",
       "    </tr>\n",
       "  </thead>\n",
       "  <tbody>\n",
       "    <tr>\n",
       "      <th>latitude</th>\n",
       "      <td>-0.829693</td>\n",
       "    </tr>\n",
       "    <tr>\n",
       "      <th>longitude</th>\n",
       "      <td>-0.583791</td>\n",
       "    </tr>\n",
       "    <tr>\n",
       "      <th>tavg</th>\n",
       "      <td>0.682029</td>\n",
       "    </tr>\n",
       "    <tr>\n",
       "      <th>preciptotal</th>\n",
       "      <td>-0.926049</td>\n",
       "    </tr>\n",
       "    <tr>\n",
       "      <th>stnpressure</th>\n",
       "      <td>0.201010</td>\n",
       "    </tr>\n",
       "    <tr>\n",
       "      <th>resultdir</th>\n",
       "      <td>0.027675</td>\n",
       "    </tr>\n",
       "    <tr>\n",
       "      <th>avgspeed</th>\n",
       "      <td>-0.384155</td>\n",
       "    </tr>\n",
       "    <tr>\n",
       "      <th>is_spray</th>\n",
       "      <td>0.009898</td>\n",
       "    </tr>\n",
       "    <tr>\n",
       "      <th>stnpressure_7</th>\n",
       "      <td>0.338941</td>\n",
       "    </tr>\n",
       "    <tr>\n",
       "      <th>stnpressure_10</th>\n",
       "      <td>-0.152528</td>\n",
       "    </tr>\n",
       "    <tr>\n",
       "      <th>preciptotal_7</th>\n",
       "      <td>-0.192778</td>\n",
       "    </tr>\n",
       "    <tr>\n",
       "      <th>preciptotal_10</th>\n",
       "      <td>0.239934</td>\n",
       "    </tr>\n",
       "    <tr>\n",
       "      <th>DZ</th>\n",
       "      <td>-0.069144</td>\n",
       "    </tr>\n",
       "    <tr>\n",
       "      <th>BR</th>\n",
       "      <td>0.000000</td>\n",
       "    </tr>\n",
       "    <tr>\n",
       "      <th>TSRA</th>\n",
       "      <td>0.039325</td>\n",
       "    </tr>\n",
       "    <tr>\n",
       "      <th>VCTS</th>\n",
       "      <td>0.000000</td>\n",
       "    </tr>\n",
       "    <tr>\n",
       "      <th>BCFG</th>\n",
       "      <td>0.000000</td>\n",
       "    </tr>\n",
       "    <tr>\n",
       "      <th>FG</th>\n",
       "      <td>0.000000</td>\n",
       "    </tr>\n",
       "    <tr>\n",
       "      <th>TS</th>\n",
       "      <td>0.108791</td>\n",
       "    </tr>\n",
       "    <tr>\n",
       "      <th>FG+</th>\n",
       "      <td>0.000000</td>\n",
       "    </tr>\n",
       "    <tr>\n",
       "      <th>HZ</th>\n",
       "      <td>-0.011591</td>\n",
       "    </tr>\n",
       "    <tr>\n",
       "      <th>RA</th>\n",
       "      <td>0.000000</td>\n",
       "    </tr>\n",
       "    <tr>\n",
       "      <th>year_2008</th>\n",
       "      <td>0.000000</td>\n",
       "    </tr>\n",
       "    <tr>\n",
       "      <th>year_2009</th>\n",
       "      <td>-0.428435</td>\n",
       "    </tr>\n",
       "    <tr>\n",
       "      <th>year_2010</th>\n",
       "      <td>0.000000</td>\n",
       "    </tr>\n",
       "    <tr>\n",
       "      <th>year_2011</th>\n",
       "      <td>0.060218</td>\n",
       "    </tr>\n",
       "    <tr>\n",
       "      <th>year_2012</th>\n",
       "      <td>0.000000</td>\n",
       "    </tr>\n",
       "    <tr>\n",
       "      <th>year_2013</th>\n",
       "      <td>0.729922</td>\n",
       "    </tr>\n",
       "    <tr>\n",
       "      <th>year_2014</th>\n",
       "      <td>0.000000</td>\n",
       "    </tr>\n",
       "    <tr>\n",
       "      <th>dayofweek_1</th>\n",
       "      <td>0.875595</td>\n",
       "    </tr>\n",
       "    <tr>\n",
       "      <th>dayofweek_2</th>\n",
       "      <td>0.594192</td>\n",
       "    </tr>\n",
       "    <tr>\n",
       "      <th>dayofweek_3</th>\n",
       "      <td>0.346030</td>\n",
       "    </tr>\n",
       "    <tr>\n",
       "      <th>dayofweek_4</th>\n",
       "      <td>0.294682</td>\n",
       "    </tr>\n",
       "    <tr>\n",
       "      <th>species_CULEX PIPIENS/RESTUANS</th>\n",
       "      <td>-0.126447</td>\n",
       "    </tr>\n",
       "    <tr>\n",
       "      <th>species_CULEX RESTUANS</th>\n",
       "      <td>-0.772660</td>\n",
       "    </tr>\n",
       "    <tr>\n",
       "      <th>trap_T002</th>\n",
       "      <td>0.337138</td>\n",
       "    </tr>\n",
       "    <tr>\n",
       "      <th>trap_T002A</th>\n",
       "      <td>0.000000</td>\n",
       "    </tr>\n",
       "    <tr>\n",
       "      <th>trap_T002B</th>\n",
       "      <td>0.000000</td>\n",
       "    </tr>\n",
       "    <tr>\n",
       "      <th>trap_T003</th>\n",
       "      <td>0.382876</td>\n",
       "    </tr>\n",
       "    <tr>\n",
       "      <th>trap_T004</th>\n",
       "      <td>-0.157233</td>\n",
       "    </tr>\n",
       "    <tr>\n",
       "      <th>trap_T005</th>\n",
       "      <td>-0.198646</td>\n",
       "    </tr>\n",
       "    <tr>\n",
       "      <th>trap_T006</th>\n",
       "      <td>0.028571</td>\n",
       "    </tr>\n",
       "    <tr>\n",
       "      <th>trap_T007</th>\n",
       "      <td>-0.296629</td>\n",
       "    </tr>\n",
       "    <tr>\n",
       "      <th>trap_T008</th>\n",
       "      <td>0.285992</td>\n",
       "    </tr>\n",
       "    <tr>\n",
       "      <th>trap_T009</th>\n",
       "      <td>0.040320</td>\n",
       "    </tr>\n",
       "    <tr>\n",
       "      <th>trap_T009A</th>\n",
       "      <td>-0.052914</td>\n",
       "    </tr>\n",
       "    <tr>\n",
       "      <th>trap_T011</th>\n",
       "      <td>0.169087</td>\n",
       "    </tr>\n",
       "    <tr>\n",
       "      <th>trap_T012</th>\n",
       "      <td>0.023668</td>\n",
       "    </tr>\n",
       "    <tr>\n",
       "      <th>trap_T013</th>\n",
       "      <td>0.296277</td>\n",
       "    </tr>\n",
       "    <tr>\n",
       "      <th>trap_T014</th>\n",
       "      <td>0.048827</td>\n",
       "    </tr>\n",
       "    <tr>\n",
       "      <th>trap_T015</th>\n",
       "      <td>0.020669</td>\n",
       "    </tr>\n",
       "    <tr>\n",
       "      <th>trap_T016</th>\n",
       "      <td>0.062510</td>\n",
       "    </tr>\n",
       "    <tr>\n",
       "      <th>trap_T017</th>\n",
       "      <td>-0.520718</td>\n",
       "    </tr>\n",
       "    <tr>\n",
       "      <th>trap_T018</th>\n",
       "      <td>-0.308142</td>\n",
       "    </tr>\n",
       "    <tr>\n",
       "      <th>trap_T019</th>\n",
       "      <td>-0.234983</td>\n",
       "    </tr>\n",
       "    <tr>\n",
       "      <th>trap_T025</th>\n",
       "      <td>-0.312674</td>\n",
       "    </tr>\n",
       "    <tr>\n",
       "      <th>trap_T027</th>\n",
       "      <td>0.172527</td>\n",
       "    </tr>\n",
       "    <tr>\n",
       "      <th>trap_T028</th>\n",
       "      <td>0.340536</td>\n",
       "    </tr>\n",
       "    <tr>\n",
       "      <th>trap_T030</th>\n",
       "      <td>0.118563</td>\n",
       "    </tr>\n",
       "    <tr>\n",
       "      <th>trap_T031</th>\n",
       "      <td>0.079526</td>\n",
       "    </tr>\n",
       "    <tr>\n",
       "      <th>trap_T033</th>\n",
       "      <td>0.101743</td>\n",
       "    </tr>\n",
       "    <tr>\n",
       "      <th>trap_T034</th>\n",
       "      <td>-0.219116</td>\n",
       "    </tr>\n",
       "    <tr>\n",
       "      <th>trap_T035</th>\n",
       "      <td>-0.282857</td>\n",
       "    </tr>\n",
       "    <tr>\n",
       "      <th>trap_T035A</th>\n",
       "      <td>-0.034977</td>\n",
       "    </tr>\n",
       "    <tr>\n",
       "      <th>trap_T036</th>\n",
       "      <td>-0.039096</td>\n",
       "    </tr>\n",
       "    <tr>\n",
       "      <th>trap_T037</th>\n",
       "      <td>-0.255115</td>\n",
       "    </tr>\n",
       "    <tr>\n",
       "      <th>trap_T039</th>\n",
       "      <td>0.125844</td>\n",
       "    </tr>\n",
       "    <tr>\n",
       "      <th>trap_T040</th>\n",
       "      <td>0.000000</td>\n",
       "    </tr>\n",
       "    <tr>\n",
       "      <th>trap_T043</th>\n",
       "      <td>-0.427001</td>\n",
       "    </tr>\n",
       "    <tr>\n",
       "      <th>trap_T044</th>\n",
       "      <td>-0.182287</td>\n",
       "    </tr>\n",
       "    <tr>\n",
       "      <th>trap_T045</th>\n",
       "      <td>0.143998</td>\n",
       "    </tr>\n",
       "    <tr>\n",
       "      <th>trap_T046</th>\n",
       "      <td>-0.494490</td>\n",
       "    </tr>\n",
       "    <tr>\n",
       "      <th>trap_T047</th>\n",
       "      <td>0.022323</td>\n",
       "    </tr>\n",
       "    <tr>\n",
       "      <th>trap_T048</th>\n",
       "      <td>0.232789</td>\n",
       "    </tr>\n",
       "    <tr>\n",
       "      <th>trap_T049</th>\n",
       "      <td>0.000000</td>\n",
       "    </tr>\n",
       "    <tr>\n",
       "      <th>trap_T050</th>\n",
       "      <td>-0.210492</td>\n",
       "    </tr>\n",
       "    <tr>\n",
       "      <th>trap_T051</th>\n",
       "      <td>-0.220901</td>\n",
       "    </tr>\n",
       "    <tr>\n",
       "      <th>trap_T054</th>\n",
       "      <td>0.346182</td>\n",
       "    </tr>\n",
       "    <tr>\n",
       "      <th>trap_T054C</th>\n",
       "      <td>0.042080</td>\n",
       "    </tr>\n",
       "    <tr>\n",
       "      <th>trap_T060</th>\n",
       "      <td>-0.176952</td>\n",
       "    </tr>\n",
       "    <tr>\n",
       "      <th>trap_T061</th>\n",
       "      <td>0.097324</td>\n",
       "    </tr>\n",
       "    <tr>\n",
       "      <th>trap_T062</th>\n",
       "      <td>-0.003865</td>\n",
       "    </tr>\n",
       "    <tr>\n",
       "      <th>trap_T063</th>\n",
       "      <td>-0.075125</td>\n",
       "    </tr>\n",
       "    <tr>\n",
       "      <th>trap_T065</th>\n",
       "      <td>-0.007537</td>\n",
       "    </tr>\n",
       "    <tr>\n",
       "      <th>trap_T065A</th>\n",
       "      <td>0.000000</td>\n",
       "    </tr>\n",
       "    <tr>\n",
       "      <th>trap_T066</th>\n",
       "      <td>0.074541</td>\n",
       "    </tr>\n",
       "    <tr>\n",
       "      <th>trap_T067</th>\n",
       "      <td>0.003026</td>\n",
       "    </tr>\n",
       "    <tr>\n",
       "      <th>trap_T069</th>\n",
       "      <td>-0.164573</td>\n",
       "    </tr>\n",
       "    <tr>\n",
       "      <th>trap_T070</th>\n",
       "      <td>0.000225</td>\n",
       "    </tr>\n",
       "    <tr>\n",
       "      <th>trap_T071</th>\n",
       "      <td>-0.287619</td>\n",
       "    </tr>\n",
       "    <tr>\n",
       "      <th>trap_T072</th>\n",
       "      <td>-0.216822</td>\n",
       "    </tr>\n",
       "    <tr>\n",
       "      <th>trap_T073</th>\n",
       "      <td>0.092277</td>\n",
       "    </tr>\n",
       "    <tr>\n",
       "      <th>trap_T074</th>\n",
       "      <td>0.004104</td>\n",
       "    </tr>\n",
       "    <tr>\n",
       "      <th>trap_T075</th>\n",
       "      <td>-0.190341</td>\n",
       "    </tr>\n",
       "    <tr>\n",
       "      <th>trap_T076</th>\n",
       "      <td>-0.077201</td>\n",
       "    </tr>\n",
       "    <tr>\n",
       "      <th>trap_T077</th>\n",
       "      <td>-0.315849</td>\n",
       "    </tr>\n",
       "    <tr>\n",
       "      <th>trap_T078</th>\n",
       "      <td>-0.133516</td>\n",
       "    </tr>\n",
       "    <tr>\n",
       "      <th>trap_T079</th>\n",
       "      <td>-0.026068</td>\n",
       "    </tr>\n",
       "    <tr>\n",
       "      <th>trap_T080</th>\n",
       "      <td>-0.004748</td>\n",
       "    </tr>\n",
       "    <tr>\n",
       "      <th>trap_T081</th>\n",
       "      <td>-0.282839</td>\n",
       "    </tr>\n",
       "    <tr>\n",
       "      <th>trap_T082</th>\n",
       "      <td>0.264965</td>\n",
       "    </tr>\n",
       "    <tr>\n",
       "      <th>trap_T083</th>\n",
       "      <td>0.000848</td>\n",
       "    </tr>\n",
       "    <tr>\n",
       "      <th>trap_T084</th>\n",
       "      <td>-0.045897</td>\n",
       "    </tr>\n",
       "    <tr>\n",
       "      <th>trap_T085</th>\n",
       "      <td>-0.026715</td>\n",
       "    </tr>\n",
       "    <tr>\n",
       "      <th>trap_T086</th>\n",
       "      <td>0.059308</td>\n",
       "    </tr>\n",
       "    <tr>\n",
       "      <th>trap_T088</th>\n",
       "      <td>-0.268044</td>\n",
       "    </tr>\n",
       "    <tr>\n",
       "      <th>trap_T089</th>\n",
       "      <td>0.060054</td>\n",
       "    </tr>\n",
       "    <tr>\n",
       "      <th>trap_T090</th>\n",
       "      <td>0.379567</td>\n",
       "    </tr>\n",
       "    <tr>\n",
       "      <th>trap_T090A</th>\n",
       "      <td>0.000000</td>\n",
       "    </tr>\n",
       "    <tr>\n",
       "      <th>trap_T090B</th>\n",
       "      <td>0.000000</td>\n",
       "    </tr>\n",
       "    <tr>\n",
       "      <th>trap_T090C</th>\n",
       "      <td>0.000000</td>\n",
       "    </tr>\n",
       "    <tr>\n",
       "      <th>trap_T091</th>\n",
       "      <td>0.039486</td>\n",
       "    </tr>\n",
       "    <tr>\n",
       "      <th>trap_T092</th>\n",
       "      <td>-0.237189</td>\n",
       "    </tr>\n",
       "    <tr>\n",
       "      <th>trap_T094</th>\n",
       "      <td>0.000000</td>\n",
       "    </tr>\n",
       "    <tr>\n",
       "      <th>trap_T094B</th>\n",
       "      <td>-0.128906</td>\n",
       "    </tr>\n",
       "    <tr>\n",
       "      <th>trap_T095</th>\n",
       "      <td>0.193554</td>\n",
       "    </tr>\n",
       "    <tr>\n",
       "      <th>trap_T096</th>\n",
       "      <td>0.090565</td>\n",
       "    </tr>\n",
       "    <tr>\n",
       "      <th>trap_T097</th>\n",
       "      <td>-0.259605</td>\n",
       "    </tr>\n",
       "    <tr>\n",
       "      <th>trap_T099</th>\n",
       "      <td>-0.379824</td>\n",
       "    </tr>\n",
       "    <tr>\n",
       "      <th>trap_T100</th>\n",
       "      <td>-0.288245</td>\n",
       "    </tr>\n",
       "    <tr>\n",
       "      <th>trap_T102</th>\n",
       "      <td>-0.152518</td>\n",
       "    </tr>\n",
       "    <tr>\n",
       "      <th>trap_T103</th>\n",
       "      <td>0.072370</td>\n",
       "    </tr>\n",
       "    <tr>\n",
       "      <th>trap_T107</th>\n",
       "      <td>0.005884</td>\n",
       "    </tr>\n",
       "    <tr>\n",
       "      <th>trap_T114</th>\n",
       "      <td>0.157156</td>\n",
       "    </tr>\n",
       "    <tr>\n",
       "      <th>trap_T115</th>\n",
       "      <td>0.240594</td>\n",
       "    </tr>\n",
       "    <tr>\n",
       "      <th>trap_T128</th>\n",
       "      <td>0.142524</td>\n",
       "    </tr>\n",
       "    <tr>\n",
       "      <th>trap_T128A</th>\n",
       "      <td>0.000000</td>\n",
       "    </tr>\n",
       "    <tr>\n",
       "      <th>trap_T129</th>\n",
       "      <td>-0.194973</td>\n",
       "    </tr>\n",
       "    <tr>\n",
       "      <th>trap_T135</th>\n",
       "      <td>0.017719</td>\n",
       "    </tr>\n",
       "    <tr>\n",
       "      <th>trap_T138</th>\n",
       "      <td>0.246779</td>\n",
       "    </tr>\n",
       "    <tr>\n",
       "      <th>trap_T141</th>\n",
       "      <td>-0.202224</td>\n",
       "    </tr>\n",
       "    <tr>\n",
       "      <th>trap_T142</th>\n",
       "      <td>-0.260631</td>\n",
       "    </tr>\n",
       "    <tr>\n",
       "      <th>trap_T143</th>\n",
       "      <td>0.062317</td>\n",
       "    </tr>\n",
       "    <tr>\n",
       "      <th>trap_T144</th>\n",
       "      <td>-0.060421</td>\n",
       "    </tr>\n",
       "    <tr>\n",
       "      <th>trap_T145</th>\n",
       "      <td>-0.386446</td>\n",
       "    </tr>\n",
       "    <tr>\n",
       "      <th>trap_T146</th>\n",
       "      <td>-0.251984</td>\n",
       "    </tr>\n",
       "    <tr>\n",
       "      <th>trap_T147</th>\n",
       "      <td>0.212302</td>\n",
       "    </tr>\n",
       "    <tr>\n",
       "      <th>trap_T148</th>\n",
       "      <td>-0.300240</td>\n",
       "    </tr>\n",
       "    <tr>\n",
       "      <th>trap_T149</th>\n",
       "      <td>-0.137244</td>\n",
       "    </tr>\n",
       "    <tr>\n",
       "      <th>trap_T150</th>\n",
       "      <td>-0.141729</td>\n",
       "    </tr>\n",
       "    <tr>\n",
       "      <th>trap_T151</th>\n",
       "      <td>0.171794</td>\n",
       "    </tr>\n",
       "    <tr>\n",
       "      <th>trap_T152</th>\n",
       "      <td>-0.094560</td>\n",
       "    </tr>\n",
       "    <tr>\n",
       "      <th>trap_T153</th>\n",
       "      <td>-0.312002</td>\n",
       "    </tr>\n",
       "    <tr>\n",
       "      <th>trap_T154</th>\n",
       "      <td>0.069265</td>\n",
       "    </tr>\n",
       "    <tr>\n",
       "      <th>trap_T155</th>\n",
       "      <td>0.048799</td>\n",
       "    </tr>\n",
       "    <tr>\n",
       "      <th>trap_T156</th>\n",
       "      <td>-0.266296</td>\n",
       "    </tr>\n",
       "    <tr>\n",
       "      <th>trap_T157</th>\n",
       "      <td>-0.200650</td>\n",
       "    </tr>\n",
       "    <tr>\n",
       "      <th>trap_T158</th>\n",
       "      <td>0.032330</td>\n",
       "    </tr>\n",
       "    <tr>\n",
       "      <th>trap_T159</th>\n",
       "      <td>-0.027770</td>\n",
       "    </tr>\n",
       "    <tr>\n",
       "      <th>trap_T160</th>\n",
       "      <td>0.258520</td>\n",
       "    </tr>\n",
       "    <tr>\n",
       "      <th>trap_T161</th>\n",
       "      <td>-0.285707</td>\n",
       "    </tr>\n",
       "    <tr>\n",
       "      <th>trap_T162</th>\n",
       "      <td>0.046614</td>\n",
       "    </tr>\n",
       "    <tr>\n",
       "      <th>trap_T200</th>\n",
       "      <td>-0.119959</td>\n",
       "    </tr>\n",
       "    <tr>\n",
       "      <th>trap_T200A</th>\n",
       "      <td>0.000000</td>\n",
       "    </tr>\n",
       "    <tr>\n",
       "      <th>trap_T200B</th>\n",
       "      <td>0.000000</td>\n",
       "    </tr>\n",
       "    <tr>\n",
       "      <th>trap_T206</th>\n",
       "      <td>-0.234025</td>\n",
       "    </tr>\n",
       "    <tr>\n",
       "      <th>trap_T209</th>\n",
       "      <td>0.002802</td>\n",
       "    </tr>\n",
       "    <tr>\n",
       "      <th>trap_T212</th>\n",
       "      <td>-0.068267</td>\n",
       "    </tr>\n",
       "    <tr>\n",
       "      <th>trap_T215</th>\n",
       "      <td>0.155048</td>\n",
       "    </tr>\n",
       "    <tr>\n",
       "      <th>trap_T218</th>\n",
       "      <td>0.131409</td>\n",
       "    </tr>\n",
       "    <tr>\n",
       "      <th>trap_T218A</th>\n",
       "      <td>0.000000</td>\n",
       "    </tr>\n",
       "    <tr>\n",
       "      <th>trap_T218B</th>\n",
       "      <td>0.000000</td>\n",
       "    </tr>\n",
       "    <tr>\n",
       "      <th>trap_T218C</th>\n",
       "      <td>0.000000</td>\n",
       "    </tr>\n",
       "    <tr>\n",
       "      <th>trap_T219</th>\n",
       "      <td>-0.228696</td>\n",
       "    </tr>\n",
       "    <tr>\n",
       "      <th>trap_T220</th>\n",
       "      <td>0.079059</td>\n",
       "    </tr>\n",
       "    <tr>\n",
       "      <th>trap_T221</th>\n",
       "      <td>0.113302</td>\n",
       "    </tr>\n",
       "    <tr>\n",
       "      <th>trap_T222</th>\n",
       "      <td>-0.021118</td>\n",
       "    </tr>\n",
       "    <tr>\n",
       "      <th>trap_T223</th>\n",
       "      <td>0.268059</td>\n",
       "    </tr>\n",
       "    <tr>\n",
       "      <th>trap_T224</th>\n",
       "      <td>-0.009799</td>\n",
       "    </tr>\n",
       "    <tr>\n",
       "      <th>trap_T225</th>\n",
       "      <td>0.290767</td>\n",
       "    </tr>\n",
       "    <tr>\n",
       "      <th>trap_T226</th>\n",
       "      <td>-0.084967</td>\n",
       "    </tr>\n",
       "    <tr>\n",
       "      <th>trap_T227</th>\n",
       "      <td>0.135445</td>\n",
       "    </tr>\n",
       "    <tr>\n",
       "      <th>trap_T228</th>\n",
       "      <td>0.340376</td>\n",
       "    </tr>\n",
       "    <tr>\n",
       "      <th>trap_T229</th>\n",
       "      <td>-0.043722</td>\n",
       "    </tr>\n",
       "    <tr>\n",
       "      <th>trap_T230</th>\n",
       "      <td>0.268483</td>\n",
       "    </tr>\n",
       "    <tr>\n",
       "      <th>trap_T231</th>\n",
       "      <td>0.199589</td>\n",
       "    </tr>\n",
       "    <tr>\n",
       "      <th>trap_T232</th>\n",
       "      <td>-0.263184</td>\n",
       "    </tr>\n",
       "    <tr>\n",
       "      <th>trap_T233</th>\n",
       "      <td>0.132321</td>\n",
       "    </tr>\n",
       "    <tr>\n",
       "      <th>trap_T234</th>\n",
       "      <td>0.000000</td>\n",
       "    </tr>\n",
       "    <tr>\n",
       "      <th>trap_T235</th>\n",
       "      <td>0.108025</td>\n",
       "    </tr>\n",
       "    <tr>\n",
       "      <th>trap_T236</th>\n",
       "      <td>0.024568</td>\n",
       "    </tr>\n",
       "    <tr>\n",
       "      <th>trap_T237</th>\n",
       "      <td>-0.065875</td>\n",
       "    </tr>\n",
       "    <tr>\n",
       "      <th>trap_T238</th>\n",
       "      <td>-0.080592</td>\n",
       "    </tr>\n",
       "    <tr>\n",
       "      <th>trap_T900</th>\n",
       "      <td>0.606007</td>\n",
       "    </tr>\n",
       "    <tr>\n",
       "      <th>trap_T903</th>\n",
       "      <td>0.259076</td>\n",
       "    </tr>\n",
       "    <tr>\n",
       "      <th>codesum_BCFG BR</th>\n",
       "      <td>0.000000</td>\n",
       "    </tr>\n",
       "    <tr>\n",
       "      <th>codesum_BR</th>\n",
       "      <td>0.228527</td>\n",
       "    </tr>\n",
       "    <tr>\n",
       "      <th>codesum_BR HZ</th>\n",
       "      <td>0.001760</td>\n",
       "    </tr>\n",
       "    <tr>\n",
       "      <th>codesum_DZ</th>\n",
       "      <td>0.000000</td>\n",
       "    </tr>\n",
       "    <tr>\n",
       "      <th>codesum_DZ BR</th>\n",
       "      <td>-0.192301</td>\n",
       "    </tr>\n",
       "    <tr>\n",
       "      <th>codesum_FG BR HZ</th>\n",
       "      <td>-0.037757</td>\n",
       "    </tr>\n",
       "    <tr>\n",
       "      <th>codesum_HZ</th>\n",
       "      <td>-0.147911</td>\n",
       "    </tr>\n",
       "    <tr>\n",
       "      <th>codesum_RA</th>\n",
       "      <td>0.094703</td>\n",
       "    </tr>\n",
       "    <tr>\n",
       "      <th>codesum_RA BR</th>\n",
       "      <td>-0.229606</td>\n",
       "    </tr>\n",
       "    <tr>\n",
       "      <th>codesum_RA BR HZ</th>\n",
       "      <td>-0.065987</td>\n",
       "    </tr>\n",
       "    <tr>\n",
       "      <th>codesum_RA DZ</th>\n",
       "      <td>0.000000</td>\n",
       "    </tr>\n",
       "    <tr>\n",
       "      <th>codesum_RA DZ BR</th>\n",
       "      <td>0.000000</td>\n",
       "    </tr>\n",
       "    <tr>\n",
       "      <th>codesum_RA HZ</th>\n",
       "      <td>0.000000</td>\n",
       "    </tr>\n",
       "    <tr>\n",
       "      <th>codesum_TS</th>\n",
       "      <td>-0.098606</td>\n",
       "    </tr>\n",
       "    <tr>\n",
       "      <th>codesum_TS BR</th>\n",
       "      <td>0.112491</td>\n",
       "    </tr>\n",
       "    <tr>\n",
       "      <th>codesum_TS RA</th>\n",
       "      <td>-0.317572</td>\n",
       "    </tr>\n",
       "    <tr>\n",
       "      <th>codesum_TS TSRA BR</th>\n",
       "      <td>0.000000</td>\n",
       "    </tr>\n",
       "    <tr>\n",
       "      <th>codesum_TS TSRA BR HZ</th>\n",
       "      <td>-0.169877</td>\n",
       "    </tr>\n",
       "    <tr>\n",
       "      <th>codesum_TS TSRA RA</th>\n",
       "      <td>0.233111</td>\n",
       "    </tr>\n",
       "    <tr>\n",
       "      <th>codesum_TS TSRA RA BR</th>\n",
       "      <td>0.352855</td>\n",
       "    </tr>\n",
       "    <tr>\n",
       "      <th>codesum_TS TSRA RA BR HZ VCTS</th>\n",
       "      <td>-0.237674</td>\n",
       "    </tr>\n",
       "    <tr>\n",
       "      <th>codesum_TS TSRA RA FG BR HZ</th>\n",
       "      <td>0.069291</td>\n",
       "    </tr>\n",
       "    <tr>\n",
       "      <th>codesum_TS TSRA RA VCTS</th>\n",
       "      <td>-0.253123</td>\n",
       "    </tr>\n",
       "    <tr>\n",
       "      <th>codesum_TSRA</th>\n",
       "      <td>-0.428984</td>\n",
       "    </tr>\n",
       "    <tr>\n",
       "      <th>codesum_TSRA BR</th>\n",
       "      <td>0.012895</td>\n",
       "    </tr>\n",
       "    <tr>\n",
       "      <th>codesum_TSRA BR HZ VCTS</th>\n",
       "      <td>-0.592777</td>\n",
       "    </tr>\n",
       "    <tr>\n",
       "      <th>codesum_TSRA FG+ BR HZ</th>\n",
       "      <td>0.000000</td>\n",
       "    </tr>\n",
       "    <tr>\n",
       "      <th>codesum_TSRA RA</th>\n",
       "      <td>0.346790</td>\n",
       "    </tr>\n",
       "    <tr>\n",
       "      <th>codesum_TSRA RA BR</th>\n",
       "      <td>0.000000</td>\n",
       "    </tr>\n",
       "    <tr>\n",
       "      <th>codesum_TSRA RA BR HZ</th>\n",
       "      <td>0.000000</td>\n",
       "    </tr>\n",
       "    <tr>\n",
       "      <th>codesum_TSRA RA BR HZ VCTS</th>\n",
       "      <td>0.000000</td>\n",
       "    </tr>\n",
       "    <tr>\n",
       "      <th>codesum_TSRA RA BR VCTS</th>\n",
       "      <td>0.064006</td>\n",
       "    </tr>\n",
       "    <tr>\n",
       "      <th>codesum_TSRA RA VCTS</th>\n",
       "      <td>0.000000</td>\n",
       "    </tr>\n",
       "    <tr>\n",
       "      <th>codesum_VCTS</th>\n",
       "      <td>0.019338</td>\n",
       "    </tr>\n",
       "  </tbody>\n",
       "</table>\n",
       "</div>"
      ],
      "text/plain": [
       "                                    coef\n",
       "latitude                       -0.829693\n",
       "longitude                      -0.583791\n",
       "tavg                            0.682029\n",
       "preciptotal                    -0.926049\n",
       "stnpressure                     0.201010\n",
       "resultdir                       0.027675\n",
       "avgspeed                       -0.384155\n",
       "is_spray                        0.009898\n",
       "stnpressure_7                   0.338941\n",
       "stnpressure_10                 -0.152528\n",
       "preciptotal_7                  -0.192778\n",
       "preciptotal_10                  0.239934\n",
       "DZ                             -0.069144\n",
       "BR                              0.000000\n",
       "TSRA                            0.039325\n",
       "VCTS                            0.000000\n",
       "BCFG                            0.000000\n",
       "FG                              0.000000\n",
       "TS                              0.108791\n",
       "FG+                             0.000000\n",
       "HZ                             -0.011591\n",
       "RA                              0.000000\n",
       "year_2008                       0.000000\n",
       "year_2009                      -0.428435\n",
       "year_2010                       0.000000\n",
       "year_2011                       0.060218\n",
       "year_2012                       0.000000\n",
       "year_2013                       0.729922\n",
       "year_2014                       0.000000\n",
       "dayofweek_1                     0.875595\n",
       "dayofweek_2                     0.594192\n",
       "dayofweek_3                     0.346030\n",
       "dayofweek_4                     0.294682\n",
       "species_CULEX PIPIENS/RESTUANS -0.126447\n",
       "species_CULEX RESTUANS         -0.772660\n",
       "trap_T002                       0.337138\n",
       "trap_T002A                      0.000000\n",
       "trap_T002B                      0.000000\n",
       "trap_T003                       0.382876\n",
       "trap_T004                      -0.157233\n",
       "trap_T005                      -0.198646\n",
       "trap_T006                       0.028571\n",
       "trap_T007                      -0.296629\n",
       "trap_T008                       0.285992\n",
       "trap_T009                       0.040320\n",
       "trap_T009A                     -0.052914\n",
       "trap_T011                       0.169087\n",
       "trap_T012                       0.023668\n",
       "trap_T013                       0.296277\n",
       "trap_T014                       0.048827\n",
       "trap_T015                       0.020669\n",
       "trap_T016                       0.062510\n",
       "trap_T017                      -0.520718\n",
       "trap_T018                      -0.308142\n",
       "trap_T019                      -0.234983\n",
       "trap_T025                      -0.312674\n",
       "trap_T027                       0.172527\n",
       "trap_T028                       0.340536\n",
       "trap_T030                       0.118563\n",
       "trap_T031                       0.079526\n",
       "trap_T033                       0.101743\n",
       "trap_T034                      -0.219116\n",
       "trap_T035                      -0.282857\n",
       "trap_T035A                     -0.034977\n",
       "trap_T036                      -0.039096\n",
       "trap_T037                      -0.255115\n",
       "trap_T039                       0.125844\n",
       "trap_T040                       0.000000\n",
       "trap_T043                      -0.427001\n",
       "trap_T044                      -0.182287\n",
       "trap_T045                       0.143998\n",
       "trap_T046                      -0.494490\n",
       "trap_T047                       0.022323\n",
       "trap_T048                       0.232789\n",
       "trap_T049                       0.000000\n",
       "trap_T050                      -0.210492\n",
       "trap_T051                      -0.220901\n",
       "trap_T054                       0.346182\n",
       "trap_T054C                      0.042080\n",
       "trap_T060                      -0.176952\n",
       "trap_T061                       0.097324\n",
       "trap_T062                      -0.003865\n",
       "trap_T063                      -0.075125\n",
       "trap_T065                      -0.007537\n",
       "trap_T065A                      0.000000\n",
       "trap_T066                       0.074541\n",
       "trap_T067                       0.003026\n",
       "trap_T069                      -0.164573\n",
       "trap_T070                       0.000225\n",
       "trap_T071                      -0.287619\n",
       "trap_T072                      -0.216822\n",
       "trap_T073                       0.092277\n",
       "trap_T074                       0.004104\n",
       "trap_T075                      -0.190341\n",
       "trap_T076                      -0.077201\n",
       "trap_T077                      -0.315849\n",
       "trap_T078                      -0.133516\n",
       "trap_T079                      -0.026068\n",
       "trap_T080                      -0.004748\n",
       "trap_T081                      -0.282839\n",
       "trap_T082                       0.264965\n",
       "trap_T083                       0.000848\n",
       "trap_T084                      -0.045897\n",
       "trap_T085                      -0.026715\n",
       "trap_T086                       0.059308\n",
       "trap_T088                      -0.268044\n",
       "trap_T089                       0.060054\n",
       "trap_T090                       0.379567\n",
       "trap_T090A                      0.000000\n",
       "trap_T090B                      0.000000\n",
       "trap_T090C                      0.000000\n",
       "trap_T091                       0.039486\n",
       "trap_T092                      -0.237189\n",
       "trap_T094                       0.000000\n",
       "trap_T094B                     -0.128906\n",
       "trap_T095                       0.193554\n",
       "trap_T096                       0.090565\n",
       "trap_T097                      -0.259605\n",
       "trap_T099                      -0.379824\n",
       "trap_T100                      -0.288245\n",
       "trap_T102                      -0.152518\n",
       "trap_T103                       0.072370\n",
       "trap_T107                       0.005884\n",
       "trap_T114                       0.157156\n",
       "trap_T115                       0.240594\n",
       "trap_T128                       0.142524\n",
       "trap_T128A                      0.000000\n",
       "trap_T129                      -0.194973\n",
       "trap_T135                       0.017719\n",
       "trap_T138                       0.246779\n",
       "trap_T141                      -0.202224\n",
       "trap_T142                      -0.260631\n",
       "trap_T143                       0.062317\n",
       "trap_T144                      -0.060421\n",
       "trap_T145                      -0.386446\n",
       "trap_T146                      -0.251984\n",
       "trap_T147                       0.212302\n",
       "trap_T148                      -0.300240\n",
       "trap_T149                      -0.137244\n",
       "trap_T150                      -0.141729\n",
       "trap_T151                       0.171794\n",
       "trap_T152                      -0.094560\n",
       "trap_T153                      -0.312002\n",
       "trap_T154                       0.069265\n",
       "trap_T155                       0.048799\n",
       "trap_T156                      -0.266296\n",
       "trap_T157                      -0.200650\n",
       "trap_T158                       0.032330\n",
       "trap_T159                      -0.027770\n",
       "trap_T160                       0.258520\n",
       "trap_T161                      -0.285707\n",
       "trap_T162                       0.046614\n",
       "trap_T200                      -0.119959\n",
       "trap_T200A                      0.000000\n",
       "trap_T200B                      0.000000\n",
       "trap_T206                      -0.234025\n",
       "trap_T209                       0.002802\n",
       "trap_T212                      -0.068267\n",
       "trap_T215                       0.155048\n",
       "trap_T218                       0.131409\n",
       "trap_T218A                      0.000000\n",
       "trap_T218B                      0.000000\n",
       "trap_T218C                      0.000000\n",
       "trap_T219                      -0.228696\n",
       "trap_T220                       0.079059\n",
       "trap_T221                       0.113302\n",
       "trap_T222                      -0.021118\n",
       "trap_T223                       0.268059\n",
       "trap_T224                      -0.009799\n",
       "trap_T225                       0.290767\n",
       "trap_T226                      -0.084967\n",
       "trap_T227                       0.135445\n",
       "trap_T228                       0.340376\n",
       "trap_T229                      -0.043722\n",
       "trap_T230                       0.268483\n",
       "trap_T231                       0.199589\n",
       "trap_T232                      -0.263184\n",
       "trap_T233                       0.132321\n",
       "trap_T234                       0.000000\n",
       "trap_T235                       0.108025\n",
       "trap_T236                       0.024568\n",
       "trap_T237                      -0.065875\n",
       "trap_T238                      -0.080592\n",
       "trap_T900                       0.606007\n",
       "trap_T903                       0.259076\n",
       "codesum_BCFG BR                 0.000000\n",
       "codesum_BR                      0.228527\n",
       "codesum_BR HZ                   0.001760\n",
       "codesum_DZ                      0.000000\n",
       "codesum_DZ BR                  -0.192301\n",
       "codesum_FG BR HZ               -0.037757\n",
       "codesum_HZ                     -0.147911\n",
       "codesum_RA                      0.094703\n",
       "codesum_RA BR                  -0.229606\n",
       "codesum_RA BR HZ               -0.065987\n",
       "codesum_RA DZ                   0.000000\n",
       "codesum_RA DZ BR                0.000000\n",
       "codesum_RA HZ                   0.000000\n",
       "codesum_TS                     -0.098606\n",
       "codesum_TS BR                   0.112491\n",
       "codesum_TS RA                  -0.317572\n",
       "codesum_TS TSRA BR              0.000000\n",
       "codesum_TS TSRA BR HZ          -0.169877\n",
       "codesum_TS TSRA RA              0.233111\n",
       "codesum_TS TSRA RA BR           0.352855\n",
       "codesum_TS TSRA RA BR HZ VCTS  -0.237674\n",
       "codesum_TS TSRA RA FG BR HZ     0.069291\n",
       "codesum_TS TSRA RA VCTS        -0.253123\n",
       "codesum_TSRA                   -0.428984\n",
       "codesum_TSRA BR                 0.012895\n",
       "codesum_TSRA BR HZ VCTS        -0.592777\n",
       "codesum_TSRA FG+ BR HZ          0.000000\n",
       "codesum_TSRA RA                 0.346790\n",
       "codesum_TSRA RA BR              0.000000\n",
       "codesum_TSRA RA BR HZ           0.000000\n",
       "codesum_TSRA RA BR HZ VCTS      0.000000\n",
       "codesum_TSRA RA BR VCTS         0.064006\n",
       "codesum_TSRA RA VCTS            0.000000\n",
       "codesum_VCTS                    0.019338"
      ]
     },
     "execution_count": 279,
     "metadata": {},
     "output_type": "execute_result"
    }
   ],
   "source": [
    "lasso_coef"
   ]
  },
  {
   "cell_type": "code",
   "execution_count": 281,
   "id": "3753fd06",
   "metadata": {},
   "outputs": [
    {
     "data": {
      "text/html": [
       "<div>\n",
       "<style scoped>\n",
       "    .dataframe tbody tr th:only-of-type {\n",
       "        vertical-align: middle;\n",
       "    }\n",
       "\n",
       "    .dataframe tbody tr th {\n",
       "        vertical-align: top;\n",
       "    }\n",
       "\n",
       "    .dataframe thead th {\n",
       "        text-align: right;\n",
       "    }\n",
       "</style>\n",
       "<table border=\"1\" class=\"dataframe\">\n",
       "  <thead>\n",
       "    <tr style=\"text-align: right;\">\n",
       "      <th></th>\n",
       "      <th>coef</th>\n",
       "    </tr>\n",
       "  </thead>\n",
       "  <tbody>\n",
       "    <tr>\n",
       "      <th>BR</th>\n",
       "      <td>0.0</td>\n",
       "    </tr>\n",
       "    <tr>\n",
       "      <th>VCTS</th>\n",
       "      <td>0.0</td>\n",
       "    </tr>\n",
       "    <tr>\n",
       "      <th>BCFG</th>\n",
       "      <td>0.0</td>\n",
       "    </tr>\n",
       "    <tr>\n",
       "      <th>FG</th>\n",
       "      <td>0.0</td>\n",
       "    </tr>\n",
       "    <tr>\n",
       "      <th>FG+</th>\n",
       "      <td>0.0</td>\n",
       "    </tr>\n",
       "    <tr>\n",
       "      <th>RA</th>\n",
       "      <td>0.0</td>\n",
       "    </tr>\n",
       "    <tr>\n",
       "      <th>year_2008</th>\n",
       "      <td>0.0</td>\n",
       "    </tr>\n",
       "    <tr>\n",
       "      <th>year_2010</th>\n",
       "      <td>0.0</td>\n",
       "    </tr>\n",
       "    <tr>\n",
       "      <th>year_2012</th>\n",
       "      <td>0.0</td>\n",
       "    </tr>\n",
       "    <tr>\n",
       "      <th>year_2014</th>\n",
       "      <td>0.0</td>\n",
       "    </tr>\n",
       "    <tr>\n",
       "      <th>trap_T002A</th>\n",
       "      <td>0.0</td>\n",
       "    </tr>\n",
       "    <tr>\n",
       "      <th>trap_T002B</th>\n",
       "      <td>0.0</td>\n",
       "    </tr>\n",
       "    <tr>\n",
       "      <th>trap_T040</th>\n",
       "      <td>0.0</td>\n",
       "    </tr>\n",
       "    <tr>\n",
       "      <th>trap_T049</th>\n",
       "      <td>0.0</td>\n",
       "    </tr>\n",
       "    <tr>\n",
       "      <th>trap_T065A</th>\n",
       "      <td>0.0</td>\n",
       "    </tr>\n",
       "    <tr>\n",
       "      <th>trap_T090A</th>\n",
       "      <td>0.0</td>\n",
       "    </tr>\n",
       "    <tr>\n",
       "      <th>trap_T090B</th>\n",
       "      <td>0.0</td>\n",
       "    </tr>\n",
       "    <tr>\n",
       "      <th>trap_T090C</th>\n",
       "      <td>0.0</td>\n",
       "    </tr>\n",
       "    <tr>\n",
       "      <th>trap_T094</th>\n",
       "      <td>0.0</td>\n",
       "    </tr>\n",
       "    <tr>\n",
       "      <th>trap_T128A</th>\n",
       "      <td>0.0</td>\n",
       "    </tr>\n",
       "    <tr>\n",
       "      <th>trap_T200A</th>\n",
       "      <td>0.0</td>\n",
       "    </tr>\n",
       "    <tr>\n",
       "      <th>trap_T200B</th>\n",
       "      <td>0.0</td>\n",
       "    </tr>\n",
       "    <tr>\n",
       "      <th>trap_T218A</th>\n",
       "      <td>0.0</td>\n",
       "    </tr>\n",
       "    <tr>\n",
       "      <th>trap_T218B</th>\n",
       "      <td>0.0</td>\n",
       "    </tr>\n",
       "    <tr>\n",
       "      <th>trap_T218C</th>\n",
       "      <td>0.0</td>\n",
       "    </tr>\n",
       "    <tr>\n",
       "      <th>trap_T234</th>\n",
       "      <td>0.0</td>\n",
       "    </tr>\n",
       "    <tr>\n",
       "      <th>codesum_BCFG BR</th>\n",
       "      <td>0.0</td>\n",
       "    </tr>\n",
       "    <tr>\n",
       "      <th>codesum_DZ</th>\n",
       "      <td>0.0</td>\n",
       "    </tr>\n",
       "    <tr>\n",
       "      <th>codesum_RA DZ</th>\n",
       "      <td>0.0</td>\n",
       "    </tr>\n",
       "    <tr>\n",
       "      <th>codesum_RA DZ BR</th>\n",
       "      <td>0.0</td>\n",
       "    </tr>\n",
       "    <tr>\n",
       "      <th>codesum_RA HZ</th>\n",
       "      <td>0.0</td>\n",
       "    </tr>\n",
       "    <tr>\n",
       "      <th>codesum_TS TSRA BR</th>\n",
       "      <td>0.0</td>\n",
       "    </tr>\n",
       "    <tr>\n",
       "      <th>codesum_TSRA FG+ BR HZ</th>\n",
       "      <td>0.0</td>\n",
       "    </tr>\n",
       "    <tr>\n",
       "      <th>codesum_TSRA RA BR</th>\n",
       "      <td>0.0</td>\n",
       "    </tr>\n",
       "    <tr>\n",
       "      <th>codesum_TSRA RA BR HZ</th>\n",
       "      <td>0.0</td>\n",
       "    </tr>\n",
       "    <tr>\n",
       "      <th>codesum_TSRA RA BR HZ VCTS</th>\n",
       "      <td>0.0</td>\n",
       "    </tr>\n",
       "    <tr>\n",
       "      <th>codesum_TSRA RA VCTS</th>\n",
       "      <td>0.0</td>\n",
       "    </tr>\n",
       "  </tbody>\n",
       "</table>\n",
       "</div>"
      ],
      "text/plain": [
       "                            coef\n",
       "BR                           0.0\n",
       "VCTS                         0.0\n",
       "BCFG                         0.0\n",
       "FG                           0.0\n",
       "FG+                          0.0\n",
       "RA                           0.0\n",
       "year_2008                    0.0\n",
       "year_2010                    0.0\n",
       "year_2012                    0.0\n",
       "year_2014                    0.0\n",
       "trap_T002A                   0.0\n",
       "trap_T002B                   0.0\n",
       "trap_T040                    0.0\n",
       "trap_T049                    0.0\n",
       "trap_T065A                   0.0\n",
       "trap_T090A                   0.0\n",
       "trap_T090B                   0.0\n",
       "trap_T090C                   0.0\n",
       "trap_T094                    0.0\n",
       "trap_T128A                   0.0\n",
       "trap_T200A                   0.0\n",
       "trap_T200B                   0.0\n",
       "trap_T218A                   0.0\n",
       "trap_T218B                   0.0\n",
       "trap_T218C                   0.0\n",
       "trap_T234                    0.0\n",
       "codesum_BCFG BR              0.0\n",
       "codesum_DZ                   0.0\n",
       "codesum_RA DZ                0.0\n",
       "codesum_RA DZ BR             0.0\n",
       "codesum_RA HZ                0.0\n",
       "codesum_TS TSRA BR           0.0\n",
       "codesum_TSRA FG+ BR HZ       0.0\n",
       "codesum_TSRA RA BR           0.0\n",
       "codesum_TSRA RA BR HZ        0.0\n",
       "codesum_TSRA RA BR HZ VCTS   0.0\n",
       "codesum_TSRA RA VCTS         0.0"
      ]
     },
     "execution_count": 281,
     "metadata": {},
     "output_type": "execute_result"
    }
   ],
   "source": [
    "lasso_0 = lasso_coef.loc[lasso_coef['coef'] == 0, :]\n",
    "lasso_0"
   ]
  },
  {
   "cell_type": "markdown",
   "id": "7fcb9453",
   "metadata": {},
   "source": [
    "With Elastic Net "
   ]
  },
  {
   "cell_type": "code",
   "execution_count": 224,
   "id": "a32d90fa",
   "metadata": {},
   "outputs": [
    {
     "ename": "ValueError",
     "evalue": "l1_ratio must be between 0 and 1; got (l1_ratio=None)",
     "output_type": "error",
     "traceback": [
      "\u001b[1;31m---------------------------------------------------------------------------\u001b[0m",
      "\u001b[1;31mValueError\u001b[0m                                Traceback (most recent call last)",
      "\u001b[1;32m~\\AppData\\Local\\Temp\\ipykernel_5488\\2343520654.py\u001b[0m in \u001b[0;36m<module>\u001b[1;34m\u001b[0m\n\u001b[0;32m      2\u001b[0m \u001b[1;33m\u001b[0m\u001b[0m\n\u001b[0;32m      3\u001b[0m \u001b[1;31m# Fit model\u001b[0m\u001b[1;33m\u001b[0m\u001b[1;33m\u001b[0m\u001b[1;33m\u001b[0m\u001b[0m\n\u001b[1;32m----> 4\u001b[1;33m \u001b[0mlogreg\u001b[0m\u001b[1;33m.\u001b[0m\u001b[0mfit\u001b[0m\u001b[1;33m(\u001b[0m\u001b[0mXsm_train2\u001b[0m\u001b[1;33m,\u001b[0m \u001b[0mysm_train2\u001b[0m\u001b[1;33m)\u001b[0m\u001b[1;33m\u001b[0m\u001b[1;33m\u001b[0m\u001b[0m\n\u001b[0m\u001b[0;32m      5\u001b[0m \u001b[1;33m\u001b[0m\u001b[0m\n\u001b[0;32m      6\u001b[0m \u001b[0mprint\u001b[0m\u001b[1;33m(\u001b[0m\u001b[1;34mf'Logistic Regression Intercept: {logreg.intercept_}'\u001b[0m\u001b[1;33m)\u001b[0m\u001b[1;33m\u001b[0m\u001b[1;33m\u001b[0m\u001b[0m\n",
      "\u001b[1;32m~\\anaconda3\\envs\\dsi\\envs\\dsi27tf\\lib\\site-packages\\sklearn\\linear_model\\_logistic.py\u001b[0m in \u001b[0;36mfit\u001b[1;34m(self, X, y, sample_weight)\u001b[0m\n\u001b[0;32m   1471\u001b[0m                 raise ValueError(\n\u001b[0;32m   1472\u001b[0m                     \u001b[1;34m\"l1_ratio must be between 0 and 1; got (l1_ratio=%r)\"\u001b[0m\u001b[1;33m\u001b[0m\u001b[1;33m\u001b[0m\u001b[0m\n\u001b[1;32m-> 1473\u001b[1;33m                     \u001b[1;33m%\u001b[0m \u001b[0mself\u001b[0m\u001b[1;33m.\u001b[0m\u001b[0ml1_ratio\u001b[0m\u001b[1;33m\u001b[0m\u001b[1;33m\u001b[0m\u001b[0m\n\u001b[0m\u001b[0;32m   1474\u001b[0m                 )\n\u001b[0;32m   1475\u001b[0m         \u001b[1;32melif\u001b[0m \u001b[0mself\u001b[0m\u001b[1;33m.\u001b[0m\u001b[0ml1_ratio\u001b[0m \u001b[1;32mis\u001b[0m \u001b[1;32mnot\u001b[0m \u001b[1;32mNone\u001b[0m\u001b[1;33m:\u001b[0m\u001b[1;33m\u001b[0m\u001b[1;33m\u001b[0m\u001b[0m\n",
      "\u001b[1;31mValueError\u001b[0m: l1_ratio must be between 0 and 1; got (l1_ratio=None)"
     ]
    }
   ],
   "source": [
    "logreg = LogisticRegression(max_iter=10_000, penalty = 'elasticnet', solver = 'saga')\n",
    "\n",
    "# Fit model\n",
    "logreg.fit(Xsm_train, ysm_train)\n",
    "\n",
    "print(f'Logistic Regression Intercept: {logreg.intercept_}')"
   ]
  },
  {
   "cell_type": "code",
   "execution_count": null,
   "id": "1a2f804d",
   "metadata": {},
   "outputs": [],
   "source": []
  },
  {
   "cell_type": "code",
   "execution_count": null,
   "id": "daa47a6b",
   "metadata": {},
   "outputs": [],
   "source": []
  },
  {
   "cell_type": "code",
   "execution_count": null,
   "id": "1d4440ae",
   "metadata": {},
   "outputs": [],
   "source": []
  },
  {
   "cell_type": "markdown",
   "id": "2e1efe1d",
   "metadata": {},
   "source": [
    "### Random Forest"
   ]
  },
  {
   "cell_type": "code",
   "execution_count": 204,
   "id": "f8eeb923",
   "metadata": {},
   "outputs": [],
   "source": [
    "rf = RandomForestClassifier(n_estimators=100)"
   ]
  },
  {
   "cell_type": "code",
   "execution_count": 205,
   "id": "69f5b967",
   "metadata": {},
   "outputs": [],
   "source": [
    "rf_params = {\n",
    "    'n_estimators': [100, 150, 200],\n",
    "    'max_depth': [3, 5, 7],\n",
    "    'max_features': ['sqrt', 'log2', 0.5,0.7],\n",
    "    'min_samples_split': [5, 10, 15],\n",
    "    'min_samples_leaf': [3, 4, 5],\n",
    "    'ccp_alpha': [0, 0.01, 0.1, 1],\n",
    "}"
   ]
  },
  {
   "cell_type": "code",
   "execution_count": 206,
   "id": "c29d4792",
   "metadata": {},
   "outputs": [],
   "source": [
    "gs_rf_0 = GridSearchCV(rf, param_grid=rf_params, cv=5, n_jobs = -1)"
   ]
  },
  {
   "cell_type": "code",
   "execution_count": 207,
   "id": "11eb598d",
   "metadata": {},
   "outputs": [
    {
     "data": {
      "text/plain": [
       "GridSearchCV(cv=5, estimator=RandomForestClassifier(), n_jobs=-1,\n",
       "             param_grid={'ccp_alpha': [0, 0.01, 0.1, 1], 'max_depth': [3, 5, 7],\n",
       "                         'max_features': ['sqrt', 'log2', 0.5, 0.7],\n",
       "                         'min_samples_leaf': [3, 4, 5],\n",
       "                         'min_samples_split': [5, 10, 15],\n",
       "                         'n_estimators': [100, 150, 200]})"
      ]
     },
     "execution_count": 207,
     "metadata": {},
     "output_type": "execute_result"
    }
   ],
   "source": [
    "gs_rf_0.fit(Xsm_train, ysm_train)\n"
   ]
  },
  {
   "cell_type": "code",
   "execution_count": 208,
   "id": "1e324920",
   "metadata": {},
   "outputs": [
    {
     "name": "stdout",
     "output_type": "stream",
     "text": [
      "0.9115548003398471\n"
     ]
    },
    {
     "data": {
      "text/plain": [
       "{'ccp_alpha': 0,\n",
       " 'max_depth': 7,\n",
       " 'max_features': 0.5,\n",
       " 'min_samples_leaf': 3,\n",
       " 'min_samples_split': 10,\n",
       " 'n_estimators': 150}"
      ]
     },
     "execution_count": 208,
     "metadata": {},
     "output_type": "execute_result"
    }
   ],
   "source": [
    "print(gs_rf_0.best_score_)\n",
    "gs_rf_0.best_params_"
   ]
  },
  {
   "cell_type": "code",
   "execution_count": 228,
   "id": "dc55e007",
   "metadata": {},
   "outputs": [
    {
     "data": {
      "text/plain": [
       "DecisionTreeClassifier(ccp_alpha=0, max_depth=7, max_features=0.5,\n",
       "                       min_samples_leaf=3, min_samples_split=10,\n",
       "                       random_state=1588085344)"
      ]
     },
     "execution_count": 228,
     "metadata": {},
     "output_type": "execute_result"
    }
   ],
   "source": [
    "gs_rf_0.best_estimator_[0]"
   ]
  },
  {
   "cell_type": "code",
   "execution_count": 294,
   "id": "c76f9da1",
   "metadata": {},
   "outputs": [
    {
     "ename": "AttributeError",
     "evalue": "'DecisionTreeClassifier' object has no attribute 'feature_names_in_'",
     "output_type": "error",
     "traceback": [
      "\u001b[1;31m---------------------------------------------------------------------------\u001b[0m",
      "\u001b[1;31mAttributeError\u001b[0m                            Traceback (most recent call last)",
      "\u001b[1;32m~\\AppData\\Local\\Temp\\ipykernel_5488\\4103323350.py\u001b[0m in \u001b[0;36m<module>\u001b[1;34m\u001b[0m\n\u001b[1;32m----> 1\u001b[1;33m \u001b[0mfeature_names\u001b[0m \u001b[1;33m=\u001b[0m \u001b[0mgs_rf_0\u001b[0m\u001b[1;33m.\u001b[0m\u001b[0mbest_estimator_\u001b[0m\u001b[1;33m[\u001b[0m\u001b[1;36m0\u001b[0m\u001b[1;33m]\u001b[0m\u001b[1;33m.\u001b[0m\u001b[0mfeature_names_in_\u001b[0m\u001b[1;33m\u001b[0m\u001b[1;33m\u001b[0m\u001b[0m\n\u001b[0m",
      "\u001b[1;31mAttributeError\u001b[0m: 'DecisionTreeClassifier' object has no attribute 'feature_names_in_'"
     ]
    }
   ],
   "source": [
    "feature_names = gs_rf_0.best_estimator_[0].feature_names_in_"
   ]
  },
  {
   "cell_type": "code",
   "execution_count": 282,
   "id": "fab2fbe2",
   "metadata": {},
   "outputs": [],
   "source": [
    "importances = gs_rf_0.best_estimator_[1].feature_importances_"
   ]
  },
  {
   "cell_type": "code",
   "execution_count": 283,
   "id": "d30ddfdb",
   "metadata": {},
   "outputs": [],
   "source": [
    "rf_params2 = {\n",
    "    'n_estimators': [150],\n",
    "    'max_depth': [7, 9,'none'],\n",
    "    'max_features': [0.4,0.5, 0.6],\n",
    "    'min_samples_split': [10],\n",
    "    'min_samples_leaf': [1,2,3],\n",
    "    'ccp_alpha': [0],\n",
    "}"
   ]
  },
  {
   "cell_type": "code",
   "execution_count": 285,
   "id": "5f224e81",
   "metadata": {},
   "outputs": [],
   "source": [
    "gs_rf_1 = GridSearchCV(rf, param_grid=rf_params2, cv=5, n_jobs = -1)"
   ]
  },
  {
   "cell_type": "code",
   "execution_count": 286,
   "id": "47d787ca",
   "metadata": {},
   "outputs": [
    {
     "name": "stderr",
     "output_type": "stream",
     "text": [
      "C:\\Users\\Asus\\anaconda3\\envs\\dsi\\envs\\dsi27tf\\lib\\site-packages\\sklearn\\model_selection\\_validation.py:372: FitFailedWarning: \n",
      "45 fits failed out of a total of 135.\n",
      "The score on these train-test partitions for these parameters will be set to nan.\n",
      "If these failures are not expected, you can try to debug them by setting error_score='raise'.\n",
      "\n",
      "Below are more details about the failures:\n",
      "--------------------------------------------------------------------------------\n",
      "45 fits failed with the following error:\n",
      "Traceback (most recent call last):\n",
      "  File \"C:\\Users\\Asus\\anaconda3\\envs\\dsi\\envs\\dsi27tf\\lib\\site-packages\\sklearn\\model_selection\\_validation.py\", line 680, in _fit_and_score\n",
      "    estimator.fit(X_train, y_train, **fit_params)\n",
      "  File \"C:\\Users\\Asus\\anaconda3\\envs\\dsi\\envs\\dsi27tf\\lib\\site-packages\\sklearn\\ensemble\\_forest.py\", line 467, in fit\n",
      "    for i, t in enumerate(trees)\n",
      "  File \"C:\\Users\\Asus\\anaconda3\\envs\\dsi\\envs\\dsi27tf\\lib\\site-packages\\joblib\\parallel.py\", line 1043, in __call__\n",
      "    if self.dispatch_one_batch(iterator):\n",
      "  File \"C:\\Users\\Asus\\anaconda3\\envs\\dsi\\envs\\dsi27tf\\lib\\site-packages\\joblib\\parallel.py\", line 861, in dispatch_one_batch\n",
      "    self._dispatch(tasks)\n",
      "  File \"C:\\Users\\Asus\\anaconda3\\envs\\dsi\\envs\\dsi27tf\\lib\\site-packages\\joblib\\parallel.py\", line 779, in _dispatch\n",
      "    job = self._backend.apply_async(batch, callback=cb)\n",
      "  File \"C:\\Users\\Asus\\anaconda3\\envs\\dsi\\envs\\dsi27tf\\lib\\site-packages\\joblib\\_parallel_backends.py\", line 208, in apply_async\n",
      "    result = ImmediateResult(func)\n",
      "  File \"C:\\Users\\Asus\\anaconda3\\envs\\dsi\\envs\\dsi27tf\\lib\\site-packages\\joblib\\_parallel_backends.py\", line 572, in __init__\n",
      "    self.results = batch()\n",
      "  File \"C:\\Users\\Asus\\anaconda3\\envs\\dsi\\envs\\dsi27tf\\lib\\site-packages\\joblib\\parallel.py\", line 263, in __call__\n",
      "    for func, args, kwargs in self.items]\n",
      "  File \"C:\\Users\\Asus\\anaconda3\\envs\\dsi\\envs\\dsi27tf\\lib\\site-packages\\joblib\\parallel.py\", line 263, in <listcomp>\n",
      "    for func, args, kwargs in self.items]\n",
      "  File \"C:\\Users\\Asus\\anaconda3\\envs\\dsi\\envs\\dsi27tf\\lib\\site-packages\\sklearn\\utils\\fixes.py\", line 216, in __call__\n",
      "    return self.function(*args, **kwargs)\n",
      "  File \"C:\\Users\\Asus\\anaconda3\\envs\\dsi\\envs\\dsi27tf\\lib\\site-packages\\sklearn\\ensemble\\_forest.py\", line 185, in _parallel_build_trees\n",
      "    tree.fit(X, y, sample_weight=curr_sample_weight, check_input=False)\n",
      "  File \"C:\\Users\\Asus\\anaconda3\\envs\\dsi\\envs\\dsi27tf\\lib\\site-packages\\sklearn\\tree\\_classes.py\", line 942, in fit\n",
      "    X_idx_sorted=X_idx_sorted,\n",
      "  File \"C:\\Users\\Asus\\anaconda3\\envs\\dsi\\envs\\dsi27tf\\lib\\site-packages\\sklearn\\tree\\_classes.py\", line 305, in fit\n",
      "    if max_depth <= 0:\n",
      "TypeError: '<=' not supported between instances of 'str' and 'int'\n",
      "\n",
      "  warnings.warn(some_fits_failed_message, FitFailedWarning)\n",
      "C:\\Users\\Asus\\anaconda3\\envs\\dsi\\envs\\dsi27tf\\lib\\site-packages\\sklearn\\model_selection\\_search.py:972: UserWarning: One or more of the test scores are non-finite: [0.91121495 0.91112999 0.9115548  0.90943076 0.91028037 0.91028037\n",
      " 0.9097706  0.90807137 0.90824129 0.93398471 0.93322005 0.93279524\n",
      " 0.93220051 0.93347494 0.93109601 0.93186066 0.92931181 0.93024639\n",
      "        nan        nan        nan        nan        nan        nan\n",
      "        nan        nan        nan]\n",
      "  category=UserWarning,\n"
     ]
    },
    {
     "data": {
      "text/plain": [
       "GridSearchCV(cv=5, estimator=RandomForestClassifier(), n_jobs=-1,\n",
       "             param_grid={'ccp_alpha': [0], 'max_depth': [7, 9, 'none'],\n",
       "                         'max_features': [0.4, 0.5, 0.6],\n",
       "                         'min_samples_leaf': [1, 2, 3],\n",
       "                         'min_samples_split': [10], 'n_estimators': [150]})"
      ]
     },
     "execution_count": 286,
     "metadata": {},
     "output_type": "execute_result"
    }
   ],
   "source": [
    "gs_rf_1.fit(Xsm_train, ysm_train)"
   ]
  },
  {
   "cell_type": "code",
   "execution_count": 287,
   "id": "18bcf709",
   "metadata": {},
   "outputs": [
    {
     "name": "stdout",
     "output_type": "stream",
     "text": [
      "0.9339847068819033\n"
     ]
    },
    {
     "data": {
      "text/plain": [
       "{'ccp_alpha': 0,\n",
       " 'max_depth': 9,\n",
       " 'max_features': 0.4,\n",
       " 'min_samples_leaf': 1,\n",
       " 'min_samples_split': 10,\n",
       " 'n_estimators': 150}"
      ]
     },
     "execution_count": 287,
     "metadata": {},
     "output_type": "execute_result"
    }
   ],
   "source": [
    "print(gs_rf_1.best_score_)\n",
    "gs_rf_1.best_params_"
   ]
  },
  {
   "cell_type": "markdown",
   "id": "6eda4dcc",
   "metadata": {},
   "source": [
    "### Extra Trees"
   ]
  },
  {
   "cell_type": "code",
   "execution_count": 74,
   "id": "1c5d3688",
   "metadata": {},
   "outputs": [],
   "source": [
    "et = ExtraTreesClassifier(random_state=42)\n",
    "et_params = {'n_estimators': [20, 25, 30, 35],\n",
    "             'max_depth': [20, 30, 40, 50],\n",
    "             'min_samples_leaf': [2, 3, 4],\n",
    "            }"
   ]
  },
  {
   "cell_type": "code",
   "execution_count": 75,
   "id": "c944ba7a",
   "metadata": {},
   "outputs": [],
   "source": [
    "et_gs = GridSearchCV(et, \n",
    "                  param_grid=et_params, \n",
    "                  cv=5\n",
    "                 )"
   ]
  },
  {
   "cell_type": "code",
   "execution_count": 76,
   "id": "44d44316",
   "metadata": {},
   "outputs": [
    {
     "data": {
      "text/plain": [
       "0.9022157996146436"
      ]
     },
     "execution_count": 76,
     "metadata": {},
     "output_type": "execute_result"
    }
   ],
   "source": [
    "et_gs.fit(Xsm_train, ysm_train);\n",
    "et_gs.score(Xs_holdout, y_holdout)"
   ]
  },
  {
   "cell_type": "code",
   "execution_count": 77,
   "id": "505f54c1",
   "metadata": {},
   "outputs": [
    {
     "data": {
      "text/plain": [
       "ExtraTreesClassifier(max_depth=50, min_samples_leaf=2, n_estimators=35,\n",
       "                     random_state=42)"
      ]
     },
     "execution_count": 77,
     "metadata": {},
     "output_type": "execute_result"
    }
   ],
   "source": [
    "et_gs.best_estimator_"
   ]
  },
  {
   "cell_type": "code",
   "execution_count": 78,
   "id": "cb36d9e0",
   "metadata": {},
   "outputs": [
    {
     "data": {
      "text/plain": [
       "{'max_depth': 50, 'min_samples_leaf': 2, 'n_estimators': 35}"
      ]
     },
     "execution_count": 78,
     "metadata": {},
     "output_type": "execute_result"
    }
   ],
   "source": [
    "et_gs.best_params_"
   ]
  },
  {
   "cell_type": "code",
   "execution_count": 79,
   "id": "994cad7c",
   "metadata": {},
   "outputs": [
    {
     "name": "stderr",
     "output_type": "stream",
     "text": [
      "C:\\Users\\deang\\anaconda3\\envs\\dsi\\lib\\site-packages\\sklearn\\utils\\deprecation.py:87: FutureWarning: Function plot_confusion_matrix is deprecated; Function `plot_confusion_matrix` is deprecated in 1.0 and will be removed in 1.2. Use one of the class methods: ConfusionMatrixDisplay.from_predictions or ConfusionMatrixDisplay.from_estimator.\n",
      "  warnings.warn(msg, category=FutureWarning)\n"
     ]
    },
    {
     "data": {
      "image/png": "[encoded data removed]",
      "text/plain": [
       "<Figure size 432x288 with 2 Axes>"
      ]
     },
     "metadata": {
      "needs_background": "light"
     },
     "output_type": "display_data"
    }
   ],
   "source": [
    "model_metrics(et_gs, Xsm_train, ysm_train, Xs_holdout, y_holdout, 'ExtraTrees')"
   ]
  },
  {
   "cell_type": "markdown",
   "id": "922fc869",
   "metadata": {},
   "source": [
    "### SVM"
   ]
  },
  {
   "cell_type": "code",
   "execution_count": 18,
   "id": "938c8c5d",
   "metadata": {},
   "outputs": [],
   "source": [
    "# C values to GridSearch over\n",
    "svc_params = {\n",
    "        'C': [10, 20, 30],\n",
    "        'gamma':[0.01, 0.1], \n",
    "        'kernel' : ['rbf', 'sigmoid'],\n",
    "        'probability': [True]\n",
    "        }"
   ]
  },
  {
   "cell_type": "code",
   "execution_count": 19,
   "id": "e3ab1414",
   "metadata": {},
   "outputs": [
    {
     "name": "stdout",
     "output_type": "stream",
     "text": [
      "[LibSVM][LibSVM][LibSVM][LibSVM][LibSVM][LibSVM][LibSVM][LibSVM][LibSVM][LibSVM][LibSVM][LibSVM][LibSVM][LibSVM][LibSVM][LibSVM][LibSVM][LibSVM][LibSVM][LibSVM][LibSVM][LibSVM][LibSVM][LibSVM][LibSVM][LibSVM][LibSVM][LibSVM][LibSVM][LibSVM][LibSVM][LibSVM][LibSVM][LibSVM][LibSVM][LibSVM][LibSVM][LibSVM][LibSVM][LibSVM][LibSVM][LibSVM][LibSVM][LibSVM][LibSVM][LibSVM][LibSVM][LibSVM][LibSVM][LibSVM][LibSVM][LibSVM][LibSVM][LibSVM][LibSVM][LibSVM][LibSVM][LibSVM][LibSVM][LibSVM][LibSVM]"
     ]
    },
    {
     "data": {
      "text/plain": [
       "0.9084778420038536"
      ]
     },
     "execution_count": 19,
     "metadata": {},
     "output_type": "execute_result"
    }
   ],
   "source": [
    "# Instantiate and fit a gridsearch model\n",
    "svc = SVC(max_iter=20000,\n",
    "         verbose= 1)\n",
    "\n",
    "cv = StratifiedKFold(n_splits=5, shuffle=True, random_state=42)\n",
    "\n",
    "scv_gs = GridSearchCV(svc, svc_params, cv=cv)\n",
    "scv_gs.fit(Xsm_train, ysm_train);\n",
    "scv_gs.score(Xs_holdout, y_holdout)\n"
   ]
  },
  {
   "cell_type": "code",
   "execution_count": 20,
   "id": "3343f55c",
   "metadata": {},
   "outputs": [
    {
     "data": {
      "text/plain": [
       "SVC(C=20, gamma=0.01, max_iter=20000, probability=True, verbose=1)"
      ]
     },
     "execution_count": 20,
     "metadata": {},
     "output_type": "execute_result"
    }
   ],
   "source": [
    "scv_gs.best_estimator_"
   ]
  },
  {
   "cell_type": "code",
   "execution_count": 21,
   "id": "f80da36f",
   "metadata": {},
   "outputs": [
    {
     "data": {
      "text/plain": [
       "{'C': 20, 'gamma': 0.01, 'kernel': 'rbf', 'probability': True}"
      ]
     },
     "execution_count": 21,
     "metadata": {},
     "output_type": "execute_result"
    }
   ],
   "source": [
    "scv_gs.best_params_"
   ]
  },
  {
   "cell_type": "code",
   "execution_count": 22,
   "id": "367222db",
   "metadata": {},
   "outputs": [
    {
     "name": "stderr",
     "output_type": "stream",
     "text": [
      "C:\\Users\\deang\\anaconda3\\envs\\dsi\\lib\\site-packages\\sklearn\\utils\\deprecation.py:87: FutureWarning: Function plot_confusion_matrix is deprecated; Function `plot_confusion_matrix` is deprecated in 1.0 and will be removed in 1.2. Use one of the class methods: ConfusionMatrixDisplay.from_predictions or ConfusionMatrixDisplay.from_estimator.\n",
      "  warnings.warn(msg, category=FutureWarning)\n"
     ]
    },
    {
     "data": {
      "image/png": "[encoded data removed]",
      "text/plain": [
       "<Figure size 432x288 with 2 Axes>"
      ]
     },
     "metadata": {
      "needs_background": "light"
     },
     "output_type": "display_data"
    }
   ],
   "source": [
    "model_metrics(scv_gs, Xsm_train, ysm_train, Xs_holdout, y_holdout, 'SVM')"
   ]
  },
  {
   "cell_type": "markdown",
   "id": "0c20b0a4",
   "metadata": {},
   "source": [
    "### AdaBoostClassifier"
   ]
  },
  {
   "cell_type": "code",
   "execution_count": 81,
   "id": "b46b4c1e",
   "metadata": {},
   "outputs": [
    {
     "data": {
      "text/plain": [
       "0.9099229287090559"
      ]
     },
     "execution_count": 81,
     "metadata": {},
     "output_type": "execute_result"
    }
   ],
   "source": [
    "ada = AdaBoostClassifier(\n",
    "    n_estimators = 100,\n",
    "    learning_rate = 0.9\n",
    "    # in general, if n_estimators is high, then learning_rate should be low\n",
    "    # but we can use GridSearchCV\n",
    ")\n",
    "ada.fit(Xsm_train, ysm_train)\n",
    "ada.score(Xs_holdout, y_holdout)"
   ]
  },
  {
   "cell_type": "code",
   "execution_count": 82,
   "id": "efaf83be",
   "metadata": {},
   "outputs": [
    {
     "data": {
      "text/plain": [
       "0.9291907514450867"
      ]
     },
     "execution_count": 82,
     "metadata": {},
     "output_type": "execute_result"
    }
   ],
   "source": [
    "ada = AdaBoostClassifier(base_estimator=DecisionTreeClassifier())\n",
    "ada_params = {\n",
    "    'n_estimators': [50, 100, 150],\n",
    "    'base_estimator__max_depth': [1,2],\n",
    "    'learning_rate': [.8, .9, 1.]\n",
    "    # you can also tune by all hyperparameters of DecisionTree\n",
    "}\n",
    "ada_gs = GridSearchCV(\n",
    "    ada, \n",
    "    param_grid=ada_params, \n",
    "    cv=5\n",
    ")\n",
    "ada_gs.fit(Xsm_train, ysm_train)\n",
    "ada_gs.score(Xs_holdout, y_holdout)"
   ]
  },
  {
   "cell_type": "code",
   "execution_count": 83,
   "id": "9ff7b615",
   "metadata": {},
   "outputs": [],
   "source": [
    "tn, fp, fn, tp = confusion_matrix(y_holdout, ada_gs.predict(Xs_holdout)).ravel()"
   ]
  },
  {
   "cell_type": "code",
   "execution_count": 84,
   "id": "10c948a6",
   "metadata": {},
   "outputs": [
    {
     "data": {
      "text/plain": [
       "0.12280701754385964"
      ]
     },
     "execution_count": 84,
     "metadata": {},
     "output_type": "execute_result"
    }
   ],
   "source": [
    "sensitivity = tp / (tp + fn)\n",
    "sensitivity"
   ]
  },
  {
   "cell_type": "code",
   "execution_count": 85,
   "id": "94fee458",
   "metadata": {},
   "outputs": [
    {
     "data": {
      "text/plain": [
       "0.22950819672131148"
      ]
     },
     "execution_count": 85,
     "metadata": {},
     "output_type": "execute_result"
    }
   ],
   "source": [
    "precision = tp / (tp + fp)\n",
    "precision"
   ]
  },
  {
   "cell_type": "code",
   "execution_count": 86,
   "id": "031c15ec",
   "metadata": {},
   "outputs": [
    {
     "name": "stderr",
     "output_type": "stream",
     "text": [
      "C:\\Users\\deang\\anaconda3\\envs\\dsi\\lib\\site-packages\\sklearn\\utils\\deprecation.py:87: FutureWarning: Function plot_confusion_matrix is deprecated; Function `plot_confusion_matrix` is deprecated in 1.0 and will be removed in 1.2. Use one of the class methods: ConfusionMatrixDisplay.from_predictions or ConfusionMatrixDisplay.from_estimator.\n",
      "  warnings.warn(msg, category=FutureWarning)\n"
     ]
    },
    {
     "data": {
      "image/png": "[encoded data removed]",
      "text/plain": [
       "<Figure size 432x288 with 2 Axes>"
      ]
     },
     "metadata": {
      "needs_background": "light"
     },
     "output_type": "display_data"
    }
   ],
   "source": [
    "model_metrics(ada_gs, Xsm_train, ysm_train, Xs_holdout, y_holdout, 'ADA Boost Classifier')"
   ]
  },
  {
   "cell_type": "code",
   "execution_count": 87,
   "id": "1581f852",
   "metadata": {},
   "outputs": [
    {
     "data": {
      "text/html": [
       "<div>\n",
       "<style scoped>\n",
       "    .dataframe tbody tr th:only-of-type {\n",
       "        vertical-align: middle;\n",
       "    }\n",
       "\n",
       "    .dataframe tbody tr th {\n",
       "        vertical-align: top;\n",
       "    }\n",
       "\n",
       "    .dataframe thead th {\n",
       "        text-align: right;\n",
       "    }\n",
       "</style>\n",
       "<table border=\"1\" class=\"dataframe\">\n",
       "  <thead>\n",
       "    <tr style=\"text-align: right;\">\n",
       "      <th></th>\n",
       "      <th>model</th>\n",
       "      <th>best_score</th>\n",
       "      <th>train_score</th>\n",
       "      <th>holdout_score</th>\n",
       "      <th>sensitivity</th>\n",
       "      <th>specificity</th>\n",
       "      <th>precision</th>\n",
       "      <th>f1_score</th>\n",
       "      <th>best_params</th>\n",
       "    </tr>\n",
       "  </thead>\n",
       "  <tbody>\n",
       "    <tr>\n",
       "      <th>0</th>\n",
       "      <td>SVM</td>\n",
       "      <td>0.968</td>\n",
       "      <td>0.999</td>\n",
       "      <td>0.731</td>\n",
       "      <td>0.219</td>\n",
       "      <td>0.949</td>\n",
       "      <td>0.198</td>\n",
       "      <td>0.208</td>\n",
       "      <td>{'C': 20, 'gamma': 0.01, 'kernel': 'rbf', 'pro...</td>\n",
       "    </tr>\n",
       "    <tr>\n",
       "      <th>1</th>\n",
       "      <td>SVM</td>\n",
       "      <td>0.947</td>\n",
       "      <td>0.996</td>\n",
       "      <td>0.848</td>\n",
       "      <td>0.377</td>\n",
       "      <td>0.933</td>\n",
       "      <td>0.246</td>\n",
       "      <td>0.298</td>\n",
       "      <td>{'max_depth': 50, 'min_samples_leaf': 2, 'n_es...</td>\n",
       "    </tr>\n",
       "    <tr>\n",
       "      <th>2</th>\n",
       "      <td>ADA Boost Classifier</td>\n",
       "      <td>0.956</td>\n",
       "      <td>0.997</td>\n",
       "      <td>0.790</td>\n",
       "      <td>0.123</td>\n",
       "      <td>0.976</td>\n",
       "      <td>0.230</td>\n",
       "      <td>0.160</td>\n",
       "      <td>{'base_estimator__max_depth': 2, 'learning_rat...</td>\n",
       "    </tr>\n",
       "  </tbody>\n",
       "</table>\n",
       "</div>"
      ],
      "text/plain": [
       "                  model  best_score  train_score  holdout_score  sensitivity  \\\n",
       "0                   SVM       0.968        0.999          0.731        0.219   \n",
       "1                   SVM       0.947        0.996          0.848        0.377   \n",
       "2  ADA Boost Classifier       0.956        0.997          0.790        0.123   \n",
       "\n",
       "   specificity  precision  f1_score  \\\n",
       "0        0.949      0.198     0.208   \n",
       "1        0.933      0.246     0.298   \n",
       "2        0.976      0.230     0.160   \n",
       "\n",
       "                                         best_params  \n",
       "0  {'C': 20, 'gamma': 0.01, 'kernel': 'rbf', 'pro...  \n",
       "1  {'max_depth': 50, 'min_samples_leaf': 2, 'n_es...  \n",
       "2  {'base_estimator__max_depth': 2, 'learning_rat...  "
      ]
     },
     "execution_count": 87,
     "metadata": {},
     "output_type": "execute_result"
    }
   ],
   "source": [
    "summary_df"
   ]
  },
  {
   "cell_type": "code",
   "execution_count": 89,
   "id": "e30410c9",
   "metadata": {},
   "outputs": [
    {
     "name": "stdout",
     "output_type": "stream",
     "text": [
      "0.9563296516567543\n"
     ]
    },
    {
     "data": {
      "text/plain": [
       "{'base_estimator__max_depth': 2, 'learning_rate': 1.0, 'n_estimators': 100}"
      ]
     },
     "execution_count": 89,
     "metadata": {},
     "output_type": "execute_result"
    }
   ],
   "source": [
    "print(ada_gs.best_score_)\n",
    "ada_gs.best_params_"
   ]
  },
  {
   "cell_type": "code",
   "execution_count": 90,
   "id": "90a96584",
   "metadata": {},
   "outputs": [
    {
     "data": {
      "text/plain": [
       "<AxesSubplot:>"
      ]
     },
     "execution_count": 90,
     "metadata": {},
     "output_type": "execute_result"
    },
    {
     "data": {
      "image/png": "[encoded data removed]",
      "text/plain": [
       "<Figure size 432x288 with 1 Axes>"
      ]
     },
     "metadata": {
      "needs_background": "light"
     },
     "output_type": "display_data"
    }
   ],
   "source": [
    "pd.Series(ada_gs.best_estimator_.feature_importances_).plot.bar()"
   ]
  },
  {
   "cell_type": "markdown",
   "id": "ee9779eb",
   "metadata": {},
   "source": [
    "### Gradient Boosting Classifier"
   ]
  },
  {
   "cell_type": "code",
   "execution_count": 94,
   "id": "cdd856eb",
   "metadata": {},
   "outputs": [
    {
     "data": {
      "text/plain": [
       "0.9359344894026975"
      ]
     },
     "execution_count": 94,
     "metadata": {},
     "output_type": "execute_result"
    }
   ],
   "source": [
    "gboost = GradientBoostingClassifier()\n",
    "gboost_params = {\n",
    "    'max_depth': [2, 3, 4],\n",
    "    'n_estimators': [100, 125, 150],\n",
    "    'learning_rate': [.08, .1, .12]\n",
    "}\n",
    "gb_gs = GridSearchCV(\n",
    "    gboost, \n",
    "    param_grid=gboost_params, \n",
    "    cv=3\n",
    ")\n",
    "gb_gs.fit(Xsm_train, ysm_train)\n",
    "gb_gs.score(Xs_holdout, y_holdout)"
   ]
  },
  {
   "cell_type": "code",
   "execution_count": 95,
   "id": "80a3a5cc",
   "metadata": {},
   "outputs": [
    {
     "name": "stdout",
     "output_type": "stream",
     "text": [
      "0.9548892635839294\n"
     ]
    },
    {
     "data": {
      "text/plain": [
       "{'learning_rate': 0.12, 'max_depth': 4, 'n_estimators': 150}"
      ]
     },
     "execution_count": 95,
     "metadata": {},
     "output_type": "execute_result"
    }
   ],
   "source": [
    "print(gb_gs.best_score_)\n",
    "gb_gs.best_params_"
   ]
  },
  {
   "cell_type": "code",
   "execution_count": 96,
   "id": "c124392b",
   "metadata": {},
   "outputs": [],
   "source": [
    "#0.955\t0.996\t0.853\t"
   ]
  },
  {
   "cell_type": "code",
   "execution_count": 97,
   "id": "be8c7f21",
   "metadata": {},
   "outputs": [],
   "source": [
    "tn, fp, fn, tp = confusion_matrix(y_holdout, gb_gs.predict(Xs_holdout)).ravel()"
   ]
  },
  {
   "cell_type": "code",
   "execution_count": 98,
   "id": "3d1c640a",
   "metadata": {},
   "outputs": [
    {
     "data": {
      "text/plain": [
       "0.13157894736842105"
      ]
     },
     "execution_count": 98,
     "metadata": {},
     "output_type": "execute_result"
    }
   ],
   "source": [
    "sensitivity = tp / (tp + fn)\n",
    "sensitivity"
   ]
  },
  {
   "cell_type": "code",
   "execution_count": 99,
   "id": "9e2ede87",
   "metadata": {},
   "outputs": [
    {
     "data": {
      "text/plain": [
       "0.9826707441386341"
      ]
     },
     "execution_count": 99,
     "metadata": {},
     "output_type": "execute_result"
    }
   ],
   "source": [
    "specificity = tn / (tn + fp)\n",
    "specificity"
   ]
  },
  {
   "cell_type": "code",
   "execution_count": 100,
   "id": "324050d2",
   "metadata": {},
   "outputs": [
    {
     "data": {
      "text/plain": [
       "0.30612244897959184"
      ]
     },
     "execution_count": 100,
     "metadata": {},
     "output_type": "execute_result"
    }
   ],
   "source": [
    "precision = tp / (tp + fp)\n",
    "precision"
   ]
  },
  {
   "cell_type": "code",
   "execution_count": 101,
   "id": "bd98a1a8",
   "metadata": {},
   "outputs": [
    {
     "data": {
      "text/plain": [
       "array([[1928,   34],\n",
       "       [  99,   15]], dtype=int64)"
      ]
     },
     "execution_count": 101,
     "metadata": {},
     "output_type": "execute_result"
    }
   ],
   "source": [
    "confusion_matrix(y_holdout, gb_gs.predict(Xs_holdout))"
   ]
  },
  {
   "cell_type": "code",
   "execution_count": 102,
   "id": "e2cfe9b5",
   "metadata": {},
   "outputs": [
    {
     "name": "stderr",
     "output_type": "stream",
     "text": [
      "C:\\Users\\deang\\anaconda3\\envs\\dsi\\lib\\site-packages\\sklearn\\utils\\deprecation.py:87: FutureWarning: Function plot_confusion_matrix is deprecated; Function `plot_confusion_matrix` is deprecated in 1.0 and will be removed in 1.2. Use one of the class methods: ConfusionMatrixDisplay.from_predictions or ConfusionMatrixDisplay.from_estimator.\n",
      "  warnings.warn(msg, category=FutureWarning)\n"
     ]
    },
    {
     "data": {
      "image/png": "[encoded data removed]",
      "text/plain": [
       "<Figure size 432x288 with 2 Axes>"
      ]
     },
     "metadata": {
      "needs_background": "light"
     },
     "output_type": "display_data"
    }
   ],
   "source": [
    "model_metrics(gb_gs, Xsm_train, ysm_train, Xs_holdout, y_holdout, 'Gradient Boosting Classifier')"
   ]
  },
  {
   "cell_type": "code",
   "execution_count": 103,
   "id": "c281d0ac",
   "metadata": {},
   "outputs": [
    {
     "data": {
      "text/html": [
       "<div>\n",
       "<style scoped>\n",
       "    .dataframe tbody tr th:only-of-type {\n",
       "        vertical-align: middle;\n",
       "    }\n",
       "\n",
       "    .dataframe tbody tr th {\n",
       "        vertical-align: top;\n",
       "    }\n",
       "\n",
       "    .dataframe thead th {\n",
       "        text-align: right;\n",
       "    }\n",
       "</style>\n",
       "<table border=\"1\" class=\"dataframe\">\n",
       "  <thead>\n",
       "    <tr style=\"text-align: right;\">\n",
       "      <th></th>\n",
       "      <th>model</th>\n",
       "      <th>best_score</th>\n",
       "      <th>train_score</th>\n",
       "      <th>holdout_score</th>\n",
       "      <th>sensitivity</th>\n",
       "      <th>specificity</th>\n",
       "      <th>precision</th>\n",
       "      <th>f1_score</th>\n",
       "      <th>best_params</th>\n",
       "    </tr>\n",
       "  </thead>\n",
       "  <tbody>\n",
       "    <tr>\n",
       "      <th>0</th>\n",
       "      <td>SVM</td>\n",
       "      <td>0.968</td>\n",
       "      <td>0.999</td>\n",
       "      <td>0.731</td>\n",
       "      <td>0.219</td>\n",
       "      <td>0.949</td>\n",
       "      <td>0.198</td>\n",
       "      <td>0.208</td>\n",
       "      <td>{'C': 20, 'gamma': 0.01, 'kernel': 'rbf', 'pro...</td>\n",
       "    </tr>\n",
       "    <tr>\n",
       "      <th>1</th>\n",
       "      <td>SVM</td>\n",
       "      <td>0.947</td>\n",
       "      <td>0.996</td>\n",
       "      <td>0.848</td>\n",
       "      <td>0.377</td>\n",
       "      <td>0.933</td>\n",
       "      <td>0.246</td>\n",
       "      <td>0.298</td>\n",
       "      <td>{'max_depth': 50, 'min_samples_leaf': 2, 'n_es...</td>\n",
       "    </tr>\n",
       "    <tr>\n",
       "      <th>2</th>\n",
       "      <td>ADA Boost Classifier</td>\n",
       "      <td>0.956</td>\n",
       "      <td>0.997</td>\n",
       "      <td>0.790</td>\n",
       "      <td>0.123</td>\n",
       "      <td>0.976</td>\n",
       "      <td>0.230</td>\n",
       "      <td>0.160</td>\n",
       "      <td>{'base_estimator__max_depth': 2, 'learning_rat...</td>\n",
       "    </tr>\n",
       "    <tr>\n",
       "      <th>3</th>\n",
       "      <td>Gradient Boosting Classifier</td>\n",
       "      <td>0.955</td>\n",
       "      <td>0.996</td>\n",
       "      <td>0.856</td>\n",
       "      <td>0.132</td>\n",
       "      <td>0.983</td>\n",
       "      <td>0.306</td>\n",
       "      <td>0.184</td>\n",
       "      <td>{'learning_rate': 0.12, 'max_depth': 4, 'n_est...</td>\n",
       "    </tr>\n",
       "  </tbody>\n",
       "</table>\n",
       "</div>"
      ],
      "text/plain": [
       "                          model  best_score  train_score  holdout_score  \\\n",
       "0                           SVM       0.968        0.999          0.731   \n",
       "1                           SVM       0.947        0.996          0.848   \n",
       "2          ADA Boost Classifier       0.956        0.997          0.790   \n",
       "3  Gradient Boosting Classifier       0.955        0.996          0.856   \n",
       "\n",
       "   sensitivity  specificity  precision  f1_score  \\\n",
       "0        0.219        0.949      0.198     0.208   \n",
       "1        0.377        0.933      0.246     0.298   \n",
       "2        0.123        0.976      0.230     0.160   \n",
       "3        0.132        0.983      0.306     0.184   \n",
       "\n",
       "                                         best_params  \n",
       "0  {'C': 20, 'gamma': 0.01, 'kernel': 'rbf', 'pro...  \n",
       "1  {'max_depth': 50, 'min_samples_leaf': 2, 'n_es...  \n",
       "2  {'base_estimator__max_depth': 2, 'learning_rat...  \n",
       "3  {'learning_rate': 0.12, 'max_depth': 4, 'n_est...  "
      ]
     },
     "execution_count": 103,
     "metadata": {},
     "output_type": "execute_result"
    }
   ],
   "source": [
    "summary_df"
   ]
  },
  {
   "cell_type": "markdown",
   "id": "4e920531",
   "metadata": {},
   "source": [
    "### Neural Network"
   ]
  },
  {
   "cell_type": "code",
   "execution_count": 52,
   "id": "5779f6b7",
   "metadata": {},
   "outputs": [],
   "source": [
    "def model_metrics_nn(model, modelname):\n",
    "    '''Generates confusion matrix and adds scores to summary_df'''\n",
    "    #Generate confusion matrix\n",
    "    tn, fp, fn, tp = confusion_matrix(ysm_train, model.predict_classes(Xsm_train)).ravel();\n",
    "    acc_train = (tn + tp) / (tn + fp + fn + tp)\n",
    "\n",
    "    y_pred = model.predict_classes(Xs_holdout)\n",
    "    confusion_matrix(y_holdout, # True values.\n",
    "                     y_pred)  # Predicted values.\n",
    "    tn, fp, fn, tp = confusion_matrix(y_holdout, y_pred).ravel();\n",
    "    acc = (tn + tp) / (tn + fp + fn + tp)\n",
    "    sens = tp / (tp + fn)\n",
    "    spec = tn / (tn + fp)\n",
    "    prec = tp / (tp + fp)\n",
    "    f1_score = 2 * (prec*sens) / (prec + sens)\n",
    "\n",
    "\n",
    "    summary_df_rows = summary_df.shape[0]\n",
    "    # Adding the scores into summary_df\n",
    "    summary_df.loc[summary_df_rows] = [\n",
    "        modelname,\n",
    "        '',\n",
    "        round(acc_train,3), # accuracy of train\n",
    "        round(acc,3), # accuracy of holdout\n",
    "        round(sens,3), # sensitivity of holdout\n",
    "        round(spec,3), # specificity of holdout\n",
    "        round(prec,3), # specificity of holdout\n",
    "        round(f1_score,3), # f1 score of holdout\n",
    "        '',\n",
    "    ]"
   ]
  },
  {
   "cell_type": "code",
   "execution_count": 53,
   "id": "999e50f6",
   "metadata": {},
   "outputs": [
    {
     "ename": "NameError",
     "evalue": "name 'Sequential' is not defined",
     "output_type": "error",
     "traceback": [
      "\u001b[1;31m---------------------------------------------------------------------------\u001b[0m",
      "\u001b[1;31mNameError\u001b[0m                                 Traceback (most recent call last)",
      "\u001b[1;32m~\\AppData\\Local\\Temp\\ipykernel_5488\\1023050811.py\u001b[0m in \u001b[0;36m<module>\u001b[1;34m\u001b[0m\n\u001b[1;32m----> 1\u001b[1;33m \u001b[0mmodel\u001b[0m \u001b[1;33m=\u001b[0m \u001b[0mSequential\u001b[0m\u001b[1;33m(\u001b[0m\u001b[1;33m)\u001b[0m\u001b[1;33m\u001b[0m\u001b[1;33m\u001b[0m\u001b[0m\n\u001b[0m\u001b[0;32m      2\u001b[0m model.add(Dense(64,\n\u001b[0;32m      3\u001b[0m                 \u001b[0minput_shape\u001b[0m\u001b[1;33m=\u001b[0m\u001b[1;33m(\u001b[0m\u001b[1;36m238\u001b[0m\u001b[1;33m,\u001b[0m\u001b[1;33m)\u001b[0m\u001b[1;33m,\u001b[0m\u001b[1;33m\u001b[0m\u001b[1;33m\u001b[0m\u001b[0m\n\u001b[0;32m      4\u001b[0m                 activation='relu'))\n\u001b[0;32m      5\u001b[0m \u001b[0mmodel\u001b[0m\u001b[1;33m.\u001b[0m\u001b[0madd\u001b[0m\u001b[1;33m(\u001b[0m\u001b[0mDense\u001b[0m\u001b[1;33m(\u001b[0m\u001b[1;36m1\u001b[0m\u001b[1;33m,\u001b[0m \u001b[0mactivation\u001b[0m\u001b[1;33m=\u001b[0m\u001b[1;34m'sigmoid'\u001b[0m\u001b[1;33m)\u001b[0m\u001b[1;33m)\u001b[0m\u001b[1;33m\u001b[0m\u001b[1;33m\u001b[0m\u001b[0m\n",
      "\u001b[1;31mNameError\u001b[0m: name 'Sequential' is not defined"
     ]
    }
   ],
   "source": [
    "model = Sequential()\n",
    "model.add(Dense(64,\n",
    "                input_shape=(238,),\n",
    "                activation='relu'))\n",
    "model.add(Dense(1, activation='sigmoid'))"
   ]
  },
  {
   "cell_type": "code",
   "execution_count": null,
   "id": "e9073342",
   "metadata": {},
   "outputs": [],
   "source": [
    "model.compile(loss='binary_crossentropy', metrics=['accuracy'], optimizer='adam')"
   ]
  },
  {
   "cell_type": "code",
   "execution_count": null,
   "id": "1c5bd14e",
   "metadata": {},
   "outputs": [],
   "source": [
    "history = model.fit(Xsm_train, ysm_train, validation_data=(Xs_holdout, y_holdout), epochs=2, batch_size=512, verbose=0)"
   ]
  },
  {
   "cell_type": "code",
   "execution_count": null,
   "id": "6f105544",
   "metadata": {},
   "outputs": [],
   "source": [
    "plt.plot(history.history['loss'], label='Train loss')\n",
    "plt.plot(history.history['val_loss'], label='Val Loss')\n",
    "plt.legend();"
   ]
  },
  {
   "cell_type": "code",
   "execution_count": null,
   "id": "9e05a0f2",
   "metadata": {},
   "outputs": [],
   "source": [
    "plt.plot(history.history['accuracy'], label='Train accuracy')\n",
    "plt.plot(history.history['val_accuracy'], label='Val accuracy')\n",
    "plt.legend();"
   ]
  },
  {
   "cell_type": "code",
   "execution_count": 54,
   "id": "7e75708b",
   "metadata": {},
   "outputs": [
    {
     "ename": "NameError",
     "evalue": "name 'model' is not defined",
     "output_type": "error",
     "traceback": [
      "\u001b[1;31m---------------------------------------------------------------------------\u001b[0m",
      "\u001b[1;31mNameError\u001b[0m                                 Traceback (most recent call last)",
      "\u001b[1;32m~\\AppData\\Local\\Temp\\ipykernel_5488\\3857928185.py\u001b[0m in \u001b[0;36m<module>\u001b[1;34m\u001b[0m\n\u001b[1;32m----> 1\u001b[1;33m \u001b[0mmodel_metrics_nn\u001b[0m\u001b[1;33m(\u001b[0m\u001b[0mmodel\u001b[0m\u001b[1;33m,\u001b[0m \u001b[1;34m'Neural Network'\u001b[0m\u001b[1;33m)\u001b[0m\u001b[1;33m\u001b[0m\u001b[1;33m\u001b[0m\u001b[0m\n\u001b[0m",
      "\u001b[1;31mNameError\u001b[0m: name 'model' is not defined"
     ]
    }
   ],
   "source": [
    "model_metrics_nn(model, 'Neural Network')"
   ]
  },
  {
   "cell_type": "code",
   "execution_count": null,
   "id": "580cccc8",
   "metadata": {},
   "outputs": [],
   "source": [
    "summary_df"
   ]
  },
  {
   "cell_type": "markdown",
   "id": "c0a3d4bb",
   "metadata": {},
   "source": [
    "### Neural Network with Dropout"
   ]
  },
  {
   "cell_type": "code",
   "execution_count": null,
   "id": "aa90b817",
   "metadata": {},
   "outputs": [],
   "source": [
    "Xsm_train.shape[1]"
   ]
  },
  {
   "cell_type": "code",
   "execution_count": null,
   "id": "63035b62",
   "metadata": {},
   "outputs": [],
   "source": [
    "# the turn-on and off are during each mini-batch run\n",
    "\n",
    "from tensorflow.keras.layers import Dropout\n",
    "\n",
    "model_dropout = Sequential()\n",
    "\n",
    "n_input = Xsm_train.shape[1]\n",
    "n_hidden = n_input\n",
    "\n",
    "model_dropout.add(Dense(n_hidden, input_dim=n_input, activation='relu'))\n",
    "model_dropout.add(Dropout(0.2))\n",
    "model_dropout.add(Dense(64, activation='relu'))\n",
    "model_dropout.add(Dropout(0.2))\n",
    "model_dropout.add(Dense(1, activation='sigmoid'))\n",
    "\n",
    "model_dropout.compile(loss='binary_crossentropy', optimizer='adam', metrics=['accuracy'])\n",
    "\n",
    "# history = model.fit(Xsm_train, ysm_train, validation_data=(Xs_holdout, y_holdout), epochs=2, batch_size=512, verbose=0)\n",
    "history_dropout = model_dropout.fit(\n",
    "    Xsm_train,\n",
    "    ysm_train,\n",
    "    validation_data=(Xs_holdout, y_holdout), \n",
    "    epochs=1,\n",
    "    batch_size=None\n",
    ")"
   ]
  },
  {
   "cell_type": "code",
   "execution_count": null,
   "id": "81506f18",
   "metadata": {},
   "outputs": [],
   "source": [
    "model_metrics_nn(model_dropout, 'Neural Network with Dropout')"
   ]
  },
  {
   "cell_type": "code",
   "execution_count": null,
   "id": "0e7798d1",
   "metadata": {
    "scrolled": true
   },
   "outputs": [],
   "source": [
    "summary_df"
   ]
  },
  {
   "cell_type": "markdown",
   "id": "f9230e53",
   "metadata": {},
   "source": [
    "### Neural Network with Early Stopping"
   ]
  },
  {
   "cell_type": "code",
   "execution_count": null,
   "id": "14b1b04e",
   "metadata": {},
   "outputs": [],
   "source": [
    "from tensorflow.keras.callbacks import EarlyStopping\n",
    "\n",
    "# Build model using early stopping\n",
    "model_es = Sequential()\n",
    "\n",
    "n_input = Xsm_train.shape[1]\n",
    "\n",
    "model_es.add(Dense(64, input_dim=n_input, activation='relu'))\n",
    "model_es.add(Dense(1, activation='sigmoid'))\n",
    "\n",
    "model_es.compile(loss='binary_crossentropy', optimizer='adam', metrics=['accuracy'])\n",
    "\n",
    "early_stop = EarlyStopping(monitor='val_loss', min_delta=0, patience=5, verbose=1, mode='auto')\n",
    "\n",
    "history_es = model_es.fit(\n",
    "    Xsm_train,\n",
    "    ysm_train,\n",
    "    validation_data=(Xs_holdout, y_holdout),\n",
    "    epochs=1,\n",
    "    batch_size=None,\n",
    "    callbacks=[early_stop]\n",
    ")"
   ]
  },
  {
   "cell_type": "code",
   "execution_count": null,
   "id": "ab5781f6",
   "metadata": {},
   "outputs": [],
   "source": [
    "model_metrics_nn(model_es, 'Neural Network with Early Stopping')"
   ]
  },
  {
   "cell_type": "code",
   "execution_count": null,
   "id": "fbae2c27",
   "metadata": {},
   "outputs": [],
   "source": [
    "summary_df"
   ]
  },
  {
   "cell_type": "markdown",
   "id": "bb68f689",
   "metadata": {},
   "source": [
    "### AUC-ROC Curve"
   ]
  },
  {
   "cell_type": "code",
   "execution_count": 104,
   "id": "3a5563ae",
   "metadata": {},
   "outputs": [
    {
     "name": "stderr",
     "output_type": "stream",
     "text": [
      "C:\\Users\\deang\\anaconda3\\envs\\dsi\\lib\\site-packages\\sklearn\\utils\\deprecation.py:87: FutureWarning: Function plot_roc_curve is deprecated; Function :func:`plot_roc_curve` is deprecated in 1.0 and will be removed in 1.2. Use one of the class methods: :meth:`sklearn.metric.RocCurveDisplay.from_predictions` or :meth:`sklearn.metric.RocCurveDisplay.from_estimator`.\n",
      "  warnings.warn(msg, category=FutureWarning)\n",
      "C:\\Users\\deang\\anaconda3\\envs\\dsi\\lib\\site-packages\\sklearn\\utils\\deprecation.py:87: FutureWarning: Function plot_roc_curve is deprecated; Function :func:`plot_roc_curve` is deprecated in 1.0 and will be removed in 1.2. Use one of the class methods: :meth:`sklearn.metric.RocCurveDisplay.from_predictions` or :meth:`sklearn.metric.RocCurveDisplay.from_estimator`.\n",
      "  warnings.warn(msg, category=FutureWarning)\n",
      "C:\\Users\\deang\\anaconda3\\envs\\dsi\\lib\\site-packages\\sklearn\\utils\\deprecation.py:87: FutureWarning: Function plot_roc_curve is deprecated; Function :func:`plot_roc_curve` is deprecated in 1.0 and will be removed in 1.2. Use one of the class methods: :meth:`sklearn.metric.RocCurveDisplay.from_predictions` or :meth:`sklearn.metric.RocCurveDisplay.from_estimator`.\n",
      "  warnings.warn(msg, category=FutureWarning)\n",
      "C:\\Users\\deang\\anaconda3\\envs\\dsi\\lib\\site-packages\\sklearn\\utils\\deprecation.py:87: FutureWarning: Function plot_roc_curve is deprecated; Function :func:`plot_roc_curve` is deprecated in 1.0 and will be removed in 1.2. Use one of the class methods: :meth:`sklearn.metric.RocCurveDisplay.from_predictions` or :meth:`sklearn.metric.RocCurveDisplay.from_estimator`.\n",
      "  warnings.warn(msg, category=FutureWarning)\n",
      "C:\\Users\\deang\\anaconda3\\envs\\dsi\\lib\\site-packages\\sklearn\\utils\\deprecation.py:87: FutureWarning: Function plot_roc_curve is deprecated; Function :func:`plot_roc_curve` is deprecated in 1.0 and will be removed in 1.2. Use one of the class methods: :meth:`sklearn.metric.RocCurveDisplay.from_predictions` or :meth:`sklearn.metric.RocCurveDisplay.from_estimator`.\n",
      "  warnings.warn(msg, category=FutureWarning)\n"
     ]
    },
    {
     "data": {
      "text/plain": [
       "<matplotlib.legend.Legend at 0x10e7d280460>"
      ]
     },
     "execution_count": 104,
     "metadata": {},
     "output_type": "execute_result"
    },
    {
     "data": {
      "image/png": "[encoded data removed]",
      "text/plain": [
       "<Figure size 864x720 with 1 Axes>"
      ]
     },
     "metadata": {
      "needs_background": "light"
     },
     "output_type": "display_data"
    }
   ],
   "source": [
    "fig, ax = plt.subplots(1, 1, figsize=(12,10))\n",
    "plot_roc_curve(logreg, Xs_holdout, y_holdout, ax=ax, name='LogisticRegression')\n",
    "plot_roc_curve(scv_gs, Xs_holdout, y_holdout, ax=ax, name='SVM')\n",
    "plot_roc_curve(et_gs, Xs_holdout, y_holdout, ax=ax, name='ExraTrees')\n",
    "plot_roc_curve(ada_gs, Xs_holdout, y_holdout, ax=ax, name='ADABoost', color='blue')\n",
    "plot_roc_curve(gb_gs, Xs_holdout, y_holdout, ax=ax, name='GradientBoost', color='blue')\n",
    "plt.plot([0, 1], [0, 1], color='black', lw=2, linestyle='--', label='Random Guess')\n",
    "plt.legend()"
   ]
  },
  {
   "cell_type": "code",
   "execution_count": null,
   "id": "561af039",
   "metadata": {},
   "outputs": [],
   "source": []
  }
 ],
 "metadata": {
  "kernelspec": {
   "display_name": "Python 3 (ipykernel)",
   "language": "python",
   "name": "python3"
  },
  "language_info": {
   "codemirror_mode": {
    "name": "ipython",
    "version": 3
   },
   "file_extension": ".py",
   "mimetype": "text/x-python",
   "name": "python",
   "nbconvert_exporter": "python",
   "pygments_lexer": "ipython3",
   "version": "3.7.13"
  }
 },
 "nbformat": 4,
 "nbformat_minor": 5
}
