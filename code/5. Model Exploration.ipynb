{
 "cells": [
  {
   "cell_type": "markdown",
   "id": "17eb5c7b",
   "metadata": {},
   "source": [
    "# Project 4: Predict West Nile Virus\n",
    "### Section 5. Model Exploration"
   ]
  },
  {
   "cell_type": "markdown",
   "id": "b70e632a",
   "metadata": {},
   "source": [
    "## Problem Statement\n",
    "\n",
    "1. As an employee of Disease And Treatment Agency, division of Societal Cures In Epidemiology and New Creative Engineering (DATA-SCIENCE), we are tasked to better understand the mosquito population and advise on appropriate interventions which are beneficial and cost-effective for the city.\n",
    "\n",
    "\n",
    "2. Through this project, we hope to:\n",
    "- Identify features which are most important to predict presence of West Nile Virus (which can be done by ranking the coefficients of each feature in a logistic regression model)\n",
    "- Predict the probability of West Nile Virus by location to provide decision makers an effective plan to deploy pesticides throughout the city, which consequently can help to reduce cost."
   ]
  },
  {
   "cell_type": "markdown",
   "id": "ae082b06",
   "metadata": {},
   "source": [
    "## Import Libraries"
   ]
  },
  {
   "cell_type": "code",
   "execution_count": 1,
   "id": "7909f27f",
   "metadata": {},
   "outputs": [],
   "source": [
    "#!pip install shapely\n",
    "import pandas as pd\n",
    "import matplotlib.pyplot as plt\n",
    "import seaborn as sns\n",
    "# from shapely import geometry\n",
    "# from shapely.geometry import Point, Polygon\n",
    "# import geopandas as gpd\n",
    "# from datetime import timedelta\n",
    "# import math\n",
    "\n",
    "from sklearn.preprocessing import StandardScaler\n",
    "from sklearn.model_selection import train_test_split, GridSearchCV, RandomizedSearchCV\n",
    "from sklearn.pipeline import Pipeline\n",
    "from sklearn.linear_model import LogisticRegression\n",
    "from sklearn.naive_bayes import MultinomialNB\n",
    "from sklearn.ensemble import RandomForestClassifier\n",
    "from sklearn.svm import SVC\n",
    "from sklearn.metrics import confusion_matrix, plot_confusion_matrix"
   ]
  },
  {
   "cell_type": "markdown",
   "id": "d9c25ebe",
   "metadata": {},
   "source": [
    "## Load Data"
   ]
  },
  {
   "cell_type": "code",
   "execution_count": 2,
   "id": "4ab149da",
   "metadata": {},
   "outputs": [],
   "source": [
    "# Load datasets\n",
    "df = pd.read_csv('../data/final_df.csv', index_col='Unnamed: 0')"
   ]
  },
  {
   "cell_type": "code",
   "execution_count": 3,
   "id": "4903760a",
   "metadata": {},
   "outputs": [
    {
     "name": "stdout",
     "output_type": "stream",
     "text": [
      "(8304, 252)\n",
      "(43035, 252)\n"
     ]
    }
   ],
   "source": [
    "# Split into train and test (kaggle) data \n",
    "train = df[df['dataset']=='train'].copy()\n",
    "test = df[df['dataset']=='test'].copy()\n",
    "print(train.shape)\n",
    "print(test.shape)"
   ]
  },
  {
   "cell_type": "code",
   "execution_count": 4,
   "id": "6d36cf6c",
   "metadata": {},
   "outputs": [],
   "source": [
    "train.drop(columns='dataset', inplace=True)\n",
    "test.drop(columns='dataset', inplace=True)"
   ]
  },
  {
   "cell_type": "code",
   "execution_count": 5,
   "id": "81c44181",
   "metadata": {
    "scrolled": true
   },
   "outputs": [
    {
     "data": {
      "text/html": [
       "<div>\n",
       "<style scoped>\n",
       "    .dataframe tbody tr th:only-of-type {\n",
       "        vertical-align: middle;\n",
       "    }\n",
       "\n",
       "    .dataframe tbody tr th {\n",
       "        vertical-align: top;\n",
       "    }\n",
       "\n",
       "    .dataframe thead th {\n",
       "        text-align: right;\n",
       "    }\n",
       "</style>\n",
       "<table border=\"1\" class=\"dataframe\">\n",
       "  <thead>\n",
       "    <tr style=\"text-align: right;\">\n",
       "      <th></th>\n",
       "      <th>latitude</th>\n",
       "      <th>longitude</th>\n",
       "      <th>nummosquitos</th>\n",
       "      <th>tmax</th>\n",
       "      <th>tmin</th>\n",
       "      <th>tavg</th>\n",
       "      <th>depart</th>\n",
       "      <th>dewpoint</th>\n",
       "      <th>wetbulb</th>\n",
       "      <th>heat</th>\n",
       "      <th>...</th>\n",
       "      <th>codesum_TSRA BR HZ VCTS</th>\n",
       "      <th>codesum_TSRA FG+ BR HZ</th>\n",
       "      <th>codesum_TSRA RA</th>\n",
       "      <th>codesum_TSRA RA BR</th>\n",
       "      <th>codesum_TSRA RA BR HZ</th>\n",
       "      <th>codesum_TSRA RA BR HZ VCTS</th>\n",
       "      <th>codesum_TSRA RA BR VCTS</th>\n",
       "      <th>codesum_TSRA RA VCTS</th>\n",
       "      <th>codesum_VCTS</th>\n",
       "      <th>wnvpresent</th>\n",
       "    </tr>\n",
       "  </thead>\n",
       "  <tbody>\n",
       "    <tr>\n",
       "      <th>count</th>\n",
       "      <td>8304.000000</td>\n",
       "      <td>8304.000000</td>\n",
       "      <td>8304.000000</td>\n",
       "      <td>8304.000000</td>\n",
       "      <td>8304.000000</td>\n",
       "      <td>8304.000000</td>\n",
       "      <td>8304.000000</td>\n",
       "      <td>8304.000000</td>\n",
       "      <td>8304.000000</td>\n",
       "      <td>8304.000000</td>\n",
       "      <td>...</td>\n",
       "      <td>8304.000000</td>\n",
       "      <td>8304.0</td>\n",
       "      <td>8304.000000</td>\n",
       "      <td>8304.000000</td>\n",
       "      <td>8304.0</td>\n",
       "      <td>8304.0</td>\n",
       "      <td>8304.000000</td>\n",
       "      <td>8304.0</td>\n",
       "      <td>8304.000000</td>\n",
       "      <td>8304.000000</td>\n",
       "    </tr>\n",
       "    <tr>\n",
       "      <th>mean</th>\n",
       "      <td>41.845800</td>\n",
       "      <td>-87.696229</td>\n",
       "      <td>16.095255</td>\n",
       "      <td>81.248434</td>\n",
       "      <td>62.443401</td>\n",
       "      <td>72.093931</td>\n",
       "      <td>2.591402</td>\n",
       "      <td>59.334056</td>\n",
       "      <td>64.267943</td>\n",
       "      <td>1.050819</td>\n",
       "      <td>...</td>\n",
       "      <td>0.006142</td>\n",
       "      <td>0.0</td>\n",
       "      <td>0.029383</td>\n",
       "      <td>0.037211</td>\n",
       "      <td>0.0</td>\n",
       "      <td>0.0</td>\n",
       "      <td>0.010597</td>\n",
       "      <td>0.0</td>\n",
       "      <td>0.003974</td>\n",
       "      <td>0.055034</td>\n",
       "    </tr>\n",
       "    <tr>\n",
       "      <th>std</th>\n",
       "      <td>0.106658</td>\n",
       "      <td>0.084440</td>\n",
       "      <td>69.585928</td>\n",
       "      <td>8.402787</td>\n",
       "      <td>7.802554</td>\n",
       "      <td>7.630330</td>\n",
       "      <td>6.624498</td>\n",
       "      <td>7.977426</td>\n",
       "      <td>6.911066</td>\n",
       "      <td>2.960102</td>\n",
       "      <td>...</td>\n",
       "      <td>0.078132</td>\n",
       "      <td>0.0</td>\n",
       "      <td>0.168889</td>\n",
       "      <td>0.189290</td>\n",
       "      <td>0.0</td>\n",
       "      <td>0.0</td>\n",
       "      <td>0.102402</td>\n",
       "      <td>0.0</td>\n",
       "      <td>0.062918</td>\n",
       "      <td>0.228060</td>\n",
       "    </tr>\n",
       "    <tr>\n",
       "      <th>min</th>\n",
       "      <td>41.644612</td>\n",
       "      <td>-87.930995</td>\n",
       "      <td>1.000000</td>\n",
       "      <td>57.000000</td>\n",
       "      <td>41.000000</td>\n",
       "      <td>50.000000</td>\n",
       "      <td>-12.000000</td>\n",
       "      <td>38.000000</td>\n",
       "      <td>47.000000</td>\n",
       "      <td>0.000000</td>\n",
       "      <td>...</td>\n",
       "      <td>0.000000</td>\n",
       "      <td>0.0</td>\n",
       "      <td>0.000000</td>\n",
       "      <td>0.000000</td>\n",
       "      <td>0.0</td>\n",
       "      <td>0.0</td>\n",
       "      <td>0.000000</td>\n",
       "      <td>0.0</td>\n",
       "      <td>0.000000</td>\n",
       "      <td>0.000000</td>\n",
       "    </tr>\n",
       "    <tr>\n",
       "      <th>25%</th>\n",
       "      <td>41.750498</td>\n",
       "      <td>-87.752411</td>\n",
       "      <td>2.000000</td>\n",
       "      <td>78.000000</td>\n",
       "      <td>58.000000</td>\n",
       "      <td>69.000000</td>\n",
       "      <td>-2.000000</td>\n",
       "      <td>54.000000</td>\n",
       "      <td>60.000000</td>\n",
       "      <td>0.000000</td>\n",
       "      <td>...</td>\n",
       "      <td>0.000000</td>\n",
       "      <td>0.0</td>\n",
       "      <td>0.000000</td>\n",
       "      <td>0.000000</td>\n",
       "      <td>0.0</td>\n",
       "      <td>0.0</td>\n",
       "      <td>0.000000</td>\n",
       "      <td>0.0</td>\n",
       "      <td>0.000000</td>\n",
       "      <td>0.000000</td>\n",
       "    </tr>\n",
       "    <tr>\n",
       "      <th>50%</th>\n",
       "      <td>41.862292</td>\n",
       "      <td>-87.696269</td>\n",
       "      <td>4.000000</td>\n",
       "      <td>83.000000</td>\n",
       "      <td>64.000000</td>\n",
       "      <td>73.000000</td>\n",
       "      <td>4.000000</td>\n",
       "      <td>59.000000</td>\n",
       "      <td>65.000000</td>\n",
       "      <td>0.000000</td>\n",
       "      <td>...</td>\n",
       "      <td>0.000000</td>\n",
       "      <td>0.0</td>\n",
       "      <td>0.000000</td>\n",
       "      <td>0.000000</td>\n",
       "      <td>0.0</td>\n",
       "      <td>0.0</td>\n",
       "      <td>0.000000</td>\n",
       "      <td>0.0</td>\n",
       "      <td>0.000000</td>\n",
       "      <td>0.000000</td>\n",
       "    </tr>\n",
       "    <tr>\n",
       "      <th>75%</th>\n",
       "      <td>41.947227</td>\n",
       "      <td>-87.648064</td>\n",
       "      <td>12.000000</td>\n",
       "      <td>87.000000</td>\n",
       "      <td>69.000000</td>\n",
       "      <td>78.000000</td>\n",
       "      <td>7.000000</td>\n",
       "      <td>67.000000</td>\n",
       "      <td>70.000000</td>\n",
       "      <td>0.000000</td>\n",
       "      <td>...</td>\n",
       "      <td>0.000000</td>\n",
       "      <td>0.0</td>\n",
       "      <td>0.000000</td>\n",
       "      <td>0.000000</td>\n",
       "      <td>0.0</td>\n",
       "      <td>0.0</td>\n",
       "      <td>0.000000</td>\n",
       "      <td>0.0</td>\n",
       "      <td>0.000000</td>\n",
       "      <td>0.000000</td>\n",
       "    </tr>\n",
       "    <tr>\n",
       "      <th>max</th>\n",
       "      <td>42.017430</td>\n",
       "      <td>-87.531635</td>\n",
       "      <td>2206.000000</td>\n",
       "      <td>97.000000</td>\n",
       "      <td>79.000000</td>\n",
       "      <td>87.000000</td>\n",
       "      <td>20.000000</td>\n",
       "      <td>73.000000</td>\n",
       "      <td>76.000000</td>\n",
       "      <td>15.000000</td>\n",
       "      <td>...</td>\n",
       "      <td>1.000000</td>\n",
       "      <td>0.0</td>\n",
       "      <td>1.000000</td>\n",
       "      <td>1.000000</td>\n",
       "      <td>0.0</td>\n",
       "      <td>0.0</td>\n",
       "      <td>1.000000</td>\n",
       "      <td>0.0</td>\n",
       "      <td>1.000000</td>\n",
       "      <td>1.000000</td>\n",
       "    </tr>\n",
       "  </tbody>\n",
       "</table>\n",
       "<p>8 rows × 241 columns</p>\n",
       "</div>"
      ],
      "text/plain": [
       "          latitude    longitude  nummosquitos         tmax         tmin  \\\n",
       "count  8304.000000  8304.000000   8304.000000  8304.000000  8304.000000   \n",
       "mean     41.845800   -87.696229     16.095255    81.248434    62.443401   \n",
       "std       0.106658     0.084440     69.585928     8.402787     7.802554   \n",
       "min      41.644612   -87.930995      1.000000    57.000000    41.000000   \n",
       "25%      41.750498   -87.752411      2.000000    78.000000    58.000000   \n",
       "50%      41.862292   -87.696269      4.000000    83.000000    64.000000   \n",
       "75%      41.947227   -87.648064     12.000000    87.000000    69.000000   \n",
       "max      42.017430   -87.531635   2206.000000    97.000000    79.000000   \n",
       "\n",
       "              tavg       depart     dewpoint      wetbulb         heat  ...  \\\n",
       "count  8304.000000  8304.000000  8304.000000  8304.000000  8304.000000  ...   \n",
       "mean     72.093931     2.591402    59.334056    64.267943     1.050819  ...   \n",
       "std       7.630330     6.624498     7.977426     6.911066     2.960102  ...   \n",
       "min      50.000000   -12.000000    38.000000    47.000000     0.000000  ...   \n",
       "25%      69.000000    -2.000000    54.000000    60.000000     0.000000  ...   \n",
       "50%      73.000000     4.000000    59.000000    65.000000     0.000000  ...   \n",
       "75%      78.000000     7.000000    67.000000    70.000000     0.000000  ...   \n",
       "max      87.000000    20.000000    73.000000    76.000000    15.000000  ...   \n",
       "\n",
       "       codesum_TSRA BR HZ VCTS  codesum_TSRA FG+ BR HZ  codesum_TSRA RA  \\\n",
       "count              8304.000000                  8304.0      8304.000000   \n",
       "mean                  0.006142                     0.0         0.029383   \n",
       "std                   0.078132                     0.0         0.168889   \n",
       "min                   0.000000                     0.0         0.000000   \n",
       "25%                   0.000000                     0.0         0.000000   \n",
       "50%                   0.000000                     0.0         0.000000   \n",
       "75%                   0.000000                     0.0         0.000000   \n",
       "max                   1.000000                     0.0         1.000000   \n",
       "\n",
       "       codesum_TSRA RA BR  codesum_TSRA RA BR HZ  codesum_TSRA RA BR HZ VCTS  \\\n",
       "count         8304.000000                 8304.0                      8304.0   \n",
       "mean             0.037211                    0.0                         0.0   \n",
       "std              0.189290                    0.0                         0.0   \n",
       "min              0.000000                    0.0                         0.0   \n",
       "25%              0.000000                    0.0                         0.0   \n",
       "50%              0.000000                    0.0                         0.0   \n",
       "75%              0.000000                    0.0                         0.0   \n",
       "max              1.000000                    0.0                         0.0   \n",
       "\n",
       "       codesum_TSRA RA BR VCTS  codesum_TSRA RA VCTS  codesum_VCTS  \\\n",
       "count              8304.000000                8304.0   8304.000000   \n",
       "mean                  0.010597                   0.0      0.003974   \n",
       "std                   0.102402                   0.0      0.062918   \n",
       "min                   0.000000                   0.0      0.000000   \n",
       "25%                   0.000000                   0.0      0.000000   \n",
       "50%                   0.000000                   0.0      0.000000   \n",
       "75%                   0.000000                   0.0      0.000000   \n",
       "max                   1.000000                   0.0      1.000000   \n",
       "\n",
       "        wnvpresent  \n",
       "count  8304.000000  \n",
       "mean      0.055034  \n",
       "std       0.228060  \n",
       "min       0.000000  \n",
       "25%       0.000000  \n",
       "50%       0.000000  \n",
       "75%       0.000000  \n",
       "max       1.000000  \n",
       "\n",
       "[8 rows x 241 columns]"
      ]
     },
     "execution_count": 5,
     "metadata": {},
     "output_type": "execute_result"
    }
   ],
   "source": [
    "train.describe()"
   ]
  },
  {
   "cell_type": "code",
   "execution_count": 6,
   "id": "2b99df22",
   "metadata": {},
   "outputs": [
    {
     "name": "stdout",
     "output_type": "stream",
     "text": [
      "<class 'pandas.core.frame.DataFrame'>\n",
      "Int64Index: 8304 entries, 0 to 8303\n",
      "Columns: 251 entries, latitude to wnvpresent\n",
      "dtypes: bool(10), float64(14), int64(227)\n",
      "memory usage: 15.4 MB\n"
     ]
    }
   ],
   "source": [
    "train.info()"
   ]
  },
  {
   "cell_type": "markdown",
   "id": "a7fffede",
   "metadata": {},
   "source": [
    "## Preparing Train-Test (Kaggle) Data and Further Split Train Data into Train and Holdout"
   ]
  },
  {
   "cell_type": "code",
   "execution_count": 7,
   "id": "0b20422d",
   "metadata": {},
   "outputs": [],
   "source": [
    "# Split train data into X (all features except wnvpresent) and y (wnvpresent)\n",
    "features = [col for col in train.columns if col != 'wnvpresent']\n",
    "X = train[features]\n",
    "y = train['wnvpresent']"
   ]
  },
  {
   "cell_type": "code",
   "execution_count": 8,
   "id": "622dcd8e",
   "metadata": {},
   "outputs": [
    {
     "data": {
      "text/plain": [
       "0.0    0.944966\n",
       "1.0    0.055034\n",
       "Name: wnvpresent, dtype: float64"
      ]
     },
     "execution_count": 8,
     "metadata": {},
     "output_type": "execute_result"
    }
   ],
   "source": [
    "y.value_counts(normalize = True)"
   ]
  },
  {
   "cell_type": "code",
   "execution_count": 9,
   "id": "cf37fff3",
   "metadata": {},
   "outputs": [
    {
     "data": {
      "text/plain": [
       "[]"
      ]
     },
     "execution_count": 9,
     "metadata": {},
     "output_type": "execute_result"
    }
   ],
   "source": [
    "X.columns[X.isna().any()].tolist()"
   ]
  },
  {
   "cell_type": "markdown",
   "id": "043d9808",
   "metadata": {},
   "source": [
    "y is highly inbalance, with only about 6% of the data points having West Nile Virus. Hence, it is important to stratify proportionally to ensure that our train and holdout dataset have about the same proportion of presence and absence of West Nile Virus."
   ]
  },
  {
   "cell_type": "code",
   "execution_count": 10,
   "id": "ee5a32c1",
   "metadata": {},
   "outputs": [],
   "source": [
    "# Further split train data into train and holdout data\n",
    "X_train, X_holdout, y_train, y_holdout = train_test_split(\n",
    "    X, \n",
    "    y,\n",
    "    stratify = y,\n",
    "    random_state=42\n",
    ")"
   ]
  },
  {
   "cell_type": "markdown",
   "id": "4308775f",
   "metadata": {},
   "source": [
    "## Model Exploration"
   ]
  },
  {
   "cell_type": "markdown",
   "id": "7fc02dc0",
   "metadata": {},
   "source": [
    "### Logistic Regression"
   ]
  },
  {
   "cell_type": "code",
   "execution_count": 11,
   "id": "23641bab",
   "metadata": {},
   "outputs": [
    {
     "name": "stdout",
     "output_type": "stream",
     "text": [
      "Logistic Regression Intercept: [-0.00125884]\n",
      "Logistic Regression Coefficient: [[-4.19546654e-02  9.02612790e-02  9.63238974e-04  8.81910256e-02\n",
      "   1.49713508e-01  1.15150931e-01 -3.77111141e-01 -4.64546654e-02\n",
      "   5.52076336e-03 -1.10248842e-01  8.66833948e-02  2.44824701e-02\n",
      "  -1.26854412e-02 -3.67544860e-02 -3.01340733e-02 -3.62938586e-02\n",
      "   2.89128182e-02 -5.29547165e-04 -9.25824459e-03  1.24804375e-02\n",
      "  -2.52663245e-02 -3.34939074e-02 -3.18396111e-02 -8.99427200e-03\n",
      "  -1.16856386e-02 -9.28506257e-03  1.63652358e-02 -4.84739105e-04\n",
      "   0.00000000e+00 -3.19777847e-04  3.62399785e-02 -3.19777847e-04\n",
      "  -2.89882454e-02 -2.01029396e-02  0.00000000e+00 -7.09132351e-02\n",
      "   0.00000000e+00 -5.64048644e-02  0.00000000e+00  1.47307849e-01\n",
      "   0.00000000e+00 -3.96720566e-03 -5.50782068e-03 -9.34708902e-03\n",
      "  -1.29997848e-02 -1.78333479e-03 -2.51750881e-02  1.80591855e-03\n",
      "  -1.91776801e-02  1.29948280e-02  3.35021335e-02  2.61030148e-02\n",
      "   2.64881559e-02  5.25294378e-03  2.73969178e-02  1.67094878e-02\n",
      "  -2.42098835e-02 -3.20486405e-02 -1.50925225e-02 -8.00342369e-04\n",
      "  -7.42358850e-03  2.10954808e-02  5.48390208e-02 -1.92459361e-02\n",
      "   1.63639853e-02 -7.75768603e-02  1.38815909e-02  0.00000000e+00\n",
      "   0.00000000e+00  1.36652461e-02 -1.14914694e-03 -1.65987151e-03\n",
      "   5.53018029e-03 -2.05302857e-03  5.85769949e-03 -9.39901236e-04\n",
      "   7.06415290e-04  6.28773793e-03 -2.05075640e-03  1.01890227e-02\n",
      "   5.37274977e-03  3.15570173e-03  4.02764798e-03 -6.30313585e-03\n",
      "  -4.52003764e-03 -2.76263029e-03 -2.57402542e-03  9.58311395e-04\n",
      "   7.40117012e-03 -5.45315901e-04 -4.49085623e-03 -1.60778677e-03\n",
      "  -2.17747264e-03 -3.26149319e-03 -2.78080665e-04 -9.24902504e-04\n",
      "  -2.25637688e-03 -9.79305718e-04 -6.74588639e-05 -5.46272448e-03\n",
      "  -1.20971173e-03  3.25190014e-03 -8.42834644e-03 -4.09022971e-03\n",
      "  -3.66209758e-03 -5.21014102e-03 -2.02499069e-03 -2.09967015e-03\n",
      "   2.37845171e-04  9.94113458e-04 -1.20388404e-03  2.37759362e-04\n",
      "  -3.94428146e-03 -4.15616134e-03 -1.51949391e-03  0.00000000e+00\n",
      "   1.79040512e-03  3.50702172e-04 -4.47827238e-03  2.34022587e-03\n",
      "  -2.12123518e-03 -1.59902397e-03 -6.06651026e-03 -3.48648949e-03\n",
      "  -2.09599419e-03 -4.45992878e-04 -3.77176005e-03 -7.71108077e-04\n",
      "  -4.03607326e-03 -3.46194877e-03 -3.36277454e-03  7.44673629e-03\n",
      "  -2.83719638e-03 -9.64163565e-04 -9.67268182e-06  5.78071612e-03\n",
      "  -2.82644691e-03  1.12563686e-03  4.65726316e-03  0.00000000e+00\n",
      "   0.00000000e+00  0.00000000e+00 -8.91874308e-04 -2.51364240e-03\n",
      "  -2.09292139e-03 -3.83843922e-04  2.59348643e-03  5.03424762e-03\n",
      "  -1.74504835e-03 -4.41186135e-03 -3.10670906e-03 -6.89279699e-03\n",
      "   2.35570722e-03  1.56760906e-03  1.11034630e-03  3.65079671e-03\n",
      "   1.05645982e-03  0.00000000e+00 -1.73683792e-03  3.49032900e-03\n",
      "   1.83230752e-04 -1.85827437e-03 -1.27261526e-03  5.38180623e-03\n",
      "  -3.75608787e-03 -6.16964822e-03 -2.81244712e-03  8.68778007e-04\n",
      "  -4.51187440e-03 -1.10902502e-03 -1.79316439e-03 -3.24251036e-03\n",
      "  -5.30815482e-03 -3.02054652e-03  1.42185941e-03  5.19095791e-03\n",
      "  -2.30161113e-03 -1.82488871e-03 -1.33500337e-03 -1.56213201e-03\n",
      "  -1.06259527e-03 -1.91028688e-03 -1.09439373e-04 -4.41124214e-03\n",
      "   0.00000000e+00  0.00000000e+00 -2.14259633e-03 -5.45482195e-03\n",
      "  -5.56101850e-03  3.99229257e-03 -1.65823974e-03  0.00000000e+00\n",
      "   0.00000000e+00  0.00000000e+00 -2.94399063e-03 -3.86538015e-03\n",
      "   3.47863749e-03 -2.67188579e-03  8.36180966e-03 -2.05032321e-03\n",
      "   1.08303170e-02 -2.88713202e-03  3.17389849e-03  7.27199066e-03\n",
      "  -5.92571645e-04  7.01355586e-03  4.70349065e-03 -2.88423900e-03\n",
      "   4.20519773e-03  0.00000000e+00  3.89297976e-03 -7.16574246e-04\n",
      "  -3.78043523e-04 -4.15733400e-04  3.12056652e-02  6.57063028e-03\n",
      "   0.00000000e+00  1.18049294e-02  7.37395398e-03  0.00000000e+00\n",
      "  -1.39422620e-03  4.30970347e-03 -2.38526213e-02  1.87348089e-02\n",
      "  -3.48789662e-02 -5.86483782e-03  0.00000000e+00 -1.02914124e-02\n",
      "  -1.44979909e-03  2.41897451e-03  1.16526328e-02 -2.71796874e-03\n",
      "  -2.38981732e-03 -1.70023929e-04  1.49540054e-02  1.97831594e-02\n",
      "  -1.91791493e-03 -4.62948132e-03 -4.77170258e-04 -1.23739184e-03\n",
      "   4.38147485e-03 -2.78722452e-03  0.00000000e+00 -4.87736794e-03\n",
      "  -4.43478318e-04  0.00000000e+00  0.00000000e+00 -3.82353348e-03\n",
      "   0.00000000e+00  8.52110408e-03]]\n"
     ]
    },
    {
     "name": "stderr",
     "output_type": "stream",
     "text": [
      "C:\\Users\\deang\\anaconda3\\envs\\dsi\\lib\\site-packages\\sklearn\\linear_model\\_logistic.py:762: ConvergenceWarning: lbfgs failed to converge (status=1):\n",
      "STOP: TOTAL NO. of ITERATIONS REACHED LIMIT.\n",
      "\n",
      "Increase the number of iterations (max_iter) or scale the data as shown in:\n",
      "    https://scikit-learn.org/stable/modules/preprocessing.html\n",
      "Please also refer to the documentation for alternative solver options:\n",
      "    https://scikit-learn.org/stable/modules/linear_model.html#logistic-regression\n",
      "  n_iter_i = _check_optimize_result(\n"
     ]
    }
   ],
   "source": [
    "# Instantiate model\n",
    "logreg = LogisticRegression()\n",
    "\n",
    "# Fit model\n",
    "logreg.fit(X_train, y_train)\n",
    "\n",
    "print(f'Logistic Regression Intercept: {logreg.intercept_}')\n",
    "print(f'Logistic Regression Coefficient: {logreg.coef_}')"
   ]
  }
 ],
 "metadata": {
  "kernelspec": {
   "display_name": "Python 3 (ipykernel)",
   "language": "python",
   "name": "python3"
  },
  "language_info": {
   "codemirror_mode": {
    "name": "ipython",
    "version": 3
   },
   "file_extension": ".py",
   "mimetype": "text/x-python",
   "name": "python",
   "nbconvert_exporter": "python",
   "pygments_lexer": "ipython3",
   "version": "3.8.12"
  }
 },
 "nbformat": 4,
 "nbformat_minor": 5
}
